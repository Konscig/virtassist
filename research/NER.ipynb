{
 "cells": [
  {
   "cell_type": "markdown",
   "id": "54d7d1e2-a651-49a0-8679-afdb399291de",
   "metadata": {},
   "source": [
    "# NER in RAG"
   ]
  },
  {
   "cell_type": "code",
   "execution_count": 1,
   "id": "3ad8db59",
   "metadata": {},
   "outputs": [
    {
     "name": "stdout",
     "output_type": "stream",
     "text": [
      "Note: you may need to restart the kernel to use updated packages.\n"
     ]
    }
   ],
   "source": [
    "%pip install pandas --quiet"
   ]
  },
  {
   "cell_type": "code",
   "execution_count": 1,
   "id": "8b358331",
   "metadata": {},
   "outputs": [],
   "source": [
    "import pandas as pd"
   ]
  },
  {
   "cell_type": "code",
   "execution_count": 2,
   "id": "8a0752b6-6fa1-499f-a728-ff24a0416fe2",
   "metadata": {},
   "outputs": [],
   "source": [
    "from os import environ\n",
    "from dotenv import load_dotenv\n",
    "load_dotenv(dotenv_path=\"../.env\")\n",
    "\n",
    "confluence_host = environ.get('CONFLUENCE_HOST')\n",
    "confluence_token = environ.get('CONFLUENCE_TOKEN')\n",
    "hf_token = environ.get('HF_TOKEN')\n",
    "hf_write_token = environ.get('HF_WRITE_TOKEN')\n",
    "gigachat_token = environ.get('GIGACHAT_TOKEN')\n",
    "gigachat_pro_token = environ.get('GIGACHAT_PRO_TOKEN')\n",
    "yandex_token = environ.get('YC_API_KEY')\n",
    "openchat_host = environ.get('OPENCHAT_HOST')"
   ]
  },
  {
   "cell_type": "markdown",
   "id": "b8c1cadb",
   "metadata": {},
   "source": [
    "## Датасет"
   ]
  },
  {
   "cell_type": "markdown",
   "id": "b5627b19",
   "metadata": {},
   "source": [
    "### Загрузка датасета с Hugging Face"
   ]
  },
  {
   "cell_type": "code",
   "execution_count": 8,
   "id": "c7720f34",
   "metadata": {},
   "outputs": [
    {
     "name": "stdout",
     "output_type": "stream",
     "text": [
      "Note: you may need to restart the kernel to use updated packages.\n"
     ]
    }
   ],
   "source": [
    "%pip install datasets --quiet"
   ]
  },
  {
   "cell_type": "code",
   "execution_count": 3,
   "id": "fc108730",
   "metadata": {},
   "outputs": [
    {
     "name": "stderr",
     "output_type": "stream",
     "text": [
      "d:\\git\\virtassist\\.venv\\Lib\\site-packages\\tqdm\\auto.py:21: TqdmWarning: IProgress not found. Please update jupyter and ipywidgets. See https://ipywidgets.readthedocs.io/en/stable/user_install.html\n",
      "  from .autonotebook import tqdm as notebook_tqdm\n"
     ]
    },
    {
     "data": {
      "text/plain": [
       "(355, 67)"
      ]
     },
     "execution_count": 3,
     "metadata": {},
     "output_type": "execute_result"
    }
   ],
   "source": [
    "from datasets import load_dataset, DatasetDict\n",
    "\n",
    "dataset_qda = load_dataset(\"nizamovtimur/wikiutmn-study-gigachat\")\n",
    "if isinstance(dataset_qda, DatasetDict):\n",
    "    train_dataset_qda = dataset_qda['train'].to_pandas()\n",
    "    test_dataset_qda = dataset_qda['test'].to_pandas()\n",
    "else:\n",
    "    train_dataset_qda = pd.DataFrame()\n",
    "    test_dataset_qda = pd.DataFrame()\n",
    "len(train_dataset_qda), len(test_dataset_qda)"
   ]
  },
  {
   "cell_type": "code",
   "execution_count": 4,
   "id": "2451033a",
   "metadata": {},
   "outputs": [
    {
     "data": {
      "text/html": [
       "<div>\n",
       "<style scoped>\n",
       "    .dataframe tbody tr th:only-of-type {\n",
       "        vertical-align: middle;\n",
       "    }\n",
       "\n",
       "    .dataframe tbody tr th {\n",
       "        vertical-align: top;\n",
       "    }\n",
       "\n",
       "    .dataframe thead th {\n",
       "        text-align: right;\n",
       "    }\n",
       "</style>\n",
       "<table border=\"1\" class=\"dataframe\">\n",
       "  <thead>\n",
       "    <tr style=\"text-align: right;\">\n",
       "      <th></th>\n",
       "      <th>question</th>\n",
       "      <th>document</th>\n",
       "      <th>human_answer</th>\n",
       "    </tr>\n",
       "  </thead>\n",
       "  <tbody>\n",
       "    <tr>\n",
       "      <th>0</th>\n",
       "      <td>Где продлять студак?</td>\n",
       "      <td>Для восстановления студенческого билета Вам не...</td>\n",
       "      <td></td>\n",
       "    </tr>\n",
       "    <tr>\n",
       "      <th>1</th>\n",
       "      <td>Когда можно получить справку о стипендии?</td>\n",
       "      <td>По вопросу получения справки о доходах, размер...</td>\n",
       "      <td></td>\n",
       "    </tr>\n",
       "    <tr>\n",
       "      <th>2</th>\n",
       "      <td>Как перевестись на другое направление на заочке?</td>\n",
       "      <td>Заявления о переводе принимаются два раза в го...</td>\n",
       "      <td></td>\n",
       "    </tr>\n",
       "    <tr>\n",
       "      <th>3</th>\n",
       "      <td>Как перевестись на другое направление?</td>\n",
       "      <td>Заявления о переводе принимаются два раза в го...</td>\n",
       "      <td></td>\n",
       "    </tr>\n",
       "    <tr>\n",
       "      <th>4</th>\n",
       "      <td>Могу ли я в последний момент отказаться от сме...</td>\n",
       "      <td>Прежде, чем выбрать элективы, рекомендуем почи...</td>\n",
       "      <td></td>\n",
       "    </tr>\n",
       "    <tr>\n",
       "      <th>...</th>\n",
       "      <td>...</td>\n",
       "      <td>...</td>\n",
       "      <td>...</td>\n",
       "    </tr>\n",
       "    <tr>\n",
       "      <th>350</th>\n",
       "      <td>Как оформляются результаты промежуточной аттес...</td>\n",
       "      <td>проведения промежуточной аттестации, за исключ...</td>\n",
       "      <td></td>\n",
       "    </tr>\n",
       "    <tr>\n",
       "      <th>351</th>\n",
       "      <td>Кто несет ответственность за правильность офор...</td>\n",
       "      <td>проведения промежуточной аттестации, за исключ...</td>\n",
       "      <td></td>\n",
       "    </tr>\n",
       "    <tr>\n",
       "      <th>352</th>\n",
       "      <td>Что происходит с оценками после прохождения пр...</td>\n",
       "      <td>. 6. 10. Из ведомости, за исключением электрон...</td>\n",
       "      <td></td>\n",
       "    </tr>\n",
       "    <tr>\n",
       "      <th>353</th>\n",
       "      <td>Кто несет ответственность за правильное внесен...</td>\n",
       "      <td>. 6. 10. Из ведомости, за исключением электрон...</td>\n",
       "      <td></td>\n",
       "    </tr>\n",
       "    <tr>\n",
       "      <th>354</th>\n",
       "      <td>Кто отвечает за внесение информации о результа...</td>\n",
       "      <td>. 6. 10. Из ведомости, за исключением электрон...</td>\n",
       "      <td></td>\n",
       "    </tr>\n",
       "  </tbody>\n",
       "</table>\n",
       "<p>355 rows × 3 columns</p>\n",
       "</div>"
      ],
      "text/plain": [
       "                                              question  \\\n",
       "0                                 Где продлять студак?   \n",
       "1            Когда можно получить справку о стипендии?   \n",
       "2     Как перевестись на другое направление на заочке?   \n",
       "3               Как перевестись на другое направление?   \n",
       "4    Могу ли я в последний момент отказаться от сме...   \n",
       "..                                                 ...   \n",
       "350  Как оформляются результаты промежуточной аттес...   \n",
       "351  Кто несет ответственность за правильность офор...   \n",
       "352  Что происходит с оценками после прохождения пр...   \n",
       "353  Кто несет ответственность за правильное внесен...   \n",
       "354  Кто отвечает за внесение информации о результа...   \n",
       "\n",
       "                                              document human_answer  \n",
       "0    Для восстановления студенческого билета Вам не...               \n",
       "1    По вопросу получения справки о доходах, размер...               \n",
       "2    Заявления о переводе принимаются два раза в го...               \n",
       "3    Заявления о переводе принимаются два раза в го...               \n",
       "4    Прежде, чем выбрать элективы, рекомендуем почи...               \n",
       "..                                                 ...          ...  \n",
       "350  проведения промежуточной аттестации, за исключ...               \n",
       "351  проведения промежуточной аттестации, за исключ...               \n",
       "352  . 6. 10. Из ведомости, за исключением электрон...               \n",
       "353  . 6. 10. Из ведомости, за исключением электрон...               \n",
       "354  . 6. 10. Из ведомости, за исключением электрон...               \n",
       "\n",
       "[355 rows x 3 columns]"
      ]
     },
     "execution_count": 4,
     "metadata": {},
     "output_type": "execute_result"
    }
   ],
   "source": [
    "train_dataset_qda"
   ]
  },
  {
   "cell_type": "code",
   "execution_count": 5,
   "id": "583f3297",
   "metadata": {},
   "outputs": [
    {
     "data": {
      "text/html": [
       "<div>\n",
       "<style scoped>\n",
       "    .dataframe tbody tr th:only-of-type {\n",
       "        vertical-align: middle;\n",
       "    }\n",
       "\n",
       "    .dataframe tbody tr th {\n",
       "        vertical-align: top;\n",
       "    }\n",
       "\n",
       "    .dataframe thead th {\n",
       "        text-align: right;\n",
       "    }\n",
       "</style>\n",
       "<table border=\"1\" class=\"dataframe\">\n",
       "  <thead>\n",
       "    <tr style=\"text-align: right;\">\n",
       "      <th></th>\n",
       "      <th>question</th>\n",
       "      <th>document</th>\n",
       "      <th>human_answer</th>\n",
       "    </tr>\n",
       "  </thead>\n",
       "  <tbody>\n",
       "    <tr>\n",
       "      <th>0</th>\n",
       "      <td>Я потерял магнитную карту. К кому обратиться?</td>\n",
       "      <td>Для восстановления студенческого билета Вам не...</td>\n",
       "      <td>Если Вы потеряли магнитную карту ( пропуск, пр...</td>\n",
       "    </tr>\n",
       "    <tr>\n",
       "      <th>1</th>\n",
       "      <td>Даты подачи заявления для восстановления на очку</td>\n",
       "      <td>Заявления на восстановление в Университет по о...</td>\n",
       "      <td>Заявления на восстановление в Университет по о...</td>\n",
       "    </tr>\n",
       "    <tr>\n",
       "      <th>2</th>\n",
       "      <td>Что делать при потере проходки?</td>\n",
       "      <td>Для восстановления студенческого билета Вам не...</td>\n",
       "      <td>Если Вы потеряли магнитную карту ( пропуск, пр...</td>\n",
       "    </tr>\n",
       "    <tr>\n",
       "      <th>3</th>\n",
       "      <td>Я хожу в фитнес-клуб. Как заменить физкультуру?</td>\n",
       "      <td>Выбор спортивных секций по Физической культуре...</td>\n",
       "      <td>Для оформления посещения спортивного зала вмес...</td>\n",
       "    </tr>\n",
       "    <tr>\n",
       "      <th>4</th>\n",
       "      <td>Когда мне выдадут студенческий билет после пер...</td>\n",
       "      <td>1. Подать заявление о переводе можно лично, об...</td>\n",
       "      <td>В течение пяти рабочих дней после поступления ...</td>\n",
       "    </tr>\n",
       "    <tr>\n",
       "      <th>...</th>\n",
       "      <td>...</td>\n",
       "      <td>...</td>\n",
       "      <td>...</td>\n",
       "    </tr>\n",
       "    <tr>\n",
       "      <th>62</th>\n",
       "      <td>как закрыть физкультуру?</td>\n",
       "      <td>Выбор спортивных секций по Физической культуре...</td>\n",
       "      <td>1 ) Посещать академические занятия ( 3 балла з...</td>\n",
       "    </tr>\n",
       "    <tr>\n",
       "      <th>63</th>\n",
       "      <td>когда можно поменять элективы?</td>\n",
       "      <td>Прежде, чем выбрать элективы, рекомендуем почи...</td>\n",
       "      <td>Информация, о том, как поменять электив, отпра...</td>\n",
       "    </tr>\n",
       "    <tr>\n",
       "      <th>64</th>\n",
       "      <td>как получить справку о месте учёбы?</td>\n",
       "      <td>Студенты очной формы обучения оформляют справк...</td>\n",
       "      <td>Студенты очной формы обучения оформляют справк...</td>\n",
       "    </tr>\n",
       "    <tr>\n",
       "      <th>65</th>\n",
       "      <td>Как можно получать баллы за физру?</td>\n",
       "      <td>Выбор спортивных секций по Физической культуре...</td>\n",
       "      <td>1 ) Посещать академические занятия ( 3 балла з...</td>\n",
       "    </tr>\n",
       "    <tr>\n",
       "      <th>66</th>\n",
       "      <td>Где взять справку для военкомата?</td>\n",
       "      <td>Вам необходимо обратиться в Отдел мобилизацион...</td>\n",
       "      <td>Вам необходимо обратиться в Отдел мобилизацион...</td>\n",
       "    </tr>\n",
       "  </tbody>\n",
       "</table>\n",
       "<p>67 rows × 3 columns</p>\n",
       "</div>"
      ],
      "text/plain": [
       "                                             question  \\\n",
       "0       Я потерял магнитную карту. К кому обратиться?   \n",
       "1    Даты подачи заявления для восстановления на очку   \n",
       "2                     Что делать при потере проходки?   \n",
       "3     Я хожу в фитнес-клуб. Как заменить физкультуру?   \n",
       "4   Когда мне выдадут студенческий билет после пер...   \n",
       "..                                                ...   \n",
       "62                           как закрыть физкультуру?   \n",
       "63                     когда можно поменять элективы?   \n",
       "64                как получить справку о месте учёбы?   \n",
       "65                 Как можно получать баллы за физру?   \n",
       "66                  Где взять справку для военкомата?   \n",
       "\n",
       "                                             document  \\\n",
       "0   Для восстановления студенческого билета Вам не...   \n",
       "1   Заявления на восстановление в Университет по о...   \n",
       "2   Для восстановления студенческого билета Вам не...   \n",
       "3   Выбор спортивных секций по Физической культуре...   \n",
       "4   1. Подать заявление о переводе можно лично, об...   \n",
       "..                                                ...   \n",
       "62  Выбор спортивных секций по Физической культуре...   \n",
       "63  Прежде, чем выбрать элективы, рекомендуем почи...   \n",
       "64  Студенты очной формы обучения оформляют справк...   \n",
       "65  Выбор спортивных секций по Физической культуре...   \n",
       "66  Вам необходимо обратиться в Отдел мобилизацион...   \n",
       "\n",
       "                                         human_answer  \n",
       "0   Если Вы потеряли магнитную карту ( пропуск, пр...  \n",
       "1   Заявления на восстановление в Университет по о...  \n",
       "2   Если Вы потеряли магнитную карту ( пропуск, пр...  \n",
       "3   Для оформления посещения спортивного зала вмес...  \n",
       "4   В течение пяти рабочих дней после поступления ...  \n",
       "..                                                ...  \n",
       "62  1 ) Посещать академические занятия ( 3 балла з...  \n",
       "63  Информация, о том, как поменять электив, отпра...  \n",
       "64  Студенты очной формы обучения оформляют справк...  \n",
       "65  1 ) Посещать академические занятия ( 3 балла з...  \n",
       "66  Вам необходимо обратиться в Отдел мобилизацион...  \n",
       "\n",
       "[67 rows x 3 columns]"
      ]
     },
     "execution_count": 5,
     "metadata": {},
     "output_type": "execute_result"
    }
   ],
   "source": [
    "test_dataset_qda"
   ]
  },
  {
   "cell_type": "markdown",
   "id": "0ddbec5f",
   "metadata": {
    "jp-MarkdownHeadingCollapsed": true
   },
   "source": [
    "## Векторный индекс документов"
   ]
  },
  {
   "cell_type": "markdown",
   "id": "07f5b94d",
   "metadata": {},
   "source": [
    "### Структура БД"
   ]
  },
  {
   "cell_type": "code",
   "execution_count": null,
   "id": "053098ad",
   "metadata": {},
   "outputs": [],
   "source": [
    "!docker build ../db -t db"
   ]
  },
  {
   "cell_type": "code",
   "execution_count": 9,
   "id": "ede29dc6",
   "metadata": {},
   "outputs": [
    {
     "name": "stdout",
     "output_type": "stream",
     "text": [
      "3470db0a3cf5ae2d7e9bc8d9cc64fb84e4937b69a8e397da7ea970aba32df1c0\n"
     ]
    }
   ],
   "source": [
    "!docker run --name db --rm -p 5432:5432 --mount source=db_volume,target=/var/lib/postgresql/data --env-file ../.env -d db"
   ]
  },
  {
   "cell_type": "code",
   "execution_count": 6,
   "id": "2b0f87fa",
   "metadata": {},
   "outputs": [],
   "source": [
    "from typing import Optional\n",
    "from pgvector.sqlalchemy import Vector\n",
    "from sqlalchemy import Text, create_engine, select, text\n",
    "from sqlalchemy.orm import DeclarativeBase, Mapped, Session, mapped_column\n",
    "\n",
    "engine = create_engine(f\"postgresql://{environ.get('POSTGRES_USER')}:{environ.get('POSTGRES_PASSWORD')}@{environ.get('POSTGRES_HOST')}/{environ.get('POSTGRES_DB')}\", echo=False)"
   ]
  },
  {
   "cell_type": "code",
   "execution_count": 7,
   "id": "b7f81c4d",
   "metadata": {},
   "outputs": [],
   "source": [
    "class Base(DeclarativeBase):\n",
    "    pass\n",
    "\n",
    "class Chunk(Base):\n",
    "    __tablename__ = \"chunk\"\n",
    "    id: Mapped[int] = mapped_column(primary_key=True)\n",
    "    text: Mapped[str] = mapped_column(Text())\n",
    "    embedding: Mapped[Optional[Vector]] = mapped_column(Vector(312))"
   ]
  },
  {
   "cell_type": "code",
   "execution_count": 13,
   "id": "4f680d96",
   "metadata": {},
   "outputs": [],
   "source": [
    "with Session(engine) as session:\n",
    "    session.execute(text('CREATE EXTENSION IF NOT EXISTS vector'))\n",
    "    # session.execute(text('DROP TABLE chunk'))\n",
    "    session.commit()\n",
    "Base.metadata.create_all(engine)"
   ]
  },
  {
   "cell_type": "markdown",
   "id": "9e2ac81e",
   "metadata": {},
   "source": [
    "### Заполнение документами"
   ]
  },
  {
   "cell_type": "code",
   "execution_count": 8,
   "id": "2ab1f77b",
   "metadata": {},
   "outputs": [
    {
     "data": {
      "text/plain": [
       "42"
      ]
     },
     "execution_count": 8,
     "metadata": {},
     "output_type": "execute_result"
    }
   ],
   "source": [
    "documents = pd.concat([train_dataset_qda[\"document\"], test_dataset_qda[\"document\"]]).drop_duplicates().reset_index(drop=True)\n",
    "len(documents)"
   ]
  },
  {
   "cell_type": "code",
   "execution_count": 15,
   "id": "c81ad8ad",
   "metadata": {},
   "outputs": [],
   "source": [
    "with Session(engine) as session:\n",
    "    for document in documents:\n",
    "        doc = Chunk(\n",
    "            text=document,\n",
    "        )\n",
    "        session.add(doc)\n",
    "    session.commit()"
   ]
  },
  {
   "cell_type": "markdown",
   "id": "081f57ce",
   "metadata": {},
   "source": [
    "### Вычисление векторных представлений"
   ]
  },
  {
   "cell_type": "markdown",
   "id": "72d84f5a",
   "metadata": {},
   "source": [
    "#### RuSBERT-Tiny"
   ]
  },
  {
   "cell_type": "code",
   "execution_count": 16,
   "id": "cce30650",
   "metadata": {},
   "outputs": [
    {
     "data": {
      "text/plain": [
       "312"
      ]
     },
     "execution_count": 16,
     "metadata": {},
     "output_type": "execute_result"
    }
   ],
   "source": [
    "from sentence_transformers import SentenceTransformer\n",
    "\n",
    "# rusbert_model = SentenceTransformer('cointegrated/rubert-tiny2', device=\"cpu\")\n",
    "rusbert_model = SentenceTransformer('nizamovtimur/rubert-tiny2-wikiutmn', device=\"cpu\")\n",
    "len(rusbert_model.encode(\"мама мыла раму\"))"
   ]
  },
  {
   "cell_type": "code",
   "execution_count": 17,
   "id": "3c0d4a46",
   "metadata": {},
   "outputs": [],
   "source": [
    "with Session(engine) as session:\n",
    "   chunks = session.scalars(select(Chunk).order_by(Chunk.id)).all()\n",
    "   for chunk in chunks:\n",
    "      chunk.sbert_312 = rusbert_model.encode(chunk.text)\n",
    "      session.add(chunk)\n",
    "      session.flush()\n",
    "   session.commit()"
   ]
  },
  {
   "cell_type": "code",
   "execution_count": 18,
   "id": "47e60807",
   "metadata": {},
   "outputs": [
    {
     "data": {
      "text/plain": [
       "'Выбор спортивных секций по Физической культуре будет проходить в ИС Модеус во вкладке \" Выбор модулей \". Вам нужно будет выбрать 2 интересующие Вас спортивные секции, которые будут проходить каждую неделю в одно и то же время. Ограничения : 1 ) Записаться можно не более чем на 2 занятия в неделю 2 ) Нельзя записываться на два занятия подряд. Вас могут не допустить на занятие, если Вы были на предыдущей паре и / или уже посетили два занятия за неделю. При этом расписание на наличие конфликтов Вы проверяете самостоятельно в соответствии с Вашим расписанием в ИС Модеус и расписанием спортивных секций ( во вложенных файлах ). Ваш выбор пролонгируется до конца семестра, однако в любой момент Вы можете его изменить, отписавшись от одной секции и записавшись на другую. ВАЖНО! Студент, пропустивший два занятия подряд, будет отписан автоматически. Выбор Физической культуры откроется 06. 09. 2023 и будет открыт до конца семестра. Для успешной аттестации по дисциплине « Физическая культура : элективные курсы по видам спорта » Вы должны набрать не менее 61 балла по балльно - рейтинговой оценочной шкале. Для этого Вы можете : 1 ) Посещать академические занятия ( 3 балла за каждое занятие ) ; 2 ) Принять участие в спортивно - массовых мероприятиях университета : Днях здорового образа жизни, Маршрут Дружбы, Кросс Наций, и других ( 0 - 10 баллов за каждое мероприятие ). 3 ) Принять участите в соревнованиях по видам спорта ( 0 [UNK] 60 баллов ) ; 4 ) Выполнить ВФСК ГТО ( 0 [UNK] 60 баллов ). Для оформления посещения спортивного зала вместо практических занятий по физкультуре студент к первому занятию по физической культуре представляет тренеру - преподавателю по спорту ( куратору по физкультуре ) пакет документов ( https : / / www. utmn. ru / upload / medialibrary / 676 / Polozhenie - o - realizatsii - distsiplin - _ moduley _ - po - fizicheskoy - kulture - _ sportu _. pdf ) и приходит на зачётное мероприятие. ВАЖНО!!! Все документы должны быть предоставлены в течение первой учебной недели. Список ответственных за прием документов спортзала по институтам ( Ленина, 6 ) : 1. ИГиП, Антропошкола [UNK] Пырлич Юлия Васильевна ( y. v. pyrlich @ utmn. ru ) 2. СоцГум - Ерженин Владимир Сергеевич ( v. s. erzhenin @ utmn. ru ) 3. ФЭИ - Копякова Анна Леонидовна ( a. l. kopyakova @ utmn. ru ) 4. ИнЗем - Питулин Артём Владимирович ( a. v. pitulin @ utmn. ru ) 5. ФТИ, ИнХим, ШЕН [UNK] Пырлич Юлия Васильевна ( y. v. pyrlich @ utmn. ru ) 6. ИнБио - Криводанова Наталья Александровна ( n. a. krivodanova @ utmn. ru ) 7. Школа образования - Баянов Николай Ильич ( n. i. bayanov @ utmn. ru ) 8. ШКН - Тверских Владислав Владимирович ( vl. v. tverskikh @ utmn. ru ) # физкультура'"
      ]
     },
     "execution_count": 18,
     "metadata": {},
     "output_type": "execute_result"
    }
   ],
   "source": [
    "def answer_sbert_312(question):\n",
    "    with Session(engine) as session:\n",
    "        return session.scalars(select(Chunk)\n",
    "                        .order_by(Chunk.sbert_312.cosine_distance(\n",
    "                            rusbert_model.encode(question)\n",
    "                            )).limit(1)).first().text\n",
    "\n",
    "answer_sbert_312(\"Как поменять физкультуру?\")"
   ]
  },
  {
   "cell_type": "markdown",
   "id": "e1dcfd2a",
   "metadata": {
    "jp-MarkdownHeadingCollapsed": true
   },
   "source": [
    "### Выбор нужного фрагмента через векторный индекс"
   ]
  },
  {
   "cell_type": "code",
   "execution_count": 19,
   "id": "51734fc9",
   "metadata": {},
   "outputs": [
    {
     "data": {
      "text/html": [
       "<div>\n",
       "<style scoped>\n",
       "    .dataframe tbody tr th:only-of-type {\n",
       "        vertical-align: middle;\n",
       "    }\n",
       "\n",
       "    .dataframe tbody tr th {\n",
       "        vertical-align: top;\n",
       "    }\n",
       "\n",
       "    .dataframe thead th {\n",
       "        text-align: right;\n",
       "    }\n",
       "</style>\n",
       "<table border=\"1\" class=\"dataframe\">\n",
       "  <thead>\n",
       "    <tr style=\"text-align: right;\">\n",
       "      <th></th>\n",
       "      <th>question</th>\n",
       "      <th>document</th>\n",
       "      <th>human_answer</th>\n",
       "      <th>sbert_1024</th>\n",
       "    </tr>\n",
       "  </thead>\n",
       "  <tbody>\n",
       "    <tr>\n",
       "      <th>0</th>\n",
       "      <td>Я потерял магнитную карту. К кому обратиться?</td>\n",
       "      <td>Для восстановления студенческого билета Вам не...</td>\n",
       "      <td>Если Вы потеряли магнитную карту ( пропуск, пр...</td>\n",
       "      <td>Для восстановления студенческого билета Вам не...</td>\n",
       "    </tr>\n",
       "    <tr>\n",
       "      <th>1</th>\n",
       "      <td>Даты подачи заявления для восстановления на очку</td>\n",
       "      <td>Заявления на восстановление в Университет по о...</td>\n",
       "      <td>Заявления на восстановление в Университет по о...</td>\n",
       "      <td>Заявления на восстановление в Университет по о...</td>\n",
       "    </tr>\n",
       "    <tr>\n",
       "      <th>2</th>\n",
       "      <td>Что делать при потере проходки?</td>\n",
       "      <td>Для восстановления студенческого билета Вам не...</td>\n",
       "      <td>Если Вы потеряли магнитную карту ( пропуск, пр...</td>\n",
       "      <td>Для восстановления студенческого билета Вам не...</td>\n",
       "    </tr>\n",
       "    <tr>\n",
       "      <th>3</th>\n",
       "      <td>Я хожу в фитнес-клуб. Как заменить физкультуру?</td>\n",
       "      <td>Выбор спортивных секций по Физической культуре...</td>\n",
       "      <td>Для оформления посещения спортивного зала вмес...</td>\n",
       "      <td>Выбор спортивных секций по Физической культуре...</td>\n",
       "    </tr>\n",
       "    <tr>\n",
       "      <th>4</th>\n",
       "      <td>Когда мне выдадут студенческий билет после пер...</td>\n",
       "      <td>1. Подать заявление о переводе можно лично, об...</td>\n",
       "      <td>В течение пяти рабочих дней после поступления ...</td>\n",
       "      <td>на договорное место ). В течение пяти рабочих ...</td>\n",
       "    </tr>\n",
       "  </tbody>\n",
       "</table>\n",
       "</div>"
      ],
      "text/plain": [
       "                                            question  \\\n",
       "0      Я потерял магнитную карту. К кому обратиться?   \n",
       "1   Даты подачи заявления для восстановления на очку   \n",
       "2                    Что делать при потере проходки?   \n",
       "3    Я хожу в фитнес-клуб. Как заменить физкультуру?   \n",
       "4  Когда мне выдадут студенческий билет после пер...   \n",
       "\n",
       "                                            document  \\\n",
       "0  Для восстановления студенческого билета Вам не...   \n",
       "1  Заявления на восстановление в Университет по о...   \n",
       "2  Для восстановления студенческого билета Вам не...   \n",
       "3  Выбор спортивных секций по Физической культуре...   \n",
       "4  1. Подать заявление о переводе можно лично, об...   \n",
       "\n",
       "                                        human_answer  \\\n",
       "0  Если Вы потеряли магнитную карту ( пропуск, пр...   \n",
       "1  Заявления на восстановление в Университет по о...   \n",
       "2  Если Вы потеряли магнитную карту ( пропуск, пр...   \n",
       "3  Для оформления посещения спортивного зала вмес...   \n",
       "4  В течение пяти рабочих дней после поступления ...   \n",
       "\n",
       "                                          sbert_1024  \n",
       "0  Для восстановления студенческого билета Вам не...  \n",
       "1  Заявления на восстановление в Университет по о...  \n",
       "2  Для восстановления студенческого билета Вам не...  \n",
       "3  Выбор спортивных секций по Физической культуре...  \n",
       "4  на договорное место ). В течение пяти рабочих ...  "
      ]
     },
     "execution_count": 19,
     "metadata": {},
     "output_type": "execute_result"
    }
   ],
   "source": [
    "test_dataset_qda[\"sbert_312\"] = test_dataset_qda[\"question\"].apply(answer_sbert_312)\n",
    "test_dataset_qda.head(5)"
   ]
  },
  {
   "cell_type": "markdown",
   "id": "97effbaf",
   "metadata": {},
   "source": [
    "### Выбор лучшего алгоритма"
   ]
  },
  {
   "cell_type": "markdown",
   "id": "5b8f1f73",
   "metadata": {},
   "source": [
    "#### Accuracy"
   ]
  },
  {
   "cell_type": "code",
   "execution_count": 20,
   "id": "057b78e0",
   "metadata": {},
   "outputs": [
    {
     "name": "stdout",
     "output_type": "stream",
     "text": [
      "human_answer 0.31343283582089554\n",
      "sbert_1024 0.6119402985074627\n"
     ]
    }
   ],
   "source": [
    "for column in test_dataset_qda.columns[2:]:\n",
    "    print(column, sum(test_dataset_qda[column].apply(lambda x: \"\" if x is None else x) == test_dataset_qda.document) / len(test_dataset_qda.document))"
   ]
  },
  {
   "cell_type": "markdown",
   "id": "d6cf90ac",
   "metadata": {},
   "source": [
    "#### ROUGE-L"
   ]
  },
  {
   "cell_type": "code",
   "execution_count": 53,
   "id": "25c02817",
   "metadata": {},
   "outputs": [
    {
     "name": "stdout",
     "output_type": "stream",
     "text": [
      "Note: you may need to restart the kernel to use updated packages.\n"
     ]
    }
   ],
   "source": [
    "%pip install rouge --quiet"
   ]
  },
  {
   "cell_type": "code",
   "execution_count": 21,
   "id": "2da8a0c7",
   "metadata": {},
   "outputs": [
    {
     "name": "stdout",
     "output_type": "stream",
     "text": [
      "human_answer {'r': 0.6170558241367031, 'p': 0.9958196833933283, 'f': 0.7133136761037521}\n",
      "sbert_1024 {'r': 0.7993599506385278, 'p': 0.8203655026172052, 'f': 0.8004825652323815}\n"
     ]
    }
   ],
   "source": [
    "from rouge import Rouge\n",
    "rouge = Rouge()\n",
    "\n",
    "for column in test_dataset_qda.columns[2:]:\n",
    "    print(column, rouge.get_scores(test_dataset_qda[column].apply(lambda x: \"-\" if x is None else x), test_dataset_qda[\"document\"], avg=True)['rouge-l'])"
   ]
  }
 ],
 "metadata": {
  "kernelspec": {
   "display_name": "Python 3 (ipykernel)",
   "language": "python",
   "name": "python3"
  },
  "language_info": {
   "codemirror_mode": {
    "name": "ipython",
    "version": 3
   },
   "file_extension": ".py",
   "mimetype": "text/x-python",
   "name": "python",
   "nbconvert_exporter": "python",
   "pygments_lexer": "ipython3",
   "version": "3.12.3"
  }
 },
 "nbformat": 4,
 "nbformat_minor": 5
}
