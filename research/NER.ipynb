{
 "cells": [
  {
   "cell_type": "markdown",
   "id": "54d7d1e2-a651-49a0-8679-afdb399291de",
   "metadata": {},
   "source": [
    "# NER in RAG"
   ]
  },
  {
   "cell_type": "code",
   "execution_count": 1,
   "id": "3ad8db59",
   "metadata": {},
   "outputs": [
    {
     "name": "stdout",
     "output_type": "stream",
     "text": [
      "Note: you may need to restart the kernel to use updated packages.\n"
     ]
    },
    {
     "name": "stderr",
     "output_type": "stream",
     "text": [
      "WARNING: Ignoring invalid distribution -cipy (c:\\users\\user\\appdata\\local\\programs\\python\\python310\\lib\\site-packages)\n",
      "WARNING: Ignoring invalid distribution -umpy (c:\\users\\user\\appdata\\local\\programs\\python\\python310\\lib\\site-packages)\n",
      "WARNING: Ignoring invalid distribution -zdata (c:\\users\\user\\appdata\\local\\programs\\python\\python310\\lib\\site-packages)\n",
      "WARNING: Ignoring invalid distribution -cipy (c:\\users\\user\\appdata\\local\\programs\\python\\python310\\lib\\site-packages)\n",
      "WARNING: Ignoring invalid distribution -umpy (c:\\users\\user\\appdata\\local\\programs\\python\\python310\\lib\\site-packages)\n",
      "WARNING: Ignoring invalid distribution -zdata (c:\\users\\user\\appdata\\local\\programs\\python\\python310\\lib\\site-packages)\n",
      "\n",
      "[notice] A new release of pip is available: 23.3.1 -> 24.0\n",
      "[notice] To update, run: python.exe -m pip install --upgrade pip\n"
     ]
    }
   ],
   "source": [
    "%pip install pandas --quiet\n"
   ]
  },
  {
   "cell_type": "code",
   "execution_count": 2,
   "id": "8b358331",
   "metadata": {},
   "outputs": [],
   "source": [
    "import pandas as pd\n"
   ]
  },
  {
   "cell_type": "code",
   "execution_count": 3,
   "id": "8a0752b6-6fa1-499f-a728-ff24a0416fe2",
   "metadata": {},
   "outputs": [],
   "source": [
    "from os import environ\n",
    "from dotenv import load_dotenv\n",
    "load_dotenv(dotenv_path=\"../.env\")\n",
    "\n",
    "confluence_host = environ.get('CONFLUENCE_HOST')\n",
    "confluence_token = environ.get('CONFLUENCE_TOKEN')\n",
    "hf_token = environ.get('HF_TOKEN')\n",
    "hf_write_token = environ.get('HF_WRITE_TOKEN')\n",
    "gigachat_token = environ.get('GIGACHAT_TOKEN')\n",
    "gigachat_pro_token = environ.get('GIGACHAT_PRO_TOKEN')\n",
    "yandex_token = environ.get('YC_API_KEY')\n",
    "openchat_host = environ.get('OPENCHAT_HOST')\n"
   ]
  },
  {
   "cell_type": "markdown",
   "id": "b8c1cadb",
   "metadata": {},
   "source": [
    "## Датасет"
   ]
  },
  {
   "cell_type": "markdown",
   "id": "b5627b19",
   "metadata": {},
   "source": [
    "### Загрузка датасета с Hugging Face"
   ]
  },
  {
   "cell_type": "code",
   "execution_count": 4,
   "id": "c7720f34",
   "metadata": {},
   "outputs": [
    {
     "name": "stdout",
     "output_type": "stream",
     "text": [
      "Note: you may need to restart the kernel to use updated packages.\n"
     ]
    },
    {
     "name": "stderr",
     "output_type": "stream",
     "text": [
      "WARNING: Ignoring invalid distribution -cipy (c:\\users\\user\\appdata\\local\\programs\\python\\python310\\lib\\site-packages)\n",
      "WARNING: Ignoring invalid distribution -umpy (c:\\users\\user\\appdata\\local\\programs\\python\\python310\\lib\\site-packages)\n",
      "WARNING: Ignoring invalid distribution -zdata (c:\\users\\user\\appdata\\local\\programs\\python\\python310\\lib\\site-packages)\n",
      "WARNING: Ignoring invalid distribution -cipy (c:\\users\\user\\appdata\\local\\programs\\python\\python310\\lib\\site-packages)\n",
      "WARNING: Ignoring invalid distribution -umpy (c:\\users\\user\\appdata\\local\\programs\\python\\python310\\lib\\site-packages)\n",
      "WARNING: Ignoring invalid distribution -zdata (c:\\users\\user\\appdata\\local\\programs\\python\\python310\\lib\\site-packages)\n",
      "\n",
      "[notice] A new release of pip is available: 23.3.1 -> 24.0\n",
      "[notice] To update, run: python.exe -m pip install --upgrade pip\n"
     ]
    }
   ],
   "source": [
    "%pip install datasets --quiet\n"
   ]
  },
  {
   "cell_type": "code",
   "execution_count": 5,
   "id": "fc108730",
   "metadata": {},
   "outputs": [
    {
     "name": "stderr",
     "output_type": "stream",
     "text": [
      "c:\\Users\\User\\AppData\\Local\\Programs\\Python\\Python310\\lib\\site-packages\\tqdm\\auto.py:22: TqdmWarning: IProgress not found. Please update jupyter and ipywidgets. See https://ipywidgets.readthedocs.io/en/stable/user_install.html\n",
      "  from .autonotebook import tqdm as notebook_tqdm\n"
     ]
    },
    {
     "data": {
      "text/plain": [
       "(355, 67)"
      ]
     },
     "execution_count": 5,
     "metadata": {},
     "output_type": "execute_result"
    }
   ],
   "source": [
    "from datasets import load_dataset, DatasetDict\n",
    "\n",
    "dataset_qda = load_dataset(\"nizamovtimur/wikiutmn-study-gigachat\")\n",
    "if isinstance(dataset_qda, DatasetDict):\n",
    "    train_dataset_qda = dataset_qda['train'].to_pandas()\n",
    "    test_dataset_qda = dataset_qda['test'].to_pandas()\n",
    "else:\n",
    "    train_dataset_qda = pd.DataFrame()\n",
    "    test_dataset_qda = pd.DataFrame()\n",
    "len(train_dataset_qda), len(test_dataset_qda)\n"
   ]
  },
  {
   "cell_type": "code",
   "execution_count": 6,
   "id": "2451033a",
   "metadata": {},
   "outputs": [
    {
     "data": {
      "text/html": [
       "<div>\n",
       "<style scoped>\n",
       "    .dataframe tbody tr th:only-of-type {\n",
       "        vertical-align: middle;\n",
       "    }\n",
       "\n",
       "    .dataframe tbody tr th {\n",
       "        vertical-align: top;\n",
       "    }\n",
       "\n",
       "    .dataframe thead th {\n",
       "        text-align: right;\n",
       "    }\n",
       "</style>\n",
       "<table border=\"1\" class=\"dataframe\">\n",
       "  <thead>\n",
       "    <tr style=\"text-align: right;\">\n",
       "      <th></th>\n",
       "      <th>question</th>\n",
       "      <th>document</th>\n",
       "      <th>human_answer</th>\n",
       "    </tr>\n",
       "  </thead>\n",
       "  <tbody>\n",
       "    <tr>\n",
       "      <th>0</th>\n",
       "      <td>Где продлять студак?</td>\n",
       "      <td>Для восстановления студенческого билета Вам не...</td>\n",
       "      <td></td>\n",
       "    </tr>\n",
       "    <tr>\n",
       "      <th>1</th>\n",
       "      <td>Когда можно получить справку о стипендии?</td>\n",
       "      <td>По вопросу получения справки о доходах, размер...</td>\n",
       "      <td></td>\n",
       "    </tr>\n",
       "    <tr>\n",
       "      <th>2</th>\n",
       "      <td>Как перевестись на другое направление на заочке?</td>\n",
       "      <td>Заявления о переводе принимаются два раза в го...</td>\n",
       "      <td></td>\n",
       "    </tr>\n",
       "    <tr>\n",
       "      <th>3</th>\n",
       "      <td>Как перевестись на другое направление?</td>\n",
       "      <td>Заявления о переводе принимаются два раза в го...</td>\n",
       "      <td></td>\n",
       "    </tr>\n",
       "    <tr>\n",
       "      <th>4</th>\n",
       "      <td>Могу ли я в последний момент отказаться от сме...</td>\n",
       "      <td>Прежде, чем выбрать элективы, рекомендуем почи...</td>\n",
       "      <td></td>\n",
       "    </tr>\n",
       "    <tr>\n",
       "      <th>...</th>\n",
       "      <td>...</td>\n",
       "      <td>...</td>\n",
       "      <td>...</td>\n",
       "    </tr>\n",
       "    <tr>\n",
       "      <th>350</th>\n",
       "      <td>Как оформляются результаты промежуточной аттес...</td>\n",
       "      <td>проведения промежуточной аттестации, за исключ...</td>\n",
       "      <td></td>\n",
       "    </tr>\n",
       "    <tr>\n",
       "      <th>351</th>\n",
       "      <td>Кто несет ответственность за правильность офор...</td>\n",
       "      <td>проведения промежуточной аттестации, за исключ...</td>\n",
       "      <td></td>\n",
       "    </tr>\n",
       "    <tr>\n",
       "      <th>352</th>\n",
       "      <td>Что происходит с оценками после прохождения пр...</td>\n",
       "      <td>. 6. 10. Из ведомости, за исключением электрон...</td>\n",
       "      <td></td>\n",
       "    </tr>\n",
       "    <tr>\n",
       "      <th>353</th>\n",
       "      <td>Кто несет ответственность за правильное внесен...</td>\n",
       "      <td>. 6. 10. Из ведомости, за исключением электрон...</td>\n",
       "      <td></td>\n",
       "    </tr>\n",
       "    <tr>\n",
       "      <th>354</th>\n",
       "      <td>Кто отвечает за внесение информации о результа...</td>\n",
       "      <td>. 6. 10. Из ведомости, за исключением электрон...</td>\n",
       "      <td></td>\n",
       "    </tr>\n",
       "  </tbody>\n",
       "</table>\n",
       "<p>355 rows × 3 columns</p>\n",
       "</div>"
      ],
      "text/plain": [
       "                                              question  \\\n",
       "0                                 Где продлять студак?   \n",
       "1            Когда можно получить справку о стипендии?   \n",
       "2     Как перевестись на другое направление на заочке?   \n",
       "3               Как перевестись на другое направление?   \n",
       "4    Могу ли я в последний момент отказаться от сме...   \n",
       "..                                                 ...   \n",
       "350  Как оформляются результаты промежуточной аттес...   \n",
       "351  Кто несет ответственность за правильность офор...   \n",
       "352  Что происходит с оценками после прохождения пр...   \n",
       "353  Кто несет ответственность за правильное внесен...   \n",
       "354  Кто отвечает за внесение информации о результа...   \n",
       "\n",
       "                                              document human_answer  \n",
       "0    Для восстановления студенческого билета Вам не...               \n",
       "1    По вопросу получения справки о доходах, размер...               \n",
       "2    Заявления о переводе принимаются два раза в го...               \n",
       "3    Заявления о переводе принимаются два раза в го...               \n",
       "4    Прежде, чем выбрать элективы, рекомендуем почи...               \n",
       "..                                                 ...          ...  \n",
       "350  проведения промежуточной аттестации, за исключ...               \n",
       "351  проведения промежуточной аттестации, за исключ...               \n",
       "352  . 6. 10. Из ведомости, за исключением электрон...               \n",
       "353  . 6. 10. Из ведомости, за исключением электрон...               \n",
       "354  . 6. 10. Из ведомости, за исключением электрон...               \n",
       "\n",
       "[355 rows x 3 columns]"
      ]
     },
     "execution_count": 6,
     "metadata": {},
     "output_type": "execute_result"
    }
   ],
   "source": [
    "train_dataset_qda\n"
   ]
  },
  {
   "cell_type": "code",
   "execution_count": 7,
   "id": "583f3297",
   "metadata": {},
   "outputs": [
    {
     "data": {
      "text/html": [
       "<div>\n",
       "<style scoped>\n",
       "    .dataframe tbody tr th:only-of-type {\n",
       "        vertical-align: middle;\n",
       "    }\n",
       "\n",
       "    .dataframe tbody tr th {\n",
       "        vertical-align: top;\n",
       "    }\n",
       "\n",
       "    .dataframe thead th {\n",
       "        text-align: right;\n",
       "    }\n",
       "</style>\n",
       "<table border=\"1\" class=\"dataframe\">\n",
       "  <thead>\n",
       "    <tr style=\"text-align: right;\">\n",
       "      <th></th>\n",
       "      <th>question</th>\n",
       "      <th>document</th>\n",
       "      <th>human_answer</th>\n",
       "    </tr>\n",
       "  </thead>\n",
       "  <tbody>\n",
       "    <tr>\n",
       "      <th>0</th>\n",
       "      <td>Я потерял магнитную карту. К кому обратиться?</td>\n",
       "      <td>Для восстановления студенческого билета Вам не...</td>\n",
       "      <td>Если Вы потеряли магнитную карту ( пропуск, пр...</td>\n",
       "    </tr>\n",
       "    <tr>\n",
       "      <th>1</th>\n",
       "      <td>Даты подачи заявления для восстановления на очку</td>\n",
       "      <td>Заявления на восстановление в Университет по о...</td>\n",
       "      <td>Заявления на восстановление в Университет по о...</td>\n",
       "    </tr>\n",
       "    <tr>\n",
       "      <th>2</th>\n",
       "      <td>Что делать при потере проходки?</td>\n",
       "      <td>Для восстановления студенческого билета Вам не...</td>\n",
       "      <td>Если Вы потеряли магнитную карту ( пропуск, пр...</td>\n",
       "    </tr>\n",
       "    <tr>\n",
       "      <th>3</th>\n",
       "      <td>Я хожу в фитнес-клуб. Как заменить физкультуру?</td>\n",
       "      <td>Выбор спортивных секций по Физической культуре...</td>\n",
       "      <td>Для оформления посещения спортивного зала вмес...</td>\n",
       "    </tr>\n",
       "    <tr>\n",
       "      <th>4</th>\n",
       "      <td>Когда мне выдадут студенческий билет после пер...</td>\n",
       "      <td>1. Подать заявление о переводе можно лично, об...</td>\n",
       "      <td>В течение пяти рабочих дней после поступления ...</td>\n",
       "    </tr>\n",
       "    <tr>\n",
       "      <th>...</th>\n",
       "      <td>...</td>\n",
       "      <td>...</td>\n",
       "      <td>...</td>\n",
       "    </tr>\n",
       "    <tr>\n",
       "      <th>62</th>\n",
       "      <td>как закрыть физкультуру?</td>\n",
       "      <td>Выбор спортивных секций по Физической культуре...</td>\n",
       "      <td>1 ) Посещать академические занятия ( 3 балла з...</td>\n",
       "    </tr>\n",
       "    <tr>\n",
       "      <th>63</th>\n",
       "      <td>когда можно поменять элективы?</td>\n",
       "      <td>Прежде, чем выбрать элективы, рекомендуем почи...</td>\n",
       "      <td>Информация, о том, как поменять электив, отпра...</td>\n",
       "    </tr>\n",
       "    <tr>\n",
       "      <th>64</th>\n",
       "      <td>как получить справку о месте учёбы?</td>\n",
       "      <td>Студенты очной формы обучения оформляют справк...</td>\n",
       "      <td>Студенты очной формы обучения оформляют справк...</td>\n",
       "    </tr>\n",
       "    <tr>\n",
       "      <th>65</th>\n",
       "      <td>Как можно получать баллы за физру?</td>\n",
       "      <td>Выбор спортивных секций по Физической культуре...</td>\n",
       "      <td>1 ) Посещать академические занятия ( 3 балла з...</td>\n",
       "    </tr>\n",
       "    <tr>\n",
       "      <th>66</th>\n",
       "      <td>Где взять справку для военкомата?</td>\n",
       "      <td>Вам необходимо обратиться в Отдел мобилизацион...</td>\n",
       "      <td>Вам необходимо обратиться в Отдел мобилизацион...</td>\n",
       "    </tr>\n",
       "  </tbody>\n",
       "</table>\n",
       "<p>67 rows × 3 columns</p>\n",
       "</div>"
      ],
      "text/plain": [
       "                                             question  \\\n",
       "0       Я потерял магнитную карту. К кому обратиться?   \n",
       "1    Даты подачи заявления для восстановления на очку   \n",
       "2                     Что делать при потере проходки?   \n",
       "3     Я хожу в фитнес-клуб. Как заменить физкультуру?   \n",
       "4   Когда мне выдадут студенческий билет после пер...   \n",
       "..                                                ...   \n",
       "62                           как закрыть физкультуру?   \n",
       "63                     когда можно поменять элективы?   \n",
       "64                как получить справку о месте учёбы?   \n",
       "65                 Как можно получать баллы за физру?   \n",
       "66                  Где взять справку для военкомата?   \n",
       "\n",
       "                                             document  \\\n",
       "0   Для восстановления студенческого билета Вам не...   \n",
       "1   Заявления на восстановление в Университет по о...   \n",
       "2   Для восстановления студенческого билета Вам не...   \n",
       "3   Выбор спортивных секций по Физической культуре...   \n",
       "4   1. Подать заявление о переводе можно лично, об...   \n",
       "..                                                ...   \n",
       "62  Выбор спортивных секций по Физической культуре...   \n",
       "63  Прежде, чем выбрать элективы, рекомендуем почи...   \n",
       "64  Студенты очной формы обучения оформляют справк...   \n",
       "65  Выбор спортивных секций по Физической культуре...   \n",
       "66  Вам необходимо обратиться в Отдел мобилизацион...   \n",
       "\n",
       "                                         human_answer  \n",
       "0   Если Вы потеряли магнитную карту ( пропуск, пр...  \n",
       "1   Заявления на восстановление в Университет по о...  \n",
       "2   Если Вы потеряли магнитную карту ( пропуск, пр...  \n",
       "3   Для оформления посещения спортивного зала вмес...  \n",
       "4   В течение пяти рабочих дней после поступления ...  \n",
       "..                                                ...  \n",
       "62  1 ) Посещать академические занятия ( 3 балла з...  \n",
       "63  Информация, о том, как поменять электив, отпра...  \n",
       "64  Студенты очной формы обучения оформляют справк...  \n",
       "65  1 ) Посещать академические занятия ( 3 балла з...  \n",
       "66  Вам необходимо обратиться в Отдел мобилизацион...  \n",
       "\n",
       "[67 rows x 3 columns]"
      ]
     },
     "execution_count": 7,
     "metadata": {},
     "output_type": "execute_result"
    }
   ],
   "source": [
    "test_dataset_qda\n"
   ]
  },
  {
   "cell_type": "code",
   "execution_count": 8,
   "id": "a912763d",
   "metadata": {},
   "outputs": [],
   "source": [
    "documents_wikiutmn_gigachat = pd.concat([train_dataset_qda[\"document\"], test_dataset_qda[\"document\"]]).drop_duplicates().reset_index(drop=True)\n",
    "questions_wikiutmn_gigachat = pd.concat([train_dataset_qda[\"question\"], test_dataset_qda[\"question\"]]).drop_duplicates().reset_index(drop=True)\n"
   ]
  },
  {
   "cell_type": "markdown",
   "id": "ca6aff51",
   "metadata": {},
   "source": [
    "### Генерация датасета с помощью Saiga по новым документам из боевой БД"
   ]
  },
  {
   "cell_type": "code",
   "execution_count": 17,
   "id": "7d3044ad",
   "metadata": {},
   "outputs": [
    {
     "data": {
      "text/plain": [
       "70"
      ]
     },
     "execution_count": 17,
     "metadata": {},
     "output_type": "execute_result"
    }
   ],
   "source": [
    "# from typing import Optional\n",
    "# from pgvector.sqlalchemy import Vector\n",
    "# from sqlalchemy import Text, create_engine, select\n",
    "# from sqlalchemy.orm import Mapped, Session, mapped_column\n",
    "\n",
    "# Base = declarative_base()\n",
    "\n",
    "\n",
    "# class Chunk(Base):\n",
    "#     __tablename__ = \"chunk\"\n",
    "\n",
    "#     id: Mapped[int] = mapped_column(primary_key=True)\n",
    "#     confluence_url: Mapped[str] = mapped_column(Text(), index=True)\n",
    "#     text: Mapped[str] = mapped_column(Text())\n",
    "#     embedding: Mapped[Vector] = mapped_column(Vector(312))\n",
    "\n",
    "#     time_created = Column(DateTime(timezone=True), server_default=func.now())\n",
    "#     time_updated = Column(DateTime(timezone=True), onupdate=func.now())\n",
    "\n",
    "# engine = create_engine(f\"postgresql://{environ.get('POSTGRES_USER')}:{environ.get('POSTGRES_PASSWORD')}@{environ.get('POSTGRES_HOST')}/{environ.get('POSTGRES_DB')}\", echo=False)\n",
    "\n",
    "# with Session(engine) as session:\n",
    "#     documents_from_db = [doc.text for doc in session.scalars(select(Chunk)).all()]\n",
    "# len(documents_from_db)\n"
   ]
  },
  {
   "cell_type": "code",
   "execution_count": 26,
   "id": "0a0a7ad2",
   "metadata": {},
   "outputs": [],
   "source": [
    "from langchain.prompts import PromptTemplate\n",
    "\n",
    "prompt_template = \"\"\"\n",
    "Действуй как студент. Составь 3 разнообразных вопроса к документу в тройных кавычках. Используй разговорный стиль речи и студенческую лексику, добавляй в вопрос название университета ТюмГУ, различные имена, названия подразделений, должности, контакты из документа. Отвечать на вопросы не нужно, напиши каждый вопрос с новой строки.\n",
    "\n",
    "\\\"\\\"\\\"\n",
    "{content}\n",
    "\\\"\\\"\\\"\n",
    "\n",
    "Вопросы:\n",
    "\"\"\"\n",
    "\n",
    "prompt = PromptTemplate.from_template(prompt_template)\n"
   ]
  },
  {
   "cell_type": "code",
   "execution_count": null,
   "id": "e32e6eb7",
   "metadata": {},
   "outputs": [],
   "source": [
    "%pip install langchain_openai --quiet\n"
   ]
  },
  {
   "cell_type": "code",
   "execution_count": 27,
   "id": "3f7abb1c",
   "metadata": {},
   "outputs": [
    {
     "data": {
      "text/plain": [
       "'1. ТюмГУ, когда я смогу оформить справку вызова на портале \"Вместе\", если я не сдал предыдущую сессию?\\n2. Как мне узнать, что я не смогу получить справку вызова, если у меня есть академическая задолженность за предыдущую сессию?\\n3. Как я смогу получить скан-копию справки вызова, если я оформил её самостоятельно на портале \"Вместе\"?'"
      ]
     },
     "execution_count": 27,
     "metadata": {},
     "output_type": "execute_result"
    }
   ],
   "source": [
    "from langchain_openai import ChatOpenAI\n",
    "\n",
    "openchat = ChatOpenAI(\n",
    "    # model=\"openchat_3.5\",\n",
    "    model=\"saiga_llama3_8b\",\n",
    "    openai_api_key=\"EMPTY\",\n",
    "    openai_api_base=openchat_host,\n",
    "    temperature=0.6,\n",
    ")\n",
    "\n",
    "openchat_chain = prompt | openchat\n",
    "openchat_chain.invoke({\"content\": documents_from_db[0]}).content\n"
   ]
  },
  {
   "cell_type": "code",
   "execution_count": 9,
   "id": "cb023827",
   "metadata": {},
   "outputs": [
    {
     "ename": "NameError",
     "evalue": "name 'documents_from_db' is not defined",
     "output_type": "error",
     "traceback": [
      "\u001b[1;31m---------------------------------------------------------------------------\u001b[0m",
      "\u001b[1;31mNameError\u001b[0m                                 Traceback (most recent call last)",
      "\u001b[1;32mc:\\Users\\User\\Documents\\Programs (1)\\virtassist\\research\\NER.ipynb Cell 17\u001b[0m line \u001b[0;36m2\n\u001b[0;32m      <a href='vscode-notebook-cell:/c%3A/Users/User/Documents/Programs%20%281%29/virtassist/research/NER.ipynb#X22sZmlsZQ%3D%3D?line=0'>1</a>\u001b[0m openchat_docs \u001b[39m=\u001b[39m []\n\u001b[1;32m----> <a href='vscode-notebook-cell:/c%3A/Users/User/Documents/Programs%20%281%29/virtassist/research/NER.ipynb#X22sZmlsZQ%3D%3D?line=1'>2</a>\u001b[0m \u001b[39mfor\u001b[39;00m doc \u001b[39min\u001b[39;00m documents_from_db:\n\u001b[0;32m      <a href='vscode-notebook-cell:/c%3A/Users/User/Documents/Programs%20%281%29/virtassist/research/NER.ipynb#X22sZmlsZQ%3D%3D?line=2'>3</a>\u001b[0m     query \u001b[39m=\u001b[39m {\u001b[39m\"\u001b[39m\u001b[39mcontent\u001b[39m\u001b[39m\"\u001b[39m: doc}\n\u001b[0;32m      <a href='vscode-notebook-cell:/c%3A/Users/User/Documents/Programs%20%281%29/virtassist/research/NER.ipynb#X22sZmlsZQ%3D%3D?line=3'>4</a>\u001b[0m     chat_questions \u001b[39m=\u001b[39m openchat_chain\u001b[39m.\u001b[39minvoke(query)\u001b[39m.\u001b[39mcontent\u001b[39m.\u001b[39mstrip()\u001b[39m.\u001b[39msplit(\u001b[39m\"\u001b[39m\u001b[39m\\n\u001b[39;00m\u001b[39m\"\u001b[39m)\n",
      "\u001b[1;31mNameError\u001b[0m: name 'documents_from_db' is not defined"
     ]
    }
   ],
   "source": [
    "openchat_docs = []\n",
    "for doc in documents_from_db:\n",
    "    query = {\"content\": doc}\n",
    "    chat_questions = openchat_chain.invoke(query).content.strip().split(\"\\n\")\n",
    "    print(chat_questions)\n",
    "    for q in chat_questions:\n",
    "        q = q.strip()\n",
    "        if len(q) < 5:\n",
    "            continue\n",
    "        openchat_docs.append({\n",
    "            \"question\": q,\n",
    "            \"document\": doc\n",
    "        })\n",
    "openchat_docs = pd.DataFrame(openchat_docs)\n",
    "openchat_docs\n"
   ]
  },
  {
   "cell_type": "code",
   "execution_count": 10,
   "id": "88c481f1",
   "metadata": {},
   "outputs": [
    {
     "ename": "AttributeError",
     "evalue": "'list' object has no attribute 'to_csv'",
     "output_type": "error",
     "traceback": [
      "\u001b[1;31m---------------------------------------------------------------------------\u001b[0m",
      "\u001b[1;31mAttributeError\u001b[0m                            Traceback (most recent call last)",
      "\u001b[1;32mc:\\Users\\User\\Documents\\Programs (1)\\virtassist\\research\\NER.ipynb Cell 18\u001b[0m line \u001b[0;36m1\n\u001b[1;32m----> <a href='vscode-notebook-cell:/c%3A/Users/User/Documents/Programs%20%281%29/virtassist/research/NER.ipynb#X23sZmlsZQ%3D%3D?line=0'>1</a>\u001b[0m openchat_docs\u001b[39m.\u001b[39;49mto_csv(\u001b[39m\"\u001b[39m\u001b[39mtest_openchat_NE_docs.csv\u001b[39m\u001b[39m\"\u001b[39m)\n",
      "\u001b[1;31mAttributeError\u001b[0m: 'list' object has no attribute 'to_csv'"
     ]
    }
   ],
   "source": [
    "openchat_docs.to_csv(\"test_openchat_NE_docs.csv\")\n"
   ]
  },
  {
   "cell_type": "markdown",
   "id": "2d0a7b2e",
   "metadata": {},
   "source": [
    "### Загрузка сгенерированного датасета"
   ]
  },
  {
   "cell_type": "code",
   "execution_count": 11,
   "id": "5ece3e25",
   "metadata": {},
   "outputs": [
    {
     "data": {
      "text/html": [
       "<div>\n",
       "<style scoped>\n",
       "    .dataframe tbody tr th:only-of-type {\n",
       "        vertical-align: middle;\n",
       "    }\n",
       "\n",
       "    .dataframe tbody tr th {\n",
       "        vertical-align: top;\n",
       "    }\n",
       "\n",
       "    .dataframe thead th {\n",
       "        text-align: right;\n",
       "    }\n",
       "</style>\n",
       "<table border=\"1\" class=\"dataframe\">\n",
       "  <thead>\n",
       "    <tr style=\"text-align: right;\">\n",
       "      <th></th>\n",
       "      <th>question</th>\n",
       "      <th>document</th>\n",
       "    </tr>\n",
       "  </thead>\n",
       "  <tbody>\n",
       "    <tr>\n",
       "      <th>0</th>\n",
       "      <td>1. Как я могу самостоятельно сформировать спра...</td>\n",
       "      <td>Сформировать справку - вызов Вы можете самосто...</td>\n",
       "    </tr>\n",
       "    <tr>\n",
       "      <th>1</th>\n",
       "      <td>2. В каком разделе и до какого срока я должен ...</td>\n",
       "      <td>Сформировать справку - вызов Вы можете самосто...</td>\n",
       "    </tr>\n",
       "    <tr>\n",
       "      <th>2</th>\n",
       "      <td>3. При каких условиях студентам заочной формы ...</td>\n",
       "      <td>Сформировать справку - вызов Вы можете самосто...</td>\n",
       "    </tr>\n",
       "    <tr>\n",
       "      <th>3</th>\n",
       "      <td>1. Что мне сделать, чтобы получить справку для...</td>\n",
       "      <td>По вопросу получения справки для военкомата Ва...</td>\n",
       "    </tr>\n",
       "    <tr>\n",
       "      <th>4</th>\n",
       "      <td>2. Где и кто мне должен помочь с получением сп...</td>\n",
       "      <td>По вопросу получения справки для военкомата Ва...</td>\n",
       "    </tr>\n",
       "    <tr>\n",
       "      <th>...</th>\n",
       "      <td>...</td>\n",
       "      <td>...</td>\n",
       "    </tr>\n",
       "    <tr>\n",
       "      <th>205</th>\n",
       "      <td>2. Какие документы необходимо представить обуч...</td>\n",
       "      <td>ФИО обучающегося, р езолюцией ответственного з...</td>\n",
       "    </tr>\n",
       "    <tr>\n",
       "      <th>206</th>\n",
       "      <td>3. В документе о приоритете перехода обучающих...</td>\n",
       "      <td>ФИО обучающегося, р езолюцией ответственного з...</td>\n",
       "    </tr>\n",
       "    <tr>\n",
       "      <th>207</th>\n",
       "      <td>1. Какие условия необходимо удовлетворять обуч...</td>\n",
       "      <td>необходимости, но не реже одного раза в семест...</td>\n",
       "    </tr>\n",
       "    <tr>\n",
       "      <th>208</th>\n",
       "      <td>2. Какие приоритеты учитываются при распределе...</td>\n",
       "      <td>необходимости, но не реже одного раза в семест...</td>\n",
       "    </tr>\n",
       "    <tr>\n",
       "      <th>209</th>\n",
       "      <td>3. Какие документы и решения оформляются в рез...</td>\n",
       "      <td>необходимости, но не реже одного раза в семест...</td>\n",
       "    </tr>\n",
       "  </tbody>\n",
       "</table>\n",
       "<p>210 rows × 2 columns</p>\n",
       "</div>"
      ],
      "text/plain": [
       "                                              question  \\\n",
       "0    1. Как я могу самостоятельно сформировать спра...   \n",
       "1    2. В каком разделе и до какого срока я должен ...   \n",
       "2    3. При каких условиях студентам заочной формы ...   \n",
       "3    1. Что мне сделать, чтобы получить справку для...   \n",
       "4    2. Где и кто мне должен помочь с получением сп...   \n",
       "..                                                 ...   \n",
       "205  2. Какие документы необходимо представить обуч...   \n",
       "206  3. В документе о приоритете перехода обучающих...   \n",
       "207  1. Какие условия необходимо удовлетворять обуч...   \n",
       "208  2. Какие приоритеты учитываются при распределе...   \n",
       "209  3. Какие документы и решения оформляются в рез...   \n",
       "\n",
       "                                              document  \n",
       "0    Сформировать справку - вызов Вы можете самосто...  \n",
       "1    Сформировать справку - вызов Вы можете самосто...  \n",
       "2    Сформировать справку - вызов Вы можете самосто...  \n",
       "3    По вопросу получения справки для военкомата Ва...  \n",
       "4    По вопросу получения справки для военкомата Ва...  \n",
       "..                                                 ...  \n",
       "205  ФИО обучающегося, р езолюцией ответственного з...  \n",
       "206  ФИО обучающегося, р езолюцией ответственного з...  \n",
       "207  необходимости, но не реже одного раза в семест...  \n",
       "208  необходимости, но не реже одного раза в семест...  \n",
       "209  необходимости, но не реже одного раза в семест...  \n",
       "\n",
       "[210 rows x 2 columns]"
      ]
     },
     "execution_count": 11,
     "metadata": {},
     "output_type": "execute_result"
    }
   ],
   "source": [
    "test_openchat_NE_docs = pd.read_csv(\"test_openchat_NE_docs.csv\", index_col=0)\n",
    "documents_wikiutmn_openchat = pd.concat([test_openchat_NE_docs[\"document\"], test_openchat_NE_docs[\"document\"]]).drop_duplicates().reset_index(drop=True)\n",
    "questions_wikiutmn_openchat = pd.concat([test_openchat_NE_docs[\"question\"], test_openchat_NE_docs[\"question\"]]).drop_duplicates().reset_index(drop=True)\n",
    "test_openchat_NE_docs\n"
   ]
  },
  {
   "cell_type": "markdown",
   "id": "1b2e1fd3",
   "metadata": {},
   "source": [
    "## Выделение именованных сущностей\n",
    "\n",
    "импорты библиотек и функция `get_NE_library(doc: str) -> str`"
   ]
  },
  {
   "cell_type": "markdown",
   "id": "e9ac820e",
   "metadata": {},
   "source": [
    "### SpaCy"
   ]
  },
  {
   "cell_type": "code",
   "execution_count": 12,
   "id": "44be1cca",
   "metadata": {},
   "outputs": [
    {
     "name": "stderr",
     "output_type": "stream",
     "text": [
      "WARNING: Ignoring invalid distribution -cipy (c:\\users\\user\\appdata\\local\\programs\\python\\python310\\lib\\site-packages)\n",
      "WARNING: Ignoring invalid distribution -umpy (c:\\users\\user\\appdata\\local\\programs\\python\\python310\\lib\\site-packages)\n",
      "WARNING: Ignoring invalid distribution -zdata (c:\\users\\user\\appdata\\local\\programs\\python\\python310\\lib\\site-packages)\n",
      "WARNING: Ignoring invalid distribution -cipy (c:\\users\\user\\appdata\\local\\programs\\python\\python310\\lib\\site-packages)\n",
      "WARNING: Ignoring invalid distribution -umpy (c:\\users\\user\\appdata\\local\\programs\\python\\python310\\lib\\site-packages)\n",
      "WARNING: Ignoring invalid distribution -zdata (c:\\users\\user\\appdata\\local\\programs\\python\\python310\\lib\\site-packages)\n",
      "\n",
      "[notice] A new release of pip is available: 23.3.1 -> 24.0\n",
      "[notice] To update, run: python.exe -m pip install --upgrade pip\n"
     ]
    },
    {
     "name": "stdout",
     "output_type": "stream",
     "text": [
      "Note: you may need to restart the kernel to use updated packages.\n"
     ]
    }
   ],
   "source": [
    "%pip install spacy --quiet\n",
    "import spacy\n",
    "nlp = spacy.load('ru_core_news_lg')\n"
   ]
  },
  {
   "cell_type": "code",
   "execution_count": 13,
   "id": "e6c46028",
   "metadata": {},
   "outputs": [
    {
     "name": "stdout",
     "output_type": "stream",
     "text": [
      "При работе со SpaCy в датасете wikiutmn-study-gigachat:\n",
      "Выявилось уникальных именованных сущностей в документах: 180\n",
      "Не нашлось именованных сущностей в 1 документах\n",
      "Максимальное кол-во именованных сущностей в документе: 28\n",
      "Минимальное кол-во именованных сущностей в документе: 1\n",
      "Среднее кол-во именованных сущностей в документе: 8.214285714285714\n",
      "Выявилось уникальных именованных сущностей в вопросах: 23\n",
      "Не нашлось именованных сущностей в 363 вопросах\n",
      "Максимальное кол-во именованных сущностей в вопросе: 2\n",
      "Минимальное кол-во именованных сущностей в вопросе: 1\n",
      "Среднее кол-во именованных сущностей в вопросе: 0.12832929782082325\n",
      "\n",
      "При работе со SpaCy в датасете test_openchat_NE_docs:\n",
      "Выявилось уникальных именованных сущностей в документах: 347\n",
      "Не нашлось именованных сущностей в 1 документах\n",
      "Максимальное кол-во именованных сущностей в документе: 37\n",
      "Минимальное кол-во именованных сущностей в документе: 1\n",
      "Среднее кол-во именованных сущностей в документе: 10.885714285714286\n",
      "Выявилось уникальных именованных сущностей в вопросах: 44\n",
      "Не нашлось именованных сущностей в 90 вопросах\n",
      "Максимальное кол-во именованных сущностей в вопросе: 3\n",
      "Минимальное кол-во именованных сущностей в вопросе: 1\n",
      "Среднее кол-во именованных сущностей в вопросе: 0.7142857142857143\n"
     ]
    }
   ],
   "source": [
    "def find_spacy_ne(doc) -> list:\n",
    "    return list(set([ent.lemma_ for ent in nlp(doc).ents]))\n",
    "def analyze_spacy_ner(documents, questions):\n",
    "    ne_docs = []\n",
    "    ne_questions = []\n",
    "    ne_docs_max = 0\n",
    "    ne_docs_min = 100\n",
    "    ne_docs_arg = 0\n",
    "    docs_without_ne = 0\n",
    "    ne_questions_max = 0\n",
    "    ne_questions_min = 100\n",
    "    ne_questions_arg = 0\n",
    "    questions_without_ne = 0\n",
    "    for document in documents:\n",
    "        ents = find_spacy_ne(document)\n",
    "        if len(ents):\n",
    "            if len(ents) > ne_docs_max:\n",
    "                ne_docs_max = len(ents)\n",
    "            elif len(ents) < ne_docs_min and len(ents) > 0:\n",
    "                ne_docs_min = len(ents)\n",
    "            for i in ents:\n",
    "                ne_docs.append(i)\n",
    "        else:\n",
    "            docs_without_ne += 1\n",
    "    for question in questions:\n",
    "        ents = find_spacy_ne(question)\n",
    "        if len(ents):\n",
    "            if len(ents) > ne_questions_max:\n",
    "                ne_questions_max = len(ents)\n",
    "            elif len(ents) < ne_questions_min and len(ents) > 0:\n",
    "                ne_questions_min = len(ents)\n",
    "            for i in ents:\n",
    "                ne_questions.append(i)\n",
    "        else:\n",
    "            questions_without_ne += 1\n",
    "    ne_docs_arg = len(ne_docs) / len(documents)\n",
    "    ne_questions_arg = len(ne_questions) / len(questions)\n",
    "    return set(ne_docs), docs_without_ne, ne_docs_max, ne_docs_min, ne_docs_arg, set(ne_questions), questions_without_ne, ne_questions_max, ne_questions_min, ne_questions_arg\n",
    "\n",
    "ne_docs, docs_without_ne, ne_docs_max, ne_docs_min, ne_docs_arg, ne_questions, questions_without_ne, ne_questions_max, ne_questions_min, ne_questions_arg = analyze_spacy_ner(documents_wikiutmn_gigachat, questions_wikiutmn_gigachat)\n",
    "print(f'При работе со SpaCy в датасете wikiutmn-study-gigachat:\\nВыявилось уникальных именованных сущностей в документах: {len(ne_docs)}')\n",
    "print(f'Не нашлось именованных сущностей в {docs_without_ne} документах')\n",
    "print(f'Максимальное кол-во именованных сущностей в документе: {ne_docs_max}')\n",
    "print(f'Минимальное кол-во именованных сущностей в документе: {ne_docs_min}')\n",
    "print(f'Среднее кол-во именованных сущностей в документе: {ne_docs_arg}')\n",
    "print(f'Выявилось уникальных именованных сущностей в вопросах: {len(ne_questions)}')\n",
    "print(f'Не нашлось именованных сущностей в {questions_without_ne} вопросах')\n",
    "print(f'Максимальное кол-во именованных сущностей в вопросе: {ne_questions_max}')\n",
    "print(f'Минимальное кол-во именованных сущностей в вопросе: {ne_questions_min}')\n",
    "print(f'Среднее кол-во именованных сущностей в вопросе: {ne_questions_arg}')\n",
    "ne_docs, docs_without_ne, ne_docs_max, ne_docs_min, ne_docs_arg, ne_questions, questions_without_ne, ne_questions_max, ne_questions_min, ne_questions_arg = analyze_spacy_ner(documents_wikiutmn_openchat, questions_wikiutmn_openchat)\n",
    "print()\n",
    "print(f'При работе со SpaCy в датасете test_openchat_NE_docs:\\nВыявилось уникальных именованных сущностей в документах: {len(ne_docs)}')\n",
    "print(f'Не нашлось именованных сущностей в {docs_without_ne} документах')\n",
    "print(f'Максимальное кол-во именованных сущностей в документе: {ne_docs_max}')\n",
    "print(f'Минимальное кол-во именованных сущностей в документе: {ne_docs_min}')\n",
    "print(f'Среднее кол-во именованных сущностей в документе: {ne_docs_arg}')\n",
    "print(f'Выявилось уникальных именованных сущностей в вопросах: {len(ne_questions)}')\n",
    "print(f'Не нашлось именованных сущностей в {questions_without_ne} вопросах')\n",
    "print(f'Максимальное кол-во именованных сущностей в вопросе: {ne_questions_max}')\n",
    "print(f'Минимальное кол-во именованных сущностей в вопросе: {ne_questions_min}')\n",
    "print(f'Среднее кол-во именованных сущностей в вопросе: {ne_questions_arg}')\n"
   ]
  },
  {
   "cell_type": "markdown",
   "id": "c8724f91",
   "metadata": {},
   "source": [
    "### Natasha"
   ]
  },
  {
   "cell_type": "code",
   "execution_count": 14,
   "id": "89cc0740",
   "metadata": {},
   "outputs": [
    {
     "name": "stderr",
     "output_type": "stream",
     "text": [
      "WARNING: Ignoring invalid distribution -cipy (c:\\users\\user\\appdata\\local\\programs\\python\\python310\\lib\\site-packages)\n",
      "WARNING: Ignoring invalid distribution -umpy (c:\\users\\user\\appdata\\local\\programs\\python\\python310\\lib\\site-packages)\n",
      "WARNING: Ignoring invalid distribution -zdata (c:\\users\\user\\appdata\\local\\programs\\python\\python310\\lib\\site-packages)\n",
      "WARNING: Ignoring invalid distribution -cipy (c:\\users\\user\\appdata\\local\\programs\\python\\python310\\lib\\site-packages)\n",
      "WARNING: Ignoring invalid distribution -umpy (c:\\users\\user\\appdata\\local\\programs\\python\\python310\\lib\\site-packages)\n",
      "WARNING: Ignoring invalid distribution -zdata (c:\\users\\user\\appdata\\local\\programs\\python\\python310\\lib\\site-packages)\n",
      "\n",
      "[notice] A new release of pip is available: 23.3.1 -> 24.0\n",
      "[notice] To update, run: python.exe -m pip install --upgrade pip\n"
     ]
    },
    {
     "name": "stdout",
     "output_type": "stream",
     "text": [
      "Note: you may need to restart the kernel to use updated packages.\n"
     ]
    }
   ],
   "source": [
    "%pip install natasha --quiet\n",
    "from natasha import (\n",
    "    Segmenter,\n",
    "    MorphVocab,\n",
    "\n",
    "    NewsEmbedding,\n",
    "    NewsMorphTagger,\n",
    "    NewsSyntaxParser,\n",
    "    NewsNERTagger,\n",
    "\n",
    "    PER,\n",
    "    NamesExtractor,\n",
    "\n",
    "    Doc\n",
    ")\n",
    "segmenter = Segmenter()\n",
    "morph_vocab = MorphVocab()\n",
    "emb = NewsEmbedding()\n",
    "morph_tagger = NewsMorphTagger(emb)\n",
    "syntax_parser = NewsSyntaxParser(emb)\n",
    "ner_tagger = NewsNERTagger(emb)\n",
    "names_extractor = NamesExtractor(morph_vocab)\n"
   ]
  },
  {
   "cell_type": "code",
   "execution_count": 15,
   "id": "43da6321",
   "metadata": {},
   "outputs": [
    {
     "name": "stdout",
     "output_type": "stream",
     "text": [
      "При работе с natasha в датасете wikiutmn-study-gigachat:\n",
      "Выявилось уникальных именованных сущностей в документах: 121\n",
      "Не нашлось именованных сущностей в 3 документах\n",
      "Максимальное кол-во именованных сущностей в документе: 21\n",
      "Минимальное кол-во именованных сущностей в документе: 1\n",
      "Среднее кол-во именованных сущностей в документе: 5.595238095238095\n",
      "Выявилось уникальных именованных сущностей в вопросах: 15\n",
      "Не нашлось именованных сущностей в 371 вопросах\n",
      "Максимальное кол-во именованных сущностей в вопросе: 2\n",
      "Минимальное кол-во именованных сущностей в вопросе: 1\n",
      "Среднее кол-во именованных сущностей в вопросе: 0.1089588377723971\n",
      "\n",
      "При работе с natasha в датасете test_openchat_NE_docs:\n",
      "Выявилось уникальных именованных сущностей в документах: 228\n",
      "Не нашлось именованных сущностей в 7 документах\n",
      "Максимальное кол-во именованных сущностей в документе: 34\n",
      "Минимальное кол-во именованных сущностей в документе: 1\n",
      "Среднее кол-во именованных сущностей в документе: 7.585714285714285\n",
      "Выявилось уникальных именованных сущностей в вопросах: 32\n",
      "Не нашлось именованных сущностей в 98 вопросах\n",
      "Максимальное кол-во именованных сущностей в вопросе: 3\n",
      "Минимальное кол-во именованных сущностей в вопросе: 1\n",
      "Среднее кол-во именованных сущностей в вопросе: 0.6\n"
     ]
    }
   ],
   "source": [
    "def find_natasha_ne(txt) -> list:\n",
    "    doc = Doc(txt)\n",
    "    doc.segment(segmenter)\n",
    "    doc.tag_morph(morph_tagger)\n",
    "    doc.tag_ner(ner_tagger)\n",
    "    ne = []\n",
    "    for span in doc.spans:\n",
    "        span.normalize(morph_vocab)\n",
    "    for span in doc.spans:\n",
    "        ne.append(span.normal.lower())\n",
    "    return list(set(ne))\n",
    "def analyze_natasha_ner(documents, questions):\n",
    "    ne_docs = []\n",
    "    ne_questions = []\n",
    "    ne_docs_max = 0\n",
    "    ne_docs_min = 100\n",
    "    ne_docs_arg = 0\n",
    "    docs_without_ne = 0\n",
    "    ne_questions_max = 0\n",
    "    ne_questions_min = 100\n",
    "    ne_questions_arg = 0\n",
    "    questions_without_ne = 0\n",
    "    for document in documents:\n",
    "        ents = find_natasha_ne(document)\n",
    "        if len(ents):\n",
    "            if len(ents) > ne_docs_max:\n",
    "                ne_docs_max = len(ents)\n",
    "            elif len(ents) < ne_docs_min and len(ents) > 0:\n",
    "                ne_docs_min = len(ents)\n",
    "            for i in ents:\n",
    "                ne_docs.append(i)\n",
    "        else:\n",
    "            docs_without_ne += 1\n",
    "    for question in questions:\n",
    "        ents = find_natasha_ne(question)\n",
    "        if len(ents):\n",
    "            if len(ents) > ne_questions_max:\n",
    "                ne_questions_max = len(ents)\n",
    "            elif len(ents) < ne_questions_min and len(ents) > 0:\n",
    "                ne_questions_min = len(ents)\n",
    "            for i in ents:\n",
    "                ne_questions.append(i)\n",
    "        else:\n",
    "            questions_without_ne += 1\n",
    "    ne_docs_arg = len(ne_docs) / len(documents)\n",
    "    ne_questions_arg = len(ne_questions) / len(questions)\n",
    "    return set(ne_docs), docs_without_ne, ne_docs_max, ne_docs_min, ne_docs_arg, set(ne_questions), questions_without_ne, ne_questions_max, ne_questions_min, ne_questions_arg\n",
    "\n",
    "ne_docs, docs_without_ne, ne_docs_max, ne_docs_min, ne_docs_arg, ne_questions, questions_without_ne, ne_questions_max, ne_questions_min, ne_questions_arg = analyze_natasha_ner(documents_wikiutmn_gigachat, questions_wikiutmn_gigachat)\n",
    "print(f'При работе с natasha в датасете wikiutmn-study-gigachat:\\nВыявилось уникальных именованных сущностей в документах: {len(ne_docs)}')\n",
    "print(f'Не нашлось именованных сущностей в {docs_without_ne} документах')\n",
    "print(f'Максимальное кол-во именованных сущностей в документе: {ne_docs_max}')\n",
    "print(f'Минимальное кол-во именованных сущностей в документе: {ne_docs_min}')\n",
    "print(f'Среднее кол-во именованных сущностей в документе: {ne_docs_arg}')\n",
    "print(f'Выявилось уникальных именованных сущностей в вопросах: {len(ne_questions)}')\n",
    "print(f'Не нашлось именованных сущностей в {questions_without_ne} вопросах')\n",
    "print(f'Максимальное кол-во именованных сущностей в вопросе: {ne_questions_max}')\n",
    "print(f'Минимальное кол-во именованных сущностей в вопросе: {ne_questions_min}')\n",
    "print(f'Среднее кол-во именованных сущностей в вопросе: {ne_questions_arg}')\n",
    "ne_docs, docs_without_ne, ne_docs_max, ne_docs_min, ne_docs_arg, ne_questions, questions_without_ne, ne_questions_max, ne_questions_min, ne_questions_arg = analyze_natasha_ner(documents_wikiutmn_openchat, questions_wikiutmn_openchat)\n",
    "print()\n",
    "print(f'При работе с natasha в датасете test_openchat_NE_docs:\\nВыявилось уникальных именованных сущностей в документах: {len(ne_docs)}')\n",
    "print(f'Не нашлось именованных сущностей в {docs_without_ne} документах')\n",
    "print(f'Максимальное кол-во именованных сущностей в документе: {ne_docs_max}')\n",
    "print(f'Минимальное кол-во именованных сущностей в документе: {ne_docs_min}')\n",
    "print(f'Среднее кол-во именованных сущностей в документе: {ne_docs_arg}')\n",
    "print(f'Выявилось уникальных именованных сущностей в вопросах: {len(ne_questions)}')\n",
    "print(f'Не нашлось именованных сущностей в {questions_without_ne} вопросах')\n",
    "print(f'Максимальное кол-во именованных сущностей в вопросе: {ne_questions_max}')\n",
    "print(f'Минимальное кол-во именованных сущностей в вопросе: {ne_questions_min}')\n",
    "print(f'Среднее кол-во именованных сущностей в вопросе: {ne_questions_arg}')\n"
   ]
  },
  {
   "cell_type": "markdown",
   "id": "2204886a",
   "metadata": {},
   "source": [
    "### DeepPavlov"
   ]
  },
  {
   "cell_type": "code",
   "execution_count": 58,
   "id": "21138b13",
   "metadata": {},
   "outputs": [],
   "source": [
    "import deeppavlov\n"
   ]
  },
  {
   "cell_type": "code",
   "execution_count": 60,
   "id": "f7a2e87d",
   "metadata": {},
   "outputs": [
    {
     "name": "stderr",
     "output_type": "stream",
     "text": [
      "2024-05-28 22:47:10.201 INFO in 'deeppavlov.download'['download'] at line 138: Skipped http://files.deeppavlov.ai/v1/ner/ner_rus_bert_torch_new.tar.gz download because of matching hashes\n"
     ]
    },
    {
     "ename": "ModuleNotFoundError",
     "evalue": "No module named 'torchcrf'",
     "output_type": "error",
     "traceback": [
      "\u001b[1;31m---------------------------------------------------------------------------\u001b[0m",
      "\u001b[1;31mModuleNotFoundError\u001b[0m                       Traceback (most recent call last)",
      "\u001b[1;32mc:\\Users\\User\\Documents\\Programs (1)\\virtassist\\research\\NER.ipynb Cell 30\u001b[0m line \u001b[0;36m1\n\u001b[1;32m----> <a href='vscode-notebook-cell:/c%3A/Users/User/Documents/Programs%20%281%29/virtassist/research/NER.ipynb#X41sZmlsZQ%3D%3D?line=0'>1</a>\u001b[0m ner_model \u001b[39m=\u001b[39m deeppavlov\u001b[39m.\u001b[39;49mbuild_model(deeppavlov\u001b[39m.\u001b[39;49mconfigs\u001b[39m.\u001b[39;49mner\u001b[39m.\u001b[39;49mner_rus_bert, download\u001b[39m=\u001b[39;49m\u001b[39mTrue\u001b[39;49;00m)\n",
      "File \u001b[1;32mc:\\Users\\User\\AppData\\Local\\Programs\\Python\\Python310\\lib\\site-packages\\deeppavlov\\core\\commands\\infer.py:55\u001b[0m, in \u001b[0;36mbuild_model\u001b[1;34m(config, mode, load_trained, install, download)\u001b[0m\n\u001b[0;32m     51\u001b[0m     \u001b[39mexcept\u001b[39;00m \u001b[39mKeyError\u001b[39;00m:\n\u001b[0;32m     52\u001b[0m         log\u001b[39m.\u001b[39mwarning(\u001b[39m'\u001b[39m\u001b[39mNo \u001b[39m\u001b[39m\"\u001b[39m\u001b[39msave_path\u001b[39m\u001b[39m\"\u001b[39m\u001b[39m parameter for the \u001b[39m\u001b[39m{}\u001b[39;00m\u001b[39m component, so \u001b[39m\u001b[39m\"\u001b[39m\u001b[39mload_path\u001b[39m\u001b[39m\"\u001b[39m\u001b[39m will not be renewed\u001b[39m\u001b[39m'\u001b[39m\n\u001b[0;32m     53\u001b[0m                     \u001b[39m.\u001b[39mformat(component_config\u001b[39m.\u001b[39mget(\u001b[39m'\u001b[39m\u001b[39mclass_name\u001b[39m\u001b[39m'\u001b[39m, component_config\u001b[39m.\u001b[39mget(\u001b[39m'\u001b[39m\u001b[39mref\u001b[39m\u001b[39m'\u001b[39m, \u001b[39m'\u001b[39m\u001b[39mUNKNOWN\u001b[39m\u001b[39m'\u001b[39m))))\n\u001b[1;32m---> 55\u001b[0m component \u001b[39m=\u001b[39m from_params(component_config, mode\u001b[39m=\u001b[39;49mmode)\n\u001b[0;32m     57\u001b[0m \u001b[39mif\u001b[39;00m \u001b[39m'\u001b[39m\u001b[39mid\u001b[39m\u001b[39m'\u001b[39m \u001b[39min\u001b[39;00m component_config:\n\u001b[0;32m     58\u001b[0m     model\u001b[39m.\u001b[39m_components_dict[component_config[\u001b[39m'\u001b[39m\u001b[39mid\u001b[39m\u001b[39m'\u001b[39m]] \u001b[39m=\u001b[39m component\n",
      "File \u001b[1;32mc:\\Users\\User\\AppData\\Local\\Programs\\Python\\Python310\\lib\\site-packages\\deeppavlov\\core\\common\\params.py:92\u001b[0m, in \u001b[0;36mfrom_params\u001b[1;34m(params, mode, **kwargs)\u001b[0m\n\u001b[0;32m     90\u001b[0m     log\u001b[39m.\u001b[39mexception(e)\n\u001b[0;32m     91\u001b[0m     \u001b[39mraise\u001b[39;00m e\n\u001b[1;32m---> 92\u001b[0m obj \u001b[39m=\u001b[39m get_model(cls_name)\n\u001b[0;32m     94\u001b[0m \u001b[39mif\u001b[39;00m inspect\u001b[39m.\u001b[39misclass(obj):\n\u001b[0;32m     95\u001b[0m     \u001b[39m# find the submodels params recursively\u001b[39;00m\n\u001b[0;32m     96\u001b[0m     config_params \u001b[39m=\u001b[39m {k: _init_param(v, mode) \u001b[39mfor\u001b[39;00m k, v \u001b[39min\u001b[39;00m config_params\u001b[39m.\u001b[39mitems()}\n",
      "File \u001b[1;32mc:\\Users\\User\\AppData\\Local\\Programs\\Python\\Python310\\lib\\site-packages\\deeppavlov\\core\\common\\registry.py:74\u001b[0m, in \u001b[0;36mget_model\u001b[1;34m(name)\u001b[0m\n\u001b[0;32m     72\u001b[0m         \u001b[39mraise\u001b[39;00m ConfigError(\u001b[39m\"\u001b[39m\u001b[39mModel \u001b[39m\u001b[39m{}\u001b[39;00m\u001b[39m is not registered.\u001b[39m\u001b[39m\"\u001b[39m\u001b[39m.\u001b[39mformat(name))\n\u001b[0;32m     73\u001b[0m     \u001b[39mreturn\u001b[39;00m cls_from_str(name)\n\u001b[1;32m---> 74\u001b[0m \u001b[39mreturn\u001b[39;00m cls_from_str(_REGISTRY[name])\n",
      "File \u001b[1;32mc:\\Users\\User\\AppData\\Local\\Programs\\Python\\Python310\\lib\\site-packages\\deeppavlov\\core\\common\\registry.py:42\u001b[0m, in \u001b[0;36mcls_from_str\u001b[1;34m(name)\u001b[0m\n\u001b[0;32m     38\u001b[0m \u001b[39mexcept\u001b[39;00m \u001b[39mValueError\u001b[39;00m:\n\u001b[0;32m     39\u001b[0m     \u001b[39mraise\u001b[39;00m ConfigError(\u001b[39m'\u001b[39m\u001b[39mExpected class description in a `module.submodules:ClassName` form, but got `\u001b[39m\u001b[39m{}\u001b[39;00m\u001b[39m`\u001b[39m\u001b[39m'\u001b[39m\n\u001b[0;32m     40\u001b[0m                       \u001b[39m.\u001b[39mformat(name))\n\u001b[1;32m---> 42\u001b[0m \u001b[39mreturn\u001b[39;00m \u001b[39mgetattr\u001b[39m(importlib\u001b[39m.\u001b[39;49mimport_module(module_name), cls_name)\n",
      "File \u001b[1;32mc:\\Users\\User\\AppData\\Local\\Programs\\Python\\Python310\\lib\\importlib\\__init__.py:126\u001b[0m, in \u001b[0;36mimport_module\u001b[1;34m(name, package)\u001b[0m\n\u001b[0;32m    124\u001b[0m             \u001b[39mbreak\u001b[39;00m\n\u001b[0;32m    125\u001b[0m         level \u001b[39m+\u001b[39m\u001b[39m=\u001b[39m \u001b[39m1\u001b[39m\n\u001b[1;32m--> 126\u001b[0m \u001b[39mreturn\u001b[39;00m _bootstrap\u001b[39m.\u001b[39;49m_gcd_import(name[level:], package, level)\n",
      "File \u001b[1;32m<frozen importlib._bootstrap>:1050\u001b[0m, in \u001b[0;36m_gcd_import\u001b[1;34m(name, package, level)\u001b[0m\n",
      "File \u001b[1;32m<frozen importlib._bootstrap>:1027\u001b[0m, in \u001b[0;36m_find_and_load\u001b[1;34m(name, import_)\u001b[0m\n",
      "File \u001b[1;32m<frozen importlib._bootstrap>:1006\u001b[0m, in \u001b[0;36m_find_and_load_unlocked\u001b[1;34m(name, import_)\u001b[0m\n",
      "File \u001b[1;32m<frozen importlib._bootstrap>:688\u001b[0m, in \u001b[0;36m_load_unlocked\u001b[1;34m(spec)\u001b[0m\n",
      "File \u001b[1;32m<frozen importlib._bootstrap_external>:883\u001b[0m, in \u001b[0;36mexec_module\u001b[1;34m(self, module)\u001b[0m\n",
      "File \u001b[1;32m<frozen importlib._bootstrap>:241\u001b[0m, in \u001b[0;36m_call_with_frames_removed\u001b[1;34m(f, *args, **kwds)\u001b[0m\n",
      "File \u001b[1;32mc:\\Users\\User\\AppData\\Local\\Programs\\Python\\Python310\\lib\\site-packages\\deeppavlov\\models\\torch_bert\\torch_transformers_sequence_tagger.py:27\u001b[0m\n\u001b[0;32m     25\u001b[0m \u001b[39mfrom\u001b[39;00m \u001b[39mdeeppavlov\u001b[39;00m\u001b[39m.\u001b[39;00m\u001b[39mcore\u001b[39;00m\u001b[39m.\u001b[39;00m\u001b[39mcommon\u001b[39;00m\u001b[39m.\u001b[39;00m\u001b[39mregistry\u001b[39;00m \u001b[39mimport\u001b[39;00m register\n\u001b[0;32m     26\u001b[0m \u001b[39mfrom\u001b[39;00m \u001b[39mdeeppavlov\u001b[39;00m\u001b[39m.\u001b[39;00m\u001b[39mcore\u001b[39;00m\u001b[39m.\u001b[39;00m\u001b[39mmodels\u001b[39;00m\u001b[39m.\u001b[39;00m\u001b[39mtorch_model\u001b[39;00m \u001b[39mimport\u001b[39;00m TorchModel\n\u001b[1;32m---> 27\u001b[0m \u001b[39mfrom\u001b[39;00m \u001b[39mdeeppavlov\u001b[39;00m\u001b[39m.\u001b[39;00m\u001b[39mmodels\u001b[39;00m\u001b[39m.\u001b[39;00m\u001b[39mtorch_bert\u001b[39;00m\u001b[39m.\u001b[39;00m\u001b[39mcrf\u001b[39;00m \u001b[39mimport\u001b[39;00m CRF\n\u001b[0;32m     29\u001b[0m log \u001b[39m=\u001b[39m getLogger(\u001b[39m__name__\u001b[39m)\n\u001b[0;32m     32\u001b[0m \u001b[39mdef\u001b[39;00m \u001b[39mtoken_from_subtoken\u001b[39m(units: torch\u001b[39m.\u001b[39mTensor, mask: torch\u001b[39m.\u001b[39mTensor) \u001b[39m-\u001b[39m\u001b[39m>\u001b[39m torch\u001b[39m.\u001b[39mTensor:\n",
      "File \u001b[1;32mc:\\Users\\User\\AppData\\Local\\Programs\\Python\\Python310\\lib\\site-packages\\deeppavlov\\models\\torch_bert\\crf.py:4\u001b[0m\n\u001b[0;32m      2\u001b[0m \u001b[39mimport\u001b[39;00m \u001b[39mtorch\u001b[39;00m\n\u001b[0;32m      3\u001b[0m \u001b[39mfrom\u001b[39;00m \u001b[39mtorch\u001b[39;00m \u001b[39mimport\u001b[39;00m nn\n\u001b[1;32m----> 4\u001b[0m \u001b[39mfrom\u001b[39;00m \u001b[39mtorchcrf\u001b[39;00m \u001b[39mimport\u001b[39;00m CRF \u001b[39mas\u001b[39;00m CRFbase\n\u001b[0;32m      7\u001b[0m \u001b[39mclass\u001b[39;00m \u001b[39mCRF\u001b[39;00m(CRFbase):\n\u001b[0;32m      8\u001b[0m     \u001b[39m\"\"\"Class with Conditional Random Field from PyTorch-CRF library\u001b[39;00m\n\u001b[0;32m      9\u001b[0m \u001b[39m       with modified training function\u001b[39;00m\n\u001b[0;32m     10\u001b[0m \u001b[39m    \"\"\"\u001b[39;00m\n",
      "\u001b[1;31mModuleNotFoundError\u001b[0m: No module named 'torchcrf'"
     ]
    }
   ],
   "source": [
    "ner_model = deeppavlov.build_model(deeppavlov.configs.ner.ner_rus_bert, download=True)\n"
   ]
  },
  {
   "cell_type": "markdown",
   "id": "0ddbec5f",
   "metadata": {
    "tags": []
   },
   "source": [
    "## Векторный индекс документов"
   ]
  },
  {
   "cell_type": "markdown",
   "id": "07f5b94d",
   "metadata": {},
   "source": [
    "### Структура БД"
   ]
  },
  {
   "cell_type": "code",
   "execution_count": null,
   "id": "053098ad",
   "metadata": {},
   "outputs": [],
   "source": [
    "!docker build ../db -t db\n"
   ]
  },
  {
   "cell_type": "code",
   "execution_count": 3,
   "id": "ede29dc6",
   "metadata": {},
   "outputs": [
    {
     "name": "stdout",
     "output_type": "stream",
     "text": [
      "87b907e57fd7f79b6c28f7822f3cbce48c19f51aa1ba15124975786c0df53906\n"
     ]
    }
   ],
   "source": [
    "!docker run --name db --rm -p 5432:5432 --mount source=virtassist_db-data,target=/var/lib/postgresql/data --env-file ../.env -d db\n"
   ]
  },
  {
   "cell_type": "code",
   "execution_count": 16,
   "id": "2b0f87fa",
   "metadata": {},
   "outputs": [],
   "source": [
    "from typing import Optional\n",
    "from pgvector.sqlalchemy import Vector\n",
    "from sqlalchemy import Text, create_engine, select, text\n",
    "from sqlalchemy.orm import DeclarativeBase, Mapped, Session, mapped_column\n",
    "engine = create_engine(f\"postgresql://{environ.get('POSTGRES_USER')}:{environ.get('POSTGRES_PASSWORD')}@{environ.get('POSTGRES_HOST')}/{environ.get('POSTGRES_DB')}\", echo=False)\n"
   ]
  },
  {
   "cell_type": "code",
   "execution_count": 17,
   "id": "b7f81c4d",
   "metadata": {},
   "outputs": [],
   "source": [
    "class Base(DeclarativeBase):\n",
    "    pass\n",
    "\n",
    "class Chunk(Base):\n",
    "    __tablename__ = \"chunk\"\n",
    "    id: Mapped[int] = mapped_column(primary_key=True)\n",
    "    text: Mapped[str] = mapped_column(Text())\n",
    "    embedding: Mapped[Optional[Vector]] = mapped_column(Vector(312))\n",
    "    named_entities_spacy: Mapped[Optional[str]] = mapped_column(Text())\n",
    "    named_entities_natasha: Mapped[Optional[str]] = mapped_column(Text())\n",
    "    named_entities_deeppavlov: Mapped[Optional[str]] = mapped_column(Text())\n"
   ]
  },
  {
   "cell_type": "code",
   "execution_count": 31,
   "id": "4f680d96",
   "metadata": {},
   "outputs": [],
   "source": [
    "with Session(engine) as session:\n",
    "    session.execute(text('CREATE EXTENSION IF NOT EXISTS vector'))\n",
    "    session.execute(text('DROP TABLE chunk'))\n",
    "    session.commit()\n",
    "Base.metadata.create_all(engine)\n"
   ]
  },
  {
   "cell_type": "markdown",
   "id": "9e2ac81e",
   "metadata": {},
   "source": [
    "### Заполнение документами"
   ]
  },
  {
   "cell_type": "code",
   "execution_count": 19,
   "id": "2ab1f77b",
   "metadata": {},
   "outputs": [
    {
     "data": {
      "text/plain": [
       "70"
      ]
     },
     "execution_count": 19,
     "metadata": {},
     "output_type": "execute_result"
    }
   ],
   "source": [
    "# documents = pd.concat([train_dataset_qda[\"document\"], test_dataset_qda[\"document\"]]).drop_duplicates().reset_index(drop=True)\n",
    "documents = test_openchat_NE_docs[\"document\"].drop_duplicates().reset_index(drop=True)\n",
    "len(documents)\n"
   ]
  },
  {
   "cell_type": "code",
   "execution_count": 20,
   "id": "95fef8f8",
   "metadata": {},
   "outputs": [
    {
     "name": "stderr",
     "output_type": "stream",
     "text": [
      "c:\\Users\\User\\AppData\\Local\\Programs\\Python\\Python310\\lib\\site-packages\\huggingface_hub\\file_download.py:1132: FutureWarning: `resume_download` is deprecated and will be removed in version 1.0.0. Downloads always resume when possible. If you want to force a new download, use `force_download=True`.\n",
      "  warnings.warn(\n"
     ]
    }
   ],
   "source": [
    "from sentence_transformers import SentenceTransformer\n",
    "model_checkpoint = \"nizamovtimur/rubert-tiny2-wikiutmn\"\n",
    "model = SentenceTransformer(model_checkpoint)\n"
   ]
  },
  {
   "cell_type": "code",
   "execution_count": 32,
   "id": "c81ad8ad",
   "metadata": {},
   "outputs": [],
   "source": [
    "with Session(engine) as session:\n",
    "    for document in documents:\n",
    "        doc = Chunk(\n",
    "            text=document,\n",
    "            embedding=model.encode(document),\n",
    "            named_entities_spacy=\"\\t\".join(find_spacy_ne(document)),\n",
    "            named_entities_natasha=\"\\t\".join(find_natasha_ne(document)),\n",
    "            named_entities_deeppavlov=\"\\t\".join(list(set([ent.lemma_ for ent in nlp(document).ents])))\n",
    "        )\n",
    "        session.add(doc)\n",
    "    session.commit()\n"
   ]
  },
  {
   "cell_type": "markdown",
   "id": "665d2b4a",
   "metadata": {},
   "source": [
    "### Инициализация поиска"
   ]
  },
  {
   "cell_type": "code",
   "execution_count": 47,
   "id": "47e60807",
   "metadata": {},
   "outputs": [],
   "source": [
    "def answer_sbert(question):\n",
    "    with Session(engine) as session:\n",
    "        return session.scalars(select(Chunk)\n",
    "                        .order_by(Chunk.embedding.cosine_distance(\n",
    "                            model.encode(question)\n",
    "                            )).limit(1)).first().text\n"
   ]
  },
  {
   "cell_type": "code",
   "execution_count": 42,
   "id": "be900a1e",
   "metadata": {},
   "outputs": [
    {
     "data": {
      "text/plain": [
       "'Для перевода в другую образовательную организацию обучающемуся необходимо : 1. Заказать справку о периоде обучения ( справку об обучении ). Обучающийся, желающий быть переведенным в другую образовательную организацию представляет в Единый деканат лично или по личной корпоративной электронной почте на электронный адрес ed @ utmn. ru заявку на выдачу справки о периоде обучения ( справки об обучении ). Академическая справка готовится в течение 5 ( пяти ) рабочих дней. 2. Обратиться в принимающую образовательную организацию с заявлением о переводе и справкой о периоде обучения ( справкой об обучении ). 3. Получить справку о согласии на перевод в принимающей образовательной организации. 4. Оформить отчисление в ТюмГУ : в личном кабинете на портале « Вместе » обучающийся подает заявление об отчислении в порядке перевода в другой вуз с приложением справки о переводе и перечня изученных дисциплин, пройденных практик, выполненных научных исследований, которые будут перезачтены или переаттестованы обучающемуся при переводе ( при наличии ). В течение 5 ( пяти ) рабочих дней со дня представления пакета документов в Единый деканат издается приказ об отчислении обучающегося в связи с переводом в другую образовательную организацию.'"
      ]
     },
     "execution_count": 42,
     "metadata": {},
     "output_type": "execute_result"
    }
   ],
   "source": [
    "from sqlalchemy import or_\n",
    "def answer_ner_spacy(question):\n",
    "    with Session(engine) as session:\n",
    "        query = session.query(Chunk)\n",
    "        for i in list(set([ent.lemma_ for ent in nlp(question).ents])):\n",
    "            query = query.filter(or_(*[Chunk.named_entities_spacy.contains(entity) for entity in find_spacy_ne(question)]))\n",
    "        if len(query.all()):\n",
    "            return query.order_by(Chunk.embedding.cosine_distance(\n",
    "                            model.encode(question)\n",
    "                            )).limit(1).first().text\n",
    "        else:\n",
    "            return session.scalars(select(Chunk)\n",
    "                        .order_by(Chunk.embedding.cosine_distance(\n",
    "                            model.encode(question)\n",
    "                            )).limit(1)).first().text\n",
    "\n",
    "answer_ner_spacy(\"Как перевестись из одной группы в другую в ТюмГУ\")\n"
   ]
  },
  {
   "cell_type": "code",
   "execution_count": 43,
   "id": "f91a7c89",
   "metadata": {},
   "outputs": [
    {
     "data": {
      "text/plain": [
       "'Для перевода в другую образовательную организацию обучающемуся необходимо : 1. Заказать справку о периоде обучения ( справку об обучении ). Обучающийся, желающий быть переведенным в другую образовательную организацию представляет в Единый деканат лично или по личной корпоративной электронной почте на электронный адрес ed @ utmn. ru заявку на выдачу справки о периоде обучения ( справки об обучении ). Академическая справка готовится в течение 5 ( пяти ) рабочих дней. 2. Обратиться в принимающую образовательную организацию с заявлением о переводе и справкой о периоде обучения ( справкой об обучении ). 3. Получить справку о согласии на перевод в принимающей образовательной организации. 4. Оформить отчисление в ТюмГУ : в личном кабинете на портале « Вместе » обучающийся подает заявление об отчислении в порядке перевода в другой вуз с приложением справки о переводе и перечня изученных дисциплин, пройденных практик, выполненных научных исследований, которые будут перезачтены или переаттестованы обучающемуся при переводе ( при наличии ). В течение 5 ( пяти ) рабочих дней со дня представления пакета документов в Единый деканат издается приказ об отчислении обучающегося в связи с переводом в другую образовательную организацию.'"
      ]
     },
     "execution_count": 43,
     "metadata": {},
     "output_type": "execute_result"
    }
   ],
   "source": [
    "def answer_ner_natasha(question):\n",
    "    with Session(engine) as session:\n",
    "        query = session.query(Chunk)\n",
    "        for i in list(set([ent.lemma_ for ent in nlp(question).ents])):\n",
    "            query = query.filter(or_(*[Chunk.named_entities_spacy.contains(entity) for entity in find_natasha_ne(question)]))\n",
    "        if len(query.all()):\n",
    "            return query.order_by(Chunk.embedding.cosine_distance(\n",
    "                            model.encode(question)\n",
    "                            )).limit(1).first().text\n",
    "        else:\n",
    "            return session.scalars(select(Chunk)\n",
    "                        .order_by(Chunk.embedding.cosine_distance(\n",
    "                            model.encode(question)\n",
    "                            )).limit(1)).first().text\n",
    "answer_ner_natasha(\"Как перевестись из одной группы в другую в ТюмГУ\")\n"
   ]
  },
  {
   "cell_type": "markdown",
   "id": "e1dcfd2a",
   "metadata": {},
   "source": [
    "### Выбор лучшего алгоритма"
   ]
  },
  {
   "cell_type": "code",
   "execution_count": 49,
   "id": "51734fc9",
   "metadata": {},
   "outputs": [
    {
     "name": "stderr",
     "output_type": "stream",
     "text": [
      "C:\\Users\\User\\AppData\\Local\\Temp\\ipykernel_2192\\2733464281.py:6: SADeprecationWarning: Invoking or_() without arguments is deprecated, and will be disallowed in a future release.   For an empty or_() construct, use 'or_(false(), *args)' or 'or_(False, *args)'.\n",
      "  query = query.filter(or_(*[Chunk.named_entities_spacy.contains(entity) for entity in find_natasha_ne(question)]))\n"
     ]
    },
    {
     "data": {
      "text/html": [
       "<div>\n",
       "<style scoped>\n",
       "    .dataframe tbody tr th:only-of-type {\n",
       "        vertical-align: middle;\n",
       "    }\n",
       "\n",
       "    .dataframe tbody tr th {\n",
       "        vertical-align: top;\n",
       "    }\n",
       "\n",
       "    .dataframe thead th {\n",
       "        text-align: right;\n",
       "    }\n",
       "</style>\n",
       "<table border=\"1\" class=\"dataframe\">\n",
       "  <thead>\n",
       "    <tr style=\"text-align: right;\">\n",
       "      <th></th>\n",
       "      <th>question</th>\n",
       "      <th>document</th>\n",
       "      <th>sbert</th>\n",
       "      <th>spacy</th>\n",
       "      <th>natasha</th>\n",
       "    </tr>\n",
       "  </thead>\n",
       "  <tbody>\n",
       "    <tr>\n",
       "      <th>0</th>\n",
       "      <td>1. Как я могу самостоятельно сформировать спра...</td>\n",
       "      <td>Сформировать справку - вызов Вы можете самосто...</td>\n",
       "      <td>Сформировать справку - вызов Вы можете самосто...</td>\n",
       "      <td>Сформировать справку - вызов Вы можете самосто...</td>\n",
       "      <td>Сформировать справку - вызов Вы можете самосто...</td>\n",
       "    </tr>\n",
       "    <tr>\n",
       "      <th>1</th>\n",
       "      <td>2. В каком разделе и до какого срока я должен ...</td>\n",
       "      <td>Сформировать справку - вызов Вы можете самосто...</td>\n",
       "      <td>Сформировать справку - вызов Вы можете самосто...</td>\n",
       "      <td>Сформировать справку - вызов Вы можете самосто...</td>\n",
       "      <td>Сформировать справку - вызов Вы можете самосто...</td>\n",
       "    </tr>\n",
       "    <tr>\n",
       "      <th>2</th>\n",
       "      <td>3. При каких условиях студентам заочной формы ...</td>\n",
       "      <td>Сформировать справку - вызов Вы можете самосто...</td>\n",
       "      <td>Сформировать справку - вызов Вы можете самосто...</td>\n",
       "      <td>Сформировать справку - вызов Вы можете самосто...</td>\n",
       "      <td>Сформировать справку - вызов Вы можете самосто...</td>\n",
       "    </tr>\n",
       "    <tr>\n",
       "      <th>3</th>\n",
       "      <td>1. Что мне сделать, чтобы получить справку для...</td>\n",
       "      <td>По вопросу получения справки для военкомата Ва...</td>\n",
       "      <td>По вопросу получения справки для военкомата Ва...</td>\n",
       "      <td>Если Вы являетесь студентом ТюмГУ, то для полу...</td>\n",
       "      <td>Если Вы являетесь студентом ТюмГУ, то для полу...</td>\n",
       "    </tr>\n",
       "    <tr>\n",
       "      <th>4</th>\n",
       "      <td>2. Где и кто мне должен помочь с получением сп...</td>\n",
       "      <td>По вопросу получения справки для военкомата Ва...</td>\n",
       "      <td>По вопросу получения справки для военкомата Ва...</td>\n",
       "      <td>По вопросу получения справки для военкомата Ва...</td>\n",
       "      <td>По вопросу получения справки для военкомата Ва...</td>\n",
       "    </tr>\n",
       "  </tbody>\n",
       "</table>\n",
       "</div>"
      ],
      "text/plain": [
       "                                            question  \\\n",
       "0  1. Как я могу самостоятельно сформировать спра...   \n",
       "1  2. В каком разделе и до какого срока я должен ...   \n",
       "2  3. При каких условиях студентам заочной формы ...   \n",
       "3  1. Что мне сделать, чтобы получить справку для...   \n",
       "4  2. Где и кто мне должен помочь с получением сп...   \n",
       "\n",
       "                                            document  \\\n",
       "0  Сформировать справку - вызов Вы можете самосто...   \n",
       "1  Сформировать справку - вызов Вы можете самосто...   \n",
       "2  Сформировать справку - вызов Вы можете самосто...   \n",
       "3  По вопросу получения справки для военкомата Ва...   \n",
       "4  По вопросу получения справки для военкомата Ва...   \n",
       "\n",
       "                                               sbert  \\\n",
       "0  Сформировать справку - вызов Вы можете самосто...   \n",
       "1  Сформировать справку - вызов Вы можете самосто...   \n",
       "2  Сформировать справку - вызов Вы можете самосто...   \n",
       "3  По вопросу получения справки для военкомата Ва...   \n",
       "4  По вопросу получения справки для военкомата Ва...   \n",
       "\n",
       "                                               spacy  \\\n",
       "0  Сформировать справку - вызов Вы можете самосто...   \n",
       "1  Сформировать справку - вызов Вы можете самосто...   \n",
       "2  Сформировать справку - вызов Вы можете самосто...   \n",
       "3  Если Вы являетесь студентом ТюмГУ, то для полу...   \n",
       "4  По вопросу получения справки для военкомата Ва...   \n",
       "\n",
       "                                             natasha  \n",
       "0  Сформировать справку - вызов Вы можете самосто...  \n",
       "1  Сформировать справку - вызов Вы можете самосто...  \n",
       "2  Сформировать справку - вызов Вы можете самосто...  \n",
       "3  Если Вы являетесь студентом ТюмГУ, то для полу...  \n",
       "4  По вопросу получения справки для военкомата Ва...  "
      ]
     },
     "execution_count": 49,
     "metadata": {},
     "output_type": "execute_result"
    }
   ],
   "source": [
    "test_openchat_NE_docs[\"sbert\"] = test_openchat_NE_docs[\"question\"].apply(answer_sbert)\n",
    "test_openchat_NE_docs[\"spacy\"] = test_openchat_NE_docs[\"question\"].apply(answer_ner_spacy)\n",
    "test_openchat_NE_docs[\"natasha\"] = test_openchat_NE_docs[\"question\"].apply(answer_ner_natasha)\n",
    "test_openchat_NE_docs.head(5)\n"
   ]
  },
  {
   "cell_type": "markdown",
   "id": "5b8f1f73",
   "metadata": {},
   "source": [
    "#### Accuracy"
   ]
  },
  {
   "cell_type": "code",
   "execution_count": 52,
   "id": "057b78e0",
   "metadata": {},
   "outputs": [
    {
     "name": "stdout",
     "output_type": "stream",
     "text": [
      "sbert 0.44285714285714284\n",
      "spacy 0.3904761904761905\n",
      "natasha 0.38095238095238093\n"
     ]
    }
   ],
   "source": [
    "for column in test_openchat_NE_docs.columns[2:]:\n",
    "    print(column, sum(test_openchat_NE_docs[column].apply(lambda x: \"\" if x is None else x) == test_openchat_NE_docs.document) / len(test_openchat_NE_docs.document))\n"
   ]
  },
  {
   "cell_type": "markdown",
   "id": "d6cf90ac",
   "metadata": {},
   "source": [
    "#### ROUGE-L"
   ]
  },
  {
   "cell_type": "code",
   "execution_count": 53,
   "id": "25c02817",
   "metadata": {},
   "outputs": [
    {
     "name": "stdout",
     "output_type": "stream",
     "text": [
      "Note: you may need to restart the kernel to use updated packages.\n"
     ]
    },
    {
     "name": "stderr",
     "output_type": "stream",
     "text": [
      "WARNING: Ignoring invalid distribution -cipy (c:\\users\\user\\appdata\\local\\programs\\python\\python310\\lib\\site-packages)\n",
      "WARNING: Ignoring invalid distribution -umpy (c:\\users\\user\\appdata\\local\\programs\\python\\python310\\lib\\site-packages)\n",
      "WARNING: Ignoring invalid distribution -zdata (c:\\users\\user\\appdata\\local\\programs\\python\\python310\\lib\\site-packages)\n",
      "WARNING: Ignoring invalid distribution -cipy (c:\\users\\user\\appdata\\local\\programs\\python\\python310\\lib\\site-packages)\n",
      "WARNING: Ignoring invalid distribution -umpy (c:\\users\\user\\appdata\\local\\programs\\python\\python310\\lib\\site-packages)\n",
      "WARNING: Ignoring invalid distribution -zdata (c:\\users\\user\\appdata\\local\\programs\\python\\python310\\lib\\site-packages)\n",
      "\n",
      "[notice] A new release of pip is available: 23.3.1 -> 24.0\n",
      "[notice] To update, run: python.exe -m pip install --upgrade pip\n"
     ]
    }
   ],
   "source": [
    "%pip install rouge --quiet\n"
   ]
  },
  {
   "cell_type": "code",
   "execution_count": 55,
   "id": "2da8a0c7",
   "metadata": {},
   "outputs": [
    {
     "name": "stdout",
     "output_type": "stream",
     "text": [
      "sbert {'r': 0.5815014188877036, 'p': 0.6088098837901458, 'f': 0.568727083330976}\n",
      "spacy {'r': 0.5484565126260628, 'p': 0.5618241579119402, 'f': 0.5274733103035136}\n",
      "natasha {'r': 0.5368371472140543, 'p': 0.5531557274527733, 'f': 0.5173997343012992}\n"
     ]
    }
   ],
   "source": [
    "from rouge import Rouge\n",
    "rouge = Rouge()\n",
    "\n",
    "for column in test_openchat_NE_docs.columns[2:]:\n",
    "    print(column, rouge.get_scores(test_openchat_NE_docs[column].apply(lambda x: \"-\" if x is None else x), test_openchat_NE_docs[\"document\"], avg=True)['rouge-l'])\n"
   ]
  }
 ],
 "metadata": {
  "kernelspec": {
   "display_name": "Python 3 (ipykernel)",
   "language": "python",
   "name": "python3"
  },
  "language_info": {
   "codemirror_mode": {
    "name": "ipython",
    "version": 3
   },
   "file_extension": ".py",
   "mimetype": "text/x-python",
   "name": "python",
   "nbconvert_exporter": "python",
   "pygments_lexer": "ipython3",
   "version": "3.10.2"
  }
 },
 "nbformat": 4,
 "nbformat_minor": 5
}
