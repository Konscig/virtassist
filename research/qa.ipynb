{
 "cells": [
  {
   "cell_type": "markdown",
   "id": "54d7d1e2-a651-49a0-8679-afdb399291de",
   "metadata": {},
   "source": [
    "# Confluence + LLM = QA"
   ]
  },
  {
   "cell_type": "code",
   "execution_count": 1,
   "id": "3ad8db59",
   "metadata": {},
   "outputs": [
    {
     "name": "stdout",
     "output_type": "stream",
     "text": [
      "Note: you may need to restart the kernel to use updated packages.\n"
     ]
    }
   ],
   "source": [
    "%pip install pandas --quiet\n",
    "import pandas as pd"
   ]
  },
  {
   "cell_type": "code",
   "execution_count": 2,
   "id": "8a0752b6-6fa1-499f-a728-ff24a0416fe2",
   "metadata": {},
   "outputs": [],
   "source": [
    "from os import environ\n",
    "from dotenv import load_dotenv\n",
    "load_dotenv(dotenv_path=\"../.env\")\n",
    "\n",
    "confluence_token = environ.get('CONFLUENCE_TOKEN')\n",
    "hf_token = environ.get('HF_TOKEN')\n",
    "hf_write_token = environ.get('HF_WRITE_TOKEN')\n",
    "gigachat_token = environ.get('GIGACHAT_TOKEN')\n",
    "gigachat_pro_token = environ.get('GIGACHAT_PRO_TOKEN')\n",
    "yandex_token = environ.get('YC_API_KEY')"
   ]
  },
  {
   "cell_type": "code",
   "execution_count": 3,
   "id": "dd997a1e-7dca-4038-bf4e-4aeeee8f040f",
   "metadata": {},
   "outputs": [],
   "source": [
    "from atlassian import Confluence\n",
    "\n",
    "confluence_url = \"https://confluence.utmn.ru\"\n",
    "confluence = Confluence(url=confluence_url, token=confluence_token)"
   ]
  },
  {
   "cell_type": "markdown",
   "id": "10c52810-a8f9-4b28-9c68-a32e422bfc04",
   "metadata": {},
   "source": [
    "## Поиск документа в Confluence через CQL\n",
    "\n",
    "\n",
    " * https://atlassian-python-api.readthedocs.io/confluence.html\n",
    " * https://developer.atlassian.com/cloud/confluence/rest/v2/api-group-page/#api-pages-id-get\n",
    " * https://developer.atlassian.com/server/confluence/advanced-searching-using-cql/\n",
    " * https://spacy.io/usage/spacy-101"
   ]
  },
  {
   "cell_type": "code",
   "execution_count": 8,
   "id": "7b7d5560",
   "metadata": {},
   "outputs": [
    {
     "name": "stdout",
     "output_type": "stream",
     "text": [
      "\u001b[38;5;2m✔ Download and installation successful\u001b[0m\n",
      "You can now load the package via spacy.load('ru_core_news_sm')\n"
     ]
    }
   ],
   "source": [
    "!python -m spacy download ru_core_news_sm --quiet"
   ]
  },
  {
   "cell_type": "code",
   "execution_count": 4,
   "id": "9073b5a4",
   "metadata": {},
   "outputs": [],
   "source": [
    "import spacy\n",
    "nlp = spacy.load(\"ru_core_news_sm\")\n",
    "needed_pos = ['NOUN', 'NUM', 'PROPN', 'ADJ', 'VERB', 'X']\n",
    "\n",
    "\n",
    "def get_cql_query(spaces, question):\n",
    "    exclude = ' and label != \"навигация\"' \n",
    "    words = [token for token in nlp(question.lower()) if not token.is_stop and\n",
    "             token.pos_ in needed_pos and len(token.text) > 2]\n",
    "    if len(words) == 0:\n",
    "        return ()\n",
    "    spaces = \" or \".join([f\"space = {space}\" for space in spaces])\n",
    "    words_with_verbs = \" and \".join(list(set([f\"(title ~ '{word}*' or text ~ '{word}*' or title ~ '{word.lemma_}*' or text ~ '{word.lemma_}*')\"\n",
    "                                              for word in words])))\n",
    "    words_without_verbs = \" and \".join(list(set([f\"(title ~ '{word}*' or text ~ '{word}*' or title ~ '{word.lemma_}*' or text ~ '{word.lemma_}*')\"\n",
    "                                                 for word in words if word.pos_ != 'VERB'])))\n",
    "    words_without_verbs_and_adj = \" and \".join(list(set([f\"(title ~ '{word}*' or text ~ '{word}*' or title ~ '{word.lemma_}*' or text ~ '{word.lemma_}*')\"\n",
    "                                                         for word in words if word.pos_ not in ['VERB', 'ADJ']])))\n",
    "    return (\"(\" + spaces + \") and (\" + words_with_verbs + \")\" + exclude,\n",
    "            \"(\" + spaces + \") and (\" + words_without_verbs + \")\" + exclude,\n",
    "            \"(\" + spaces + \") and (\" + words_without_verbs_and_adj + \")\" + exclude)\n",
    "    \n",
    "\n",
    "def get_document_id(question: str) -> str:\n",
    "    cql_query = get_cql_query(spaces=[\"study\"], question=question)\n",
    "    if len(cql_query) == 0:\n",
    "        return \"0\"\n",
    "    results = confluence.cql(cql_query[0], start=0, limit=1)['results']\n",
    "    if len(results) == 0:\n",
    "        results = confluence.cql(cql_query[1], start=0, limit=1)['results']\n",
    "        if len(results) == 0:\n",
    "            results = confluence.cql(cql_query[2], start=0, limit=1)['results']\n",
    "            if len(results) == 0:\n",
    "                return \"0\"\n",
    "\n",
    "    return results[0]['content']['id']"
   ]
  },
  {
   "cell_type": "code",
   "execution_count": 4,
   "id": "dee0eda2-3f11-4deb-9a19-4646935ee678",
   "metadata": {},
   "outputs": [],
   "source": [
    "from bs4 import BeautifulSoup\n",
    "from langchain_community.document_loaders import PyPDFLoader\n",
    "\n",
    "def get_document_content_by_id(page_id: str):\n",
    "    children = confluence.cql(f\"parent={page_id}\")[\"results\"]\n",
    "    if len(children) > 0:\n",
    "        return\n",
    "    page = confluence.get_page_by_id(page_id, expand='space,body.export_view')\n",
    "    \n",
    "    page_body = page['body']['export_view']['value']\n",
    "    page_download = page['_links']['base'] + page['_links']['download'] if 'download' in page['_links'].keys() else ''\n",
    "\n",
    "    try:\n",
    "        if len(page_body) > 50:\n",
    "            page_body = page['body']['export_view']['value']\n",
    "            soup = BeautifulSoup(page_body, 'html.parser')\n",
    "            page_body_text = soup.get_text(separator=' ')\n",
    "            content = page_body_text.replace(\" \\n \", \"\")\n",
    "        elif '.pdf' in page_download.lower():\n",
    "            loader = PyPDFLoader(page_download.split('?')[0])\n",
    "            content = \" \".join([page.page_content for page in loader.load_and_split()])\n",
    "        else:\n",
    "            return None\n",
    "    except:\n",
    "        return None\n",
    "\n",
    "    return content\n",
    "\n",
    "\n",
    "def get_document_content(question: str):\n",
    "    page_id = get_document_id(question)\n",
    "    if page_id == \"0\":\n",
    "        return None\n",
    "    return get_document_content_by_id(page_id)"
   ]
  },
  {
   "cell_type": "code",
   "execution_count": 6,
   "id": "56945f57",
   "metadata": {},
   "outputs": [
    {
     "data": {
      "text/plain": [
       "'Выбор спортивных секций по Физической культуре будет проходить в ИС Модеус во вкладке \"Выбор модулей\".\\xa0 Вам нужно будет выбрать 2 интересующие Вас спортивные секции, которые будут проходить каждую неделю в одно и то же время.\\xa0 Ограничения: 1) Записаться можно не более чем на 2 занятия в неделю 2) Нельзя записываться на два занятия подряд.\\xa0 Вас могут не допустить на занятие, если Вы были на предыдущей паре и/или уже посетили два занятия за неделю. При этом расписание на наличие конфликтов Вы проверяете самостоятельно в соответствии с Вашим расписанием в ИС Модеус и расписанием спортивных секций (во вложенных файлах). Ваш выбор пролонгируется до конца семестра, однако в любой момент Вы можете его изменить, отписавшись от одной секции и записавшись на другую. ВАЖНО!  Студент, пропустивший два занятия подряд, будет отписан автоматически. Выбор Физической культуры откроется 06.09.2023 и будет открыт до конца семестра.\\xa0 Для успешной аттестации по дисциплине «Физическая культура: элективные курсы по видам спорта» Вы должны набрать не менее 61 балла по балльно-рейтинговой оценочной шкале. Для этого Вы можете: 1) Посещать академические занятия (3 балла за каждое занятие); 2) Принять участие в спортивно-массовых мероприятиях университета: Днях здорового образа жизни, Маршрут Дружбы, Кросс Наций, и других (0-10 баллов за каждое мероприятие). 3) Принять участите в соревнованиях по видам спорта (0 – 60 баллов); 4) Выполнить ВФСК ГТО (0 – 60 баллов). Для оформления посещения частного фитнес-клуба или тренажёрного зала вместо практических занятий по физкультуре студент к первому занятию по физической культуре представляет тренеру-преподавателю по спорту (куратору по физкультуре)  пакет документов  и приходит на зачётное мероприятие. ВАЖНО!!!  Все документы должны быть предоставлены в течение первой учебной недели. Список ответственных за прием документов спортзала по институтам (Ленина, 6):  1. ИГиП, Антропошкола – Пырлич Юлия Васильевна (y.v.pyrlich@utmn.ru) 2. СоцГум- Ерженин Владимир Сергеевич (v.s.erzhenin@utmn.ru) 3. ФЭИ - Копякова Анна Леонидовна (a.l.kopyakova@utmn.ru) 4. ИнЗем \\xa0- Питулин Артём Владимирович (a.v.pitulin@utmn.ru) 5. ФТИ, ИнХим, ШЕН –Пырлич Юлия Васильевна (y.v.pyrlich@utmn.ru) 6. ИнБио - Криводанова Наталья Александровна (n.a.krivodanova@utmn.ru) 7. Школа образования - Баянов Николай Ильич (n.i.bayanov@utmn.ru) 8. ШКН - Тверских Владислав Владимирович (vl.v.tverskikh@utmn.ru)'"
      ]
     },
     "execution_count": 6,
     "metadata": {},
     "output_type": "execute_result"
    }
   ],
   "source": [
    "get_document_content(\"Спорт?\")"
   ]
  },
  {
   "cell_type": "markdown",
   "id": "0ddbec5f",
   "metadata": {
    "jp-MarkdownHeadingCollapsed": true
   },
   "source": [
    "## Собственный индекс Confluence"
   ]
  },
  {
   "cell_type": "markdown",
   "id": "07f5b94d",
   "metadata": {},
   "source": [
    "### Структура БД"
   ]
  },
  {
   "cell_type": "code",
   "execution_count": 4,
   "id": "2b0f87fa",
   "metadata": {},
   "outputs": [],
   "source": [
    "from sqlalchemy import create_engine\n",
    "engine = create_engine(f\"postgresql://{environ.get('POSTGRES_USER')}:{environ.get('POSTGRES_PASSWORD')}@{environ.get('POSTGRES_HOST')}/{environ.get('POSTGRES_DB')}\", echo=False)"
   ]
  },
  {
   "cell_type": "code",
   "execution_count": 5,
   "id": "b7f81c4d",
   "metadata": {},
   "outputs": [],
   "source": [
    "from typing import Optional\n",
    "from pgvector.sqlalchemy import Vector\n",
    "from sqlalchemy import Text\n",
    "from sqlalchemy.orm import DeclarativeBase, Mapped, Session, mapped_column\n",
    "\n",
    "class Base(DeclarativeBase):\n",
    "    pass\n",
    "\n",
    "class Chunk(Base):\n",
    "    __tablename__ = \"chunk\"\n",
    "    id: Mapped[int] = mapped_column(primary_key=True)\n",
    "    confluence_id: Mapped[int] = mapped_column(index=True)\n",
    "    text: Mapped[str] = mapped_column(Text())\n",
    "    text_lem: Mapped[str] = mapped_column(Text())\n",
    "    tfidf: Mapped[Optional[Vector]] = mapped_column(Vector(2777))\n",
    "    doc2vec: Mapped[Optional[Vector]] = mapped_column(Vector(150))\n",
    "    rubert: Mapped[Optional[Vector]] = mapped_column(Vector(312))\n",
    "    rusbert: Mapped[Optional[Vector]] = mapped_column(Vector(312))\n",
    "    rusbert_finetuned: Mapped[Optional[Vector]] = mapped_column(Vector(312))\n",
    "    gigachat_embeddings: Mapped[Optional[Vector]] = mapped_column(Vector(1024))"
   ]
  },
  {
   "cell_type": "code",
   "execution_count": 7,
   "id": "fa815c94",
   "metadata": {},
   "outputs": [],
   "source": [
    "def lower_stopword_lemmatize(text):\n",
    "    return \" \".join([token.lemma_ for token in nlp(str(text).lower()) if not token.is_stop and token.pos_ != 'PUNCT'])"
   ]
  },
  {
   "cell_type": "markdown",
   "id": "5bb1aa0e",
   "metadata": {},
   "source": [
    "### Выгрузка, предобработка и сохранение документов из пространства"
   ]
  },
  {
   "cell_type": "code",
   "execution_count": 8,
   "id": "4c0a733c",
   "metadata": {},
   "outputs": [
    {
     "data": {
      "text/plain": [
       "45"
      ]
     },
     "execution_count": 8,
     "metadata": {},
     "output_type": "execute_result"
    }
   ],
   "source": [
    "page_ids = []\n",
    "count_start = 0\n",
    "limit = 100\n",
    "pages = confluence.cql(f\"space = study order by id\", start=count_start, limit=limit)[\"results\"]\n",
    "while len(pages) != 0:\n",
    "    page_ids = page_ids + [page['content']['id'] for page in pages if 'content' in page.keys()]\n",
    "    count_start += limit\n",
    "    pages = confluence.cql(f\"space = study order by id\", start=count_start, limit=limit)[\"results\"]\n",
    "len(page_ids)"
   ]
  },
  {
   "cell_type": "code",
   "execution_count": 9,
   "id": "cfc165c1",
   "metadata": {},
   "outputs": [
    {
     "data": {
      "text/plain": [
       "[Document(page_content='Сформировать справку-вызов Вы можете самостоятельно в личном кабинете на портале \"Вместе\"  https://vmeste.utmn.ru/login  (раздел \"Обучение\"=>\"Справки\"). После подписания скан-копия справки-вызов направляется на корпоративную студенческую почту. ВАЖНО! На основании ст. 173 Трудового кодекса РФ и п. 4.5. Положения о текущем контроле успеваемости и промежуточной аттестации обучающихся ФГАОУ ВО ТюмГУ справка-вызов на текущую сессию студентам заочной формы обучения оформляется только при успешной сдаче предыдущей сессии и предоставляется до начала сессии. \\xa0 При наличии академической задолженности за предыдущую сессию, справка-вызов не предоставляется.', metadata={'page_id': '86478987'}),\n",
       " Document(page_content='По вопросу получения справки для военкомата Вам необходимо обратиться в Отдел мобилизационной подготовки по адресу: ул. Перекопская, 15А каб.408\\xa0 Телефон: (3452) 59-75-83', metadata={'page_id': '86478990'}),\n",
       " Document(page_content='Студенты очной формы обучения оформляют справку о подтверждении обучения самостоятельно с помощью магнитной карты в любом из терминалов, расположенных на территории Университета: в холле 1 этажа (ул. Семакова, д. 18), Школы компьютерных наук (ул. Перекопская, д.15а), Института государства и права (ул. Ленина, д.38), Финансово-экономического института (ул. Ленина, 16), Школы образования (проезд 9 Мая, д.5) При отсутствии магнитной карты Вы можете обратиться к специалисту Единого деканата (ул. Семакова, д.18, 3 этаж, холл) и подать заявление на ее восстановление. При себе необходимо иметь паспорт или студенческий билет.\\xa0 Студенты заочной и очно-заочной форм обучения могут заказать справку об обучении, написав на почту Единого деканата (ed@utmn.ru)', metadata={'page_id': '86478992'})]"
      ]
     },
     "execution_count": 9,
     "metadata": {},
     "output_type": "execute_result"
    }
   ],
   "source": [
    "from langchain.text_splitter import SentenceTransformersTokenTextSplitter\n",
    "from langchain_core.documents import Document\n",
    "\n",
    "documents = []\n",
    "for page_id in page_ids:\n",
    "    page_content = get_document_content_by_id(page_id)\n",
    "    if page_content is None:\n",
    "        continue\n",
    "    documents.append(Document(\n",
    "        page_content=page_content, metadata={\"page_id\": page_id}\n",
    "    ))\n",
    "documents[:3]"
   ]
  },
  {
   "cell_type": "code",
   "execution_count": 10,
   "id": "37d442b7",
   "metadata": {},
   "outputs": [
    {
     "data": {
      "text/plain": [
       "54"
      ]
     },
     "execution_count": 10,
     "metadata": {},
     "output_type": "execute_result"
    }
   ],
   "source": [
    "text_splitter = SentenceTransformersTokenTextSplitter(model_name=\"saved_models/rubert-tiny2-wikiutmn\")   \n",
    "all_splits = text_splitter.split_documents(documents)\n",
    "len(all_splits)"
   ]
  },
  {
   "cell_type": "code",
   "execution_count": 11,
   "id": "4f680d96",
   "metadata": {},
   "outputs": [],
   "source": [
    "from sqlalchemy import text\n",
    "\n",
    "with Session(engine) as session:\n",
    "    session.execute(text('CREATE EXTENSION IF NOT EXISTS vector'))\n",
    "    session.commit()\n",
    "Base.metadata.create_all(engine)"
   ]
  },
  {
   "cell_type": "code",
   "execution_count": 14,
   "id": "c81ad8ad",
   "metadata": {},
   "outputs": [],
   "source": [
    "with Session(engine) as session:\n",
    "    for split in all_splits:\n",
    "        doc = Chunk(\n",
    "            confluence_id=int(split.metadata[\"page_id\"]),\n",
    "            text=split.page_content, \n",
    "            text_lem=\"\" # lower_stopword_lemmatize(split.page_content)\n",
    "        )\n",
    "        session.add(doc)\n",
    "    session.commit()   "
   ]
  },
  {
   "cell_type": "markdown",
   "id": "081f57ce",
   "metadata": {},
   "source": [
    "### Эмбеддинги"
   ]
  },
  {
   "cell_type": "code",
   "execution_count": 16,
   "id": "d49a873f",
   "metadata": {},
   "outputs": [
    {
     "data": {
      "text/html": [
       "<div>\n",
       "<style scoped>\n",
       "    .dataframe tbody tr th:only-of-type {\n",
       "        vertical-align: middle;\n",
       "    }\n",
       "\n",
       "    .dataframe tbody tr th {\n",
       "        vertical-align: top;\n",
       "    }\n",
       "\n",
       "    .dataframe thead th {\n",
       "        text-align: right;\n",
       "    }\n",
       "</style>\n",
       "<table border=\"1\" class=\"dataframe\">\n",
       "  <thead>\n",
       "    <tr style=\"text-align: right;\">\n",
       "      <th></th>\n",
       "      <th>id</th>\n",
       "      <th>text</th>\n",
       "      <th>text_lem</th>\n",
       "    </tr>\n",
       "  </thead>\n",
       "  <tbody>\n",
       "    <tr>\n",
       "      <th>0</th>\n",
       "      <td>2</td>\n",
       "      <td>Сформировать справку - вызов Вы можете самосто...</td>\n",
       "      <td></td>\n",
       "    </tr>\n",
       "    <tr>\n",
       "      <th>1</th>\n",
       "      <td>3</td>\n",
       "      <td>По вопросу получения справки для военкомата Ва...</td>\n",
       "      <td></td>\n",
       "    </tr>\n",
       "    <tr>\n",
       "      <th>2</th>\n",
       "      <td>4</td>\n",
       "      <td>Студенты очной формы обучения оформляют справк...</td>\n",
       "      <td></td>\n",
       "    </tr>\n",
       "    <tr>\n",
       "      <th>3</th>\n",
       "      <td>5</td>\n",
       "      <td>Для оформления академической справки ( справки...</td>\n",
       "      <td></td>\n",
       "    </tr>\n",
       "    <tr>\n",
       "      <th>4</th>\n",
       "      <td>6</td>\n",
       "      <td>По вопросу получения справки о доходах, размер...</td>\n",
       "      <td></td>\n",
       "    </tr>\n",
       "  </tbody>\n",
       "</table>\n",
       "</div>"
      ],
      "text/plain": [
       "   id                                               text text_lem\n",
       "0   2  Сформировать справку - вызов Вы можете самосто...         \n",
       "1   3  По вопросу получения справки для военкомата Ва...         \n",
       "2   4  Студенты очной формы обучения оформляют справк...         \n",
       "3   5  Для оформления академической справки ( справки...         \n",
       "4   6  По вопросу получения справки о доходах, размер...         "
      ]
     },
     "execution_count": 16,
     "metadata": {},
     "output_type": "execute_result"
    }
   ],
   "source": [
    "from sqlalchemy import select\n",
    "\n",
    "with Session(engine) as session:\n",
    "   db_documents = pd.DataFrame([{\"id\": doc.id, \n",
    "                                     \"text\": doc.text, \n",
    "                                     \"text_lem\": doc.text_lem} for doc in session.scalars(select(Chunk).order_by(Chunk.id)).all()])\n",
    "db_documents_lem = db_documents.text_lem\n",
    "db_documents.head()"
   ]
  },
  {
   "cell_type": "markdown",
   "id": "648cbf68",
   "metadata": {},
   "source": [
    "#### TFIDF"
   ]
  },
  {
   "cell_type": "code",
   "execution_count": 10,
   "id": "c1e64ba4",
   "metadata": {},
   "outputs": [
    {
     "data": {
      "text/plain": [
       "2777"
      ]
     },
     "execution_count": 10,
     "metadata": {},
     "output_type": "execute_result"
    }
   ],
   "source": [
    "from sklearn.feature_extraction.text import TfidfVectorizer\n",
    "tfidf_vectorizer = TfidfVectorizer()\n",
    "tfidfX = tfidf_vectorizer.fit_transform(db_documents_lem)\n",
    "len(tfidf_vectorizer.transform([db_documents_lem[0]]).toarray()[0])"
   ]
  },
  {
   "cell_type": "code",
   "execution_count": 11,
   "id": "d0428a08",
   "metadata": {},
   "outputs": [],
   "source": [
    "with Session(engine) as session:\n",
    "   documents = session.scalars(select(Chunk).order_by(Chunk.id)).all()\n",
    "   for doc in documents:\n",
    "      doc.tfidf = tfidf_vectorizer.transform([doc.text_lem]).toarray()[0]\n",
    "      session.add(doc)\n",
    "      session.flush()\n",
    "   session.commit()"
   ]
  },
  {
   "cell_type": "code",
   "execution_count": 12,
   "id": "9046e56b",
   "metadata": {},
   "outputs": [],
   "source": [
    "def answer_tfidf(question):\n",
    "    with Session(engine) as session:\n",
    "        return session.scalars(select(Chunk)\n",
    "                        .order_by(Chunk.tfidf.cosine_distance(\n",
    "                            tfidf_vectorizer.transform([lower_stopword_lemmatize(question)]).toarray()[0]\n",
    "                            )).limit(1)).first().text"
   ]
  },
  {
   "cell_type": "code",
   "execution_count": 13,
   "id": "243bcc17",
   "metadata": {},
   "outputs": [
    {
     "data": {
      "text/plain": [
       "'Прежде, чем выбрать элективы, рекомендуем почитать отзывы на сервисе « Отзывус » : https : / / electives. utmn. ru. Там же можно написать о своём опыте изучения элективных дисциплин. Информация, о том, как поменять электив, отправляется на корпоративную почту в первую учебную неделю семестра.'"
      ]
     },
     "execution_count": 13,
     "metadata": {},
     "output_type": "execute_result"
    }
   ],
   "source": [
    "answer_tfidf(\"Как поменять физкультуру?\")"
   ]
  },
  {
   "cell_type": "markdown",
   "id": "4dadb6bf",
   "metadata": {},
   "source": [
    "#### BM25"
   ]
  },
  {
   "cell_type": "code",
   "execution_count": 16,
   "id": "0bb4478a",
   "metadata": {},
   "outputs": [
    {
     "name": "stdout",
     "output_type": "stream",
     "text": [
      "Note: you may need to restart the kernel to use updated packages.\n"
     ]
    }
   ],
   "source": [
    "%pip install rank_bm25 --quiet"
   ]
  },
  {
   "cell_type": "code",
   "execution_count": 31,
   "id": "bac7c587",
   "metadata": {},
   "outputs": [
    {
     "data": {
      "text/plain": [
       "<rank_bm25.BM25Okapi at 0x2222882cb20>"
      ]
     },
     "execution_count": 31,
     "metadata": {},
     "output_type": "execute_result"
    }
   ],
   "source": [
    "from rank_bm25 import BM25Okapi\n",
    "\n",
    "tokenized_corpus = [doc.split(\" \") for doc in db_documents_lem]\n",
    "bm25 = BM25Okapi(tokenized_corpus)\n",
    "bm25"
   ]
  },
  {
   "cell_type": "code",
   "execution_count": 47,
   "id": "17fa218b",
   "metadata": {},
   "outputs": [],
   "source": [
    "import numpy as np\n",
    "\n",
    "def answer_bm25(question):\n",
    "    id = np.argmax(bm25.get_scores(lower_stopword_lemmatize(question).split(\" \")))\n",
    "    return db_documents.text[id]\n",
    "        "
   ]
  },
  {
   "cell_type": "code",
   "execution_count": 58,
   "id": "2eb1a343",
   "metadata": {},
   "outputs": [
    {
     "data": {
      "text/plain": [
       "'Для восстановления студенческого билета Вам необходимо подать заявление в Едином деканате ( ул. Семакова, д. 18, холл 3 этажа ). При себе иметь фото 3 * 4 и паспорт. Чтобы продлить студенческий билет, необходимо подойти в Единый деканат к специалисту, курирующему Ваш институт ( ул. Семакова, д. 18, каб. 302 либо 305 ). Если Вы потеряли магнитную карту ( пропуск, проходка ), необходимо подать заявление на ее восстановление в Едином деканате ( ул. Семакова, д. 18, 3 этаж ). При себе иметь паспорт или студенческий билет. Если Ваша магнитная карта ( пропуск, проходка ) не работает, необходимо обратиться в Центр информационных технологий по адресу : ул. Ленина, д. 23, каб. 310. При себе иметь карту, паспорт либо продленый студенческий билет. Телефон Единого деканата : 8 ( 3452 ) 59 - 75 - 95, email : ed @ utmn. ru'"
      ]
     },
     "execution_count": 58,
     "metadata": {},
     "output_type": "execute_result"
    }
   ],
   "source": [
    "answer_bm25(\"Что делать, если потерял студенческий билет?\")"
   ]
  },
  {
   "cell_type": "markdown",
   "id": "5f7a23b9",
   "metadata": {},
   "source": [
    "#### Doc2vec"
   ]
  },
  {
   "cell_type": "code",
   "execution_count": 29,
   "id": "132815c5",
   "metadata": {},
   "outputs": [
    {
     "name": "stdout",
     "output_type": "stream",
     "text": [
      "Note: you may need to restart the kernel to use updated packages.\n"
     ]
    }
   ],
   "source": [
    "%pip install gensim --quiet"
   ]
  },
  {
   "cell_type": "code",
   "execution_count": 14,
   "id": "b2918499",
   "metadata": {},
   "outputs": [
    {
     "data": {
      "text/plain": [
       "150"
      ]
     },
     "execution_count": 14,
     "metadata": {},
     "output_type": "execute_result"
    }
   ],
   "source": [
    "from gensim.models.doc2vec import Doc2Vec, TaggedDocument\n",
    "\n",
    "documents = [TaggedDocument(doc, [i]) for i, doc in enumerate([text.split() for text in db_documents_lem])]\n",
    "doc2vec_model = Doc2Vec(documents, vector_size=150, window=5, min_count=1, workers=4)\n",
    "\n",
    "len(doc2vec_model.infer_vector(\"мама мыла раму\".split()))"
   ]
  },
  {
   "cell_type": "code",
   "execution_count": 29,
   "id": "56c5670d",
   "metadata": {},
   "outputs": [],
   "source": [
    "with Session(engine) as session:\n",
    "   documents = session.scalars(select(Chunk).order_by(Chunk.id)).all()\n",
    "   for doc in documents:\n",
    "      doc.doc2vec = doc2vec_model.infer_vector(doc.text_lem.split())\n",
    "      session.add(doc)\n",
    "      session.flush()\n",
    "   session.commit()"
   ]
  },
  {
   "cell_type": "code",
   "execution_count": 15,
   "id": "1a1fe5b1",
   "metadata": {},
   "outputs": [],
   "source": [
    "def answer_doc2vec(question):\n",
    "    with Session(engine) as session:\n",
    "        return session.scalars(select(Chunk)\n",
    "                        .order_by(Chunk.doc2vec.cosine_distance(\n",
    "                           doc2vec_model.infer_vector(lower_stopword_lemmatize(question).split())\n",
    "                            )).limit(1)).first().text"
   ]
  },
  {
   "cell_type": "code",
   "execution_count": 16,
   "id": "905dc65e",
   "metadata": {},
   "outputs": [
    {
     "data": {
      "text/plain": [
       "'Заявление подается через личный кабинет на портале \" Вместе \". Отпуск по уходу за ребенком до достижения им возраста трех лет предоставляется обучающемуся, являющемуся матерью ( отцом, опекуном ) на основании личного заявления, к которому прилагается копия свидетельства о рождении ребенка. Отпуск по уходу за ребенком до достижения им возраста трех лет оформляется сроком не более трех лет с момента рождения ребенка и может быть использован полностью или по частям.'"
      ]
     },
     "execution_count": 16,
     "metadata": {},
     "output_type": "execute_result"
    }
   ],
   "source": [
    "answer_doc2vec(\"Как поменять физкультуру?\")"
   ]
  },
  {
   "cell_type": "markdown",
   "id": "9118dc87",
   "metadata": {},
   "source": [
    "#### RuBERT-Tiny"
   ]
  },
  {
   "cell_type": "code",
   "execution_count": 17,
   "id": "7816dbe9",
   "metadata": {},
   "outputs": [
    {
     "data": {
      "text/plain": [
       "312"
      ]
     },
     "execution_count": 17,
     "metadata": {},
     "output_type": "execute_result"
    }
   ],
   "source": [
    "import torch\n",
    "from transformers import AutoTokenizer, AutoModel\n",
    "rubert_tokenizer = AutoTokenizer.from_pretrained(\"cointegrated/rubert-tiny\")\n",
    "rubert_model = AutoModel.from_pretrained(\"cointegrated/rubert-tiny\")\n",
    "rubert_model.cpu()\n",
    "# rubert_model.cuda()  # uncomment it if you have a GPU\n",
    "\n",
    "def embed_bert_cls(text, model, tokenizer):\n",
    "    t = tokenizer(text, padding=True, truncation=True, return_tensors='pt')\n",
    "    with torch.no_grad():\n",
    "        model_output = model(**{k: v.to(model.device) for k, v in t.items()})\n",
    "    embeddings = model_output.last_hidden_state[:, 0, :]\n",
    "    embeddings = torch.nn.functional.normalize(embeddings)\n",
    "    return embeddings[0].cpu().numpy()\n",
    "\n",
    "len(embed_bert_cls(\"мама мыла раму\", rubert_model, rubert_tokenizer))"
   ]
  },
  {
   "cell_type": "code",
   "execution_count": 33,
   "id": "560c7937",
   "metadata": {},
   "outputs": [],
   "source": [
    "with Session(engine) as session:\n",
    "   documents = session.scalars(select(Chunk).order_by(Chunk.id)).all()\n",
    "   for doc in documents:\n",
    "      doc.rubert = embed_bert_cls(doc.text, rubert_model, rubert_tokenizer)\n",
    "      session.add(doc)\n",
    "      session.flush()\n",
    "   session.commit()"
   ]
  },
  {
   "cell_type": "code",
   "execution_count": 18,
   "id": "42ad003c",
   "metadata": {},
   "outputs": [],
   "source": [
    "def answer_rubert(question):\n",
    "    with Session(engine) as session:\n",
    "        return session.scalars(select(Chunk)\n",
    "                        .order_by(Chunk.rubert.cosine_distance(\n",
    "                            embed_bert_cls(question, rubert_model, rubert_tokenizer)\n",
    "                            )).limit(1)).first().text"
   ]
  },
  {
   "cell_type": "code",
   "execution_count": 19,
   "id": "ee5d8e0f",
   "metadata": {},
   "outputs": [
    {
     "data": {
      "text/plain": [
       "'Прежде, чем выбрать элективы, рекомендуем почитать отзывы на сервисе « Отзывус » : https : / / electives. utmn. ru. Там же можно написать о своём опыте изучения элективных дисциплин. Информация, о том, как поменять электив, отправляется на корпоративную почту в первую учебную неделю семестра.'"
      ]
     },
     "execution_count": 19,
     "metadata": {},
     "output_type": "execute_result"
    }
   ],
   "source": [
    "answer_rubert(\"Как поменять физкультуру?\")"
   ]
  },
  {
   "cell_type": "markdown",
   "id": "72d84f5a",
   "metadata": {},
   "source": [
    "#### RuSBERT-Tiny"
   ]
  },
  {
   "cell_type": "code",
   "execution_count": 20,
   "id": "cce30650",
   "metadata": {},
   "outputs": [
    {
     "data": {
      "text/plain": [
       "312"
      ]
     },
     "execution_count": 20,
     "metadata": {},
     "output_type": "execute_result"
    }
   ],
   "source": [
    "from sentence_transformers import SentenceTransformer\n",
    "\n",
    "rusbert_model = SentenceTransformer('cointegrated/rubert-tiny2', device=\"cpu\")\n",
    "len(rusbert_model.encode(\"мама мыла раму\"))"
   ]
  },
  {
   "cell_type": "code",
   "execution_count": 37,
   "id": "3c0d4a46",
   "metadata": {},
   "outputs": [],
   "source": [
    "with Session(engine) as session:\n",
    "   documents = session.scalars(select(Chunk).order_by(Chunk.id)).all()\n",
    "   for doc in documents:\n",
    "      doc.rusbert = rusbert_model.encode(doc.text)\n",
    "      session.add(doc)\n",
    "      session.flush()\n",
    "   session.commit()"
   ]
  },
  {
   "cell_type": "code",
   "execution_count": 21,
   "id": "47e60807",
   "metadata": {},
   "outputs": [],
   "source": [
    "def answer_rusbert(question):\n",
    "    with Session(engine) as session:\n",
    "        return session.scalars(select(Chunk)\n",
    "                        .order_by(Chunk.rusbert.cosine_distance(\n",
    "                            rusbert_model.encode(question)\n",
    "                            )).limit(1)).first().text"
   ]
  },
  {
   "cell_type": "code",
   "execution_count": 22,
   "id": "b573354a",
   "metadata": {},
   "outputs": [
    {
     "data": {
      "text/plain": [
       "'Выбор спортивных секций по Физической культуре будет проходить в ИС Модеус во вкладке \" Выбор модулей \". Вам нужно будет выбрать 2 интересующие Вас спортивные секции, которые будут проходить каждую неделю в одно и то же время. Ограничения : 1 ) Записаться можно не более чем на 2 занятия в неделю 2 ) Нельзя записываться на два занятия подряд. Вас могут не допустить на занятие, если Вы были на предыдущей паре и / или уже посетили два занятия за неделю. При этом расписание на наличие конфликтов Вы проверяете самостоятельно в соответствии с Вашим расписанием в ИС Модеус и расписанием спортивных секций ( во вложенных файлах ). Ваш выбор пролонгируется до конца семестра, однако в любой момент Вы можете его изменить, отписавшись от одной секции и записавшись на другую. ВАЖНО! Студент, пропустивший два занятия подряд, будет отписан автоматически. Выбор Физической культуры откроется 06. 09. 2023 и будет открыт до конца семестра. Для успешной аттестации по дисциплине « Физическая культура : элективные курсы по видам спорта » Вы должны набрать не менее 61 балла по балльно - рейтинговой оценочной шкале. Для этого Вы можете : 1 ) Посещать академические занятия ( 3 балла за каждое занятие ) ; 2 ) Принять участие в спортивно - массовых мероприятиях университета : Днях здорового образа жизни, Маршрут Дружбы, Кросс Наций, и других ( 0 - 10 баллов за каждое мероприятие ). 3 ) Принять участите в соревнованиях по видам спорта ( 0 [UNK] 60 баллов ) ; 4 ) Выполнить ВФСК ГТО ( 0 [UNK] 60 баллов ). Для оформления посещения спортивного зала вместо практических занятий по физкультуре студент к первому занятию по физической культуре представляет тренеру - преподавателю по спорту ( куратору по физкультуре ) пакет документов ( https : / / www. utmn. ru / upload / medialibrary / 676 / Polozhenie - o - realizatsii - distsiplin - _ moduley _ - po - fizicheskoy - kulture - _ sportu _. pdf ) и приходит на зачётное мероприятие. ВАЖНО!!! Все документы должны быть предоставлены в течение первой учебной недели. Список ответственных за прием документов спортзала по институтам ( Ленина, 6 ) : 1. ИГиП, Антропошкола [UNK] Пырлич Юлия Васильевна ( y. v. pyrlich @ utmn. ru ) 2. СоцГум - Ерженин Владимир Сергеевич ( v. s. erzhenin @ utmn. ru ) 3. ФЭИ - Копякова Анна Леонидовна ( a. l. kopyakova @ utmn. ru ) 4. ИнЗем - Питулин Артём Владимирович ( a. v. pitulin @ utmn. ru ) 5. ФТИ, ИнХим, ШЕН [UNK] Пырлич Юлия Васильевна ( y. v. pyrlich @ utmn. ru ) 6. ИнБио - Криводанова Наталья Александровна ( n. a. krivodanova @ utmn. ru ) 7. Школа образования - Баянов Николай Ильич ( n. i. bayanov @ utmn. ru ) 8. ШКН - Тверских Владислав Владимирович ( vl. v. tverskikh @ utmn. ru ) # физкультура'"
      ]
     },
     "execution_count": 22,
     "metadata": {},
     "output_type": "execute_result"
    }
   ],
   "source": [
    "answer_rusbert(\"Как поменять физкультуру?\")"
   ]
  },
  {
   "cell_type": "markdown",
   "id": "68b0857e",
   "metadata": {},
   "source": [
    "#### GigaChatEmbeddings"
   ]
  },
  {
   "cell_type": "code",
   "execution_count": 7,
   "id": "7ed0e86b",
   "metadata": {},
   "outputs": [
    {
     "name": "stdout",
     "output_type": "stream",
     "text": [
      "Note: you may need to restart the kernel to use updated packages.\n"
     ]
    }
   ],
   "source": [
    "%pip install --upgrade --quiet  gigachain"
   ]
  },
  {
   "cell_type": "code",
   "execution_count": 23,
   "id": "bbf7b19f",
   "metadata": {},
   "outputs": [
    {
     "name": "stdout",
     "output_type": "stream",
     "text": [
      "1024\n"
     ]
    }
   ],
   "source": [
    "from langchain_community.embeddings import GigaChatEmbeddings\n",
    "\n",
    "gigachat_embeddings = GigaChatEmbeddings(credentials=gigachat_token, verify_ssl_certs=False)\n",
    "result = gigachat_embeddings.embed_documents(texts=[\"Привет!\"])\n",
    "print(len(result[0]))"
   ]
  },
  {
   "cell_type": "code",
   "execution_count": null,
   "id": "cec44503",
   "metadata": {},
   "outputs": [],
   "source": [
    "with Session(engine) as session:\n",
    "   documents = session.scalars(select(Chunk).order_by(Chunk.id)).all()\n",
    "   for doc in documents:\n",
    "      try:\n",
    "         doc.gigachat_embeddings = gigachat_embeddings.embed_documents(texts=[doc.text])[0]\n",
    "      except:\n",
    "         print(doc.text)\n",
    "         doc.gigachat_embeddings = None\n",
    "      session.add(doc)\n",
    "      session.flush()\n",
    "   session.commit()"
   ]
  },
  {
   "cell_type": "code",
   "execution_count": 26,
   "id": "d2e7a665",
   "metadata": {},
   "outputs": [],
   "source": [
    "def answer_gigachat_embeddings(question):\n",
    "    with Session(engine) as session:\n",
    "        return session.scalars(select(Chunk)\n",
    "                        .order_by(Chunk.gigachat_embeddings.cosine_distance(\n",
    "                            gigachat_embeddings.embed_documents(texts=[question])[0]\n",
    "                            )).limit(1)).first().text"
   ]
  },
  {
   "cell_type": "code",
   "execution_count": 29,
   "id": "b515a647",
   "metadata": {},
   "outputs": [
    {
     "data": {
      "text/plain": [
       "'Прежде, чем выбрать элективы, рекомендуем почитать отзывы на сервисе « Отзывус » : https : / / electives. utmn. ru. Там же можно написать о своём опыте изучения элективных дисциплин. Информация, о том, как поменять электив, отправляется на корпоративную почту в первую учебную неделю семестра.'"
      ]
     },
     "execution_count": 29,
     "metadata": {},
     "output_type": "execute_result"
    }
   ],
   "source": [
    "answer_gigachat_embeddings(\"Как поменять физкультуру?\")"
   ]
  },
  {
   "cell_type": "markdown",
   "id": "e1dcfd2a",
   "metadata": {
    "jp-MarkdownHeadingCollapsed": true
   },
   "source": [
    "## Выбор нужного фрагмента через векторный индекс"
   ]
  },
  {
   "cell_type": "markdown",
   "id": "58b38c42",
   "metadata": {},
   "source": [
    "### Тестовая выборка с вопросами"
   ]
  },
  {
   "cell_type": "code",
   "execution_count": 51,
   "id": "9bfaec68",
   "metadata": {},
   "outputs": [
    {
     "data": {
      "text/html": [
       "<div>\n",
       "<style scoped>\n",
       "    .dataframe tbody tr th:only-of-type {\n",
       "        vertical-align: middle;\n",
       "    }\n",
       "\n",
       "    .dataframe tbody tr th {\n",
       "        vertical-align: top;\n",
       "    }\n",
       "\n",
       "    .dataframe thead th {\n",
       "        text-align: right;\n",
       "    }\n",
       "</style>\n",
       "<table border=\"1\" class=\"dataframe\">\n",
       "  <thead>\n",
       "    <tr style=\"text-align: right;\">\n",
       "      <th></th>\n",
       "      <th>question</th>\n",
       "      <th>page_id</th>\n",
       "      <th>document</th>\n",
       "    </tr>\n",
       "  </thead>\n",
       "  <tbody>\n",
       "    <tr>\n",
       "      <th>0</th>\n",
       "      <td>Почему не могу получить справку-вызов?</td>\n",
       "      <td>86478987</td>\n",
       "      <td>Сформировать справку - вызов Вы можете самосто...</td>\n",
       "    </tr>\n",
       "    <tr>\n",
       "      <th>1</th>\n",
       "      <td>Как получить справку-вызов?</td>\n",
       "      <td>86478987</td>\n",
       "      <td>Сформировать справку - вызов Вы можете самосто...</td>\n",
       "    </tr>\n",
       "    <tr>\n",
       "      <th>2</th>\n",
       "      <td>Где получить справку-вызов?</td>\n",
       "      <td>86478987</td>\n",
       "      <td>Сформировать справку - вызов Вы можете самосто...</td>\n",
       "    </tr>\n",
       "    <tr>\n",
       "      <th>3</th>\n",
       "      <td>Где взять справку для военкомата?</td>\n",
       "      <td>86478990</td>\n",
       "      <td>Вам необходимо обратиться в Отдел мобилизацион...</td>\n",
       "    </tr>\n",
       "    <tr>\n",
       "      <th>4</th>\n",
       "      <td>Как получить отсрочку от армии?</td>\n",
       "      <td>86478990</td>\n",
       "      <td>Вам необходимо обратиться в Отдел мобилизацион...</td>\n",
       "    </tr>\n",
       "    <tr>\n",
       "      <th>...</th>\n",
       "      <td>...</td>\n",
       "      <td>...</td>\n",
       "      <td>...</td>\n",
       "    </tr>\n",
       "    <tr>\n",
       "      <th>106</th>\n",
       "      <td>Могу ли я в последний момент отказаться от сме...</td>\n",
       "      <td>86479065</td>\n",
       "      <td>Прежде, чем выбрать элективы, рекомендуем почи...</td>\n",
       "    </tr>\n",
       "    <tr>\n",
       "      <th>107</th>\n",
       "      <td>где почитать отзывы на элективы?</td>\n",
       "      <td>86479065</td>\n",
       "      <td>Прежде, чем выбрать элективы, рекомендуем почи...</td>\n",
       "    </tr>\n",
       "    <tr>\n",
       "      <th>108</th>\n",
       "      <td>когда можно поменять элективы?</td>\n",
       "      <td>86479065</td>\n",
       "      <td>Прежде, чем выбрать элективы, рекомендуем почи...</td>\n",
       "    </tr>\n",
       "    <tr>\n",
       "      <th>109</th>\n",
       "      <td>как выбрать электив?</td>\n",
       "      <td>86479065</td>\n",
       "      <td>Прежде, чем выбрать элективы, рекомендуем почи...</td>\n",
       "    </tr>\n",
       "    <tr>\n",
       "      <th>110</th>\n",
       "      <td>где посмотреть отзывы на элективы?</td>\n",
       "      <td>86479065</td>\n",
       "      <td>Прежде, чем выбрать элективы, рекомендуем почи...</td>\n",
       "    </tr>\n",
       "  </tbody>\n",
       "</table>\n",
       "<p>111 rows × 3 columns</p>\n",
       "</div>"
      ],
      "text/plain": [
       "                                              question   page_id  \\\n",
       "0               Почему не могу получить справку-вызов?  86478987   \n",
       "1                          Как получить справку-вызов?  86478987   \n",
       "2                          Где получить справку-вызов?  86478987   \n",
       "3                    Где взять справку для военкомата?  86478990   \n",
       "4                      Как получить отсрочку от армии?  86478990   \n",
       "..                                                 ...       ...   \n",
       "106  Могу ли я в последний момент отказаться от сме...  86479065   \n",
       "107                   где почитать отзывы на элективы?  86479065   \n",
       "108                     когда можно поменять элективы?  86479065   \n",
       "109                               как выбрать электив?  86479065   \n",
       "110                 где посмотреть отзывы на элективы?  86479065   \n",
       "\n",
       "                                              document  \n",
       "0    Сформировать справку - вызов Вы можете самосто...  \n",
       "1    Сформировать справку - вызов Вы можете самосто...  \n",
       "2    Сформировать справку - вызов Вы можете самосто...  \n",
       "3    Вам необходимо обратиться в Отдел мобилизацион...  \n",
       "4    Вам необходимо обратиться в Отдел мобилизацион...  \n",
       "..                                                 ...  \n",
       "106  Прежде, чем выбрать элективы, рекомендуем почи...  \n",
       "107  Прежде, чем выбрать элективы, рекомендуем почи...  \n",
       "108  Прежде, чем выбрать элективы, рекомендуем почи...  \n",
       "109  Прежде, чем выбрать элективы, рекомендуем почи...  \n",
       "110  Прежде, чем выбрать элективы, рекомендуем почи...  \n",
       "\n",
       "[111 rows x 3 columns]"
      ]
     },
     "execution_count": 51,
     "metadata": {},
     "output_type": "execute_result"
    }
   ],
   "source": [
    "study_questions = pd.read_csv(\"study_questions.csv\", index_col=0)\n",
    "study_questions"
   ]
  },
  {
   "cell_type": "code",
   "execution_count": 52,
   "id": "ccd6bc18",
   "metadata": {},
   "outputs": [
    {
     "data": {
      "text/html": [
       "<div>\n",
       "<style scoped>\n",
       "    .dataframe tbody tr th:only-of-type {\n",
       "        vertical-align: middle;\n",
       "    }\n",
       "\n",
       "    .dataframe tbody tr th {\n",
       "        vertical-align: top;\n",
       "    }\n",
       "\n",
       "    .dataframe thead th {\n",
       "        text-align: right;\n",
       "    }\n",
       "</style>\n",
       "<table border=\"1\" class=\"dataframe\">\n",
       "  <thead>\n",
       "    <tr style=\"text-align: right;\">\n",
       "      <th></th>\n",
       "      <th>question</th>\n",
       "      <th>document</th>\n",
       "    </tr>\n",
       "  </thead>\n",
       "  <tbody>\n",
       "    <tr>\n",
       "      <th>0</th>\n",
       "      <td>Я потерял магнитную карту. К кому обратиться?</td>\n",
       "      <td>Для восстановления студенческого билета Вам не...</td>\n",
       "    </tr>\n",
       "    <tr>\n",
       "      <th>1</th>\n",
       "      <td>Даты подачи заявления для восстановления на очку</td>\n",
       "      <td>Заявления на восстановление в Университет по о...</td>\n",
       "    </tr>\n",
       "    <tr>\n",
       "      <th>2</th>\n",
       "      <td>Что делать при потере проходки?</td>\n",
       "      <td>Для восстановления студенческого билета Вам не...</td>\n",
       "    </tr>\n",
       "    <tr>\n",
       "      <th>3</th>\n",
       "      <td>Я хожу в фитнес-клуб. Как заменить физкультуру?</td>\n",
       "      <td>Выбор спортивных секций по Физической культуре...</td>\n",
       "    </tr>\n",
       "    <tr>\n",
       "      <th>4</th>\n",
       "      <td>Когда мне выдадут студенческий билет после пер...</td>\n",
       "      <td>1. Подать заявление о переводе можно лично, об...</td>\n",
       "    </tr>\n",
       "  </tbody>\n",
       "</table>\n",
       "</div>"
      ],
      "text/plain": [
       "                                            question  \\\n",
       "0      Я потерял магнитную карту. К кому обратиться?   \n",
       "1   Даты подачи заявления для восстановления на очку   \n",
       "2                    Что делать при потере проходки?   \n",
       "3    Я хожу в фитнес-клуб. Как заменить физкультуру?   \n",
       "4  Когда мне выдадут студенческий билет после пер...   \n",
       "\n",
       "                                            document  \n",
       "0  Для восстановления студенческого билета Вам не...  \n",
       "1  Заявления на восстановление в Университет по о...  \n",
       "2  Для восстановления студенческого билета Вам не...  \n",
       "3  Выбор спортивных секций по Физической культуре...  \n",
       "4  1. Подать заявление о переводе можно лично, об...  "
      ]
     },
     "execution_count": 52,
     "metadata": {},
     "output_type": "execute_result"
    }
   ],
   "source": [
    "from sklearn.model_selection import train_test_split\n",
    "X_train, X_test, y_train, y_test = train_test_split(study_questions.question, study_questions.document, test_size=0.6, random_state=666, stratify=study_questions.document)\n",
    "test_questions = pd.DataFrame({\"question\": X_test, \"document\": y_test}).reset_index(drop=True)\n",
    "test_questions.head()"
   ]
  },
  {
   "cell_type": "code",
   "execution_count": 53,
   "id": "f6a7271d",
   "metadata": {},
   "outputs": [
    {
     "data": {
      "text/html": [
       "<div>\n",
       "<style scoped>\n",
       "    .dataframe tbody tr th:only-of-type {\n",
       "        vertical-align: middle;\n",
       "    }\n",
       "\n",
       "    .dataframe tbody tr th {\n",
       "        vertical-align: top;\n",
       "    }\n",
       "\n",
       "    .dataframe thead th {\n",
       "        text-align: right;\n",
       "    }\n",
       "</style>\n",
       "<table border=\"1\" class=\"dataframe\">\n",
       "  <thead>\n",
       "    <tr style=\"text-align: right;\">\n",
       "      <th></th>\n",
       "      <th>question</th>\n",
       "      <th>document</th>\n",
       "    </tr>\n",
       "  </thead>\n",
       "  <tbody>\n",
       "    <tr>\n",
       "      <th>0</th>\n",
       "      <td>Где продлять студак?</td>\n",
       "      <td>Для восстановления студенческого билета Вам не...</td>\n",
       "    </tr>\n",
       "    <tr>\n",
       "      <th>1</th>\n",
       "      <td>Когда можно получить справку о стипендии?</td>\n",
       "      <td>По вопросу получения справки о доходах, размер...</td>\n",
       "    </tr>\n",
       "    <tr>\n",
       "      <th>2</th>\n",
       "      <td>Как перевестись на другое направление на заочке?</td>\n",
       "      <td>Заявления о переводе принимаются два раза в го...</td>\n",
       "    </tr>\n",
       "    <tr>\n",
       "      <th>3</th>\n",
       "      <td>Как перевестись на другое направление?</td>\n",
       "      <td>Заявления о переводе принимаются два раза в го...</td>\n",
       "    </tr>\n",
       "    <tr>\n",
       "      <th>4</th>\n",
       "      <td>Могу ли я в последний момент отказаться от сме...</td>\n",
       "      <td>Прежде, чем выбрать элективы, рекомендуем почи...</td>\n",
       "    </tr>\n",
       "  </tbody>\n",
       "</table>\n",
       "</div>"
      ],
      "text/plain": [
       "                                            question  \\\n",
       "0                               Где продлять студак?   \n",
       "1          Когда можно получить справку о стипендии?   \n",
       "2   Как перевестись на другое направление на заочке?   \n",
       "3             Как перевестись на другое направление?   \n",
       "4  Могу ли я в последний момент отказаться от сме...   \n",
       "\n",
       "                                            document  \n",
       "0  Для восстановления студенческого билета Вам не...  \n",
       "1  По вопросу получения справки о доходах, размер...  \n",
       "2  Заявления о переводе принимаются два раза в го...  \n",
       "3  Заявления о переводе принимаются два раза в го...  \n",
       "4  Прежде, чем выбрать элективы, рекомендуем почи...  "
      ]
     },
     "execution_count": 53,
     "metadata": {},
     "output_type": "execute_result"
    }
   ],
   "source": [
    "train_questions = pd.DataFrame({\"question\": X_train, \"document\": y_train}).reset_index(drop=True)\n",
    "train_questions.head()"
   ]
  },
  {
   "cell_type": "code",
   "execution_count": 54,
   "id": "51734fc9",
   "metadata": {},
   "outputs": [
    {
     "data": {
      "text/html": [
       "<div>\n",
       "<style scoped>\n",
       "    .dataframe tbody tr th:only-of-type {\n",
       "        vertical-align: middle;\n",
       "    }\n",
       "\n",
       "    .dataframe tbody tr th {\n",
       "        vertical-align: top;\n",
       "    }\n",
       "\n",
       "    .dataframe thead th {\n",
       "        text-align: right;\n",
       "    }\n",
       "</style>\n",
       "<table border=\"1\" class=\"dataframe\">\n",
       "  <thead>\n",
       "    <tr style=\"text-align: right;\">\n",
       "      <th></th>\n",
       "      <th>question</th>\n",
       "      <th>document</th>\n",
       "      <th>bm25</th>\n",
       "    </tr>\n",
       "  </thead>\n",
       "  <tbody>\n",
       "    <tr>\n",
       "      <th>0</th>\n",
       "      <td>Я потерял магнитную карту. К кому обратиться?</td>\n",
       "      <td>Для восстановления студенческого билета Вам не...</td>\n",
       "      <td>Для восстановления студенческого билета Вам не...</td>\n",
       "    </tr>\n",
       "    <tr>\n",
       "      <th>1</th>\n",
       "      <td>Даты подачи заявления для восстановления на очку</td>\n",
       "      <td>Заявления на восстановление в Университет по о...</td>\n",
       "      <td>Заявление на академический отпуск подается чер...</td>\n",
       "    </tr>\n",
       "    <tr>\n",
       "      <th>2</th>\n",
       "      <td>Что делать при потере проходки?</td>\n",
       "      <td>Для восстановления студенческого билета Вам не...</td>\n",
       "      <td>Для восстановления студенческого билета Вам не...</td>\n",
       "    </tr>\n",
       "    <tr>\n",
       "      <th>3</th>\n",
       "      <td>Я хожу в фитнес-клуб. Как заменить физкультуру?</td>\n",
       "      <td>Выбор спортивных секций по Физической культуре...</td>\n",
       "      <td>Выбор спортивных секций по Физической культуре...</td>\n",
       "    </tr>\n",
       "    <tr>\n",
       "      <th>4</th>\n",
       "      <td>Когда мне выдадут студенческий билет после пер...</td>\n",
       "      <td>1. Подать заявление о переводе можно лично, об...</td>\n",
       "      <td>Подать заявление на отчисление переводом можно...</td>\n",
       "    </tr>\n",
       "    <tr>\n",
       "      <th>...</th>\n",
       "      <td>...</td>\n",
       "      <td>...</td>\n",
       "      <td>...</td>\n",
       "    </tr>\n",
       "    <tr>\n",
       "      <th>62</th>\n",
       "      <td>как закрыть физкультуру?</td>\n",
       "      <td>Выбор спортивных секций по Физической культуре...</td>\n",
       "      <td>Выбор спортивных секций по Физической культуре...</td>\n",
       "    </tr>\n",
       "    <tr>\n",
       "      <th>63</th>\n",
       "      <td>когда можно поменять элективы?</td>\n",
       "      <td>Прежде, чем выбрать элективы, рекомендуем почи...</td>\n",
       "      <td>Прежде, чем выбрать элективы, рекомендуем почи...</td>\n",
       "    </tr>\n",
       "    <tr>\n",
       "      <th>64</th>\n",
       "      <td>как получить справку о месте учёбы?</td>\n",
       "      <td>Студенты очной формы обучения оформляют справк...</td>\n",
       "      <td>программа / специализация _ _ _ _ _ _ _ _ _ _ ...</td>\n",
       "    </tr>\n",
       "    <tr>\n",
       "      <th>65</th>\n",
       "      <td>Как можно получать баллы за физру?</td>\n",
       "      <td>Выбор спортивных секций по Физической культуре...</td>\n",
       "      <td>Об утверждении Регламента проведения промежуто...</td>\n",
       "    </tr>\n",
       "    <tr>\n",
       "      <th>66</th>\n",
       "      <td>Где взять справку для военкомата?</td>\n",
       "      <td>Вам необходимо обратиться в Отдел мобилизацион...</td>\n",
       "      <td>Сформировать справку - вызов Вы можете самосто...</td>\n",
       "    </tr>\n",
       "  </tbody>\n",
       "</table>\n",
       "<p>67 rows × 3 columns</p>\n",
       "</div>"
      ],
      "text/plain": [
       "                                             question  \\\n",
       "0       Я потерял магнитную карту. К кому обратиться?   \n",
       "1    Даты подачи заявления для восстановления на очку   \n",
       "2                     Что делать при потере проходки?   \n",
       "3     Я хожу в фитнес-клуб. Как заменить физкультуру?   \n",
       "4   Когда мне выдадут студенческий билет после пер...   \n",
       "..                                                ...   \n",
       "62                           как закрыть физкультуру?   \n",
       "63                     когда можно поменять элективы?   \n",
       "64                как получить справку о месте учёбы?   \n",
       "65                 Как можно получать баллы за физру?   \n",
       "66                  Где взять справку для военкомата?   \n",
       "\n",
       "                                             document  \\\n",
       "0   Для восстановления студенческого билета Вам не...   \n",
       "1   Заявления на восстановление в Университет по о...   \n",
       "2   Для восстановления студенческого билета Вам не...   \n",
       "3   Выбор спортивных секций по Физической культуре...   \n",
       "4   1. Подать заявление о переводе можно лично, об...   \n",
       "..                                                ...   \n",
       "62  Выбор спортивных секций по Физической культуре...   \n",
       "63  Прежде, чем выбрать элективы, рекомендуем почи...   \n",
       "64  Студенты очной формы обучения оформляют справк...   \n",
       "65  Выбор спортивных секций по Физической культуре...   \n",
       "66  Вам необходимо обратиться в Отдел мобилизацион...   \n",
       "\n",
       "                                                 bm25  \n",
       "0   Для восстановления студенческого билета Вам не...  \n",
       "1   Заявление на академический отпуск подается чер...  \n",
       "2   Для восстановления студенческого билета Вам не...  \n",
       "3   Выбор спортивных секций по Физической культуре...  \n",
       "4   Подать заявление на отчисление переводом можно...  \n",
       "..                                                ...  \n",
       "62  Выбор спортивных секций по Физической культуре...  \n",
       "63  Прежде, чем выбрать элективы, рекомендуем почи...  \n",
       "64  программа / специализация _ _ _ _ _ _ _ _ _ _ ...  \n",
       "65  Об утверждении Регламента проведения промежуто...  \n",
       "66  Сформировать справку - вызов Вы можете самосто...  \n",
       "\n",
       "[67 rows x 3 columns]"
      ]
     },
     "execution_count": 54,
     "metadata": {},
     "output_type": "execute_result"
    }
   ],
   "source": [
    "# test_questions[\"CQL\"] = test_questions[\"question\"].apply(get_document_content)\n",
    "# test_questions[\"tfidf\"] = test_questions[\"question\"].apply(answer_tfidf)\n",
    "# test_questions[\"doc2vec\"] = test_questions[\"question\"].apply(answer_doc2vec)\n",
    "# test_questions[\"rubert\"] = test_questions[\"question\"].apply(answer_rubert)\n",
    "# test_questions[\"rusbert\"] = test_questions[\"question\"].apply(answer_rusbert)\n",
    "# test_questions[\"gigachatembeddings\"] = test_questions[\"question\"].apply(answer_gigachat_embeddings)\n",
    "test_questions[\"bm25\"] = test_questions[\"question\"].apply(answer_bm25)\n",
    "test_questions"
   ]
  },
  {
   "cell_type": "markdown",
   "id": "97effbaf",
   "metadata": {},
   "source": [
    "### Выбор лучшего алгоритма"
   ]
  },
  {
   "cell_type": "markdown",
   "id": "5b8f1f73",
   "metadata": {},
   "source": [
    "#### Accuracy"
   ]
  },
  {
   "cell_type": "code",
   "execution_count": 40,
   "id": "be5829d2",
   "metadata": {},
   "outputs": [
    {
     "data": {
      "text/html": [
       "<div>\n",
       "<style scoped>\n",
       "    .dataframe tbody tr th:only-of-type {\n",
       "        vertical-align: middle;\n",
       "    }\n",
       "\n",
       "    .dataframe tbody tr th {\n",
       "        vertical-align: top;\n",
       "    }\n",
       "\n",
       "    .dataframe thead th {\n",
       "        text-align: right;\n",
       "    }\n",
       "</style>\n",
       "<table border=\"1\" class=\"dataframe\">\n",
       "  <thead>\n",
       "    <tr style=\"text-align: right;\">\n",
       "      <th></th>\n",
       "      <th>question</th>\n",
       "      <th>document</th>\n",
       "      <th>CQL</th>\n",
       "      <th>tfidf</th>\n",
       "      <th>doc2vec</th>\n",
       "      <th>rubert</th>\n",
       "      <th>rusbert</th>\n",
       "      <th>gigachatembeddings</th>\n",
       "    </tr>\n",
       "  </thead>\n",
       "  <tbody>\n",
       "    <tr>\n",
       "      <th>0</th>\n",
       "      <td>Я потерял магнитную карту. К кому обратиться?</td>\n",
       "      <td>Для восстановления студенческого билета Вам не...</td>\n",
       "      <td>Для восстановления студенческого билета Вам не...</td>\n",
       "      <td>Для восстановления студенческого билета Вам не...</td>\n",
       "      <td>Заявление подается через личный кабинет на пор...</td>\n",
       "      <td>Для восстановления студенческого билета Вам не...</td>\n",
       "      <td>Для восстановления студенческого билета Вам не...</td>\n",
       "      <td>Для восстановления студенческого билета Вам не...</td>\n",
       "    </tr>\n",
       "    <tr>\n",
       "      <th>1</th>\n",
       "      <td>Даты подачи заявления для восстановления на очку</td>\n",
       "      <td>Заявления на восстановление в Университет по о...</td>\n",
       "      <td>None</td>\n",
       "      <td>При равном числе голосов председатель аттестац...</td>\n",
       "      <td>1. Подать заявление о переводе можно лично, об...</td>\n",
       "      <td>Заявление подается через личный кабинет на пор...</td>\n",
       "      <td>При восстановлении на договорное место, после ...</td>\n",
       "      <td>Заявления на восстановление в Университет по о...</td>\n",
       "    </tr>\n",
       "    <tr>\n",
       "      <th>2</th>\n",
       "      <td>Что делать при потере проходки?</td>\n",
       "      <td>Для восстановления студенческого билета Вам не...</td>\n",
       "      <td>Для восстановления студенческого билета Вам не...</td>\n",
       "      <td>Для восстановления студенческого билета Вам не...</td>\n",
       "      <td>Заявление подается через личный кабинет на пор...</td>\n",
       "      <td>Для рассмотрения возможности продления академи...</td>\n",
       "      <td>Вам необходимо обратиться в Отдел мобилизацион...</td>\n",
       "      <td>Для восстановления студенческого билета Вам не...</td>\n",
       "    </tr>\n",
       "    <tr>\n",
       "      <th>3</th>\n",
       "      <td>Я хожу в фитнес-клуб. Как заменить физкультуру?</td>\n",
       "      <td>Выбор спортивных секций по Физической культуре...</td>\n",
       "      <td>None</td>\n",
       "      <td>Выбор спортивных секций по Физической культуре...</td>\n",
       "      <td>Заявление подается через личный кабинет на пор...</td>\n",
       "      <td>Прежде, чем выбрать элективы, рекомендуем почи...</td>\n",
       "      <td>Выбор спортивных секций по Физической культуре...</td>\n",
       "      <td>Прежде, чем выбрать элективы, рекомендуем почи...</td>\n",
       "    </tr>\n",
       "    <tr>\n",
       "      <th>4</th>\n",
       "      <td>Когда мне выдадут студенческий билет после пер...</td>\n",
       "      <td>1. Подать заявление о переводе можно лично, об...</td>\n",
       "      <td>Документ подписан простой электронной подписью...</td>\n",
       "      <td>Подать заявление на отчисление переводом можно...</td>\n",
       "      <td>Заявление подается через личный кабинет на пор...</td>\n",
       "      <td>Заявление на выход из отпуска подается не позд...</td>\n",
       "      <td>При восстановлении на договорное место, после ...</td>\n",
       "      <td>Подать заявление на отчисление переводом можно...</td>\n",
       "    </tr>\n",
       "    <tr>\n",
       "      <th>...</th>\n",
       "      <td>...</td>\n",
       "      <td>...</td>\n",
       "      <td>...</td>\n",
       "      <td>...</td>\n",
       "      <td>...</td>\n",
       "      <td>...</td>\n",
       "      <td>...</td>\n",
       "      <td>...</td>\n",
       "    </tr>\n",
       "    <tr>\n",
       "      <th>62</th>\n",
       "      <td>как закрыть физкультуру?</td>\n",
       "      <td>Выбор спортивных секций по Физической культуре...</td>\n",
       "      <td>Выбор спортивных секций по Физической культуре...</td>\n",
       "      <td>Выбор спортивных секций по Физической культуре...</td>\n",
       "      <td>Заявление подается через личный кабинет на пор...</td>\n",
       "      <td>Пакет документов для восстановления вам необхо...</td>\n",
       "      <td>Вам необходимо обратиться в Отдел мобилизацион...</td>\n",
       "      <td>Вам необходимо обратиться в Отдел мобилизацион...</td>\n",
       "    </tr>\n",
       "    <tr>\n",
       "      <th>63</th>\n",
       "      <td>когда можно поменять элективы?</td>\n",
       "      <td>Прежде, чем выбрать элективы, рекомендуем почи...</td>\n",
       "      <td>Прежде, чем выбрать элективы, рекомендуем почи...</td>\n",
       "      <td>Прежде, чем выбрать элективы, рекомендуем почи...</td>\n",
       "      <td>Заявление подается через личный кабинет на пор...</td>\n",
       "      <td>Прежде, чем выбрать элективы, рекомендуем почи...</td>\n",
       "      <td>Прежде, чем выбрать элективы, рекомендуем почи...</td>\n",
       "      <td>Прежде, чем выбрать элективы, рекомендуем почи...</td>\n",
       "    </tr>\n",
       "    <tr>\n",
       "      <th>64</th>\n",
       "      <td>как получить справку о месте учёбы?</td>\n",
       "      <td>Студенты очной формы обучения оформляют справк...</td>\n",
       "      <td>None</td>\n",
       "      <td>Для оформления академической справки ( справки...</td>\n",
       "      <td>_ _ _ _ _ _ _ _ _ _ _ _ _ _ _ _ ( ФИО указать ...</td>\n",
       "      <td>Для рассмотрения возможности продления академи...</td>\n",
       "      <td>Подать заявление на отчисление переводом можно...</td>\n",
       "      <td>Заявление подается через личный кабинет на пор...</td>\n",
       "    </tr>\n",
       "    <tr>\n",
       "      <th>65</th>\n",
       "      <td>Как можно получать баллы за физру?</td>\n",
       "      <td>Выбор спортивных секций по Физической культуре...</td>\n",
       "      <td>None</td>\n",
       "      <td>Об утверждении Регламента проведения промежуто...</td>\n",
       "      <td>Об утверждении Регламента проведения промежуто...</td>\n",
       "      <td>Для рассмотрения возможности продления академи...</td>\n",
       "      <td>Сформировать справку - вызов Вы можете самосто...</td>\n",
       "      <td>Студенты очной формы обучения оформляют справк...</td>\n",
       "    </tr>\n",
       "    <tr>\n",
       "      <th>66</th>\n",
       "      <td>Где взять справку для военкомата?</td>\n",
       "      <td>Вам необходимо обратиться в Отдел мобилизацион...</td>\n",
       "      <td>Вам необходимо обратиться в Отдел мобилизацион...</td>\n",
       "      <td>Для оформления академической справки ( справки...</td>\n",
       "      <td>Студенты очной формы обучения оформляют справк...</td>\n",
       "      <td>Для рассмотрения возможности продления академи...</td>\n",
       "      <td>Для оформления академической справки ( справки...</td>\n",
       "      <td>Заявление подается через личный кабинет на пор...</td>\n",
       "    </tr>\n",
       "  </tbody>\n",
       "</table>\n",
       "<p>67 rows × 8 columns</p>\n",
       "</div>"
      ],
      "text/plain": [
       "                                             question  \\\n",
       "0       Я потерял магнитную карту. К кому обратиться?   \n",
       "1    Даты подачи заявления для восстановления на очку   \n",
       "2                     Что делать при потере проходки?   \n",
       "3     Я хожу в фитнес-клуб. Как заменить физкультуру?   \n",
       "4   Когда мне выдадут студенческий билет после пер...   \n",
       "..                                                ...   \n",
       "62                           как закрыть физкультуру?   \n",
       "63                     когда можно поменять элективы?   \n",
       "64                как получить справку о месте учёбы?   \n",
       "65                 Как можно получать баллы за физру?   \n",
       "66                  Где взять справку для военкомата?   \n",
       "\n",
       "                                             document  \\\n",
       "0   Для восстановления студенческого билета Вам не...   \n",
       "1   Заявления на восстановление в Университет по о...   \n",
       "2   Для восстановления студенческого билета Вам не...   \n",
       "3   Выбор спортивных секций по Физической культуре...   \n",
       "4   1. Подать заявление о переводе можно лично, об...   \n",
       "..                                                ...   \n",
       "62  Выбор спортивных секций по Физической культуре...   \n",
       "63  Прежде, чем выбрать элективы, рекомендуем почи...   \n",
       "64  Студенты очной формы обучения оформляют справк...   \n",
       "65  Выбор спортивных секций по Физической культуре...   \n",
       "66  Вам необходимо обратиться в Отдел мобилизацион...   \n",
       "\n",
       "                                                  CQL  \\\n",
       "0   Для восстановления студенческого билета Вам не...   \n",
       "1                                                None   \n",
       "2   Для восстановления студенческого билета Вам не...   \n",
       "3                                                None   \n",
       "4   Документ подписан простой электронной подписью...   \n",
       "..                                                ...   \n",
       "62  Выбор спортивных секций по Физической культуре...   \n",
       "63  Прежде, чем выбрать элективы, рекомендуем почи...   \n",
       "64                                               None   \n",
       "65                                               None   \n",
       "66  Вам необходимо обратиться в Отдел мобилизацион...   \n",
       "\n",
       "                                                tfidf  \\\n",
       "0   Для восстановления студенческого билета Вам не...   \n",
       "1   При равном числе голосов председатель аттестац...   \n",
       "2   Для восстановления студенческого билета Вам не...   \n",
       "3   Выбор спортивных секций по Физической культуре...   \n",
       "4   Подать заявление на отчисление переводом можно...   \n",
       "..                                                ...   \n",
       "62  Выбор спортивных секций по Физической культуре...   \n",
       "63  Прежде, чем выбрать элективы, рекомендуем почи...   \n",
       "64  Для оформления академической справки ( справки...   \n",
       "65  Об утверждении Регламента проведения промежуто...   \n",
       "66  Для оформления академической справки ( справки...   \n",
       "\n",
       "                                              doc2vec  \\\n",
       "0   Заявление подается через личный кабинет на пор...   \n",
       "1   1. Подать заявление о переводе можно лично, об...   \n",
       "2   Заявление подается через личный кабинет на пор...   \n",
       "3   Заявление подается через личный кабинет на пор...   \n",
       "4   Заявление подается через личный кабинет на пор...   \n",
       "..                                                ...   \n",
       "62  Заявление подается через личный кабинет на пор...   \n",
       "63  Заявление подается через личный кабинет на пор...   \n",
       "64  _ _ _ _ _ _ _ _ _ _ _ _ _ _ _ _ ( ФИО указать ...   \n",
       "65  Об утверждении Регламента проведения промежуто...   \n",
       "66  Студенты очной формы обучения оформляют справк...   \n",
       "\n",
       "                                               rubert  \\\n",
       "0   Для восстановления студенческого билета Вам не...   \n",
       "1   Заявление подается через личный кабинет на пор...   \n",
       "2   Для рассмотрения возможности продления академи...   \n",
       "3   Прежде, чем выбрать элективы, рекомендуем почи...   \n",
       "4   Заявление на выход из отпуска подается не позд...   \n",
       "..                                                ...   \n",
       "62  Пакет документов для восстановления вам необхо...   \n",
       "63  Прежде, чем выбрать элективы, рекомендуем почи...   \n",
       "64  Для рассмотрения возможности продления академи...   \n",
       "65  Для рассмотрения возможности продления академи...   \n",
       "66  Для рассмотрения возможности продления академи...   \n",
       "\n",
       "                                              rusbert  \\\n",
       "0   Для восстановления студенческого билета Вам не...   \n",
       "1   При восстановлении на договорное место, после ...   \n",
       "2   Вам необходимо обратиться в Отдел мобилизацион...   \n",
       "3   Выбор спортивных секций по Физической культуре...   \n",
       "4   При восстановлении на договорное место, после ...   \n",
       "..                                                ...   \n",
       "62  Вам необходимо обратиться в Отдел мобилизацион...   \n",
       "63  Прежде, чем выбрать элективы, рекомендуем почи...   \n",
       "64  Подать заявление на отчисление переводом можно...   \n",
       "65  Сформировать справку - вызов Вы можете самосто...   \n",
       "66  Для оформления академической справки ( справки...   \n",
       "\n",
       "                                   gigachatembeddings  \n",
       "0   Для восстановления студенческого билета Вам не...  \n",
       "1   Заявления на восстановление в Университет по о...  \n",
       "2   Для восстановления студенческого билета Вам не...  \n",
       "3   Прежде, чем выбрать элективы, рекомендуем почи...  \n",
       "4   Подать заявление на отчисление переводом можно...  \n",
       "..                                                ...  \n",
       "62  Вам необходимо обратиться в Отдел мобилизацион...  \n",
       "63  Прежде, чем выбрать элективы, рекомендуем почи...  \n",
       "64  Заявление подается через личный кабинет на пор...  \n",
       "65  Студенты очной формы обучения оформляют справк...  \n",
       "66  Заявление подается через личный кабинет на пор...  \n",
       "\n",
       "[67 rows x 8 columns]"
      ]
     },
     "execution_count": 40,
     "metadata": {},
     "output_type": "execute_result"
    }
   ],
   "source": [
    "from langchain.text_splitter import SentenceTransformersTokenTextSplitter\n",
    "\n",
    "text_splitter = SentenceTransformersTokenTextSplitter(model_name=\"saved_models/rubert-tiny2-wikiutmn\")   \n",
    "test_questions[\"CQL\"] = test_questions[\"CQL\"].apply(lambda x: text_splitter.split_text(x)[0] if x is not None else None)\n",
    "test_questions"
   ]
  },
  {
   "cell_type": "code",
   "execution_count": 55,
   "id": "057b78e0",
   "metadata": {},
   "outputs": [
    {
     "name": "stdout",
     "output_type": "stream",
     "text": [
      "document 1.0\n",
      "bm25 0.23880597014925373\n"
     ]
    }
   ],
   "source": [
    "for column in test_questions.columns[1:]:\n",
    "    print(column, sum(test_questions[column].apply(lambda x: \"\" if x is None else x) == test_questions.document) / len(test_questions.document))"
   ]
  },
  {
   "cell_type": "markdown",
   "id": "d6cf90ac",
   "metadata": {},
   "source": [
    "#### ROUGE-L"
   ]
  },
  {
   "cell_type": "code",
   "execution_count": 34,
   "id": "25c02817",
   "metadata": {},
   "outputs": [
    {
     "name": "stdout",
     "output_type": "stream",
     "text": [
      "Note: you may need to restart the kernel to use updated packages.\n"
     ]
    }
   ],
   "source": [
    "%pip install rouge --quiet"
   ]
  },
  {
   "cell_type": "code",
   "execution_count": 56,
   "id": "2da8a0c7",
   "metadata": {},
   "outputs": [
    {
     "name": "stdout",
     "output_type": "stream",
     "text": [
      "document {'r': 1.0, 'p': 1.0, 'f': 0.9999999950000011}\n",
      "bm25 {'r': 0.588169180184679, 'p': 0.4324943744842278, 'f': 0.45521461315817596}\n"
     ]
    }
   ],
   "source": [
    "from rouge import Rouge\n",
    "rouge = Rouge()\n",
    "\n",
    "for column in test_questions.columns[1:]:\n",
    "    print(column, rouge.get_scores(test_questions[column].apply(lambda x: \"-\" if x is None else x), test_questions[\"document\"], avg=True)['rouge-l'])"
   ]
  },
  {
   "cell_type": "markdown",
   "id": "9e6d1cf3",
   "metadata": {},
   "source": [
    "## SBERT Fine Tuning\n",
    "\n",
    "\n",
    " * https://www.sbert.net/docs/training/overview.html\n",
    " * https://huggingface.co/blog/how-to-train-sentence-transformers"
   ]
  },
  {
   "cell_type": "code",
   "execution_count": 6,
   "id": "af5ad14d",
   "metadata": {},
   "outputs": [],
   "source": [
    "from sentence_transformers import SentenceTransformer"
   ]
  },
  {
   "cell_type": "markdown",
   "id": "aa6b245a",
   "metadata": {
    "jp-MarkdownHeadingCollapsed": true
   },
   "source": [
    "### Генерация обучающей выборки через GigaChat"
   ]
  },
  {
   "cell_type": "code",
   "execution_count": 44,
   "id": "0e464c87",
   "metadata": {},
   "outputs": [
    {
     "data": {
      "text/plain": [
       "52"
      ]
     },
     "execution_count": 44,
     "metadata": {},
     "output_type": "execute_result"
    }
   ],
   "source": [
    "with Session(engine) as session:\n",
    "   db_documents = [doc.text for doc in session.scalars(select(Chunk).order_by(Chunk.id)).all()]\n",
    "len(db_documents)"
   ]
  },
  {
   "cell_type": "code",
   "execution_count": 45,
   "id": "d3f86e5e",
   "metadata": {},
   "outputs": [],
   "source": [
    "from langchain.prompts import PromptTemplate\n",
    "\n",
    "prompt_template = \"\"\"\n",
    "Сделай глубокий вдох и действуй как студент. Составь 7 разнообразных вопросов к документу в тройных кавычках. Используй разговорный стиль речи и студенческую лексику.\n",
    "\n",
    "\\\"\\\"\\\"\n",
    "{content}\n",
    "\\\"\\\"\\\"\n",
    "\n",
    "Вопросы:\n",
    "\"\"\"\n",
    "\n",
    "prompt = PromptTemplate.from_template(prompt_template)"
   ]
  },
  {
   "cell_type": "code",
   "execution_count": 46,
   "id": "74fbc907",
   "metadata": {},
   "outputs": [
    {
     "data": {
      "text/plain": [
       "['1. Что такое справка-вызов?',\n",
       " '  ',\n",
       " '2. Как можно сформировать справку-вызов?',\n",
       " '  ',\n",
       " '3. Какую информацию нужно предоставить после присвоения заявке статуса \"Выполнено\"?',\n",
       " '  ',\n",
       " '4. Какие требования предъявляются к студентам для получения справки-вызова?',\n",
       " '  ',\n",
       " '5. Какие документы регулируют процесс оформления справки-вызова?',\n",
       " '  ',\n",
       " '6. Каковы последствия отсутствия справки-вызова для студентов с академической задолженностью?',\n",
       " '  ',\n",
       " '7. Каким образом можно связаться с университетом для получения дополнительной информации о справке-вызове?']"
      ]
     },
     "execution_count": 46,
     "metadata": {},
     "output_type": "execute_result"
    }
   ],
   "source": [
    "from langchain.llms import GigaChat\n",
    "giga = GigaChat(credentials=gigachat_token, verify_ssl_certs=False)\n",
    "giga_chain = prompt | giga\n",
    "giga_chain.invoke({\"content\": db_documents[0]}).strip().split(\"\\n\")"
   ]
  },
  {
   "cell_type": "code",
   "execution_count": 47,
   "id": "d5a8f1e7",
   "metadata": {},
   "outputs": [
    {
     "name": "stdout",
     "output_type": "stream",
     "text": [
      "['1. Что такое справка-вызов?', '  ', '2. Как можно сформировать справку-вызов?', '  ', '3. Какую информацию нужно предоставить после присвоения заявке статуса \"Выполнено\"?', '  ', '4. Какие требования предъявляются к студентам для получения справки-вызова?', '  ', '5. Какие документы регулируют процесс оформления справки-вызова?', '  ', '6. Каковы последствия отсутствия справки-вызова для студентов с академической задолженностью?', '  ', '7. Каким образом можно связаться с университетом для получения дополнительной информации о справке-вызове?']\n",
      "['1. \"Какие документы мне нужны для обращения в Отдел мобилизационной подготовки?\"', '  ', '  2. \"Какие услуги предоставляет Отдел мобилизационной подготовки?\"', '   ', '  3. \"Какие требования предъявляются к документам, которые я должен предоставить?\"', '   ', '  4. \"Какие сроки рассмотрения документов в Отделе мобилизационной подготовки?\"', '   ', '  5. \"Какие контактные данные у Отдела мобилизационной подготовки?\"', '   ', '  6. \"Какие процедуры необходимо пройти для получения услуг в Отделе мобилизационной подготовки?\"', '   ', '  7. \"Какие преимущества предоставляет Отдел мобилизационной подготовки своим клиентам?\"']\n",
      "['1. Как оформить справку о подтверждении обучения?', '2. Где можно получить справку о подтверждении обучения?', '3. Какие документы нужны для оформления справки о подтверждении обучения?', '4. Что делать, если нет магнитной карты?', '5. Как подать заявление на восстановление магнитной карты?', '6. Как связаться с Единым деканатом для получения справки об обучении?', '7. Какую информацию содержит справка об обучении для студентов заочной и очно-заочной форм обучения?']\n",
      "['1. Что такое академическая справка?', '   - \"Академическая справка - это документ, подтверждающий период обучения студента в университете.\"', '', '2. Где можно оформить академическую справку?', '   - \"Оформить академическую справку можно в \"Едином деканате\" по адресу ул. Семакова, д. 18 (3 этаж, холл) или на электронную почту ed @ utmn. ru.\"', '', '3. Каков срок подготовки академической справки?', '   - \"Академическая справка готовится в течение 5 (пяти) рабочих дней.\"', '', '4. Какие документы необходимы для оформления академической справки?', '   - \"Для оформления академической справки необходимо подать заявку в \"Единый деканат\" по указанному адресу или на электронную почту.\"', '', '5. Каковы требования к оформлению академической справки?', '   - \"Академическая справка должна быть оформлена в соответствии с установленными требованиями.\"', '', '6. Какие данные должны быть указаны в академической справке?', '   - \"В академической справке должны быть указаны данные о периоде обучения студента в университете.\"', '', '7. Какие преимущества имеет академическая справка?', '   - \"Академическая справка предоставляет студенту возможность подтвердить свой период обучения и получить необходимые документы для дальнейшего образования или трудоустройства.\"']\n",
      "['1. Как мне получить справку о доходах?', '  2. Где находится Сервисный центр бухгалтерии?', '  3. Как связаться с Сервисным центром бухгалтерии?', '  4. Какие документы нужны для получения справки о доходах?', '  5. Каковы часы работы Сервисного центра бухгалтерии?', '  6. Есть ли возможность получить справку о доходах в выходные дни?', '  7. Какова процедура получения справки о доходах?']\n",
      "['1. Какие сроки подачи заявлений на восстановление в Университет на осенний семестр?', '2. Какие сроки подачи заявлений на восстановление в Университет на весенний семестр?', '3. Какие сроки подачи заявлений на восстановление в Университет на первый семестр первого курса?', '4. Что происходит с заявлениями на восстановление, если с момента отчисления прошло более 5 лет?', '5. Какие документы необходимо предоставить вместе с заявлением на восстановление?', '6. Каковы требования для восстановления на первый семестр первого курса?', '7. Какие преимущества имеет восстановление в Университете по сравнению с поступлением на первый курс?']\n",
      "['1. Каковы сроки подачи заявления на восстановление в ТюмГУ?', '2. Какие документы необходимо предоставить вместе с заявлением на восстановление?', '3. Каковы условия для восстановления на 1 курс 1 семестра?', '4. Какова процедура подачи заявления на восстановление?', '5. Какие требования предъявляются к студентам, которые хотят восстановиться после отчисления?', '6. Какие документы подтверждают право на восстановление в ТюмГУ?', '7. Какие ограничения существуют для студентов, желающих восстановиться после отчисления?']\n",
      "['1. Каковы сроки повторного прохождения государственной итоговой аттестации?', '2. Какие ограничения существуют при повторном прохождении государственной итоговой аттестации?', '3. Как долго можно ждать повторной попытки?', '4. Можно ли подать заявление на восстановление для прохождения государственной итоговой аттестации позже установленного срока?', '5. Каковы требования к заявлению на восстановление для прохождения государственной итоговой аттестации?', '6. Какие документы необходимо предоставить вместе с заявлением на восстановление для прохождения государственной итоговой аттестации?', '7. Каковы сроки подачи заявления на восстановление для прохождения государственной итоговой аттестации?']\n",
      "['1. Каковы сроки повторного прохождения государственной итоговой аттестации?', '2. Какие ограничения существуют при повторном прохождении государственной итоговой аттестации?', '3. Как долго можно ждать повторной попытки?', '4. Можно ли подать заявление на восстановление для прохождения государственной итоговой аттестации позже установленного срока?', '5. Каковы требования к заявлению на восстановление для прохождения государственной итоговой аттестации?', '6. Какие документы необходимо предоставить вместе с заявлением на восстановление для прохождения государственной итоговой аттестации?', '7. Каковы сроки подачи заявления на восстановление для прохождения государственной итоговой аттестации?']\n",
      "['1. Какие документы необходимы для восстановления в университете?', '2. Где можно найти заявление на восстановление?', '3. Как правильно заполнить заявление на восстановление?', '4. Какие документы подтверждают смену фамилии?', '5. Можно ли перезачесть оценку \"зачтено\" на \"удовлетворительно\"?', '6. Каковы требования к переводу паспорта иностранного гражданина?', '7. Куда отправлять документы для восстановления?']\n",
      "['1. Что такое \"восстановление лица\"?', '  ', '  2. Какие условия должны быть соблюдены для осуществления восстановления?', '   ', '  3. Каким образом происходит восстановление?', '   ', '  4. Какие категории лиц могут быть восстановлены?', '   ', '  5. Как происходит последующее восстановление?', '   ', '  6. Какие документы необходимы для восстановления?', '   ', '  7. Каковы последствия отказа от восстановления?']\n",
      "['1. Что нужно сделать после рассмотрения заявления аттестационной комиссией для восстановления на договорное место?', '2. Какую роль играет договор при восстановлении на договорное место?', '3. Какие последствия могут возникнуть в случае несвоевременной оплаты?', '4. Как долго рассматривается заявление аттестационной комиссией?', '5. Какие документы передаются для оформления приказа после заключения договора и оплаты?', '6. Каковы сроки оплаты для восстановления на договорное место?', '7. Какие действия может предпринять Университет в случае отказа от оплаты?']\n",
      "['1. Каковы основания для отчисления обучающихся из Университета?', '2. Какие документы необходимы для отчисления обучающегося по собственной инициативе?', '3. Какие основания могут привести к отчислению обучающегося по инициативе Университета?', '4. Как происходит отчисление обучающегося в связи с получением образования?', '5. Какие документы необходимы для отчисления обучающегося по инициативе Университета?', '6. Какие меры дисциплинарного взыскания могут быть применены к обучающемуся, достигшему возраста пятнадцати лет?', '7. Какие документы необходимы для отчисления обучающегося по инициативе родителей (законных представителей)?']\n",
      "['1. Какие основания могут привести к отчислению обучающегося из университета?', '2. Каковы последствия отказа или уклонения обучающегося от предоставления письменного объяснения?', '3. Какие меры дисциплинарного взыскания не применяются к обучающимся во время болезни, академического отпуска, отпуска по беременности и родам или отпуска по уходу за ребенком до достижения им возраста трех лет?', '4. Какие меры дисциплинарного взыскания могут быть применены к несовершеннолетнему обучающемуся, достигшему возраста пятнадцати лет?', '5. Какие обстоятельства могут стать основанием для отчисления обучающегося по обстоятельствам, не зависящим от воли обучающегося или родителей (законных представителей) несовершеннолетнего обучающегося?', '6. Как оформляется отчисление обучающегося из университета?', '7. Какие документы выдаются обучающемуся при отчислении?']\n",
      "['1. Каковы условия восстановления на обучение в университете?', '2. Как определяется количество вакантных мест для восстановления?', '3. Какие документы необходимо предоставить для восстановления?', '4. Когда принимаются заявления на восстановление?', '5. Какие формы обучения доступны для восстановления?', '6. Как рассматриваются документы о восстановлении аттестационной комиссией?', '7. Какие ограничения существуют при восстановлении на обучение?']\n",
      "['1. Каковы условия восстановления обучающихся?', '2. Какие документы необходимо оформить для работы аттестационной комиссии?', '3. Какие сроки установлены для заседаний аттестационной комиссии?', '4. Какие документы необходимо предоставить для восстановления на обучение по договору об оказании платных образовательных услуг?', '5. Какие сроки установлены для оплаты обучения и погашения финансовой задолженности перед университетом?', '6. Какие способы доводятся до обучающегося приказом о восстановлении?', '7. Какие документы высылаются обучающемуся после восстановления?']\n",
      "['1. Какая программа/специализация указана в документе?', '2. Какой тип финансирования обучения указан в документе?', '3. Какие варианты обучения доступны в данном документе?', '4. Какие условия необходимо выполнить для получения места по договору об оказании платных образовательных услуг?', '5. Какие документы необходимо заполнить при отчислении из университета?', '6. Какие данные необходимо указать в заявлении на восстановление?', '7. Какие формы обучения доступны в данном документе?']\n",
      "['1. Какие дисциплины были изучены ранее и указаны в учебной карточке/справке о периоде обучения?', '  ', '2. Согласен ли студент на переаттестацию этих дисциплин?', '  ', '3. Каковы требования ФГОС СПО в случае превышения норм объема программы по количеству зачетов/экзаменов за один учебный год?', '  ', '4. На какой курс будет восстановлен студент в случае превышения норм?', '  ', '5. К какой категории относится студент?', '  ', '6. Какие документы приложены к заявлению?', '  ', '7. Сколько вакантных мест имеется на данный момент?']\n",
      "['1. Какие документы необходимо приложить к заявлению на академический отпуск?', '2. В каких случаях заявление на отпуск не может быть подано?', '3. Какое решение принимается относительно предоставления отпуска?', '4. Какой срок установлен для принятия решения о предоставлении отпуска?', '5. Когда необходимо подать заявление на выход из академического отпуска?', '6. Где можно найти бланк заявления на выход из академического отпуска?', '7. Какие дни не считаются праздничными и/или нерабочими при определении даты подачи заявления и начала отпуска?']\n",
      "['1. Как подать заявление на отпуск по беременности и родам?', '2. Какие документы нужны для получения отпуска по беременности и родам?', '3. Какова продолжительность отпуска по беременности и родам?', '4. Как исчисляется продолжительность отпуска по беременности и родам?', '5. Как предоставляется отпуск по беременности и родам?', '6. Можно ли использовать часть отпуска до родов?', '7. Как узнать, какие документы необходимы для получения отпуска по беременности и родам?']\n",
      "['1. Что нужно сделать, чтобы подать заявление на отпуск?', '2. Какое основание необходимо для предоставления отпуска?', '3. Как долго может длиться отпуск?', '4. Можно ли изменить даты отпуска, указанные в заключении врачебной комиссии?', '5. Кто имеет право на получение отпуска?', '6. Какие документы нужны для подачи заявления на отпуск?', '7. Как долго рассматривается заявление на отпуск?']\n",
      "['1. Как подать заявление на отпуск по уходу за ребенком до достижения им возраста трех лет?', '2. Какие документы необходимо предоставить вместе с заявлением?', '3. Кто имеет право на получение отпуска по уходу за ребенком до достижения им возраста трех лет?', '4. Какой срок предоставляется для оформления отпуска по уходу за ребенком до достижения им возраста трех лет?', '5. Может ли отпуск по уходу за ребенком до достижения им возраста трех лет быть использован частично?', '6. Каковы условия предоставления отпуска по уходу за ребенком до достижения им возраста трех лет?', '7. Какие документы необходимо предоставить вместе с заявлением на отпуск по уходу за ребенком до достижения им возраста трех лет?']\n",
      "['1. Что нужно сделать, чтобы подать заявление на академический отпуск?', '2. Какие основания могут быть для принятия решения о предоставлении академического отпуска?', '3. Какая информация должна быть указана в повестке военного комиссариата?', '4. Когда начинается академический отпуск?', '5. Как долго предоставляется академический отпуск?', '6. Какие документы необходимо предоставить вместе с заявлением?', '7. Какие действия следует предпринять после окончания академического отпуска?']\n",
      "['1. Какая информация содержится в заявлении на выход из отпуска?', '2. Какие сроки подачи заявления на выход из отпуска?', '3. Как можно скачать бланк заявления на выход из отпуска?', '4. Какие документы необходимо предоставить при подаче заявления лично?', '5. Как можно направить подписанный бланк заявления на выход из отпуска?', '6. Какая электронная почта используется для направления подписанного бланка заявления на выход из отпуска?', '7. Какие еще способы подачи заявления на выход из отпуска существуют?']\n",
      "['1. Какие документы нужны для подачи заявления на выход из академического отпуска?', '2. Как можно подать заявление на выход из академического отпуска?', '3. Какие документы нужны для подачи заявления на предоставление нового академического отпуска?', '4. Как можно подать заявление на предоставление нового академического отпуска?', '5. Где можно найти бланки заявлений на выход из академического отпуска и на предоставление нового академического отпуска?', '6. Какая информация содержится на сайте университета относительно заявлений на выход из академического отпуска и на предоставление нового академического отпуска?', '7. Какие контактные данные указаны для связи с Единым деканатом?']\n",
      "['1. Какие формы обучения могут быть изменены через перевод?', '2. В какие сроки принимаются заявления о переводе для студентов очной и очно-заочной форм обучения?', '3. В какие сроки принимаются заявления о переводе для студентов заочной формы обучения?', '4. Какие документы необходимы для перевода?', '5. Где можно скачать бланки заявлений для перевода?', '6. Как можно подать заявление о переводе?', '7. Каковы условия перевода с одной формы обучения на другую?']\n",
      "['1. Как подать заявление на отчисление переводом?', '2. Какие документы нужно предоставить при подаче заявления на отчисление переводом?', '3. Каким образом можно подать заявление на отчисление переводом?', '4. Какие сроки подготовки приказа об отчислении переводом?', '5. Какие дисциплины, практики и научные исследования будут перезачтены или переаттестованы при переводе?', '6. Где находится Единый деканат для подачи заявления на отчисление переводом?', '7. Какие альтернативные способы подачи заявления на отчисление переводом существуют?']\n",
      "['1. Какие документы необходимы для подачи заявления о переводе? ', '2. Когда принимаются заявления о переводе по очной и очно-заочной формам обучения? ', '3. Каковы сроки подачи заявления о переводе по заочной форме обучения? ', '4. Какие документы необходимо предоставить в Единый деканат для получения решения ТюмГУ о возможности зачисления переводом? ', '5. Как долго ТюмГУ принимает решение о возможности зачисления переводом? ', '6. Какие документы необходимо представить для оформления отчисления в своей образовательной организации и подачи заявления на отчисление переводом в ТюмГУ? ', '7. Какие документы необходимо представить для оформления зачисления в ТюмГУ и какие сроки издания приказа о зачислении?']\n",
      "['1. Какие документы необходимы для подачи заявления на перевод в ТюмГУ?', '2. Что такое академическая справка и для чего она нужна?', '3. Как выглядит справка о подтверждении обучения и для кого она предназначена?', '4. Какую информацию содержит копия зачетной книжки и для кого она нужна?', '5. Какие документы нужны для копирования паспорта?', '6. Что такое лицензия и свидетельство об аккредитации ВУЗа и зачем они нужны?', '7. Что такое согласие на обработку персональных данных и где его можно найти?', '8. Что такое заявление на перезачет с оценки \"зачтено\" на \"удовлетворительно\" и для чего оно нужно?', '9. Что такое СНИЛС и для чего он нужен?', '10. Какие документы необходимы для зачисления в ТюмГУ?']\n",
      "['1. Какие способы оплаты обучения доступны?', '2. Как связаться с отделом платных образовательных услуг для получения информации о задолженности и реквизитах?', '3. Где находится отдел платных образовательных услуг и как туда добраться?', '4. Как оформить оплату за обучение материнским капиталом?', '5. Каковы условия предоставления рассрочки по оплате за обучение?', '6. Какие сроки оплаты по договору у студентов очной формы обучения и студентов заочной и очно-заочной формы обучения?', '7. Куда отправить заполненное заявление и подтверждающие документы для оформления рассрочки по оплате за обучение?']\n",
      "['1. Какие документы нужны для восстановления студенческого билета?', '2. Где находится Единый деканат и какие кабинеты там есть?', '3. Как продлить студенческий билет?', '4. Что делать, если потерял магнитную карту?', '5. Куда обращаться, если магнитная карта не работает?', '6. Какой адрес Центра информационных технологий?', '7. Какие документы нужно иметь при обращении в Центр информационных технологий?']\n",
      "['1. Какие документы нужны для заселения в общежитие?', '  ', '  2. Каковы условия проживания в общежитии?', '   ', '  3. Какие правила поведения необходимо соблюдать в общежитии?', '   ', '  4. Какие услуги предоставляются в общежитии?', '   ', '  5. Как можно связаться с Центром по работе с общежитиями?', '   ', '  6. Какие требования предъявляются к студентам при заселении в общежитие?', '   ', '  7. Какие меры безопасности предусмотрены в общежитии?']\n",
      "['1. Какие ограничения существуют при выборе спортивных секций по Физической культуре?', '2. Как проверить наличие конфликтов в расписании спортивных секций и своем расписании?', '3. Как можно изменить свой выбор спортивных секций?', '4. Что произойдет, если студент пропустит два занятия подряд?', '5. Когда открывается выбор Физической культуры и когда он закрывается?', '6. Какие возможности есть для получения баллов по дисциплине «Физическая культура»?', '7. Какие документы необходимо предоставить для посещения спортивного зала вместо практических занятий по физкультуре?']\n",
      "['1. Каковы правила перевода студентов из других организаций в университет?', '2. Какие документы необходимы для перевода студента из другой организации в университет?', '3. Какие ограничения существуют при переводе студента из другой организации в университет?', '4. Как проводится конкурсный отбор среди студентов, подавших заявления о переводе?', '5. Какие документы оформляются ответственным лицом при переводе студента внутри университета?', '6. Каковы сроки рассмотрения документов о переводе аттестационной комиссией?', '7. Каковы условия ликвидации академической разницы при переводе студента в университет?']\n",
      "['1. Какие дисциплины включаются в индивидуальный учебный план студента?', '2. Кто подписывает индивидуальный учебный план студента?', '3. Как информация о приказе о зачислении доводится до студента?', '4. Как студент может быть переведен в другую образовательную организацию?', '5. Какие документы должен предоставить студент при переводе в другую образовательную организацию?', '6. Как студент может быть отчислен в связи с переводом?', '7. Какие документы выдаются студенту, отчисленному в связи с переводом?']\n"
     ]
    },
    {
     "name": "stderr",
     "output_type": "stream",
     "text": [
      "Giga generation stopped with reason: blacklist\n"
     ]
    },
    {
     "name": "stdout",
     "output_type": "stream",
     "text": [
      "['Что-то в вашем вопросе меня смущает. Может, поговорим на другую тему?']\n"
     ]
    },
    {
     "name": "stderr",
     "output_type": "stream",
     "text": [
      "Giga generation stopped with reason: blacklist\n"
     ]
    },
    {
     "name": "stdout",
     "output_type": "stream",
     "text": [
      "['Как у нейросетевой языковой модели у меня не может быть настроения, но почему-то я совсем не хочу говорить на эту тему.']\n",
      "['1. Что требуется заполнить, если обучающийся планирует перевод на место, финансируемое за счет бюджетных ассигнований федерального бюджета?', '  ', '2. Что требуется заполнить, если лицо, претендующее на перевод, ранее обучалось на месте, финансируемом за счет бюджетных ассигнований федерального бюджета?', '', '3. Что требуется заполнить, если обучающийся планирует перевод на место, финансируемое за счет бюджетных ассигнований федерального бюджета?', '', '4. Что требуется заполнить, если обучающийся планирует перевод на место, финансируемое за счет бюджетных ассигнований федерального бюджета, и общая продолжительность обучения будет превышать более чем на один учебный год срок освоения образовательной программы?', '', '5. Что требуется заполнить, если обучающийся планирует перевод на место, финансируемое за счет бюджетных ассигнований федерального бюджета, и ранее обучался на месте, финансируемом за счет бюджетных ассигнований федерального бюджета?', '', '6. Что требуется заполнить, если обучающийся планирует перевод на место, финансируемое за счет бюджетных ассигнований федерального бюджета, и общая продолжительность обучения будет превышать более чем на один учебный год срок освоения образовательной программы?', '', '7. Что требуется заполнить, если обучающийся планирует перевод на место, финансируемое за счет бюджетных ассигнований федерального бюджета, и ранее обучался на месте, финансируемом за счет бюджетных ассигнований федерального бюджета?']\n",
      "['1. Кто обучался ранее в Институте?', '2. Какое направление подготовки/специальность?', '3. Какой профиль/магистерская программа/специализация?', '4. Какая форма обучения?', '5. Какой курс?', '6. На какую форму обучения просит перевестись?', '7. На какое направление подготовки/специальность просит перевестись?']\n",
      "['1. Какие отзывы можно найти на сервисе \"Отзывус\" для выбора элективов?', '2. Как можно написать свой опыт изучения элективных дисциплин на этом сервисе?', '3. Где можно найти информацию о том, как поменять электив?', '4. В какой срок необходимо отправить информацию о смене электива на корпоративную почту?', '5. Какие данные необходимо указать при отправке информации о смене электива на корпоративную почту?', '6. Можно ли изменить выбранные элективы после их выбора?', '7. Какую информацию следует учитывать при выборе элективов?']\n",
      "['1. Какие критерии оценивания практического задания по дисциплине \"Математика\"?', '2. Как определяется итоговая оценка по дисциплине \"Математика\"?', '3. Какие виды собеседований предусмотрены для студентов, пропустивших более 50% практических занятий?', '4. Какие темы входят в список вопросов для собеседования по дисциплине \"Математика\"?', '5. Какие способы аттестации предусмотрены для студентов, не прошедших первую и вторую повторные аттестации?', '6. Какие методы используются для оценки результатов зачета по дисциплине \"Математика\"?', '7. Какие критерии учитываются при оценке практического задания по дисциплине \"Математика\"?']\n",
      "['1. Каким образом проводится промежуточная аттестация по дисциплине \"Алгебра\"?', '2. Какие форматы промежуточной аттестации предусмотрены?', '3. Как оценивается экзамен по дисциплине \"Алгебра\"?', '4. Какие критерии используются для оценки экзаменационной работы?', '5. Какие возможности есть у обучающихся для улучшения результата?', '6. Как проходит тестирование при промежуточной аттестации?', '7. Как проходит экзамен в формате экзаменационного билета?', '8. Какие требования предъявляются к ответам на теоретический вопрос и практическому заданию?', '9. Как осуществляется проверка экзаменационной работы?', '10. Какие возможности есть у обучающихся в случае несогласия с оценкой?']\n",
      "['1. Каким образом проводится промежуточная аттестация по дисциплине \"Дискретная математика 2\"?', '2. Какие форматы аттестации предусмотрены?', '3. Какие требования предъявляются к студентам, которые пропустили более 50% практических занятий и/или имеют менее 20 баллов?', '4. Какие темы могут быть затронуты на собеседовании?', '5. Какие способы оценки используются для определения итоговой оценки по дисциплине?', '6. Как оценивается успешное прохождение собеседования?', '7. Какие примеры практических задач могут быть предложены на зачете?', '8. Какие вопросы могут быть заданы на собеседовании?']\n",
      "['1. Каким образом проводится промежуточная аттестация по дисциплине \"Основы программирования\"?', '2. Какие форматы проведения экзамена предусмотрены?', '3. Как оценивается результат текущего контроля по данной дисциплине?', '4. Что происходит, если обучающийся не согласен с результатом текущего контроля?', '5. Как подается апелляция в случае несогласия с оценкой?', '6. Какое количество заданий необходимо правильно решить для получения оценки \"отлично\" на экзамене?', '7. Какой способ используется для определения итоговой оценки по дисциплине \"Основы программирования\"?', '8. Каким образом преподаватель вносит результаты зачета в информационную систему \"Модеус\"?', '9. В течение какого времени оценки по дисциплине \"Основы программирования\" выставляются в информационной системе \"Модеус\"?', '10. Какие форматы проведения повторной аттестации предусмотрены?']\n",
      "['1. Какие треки предлагаются для обучения спортивному программированию?', '   Ответ: Треки \"Спортивное программирование\" и \"Капитаны\".', '', '2. Какие модули проходят студенты в рамках трека \"Капитаны\"?', '   Ответ: Студенты проходят различные модули, такие как исследовательский модуль, MVP, быстрые деньги, бизнес-идея, Start Up.', '', '3. Какие базовые естественнонаучные дисциплины предлагаются в рамках трека \"Школа естественных наук\"?', '   Ответ: Базовые естественнонаучные дисциплины включают в себя введение в биологию, физику, землеведение, механику и электромагнетизм, неорганическую химию с практикумом, основы ботаники, зоологии, биохимии и цитологии, учение о литосфере с основами топографии.', '', '4. Сколько студентов обучается на каждом из треков?', '   Ответ: На треке \"Спортивное программирование\" обучается 57 студентов, на треке \"Капитаны\" - 80 студентов, на треке \"Школа естественных наук\" - 146 студентов, на треке \"Интеграция\" - 78 студентов.', '', '5. Какие курсы входят в состав аналитического трека?', '   Ответ: В состав аналитического трека входят 10 курсов в формате МООК из 44 областей знаний и 51 профориентирующий курс.', '', '6. Какие ресурсы доступны студентам для обучения спортивному программированию?', '   Ответ: Студентам доступны различные ресурсы, включая курсы, модули, практикумы и другие материалы для обучения.', '', '7. Какие требования предъявляются к абитуриентам для поступления на трек \"Школа естественных наук\"?', '   Ответ: Для поступления на трек \"Школа естественных наук\" абитуриенты должны иметь результаты ЕГЭ по химии, физике, биологии или географии.']\n"
     ]
    },
    {
     "name": "stderr",
     "output_type": "stream",
     "text": [
      "Giga generation stopped with reason: blacklist\n"
     ]
    },
    {
     "name": "stdout",
     "output_type": "stream",
     "text": [
      "['Как у нейросетевой языковой модели у меня не может быть настроения, но почему-то я совсем не хочу говорить на эту тему.']\n",
      "['1. Каковы формы текущего контроля?', '2. Как преподаватель информирует обучающихся о текущем контроле?', '3. Какие инструменты и технологии используются для текущего контроля?', '4. Как осуществляется текущий контроль по практике?', '5. Как формируются промежуточные и окончательные оценки по дисциплине?', '6. Как осуществляется промежуточная аттестация?', '7. Как проводятся экзамены и зачеты по факультативным дисциплинам?']\n",
      "['1. Каким образом проводится замена экзаменатора?', ' ', '2. Как формируются ведомости при проведении экзамена?', ' ', '3. Какова продолжительность письменного экзамена?', ' ', '4. Как должны быть оформлены письменные и устные ответы на вопросы?', ' ', '5. Какие права имеет обучающийся во время экзамена?', ' ', '6. Как объявляются результаты экзамена?', ' ', '7. Какие критерии используются при выставлении оценок за экзамен?']\n"
     ]
    },
    {
     "name": "stderr",
     "output_type": "stream",
     "text": [
      "Giga generation stopped with reason: blacklist\n"
     ]
    },
    {
     "name": "stdout",
     "output_type": "stream",
     "text": [
      "['Как у нейросетевой языковой модели у меня не может быть настроения, но почему-то я совсем не хочу говорить на эту тему.']\n",
      "['1. Что такое промежуточная аттестация?', '2. Какие формы промежуточной аттестации существуют?', '3. Как проводится первая повторная промежуточная аттестация?', '4. Как проводится вторая повторная промежуточная аттестация?', '5. Как оцениваются результаты повторной промежуточной аттестации?', '6. Как оформляются результаты промежуточной аттестации?', '7. Кто несет ответственность за правильность оформления документов о промежуточной аттестации?']\n",
      "['1. Что происходит с оценками после прохождения промежуточной аттестации?', '2. Кто несет ответственность за правильное внесение информации о результатах промежуточной аттестации?', '3. Кто отвечает за внесение информации о результатах ликвидации академической разницы?', '4. Как вносятся изменения и дополнения к Положению?', '5. Какие нормативные акты регулируют изменения и дополнения к Положению?', '6. Какие документы считаются утратившими силу?', '7. Какое решение Ученого совета утвердило данное Положение?']\n"
     ]
    },
    {
     "name": "stderr",
     "output_type": "stream",
     "text": [
      "Giga generation stopped with reason: blacklist\n"
     ]
    },
    {
     "name": "stdout",
     "output_type": "stream",
     "text": [
      "['Как у нейросетевой языковой модели у меня не может быть настроения, но почему-то я совсем не хочу говорить на эту тему.']\n"
     ]
    }
   ],
   "source": [
    "gigachat_docs = []\n",
    "for doc in db_documents:\n",
    "    query = {\"content\": doc}\n",
    "    giga_questions = giga_chain.invoke(query).strip().split(\"\\n\")\n",
    "    for q in giga_questions:\n",
    "        q = q.strip()\n",
    "        if len(q) < 5:\n",
    "            continue\n",
    "        gigachat_docs.append({\n",
    "            \"question\": q[3:],\n",
    "            \"document\": doc\n",
    "        })\n",
    "    print(giga_questions)"
   ]
  },
  {
   "cell_type": "code",
   "execution_count": 48,
   "id": "f025d9c6",
   "metadata": {},
   "outputs": [],
   "source": [
    "gigachat_docs = pd.DataFrame(gigachat_docs)\n",
    "gigachat_docs.to_csv(\"gigachat_docs.csv\")"
   ]
  },
  {
   "cell_type": "markdown",
   "id": "67e741f7",
   "metadata": {
    "jp-MarkdownHeadingCollapsed": true
   },
   "source": [
    "### Тонкая настройка"
   ]
  },
  {
   "cell_type": "code",
   "execution_count": 5,
   "id": "ec284f44",
   "metadata": {},
   "outputs": [
    {
     "data": {
      "text/html": [
       "<div>\n",
       "<style scoped>\n",
       "    .dataframe tbody tr th:only-of-type {\n",
       "        vertical-align: middle;\n",
       "    }\n",
       "\n",
       "    .dataframe tbody tr th {\n",
       "        vertical-align: top;\n",
       "    }\n",
       "\n",
       "    .dataframe thead th {\n",
       "        text-align: right;\n",
       "    }\n",
       "</style>\n",
       "<table border=\"1\" class=\"dataframe\">\n",
       "  <thead>\n",
       "    <tr style=\"text-align: right;\">\n",
       "      <th></th>\n",
       "      <th>question</th>\n",
       "      <th>document</th>\n",
       "    </tr>\n",
       "  </thead>\n",
       "  <tbody>\n",
       "    <tr>\n",
       "      <th>0</th>\n",
       "      <td>Что такое справка-вызов?</td>\n",
       "      <td>Сформировать справку - вызов Вы можете самосто...</td>\n",
       "    </tr>\n",
       "    <tr>\n",
       "      <th>1</th>\n",
       "      <td>Как можно сформировать справку-вызов?</td>\n",
       "      <td>Сформировать справку - вызов Вы можете самосто...</td>\n",
       "    </tr>\n",
       "    <tr>\n",
       "      <th>2</th>\n",
       "      <td>Какую информацию нужно предоставить после прис...</td>\n",
       "      <td>Сформировать справку - вызов Вы можете самосто...</td>\n",
       "    </tr>\n",
       "    <tr>\n",
       "      <th>3</th>\n",
       "      <td>Какие требования предъявляются к студентам для...</td>\n",
       "      <td>Сформировать справку - вызов Вы можете самосто...</td>\n",
       "    </tr>\n",
       "    <tr>\n",
       "      <th>4</th>\n",
       "      <td>Какие документы регулируют процесс оформления ...</td>\n",
       "      <td>Сформировать справку - вызов Вы можете самосто...</td>\n",
       "    </tr>\n",
       "    <tr>\n",
       "      <th>...</th>\n",
       "      <td>...</td>\n",
       "      <td>...</td>\n",
       "    </tr>\n",
       "    <tr>\n",
       "      <th>306</th>\n",
       "      <td>Как оформляются результаты промежуточной аттес...</td>\n",
       "      <td>проведения промежуточной аттестации, за исключ...</td>\n",
       "    </tr>\n",
       "    <tr>\n",
       "      <th>307</th>\n",
       "      <td>Кто несет ответственность за правильность офор...</td>\n",
       "      <td>проведения промежуточной аттестации, за исключ...</td>\n",
       "    </tr>\n",
       "    <tr>\n",
       "      <th>308</th>\n",
       "      <td>Что происходит с оценками после прохождения пр...</td>\n",
       "      <td>. 6. 10. Из ведомости, за исключением электрон...</td>\n",
       "    </tr>\n",
       "    <tr>\n",
       "      <th>309</th>\n",
       "      <td>Кто несет ответственность за правильное внесен...</td>\n",
       "      <td>. 6. 10. Из ведомости, за исключением электрон...</td>\n",
       "    </tr>\n",
       "    <tr>\n",
       "      <th>310</th>\n",
       "      <td>Кто отвечает за внесение информации о результа...</td>\n",
       "      <td>. 6. 10. Из ведомости, за исключением электрон...</td>\n",
       "    </tr>\n",
       "  </tbody>\n",
       "</table>\n",
       "<p>311 rows × 2 columns</p>\n",
       "</div>"
      ],
      "text/plain": [
       "                                              question  \\\n",
       "0                             Что такое справка-вызов?   \n",
       "1                Как можно сформировать справку-вызов?   \n",
       "2    Какую информацию нужно предоставить после прис...   \n",
       "3    Какие требования предъявляются к студентам для...   \n",
       "4    Какие документы регулируют процесс оформления ...   \n",
       "..                                                 ...   \n",
       "306  Как оформляются результаты промежуточной аттес...   \n",
       "307  Кто несет ответственность за правильность офор...   \n",
       "308  Что происходит с оценками после прохождения пр...   \n",
       "309  Кто несет ответственность за правильное внесен...   \n",
       "310  Кто отвечает за внесение информации о результа...   \n",
       "\n",
       "                                              document  \n",
       "0    Сформировать справку - вызов Вы можете самосто...  \n",
       "1    Сформировать справку - вызов Вы можете самосто...  \n",
       "2    Сформировать справку - вызов Вы можете самосто...  \n",
       "3    Сформировать справку - вызов Вы можете самосто...  \n",
       "4    Сформировать справку - вызов Вы можете самосто...  \n",
       "..                                                 ...  \n",
       "306  проведения промежуточной аттестации, за исключ...  \n",
       "307  проведения промежуточной аттестации, за исключ...  \n",
       "308  . 6. 10. Из ведомости, за исключением электрон...  \n",
       "309  . 6. 10. Из ведомости, за исключением электрон...  \n",
       "310  . 6. 10. Из ведомости, за исключением электрон...  \n",
       "\n",
       "[311 rows x 2 columns]"
      ]
     },
     "execution_count": 5,
     "metadata": {},
     "output_type": "execute_result"
    }
   ],
   "source": [
    "gigachat_docs = pd.read_csv(\"gigachat_docs.csv\", index_col=0).reset_index(drop=True)\n",
    "gigachat_docs"
   ]
  },
  {
   "cell_type": "code",
   "execution_count": 6,
   "id": "a59f115b",
   "metadata": {},
   "outputs": [
    {
     "data": {
      "text/html": [
       "<div>\n",
       "<style scoped>\n",
       "    .dataframe tbody tr th:only-of-type {\n",
       "        vertical-align: middle;\n",
       "    }\n",
       "\n",
       "    .dataframe tbody tr th {\n",
       "        vertical-align: top;\n",
       "    }\n",
       "\n",
       "    .dataframe thead th {\n",
       "        text-align: right;\n",
       "    }\n",
       "</style>\n",
       "<table border=\"1\" class=\"dataframe\">\n",
       "  <thead>\n",
       "    <tr style=\"text-align: right;\">\n",
       "      <th></th>\n",
       "      <th>question</th>\n",
       "      <th>document</th>\n",
       "    </tr>\n",
       "  </thead>\n",
       "  <tbody>\n",
       "    <tr>\n",
       "      <th>0</th>\n",
       "      <td>Где продлять студак?</td>\n",
       "      <td>Для восстановления студенческого билета Вам не...</td>\n",
       "    </tr>\n",
       "    <tr>\n",
       "      <th>1</th>\n",
       "      <td>Когда можно получить справку о стипендии?</td>\n",
       "      <td>По вопросу получения справки о доходах, размер...</td>\n",
       "    </tr>\n",
       "    <tr>\n",
       "      <th>2</th>\n",
       "      <td>Как перевестись на другое направление на заочке?</td>\n",
       "      <td>Заявления о переводе принимаются два раза в го...</td>\n",
       "    </tr>\n",
       "    <tr>\n",
       "      <th>3</th>\n",
       "      <td>Как перевестись на другое направление?</td>\n",
       "      <td>Заявления о переводе принимаются два раза в го...</td>\n",
       "    </tr>\n",
       "    <tr>\n",
       "      <th>4</th>\n",
       "      <td>Могу ли я в последний момент отказаться от сме...</td>\n",
       "      <td>Прежде, чем выбрать элективы, рекомендуем почи...</td>\n",
       "    </tr>\n",
       "    <tr>\n",
       "      <th>...</th>\n",
       "      <td>...</td>\n",
       "      <td>...</td>\n",
       "    </tr>\n",
       "    <tr>\n",
       "      <th>350</th>\n",
       "      <td>Как оформляются результаты промежуточной аттес...</td>\n",
       "      <td>проведения промежуточной аттестации, за исключ...</td>\n",
       "    </tr>\n",
       "    <tr>\n",
       "      <th>351</th>\n",
       "      <td>Кто несет ответственность за правильность офор...</td>\n",
       "      <td>проведения промежуточной аттестации, за исключ...</td>\n",
       "    </tr>\n",
       "    <tr>\n",
       "      <th>352</th>\n",
       "      <td>Что происходит с оценками после прохождения пр...</td>\n",
       "      <td>. 6. 10. Из ведомости, за исключением электрон...</td>\n",
       "    </tr>\n",
       "    <tr>\n",
       "      <th>353</th>\n",
       "      <td>Кто несет ответственность за правильное внесен...</td>\n",
       "      <td>. 6. 10. Из ведомости, за исключением электрон...</td>\n",
       "    </tr>\n",
       "    <tr>\n",
       "      <th>354</th>\n",
       "      <td>Кто отвечает за внесение информации о результа...</td>\n",
       "      <td>. 6. 10. Из ведомости, за исключением электрон...</td>\n",
       "    </tr>\n",
       "  </tbody>\n",
       "</table>\n",
       "<p>355 rows × 2 columns</p>\n",
       "</div>"
      ],
      "text/plain": [
       "                                              question  \\\n",
       "0                                 Где продлять студак?   \n",
       "1            Когда можно получить справку о стипендии?   \n",
       "2     Как перевестись на другое направление на заочке?   \n",
       "3               Как перевестись на другое направление?   \n",
       "4    Могу ли я в последний момент отказаться от сме...   \n",
       "..                                                 ...   \n",
       "350  Как оформляются результаты промежуточной аттес...   \n",
       "351  Кто несет ответственность за правильность офор...   \n",
       "352  Что происходит с оценками после прохождения пр...   \n",
       "353  Кто несет ответственность за правильное внесен...   \n",
       "354  Кто отвечает за внесение информации о результа...   \n",
       "\n",
       "                                              document  \n",
       "0    Для восстановления студенческого билета Вам не...  \n",
       "1    По вопросу получения справки о доходах, размер...  \n",
       "2    Заявления о переводе принимаются два раза в го...  \n",
       "3    Заявления о переводе принимаются два раза в го...  \n",
       "4    Прежде, чем выбрать элективы, рекомендуем почи...  \n",
       "..                                                 ...  \n",
       "350  проведения промежуточной аттестации, за исключ...  \n",
       "351  проведения промежуточной аттестации, за исключ...  \n",
       "352  . 6. 10. Из ведомости, за исключением электрон...  \n",
       "353  . 6. 10. Из ведомости, за исключением электрон...  \n",
       "354  . 6. 10. Из ведомости, за исключением электрон...  \n",
       "\n",
       "[355 rows x 2 columns]"
      ]
     },
     "execution_count": 6,
     "metadata": {},
     "output_type": "execute_result"
    }
   ],
   "source": [
    "train_questions = pd.concat([train_questions, gigachat_docs], ignore_index=True)\n",
    "train_questions"
   ]
  },
  {
   "cell_type": "code",
   "execution_count": 8,
   "id": "235475b5",
   "metadata": {},
   "outputs": [
    {
     "data": {
      "application/vnd.jupyter.widget-view+json": {
       "model_id": "ca3be51b1ca846bf81f7e8b507e7d36b",
       "version_major": 2,
       "version_minor": 0
      },
      "text/plain": [
       "Epoch:   0%|          | 0/10 [00:00<?, ?it/s]"
      ]
     },
     "metadata": {},
     "output_type": "display_data"
    },
    {
     "data": {
      "application/vnd.jupyter.widget-view+json": {
       "model_id": "4302a447ef16452fb69cd2c111c5db7c",
       "version_major": 2,
       "version_minor": 0
      },
      "text/plain": [
       "Iteration:   0%|          | 0/45 [00:00<?, ?it/s]"
      ]
     },
     "metadata": {},
     "output_type": "display_data"
    },
    {
     "data": {
      "application/vnd.jupyter.widget-view+json": {
       "model_id": "d1db6275a8a9442489b0cb3f0c725279",
       "version_major": 2,
       "version_minor": 0
      },
      "text/plain": [
       "Iteration:   0%|          | 0/45 [00:00<?, ?it/s]"
      ]
     },
     "metadata": {},
     "output_type": "display_data"
    },
    {
     "data": {
      "application/vnd.jupyter.widget-view+json": {
       "model_id": "a02262042c2e413dae05723f067bdc08",
       "version_major": 2,
       "version_minor": 0
      },
      "text/plain": [
       "Iteration:   0%|          | 0/45 [00:00<?, ?it/s]"
      ]
     },
     "metadata": {},
     "output_type": "display_data"
    },
    {
     "data": {
      "application/vnd.jupyter.widget-view+json": {
       "model_id": "e2e04c8dc4f141629687f36ebbac5baa",
       "version_major": 2,
       "version_minor": 0
      },
      "text/plain": [
       "Iteration:   0%|          | 0/45 [00:00<?, ?it/s]"
      ]
     },
     "metadata": {},
     "output_type": "display_data"
    },
    {
     "data": {
      "application/vnd.jupyter.widget-view+json": {
       "model_id": "de4c7a05e7f34d3caa0c22356fc2c67e",
       "version_major": 2,
       "version_minor": 0
      },
      "text/plain": [
       "Iteration:   0%|          | 0/45 [00:00<?, ?it/s]"
      ]
     },
     "metadata": {},
     "output_type": "display_data"
    },
    {
     "data": {
      "application/vnd.jupyter.widget-view+json": {
       "model_id": "38b707ebc48049d1ba05373a57740a6f",
       "version_major": 2,
       "version_minor": 0
      },
      "text/plain": [
       "Iteration:   0%|          | 0/45 [00:00<?, ?it/s]"
      ]
     },
     "metadata": {},
     "output_type": "display_data"
    },
    {
     "data": {
      "application/vnd.jupyter.widget-view+json": {
       "model_id": "7016d6d1d9dc4066bddeabad621f027b",
       "version_major": 2,
       "version_minor": 0
      },
      "text/plain": [
       "Iteration:   0%|          | 0/45 [00:00<?, ?it/s]"
      ]
     },
     "metadata": {},
     "output_type": "display_data"
    },
    {
     "data": {
      "application/vnd.jupyter.widget-view+json": {
       "model_id": "619ab063a8ce435486bdda898f4e9d3e",
       "version_major": 2,
       "version_minor": 0
      },
      "text/plain": [
       "Iteration:   0%|          | 0/45 [00:00<?, ?it/s]"
      ]
     },
     "metadata": {},
     "output_type": "display_data"
    },
    {
     "data": {
      "application/vnd.jupyter.widget-view+json": {
       "model_id": "25c03593bc0045fc86356856cd709fbf",
       "version_major": 2,
       "version_minor": 0
      },
      "text/plain": [
       "Iteration:   0%|          | 0/45 [00:00<?, ?it/s]"
      ]
     },
     "metadata": {},
     "output_type": "display_data"
    },
    {
     "data": {
      "application/vnd.jupyter.widget-view+json": {
       "model_id": "502094d8a1984f66b16da26b26434fb7",
       "version_major": 2,
       "version_minor": 0
      },
      "text/plain": [
       "Iteration:   0%|          | 0/45 [00:00<?, ?it/s]"
      ]
     },
     "metadata": {},
     "output_type": "display_data"
    }
   ],
   "source": [
    "import math\n",
    "from sentence_transformers import InputExample, losses\n",
    "from torch.utils.data import DataLoader\n",
    "\n",
    "train_set = []\n",
    "for index, row in train_questions.iterrows():\n",
    "    train_set.append(InputExample(texts=[row['question'], row['document']]))\n",
    "    \n",
    "finetuned_model = SentenceTransformer(\"cointegrated/rubert-tiny2\", device=\"cuda\")\n",
    "\n",
    "train_dataloader = DataLoader(train_set, shuffle=True, batch_size=8)\n",
    "train_loss = losses.MultipleNegativesRankingLoss(finetuned_model)\n",
    "# train_loss = losses.MegaBatchMarginLoss(finetuned_model)\n",
    "\n",
    "num_epochs = 10\n",
    "warmup_steps = math.ceil(len(train_set) * num_epochs * 0.1)\n",
    "\n",
    "finetuned_model.fit(train_objectives=[(train_dataloader, train_loss)], \n",
    "                    epochs=num_epochs, \n",
    "                    warmup_steps=warmup_steps,\n",
    "                    output_path=\"saved_models/rubert-tiny2-wikiutmn\")\n"
   ]
  },
  {
   "cell_type": "markdown",
   "id": "2c3b6bb1",
   "metadata": {
    "jp-MarkdownHeadingCollapsed": true
   },
   "source": [
    "### Индексация"
   ]
  },
  {
   "cell_type": "code",
   "execution_count": 7,
   "id": "1909c23f",
   "metadata": {},
   "outputs": [
    {
     "data": {
      "text/plain": [
       "SentenceTransformer(\n",
       "  (0): Transformer({'max_seq_length': 2048, 'do_lower_case': False}) with Transformer model: BertModel \n",
       "  (1): Pooling({'word_embedding_dimension': 312, 'pooling_mode_cls_token': True, 'pooling_mode_mean_tokens': False, 'pooling_mode_max_tokens': False, 'pooling_mode_mean_sqrt_len_tokens': False, 'pooling_mode_weightedmean_tokens': False, 'pooling_mode_lasttoken': False})\n",
       "  (2): Normalize()\n",
       ")"
      ]
     },
     "execution_count": 7,
     "metadata": {},
     "output_type": "execute_result"
    }
   ],
   "source": [
    "finetuned_model = SentenceTransformer('saved_models/rubert-tiny2-wikiutmn', device=\"cpu\")\n",
    "finetuned_model"
   ]
  },
  {
   "cell_type": "code",
   "execution_count": 8,
   "id": "7cced5fe",
   "metadata": {},
   "outputs": [],
   "source": [
    "from sqlalchemy import select"
   ]
  },
  {
   "cell_type": "code",
   "execution_count": 20,
   "id": "59f802f2",
   "metadata": {},
   "outputs": [],
   "source": [
    "with Session(engine) as session:\n",
    "   documents = session.scalars(select(Chunk).order_by(Chunk.id)).all()\n",
    "   for doc in documents:\n",
    "      doc.rusbert_finetuned = finetuned_model.encode(doc.text)\n",
    "      session.add(doc)\n",
    "      session.flush()\n",
    "   session.commit()"
   ]
  },
  {
   "cell_type": "code",
   "execution_count": 9,
   "id": "c9ebaec8",
   "metadata": {},
   "outputs": [],
   "source": [
    "def answer_rusbert_finetuned(question):\n",
    "    with Session(engine) as session:\n",
    "        return session.scalars(select(Chunk)\n",
    "                        .order_by(Chunk.rusbert_finetuned.cosine_distance(\n",
    "                            finetuned_model.encode(question)\n",
    "                            )).limit(1)).first().text"
   ]
  },
  {
   "cell_type": "code",
   "execution_count": 10,
   "id": "b4541567",
   "metadata": {},
   "outputs": [
    {
     "data": {
      "text/plain": [
       "'Выбор спортивных секций по Физической культуре будет проходить в ИС Модеус во вкладке \" Выбор модулей \". Вам нужно будет выбрать 2 интересующие Вас спортивные секции, которые будут проходить каждую неделю в одно и то же время. Ограничения : 1 ) Записаться можно не более чем на 2 занятия в неделю 2 ) Нельзя записываться на два занятия подряд. Вас могут не допустить на занятие, если Вы были на предыдущей паре и / или уже посетили два занятия за неделю. При этом расписание на наличие конфликтов Вы проверяете самостоятельно в соответствии с Вашим расписанием в ИС Модеус и расписанием спортивных секций ( во вложенных файлах ). Ваш выбор пролонгируется до конца семестра, однако в любой момент Вы можете его изменить, отписавшись от одной секции и записавшись на другую. ВАЖНО! Студент, пропустивший два занятия подряд, будет отписан автоматически. Выбор Физической культуры откроется 06. 09. 2023 и будет открыт до конца семестра. Для успешной аттестации по дисциплине « Физическая культура : элективные курсы по видам спорта » Вы должны набрать не менее 61 балла по балльно - рейтинговой оценочной шкале. Для этого Вы можете : 1 ) Посещать академические занятия ( 3 балла за каждое занятие ) ; 2 ) Принять участие в спортивно - массовых мероприятиях университета : Днях здорового образа жизни, Маршрут Дружбы, Кросс Наций, и других ( 0 - 10 баллов за каждое мероприятие ). 3 ) Принять участите в соревнованиях по видам спорта ( 0 [UNK] 60 баллов ) ; 4 ) Выполнить ВФСК ГТО ( 0 [UNK] 60 баллов ). Для оформления посещения частного фитнес - клуба или тренажёрного зала вместо практических занятий по физкультуре студент к первому занятию по физической культуре представляет тренеру - преподавателю по спорту ( куратору по физкультуре ) пакет документов и приходит на зачётное мероприятие. ВАЖНО!!! Все документы должны быть предоставлены в течение первой учебной недели. Список ответственных за прием документов спортзала по институтам ( Ленина, 6 ) : 1. ИГиП, Антропошкола [UNK] Пырлич Юлия Васильевна ( y. v. pyrlich @ utmn. ru ) 2. СоцГум - Ерженин Владимир Сергеевич ( v. s. erzhenin @ utmn. ru ) 3. ФЭИ - Копякова Анна Леонидовна ( a. l. kopyakova @ utmn. ru ) 4. ИнЗем - Питулин Артём Владимирович ( a. v. pitulin @ utmn. ru ) 5. ФТИ, ИнХим, ШЕН [UNK] Пырлич Юлия Васильевна ( y. v. pyrlich @ utmn. ru ) 6. ИнБио - Криводанова Наталья Александровна ( n. a. krivodanova @ utmn. ru ) 7. Школа образования - Баянов Николай Ильич ( n. i. bayanov @ utmn. ru ) 8. ШКН - Тверских Владислав Владимирович ( vl. v. tverskikh @ utmn. ru )'"
      ]
     },
     "execution_count": 10,
     "metadata": {},
     "output_type": "execute_result"
    }
   ],
   "source": [
    "answer_rusbert_finetuned(\"Как поменять физкультуру?\")"
   ]
  },
  {
   "cell_type": "markdown",
   "id": "a35f2b2b",
   "metadata": {
    "jp-MarkdownHeadingCollapsed": true
   },
   "source": [
    "### Метрики"
   ]
  },
  {
   "cell_type": "code",
   "execution_count": 18,
   "id": "32baf899",
   "metadata": {},
   "outputs": [
    {
     "data": {
      "text/html": [
       "<div>\n",
       "<style scoped>\n",
       "    .dataframe tbody tr th:only-of-type {\n",
       "        vertical-align: middle;\n",
       "    }\n",
       "\n",
       "    .dataframe tbody tr th {\n",
       "        vertical-align: top;\n",
       "    }\n",
       "\n",
       "    .dataframe thead th {\n",
       "        text-align: right;\n",
       "    }\n",
       "</style>\n",
       "<table border=\"1\" class=\"dataframe\">\n",
       "  <thead>\n",
       "    <tr style=\"text-align: right;\">\n",
       "      <th></th>\n",
       "      <th>question</th>\n",
       "      <th>document</th>\n",
       "      <th>rusbert_finetuned</th>\n",
       "    </tr>\n",
       "  </thead>\n",
       "  <tbody>\n",
       "    <tr>\n",
       "      <th>0</th>\n",
       "      <td>Я потерял магнитную карту. К кому обратиться?</td>\n",
       "      <td>Для восстановления студенческого билета Вам не...</td>\n",
       "      <td>Для восстановления студенческого билета Вам не...</td>\n",
       "    </tr>\n",
       "    <tr>\n",
       "      <th>1</th>\n",
       "      <td>Даты подачи заявления для восстановления на очку</td>\n",
       "      <td>Заявления на восстановление в Университет по о...</td>\n",
       "      <td>Пакет документов для восстановления вам необхо...</td>\n",
       "    </tr>\n",
       "    <tr>\n",
       "      <th>2</th>\n",
       "      <td>Что делать при потере проходки?</td>\n",
       "      <td>Для восстановления студенческого билета Вам не...</td>\n",
       "      <td>Для восстановления студенческого билета Вам не...</td>\n",
       "    </tr>\n",
       "    <tr>\n",
       "      <th>3</th>\n",
       "      <td>Я хожу в фитнес-клуб. Как заменить физкультуру?</td>\n",
       "      <td>Выбор спортивных секций по Физической культуре...</td>\n",
       "      <td>Выбор спортивных секций по Физической культуре...</td>\n",
       "    </tr>\n",
       "    <tr>\n",
       "      <th>4</th>\n",
       "      <td>Когда мне выдадут студенческий билет после пер...</td>\n",
       "      <td>1. Подать заявление о переводе можно лично, об...</td>\n",
       "      <td>1. Подать заявление о переводе можно лично, об...</td>\n",
       "    </tr>\n",
       "    <tr>\n",
       "      <th>...</th>\n",
       "      <td>...</td>\n",
       "      <td>...</td>\n",
       "      <td>...</td>\n",
       "    </tr>\n",
       "    <tr>\n",
       "      <th>62</th>\n",
       "      <td>как закрыть физкультуру?</td>\n",
       "      <td>Выбор спортивных секций по Физической культуре...</td>\n",
       "      <td>Выбор спортивных секций по Физической культуре...</td>\n",
       "    </tr>\n",
       "    <tr>\n",
       "      <th>63</th>\n",
       "      <td>когда можно поменять элективы?</td>\n",
       "      <td>Прежде, чем выбрать элективы, рекомендуем почи...</td>\n",
       "      <td>Прежде, чем выбрать элективы, рекомендуем почи...</td>\n",
       "    </tr>\n",
       "    <tr>\n",
       "      <th>64</th>\n",
       "      <td>как получить справку о месте учёбы?</td>\n",
       "      <td>Студенты очной формы обучения оформляют справк...</td>\n",
       "      <td>Студенты очной формы обучения оформляют справк...</td>\n",
       "    </tr>\n",
       "    <tr>\n",
       "      <th>65</th>\n",
       "      <td>Как можно получать баллы за физру?</td>\n",
       "      <td>Выбор спортивных секций по Физической культуре...</td>\n",
       "      <td>Выбор спортивных секций по Физической культуре...</td>\n",
       "    </tr>\n",
       "    <tr>\n",
       "      <th>66</th>\n",
       "      <td>Где взять справку для военкомата?</td>\n",
       "      <td>Вам необходимо обратиться в Отдел мобилизацион...</td>\n",
       "      <td>Вам необходимо обратиться в Отдел мобилизацион...</td>\n",
       "    </tr>\n",
       "  </tbody>\n",
       "</table>\n",
       "<p>67 rows × 3 columns</p>\n",
       "</div>"
      ],
      "text/plain": [
       "                                             question  \\\n",
       "0       Я потерял магнитную карту. К кому обратиться?   \n",
       "1    Даты подачи заявления для восстановления на очку   \n",
       "2                     Что делать при потере проходки?   \n",
       "3     Я хожу в фитнес-клуб. Как заменить физкультуру?   \n",
       "4   Когда мне выдадут студенческий билет после пер...   \n",
       "..                                                ...   \n",
       "62                           как закрыть физкультуру?   \n",
       "63                     когда можно поменять элективы?   \n",
       "64                как получить справку о месте учёбы?   \n",
       "65                 Как можно получать баллы за физру?   \n",
       "66                  Где взять справку для военкомата?   \n",
       "\n",
       "                                             document  \\\n",
       "0   Для восстановления студенческого билета Вам не...   \n",
       "1   Заявления на восстановление в Университет по о...   \n",
       "2   Для восстановления студенческого билета Вам не...   \n",
       "3   Выбор спортивных секций по Физической культуре...   \n",
       "4   1. Подать заявление о переводе можно лично, об...   \n",
       "..                                                ...   \n",
       "62  Выбор спортивных секций по Физической культуре...   \n",
       "63  Прежде, чем выбрать элективы, рекомендуем почи...   \n",
       "64  Студенты очной формы обучения оформляют справк...   \n",
       "65  Выбор спортивных секций по Физической культуре...   \n",
       "66  Вам необходимо обратиться в Отдел мобилизацион...   \n",
       "\n",
       "                                    rusbert_finetuned  \n",
       "0   Для восстановления студенческого билета Вам не...  \n",
       "1   Пакет документов для восстановления вам необхо...  \n",
       "2   Для восстановления студенческого билета Вам не...  \n",
       "3   Выбор спортивных секций по Физической культуре...  \n",
       "4   1. Подать заявление о переводе можно лично, об...  \n",
       "..                                                ...  \n",
       "62  Выбор спортивных секций по Физической культуре...  \n",
       "63  Прежде, чем выбрать элективы, рекомендуем почи...  \n",
       "64  Студенты очной формы обучения оформляют справк...  \n",
       "65  Выбор спортивных секций по Физической культуре...  \n",
       "66  Вам необходимо обратиться в Отдел мобилизацион...  \n",
       "\n",
       "[67 rows x 3 columns]"
      ]
     },
     "execution_count": 18,
     "metadata": {},
     "output_type": "execute_result"
    }
   ],
   "source": [
    "test_questions[\"rusbert_finetuned\"] = test_questions[\"question\"].apply(answer_rusbert_finetuned)\n",
    "test_questions"
   ]
  },
  {
   "cell_type": "markdown",
   "id": "8bd50175",
   "metadata": {},
   "source": [
    "#### Accuracy"
   ]
  },
  {
   "cell_type": "code",
   "execution_count": 19,
   "id": "cc2b80d4",
   "metadata": {},
   "outputs": [
    {
     "name": "stdout",
     "output_type": "stream",
     "text": [
      "rusbert_finetuned 0.7014925373134329\n"
     ]
    }
   ],
   "source": [
    "print(\"rusbert_finetuned\", sum(test_questions[\"rusbert_finetuned\"].apply(lambda x: \"\" if x is None else x) == test_questions.document) / len(test_questions.document))"
   ]
  },
  {
   "cell_type": "markdown",
   "id": "e62636b3",
   "metadata": {},
   "source": [
    "#### ROUGE-L"
   ]
  },
  {
   "cell_type": "code",
   "execution_count": 20,
   "id": "49ff41cd",
   "metadata": {},
   "outputs": [
    {
     "name": "stdout",
     "output_type": "stream",
     "text": [
      "rusbert_finetuned {'r': 0.7733489022002412, 'p': 0.7566198123094525, 'f': 0.7534038029522858}\n"
     ]
    }
   ],
   "source": [
    "from rouge import Rouge\n",
    "rouge = Rouge()\n",
    "\n",
    "print(\"rusbert_finetuned\", rouge.get_scores(test_questions[\"rusbert_finetuned\"].apply(lambda x: \"-\" if x is None else x), test_questions[\"document\"], avg=True)['rouge-l'])"
   ]
  },
  {
   "cell_type": "markdown",
   "id": "0d2b8437",
   "metadata": {},
   "source": [
    "### Save to Hub"
   ]
  },
  {
   "cell_type": "code",
   "execution_count": 21,
   "id": "b689812f",
   "metadata": {},
   "outputs": [
    {
     "data": {
      "application/vnd.jupyter.widget-view+json": {
       "model_id": "908c452446e545399f136da46f4ef531",
       "version_major": 2,
       "version_minor": 0
      },
      "text/plain": [
       "model.safetensors:   0%|          | 0.00/117M [00:00<?, ?B/s]"
      ]
     },
     "metadata": {},
     "output_type": "display_data"
    },
    {
     "data": {
      "text/plain": [
       "'https://huggingface.co/nizamovtimur/rubert-tiny2-wikiutmn/commit/740236cd3cf4e8acb90ebc9012ca6afcbf07da48'"
      ]
     },
     "execution_count": 21,
     "metadata": {},
     "output_type": "execute_result"
    }
   ],
   "source": [
    "finetuned_model.save_to_hub(repo_id=\"nizamovtimur/rubert-tiny2-wikiutmn\", token=hf_write_token)"
   ]
  },
  {
   "cell_type": "markdown",
   "id": "7900775a",
   "metadata": {},
   "source": [
    "## Большие языковые модели\n",
    "\n",
    "\n",
    "https://python.langchain.com/docs/use_cases/question_answering/"
   ]
  },
  {
   "cell_type": "code",
   "execution_count": 11,
   "id": "12764d40",
   "metadata": {},
   "outputs": [
    {
     "data": {
      "text/html": [
       "<div>\n",
       "<style scoped>\n",
       "    .dataframe tbody tr th:only-of-type {\n",
       "        vertical-align: middle;\n",
       "    }\n",
       "\n",
       "    .dataframe tbody tr th {\n",
       "        vertical-align: top;\n",
       "    }\n",
       "\n",
       "    .dataframe thead th {\n",
       "        text-align: right;\n",
       "    }\n",
       "</style>\n",
       "<table border=\"1\" class=\"dataframe\">\n",
       "  <thead>\n",
       "    <tr style=\"text-align: right;\">\n",
       "      <th></th>\n",
       "      <th>question</th>\n",
       "      <th>document</th>\n",
       "      <th>human_answer</th>\n",
       "    </tr>\n",
       "  </thead>\n",
       "  <tbody>\n",
       "    <tr>\n",
       "      <th>0</th>\n",
       "      <td>Я потерял магнитную карту. К кому обратиться?</td>\n",
       "      <td>Для восстановления студенческого билета Вам не...</td>\n",
       "      <td>Если Вы потеряли магнитную карту ( пропуск, пр...</td>\n",
       "    </tr>\n",
       "    <tr>\n",
       "      <th>1</th>\n",
       "      <td>Даты подачи заявления для восстановления на очку</td>\n",
       "      <td>Заявления на восстановление в Университет по о...</td>\n",
       "      <td>Заявления на восстановление в Университет по о...</td>\n",
       "    </tr>\n",
       "    <tr>\n",
       "      <th>2</th>\n",
       "      <td>Что делать при потере проходки?</td>\n",
       "      <td>Для восстановления студенческого билета Вам не...</td>\n",
       "      <td>Если Вы потеряли магнитную карту ( пропуск, пр...</td>\n",
       "    </tr>\n",
       "    <tr>\n",
       "      <th>3</th>\n",
       "      <td>Я хожу в фитнес-клуб. Как заменить физкультуру?</td>\n",
       "      <td>Выбор спортивных секций по Физической культуре...</td>\n",
       "      <td>Для оформления посещения спортивного зала вмес...</td>\n",
       "    </tr>\n",
       "    <tr>\n",
       "      <th>4</th>\n",
       "      <td>Когда мне выдадут студенческий билет после пер...</td>\n",
       "      <td>1. Подать заявление о переводе можно лично, об...</td>\n",
       "      <td>В течение пяти рабочих дней после поступления ...</td>\n",
       "    </tr>\n",
       "    <tr>\n",
       "      <th>...</th>\n",
       "      <td>...</td>\n",
       "      <td>...</td>\n",
       "      <td>...</td>\n",
       "    </tr>\n",
       "    <tr>\n",
       "      <th>62</th>\n",
       "      <td>как закрыть физкультуру?</td>\n",
       "      <td>Выбор спортивных секций по Физической культуре...</td>\n",
       "      <td>1 ) Посещать академические занятия ( 3 балла з...</td>\n",
       "    </tr>\n",
       "    <tr>\n",
       "      <th>63</th>\n",
       "      <td>когда можно поменять элективы?</td>\n",
       "      <td>Прежде, чем выбрать элективы, рекомендуем почи...</td>\n",
       "      <td>Информация, о том, как поменять электив, отпра...</td>\n",
       "    </tr>\n",
       "    <tr>\n",
       "      <th>64</th>\n",
       "      <td>как получить справку о месте учёбы?</td>\n",
       "      <td>Студенты очной формы обучения оформляют справк...</td>\n",
       "      <td>Студенты очной формы обучения оформляют справк...</td>\n",
       "    </tr>\n",
       "    <tr>\n",
       "      <th>65</th>\n",
       "      <td>Как можно получать баллы за физру?</td>\n",
       "      <td>Выбор спортивных секций по Физической культуре...</td>\n",
       "      <td>1 ) Посещать академические занятия ( 3 балла з...</td>\n",
       "    </tr>\n",
       "    <tr>\n",
       "      <th>66</th>\n",
       "      <td>Где взять справку для военкомата?</td>\n",
       "      <td>Вам необходимо обратиться в Отдел мобилизацион...</td>\n",
       "      <td>Вам необходимо обратиться в Отдел мобилизацион...</td>\n",
       "    </tr>\n",
       "  </tbody>\n",
       "</table>\n",
       "<p>67 rows × 3 columns</p>\n",
       "</div>"
      ],
      "text/plain": [
       "                                             question  \\\n",
       "0       Я потерял магнитную карту. К кому обратиться?   \n",
       "1    Даты подачи заявления для восстановления на очку   \n",
       "2                     Что делать при потере проходки?   \n",
       "3     Я хожу в фитнес-клуб. Как заменить физкультуру?   \n",
       "4   Когда мне выдадут студенческий билет после пер...   \n",
       "..                                                ...   \n",
       "62                           как закрыть физкультуру?   \n",
       "63                     когда можно поменять элективы?   \n",
       "64                как получить справку о месте учёбы?   \n",
       "65                 Как можно получать баллы за физру?   \n",
       "66                  Где взять справку для военкомата?   \n",
       "\n",
       "                                             document  \\\n",
       "0   Для восстановления студенческого билета Вам не...   \n",
       "1   Заявления на восстановление в Университет по о...   \n",
       "2   Для восстановления студенческого билета Вам не...   \n",
       "3   Выбор спортивных секций по Физической культуре...   \n",
       "4   1. Подать заявление о переводе можно лично, об...   \n",
       "..                                                ...   \n",
       "62  Выбор спортивных секций по Физической культуре...   \n",
       "63  Прежде, чем выбрать элективы, рекомендуем почи...   \n",
       "64  Студенты очной формы обучения оформляют справк...   \n",
       "65  Выбор спортивных секций по Физической культуре...   \n",
       "66  Вам необходимо обратиться в Отдел мобилизацион...   \n",
       "\n",
       "                                         human_answer  \n",
       "0   Если Вы потеряли магнитную карту ( пропуск, пр...  \n",
       "1   Заявления на восстановление в Университет по о...  \n",
       "2   Если Вы потеряли магнитную карту ( пропуск, пр...  \n",
       "3   Для оформления посещения спортивного зала вмес...  \n",
       "4   В течение пяти рабочих дней после поступления ...  \n",
       "..                                                ...  \n",
       "62  1 ) Посещать академические занятия ( 3 балла з...  \n",
       "63  Информация, о том, как поменять электив, отпра...  \n",
       "64  Студенты очной формы обучения оформляют справк...  \n",
       "65  1 ) Посещать академические занятия ( 3 балла з...  \n",
       "66  Вам необходимо обратиться в Отдел мобилизацион...  \n",
       "\n",
       "[67 rows x 3 columns]"
      ]
     },
     "execution_count": 11,
     "metadata": {},
     "output_type": "execute_result"
    }
   ],
   "source": [
    "from datasets import load_dataset, DatasetDict\n",
    "\n",
    "dataset_qda = load_dataset(\"nizamovtimur/wikiutmn-study-gigachat\")\n",
    "if isinstance(dataset_qda, DatasetDict):\n",
    "    test_dataset_qda = dataset_qda['test'].to_pandas()\n",
    "else:\n",
    "    test_dataset_qda = pd.DataFrame()\n",
    "test_dataset_qda"
   ]
  },
  {
   "cell_type": "code",
   "execution_count": 12,
   "id": "74afe4e9",
   "metadata": {},
   "outputs": [],
   "source": [
    "from langchain.prompts import PromptTemplate\n",
    "\n",
    "prompt_template = \"\"\"Действуй как Вопрошалыч — виртуальный помощник студента ТюмГУ.\n",
    "Используй следующий текст в тройных кавычках, чтобы кратко ответить на вопрос студента.\n",
    "Не придумывай и не изменяй ссылки, адреса и телефоны. Если ответа в тексте нет, напиши \"ответ не найден\".\n",
    "\n",
    "\\\"\\\"\\\"\n",
    "{context}\n",
    "\\\"\\\"\\\"\n",
    "\n",
    "Вопрос студента: {question}\"\"\"\n",
    "\n",
    "prompt = PromptTemplate.from_template(prompt_template)"
   ]
  },
  {
   "cell_type": "code",
   "execution_count": 37,
   "id": "e13d3ade",
   "metadata": {},
   "outputs": [],
   "source": [
    "# prompt_template_with_history = \"\"\"Действуй как Вопрошалыч — виртуальный помощник студента ТюмГУ.\n",
    "# Кратко ответь на вопрос студента по предоставленным текстам.\n",
    "# Не придумывай и не изменяй ссылки, адреса и телефоны. Если ответа нет, напиши \"ответ не найден\".\n",
    "\n",
    "# \\\"\\\"\\\"\n",
    "# {prev_context}\n",
    "\n",
    "# {context}\n",
    "# \\\"\\\"\\\"\n",
    "\n",
    "# Вопрос студента: {prev_question}\n",
    "# Ответ: {prev_answer}\n",
    "# Вопрос студента: {question}\n",
    "# Ответ:\n",
    "# \"\"\"\n",
    "\n",
    "# prompt_with_history = PromptTemplate.from_template(prompt_template)"
   ]
  },
  {
   "cell_type": "code",
   "execution_count": 13,
   "id": "d57836be",
   "metadata": {},
   "outputs": [],
   "source": [
    "def get_answer(chain, question, context=None):\n",
    "        if context is None:\n",
    "                context = answer_rusbert_finetuned(question)\n",
    "        query = {\"context\": context,\n",
    "                 \"question\": question}\n",
    "        return chain.invoke(query).strip()"
   ]
  },
  {
   "cell_type": "markdown",
   "id": "689abc5b",
   "metadata": {},
   "source": [
    "### Метрика: BERTScore"
   ]
  },
  {
   "cell_type": "code",
   "execution_count": 55,
   "id": "185af942",
   "metadata": {},
   "outputs": [
    {
     "name": "stdout",
     "output_type": "stream",
     "text": [
      "Note: you may need to restart the kernel to use updated packages.\n"
     ]
    }
   ],
   "source": [
    "%pip install bert_score --quiet"
   ]
  },
  {
   "cell_type": "code",
   "execution_count": 14,
   "id": "287595fb",
   "metadata": {},
   "outputs": [],
   "source": [
    "from bert_score import BERTScorer\n",
    "scorer = BERTScorer(lang=\"ru\")"
   ]
  },
  {
   "cell_type": "markdown",
   "id": "5a096e40",
   "metadata": {},
   "source": [
    "### GigaChat"
   ]
  },
  {
   "cell_type": "code",
   "execution_count": 14,
   "id": "75c1b0a9",
   "metadata": {},
   "outputs": [
    {
     "data": {
      "text/plain": [
       "'По вопросам стипендии следует обратиться в Сервисный центр бухгалтерии.'"
      ]
     },
     "execution_count": 14,
     "metadata": {},
     "output_type": "execute_result"
    }
   ],
   "source": [
    "from langchain.llms import GigaChat\n",
    "giga = GigaChat(credentials=gigachat_token, verify_ssl_certs=False)\n",
    "giga_chain = prompt | giga\n",
    "get_answer(giga_chain, \"К кому обратиться по вопросам стипендии?\")"
   ]
  },
  {
   "cell_type": "code",
   "execution_count": 32,
   "id": "bdacf894",
   "metadata": {},
   "outputs": [
    {
     "name": "stdout",
     "output_type": "stream",
     "text": [
      "876 ms ± 8.4 ms per loop (mean ± std. dev. of 7 runs, 1 loop each)\n"
     ]
    }
   ],
   "source": [
    "%%timeit\n",
    "get_answer(giga_chain, \"К кому обратиться по вопросам стипендии?\")"
   ]
  },
  {
   "cell_type": "markdown",
   "id": "bc966e75",
   "metadata": {},
   "source": [
    "### GigaChat Pro"
   ]
  },
  {
   "cell_type": "code",
   "execution_count": 14,
   "id": "a0c498b7",
   "metadata": {},
   "outputs": [
    {
     "data": {
      "text/plain": [
       "'По вопросам стипендии необходимо обратиться в Сервисный центр бухгалтерии, написав на почту 12222@utmn.ru или позвонив по номеру (3452) 59-76-76. Адрес местонахождения: г. Тюмень, ул. Кирова, д. 25/1. Часы работы: пн. - чт. 09.00 - 17.00, пт. 09.00 - 16.00, обед 12.30 - 13.15, сб., вс. - выходные дни.'"
      ]
     },
     "execution_count": 14,
     "metadata": {},
     "output_type": "execute_result"
    }
   ],
   "source": [
    "from langchain.llms import GigaChat\n",
    "giga_pro = GigaChat(model=\"GigaChat-Pro\", credentials=gigachat_pro_token, verify_ssl_certs=False)\n",
    "giga_pro_chain = prompt | giga_pro\n",
    "get_answer(giga_pro_chain, \"К кому обратиться по вопросам стипендии?\")"
   ]
  },
  {
   "cell_type": "code",
   "execution_count": 85,
   "id": "85fe13bd",
   "metadata": {},
   "outputs": [
    {
     "name": "stdout",
     "output_type": "stream",
     "text": [
      "5.47 s ± 900 ms per loop (mean ± std. dev. of 7 runs, 1 loop each)\n"
     ]
    }
   ],
   "source": [
    "%%timeit\n",
    "get_answer(giga_pro_chain, \"К кому обратиться по вопросам стипендии?\")"
   ]
  },
  {
   "cell_type": "markdown",
   "id": "9ee8900f",
   "metadata": {},
   "source": [
    "### YandexGPT\n",
    "\n",
    "пока изучал, 149 руб 03 коп улетело..."
   ]
  },
  {
   "cell_type": "code",
   "execution_count": 17,
   "id": "fbfd4495",
   "metadata": {},
   "outputs": [
    {
     "name": "stdout",
     "output_type": "stream",
     "text": [
      "Note: you may need to restart the kernel to use updated packages.\n"
     ]
    }
   ],
   "source": [
    "%pip install --upgrade --quiet  yandex_chain"
   ]
  },
  {
   "cell_type": "code",
   "execution_count": 34,
   "id": "cde9d8b9",
   "metadata": {},
   "outputs": [
    {
     "data": {
      "text/plain": [
       "'По вопросам, связанным со стипендией, вам необходимо обратиться в Сервисный центр бухгалтерии. Вы можете написать на почту 12222 @ utmn. ru или позвонить по телефону (3452) 59-76-76.'"
      ]
     },
     "execution_count": 34,
     "metadata": {},
     "output_type": "execute_result"
    }
   ],
   "source": [
    "from yandex_chain import YandexLLM\n",
    "\n",
    "yagpt = YandexLLM(folder_id=\"b1gvhukmt6vde5nnr73s\", api_key=str(yandex_token), use_lite=False)\n",
    "yagpt_chain = prompt | yagpt\n",
    "get_answer(yagpt_chain, \"К кому обратиться по вопросам стипендии?\")"
   ]
  },
  {
   "cell_type": "code",
   "execution_count": 35,
   "id": "98d48b7d",
   "metadata": {},
   "outputs": [
    {
     "name": "stdout",
     "output_type": "stream",
     "text": [
      "The slowest run took 4.28 times longer than the fastest. This could mean that an intermediate result is being cached.\n",
      "1.52 s ± 808 ms per loop (mean ± std. dev. of 7 runs, 1 loop each)\n"
     ]
    }
   ],
   "source": [
    "%%timeit\n",
    "get_answer(yagpt_chain, \"К кому обратиться по вопросам стипендии?\")"
   ]
  },
  {
   "cell_type": "markdown",
   "id": "35ca43f9",
   "metadata": {},
   "source": [
    "### 1. Тест всего пайплайна"
   ]
  },
  {
   "cell_type": "markdown",
   "id": "9af18ea7",
   "metadata": {},
   "source": [
    "#### GigaChat"
   ]
  },
  {
   "cell_type": "code",
   "execution_count": 42,
   "id": "5a6ae865",
   "metadata": {},
   "outputs": [
    {
     "name": "stderr",
     "output_type": "stream",
     "text": [
      "AUTHENTICATION ERROR\n"
     ]
    },
    {
     "data": {
      "text/plain": [
       "0    Вам следует обратиться в Единый деканат по адр...\n",
       "1                                     Ответ не найден.\n",
       "2    Для восстановления проходки необходимо подать ...\n",
       "3    Для замены физкультуры на посещение фитнес-клу...\n",
       "4    В течение 5 (пяти) рабочих дней со дня издания...\n",
       "dtype: object"
      ]
     },
     "execution_count": 42,
     "metadata": {},
     "output_type": "execute_result"
    }
   ],
   "source": [
    "gigachat_answers = []\n",
    "for index, row in test_dataset_qda.iterrows():\n",
    "    gigachat_answers.append(get_answer(giga_chain, row['question']))\n",
    "gigachat_answers = pd.Series(gigachat_answers)\n",
    "gigachat_answers.head(5)"
   ]
  },
  {
   "cell_type": "code",
   "execution_count": 44,
   "id": "ea0085a1",
   "metadata": {},
   "outputs": [
    {
     "name": "stderr",
     "output_type": "stream",
     "text": [
      "Warning: Empty reference sentence detected; setting raw BERTScores to 0.\n",
      "Warning: Empty reference sentence detected; setting raw BERTScores to 0.\n"
     ]
    },
    {
     "data": {
      "text/plain": [
       "'Precision: 0.607 Recall: 0.640 F1 score: 0.621'"
      ]
     },
     "execution_count": 44,
     "metadata": {},
     "output_type": "execute_result"
    }
   ],
   "source": [
    "P, R, F1 = scorer.score(list(test_dataset_qda[\"human_answer\"]), list(gigachat_answers.apply(lambda x: '' if \"вет не найден\" in x else x)))\n",
    "f\"Precision: {P.mean():.3f} Recall: {R.mean():.3f} F1 score: {F1.mean():.3f}\""
   ]
  },
  {
   "cell_type": "markdown",
   "id": "2e911995",
   "metadata": {},
   "source": [
    "#### GigaChat Pro"
   ]
  },
  {
   "cell_type": "code",
   "execution_count": 86,
   "id": "cd7083e8",
   "metadata": {},
   "outputs": [
    {
     "data": {
      "text/plain": [
       "0    Вам необходимо обратиться в Единый деканат по ...\n",
       "1                                     Ответ не найден.\n",
       "2    Если вы потеряли магнитную карту (пропуск, про...\n",
       "3    Для замены практических занятий по физкультуре...\n",
       "4    Студенческий билет выдадут в течение 5 рабочих...\n",
       "dtype: object"
      ]
     },
     "execution_count": 86,
     "metadata": {},
     "output_type": "execute_result"
    }
   ],
   "source": [
    "gigachat_pro_answers = []\n",
    "for index, row in test_dataset_qda.iterrows():\n",
    "    gigachat_pro_answers.append(get_answer(giga_pro_chain, row['question']))\n",
    "gigachat_pro_answers = pd.Series(gigachat_pro_answers)\n",
    "gigachat_pro_answers.head(5)"
   ]
  },
  {
   "cell_type": "code",
   "execution_count": 87,
   "id": "23dfa3b0",
   "metadata": {},
   "outputs": [
    {
     "name": "stderr",
     "output_type": "stream",
     "text": [
      "Warning: Empty reference sentence detected; setting raw BERTScores to 0.\n",
      "Warning: Empty reference sentence detected; setting raw BERTScores to 0.\n"
     ]
    },
    {
     "data": {
      "text/plain": [
       "'Precision: 0.680 Recall: 0.691 F1 score: 0.683'"
      ]
     },
     "execution_count": 87,
     "metadata": {},
     "output_type": "execute_result"
    }
   ],
   "source": [
    "P, R, F1 = scorer.score(list(test_dataset_qda[\"human_answer\"]), list(gigachat_pro_answers.apply(lambda x: '' if \"вет не найден\" in x else x)))\n",
    "f\"Precision: {P.mean():.3f} Recall: {R.mean():.3f} F1 score: {F1.mean():.3f}\""
   ]
  },
  {
   "cell_type": "markdown",
   "id": "bdeca2ae",
   "metadata": {},
   "source": [
    "#### YandexGPT 3"
   ]
  },
  {
   "cell_type": "code",
   "execution_count": 30,
   "id": "b11b906c",
   "metadata": {},
   "outputs": [
    {
     "data": {
      "text/plain": [
       "0    Вам нужно подать заявление на восстановление м...\n",
       "1                                     Ответ не найден.\n",
       "2    Необходимо подать заявление на восстановление ...\n",
       "3    Для оформления посещения частного фитнес-клуба...\n",
       "4    В течение 5 рабочих дней со дня издания приказ...\n",
       "dtype: object"
      ]
     },
     "execution_count": 30,
     "metadata": {},
     "output_type": "execute_result"
    }
   ],
   "source": [
    "yagpt_answers = []\n",
    "for index, row in test_dataset_qda.iterrows():\n",
    "    yagpt_answers.append(get_answer(yagpt_chain, row['question']))\n",
    "yagpt_answers = pd.Series(yagpt_answers)\n",
    "yagpt_answers.head(5)"
   ]
  },
  {
   "cell_type": "code",
   "execution_count": 31,
   "id": "7230aaea",
   "metadata": {},
   "outputs": [
    {
     "name": "stderr",
     "output_type": "stream",
     "text": [
      "Warning: Empty reference sentence detected; setting raw BERTScores to 0.\n"
     ]
    },
    {
     "data": {
      "text/plain": [
       "'Precision: 0.678 Recall: 0.686 F1 score: 0.679'"
      ]
     },
     "execution_count": 31,
     "metadata": {},
     "output_type": "execute_result"
    }
   ],
   "source": [
    "P, R, F1 = scorer.score(list(test_dataset_qda[\"human_answer\"]), list(yagpt_answers.apply(lambda x: '' if \"вет не найден\" in x else x)))\n",
    "f\"Precision: {P.mean():.3f} Recall: {R.mean():.3f} F1 score: {F1.mean():.3f}\""
   ]
  },
  {
   "cell_type": "markdown",
   "id": "dcb3418f",
   "metadata": {},
   "source": [
    "### 2. Тест генерации по заранее найденному документу"
   ]
  },
  {
   "cell_type": "markdown",
   "id": "ab48fddf",
   "metadata": {},
   "source": [
    "#### GigaChat"
   ]
  },
  {
   "cell_type": "code",
   "execution_count": 71,
   "id": "fb84ec09",
   "metadata": {},
   "outputs": [
    {
     "name": "stderr",
     "output_type": "stream",
     "text": [
      "AUTHENTICATION ERROR\n"
     ]
    },
    {
     "data": {
      "text/plain": [
       "0    Вам следует обратиться в Единый деканат по адр...\n",
       "1    Заявления на восстановление в Университет по о...\n",
       "2    Для восстановления проходки необходимо подать ...\n",
       "3    Для замены физкультуры необходимо обратиться к...\n",
       "4    В течение 5 (пяти) рабочих дней со дня издания...\n",
       "dtype: object"
      ]
     },
     "execution_count": 71,
     "metadata": {},
     "output_type": "execute_result"
    }
   ],
   "source": [
    "gigachat_answers = []\n",
    "for index, row in test_dataset_qda.iterrows():\n",
    "    gigachat_answers.append(get_answer(giga_chain, row['question'], row['document']))\n",
    "gigachat_answers = pd.Series(gigachat_answers)\n",
    "gigachat_answers.head(5)"
   ]
  },
  {
   "cell_type": "code",
   "execution_count": 72,
   "id": "2565eccb",
   "metadata": {},
   "outputs": [
    {
     "name": "stderr",
     "output_type": "stream",
     "text": [
      "Warning: Empty reference sentence detected; setting raw BERTScores to 0.\n"
     ]
    },
    {
     "data": {
      "text/plain": [
       "'Precision: 0.680 Recall: 0.729 F1 score: 0.701'"
      ]
     },
     "execution_count": 72,
     "metadata": {},
     "output_type": "execute_result"
    }
   ],
   "source": [
    "P, R, F1 = scorer.score(list(test_dataset_qda[\"human_answer\"]), list(gigachat_answers.apply(lambda x: '' if len(x) < 18 else x)))\n",
    "f\"Precision: {P.mean():.3f} Recall: {R.mean():.3f} F1 score: {F1.mean():.3f}\""
   ]
  },
  {
   "cell_type": "markdown",
   "id": "1a9b5a92",
   "metadata": {},
   "source": [
    "#### GigaChat Pro"
   ]
  },
  {
   "cell_type": "code",
   "execution_count": 17,
   "id": "b95d01f5",
   "metadata": {},
   "outputs": [
    {
     "data": {
      "text/plain": [
       "0    Для подачи заявления на перевод в ТюмГУ из дру...\n",
       "1    Об элективах можно узнать на сервисе «Отзывус»...\n",
       "2    Заявление на выход из академического отпуска п...\n",
       "3                                     Ответ не найден.\n",
       "4    Если вам не пришла стипендия, вам следует обра...\n",
       "dtype: object"
      ]
     },
     "execution_count": 17,
     "metadata": {},
     "output_type": "execute_result"
    }
   ],
   "source": [
    "gigachat_pro_answers = []\n",
    "for index, row in test_dataset_qda[14:].iterrows():\n",
    "    gigachat_pro_answers.append(get_answer(giga_pro_chain, row['question'], row['document']))\n",
    "gigachat_pro_answers = pd.Series(gigachat_pro_answers)\n",
    "gigachat_pro_answers.head(5)"
   ]
  },
  {
   "cell_type": "code",
   "execution_count": 35,
   "id": "13bca3c5",
   "metadata": {},
   "outputs": [
    {
     "name": "stderr",
     "output_type": "stream",
     "text": [
      "Warning: Empty reference sentence detected; setting raw BERTScores to 0.\n"
     ]
    },
    {
     "data": {
      "text/plain": [
       "'Precision: 0.786 Recall: 0.789 F1 score: 0.785'"
      ]
     },
     "execution_count": 35,
     "metadata": {},
     "output_type": "execute_result"
    }
   ],
   "source": [
    "P, R, F1 = scorer.score(list(test_dataset_qda[\"human_answer\"]), list(gigachat_pro_answers.apply(lambda x: '' if len(x) < 18 else x)))\n",
    "f\"Precision: {P.mean():.3f} Recall: {R.mean():.3f} F1 score: {F1.mean():.3f}\""
   ]
  },
  {
   "cell_type": "markdown",
   "id": "72012dbb",
   "metadata": {},
   "source": [
    "#### YandexGPT 3\n",
    "\n",
    "тут возник такой мем: `ai.textGenerationCompletionRequestsPerHour.rate rate quota limit exceed: allowed 100 requests`\n",
    "\n",
    "хаха, лан, пошёл гулять в магаз"
   ]
  },
  {
   "cell_type": "code",
   "execution_count": 46,
   "id": "45ce3adc",
   "metadata": {},
   "outputs": [
    {
     "data": {
      "text/plain": [
       "0    Согласно тексту, для перевода в ТюмГУ необходи...\n",
       "1    Обратитесь к заключению врачебной комиссии. Ес...\n",
       "2    В представленном тексте есть информация только...\n",
       "3    Для того чтобы получить отпуск по уходу за реб...\n",
       "4    Заявление о выходе из академического отпуска п...\n",
       "dtype: object"
      ]
     },
     "execution_count": 46,
     "metadata": {},
     "output_type": "execute_result"
    }
   ],
   "source": [
    "yagpt_answers = []\n",
    "for index, row in test_dataset_qda.iterrows():\n",
    "    yagpt_answers.append(get_answer(yagpt_chain, row['question'], row['document']))\n",
    "yagpt_answers = pd.Series(yagpt_answers)\n",
    "yagpt_answers.head(5)"
   ]
  },
  {
   "cell_type": "code",
   "execution_count": 68,
   "id": "d81d7961",
   "metadata": {},
   "outputs": [
    {
     "name": "stderr",
     "output_type": "stream",
     "text": [
      "Warning: Empty reference sentence detected; setting raw BERTScores to 0.\n"
     ]
    },
    {
     "data": {
      "text/plain": [
       "'Precision: 0.792 Recall: 0.794 F1 score: 0.790'"
      ]
     },
     "execution_count": 68,
     "metadata": {},
     "output_type": "execute_result"
    }
   ],
   "source": [
    "P, R, F1 = scorer.score(list(test_dataset_qda[\"human_answer\"]), list(yagpt_answers.apply(lambda x: '' if len(x) < 18 else x)))\n",
    "f\"Precision: {P.mean():.3f} Recall: {R.mean():.3f} F1 score: {F1.mean():.3f}\""
   ]
  },
  {
   "cell_type": "markdown",
   "id": "f29b72dd",
   "metadata": {},
   "source": [
    "### 3. Тест нахождения ответа"
   ]
  },
  {
   "cell_type": "code",
   "execution_count": 15,
   "id": "306e6dcb",
   "metadata": {},
   "outputs": [
    {
     "data": {
      "text/html": [
       "<div>\n",
       "<style scoped>\n",
       "    .dataframe tbody tr th:only-of-type {\n",
       "        vertical-align: middle;\n",
       "    }\n",
       "\n",
       "    .dataframe tbody tr th {\n",
       "        vertical-align: top;\n",
       "    }\n",
       "\n",
       "    .dataframe thead th {\n",
       "        text-align: right;\n",
       "    }\n",
       "</style>\n",
       "<table border=\"1\" class=\"dataframe\">\n",
       "  <thead>\n",
       "    <tr style=\"text-align: right;\">\n",
       "      <th></th>\n",
       "      <th>question</th>\n",
       "      <th>document</th>\n",
       "      <th>label</th>\n",
       "    </tr>\n",
       "  </thead>\n",
       "  <tbody>\n",
       "    <tr>\n",
       "      <th>10</th>\n",
       "      <td>Я слетел с бюджета, как мне восстановиться?</td>\n",
       "      <td>Восстановление лица, ранее обучавшегося за сче...</td>\n",
       "      <td>1</td>\n",
       "    </tr>\n",
       "    <tr>\n",
       "      <th>23</th>\n",
       "      <td>Сколько делается табель с оценками?</td>\n",
       "      <td>Для оформления академической справки ( справки...</td>\n",
       "      <td>1</td>\n",
       "    </tr>\n",
       "    <tr>\n",
       "      <th>11</th>\n",
       "      <td>как перевестись на другое направление?</td>\n",
       "      <td>Заявления о переводе принимаются два раза в го...</td>\n",
       "      <td>1</td>\n",
       "    </tr>\n",
       "    <tr>\n",
       "      <th>1</th>\n",
       "      <td>Даты подачи заявления для восстановления на очку</td>\n",
       "      <td>Заявления на восстановление в Университет по о...</td>\n",
       "      <td>1</td>\n",
       "    </tr>\n",
       "    <tr>\n",
       "      <th>0</th>\n",
       "      <td>Я потерял магнитную карту. К кому обратиться?</td>\n",
       "      <td>Для восстановления студенческого билета Вам не...</td>\n",
       "      <td>1</td>\n",
       "    </tr>\n",
       "  </tbody>\n",
       "</table>\n",
       "</div>"
      ],
      "text/plain": [
       "                                            question  \\\n",
       "10       Я слетел с бюджета, как мне восстановиться?   \n",
       "23               Сколько делается табель с оценками?   \n",
       "11            как перевестись на другое направление?   \n",
       "1   Даты подачи заявления для восстановления на очку   \n",
       "0      Я потерял магнитную карту. К кому обратиться?   \n",
       "\n",
       "                                             document  label  \n",
       "10  Восстановление лица, ранее обучавшегося за сче...      1  \n",
       "23  Для оформления академической справки ( справки...      1  \n",
       "11  Заявления о переводе принимаются два раза в го...      1  \n",
       "1   Заявления на восстановление в Университет по о...      1  \n",
       "0   Для восстановления студенческого билета Вам не...      1  "
      ]
     },
     "execution_count": 15,
     "metadata": {},
     "output_type": "execute_result"
    }
   ],
   "source": [
    "# generated by CohereForAI/c4ai-command-r-plus\n",
    "random_questions = \"\"\"\n",
    "Какой процент студентов поступает в университет из другой страны?\n",
    "Какие факторы влияют на выбор студентами своего учебного заведения?\n",
    "Какие существуют методы повышения мотивации студентов во время обучения?\n",
    "Какие существуют методы борьбы с академическим плагиатом?\n",
    "Как развиваются онлайн-курсы и дистанционное обучение в современном университете?\n",
    "Какие существуют методы повышения академического Writing навыков у студентов?\n",
    "Как студентам лучше всего управлять своим временем для достижения академического успеха?\n",
    "Какие существуют методы повышения активности студентов на лекциях?\n",
    "Как преподаватели могут эффективно использовать технологии в обучении?\n",
    "Какие существуют программы развития критического мышления у студентов?\n",
    "Как студентам лучше всего готовиться к экзаменам?\n",
    "Какие факторы влияют на успеваемость студентов?\n",
    "Какие существуют методы предотвращения студенческого стресса и выгорания?\n",
    "Как студентам лучше всего искать и использовать академические источники для своих работ?\n",
    "Какие существуют программы обучения за рубежом и как они влияют на студентов?\n",
    "Какой процент студентов совмещает работу и учебу?\n",
    "Какие существуют методы повышения разнообразия и инклюзивности в студенческом сообществе?\n",
    "Какой процент студентов продолжает обучение в аспирантуре?\n",
    "Какие факторы влияют на выбор студентами своей специальности?\n",
    "Какие существуют методы повышения академического честности?\n",
    "Как студентам лучше всего управлять своими финансами во время обучения?\n",
    "Какие существуют программы поддержки психического здоровья студентов?\n",
    "Какие существуют методы эффективного обучения в группе?\n",
    "Как преподаватели могут адаптировать свое обучение для разных стилей обучения студентов?\n",
    "Какие существуют программы развития межкультурной компетентности?\n",
    "Как студентам лучше всего искать стажировки и возможности для развития карьеры?\n",
    "Какие факторы влияют на вовлеченность студентов в учебный процесс?\n",
    "Какие существуют методы повышения качества обучения в университете?\n",
    "Как преподаватели могут эффективно использовать активные методы обучения?\n",
    "Какие существуют программы поддержки студентов из малообеспеченных семей?\n",
    "Какие существуют методы предотвращения студенческого отсева?\n",
    "Как студентам лучше всего развивать свои soft skills?\"\"\".split(\"\\n\")\n",
    "random_questions = pd.Series(random_questions)\n",
    "random_questions = pd.DataFrame({\"question\": random_questions, \"document\": random_questions.apply(answer_rusbert_finetuned), \"label\": 0})\n",
    "actual_questions = pd.DataFrame({\"question\": test_dataset_qda[\"question\"].head(33), \"document\": test_dataset_qda[\"document\"].head(33), \"label\": 1})\n",
    "question_documents_label = pd.concat([actual_questions, random_questions], ignore_index=True)\n",
    "question_documents_label.sample(5)"
   ]
  },
  {
   "cell_type": "markdown",
   "id": "ddd076e7",
   "metadata": {},
   "source": [
    "#### GigaChat"
   ]
  },
  {
   "cell_type": "code",
   "execution_count": 58,
   "id": "ce216457",
   "metadata": {},
   "outputs": [
    {
     "name": "stderr",
     "output_type": "stream",
     "text": [
      "AUTHENTICATION ERROR\n",
      "Giga generation stopped with reason: blacklist\n",
      "Giga generation stopped with reason: blacklist\n"
     ]
    },
    {
     "data": {
      "text/html": [
       "<div>\n",
       "<style scoped>\n",
       "    .dataframe tbody tr th:only-of-type {\n",
       "        vertical-align: middle;\n",
       "    }\n",
       "\n",
       "    .dataframe tbody tr th {\n",
       "        vertical-align: top;\n",
       "    }\n",
       "\n",
       "    .dataframe thead th {\n",
       "        text-align: right;\n",
       "    }\n",
       "</style>\n",
       "<table border=\"1\" class=\"dataframe\">\n",
       "  <thead>\n",
       "    <tr style=\"text-align: right;\">\n",
       "      <th></th>\n",
       "      <th>question</th>\n",
       "      <th>document</th>\n",
       "      <th>label</th>\n",
       "      <th>gigachat</th>\n",
       "    </tr>\n",
       "  </thead>\n",
       "  <tbody>\n",
       "    <tr>\n",
       "      <th>39</th>\n",
       "      <td>Как студентам лучше всего управлять своим врем...</td>\n",
       "      <td>Для оформления академической справки ( справки...</td>\n",
       "      <td>0</td>\n",
       "      <td>0</td>\n",
       "    </tr>\n",
       "    <tr>\n",
       "      <th>17</th>\n",
       "      <td>Даты подачи заявления для восстановления на за...</td>\n",
       "      <td>Заявления на восстановление в ТюмГУ принимаютс...</td>\n",
       "      <td>1</td>\n",
       "      <td>0</td>\n",
       "    </tr>\n",
       "    <tr>\n",
       "      <th>37</th>\n",
       "      <td>Как развиваются онлайн-курсы и дистанционное о...</td>\n",
       "      <td>Студенты очной формы обучения оформляют справк...</td>\n",
       "      <td>0</td>\n",
       "      <td>0</td>\n",
       "    </tr>\n",
       "    <tr>\n",
       "      <th>46</th>\n",
       "      <td>Как студентам лучше всего искать и использоват...</td>\n",
       "      <td>Для оформления академической справки ( справки...</td>\n",
       "      <td>0</td>\n",
       "      <td>0</td>\n",
       "    </tr>\n",
       "    <tr>\n",
       "      <th>30</th>\n",
       "      <td>Могу ли я восстановиться на заочке?</td>\n",
       "      <td>Заявления на восстановление в ТюмГУ принимаютс...</td>\n",
       "      <td>1</td>\n",
       "      <td>1</td>\n",
       "    </tr>\n",
       "  </tbody>\n",
       "</table>\n",
       "</div>"
      ],
      "text/plain": [
       "                                             question  \\\n",
       "39  Как студентам лучше всего управлять своим врем...   \n",
       "17  Даты подачи заявления для восстановления на за...   \n",
       "37  Как развиваются онлайн-курсы и дистанционное о...   \n",
       "46  Как студентам лучше всего искать и использоват...   \n",
       "30                Могу ли я восстановиться на заочке?   \n",
       "\n",
       "                                             document  label  gigachat  \n",
       "39  Для оформления академической справки ( справки...      0         0  \n",
       "17  Заявления на восстановление в ТюмГУ принимаютс...      1         0  \n",
       "37  Студенты очной формы обучения оформляют справк...      0         0  \n",
       "46  Для оформления академической справки ( справки...      0         0  \n",
       "30  Заявления на восстановление в ТюмГУ принимаютс...      1         1  "
      ]
     },
     "execution_count": 58,
     "metadata": {},
     "output_type": "execute_result"
    }
   ],
   "source": [
    "gigachat_answers = []\n",
    "for index, row in question_documents_label.iterrows():\n",
    "    gigachat_answers.append(get_answer(giga_chain, row['question'], row['document']))\n",
    "gigachat_answers = pd.Series(gigachat_answers)\n",
    "question_documents_label[\"gigachat\"] = gigachat_answers.apply(lambda x: 0 if \"вет не найден\" in x else 1)\n",
    "question_documents_label.sample(5)"
   ]
  },
  {
   "cell_type": "code",
   "execution_count": 60,
   "id": "0243ee8a",
   "metadata": {},
   "outputs": [
    {
     "data": {
      "text/plain": [
       "(0.8336397058823529, 0.8333333333333334, 0.8332950631458095, None)"
      ]
     },
     "execution_count": 60,
     "metadata": {},
     "output_type": "execute_result"
    }
   ],
   "source": [
    "from sklearn.metrics import precision_recall_fscore_support\n",
    "precision_recall_fscore_support(question_documents_label.label, question_documents_label.gigachat, average='weighted')"
   ]
  },
  {
   "cell_type": "markdown",
   "id": "b63f14ae",
   "metadata": {},
   "source": [
    "#### GigaChat Pro"
   ]
  },
  {
   "cell_type": "code",
   "execution_count": 17,
   "id": "9ee52db3",
   "metadata": {},
   "outputs": [
    {
     "name": "stderr",
     "output_type": "stream",
     "text": [
      "Giga generation stopped with reason: blacklist\n",
      "Giga generation stopped with reason: blacklist\n"
     ]
    }
   ],
   "source": [
    "gigachat_pro_answers = []\n",
    "for index, row in question_documents_label[42:].iterrows():\n",
    "    gigachat_pro_answers.append(get_answer(giga_pro_chain, row['question'], row['document']))\n",
    "gigachat_pro_answers = pd.Series(gigachat_pro_answers)"
   ]
  },
  {
   "cell_type": "code",
   "execution_count": 23,
   "id": "5e0ef359",
   "metadata": {},
   "outputs": [
    {
     "data": {
      "text/html": [
       "<div>\n",
       "<style scoped>\n",
       "    .dataframe tbody tr th:only-of-type {\n",
       "        vertical-align: middle;\n",
       "    }\n",
       "\n",
       "    .dataframe tbody tr th {\n",
       "        vertical-align: top;\n",
       "    }\n",
       "\n",
       "    .dataframe thead th {\n",
       "        text-align: right;\n",
       "    }\n",
       "</style>\n",
       "<table border=\"1\" class=\"dataframe\">\n",
       "  <thead>\n",
       "    <tr style=\"text-align: right;\">\n",
       "      <th></th>\n",
       "      <th>question</th>\n",
       "      <th>document</th>\n",
       "      <th>label</th>\n",
       "      <th>gigachat_pro</th>\n",
       "    </tr>\n",
       "  </thead>\n",
       "  <tbody>\n",
       "    <tr>\n",
       "      <th>56</th>\n",
       "      <td>Какие существуют методы эффективного обучения ...</td>\n",
       "      <td>Сопровождение специализированных образовательн...</td>\n",
       "      <td>0</td>\n",
       "      <td>0</td>\n",
       "    </tr>\n",
       "    <tr>\n",
       "      <th>34</th>\n",
       "      <td>Какой процент студентов поступает в университе...</td>\n",
       "      <td>Документ подписан простой электронной подписью...</td>\n",
       "      <td>0</td>\n",
       "      <td>0</td>\n",
       "    </tr>\n",
       "    <tr>\n",
       "      <th>65</th>\n",
       "      <td>Как студентам лучше всего развивать свои soft ...</td>\n",
       "      <td>Сопровождение специализированных образовательн...</td>\n",
       "      <td>0</td>\n",
       "      <td>0</td>\n",
       "    </tr>\n",
       "    <tr>\n",
       "      <th>51</th>\n",
       "      <td>Какой процент студентов продолжает обучение в ...</td>\n",
       "      <td>Документ подписан простой электронной подписью...</td>\n",
       "      <td>0</td>\n",
       "      <td>0</td>\n",
       "    </tr>\n",
       "    <tr>\n",
       "      <th>27</th>\n",
       "      <td>Куда обращаться по поводу оплаты обучения?</td>\n",
       "      <td>По вопросам оплаты обучения, суммы задолженнос...</td>\n",
       "      <td>1</td>\n",
       "      <td>1</td>\n",
       "    </tr>\n",
       "  </tbody>\n",
       "</table>\n",
       "</div>"
      ],
      "text/plain": [
       "                                             question  \\\n",
       "56  Какие существуют методы эффективного обучения ...   \n",
       "34  Какой процент студентов поступает в университе...   \n",
       "65  Как студентам лучше всего развивать свои soft ...   \n",
       "51  Какой процент студентов продолжает обучение в ...   \n",
       "27         Куда обращаться по поводу оплаты обучения?   \n",
       "\n",
       "                                             document  label  gigachat_pro  \n",
       "56  Сопровождение специализированных образовательн...      0             0  \n",
       "34  Документ подписан простой электронной подписью...      0             0  \n",
       "65  Сопровождение специализированных образовательн...      0             0  \n",
       "51  Документ подписан простой электронной подписью...      0             0  \n",
       "27  По вопросам оплаты обучения, суммы задолженнос...      1             1  "
      ]
     },
     "execution_count": 23,
     "metadata": {},
     "output_type": "execute_result"
    }
   ],
   "source": [
    "question_documents_label[\"gigachat_pro\"] = gigachat_pro_answers.apply(lambda x: 0 if \"вет не найден\" in x else 1)\n",
    "question_documents_label.sample(5)"
   ]
  },
  {
   "cell_type": "code",
   "execution_count": 24,
   "id": "7c42bb5d",
   "metadata": {},
   "outputs": [
    {
     "data": {
      "text/plain": [
       "(0.8273809523809524, 0.803030303030303, 0.7992982456140351, None)"
      ]
     },
     "execution_count": 24,
     "metadata": {},
     "output_type": "execute_result"
    }
   ],
   "source": [
    "from sklearn.metrics import precision_recall_fscore_support\n",
    "precision_recall_fscore_support(question_documents_label.label, question_documents_label.gigachat_pro, average='weighted')"
   ]
  },
  {
   "cell_type": "markdown",
   "id": "ef3da7ad",
   "metadata": {},
   "source": [
    "#### YandexGPT 3"
   ]
  },
  {
   "cell_type": "code",
   "execution_count": 78,
   "id": "e325a5ed",
   "metadata": {},
   "outputs": [
    {
     "data": {
      "text/html": [
       "<div>\n",
       "<style scoped>\n",
       "    .dataframe tbody tr th:only-of-type {\n",
       "        vertical-align: middle;\n",
       "    }\n",
       "\n",
       "    .dataframe tbody tr th {\n",
       "        vertical-align: top;\n",
       "    }\n",
       "\n",
       "    .dataframe thead th {\n",
       "        text-align: right;\n",
       "    }\n",
       "</style>\n",
       "<table border=\"1\" class=\"dataframe\">\n",
       "  <thead>\n",
       "    <tr style=\"text-align: right;\">\n",
       "      <th></th>\n",
       "      <th>question</th>\n",
       "      <th>document</th>\n",
       "      <th>label</th>\n",
       "      <th>yagpt</th>\n",
       "    </tr>\n",
       "  </thead>\n",
       "  <tbody>\n",
       "    <tr>\n",
       "      <th>57</th>\n",
       "      <td>Какие существуют программы развития межкультур...</td>\n",
       "      <td>Документ подписан простой электронной подписью...</td>\n",
       "      <td>0</td>\n",
       "      <td>1</td>\n",
       "    </tr>\n",
       "    <tr>\n",
       "      <th>0</th>\n",
       "      <td>Я потерял магнитную карту. К кому обратиться?</td>\n",
       "      <td>Для восстановления студенческого билета Вам не...</td>\n",
       "      <td>1</td>\n",
       "      <td>1</td>\n",
       "    </tr>\n",
       "    <tr>\n",
       "      <th>26</th>\n",
       "      <td>Где получить информацию о справке в военкомат?</td>\n",
       "      <td>Вам необходимо обратиться в Отдел мобилизацион...</td>\n",
       "      <td>1</td>\n",
       "      <td>1</td>\n",
       "    </tr>\n",
       "    <tr>\n",
       "      <th>14</th>\n",
       "      <td>Какие доки нужны для перевода в ТюмГУ из друго...</td>\n",
       "      <td>Пакет документов для подачи заявления на перев...</td>\n",
       "      <td>1</td>\n",
       "      <td>1</td>\n",
       "    </tr>\n",
       "    <tr>\n",
       "      <th>38</th>\n",
       "      <td>Какие существуют методы повышения академическо...</td>\n",
       "      <td>Сопровождение специализированных образовательн...</td>\n",
       "      <td>0</td>\n",
       "      <td>1</td>\n",
       "    </tr>\n",
       "  </tbody>\n",
       "</table>\n",
       "</div>"
      ],
      "text/plain": [
       "                                             question  \\\n",
       "57  Какие существуют программы развития межкультур...   \n",
       "0       Я потерял магнитную карту. К кому обратиться?   \n",
       "26     Где получить информацию о справке в военкомат?   \n",
       "14  Какие доки нужны для перевода в ТюмГУ из друго...   \n",
       "38  Какие существуют методы повышения академическо...   \n",
       "\n",
       "                                             document  label  yagpt  \n",
       "57  Документ подписан простой электронной подписью...      0      1  \n",
       "0   Для восстановления студенческого билета Вам не...      1      1  \n",
       "26  Вам необходимо обратиться в Отдел мобилизацион...      1      1  \n",
       "14  Пакет документов для подачи заявления на перев...      1      1  \n",
       "38  Сопровождение специализированных образовательн...      0      1  "
      ]
     },
     "execution_count": 78,
     "metadata": {},
     "output_type": "execute_result"
    }
   ],
   "source": [
    "yagpt_answers = []\n",
    "for index, row in question_documents_label.iterrows():\n",
    "    yagpt_answers.append(get_answer(yagpt_chain, row['question'], row['document']))\n",
    "yagpt_answers = pd.Series(yagpt_answers)\n",
    "question_documents_label[\"yagpt\"] = yagpt_answers.apply(lambda x: 0 if \"не найден\" in x else 1)\n",
    "question_documents_label.sample(5)"
   ]
  },
  {
   "cell_type": "code",
   "execution_count": 82,
   "id": "b67f51df",
   "metadata": {},
   "outputs": [
    {
     "data": {
      "text/plain": [
       "(0.4678362573099415, 0.48484848484848486, 0.40634920634920635, None)"
      ]
     },
     "execution_count": 82,
     "metadata": {},
     "output_type": "execute_result"
    }
   ],
   "source": [
    "from sklearn.metrics import precision_recall_fscore_support\n",
    "precision_recall_fscore_support(question_documents_label.label, question_documents_label.yagpt, average='weighted')"
   ]
  }
 ],
 "metadata": {
  "kernelspec": {
   "display_name": "Python 3 (ipykernel)",
   "language": "python",
   "name": "python3"
  },
  "language_info": {
   "codemirror_mode": {
    "name": "ipython",
    "version": 3
   },
   "file_extension": ".py",
   "mimetype": "text/x-python",
   "name": "python",
   "nbconvert_exporter": "python",
   "pygments_lexer": "ipython3",
   "version": "3.10.11"
  }
 },
 "nbformat": 4,
 "nbformat_minor": 5
}
