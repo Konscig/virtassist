{
 "cells": [
  {
   "cell_type": "markdown",
   "id": "54d7d1e2-a651-49a0-8679-afdb399291de",
   "metadata": {},
   "source": [
    "# Confluence + LLM = QA"
   ]
  },
  {
   "cell_type": "code",
   "execution_count": 1,
   "id": "3ad8db59",
   "metadata": {},
   "outputs": [
    {
     "name": "stdout",
     "output_type": "stream",
     "text": [
      "Note: you may need to restart the kernel to use updated packages.\n"
     ]
    }
   ],
   "source": [
    "%pip install pandas --quiet\n",
    "import pandas as pd"
   ]
  },
  {
   "cell_type": "code",
   "execution_count": 1,
   "id": "8a0752b6-6fa1-499f-a728-ff24a0416fe2",
   "metadata": {},
   "outputs": [],
   "source": [
    "from os import environ\n",
    "from dotenv import load_dotenv\n",
    "load_dotenv(dotenv_path=\"../.env\")\n",
    "\n",
    "confluence_token = environ.get('CONFLUENCE_TOKEN')\n",
    "hf_token = environ.get('HF_TOKEN')\n",
    "hf_write_token = environ.get('HF_WRITE_TOKEN')\n",
    "gigachat_token = environ.get('GIGACHAT_TOKEN')"
   ]
  },
  {
   "cell_type": "code",
   "execution_count": 2,
   "id": "dd997a1e-7dca-4038-bf4e-4aeeee8f040f",
   "metadata": {},
   "outputs": [],
   "source": [
    "from atlassian import Confluence\n",
    "\n",
    "confluence_url = \"https://confluence.utmn.ru\"\n",
    "confluence = Confluence(url=confluence_url, token=confluence_token)"
   ]
  },
  {
   "cell_type": "markdown",
   "id": "10c52810-a8f9-4b28-9c68-a32e422bfc04",
   "metadata": {},
   "source": [
    "## Поиск документа в Confluence через CQL\n",
    "\n",
    " * https://atlassian-python-api.readthedocs.io/confluence.html\n",
    " * https://developer.atlassian.com/cloud/confluence/rest/v2/api-group-page/#api-pages-id-get\n",
    " * https://developer.atlassian.com/server/confluence/advanced-searching-using-cql/\n",
    " * https://spacy.io/usage/spacy-101"
   ]
  },
  {
   "cell_type": "code",
   "execution_count": 8,
   "id": "7b7d5560",
   "metadata": {},
   "outputs": [
    {
     "name": "stdout",
     "output_type": "stream",
     "text": [
      "\u001b[38;5;2m✔ Download and installation successful\u001b[0m\n",
      "You can now load the package via spacy.load('ru_core_news_sm')\n"
     ]
    }
   ],
   "source": [
    "!python -m spacy download ru_core_news_sm --quiet"
   ]
  },
  {
   "cell_type": "code",
   "execution_count": 4,
   "id": "9073b5a4",
   "metadata": {},
   "outputs": [],
   "source": [
    "import spacy\n",
    "nlp = spacy.load(\"ru_core_news_sm\")\n",
    "needed_pos = ['NOUN', 'NUM', 'PROPN', 'ADJ', 'VERB', 'X']\n",
    "\n",
    "\n",
    "def get_cql_query(spaces, question):\n",
    "    exclude = ' and label != \"навигация\"' \n",
    "    words = [token for token in nlp(question.lower()) if not token.is_stop and\n",
    "             token.pos_ in needed_pos and len(token.text) > 2]\n",
    "    if len(words) == 0:\n",
    "        return ()\n",
    "    spaces = \" or \".join([f\"space = {space}\" for space in spaces])\n",
    "    words_with_verbs = \" and \".join(list(set([f\"(title ~ '{word}*' or text ~ '{word}*' or title ~ '{word.lemma_}*' or text ~ '{word.lemma_}*')\"\n",
    "                                              for word in words])))\n",
    "    words_without_verbs = \" and \".join(list(set([f\"(title ~ '{word}*' or text ~ '{word}*' or title ~ '{word.lemma_}*' or text ~ '{word.lemma_}*')\"\n",
    "                                                 for word in words if word.pos_ != 'VERB'])))\n",
    "    words_without_verbs_and_adj = \" and \".join(list(set([f\"(title ~ '{word}*' or text ~ '{word}*' or title ~ '{word.lemma_}*' or text ~ '{word.lemma_}*')\"\n",
    "                                                         for word in words if word.pos_ not in ['VERB', 'ADJ']])))\n",
    "    return (\"(\" + spaces + \") and (\" + words_with_verbs + \")\" + exclude,\n",
    "            \"(\" + spaces + \") and (\" + words_without_verbs + \")\" + exclude,\n",
    "            \"(\" + spaces + \") and (\" + words_without_verbs_and_adj + \")\" + exclude)\n",
    "    \n",
    "\n",
    "def get_document_id(question: str) -> str:\n",
    "    cql_query = get_cql_query(spaces=[\"study\"], question=question)\n",
    "    if len(cql_query) == 0:\n",
    "        return \"0\"\n",
    "    results = confluence.cql(cql_query[0], start=0, limit=1)['results']\n",
    "    if len(results) == 0:\n",
    "        results = confluence.cql(cql_query[1], start=0, limit=1)['results']\n",
    "        if len(results) == 0:\n",
    "            results = confluence.cql(cql_query[2], start=0, limit=1)['results']\n",
    "            if len(results) == 0:\n",
    "                return \"0\"\n",
    "\n",
    "    return results[0]['content']['id']"
   ]
  },
  {
   "cell_type": "code",
   "execution_count": 19,
   "id": "dee0eda2-3f11-4deb-9a19-4646935ee678",
   "metadata": {},
   "outputs": [],
   "source": [
    "from bs4 import BeautifulSoup\n",
    "from langchain_community.document_loaders import PyPDFLoader\n",
    "\n",
    "def get_document_content_by_id(page_id: str):\n",
    "    children = confluence.cql(f\"parent={page_id}\")[\"results\"]\n",
    "    if len(children) > 0:\n",
    "        return\n",
    "    page = confluence.get_page_by_id(page_id, expand='space,body.export_view')\n",
    "    \n",
    "    page_body = page['body']['export_view']['value']\n",
    "    page_download = page['_links']['base'] + page['_links']['download'] if 'download' in page['_links'].keys() else ''\n",
    "\n",
    "    try:\n",
    "        if len(page_body) > 50:\n",
    "            page_body = page['body']['export_view']['value']\n",
    "            soup = BeautifulSoup(page_body, 'html.parser')\n",
    "            page_body_text = soup.get_text(separator=' ')\n",
    "            content = page_body_text.replace(\" \\n \", \"\")\n",
    "        elif '.pdf' in page_download.lower():\n",
    "            loader = PyPDFLoader(page_download.split('?')[0])\n",
    "            content = \" \".join([page.page_content for page in loader.load_and_split()])\n",
    "        else:\n",
    "            return None\n",
    "    except:\n",
    "        return None\n",
    "\n",
    "    return content\n",
    "\n",
    "\n",
    "def get_document_content(question: str):\n",
    "    page_id = get_document_id(question)\n",
    "    if page_id == \"0\":\n",
    "        return None\n",
    "    return get_document_content_by_id(page_id)"
   ]
  },
  {
   "cell_type": "code",
   "execution_count": 6,
   "id": "56945f57",
   "metadata": {},
   "outputs": [
    {
     "data": {
      "text/plain": [
       "'Выбор спортивных секций по Физической культуре будет проходить в ИС Модеус во вкладке \"Выбор модулей\".\\xa0 Вам нужно будет выбрать 2 интересующие Вас спортивные секции, которые будут проходить каждую неделю в одно и то же время.\\xa0 Ограничения: 1) Записаться можно не более чем на 2 занятия в неделю 2) Нельзя записываться на два занятия подряд.\\xa0 Вас могут не допустить на занятие, если Вы были на предыдущей паре и/или уже посетили два занятия за неделю. При этом расписание на наличие конфликтов Вы проверяете самостоятельно в соответствии с Вашим расписанием в ИС Модеус и расписанием спортивных секций (во вложенных файлах). Ваш выбор пролонгируется до конца семестра, однако в любой момент Вы можете его изменить, отписавшись от одной секции и записавшись на другую. ВАЖНО!  Студент, пропустивший два занятия подряд, будет отписан автоматически. Выбор Физической культуры откроется 06.09.2023 и будет открыт до конца семестра.\\xa0 Для успешной аттестации по дисциплине «Физическая культура: элективные курсы по видам спорта» Вы должны набрать не менее 61 балла по балльно-рейтинговой оценочной шкале. Для этого Вы можете: 1) Посещать академические занятия (3 балла за каждое занятие); 2) Принять участие в спортивно-массовых мероприятиях университета: Днях здорового образа жизни, Маршрут Дружбы, Кросс Наций, и других (0-10 баллов за каждое мероприятие). 3) Принять участите в соревнованиях по видам спорта (0 – 60 баллов); 4) Выполнить ВФСК ГТО (0 – 60 баллов). Для оформления посещения частного фитнес-клуба или тренажёрного зала вместо практических занятий по физкультуре студент к первому занятию по физической культуре представляет тренеру-преподавателю по спорту (куратору по физкультуре)  пакет документов  и приходит на зачётное мероприятие. ВАЖНО!!!  Все документы должны быть предоставлены в течение первой учебной недели. Список ответственных за прием документов спортзала по институтам (Ленина, 6):  1. ИГиП, Антропошкола – Пырлич Юлия Васильевна (y.v.pyrlich@utmn.ru) 2. СоцГум- Ерженин Владимир Сергеевич (v.s.erzhenin@utmn.ru) 3. ФЭИ - Копякова Анна Леонидовна (a.l.kopyakova@utmn.ru) 4. ИнЗем \\xa0- Питулин Артём Владимирович (a.v.pitulin@utmn.ru) 5. ФТИ, ИнХим, ШЕН –Пырлич Юлия Васильевна (y.v.pyrlich@utmn.ru) 6. ИнБио - Криводанова Наталья Александровна (n.a.krivodanova@utmn.ru) 7. Школа образования - Баянов Николай Ильич (n.i.bayanov@utmn.ru) 8. ШКН - Тверских Владислав Владимирович (vl.v.tverskikh@utmn.ru)'"
      ]
     },
     "execution_count": 6,
     "metadata": {},
     "output_type": "execute_result"
    }
   ],
   "source": [
    "get_document_content(\"Спорт?\")"
   ]
  },
  {
   "cell_type": "markdown",
   "id": "0ddbec5f",
   "metadata": {
    "jp-MarkdownHeadingCollapsed": true
   },
   "source": [
    "## Собственный индекс Confluence"
   ]
  },
  {
   "cell_type": "markdown",
   "id": "07f5b94d",
   "metadata": {},
   "source": [
    "### Структура БД"
   ]
  },
  {
   "cell_type": "code",
   "execution_count": 7,
   "id": "2b0f87fa",
   "metadata": {},
   "outputs": [],
   "source": [
    "from sqlalchemy import create_engine\n",
    "engine = create_engine(f\"postgresql://{environ.get('POSTGRES_USER')}:{environ.get('POSTGRES_PASSWORD')}@{environ.get('POSTGRES_HOST')}/{environ.get('POSTGRES_DB')}\", echo=False)"
   ]
  },
  {
   "cell_type": "code",
   "execution_count": 8,
   "id": "b7f81c4d",
   "metadata": {},
   "outputs": [],
   "source": [
    "from typing import Optional\n",
    "from pgvector.sqlalchemy import Vector\n",
    "from sqlalchemy import Text\n",
    "from sqlalchemy.orm import DeclarativeBase, Mapped, Session, mapped_column\n",
    "\n",
    "class Base(DeclarativeBase):\n",
    "    pass\n",
    "\n",
    "class Chunk(Base):\n",
    "    __tablename__ = \"chunk\"\n",
    "    id: Mapped[int] = mapped_column(primary_key=True)\n",
    "    confluence_id: Mapped[int] = mapped_column(index=True)\n",
    "    text: Mapped[str] = mapped_column(Text())\n",
    "    text_lem: Mapped[str] = mapped_column(Text())\n",
    "    tfidf: Mapped[Optional[Vector]] = mapped_column(Vector(2777))\n",
    "    doc2vec: Mapped[Optional[Vector]] = mapped_column(Vector(150))\n",
    "    rubert: Mapped[Optional[Vector]] = mapped_column(Vector(312))\n",
    "    rusbert: Mapped[Optional[Vector]] = mapped_column(Vector(312))\n",
    "    rusbert_finetuned: Mapped[Optional[Vector]] = mapped_column(Vector(312))\n",
    "    gigachat_embeddings: Mapped[Optional[Vector]] = mapped_column(Vector(1024))"
   ]
  },
  {
   "cell_type": "code",
   "execution_count": 9,
   "id": "fa815c94",
   "metadata": {},
   "outputs": [],
   "source": [
    "def lower_stopword_lemmatize(text):\n",
    "    return \" \".join([token.lemma_ for token in nlp(str(text).lower()) if not token.is_stop and token.pos_ != 'PUNCT'])"
   ]
  },
  {
   "cell_type": "markdown",
   "id": "5bb1aa0e",
   "metadata": {},
   "source": [
    "### Выгрузка, предобработка и сохранение документов из пространства"
   ]
  },
  {
   "cell_type": "code",
   "execution_count": 14,
   "id": "4c0a733c",
   "metadata": {},
   "outputs": [
    {
     "data": {
      "text/plain": [
       "45"
      ]
     },
     "execution_count": 14,
     "metadata": {},
     "output_type": "execute_result"
    }
   ],
   "source": [
    "page_ids = []\n",
    "count_start = 0\n",
    "limit = 100\n",
    "pages = confluence.cql(f\"space = study order by id\", start=count_start, limit=limit)[\"results\"]\n",
    "while len(pages) != 0:\n",
    "    page_ids = page_ids + [page['content']['id'] for page in pages if 'content' in page.keys()]\n",
    "    count_start += limit\n",
    "    pages = confluence.cql(f\"space = study order by id\", start=count_start, limit=limit)[\"results\"]\n",
    "len(page_ids)"
   ]
  },
  {
   "cell_type": "code",
   "execution_count": 20,
   "id": "cfc165c1",
   "metadata": {},
   "outputs": [
    {
     "data": {
      "text/plain": [
       "[]"
      ]
     },
     "execution_count": 20,
     "metadata": {},
     "output_type": "execute_result"
    }
   ],
   "source": [
    "from langchain.text_splitter import SentenceTransformersTokenTextSplitter\n",
    "from langchain_core.documents import Document\n",
    "\n",
    "documents = []\n",
    "for page_id in page_ids:\n",
    "    page_content = get_document_content_by_id(page_id)\n",
    "    if page_content is None:\n",
    "        continue\n",
    "    documents.append(Document(\n",
    "        page_content=page_content, metadata={\"page_id\": page_id}\n",
    "    ))\n",
    "documents[:3]"
   ]
  },
  {
   "cell_type": "code",
   "execution_count": 16,
   "id": "37d442b7",
   "metadata": {},
   "outputs": [
    {
     "data": {
      "text/plain": [
       "54"
      ]
     },
     "execution_count": 16,
     "metadata": {},
     "output_type": "execute_result"
    }
   ],
   "source": [
    "text_splitter = SentenceTransformersTokenTextSplitter(model_name=\"saved_models/rubert-tiny2-wikiutmn\")   \n",
    "all_splits = text_splitter.split_documents(documents)\n",
    "len(all_splits)"
   ]
  },
  {
   "cell_type": "code",
   "execution_count": 13,
   "id": "4f680d96",
   "metadata": {},
   "outputs": [],
   "source": [
    "from sqlalchemy import text\n",
    "\n",
    "with Session(engine) as session:\n",
    "    session.execute(text('CREATE EXTENSION IF NOT EXISTS vector'))\n",
    "    session.commit()\n",
    "Base.metadata.create_all(engine)"
   ]
  },
  {
   "cell_type": "code",
   "execution_count": 14,
   "id": "c81ad8ad",
   "metadata": {},
   "outputs": [],
   "source": [
    "with Session(engine) as session:\n",
    "    for split in all_splits:\n",
    "        doc = Chunk(\n",
    "            confluence_id=int(split.metadata[\"page_id\"]),\n",
    "            text=split.page_content, \n",
    "            text_lem=lower_stopword_lemmatize(split.page_content)\n",
    "        )\n",
    "        session.add(doc)\n",
    "    session.commit()   "
   ]
  },
  {
   "cell_type": "markdown",
   "id": "081f57ce",
   "metadata": {},
   "source": [
    "### Эмбеддинги"
   ]
  },
  {
   "cell_type": "code",
   "execution_count": 46,
   "id": "d49a873f",
   "metadata": {},
   "outputs": [
    {
     "data": {
      "text/plain": [
       "0    сформировать справка - вызов самостоятельно ли...\n",
       "1    обратиться отдел мобилизационный подготовка ад...\n",
       "2    студент очный форма обучение оформлять справка...\n",
       "3    оформление академический справка справка перио...\n",
       "4    вопрос получение справка доход размер стипенди...\n",
       "Name: text_lem, dtype: object"
      ]
     },
     "execution_count": 46,
     "metadata": {},
     "output_type": "execute_result"
    }
   ],
   "source": [
    "from sqlalchemy import select\n",
    "\n",
    "with Session(engine) as session:\n",
    "   db_documents = pd.DataFrame([{\"id\": doc.id, \n",
    "                                     \"text\": doc.text, \n",
    "                                     \"text_lem\": doc.text_lem} for doc in session.scalars(select(Chunk).order_by(Chunk.id)).all()])\n",
    "db_documents_lem = db_documents.text_lem\n",
    "db_documents_lem.head()"
   ]
  },
  {
   "cell_type": "markdown",
   "id": "648cbf68",
   "metadata": {},
   "source": [
    "#### TFIDF"
   ]
  },
  {
   "cell_type": "code",
   "execution_count": 10,
   "id": "c1e64ba4",
   "metadata": {},
   "outputs": [
    {
     "data": {
      "text/plain": [
       "2777"
      ]
     },
     "execution_count": 10,
     "metadata": {},
     "output_type": "execute_result"
    }
   ],
   "source": [
    "from sklearn.feature_extraction.text import TfidfVectorizer\n",
    "tfidf_vectorizer = TfidfVectorizer()\n",
    "tfidfX = tfidf_vectorizer.fit_transform(db_documents_lem)\n",
    "len(tfidf_vectorizer.transform([db_documents_lem[0]]).toarray()[0])"
   ]
  },
  {
   "cell_type": "code",
   "execution_count": 11,
   "id": "d0428a08",
   "metadata": {},
   "outputs": [],
   "source": [
    "with Session(engine) as session:\n",
    "   documents = session.scalars(select(Chunk).order_by(Chunk.id)).all()\n",
    "   for doc in documents:\n",
    "      doc.tfidf = tfidf_vectorizer.transform([doc.text_lem]).toarray()[0]\n",
    "      session.add(doc)\n",
    "      session.flush()\n",
    "   session.commit()"
   ]
  },
  {
   "cell_type": "code",
   "execution_count": 12,
   "id": "9046e56b",
   "metadata": {},
   "outputs": [],
   "source": [
    "def answer_tfidf(question):\n",
    "    with Session(engine) as session:\n",
    "        return session.scalars(select(Chunk)\n",
    "                        .order_by(Chunk.tfidf.cosine_distance(\n",
    "                            tfidf_vectorizer.transform([lower_stopword_lemmatize(question)]).toarray()[0]\n",
    "                            )).limit(1)).first().text"
   ]
  },
  {
   "cell_type": "code",
   "execution_count": 13,
   "id": "243bcc17",
   "metadata": {},
   "outputs": [
    {
     "data": {
      "text/plain": [
       "'Прежде, чем выбрать элективы, рекомендуем почитать отзывы на сервисе « Отзывус » : https : / / electives. utmn. ru. Там же можно написать о своём опыте изучения элективных дисциплин. Информация, о том, как поменять электив, отправляется на корпоративную почту в первую учебную неделю семестра.'"
      ]
     },
     "execution_count": 13,
     "metadata": {},
     "output_type": "execute_result"
    }
   ],
   "source": [
    "answer_tfidf(\"Как поменять физкультуру?\")"
   ]
  },
  {
   "cell_type": "markdown",
   "id": "4dadb6bf",
   "metadata": {},
   "source": [
    "#### BM25"
   ]
  },
  {
   "cell_type": "code",
   "execution_count": 16,
   "id": "0bb4478a",
   "metadata": {},
   "outputs": [
    {
     "name": "stdout",
     "output_type": "stream",
     "text": [
      "Note: you may need to restart the kernel to use updated packages.\n"
     ]
    }
   ],
   "source": [
    "%pip install rank_bm25 --quiet"
   ]
  },
  {
   "cell_type": "code",
   "execution_count": 31,
   "id": "bac7c587",
   "metadata": {},
   "outputs": [
    {
     "data": {
      "text/plain": [
       "<rank_bm25.BM25Okapi at 0x2222882cb20>"
      ]
     },
     "execution_count": 31,
     "metadata": {},
     "output_type": "execute_result"
    }
   ],
   "source": [
    "from rank_bm25 import BM25Okapi\n",
    "\n",
    "tokenized_corpus = [doc.split(\" \") for doc in db_documents_lem]\n",
    "bm25 = BM25Okapi(tokenized_corpus)\n",
    "bm25"
   ]
  },
  {
   "cell_type": "code",
   "execution_count": 47,
   "id": "17fa218b",
   "metadata": {},
   "outputs": [],
   "source": [
    "import numpy as np\n",
    "\n",
    "def answer_bm25(question):\n",
    "    id = np.argmax(bm25.get_scores(lower_stopword_lemmatize(question).split(\" \")))\n",
    "    return db_documents.text[id]\n",
    "        "
   ]
  },
  {
   "cell_type": "code",
   "execution_count": 58,
   "id": "2eb1a343",
   "metadata": {},
   "outputs": [
    {
     "data": {
      "text/plain": [
       "'Для восстановления студенческого билета Вам необходимо подать заявление в Едином деканате ( ул. Семакова, д. 18, холл 3 этажа ). При себе иметь фото 3 * 4 и паспорт. Чтобы продлить студенческий билет, необходимо подойти в Единый деканат к специалисту, курирующему Ваш институт ( ул. Семакова, д. 18, каб. 302 либо 305 ). Если Вы потеряли магнитную карту ( пропуск, проходка ), необходимо подать заявление на ее восстановление в Едином деканате ( ул. Семакова, д. 18, 3 этаж ). При себе иметь паспорт или студенческий билет. Если Ваша магнитная карта ( пропуск, проходка ) не работает, необходимо обратиться в Центр информационных технологий по адресу : ул. Ленина, д. 23, каб. 310. При себе иметь карту, паспорт либо продленый студенческий билет. Телефон Единого деканата : 8 ( 3452 ) 59 - 75 - 95, email : ed @ utmn. ru'"
      ]
     },
     "execution_count": 58,
     "metadata": {},
     "output_type": "execute_result"
    }
   ],
   "source": [
    "answer_bm25(\"Что делать, если потерял студенческий билет?\")"
   ]
  },
  {
   "cell_type": "markdown",
   "id": "5f7a23b9",
   "metadata": {},
   "source": [
    "#### Doc2vec"
   ]
  },
  {
   "cell_type": "code",
   "execution_count": 29,
   "id": "132815c5",
   "metadata": {},
   "outputs": [
    {
     "name": "stdout",
     "output_type": "stream",
     "text": [
      "Note: you may need to restart the kernel to use updated packages.\n"
     ]
    }
   ],
   "source": [
    "%pip install gensim --quiet"
   ]
  },
  {
   "cell_type": "code",
   "execution_count": 14,
   "id": "b2918499",
   "metadata": {},
   "outputs": [
    {
     "data": {
      "text/plain": [
       "150"
      ]
     },
     "execution_count": 14,
     "metadata": {},
     "output_type": "execute_result"
    }
   ],
   "source": [
    "from gensim.models.doc2vec import Doc2Vec, TaggedDocument\n",
    "\n",
    "documents = [TaggedDocument(doc, [i]) for i, doc in enumerate([text.split() for text in db_documents_lem])]\n",
    "doc2vec_model = Doc2Vec(documents, vector_size=150, window=5, min_count=1, workers=4)\n",
    "\n",
    "len(doc2vec_model.infer_vector(\"мама мыла раму\".split()))"
   ]
  },
  {
   "cell_type": "code",
   "execution_count": 29,
   "id": "56c5670d",
   "metadata": {},
   "outputs": [],
   "source": [
    "with Session(engine) as session:\n",
    "   documents = session.scalars(select(Chunk).order_by(Chunk.id)).all()\n",
    "   for doc in documents:\n",
    "      doc.doc2vec = doc2vec_model.infer_vector(doc.text_lem.split())\n",
    "      session.add(doc)\n",
    "      session.flush()\n",
    "   session.commit()"
   ]
  },
  {
   "cell_type": "code",
   "execution_count": 15,
   "id": "1a1fe5b1",
   "metadata": {},
   "outputs": [],
   "source": [
    "def answer_doc2vec(question):\n",
    "    with Session(engine) as session:\n",
    "        return session.scalars(select(Chunk)\n",
    "                        .order_by(Chunk.doc2vec.cosine_distance(\n",
    "                           doc2vec_model.infer_vector(lower_stopword_lemmatize(question).split())\n",
    "                            )).limit(1)).first().text"
   ]
  },
  {
   "cell_type": "code",
   "execution_count": 16,
   "id": "905dc65e",
   "metadata": {},
   "outputs": [
    {
     "data": {
      "text/plain": [
       "'Заявление подается через личный кабинет на портале \" Вместе \". Отпуск по уходу за ребенком до достижения им возраста трех лет предоставляется обучающемуся, являющемуся матерью ( отцом, опекуном ) на основании личного заявления, к которому прилагается копия свидетельства о рождении ребенка. Отпуск по уходу за ребенком до достижения им возраста трех лет оформляется сроком не более трех лет с момента рождения ребенка и может быть использован полностью или по частям.'"
      ]
     },
     "execution_count": 16,
     "metadata": {},
     "output_type": "execute_result"
    }
   ],
   "source": [
    "answer_doc2vec(\"Как поменять физкультуру?\")"
   ]
  },
  {
   "cell_type": "markdown",
   "id": "9118dc87",
   "metadata": {},
   "source": [
    "#### RuBERT-Tiny"
   ]
  },
  {
   "cell_type": "code",
   "execution_count": 17,
   "id": "7816dbe9",
   "metadata": {},
   "outputs": [
    {
     "data": {
      "text/plain": [
       "312"
      ]
     },
     "execution_count": 17,
     "metadata": {},
     "output_type": "execute_result"
    }
   ],
   "source": [
    "import torch\n",
    "from transformers import AutoTokenizer, AutoModel\n",
    "rubert_tokenizer = AutoTokenizer.from_pretrained(\"cointegrated/rubert-tiny\")\n",
    "rubert_model = AutoModel.from_pretrained(\"cointegrated/rubert-tiny\")\n",
    "rubert_model.cpu()\n",
    "# rubert_model.cuda()  # uncomment it if you have a GPU\n",
    "\n",
    "def embed_bert_cls(text, model, tokenizer):\n",
    "    t = tokenizer(text, padding=True, truncation=True, return_tensors='pt')\n",
    "    with torch.no_grad():\n",
    "        model_output = model(**{k: v.to(model.device) for k, v in t.items()})\n",
    "    embeddings = model_output.last_hidden_state[:, 0, :]\n",
    "    embeddings = torch.nn.functional.normalize(embeddings)\n",
    "    return embeddings[0].cpu().numpy()\n",
    "\n",
    "len(embed_bert_cls(\"мама мыла раму\", rubert_model, rubert_tokenizer))"
   ]
  },
  {
   "cell_type": "code",
   "execution_count": 33,
   "id": "560c7937",
   "metadata": {},
   "outputs": [],
   "source": [
    "with Session(engine) as session:\n",
    "   documents = session.scalars(select(Chunk).order_by(Chunk.id)).all()\n",
    "   for doc in documents:\n",
    "      doc.rubert = embed_bert_cls(doc.text, rubert_model, rubert_tokenizer)\n",
    "      session.add(doc)\n",
    "      session.flush()\n",
    "   session.commit()"
   ]
  },
  {
   "cell_type": "code",
   "execution_count": 18,
   "id": "42ad003c",
   "metadata": {},
   "outputs": [],
   "source": [
    "def answer_rubert(question):\n",
    "    with Session(engine) as session:\n",
    "        return session.scalars(select(Chunk)\n",
    "                        .order_by(Chunk.rubert.cosine_distance(\n",
    "                            embed_bert_cls(question, rubert_model, rubert_tokenizer)\n",
    "                            )).limit(1)).first().text"
   ]
  },
  {
   "cell_type": "code",
   "execution_count": 19,
   "id": "ee5d8e0f",
   "metadata": {},
   "outputs": [
    {
     "data": {
      "text/plain": [
       "'Прежде, чем выбрать элективы, рекомендуем почитать отзывы на сервисе « Отзывус » : https : / / electives. utmn. ru. Там же можно написать о своём опыте изучения элективных дисциплин. Информация, о том, как поменять электив, отправляется на корпоративную почту в первую учебную неделю семестра.'"
      ]
     },
     "execution_count": 19,
     "metadata": {},
     "output_type": "execute_result"
    }
   ],
   "source": [
    "answer_rubert(\"Как поменять физкультуру?\")"
   ]
  },
  {
   "cell_type": "markdown",
   "id": "72d84f5a",
   "metadata": {},
   "source": [
    "#### RuSBERT-Tiny"
   ]
  },
  {
   "cell_type": "code",
   "execution_count": 20,
   "id": "cce30650",
   "metadata": {},
   "outputs": [
    {
     "data": {
      "text/plain": [
       "312"
      ]
     },
     "execution_count": 20,
     "metadata": {},
     "output_type": "execute_result"
    }
   ],
   "source": [
    "from sentence_transformers import SentenceTransformer\n",
    "\n",
    "rusbert_model = SentenceTransformer('cointegrated/rubert-tiny2', device=\"cpu\")\n",
    "len(rusbert_model.encode(\"мама мыла раму\"))"
   ]
  },
  {
   "cell_type": "code",
   "execution_count": 37,
   "id": "3c0d4a46",
   "metadata": {},
   "outputs": [],
   "source": [
    "with Session(engine) as session:\n",
    "   documents = session.scalars(select(Chunk).order_by(Chunk.id)).all()\n",
    "   for doc in documents:\n",
    "      doc.rusbert = rusbert_model.encode(doc.text)\n",
    "      session.add(doc)\n",
    "      session.flush()\n",
    "   session.commit()"
   ]
  },
  {
   "cell_type": "code",
   "execution_count": 21,
   "id": "47e60807",
   "metadata": {},
   "outputs": [],
   "source": [
    "def answer_rusbert(question):\n",
    "    with Session(engine) as session:\n",
    "        return session.scalars(select(Chunk)\n",
    "                        .order_by(Chunk.rusbert.cosine_distance(\n",
    "                            rusbert_model.encode(question)\n",
    "                            )).limit(1)).first().text"
   ]
  },
  {
   "cell_type": "code",
   "execution_count": 22,
   "id": "b573354a",
   "metadata": {},
   "outputs": [
    {
     "data": {
      "text/plain": [
       "'Выбор спортивных секций по Физической культуре будет проходить в ИС Модеус во вкладке \" Выбор модулей \". Вам нужно будет выбрать 2 интересующие Вас спортивные секции, которые будут проходить каждую неделю в одно и то же время. Ограничения : 1 ) Записаться можно не более чем на 2 занятия в неделю 2 ) Нельзя записываться на два занятия подряд. Вас могут не допустить на занятие, если Вы были на предыдущей паре и / или уже посетили два занятия за неделю. При этом расписание на наличие конфликтов Вы проверяете самостоятельно в соответствии с Вашим расписанием в ИС Модеус и расписанием спортивных секций ( во вложенных файлах ). Ваш выбор пролонгируется до конца семестра, однако в любой момент Вы можете его изменить, отписавшись от одной секции и записавшись на другую. ВАЖНО! Студент, пропустивший два занятия подряд, будет отписан автоматически. Выбор Физической культуры откроется 06. 09. 2023 и будет открыт до конца семестра. Для успешной аттестации по дисциплине « Физическая культура : элективные курсы по видам спорта » Вы должны набрать не менее 61 балла по балльно - рейтинговой оценочной шкале. Для этого Вы можете : 1 ) Посещать академические занятия ( 3 балла за каждое занятие ) ; 2 ) Принять участие в спортивно - массовых мероприятиях университета : Днях здорового образа жизни, Маршрут Дружбы, Кросс Наций, и других ( 0 - 10 баллов за каждое мероприятие ). 3 ) Принять участите в соревнованиях по видам спорта ( 0 [UNK] 60 баллов ) ; 4 ) Выполнить ВФСК ГТО ( 0 [UNK] 60 баллов ). Для оформления посещения спортивного зала вместо практических занятий по физкультуре студент к первому занятию по физической культуре представляет тренеру - преподавателю по спорту ( куратору по физкультуре ) пакет документов ( https : / / www. utmn. ru / upload / medialibrary / 676 / Polozhenie - o - realizatsii - distsiplin - _ moduley _ - po - fizicheskoy - kulture - _ sportu _. pdf ) и приходит на зачётное мероприятие. ВАЖНО!!! Все документы должны быть предоставлены в течение первой учебной недели. Список ответственных за прием документов спортзала по институтам ( Ленина, 6 ) : 1. ИГиП, Антропошкола [UNK] Пырлич Юлия Васильевна ( y. v. pyrlich @ utmn. ru ) 2. СоцГум - Ерженин Владимир Сергеевич ( v. s. erzhenin @ utmn. ru ) 3. ФЭИ - Копякова Анна Леонидовна ( a. l. kopyakova @ utmn. ru ) 4. ИнЗем - Питулин Артём Владимирович ( a. v. pitulin @ utmn. ru ) 5. ФТИ, ИнХим, ШЕН [UNK] Пырлич Юлия Васильевна ( y. v. pyrlich @ utmn. ru ) 6. ИнБио - Криводанова Наталья Александровна ( n. a. krivodanova @ utmn. ru ) 7. Школа образования - Баянов Николай Ильич ( n. i. bayanov @ utmn. ru ) 8. ШКН - Тверских Владислав Владимирович ( vl. v. tverskikh @ utmn. ru ) # физкультура'"
      ]
     },
     "execution_count": 22,
     "metadata": {},
     "output_type": "execute_result"
    }
   ],
   "source": [
    "answer_rusbert(\"Как поменять физкультуру?\")"
   ]
  },
  {
   "cell_type": "markdown",
   "id": "68b0857e",
   "metadata": {},
   "source": [
    "#### GigaChatEmbeddings"
   ]
  },
  {
   "cell_type": "code",
   "execution_count": 7,
   "id": "7ed0e86b",
   "metadata": {},
   "outputs": [
    {
     "name": "stdout",
     "output_type": "stream",
     "text": [
      "Note: you may need to restart the kernel to use updated packages.\n"
     ]
    }
   ],
   "source": [
    "%pip install --upgrade --quiet  gigachain"
   ]
  },
  {
   "cell_type": "code",
   "execution_count": 23,
   "id": "bbf7b19f",
   "metadata": {},
   "outputs": [
    {
     "name": "stdout",
     "output_type": "stream",
     "text": [
      "1024\n"
     ]
    }
   ],
   "source": [
    "from langchain_community.embeddings import GigaChatEmbeddings\n",
    "\n",
    "gigachat_embeddings = GigaChatEmbeddings(credentials=gigachat_token, verify_ssl_certs=False)\n",
    "result = gigachat_embeddings.embed_documents(texts=[\"Привет!\"])\n",
    "print(len(result[0]))"
   ]
  },
  {
   "cell_type": "code",
   "execution_count": null,
   "id": "cec44503",
   "metadata": {},
   "outputs": [],
   "source": [
    "with Session(engine) as session:\n",
    "   documents = session.scalars(select(Chunk).order_by(Chunk.id)).all()\n",
    "   for doc in documents:\n",
    "      try:\n",
    "         doc.gigachat_embeddings = gigachat_embeddings.embed_documents(texts=[doc.text])[0]\n",
    "      except:\n",
    "         print(doc.text)\n",
    "         doc.gigachat_embeddings = None\n",
    "      session.add(doc)\n",
    "      session.flush()\n",
    "   session.commit()"
   ]
  },
  {
   "cell_type": "code",
   "execution_count": 26,
   "id": "d2e7a665",
   "metadata": {},
   "outputs": [],
   "source": [
    "def answer_gigachat_embeddings(question):\n",
    "    with Session(engine) as session:\n",
    "        return session.scalars(select(Chunk)\n",
    "                        .order_by(Chunk.gigachat_embeddings.cosine_distance(\n",
    "                            gigachat_embeddings.embed_documents(texts=[question])[0]\n",
    "                            )).limit(1)).first().text"
   ]
  },
  {
   "cell_type": "code",
   "execution_count": 29,
   "id": "b515a647",
   "metadata": {},
   "outputs": [
    {
     "data": {
      "text/plain": [
       "'Прежде, чем выбрать элективы, рекомендуем почитать отзывы на сервисе « Отзывус » : https : / / electives. utmn. ru. Там же можно написать о своём опыте изучения элективных дисциплин. Информация, о том, как поменять электив, отправляется на корпоративную почту в первую учебную неделю семестра.'"
      ]
     },
     "execution_count": 29,
     "metadata": {},
     "output_type": "execute_result"
    }
   ],
   "source": [
    "answer_gigachat_embeddings(\"Как поменять физкультуру?\")"
   ]
  },
  {
   "cell_type": "markdown",
   "id": "e1dcfd2a",
   "metadata": {
    "jp-MarkdownHeadingCollapsed": true
   },
   "source": [
    "## Выбор нужного фрагмента через векторный индекс"
   ]
  },
  {
   "cell_type": "markdown",
   "id": "58b38c42",
   "metadata": {},
   "source": [
    "### Тестовая выборка с вопросами"
   ]
  },
  {
   "cell_type": "code",
   "execution_count": 51,
   "id": "9bfaec68",
   "metadata": {},
   "outputs": [
    {
     "data": {
      "text/html": [
       "<div>\n",
       "<style scoped>\n",
       "    .dataframe tbody tr th:only-of-type {\n",
       "        vertical-align: middle;\n",
       "    }\n",
       "\n",
       "    .dataframe tbody tr th {\n",
       "        vertical-align: top;\n",
       "    }\n",
       "\n",
       "    .dataframe thead th {\n",
       "        text-align: right;\n",
       "    }\n",
       "</style>\n",
       "<table border=\"1\" class=\"dataframe\">\n",
       "  <thead>\n",
       "    <tr style=\"text-align: right;\">\n",
       "      <th></th>\n",
       "      <th>question</th>\n",
       "      <th>page_id</th>\n",
       "      <th>document</th>\n",
       "    </tr>\n",
       "  </thead>\n",
       "  <tbody>\n",
       "    <tr>\n",
       "      <th>0</th>\n",
       "      <td>Почему не могу получить справку-вызов?</td>\n",
       "      <td>86478987</td>\n",
       "      <td>Сформировать справку - вызов Вы можете самосто...</td>\n",
       "    </tr>\n",
       "    <tr>\n",
       "      <th>1</th>\n",
       "      <td>Как получить справку-вызов?</td>\n",
       "      <td>86478987</td>\n",
       "      <td>Сформировать справку - вызов Вы можете самосто...</td>\n",
       "    </tr>\n",
       "    <tr>\n",
       "      <th>2</th>\n",
       "      <td>Где получить справку-вызов?</td>\n",
       "      <td>86478987</td>\n",
       "      <td>Сформировать справку - вызов Вы можете самосто...</td>\n",
       "    </tr>\n",
       "    <tr>\n",
       "      <th>3</th>\n",
       "      <td>Где взять справку для военкомата?</td>\n",
       "      <td>86478990</td>\n",
       "      <td>Вам необходимо обратиться в Отдел мобилизацион...</td>\n",
       "    </tr>\n",
       "    <tr>\n",
       "      <th>4</th>\n",
       "      <td>Как получить отсрочку от армии?</td>\n",
       "      <td>86478990</td>\n",
       "      <td>Вам необходимо обратиться в Отдел мобилизацион...</td>\n",
       "    </tr>\n",
       "    <tr>\n",
       "      <th>...</th>\n",
       "      <td>...</td>\n",
       "      <td>...</td>\n",
       "      <td>...</td>\n",
       "    </tr>\n",
       "    <tr>\n",
       "      <th>106</th>\n",
       "      <td>Могу ли я в последний момент отказаться от сме...</td>\n",
       "      <td>86479065</td>\n",
       "      <td>Прежде, чем выбрать элективы, рекомендуем почи...</td>\n",
       "    </tr>\n",
       "    <tr>\n",
       "      <th>107</th>\n",
       "      <td>где почитать отзывы на элективы?</td>\n",
       "      <td>86479065</td>\n",
       "      <td>Прежде, чем выбрать элективы, рекомендуем почи...</td>\n",
       "    </tr>\n",
       "    <tr>\n",
       "      <th>108</th>\n",
       "      <td>когда можно поменять элективы?</td>\n",
       "      <td>86479065</td>\n",
       "      <td>Прежде, чем выбрать элективы, рекомендуем почи...</td>\n",
       "    </tr>\n",
       "    <tr>\n",
       "      <th>109</th>\n",
       "      <td>как выбрать электив?</td>\n",
       "      <td>86479065</td>\n",
       "      <td>Прежде, чем выбрать элективы, рекомендуем почи...</td>\n",
       "    </tr>\n",
       "    <tr>\n",
       "      <th>110</th>\n",
       "      <td>где посмотреть отзывы на элективы?</td>\n",
       "      <td>86479065</td>\n",
       "      <td>Прежде, чем выбрать элективы, рекомендуем почи...</td>\n",
       "    </tr>\n",
       "  </tbody>\n",
       "</table>\n",
       "<p>111 rows × 3 columns</p>\n",
       "</div>"
      ],
      "text/plain": [
       "                                              question   page_id  \\\n",
       "0               Почему не могу получить справку-вызов?  86478987   \n",
       "1                          Как получить справку-вызов?  86478987   \n",
       "2                          Где получить справку-вызов?  86478987   \n",
       "3                    Где взять справку для военкомата?  86478990   \n",
       "4                      Как получить отсрочку от армии?  86478990   \n",
       "..                                                 ...       ...   \n",
       "106  Могу ли я в последний момент отказаться от сме...  86479065   \n",
       "107                   где почитать отзывы на элективы?  86479065   \n",
       "108                     когда можно поменять элективы?  86479065   \n",
       "109                               как выбрать электив?  86479065   \n",
       "110                 где посмотреть отзывы на элективы?  86479065   \n",
       "\n",
       "                                              document  \n",
       "0    Сформировать справку - вызов Вы можете самосто...  \n",
       "1    Сформировать справку - вызов Вы можете самосто...  \n",
       "2    Сформировать справку - вызов Вы можете самосто...  \n",
       "3    Вам необходимо обратиться в Отдел мобилизацион...  \n",
       "4    Вам необходимо обратиться в Отдел мобилизацион...  \n",
       "..                                                 ...  \n",
       "106  Прежде, чем выбрать элективы, рекомендуем почи...  \n",
       "107  Прежде, чем выбрать элективы, рекомендуем почи...  \n",
       "108  Прежде, чем выбрать элективы, рекомендуем почи...  \n",
       "109  Прежде, чем выбрать элективы, рекомендуем почи...  \n",
       "110  Прежде, чем выбрать элективы, рекомендуем почи...  \n",
       "\n",
       "[111 rows x 3 columns]"
      ]
     },
     "execution_count": 51,
     "metadata": {},
     "output_type": "execute_result"
    }
   ],
   "source": [
    "study_questions = pd.read_csv(\"study_questions.csv\", index_col=0)\n",
    "study_questions"
   ]
  },
  {
   "cell_type": "code",
   "execution_count": 52,
   "id": "ccd6bc18",
   "metadata": {},
   "outputs": [
    {
     "data": {
      "text/html": [
       "<div>\n",
       "<style scoped>\n",
       "    .dataframe tbody tr th:only-of-type {\n",
       "        vertical-align: middle;\n",
       "    }\n",
       "\n",
       "    .dataframe tbody tr th {\n",
       "        vertical-align: top;\n",
       "    }\n",
       "\n",
       "    .dataframe thead th {\n",
       "        text-align: right;\n",
       "    }\n",
       "</style>\n",
       "<table border=\"1\" class=\"dataframe\">\n",
       "  <thead>\n",
       "    <tr style=\"text-align: right;\">\n",
       "      <th></th>\n",
       "      <th>question</th>\n",
       "      <th>document</th>\n",
       "    </tr>\n",
       "  </thead>\n",
       "  <tbody>\n",
       "    <tr>\n",
       "      <th>0</th>\n",
       "      <td>Я потерял магнитную карту. К кому обратиться?</td>\n",
       "      <td>Для восстановления студенческого билета Вам не...</td>\n",
       "    </tr>\n",
       "    <tr>\n",
       "      <th>1</th>\n",
       "      <td>Даты подачи заявления для восстановления на очку</td>\n",
       "      <td>Заявления на восстановление в Университет по о...</td>\n",
       "    </tr>\n",
       "    <tr>\n",
       "      <th>2</th>\n",
       "      <td>Что делать при потере проходки?</td>\n",
       "      <td>Для восстановления студенческого билета Вам не...</td>\n",
       "    </tr>\n",
       "    <tr>\n",
       "      <th>3</th>\n",
       "      <td>Я хожу в фитнес-клуб. Как заменить физкультуру?</td>\n",
       "      <td>Выбор спортивных секций по Физической культуре...</td>\n",
       "    </tr>\n",
       "    <tr>\n",
       "      <th>4</th>\n",
       "      <td>Когда мне выдадут студенческий билет после пер...</td>\n",
       "      <td>1. Подать заявление о переводе можно лично, об...</td>\n",
       "    </tr>\n",
       "  </tbody>\n",
       "</table>\n",
       "</div>"
      ],
      "text/plain": [
       "                                            question  \\\n",
       "0      Я потерял магнитную карту. К кому обратиться?   \n",
       "1   Даты подачи заявления для восстановления на очку   \n",
       "2                    Что делать при потере проходки?   \n",
       "3    Я хожу в фитнес-клуб. Как заменить физкультуру?   \n",
       "4  Когда мне выдадут студенческий билет после пер...   \n",
       "\n",
       "                                            document  \n",
       "0  Для восстановления студенческого билета Вам не...  \n",
       "1  Заявления на восстановление в Университет по о...  \n",
       "2  Для восстановления студенческого билета Вам не...  \n",
       "3  Выбор спортивных секций по Физической культуре...  \n",
       "4  1. Подать заявление о переводе можно лично, об...  "
      ]
     },
     "execution_count": 52,
     "metadata": {},
     "output_type": "execute_result"
    }
   ],
   "source": [
    "from sklearn.model_selection import train_test_split\n",
    "X_train, X_test, y_train, y_test = train_test_split(study_questions.question, study_questions.document, test_size=0.6, random_state=666, stratify=study_questions.document)\n",
    "test_questions = pd.DataFrame({\"question\": X_test, \"document\": y_test}).reset_index(drop=True)\n",
    "test_questions.head()"
   ]
  },
  {
   "cell_type": "code",
   "execution_count": 53,
   "id": "f6a7271d",
   "metadata": {},
   "outputs": [
    {
     "data": {
      "text/html": [
       "<div>\n",
       "<style scoped>\n",
       "    .dataframe tbody tr th:only-of-type {\n",
       "        vertical-align: middle;\n",
       "    }\n",
       "\n",
       "    .dataframe tbody tr th {\n",
       "        vertical-align: top;\n",
       "    }\n",
       "\n",
       "    .dataframe thead th {\n",
       "        text-align: right;\n",
       "    }\n",
       "</style>\n",
       "<table border=\"1\" class=\"dataframe\">\n",
       "  <thead>\n",
       "    <tr style=\"text-align: right;\">\n",
       "      <th></th>\n",
       "      <th>question</th>\n",
       "      <th>document</th>\n",
       "    </tr>\n",
       "  </thead>\n",
       "  <tbody>\n",
       "    <tr>\n",
       "      <th>0</th>\n",
       "      <td>Где продлять студак?</td>\n",
       "      <td>Для восстановления студенческого билета Вам не...</td>\n",
       "    </tr>\n",
       "    <tr>\n",
       "      <th>1</th>\n",
       "      <td>Когда можно получить справку о стипендии?</td>\n",
       "      <td>По вопросу получения справки о доходах, размер...</td>\n",
       "    </tr>\n",
       "    <tr>\n",
       "      <th>2</th>\n",
       "      <td>Как перевестись на другое направление на заочке?</td>\n",
       "      <td>Заявления о переводе принимаются два раза в го...</td>\n",
       "    </tr>\n",
       "    <tr>\n",
       "      <th>3</th>\n",
       "      <td>Как перевестись на другое направление?</td>\n",
       "      <td>Заявления о переводе принимаются два раза в го...</td>\n",
       "    </tr>\n",
       "    <tr>\n",
       "      <th>4</th>\n",
       "      <td>Могу ли я в последний момент отказаться от сме...</td>\n",
       "      <td>Прежде, чем выбрать элективы, рекомендуем почи...</td>\n",
       "    </tr>\n",
       "  </tbody>\n",
       "</table>\n",
       "</div>"
      ],
      "text/plain": [
       "                                            question  \\\n",
       "0                               Где продлять студак?   \n",
       "1          Когда можно получить справку о стипендии?   \n",
       "2   Как перевестись на другое направление на заочке?   \n",
       "3             Как перевестись на другое направление?   \n",
       "4  Могу ли я в последний момент отказаться от сме...   \n",
       "\n",
       "                                            document  \n",
       "0  Для восстановления студенческого билета Вам не...  \n",
       "1  По вопросу получения справки о доходах, размер...  \n",
       "2  Заявления о переводе принимаются два раза в го...  \n",
       "3  Заявления о переводе принимаются два раза в го...  \n",
       "4  Прежде, чем выбрать элективы, рекомендуем почи...  "
      ]
     },
     "execution_count": 53,
     "metadata": {},
     "output_type": "execute_result"
    }
   ],
   "source": [
    "train_questions = pd.DataFrame({\"question\": X_train, \"document\": y_train}).reset_index(drop=True)\n",
    "train_questions.head()"
   ]
  },
  {
   "cell_type": "code",
   "execution_count": 54,
   "id": "51734fc9",
   "metadata": {},
   "outputs": [
    {
     "data": {
      "text/html": [
       "<div>\n",
       "<style scoped>\n",
       "    .dataframe tbody tr th:only-of-type {\n",
       "        vertical-align: middle;\n",
       "    }\n",
       "\n",
       "    .dataframe tbody tr th {\n",
       "        vertical-align: top;\n",
       "    }\n",
       "\n",
       "    .dataframe thead th {\n",
       "        text-align: right;\n",
       "    }\n",
       "</style>\n",
       "<table border=\"1\" class=\"dataframe\">\n",
       "  <thead>\n",
       "    <tr style=\"text-align: right;\">\n",
       "      <th></th>\n",
       "      <th>question</th>\n",
       "      <th>document</th>\n",
       "      <th>bm25</th>\n",
       "    </tr>\n",
       "  </thead>\n",
       "  <tbody>\n",
       "    <tr>\n",
       "      <th>0</th>\n",
       "      <td>Я потерял магнитную карту. К кому обратиться?</td>\n",
       "      <td>Для восстановления студенческого билета Вам не...</td>\n",
       "      <td>Для восстановления студенческого билета Вам не...</td>\n",
       "    </tr>\n",
       "    <tr>\n",
       "      <th>1</th>\n",
       "      <td>Даты подачи заявления для восстановления на очку</td>\n",
       "      <td>Заявления на восстановление в Университет по о...</td>\n",
       "      <td>Заявление на академический отпуск подается чер...</td>\n",
       "    </tr>\n",
       "    <tr>\n",
       "      <th>2</th>\n",
       "      <td>Что делать при потере проходки?</td>\n",
       "      <td>Для восстановления студенческого билета Вам не...</td>\n",
       "      <td>Для восстановления студенческого билета Вам не...</td>\n",
       "    </tr>\n",
       "    <tr>\n",
       "      <th>3</th>\n",
       "      <td>Я хожу в фитнес-клуб. Как заменить физкультуру?</td>\n",
       "      <td>Выбор спортивных секций по Физической культуре...</td>\n",
       "      <td>Выбор спортивных секций по Физической культуре...</td>\n",
       "    </tr>\n",
       "    <tr>\n",
       "      <th>4</th>\n",
       "      <td>Когда мне выдадут студенческий билет после пер...</td>\n",
       "      <td>1. Подать заявление о переводе можно лично, об...</td>\n",
       "      <td>Подать заявление на отчисление переводом можно...</td>\n",
       "    </tr>\n",
       "    <tr>\n",
       "      <th>...</th>\n",
       "      <td>...</td>\n",
       "      <td>...</td>\n",
       "      <td>...</td>\n",
       "    </tr>\n",
       "    <tr>\n",
       "      <th>62</th>\n",
       "      <td>как закрыть физкультуру?</td>\n",
       "      <td>Выбор спортивных секций по Физической культуре...</td>\n",
       "      <td>Выбор спортивных секций по Физической культуре...</td>\n",
       "    </tr>\n",
       "    <tr>\n",
       "      <th>63</th>\n",
       "      <td>когда можно поменять элективы?</td>\n",
       "      <td>Прежде, чем выбрать элективы, рекомендуем почи...</td>\n",
       "      <td>Прежде, чем выбрать элективы, рекомендуем почи...</td>\n",
       "    </tr>\n",
       "    <tr>\n",
       "      <th>64</th>\n",
       "      <td>как получить справку о месте учёбы?</td>\n",
       "      <td>Студенты очной формы обучения оформляют справк...</td>\n",
       "      <td>программа / специализация _ _ _ _ _ _ _ _ _ _ ...</td>\n",
       "    </tr>\n",
       "    <tr>\n",
       "      <th>65</th>\n",
       "      <td>Как можно получать баллы за физру?</td>\n",
       "      <td>Выбор спортивных секций по Физической культуре...</td>\n",
       "      <td>Об утверждении Регламента проведения промежуто...</td>\n",
       "    </tr>\n",
       "    <tr>\n",
       "      <th>66</th>\n",
       "      <td>Где взять справку для военкомата?</td>\n",
       "      <td>Вам необходимо обратиться в Отдел мобилизацион...</td>\n",
       "      <td>Сформировать справку - вызов Вы можете самосто...</td>\n",
       "    </tr>\n",
       "  </tbody>\n",
       "</table>\n",
       "<p>67 rows × 3 columns</p>\n",
       "</div>"
      ],
      "text/plain": [
       "                                             question  \\\n",
       "0       Я потерял магнитную карту. К кому обратиться?   \n",
       "1    Даты подачи заявления для восстановления на очку   \n",
       "2                     Что делать при потере проходки?   \n",
       "3     Я хожу в фитнес-клуб. Как заменить физкультуру?   \n",
       "4   Когда мне выдадут студенческий билет после пер...   \n",
       "..                                                ...   \n",
       "62                           как закрыть физкультуру?   \n",
       "63                     когда можно поменять элективы?   \n",
       "64                как получить справку о месте учёбы?   \n",
       "65                 Как можно получать баллы за физру?   \n",
       "66                  Где взять справку для военкомата?   \n",
       "\n",
       "                                             document  \\\n",
       "0   Для восстановления студенческого билета Вам не...   \n",
       "1   Заявления на восстановление в Университет по о...   \n",
       "2   Для восстановления студенческого билета Вам не...   \n",
       "3   Выбор спортивных секций по Физической культуре...   \n",
       "4   1. Подать заявление о переводе можно лично, об...   \n",
       "..                                                ...   \n",
       "62  Выбор спортивных секций по Физической культуре...   \n",
       "63  Прежде, чем выбрать элективы, рекомендуем почи...   \n",
       "64  Студенты очной формы обучения оформляют справк...   \n",
       "65  Выбор спортивных секций по Физической культуре...   \n",
       "66  Вам необходимо обратиться в Отдел мобилизацион...   \n",
       "\n",
       "                                                 bm25  \n",
       "0   Для восстановления студенческого билета Вам не...  \n",
       "1   Заявление на академический отпуск подается чер...  \n",
       "2   Для восстановления студенческого билета Вам не...  \n",
       "3   Выбор спортивных секций по Физической культуре...  \n",
       "4   Подать заявление на отчисление переводом можно...  \n",
       "..                                                ...  \n",
       "62  Выбор спортивных секций по Физической культуре...  \n",
       "63  Прежде, чем выбрать элективы, рекомендуем почи...  \n",
       "64  программа / специализация _ _ _ _ _ _ _ _ _ _ ...  \n",
       "65  Об утверждении Регламента проведения промежуто...  \n",
       "66  Сформировать справку - вызов Вы можете самосто...  \n",
       "\n",
       "[67 rows x 3 columns]"
      ]
     },
     "execution_count": 54,
     "metadata": {},
     "output_type": "execute_result"
    }
   ],
   "source": [
    "# test_questions[\"CQL\"] = test_questions[\"question\"].apply(get_document_content)\n",
    "# test_questions[\"tfidf\"] = test_questions[\"question\"].apply(answer_tfidf)\n",
    "# test_questions[\"doc2vec\"] = test_questions[\"question\"].apply(answer_doc2vec)\n",
    "# test_questions[\"rubert\"] = test_questions[\"question\"].apply(answer_rubert)\n",
    "# test_questions[\"rusbert\"] = test_questions[\"question\"].apply(answer_rusbert)\n",
    "# test_questions[\"gigachatembeddings\"] = test_questions[\"question\"].apply(answer_gigachat_embeddings)\n",
    "test_questions[\"bm25\"] = test_questions[\"question\"].apply(answer_bm25)\n",
    "test_questions"
   ]
  },
  {
   "cell_type": "markdown",
   "id": "97effbaf",
   "metadata": {},
   "source": [
    "### Выбор лучшего алгоритма"
   ]
  },
  {
   "cell_type": "markdown",
   "id": "5b8f1f73",
   "metadata": {},
   "source": [
    "#### Accuracy"
   ]
  },
  {
   "cell_type": "code",
   "execution_count": 40,
   "id": "be5829d2",
   "metadata": {},
   "outputs": [
    {
     "data": {
      "text/html": [
       "<div>\n",
       "<style scoped>\n",
       "    .dataframe tbody tr th:only-of-type {\n",
       "        vertical-align: middle;\n",
       "    }\n",
       "\n",
       "    .dataframe tbody tr th {\n",
       "        vertical-align: top;\n",
       "    }\n",
       "\n",
       "    .dataframe thead th {\n",
       "        text-align: right;\n",
       "    }\n",
       "</style>\n",
       "<table border=\"1\" class=\"dataframe\">\n",
       "  <thead>\n",
       "    <tr style=\"text-align: right;\">\n",
       "      <th></th>\n",
       "      <th>question</th>\n",
       "      <th>document</th>\n",
       "      <th>CQL</th>\n",
       "      <th>tfidf</th>\n",
       "      <th>doc2vec</th>\n",
       "      <th>rubert</th>\n",
       "      <th>rusbert</th>\n",
       "      <th>gigachatembeddings</th>\n",
       "    </tr>\n",
       "  </thead>\n",
       "  <tbody>\n",
       "    <tr>\n",
       "      <th>0</th>\n",
       "      <td>Я потерял магнитную карту. К кому обратиться?</td>\n",
       "      <td>Для восстановления студенческого билета Вам не...</td>\n",
       "      <td>Для восстановления студенческого билета Вам не...</td>\n",
       "      <td>Для восстановления студенческого билета Вам не...</td>\n",
       "      <td>Заявление подается через личный кабинет на пор...</td>\n",
       "      <td>Для восстановления студенческого билета Вам не...</td>\n",
       "      <td>Для восстановления студенческого билета Вам не...</td>\n",
       "      <td>Для восстановления студенческого билета Вам не...</td>\n",
       "    </tr>\n",
       "    <tr>\n",
       "      <th>1</th>\n",
       "      <td>Даты подачи заявления для восстановления на очку</td>\n",
       "      <td>Заявления на восстановление в Университет по о...</td>\n",
       "      <td>None</td>\n",
       "      <td>При равном числе голосов председатель аттестац...</td>\n",
       "      <td>1. Подать заявление о переводе можно лично, об...</td>\n",
       "      <td>Заявление подается через личный кабинет на пор...</td>\n",
       "      <td>При восстановлении на договорное место, после ...</td>\n",
       "      <td>Заявления на восстановление в Университет по о...</td>\n",
       "    </tr>\n",
       "    <tr>\n",
       "      <th>2</th>\n",
       "      <td>Что делать при потере проходки?</td>\n",
       "      <td>Для восстановления студенческого билета Вам не...</td>\n",
       "      <td>Для восстановления студенческого билета Вам не...</td>\n",
       "      <td>Для восстановления студенческого билета Вам не...</td>\n",
       "      <td>Заявление подается через личный кабинет на пор...</td>\n",
       "      <td>Для рассмотрения возможности продления академи...</td>\n",
       "      <td>Вам необходимо обратиться в Отдел мобилизацион...</td>\n",
       "      <td>Для восстановления студенческого билета Вам не...</td>\n",
       "    </tr>\n",
       "    <tr>\n",
       "      <th>3</th>\n",
       "      <td>Я хожу в фитнес-клуб. Как заменить физкультуру?</td>\n",
       "      <td>Выбор спортивных секций по Физической культуре...</td>\n",
       "      <td>None</td>\n",
       "      <td>Выбор спортивных секций по Физической культуре...</td>\n",
       "      <td>Заявление подается через личный кабинет на пор...</td>\n",
       "      <td>Прежде, чем выбрать элективы, рекомендуем почи...</td>\n",
       "      <td>Выбор спортивных секций по Физической культуре...</td>\n",
       "      <td>Прежде, чем выбрать элективы, рекомендуем почи...</td>\n",
       "    </tr>\n",
       "    <tr>\n",
       "      <th>4</th>\n",
       "      <td>Когда мне выдадут студенческий билет после пер...</td>\n",
       "      <td>1. Подать заявление о переводе можно лично, об...</td>\n",
       "      <td>Документ подписан простой электронной подписью...</td>\n",
       "      <td>Подать заявление на отчисление переводом можно...</td>\n",
       "      <td>Заявление подается через личный кабинет на пор...</td>\n",
       "      <td>Заявление на выход из отпуска подается не позд...</td>\n",
       "      <td>При восстановлении на договорное место, после ...</td>\n",
       "      <td>Подать заявление на отчисление переводом можно...</td>\n",
       "    </tr>\n",
       "    <tr>\n",
       "      <th>...</th>\n",
       "      <td>...</td>\n",
       "      <td>...</td>\n",
       "      <td>...</td>\n",
       "      <td>...</td>\n",
       "      <td>...</td>\n",
       "      <td>...</td>\n",
       "      <td>...</td>\n",
       "      <td>...</td>\n",
       "    </tr>\n",
       "    <tr>\n",
       "      <th>62</th>\n",
       "      <td>как закрыть физкультуру?</td>\n",
       "      <td>Выбор спортивных секций по Физической культуре...</td>\n",
       "      <td>Выбор спортивных секций по Физической культуре...</td>\n",
       "      <td>Выбор спортивных секций по Физической культуре...</td>\n",
       "      <td>Заявление подается через личный кабинет на пор...</td>\n",
       "      <td>Пакет документов для восстановления вам необхо...</td>\n",
       "      <td>Вам необходимо обратиться в Отдел мобилизацион...</td>\n",
       "      <td>Вам необходимо обратиться в Отдел мобилизацион...</td>\n",
       "    </tr>\n",
       "    <tr>\n",
       "      <th>63</th>\n",
       "      <td>когда можно поменять элективы?</td>\n",
       "      <td>Прежде, чем выбрать элективы, рекомендуем почи...</td>\n",
       "      <td>Прежде, чем выбрать элективы, рекомендуем почи...</td>\n",
       "      <td>Прежде, чем выбрать элективы, рекомендуем почи...</td>\n",
       "      <td>Заявление подается через личный кабинет на пор...</td>\n",
       "      <td>Прежде, чем выбрать элективы, рекомендуем почи...</td>\n",
       "      <td>Прежде, чем выбрать элективы, рекомендуем почи...</td>\n",
       "      <td>Прежде, чем выбрать элективы, рекомендуем почи...</td>\n",
       "    </tr>\n",
       "    <tr>\n",
       "      <th>64</th>\n",
       "      <td>как получить справку о месте учёбы?</td>\n",
       "      <td>Студенты очной формы обучения оформляют справк...</td>\n",
       "      <td>None</td>\n",
       "      <td>Для оформления академической справки ( справки...</td>\n",
       "      <td>_ _ _ _ _ _ _ _ _ _ _ _ _ _ _ _ ( ФИО указать ...</td>\n",
       "      <td>Для рассмотрения возможности продления академи...</td>\n",
       "      <td>Подать заявление на отчисление переводом можно...</td>\n",
       "      <td>Заявление подается через личный кабинет на пор...</td>\n",
       "    </tr>\n",
       "    <tr>\n",
       "      <th>65</th>\n",
       "      <td>Как можно получать баллы за физру?</td>\n",
       "      <td>Выбор спортивных секций по Физической культуре...</td>\n",
       "      <td>None</td>\n",
       "      <td>Об утверждении Регламента проведения промежуто...</td>\n",
       "      <td>Об утверждении Регламента проведения промежуто...</td>\n",
       "      <td>Для рассмотрения возможности продления академи...</td>\n",
       "      <td>Сформировать справку - вызов Вы можете самосто...</td>\n",
       "      <td>Студенты очной формы обучения оформляют справк...</td>\n",
       "    </tr>\n",
       "    <tr>\n",
       "      <th>66</th>\n",
       "      <td>Где взять справку для военкомата?</td>\n",
       "      <td>Вам необходимо обратиться в Отдел мобилизацион...</td>\n",
       "      <td>Вам необходимо обратиться в Отдел мобилизацион...</td>\n",
       "      <td>Для оформления академической справки ( справки...</td>\n",
       "      <td>Студенты очной формы обучения оформляют справк...</td>\n",
       "      <td>Для рассмотрения возможности продления академи...</td>\n",
       "      <td>Для оформления академической справки ( справки...</td>\n",
       "      <td>Заявление подается через личный кабинет на пор...</td>\n",
       "    </tr>\n",
       "  </tbody>\n",
       "</table>\n",
       "<p>67 rows × 8 columns</p>\n",
       "</div>"
      ],
      "text/plain": [
       "                                             question  \\\n",
       "0       Я потерял магнитную карту. К кому обратиться?   \n",
       "1    Даты подачи заявления для восстановления на очку   \n",
       "2                     Что делать при потере проходки?   \n",
       "3     Я хожу в фитнес-клуб. Как заменить физкультуру?   \n",
       "4   Когда мне выдадут студенческий билет после пер...   \n",
       "..                                                ...   \n",
       "62                           как закрыть физкультуру?   \n",
       "63                     когда можно поменять элективы?   \n",
       "64                как получить справку о месте учёбы?   \n",
       "65                 Как можно получать баллы за физру?   \n",
       "66                  Где взять справку для военкомата?   \n",
       "\n",
       "                                             document  \\\n",
       "0   Для восстановления студенческого билета Вам не...   \n",
       "1   Заявления на восстановление в Университет по о...   \n",
       "2   Для восстановления студенческого билета Вам не...   \n",
       "3   Выбор спортивных секций по Физической культуре...   \n",
       "4   1. Подать заявление о переводе можно лично, об...   \n",
       "..                                                ...   \n",
       "62  Выбор спортивных секций по Физической культуре...   \n",
       "63  Прежде, чем выбрать элективы, рекомендуем почи...   \n",
       "64  Студенты очной формы обучения оформляют справк...   \n",
       "65  Выбор спортивных секций по Физической культуре...   \n",
       "66  Вам необходимо обратиться в Отдел мобилизацион...   \n",
       "\n",
       "                                                  CQL  \\\n",
       "0   Для восстановления студенческого билета Вам не...   \n",
       "1                                                None   \n",
       "2   Для восстановления студенческого билета Вам не...   \n",
       "3                                                None   \n",
       "4   Документ подписан простой электронной подписью...   \n",
       "..                                                ...   \n",
       "62  Выбор спортивных секций по Физической культуре...   \n",
       "63  Прежде, чем выбрать элективы, рекомендуем почи...   \n",
       "64                                               None   \n",
       "65                                               None   \n",
       "66  Вам необходимо обратиться в Отдел мобилизацион...   \n",
       "\n",
       "                                                tfidf  \\\n",
       "0   Для восстановления студенческого билета Вам не...   \n",
       "1   При равном числе голосов председатель аттестац...   \n",
       "2   Для восстановления студенческого билета Вам не...   \n",
       "3   Выбор спортивных секций по Физической культуре...   \n",
       "4   Подать заявление на отчисление переводом можно...   \n",
       "..                                                ...   \n",
       "62  Выбор спортивных секций по Физической культуре...   \n",
       "63  Прежде, чем выбрать элективы, рекомендуем почи...   \n",
       "64  Для оформления академической справки ( справки...   \n",
       "65  Об утверждении Регламента проведения промежуто...   \n",
       "66  Для оформления академической справки ( справки...   \n",
       "\n",
       "                                              doc2vec  \\\n",
       "0   Заявление подается через личный кабинет на пор...   \n",
       "1   1. Подать заявление о переводе можно лично, об...   \n",
       "2   Заявление подается через личный кабинет на пор...   \n",
       "3   Заявление подается через личный кабинет на пор...   \n",
       "4   Заявление подается через личный кабинет на пор...   \n",
       "..                                                ...   \n",
       "62  Заявление подается через личный кабинет на пор...   \n",
       "63  Заявление подается через личный кабинет на пор...   \n",
       "64  _ _ _ _ _ _ _ _ _ _ _ _ _ _ _ _ ( ФИО указать ...   \n",
       "65  Об утверждении Регламента проведения промежуто...   \n",
       "66  Студенты очной формы обучения оформляют справк...   \n",
       "\n",
       "                                               rubert  \\\n",
       "0   Для восстановления студенческого билета Вам не...   \n",
       "1   Заявление подается через личный кабинет на пор...   \n",
       "2   Для рассмотрения возможности продления академи...   \n",
       "3   Прежде, чем выбрать элективы, рекомендуем почи...   \n",
       "4   Заявление на выход из отпуска подается не позд...   \n",
       "..                                                ...   \n",
       "62  Пакет документов для восстановления вам необхо...   \n",
       "63  Прежде, чем выбрать элективы, рекомендуем почи...   \n",
       "64  Для рассмотрения возможности продления академи...   \n",
       "65  Для рассмотрения возможности продления академи...   \n",
       "66  Для рассмотрения возможности продления академи...   \n",
       "\n",
       "                                              rusbert  \\\n",
       "0   Для восстановления студенческого билета Вам не...   \n",
       "1   При восстановлении на договорное место, после ...   \n",
       "2   Вам необходимо обратиться в Отдел мобилизацион...   \n",
       "3   Выбор спортивных секций по Физической культуре...   \n",
       "4   При восстановлении на договорное место, после ...   \n",
       "..                                                ...   \n",
       "62  Вам необходимо обратиться в Отдел мобилизацион...   \n",
       "63  Прежде, чем выбрать элективы, рекомендуем почи...   \n",
       "64  Подать заявление на отчисление переводом можно...   \n",
       "65  Сформировать справку - вызов Вы можете самосто...   \n",
       "66  Для оформления академической справки ( справки...   \n",
       "\n",
       "                                   gigachatembeddings  \n",
       "0   Для восстановления студенческого билета Вам не...  \n",
       "1   Заявления на восстановление в Университет по о...  \n",
       "2   Для восстановления студенческого билета Вам не...  \n",
       "3   Прежде, чем выбрать элективы, рекомендуем почи...  \n",
       "4   Подать заявление на отчисление переводом можно...  \n",
       "..                                                ...  \n",
       "62  Вам необходимо обратиться в Отдел мобилизацион...  \n",
       "63  Прежде, чем выбрать элективы, рекомендуем почи...  \n",
       "64  Заявление подается через личный кабинет на пор...  \n",
       "65  Студенты очной формы обучения оформляют справк...  \n",
       "66  Заявление подается через личный кабинет на пор...  \n",
       "\n",
       "[67 rows x 8 columns]"
      ]
     },
     "execution_count": 40,
     "metadata": {},
     "output_type": "execute_result"
    }
   ],
   "source": [
    "from langchain.text_splitter import SentenceTransformersTokenTextSplitter\n",
    "\n",
    "text_splitter = SentenceTransformersTokenTextSplitter(model_name=\"saved_models/rubert-tiny2-wikiutmn\")   \n",
    "test_questions[\"CQL\"] = test_questions[\"CQL\"].apply(lambda x: text_splitter.split_text(x)[0] if x is not None else None)\n",
    "test_questions"
   ]
  },
  {
   "cell_type": "code",
   "execution_count": 55,
   "id": "057b78e0",
   "metadata": {},
   "outputs": [
    {
     "name": "stdout",
     "output_type": "stream",
     "text": [
      "document 1.0\n",
      "bm25 0.23880597014925373\n"
     ]
    }
   ],
   "source": [
    "for column in test_questions.columns[1:]:\n",
    "    print(column, sum(test_questions[column].apply(lambda x: \"\" if x is None else x) == test_questions.document) / len(test_questions.document))"
   ]
  },
  {
   "cell_type": "markdown",
   "id": "d6cf90ac",
   "metadata": {},
   "source": [
    "#### ROUGE-L"
   ]
  },
  {
   "cell_type": "code",
   "execution_count": 34,
   "id": "25c02817",
   "metadata": {},
   "outputs": [
    {
     "name": "stdout",
     "output_type": "stream",
     "text": [
      "Note: you may need to restart the kernel to use updated packages.\n"
     ]
    }
   ],
   "source": [
    "%pip install rouge --quiet"
   ]
  },
  {
   "cell_type": "code",
   "execution_count": 56,
   "id": "2da8a0c7",
   "metadata": {},
   "outputs": [
    {
     "name": "stdout",
     "output_type": "stream",
     "text": [
      "document {'r': 1.0, 'p': 1.0, 'f': 0.9999999950000011}\n",
      "bm25 {'r': 0.588169180184679, 'p': 0.4324943744842278, 'f': 0.45521461315817596}\n"
     ]
    }
   ],
   "source": [
    "from rouge import Rouge\n",
    "rouge = Rouge()\n",
    "\n",
    "for column in test_questions.columns[1:]:\n",
    "    print(column, rouge.get_scores(test_questions[column].apply(lambda x: \"-\" if x is None else x), test_questions[\"document\"], avg=True)['rouge-l'])"
   ]
  },
  {
   "cell_type": "markdown",
   "id": "9e6d1cf3",
   "metadata": {},
   "source": [
    "## SBERT Fine Tuning\n",
    "\n",
    " * https://www.sbert.net/docs/training/overview.html\n",
    " * https://huggingface.co/blog/how-to-train-sentence-transformers"
   ]
  },
  {
   "cell_type": "code",
   "execution_count": 11,
   "id": "af5ad14d",
   "metadata": {},
   "outputs": [],
   "source": [
    "from sentence_transformers import SentenceTransformer"
   ]
  },
  {
   "cell_type": "markdown",
   "id": "aa6b245a",
   "metadata": {
    "jp-MarkdownHeadingCollapsed": true
   },
   "source": [
    "### Генерация обучающей выборки через GigaChat"
   ]
  },
  {
   "cell_type": "code",
   "execution_count": 44,
   "id": "0e464c87",
   "metadata": {},
   "outputs": [
    {
     "data": {
      "text/plain": [
       "52"
      ]
     },
     "execution_count": 44,
     "metadata": {},
     "output_type": "execute_result"
    }
   ],
   "source": [
    "with Session(engine) as session:\n",
    "   db_documents = [doc.text for doc in session.scalars(select(Chunk).order_by(Chunk.id)).all()]\n",
    "len(db_documents)"
   ]
  },
  {
   "cell_type": "code",
   "execution_count": 45,
   "id": "d3f86e5e",
   "metadata": {},
   "outputs": [],
   "source": [
    "from langchain.prompts import PromptTemplate\n",
    "\n",
    "prompt_template = \"\"\"\n",
    "Сделай глубокий вдох и действуй как студент. Составь 7 разнообразных вопросов к документу в тройных кавычках. Используй разговорный стиль речи и студенческую лексику.\n",
    "\n",
    "\\\"\\\"\\\"\n",
    "{content}\n",
    "\\\"\\\"\\\"\n",
    "\n",
    "Вопросы:\n",
    "\"\"\"\n",
    "\n",
    "prompt = PromptTemplate.from_template(prompt_template)"
   ]
  },
  {
   "cell_type": "code",
   "execution_count": 46,
   "id": "74fbc907",
   "metadata": {},
   "outputs": [
    {
     "data": {
      "text/plain": [
       "['1. Что такое справка-вызов?',\n",
       " '  ',\n",
       " '2. Как можно сформировать справку-вызов?',\n",
       " '  ',\n",
       " '3. Какую информацию нужно предоставить после присвоения заявке статуса \"Выполнено\"?',\n",
       " '  ',\n",
       " '4. Какие требования предъявляются к студентам для получения справки-вызова?',\n",
       " '  ',\n",
       " '5. Какие документы регулируют процесс оформления справки-вызова?',\n",
       " '  ',\n",
       " '6. Каковы последствия отсутствия справки-вызова для студентов с академической задолженностью?',\n",
       " '  ',\n",
       " '7. Каким образом можно связаться с университетом для получения дополнительной информации о справке-вызове?']"
      ]
     },
     "execution_count": 46,
     "metadata": {},
     "output_type": "execute_result"
    }
   ],
   "source": [
    "from langchain.llms import GigaChat\n",
    "giga = GigaChat(credentials=gigachat_token, verify_ssl_certs=False)\n",
    "giga_chain = prompt | giga\n",
    "giga_chain.invoke({\"content\": db_documents[0]}).strip().split(\"\\n\")"
   ]
  },
  {
   "cell_type": "code",
   "execution_count": 47,
   "id": "d5a8f1e7",
   "metadata": {},
   "outputs": [
    {
     "name": "stdout",
     "output_type": "stream",
     "text": [
      "['1. Что такое справка-вызов?', '  ', '2. Как можно сформировать справку-вызов?', '  ', '3. Какую информацию нужно предоставить после присвоения заявке статуса \"Выполнено\"?', '  ', '4. Какие требования предъявляются к студентам для получения справки-вызова?', '  ', '5. Какие документы регулируют процесс оформления справки-вызова?', '  ', '6. Каковы последствия отсутствия справки-вызова для студентов с академической задолженностью?', '  ', '7. Каким образом можно связаться с университетом для получения дополнительной информации о справке-вызове?']\n",
      "['1. \"Какие документы мне нужны для обращения в Отдел мобилизационной подготовки?\"', '  ', '  2. \"Какие услуги предоставляет Отдел мобилизационной подготовки?\"', '   ', '  3. \"Какие требования предъявляются к документам, которые я должен предоставить?\"', '   ', '  4. \"Какие сроки рассмотрения документов в Отделе мобилизационной подготовки?\"', '   ', '  5. \"Какие контактные данные у Отдела мобилизационной подготовки?\"', '   ', '  6. \"Какие процедуры необходимо пройти для получения услуг в Отделе мобилизационной подготовки?\"', '   ', '  7. \"Какие преимущества предоставляет Отдел мобилизационной подготовки своим клиентам?\"']\n",
      "['1. Как оформить справку о подтверждении обучения?', '2. Где можно получить справку о подтверждении обучения?', '3. Какие документы нужны для оформления справки о подтверждении обучения?', '4. Что делать, если нет магнитной карты?', '5. Как подать заявление на восстановление магнитной карты?', '6. Как связаться с Единым деканатом для получения справки об обучении?', '7. Какую информацию содержит справка об обучении для студентов заочной и очно-заочной форм обучения?']\n",
      "['1. Что такое академическая справка?', '   - \"Академическая справка - это документ, подтверждающий период обучения студента в университете.\"', '', '2. Где можно оформить академическую справку?', '   - \"Оформить академическую справку можно в \"Едином деканате\" по адресу ул. Семакова, д. 18 (3 этаж, холл) или на электронную почту ed @ utmn. ru.\"', '', '3. Каков срок подготовки академической справки?', '   - \"Академическая справка готовится в течение 5 (пяти) рабочих дней.\"', '', '4. Какие документы необходимы для оформления академической справки?', '   - \"Для оформления академической справки необходимо подать заявку в \"Единый деканат\" по указанному адресу или на электронную почту.\"', '', '5. Каковы требования к оформлению академической справки?', '   - \"Академическая справка должна быть оформлена в соответствии с установленными требованиями.\"', '', '6. Какие данные должны быть указаны в академической справке?', '   - \"В академической справке должны быть указаны данные о периоде обучения студента в университете.\"', '', '7. Какие преимущества имеет академическая справка?', '   - \"Академическая справка предоставляет студенту возможность подтвердить свой период обучения и получить необходимые документы для дальнейшего образования или трудоустройства.\"']\n",
      "['1. Как мне получить справку о доходах?', '  2. Где находится Сервисный центр бухгалтерии?', '  3. Как связаться с Сервисным центром бухгалтерии?', '  4. Какие документы нужны для получения справки о доходах?', '  5. Каковы часы работы Сервисного центра бухгалтерии?', '  6. Есть ли возможность получить справку о доходах в выходные дни?', '  7. Какова процедура получения справки о доходах?']\n",
      "['1. Какие сроки подачи заявлений на восстановление в Университет на осенний семестр?', '2. Какие сроки подачи заявлений на восстановление в Университет на весенний семестр?', '3. Какие сроки подачи заявлений на восстановление в Университет на первый семестр первого курса?', '4. Что происходит с заявлениями на восстановление, если с момента отчисления прошло более 5 лет?', '5. Какие документы необходимо предоставить вместе с заявлением на восстановление?', '6. Каковы требования для восстановления на первый семестр первого курса?', '7. Какие преимущества имеет восстановление в Университете по сравнению с поступлением на первый курс?']\n",
      "['1. Каковы сроки подачи заявления на восстановление в ТюмГУ?', '2. Какие документы необходимо предоставить вместе с заявлением на восстановление?', '3. Каковы условия для восстановления на 1 курс 1 семестра?', '4. Какова процедура подачи заявления на восстановление?', '5. Какие требования предъявляются к студентам, которые хотят восстановиться после отчисления?', '6. Какие документы подтверждают право на восстановление в ТюмГУ?', '7. Какие ограничения существуют для студентов, желающих восстановиться после отчисления?']\n",
      "['1. Каковы сроки повторного прохождения государственной итоговой аттестации?', '2. Какие ограничения существуют при повторном прохождении государственной итоговой аттестации?', '3. Как долго можно ждать повторной попытки?', '4. Можно ли подать заявление на восстановление для прохождения государственной итоговой аттестации позже установленного срока?', '5. Каковы требования к заявлению на восстановление для прохождения государственной итоговой аттестации?', '6. Какие документы необходимо предоставить вместе с заявлением на восстановление для прохождения государственной итоговой аттестации?', '7. Каковы сроки подачи заявления на восстановление для прохождения государственной итоговой аттестации?']\n",
      "['1. Каковы сроки повторного прохождения государственной итоговой аттестации?', '2. Какие ограничения существуют при повторном прохождении государственной итоговой аттестации?', '3. Как долго можно ждать повторной попытки?', '4. Можно ли подать заявление на восстановление для прохождения государственной итоговой аттестации позже установленного срока?', '5. Каковы требования к заявлению на восстановление для прохождения государственной итоговой аттестации?', '6. Какие документы необходимо предоставить вместе с заявлением на восстановление для прохождения государственной итоговой аттестации?', '7. Каковы сроки подачи заявления на восстановление для прохождения государственной итоговой аттестации?']\n",
      "['1. Какие документы необходимы для восстановления в университете?', '2. Где можно найти заявление на восстановление?', '3. Как правильно заполнить заявление на восстановление?', '4. Какие документы подтверждают смену фамилии?', '5. Можно ли перезачесть оценку \"зачтено\" на \"удовлетворительно\"?', '6. Каковы требования к переводу паспорта иностранного гражданина?', '7. Куда отправлять документы для восстановления?']\n",
      "['1. Что такое \"восстановление лица\"?', '  ', '  2. Какие условия должны быть соблюдены для осуществления восстановления?', '   ', '  3. Каким образом происходит восстановление?', '   ', '  4. Какие категории лиц могут быть восстановлены?', '   ', '  5. Как происходит последующее восстановление?', '   ', '  6. Какие документы необходимы для восстановления?', '   ', '  7. Каковы последствия отказа от восстановления?']\n",
      "['1. Что нужно сделать после рассмотрения заявления аттестационной комиссией для восстановления на договорное место?', '2. Какую роль играет договор при восстановлении на договорное место?', '3. Какие последствия могут возникнуть в случае несвоевременной оплаты?', '4. Как долго рассматривается заявление аттестационной комиссией?', '5. Какие документы передаются для оформления приказа после заключения договора и оплаты?', '6. Каковы сроки оплаты для восстановления на договорное место?', '7. Какие действия может предпринять Университет в случае отказа от оплаты?']\n",
      "['1. Каковы основания для отчисления обучающихся из Университета?', '2. Какие документы необходимы для отчисления обучающегося по собственной инициативе?', '3. Какие основания могут привести к отчислению обучающегося по инициативе Университета?', '4. Как происходит отчисление обучающегося в связи с получением образования?', '5. Какие документы необходимы для отчисления обучающегося по инициативе Университета?', '6. Какие меры дисциплинарного взыскания могут быть применены к обучающемуся, достигшему возраста пятнадцати лет?', '7. Какие документы необходимы для отчисления обучающегося по инициативе родителей (законных представителей)?']\n",
      "['1. Какие основания могут привести к отчислению обучающегося из университета?', '2. Каковы последствия отказа или уклонения обучающегося от предоставления письменного объяснения?', '3. Какие меры дисциплинарного взыскания не применяются к обучающимся во время болезни, академического отпуска, отпуска по беременности и родам или отпуска по уходу за ребенком до достижения им возраста трех лет?', '4. Какие меры дисциплинарного взыскания могут быть применены к несовершеннолетнему обучающемуся, достигшему возраста пятнадцати лет?', '5. Какие обстоятельства могут стать основанием для отчисления обучающегося по обстоятельствам, не зависящим от воли обучающегося или родителей (законных представителей) несовершеннолетнего обучающегося?', '6. Как оформляется отчисление обучающегося из университета?', '7. Какие документы выдаются обучающемуся при отчислении?']\n",
      "['1. Каковы условия восстановления на обучение в университете?', '2. Как определяется количество вакантных мест для восстановления?', '3. Какие документы необходимо предоставить для восстановления?', '4. Когда принимаются заявления на восстановление?', '5. Какие формы обучения доступны для восстановления?', '6. Как рассматриваются документы о восстановлении аттестационной комиссией?', '7. Какие ограничения существуют при восстановлении на обучение?']\n",
      "['1. Каковы условия восстановления обучающихся?', '2. Какие документы необходимо оформить для работы аттестационной комиссии?', '3. Какие сроки установлены для заседаний аттестационной комиссии?', '4. Какие документы необходимо предоставить для восстановления на обучение по договору об оказании платных образовательных услуг?', '5. Какие сроки установлены для оплаты обучения и погашения финансовой задолженности перед университетом?', '6. Какие способы доводятся до обучающегося приказом о восстановлении?', '7. Какие документы высылаются обучающемуся после восстановления?']\n",
      "['1. Какая программа/специализация указана в документе?', '2. Какой тип финансирования обучения указан в документе?', '3. Какие варианты обучения доступны в данном документе?', '4. Какие условия необходимо выполнить для получения места по договору об оказании платных образовательных услуг?', '5. Какие документы необходимо заполнить при отчислении из университета?', '6. Какие данные необходимо указать в заявлении на восстановление?', '7. Какие формы обучения доступны в данном документе?']\n",
      "['1. Какие дисциплины были изучены ранее и указаны в учебной карточке/справке о периоде обучения?', '  ', '2. Согласен ли студент на переаттестацию этих дисциплин?', '  ', '3. Каковы требования ФГОС СПО в случае превышения норм объема программы по количеству зачетов/экзаменов за один учебный год?', '  ', '4. На какой курс будет восстановлен студент в случае превышения норм?', '  ', '5. К какой категории относится студент?', '  ', '6. Какие документы приложены к заявлению?', '  ', '7. Сколько вакантных мест имеется на данный момент?']\n",
      "['1. Какие документы необходимо приложить к заявлению на академический отпуск?', '2. В каких случаях заявление на отпуск не может быть подано?', '3. Какое решение принимается относительно предоставления отпуска?', '4. Какой срок установлен для принятия решения о предоставлении отпуска?', '5. Когда необходимо подать заявление на выход из академического отпуска?', '6. Где можно найти бланк заявления на выход из академического отпуска?', '7. Какие дни не считаются праздничными и/или нерабочими при определении даты подачи заявления и начала отпуска?']\n",
      "['1. Как подать заявление на отпуск по беременности и родам?', '2. Какие документы нужны для получения отпуска по беременности и родам?', '3. Какова продолжительность отпуска по беременности и родам?', '4. Как исчисляется продолжительность отпуска по беременности и родам?', '5. Как предоставляется отпуск по беременности и родам?', '6. Можно ли использовать часть отпуска до родов?', '7. Как узнать, какие документы необходимы для получения отпуска по беременности и родам?']\n",
      "['1. Что нужно сделать, чтобы подать заявление на отпуск?', '2. Какое основание необходимо для предоставления отпуска?', '3. Как долго может длиться отпуск?', '4. Можно ли изменить даты отпуска, указанные в заключении врачебной комиссии?', '5. Кто имеет право на получение отпуска?', '6. Какие документы нужны для подачи заявления на отпуск?', '7. Как долго рассматривается заявление на отпуск?']\n",
      "['1. Как подать заявление на отпуск по уходу за ребенком до достижения им возраста трех лет?', '2. Какие документы необходимо предоставить вместе с заявлением?', '3. Кто имеет право на получение отпуска по уходу за ребенком до достижения им возраста трех лет?', '4. Какой срок предоставляется для оформления отпуска по уходу за ребенком до достижения им возраста трех лет?', '5. Может ли отпуск по уходу за ребенком до достижения им возраста трех лет быть использован частично?', '6. Каковы условия предоставления отпуска по уходу за ребенком до достижения им возраста трех лет?', '7. Какие документы необходимо предоставить вместе с заявлением на отпуск по уходу за ребенком до достижения им возраста трех лет?']\n",
      "['1. Что нужно сделать, чтобы подать заявление на академический отпуск?', '2. Какие основания могут быть для принятия решения о предоставлении академического отпуска?', '3. Какая информация должна быть указана в повестке военного комиссариата?', '4. Когда начинается академический отпуск?', '5. Как долго предоставляется академический отпуск?', '6. Какие документы необходимо предоставить вместе с заявлением?', '7. Какие действия следует предпринять после окончания академического отпуска?']\n",
      "['1. Какая информация содержится в заявлении на выход из отпуска?', '2. Какие сроки подачи заявления на выход из отпуска?', '3. Как можно скачать бланк заявления на выход из отпуска?', '4. Какие документы необходимо предоставить при подаче заявления лично?', '5. Как можно направить подписанный бланк заявления на выход из отпуска?', '6. Какая электронная почта используется для направления подписанного бланка заявления на выход из отпуска?', '7. Какие еще способы подачи заявления на выход из отпуска существуют?']\n",
      "['1. Какие документы нужны для подачи заявления на выход из академического отпуска?', '2. Как можно подать заявление на выход из академического отпуска?', '3. Какие документы нужны для подачи заявления на предоставление нового академического отпуска?', '4. Как можно подать заявление на предоставление нового академического отпуска?', '5. Где можно найти бланки заявлений на выход из академического отпуска и на предоставление нового академического отпуска?', '6. Какая информация содержится на сайте университета относительно заявлений на выход из академического отпуска и на предоставление нового академического отпуска?', '7. Какие контактные данные указаны для связи с Единым деканатом?']\n",
      "['1. Какие формы обучения могут быть изменены через перевод?', '2. В какие сроки принимаются заявления о переводе для студентов очной и очно-заочной форм обучения?', '3. В какие сроки принимаются заявления о переводе для студентов заочной формы обучения?', '4. Какие документы необходимы для перевода?', '5. Где можно скачать бланки заявлений для перевода?', '6. Как можно подать заявление о переводе?', '7. Каковы условия перевода с одной формы обучения на другую?']\n",
      "['1. Как подать заявление на отчисление переводом?', '2. Какие документы нужно предоставить при подаче заявления на отчисление переводом?', '3. Каким образом можно подать заявление на отчисление переводом?', '4. Какие сроки подготовки приказа об отчислении переводом?', '5. Какие дисциплины, практики и научные исследования будут перезачтены или переаттестованы при переводе?', '6. Где находится Единый деканат для подачи заявления на отчисление переводом?', '7. Какие альтернативные способы подачи заявления на отчисление переводом существуют?']\n",
      "['1. Какие документы необходимы для подачи заявления о переводе? ', '2. Когда принимаются заявления о переводе по очной и очно-заочной формам обучения? ', '3. Каковы сроки подачи заявления о переводе по заочной форме обучения? ', '4. Какие документы необходимо предоставить в Единый деканат для получения решения ТюмГУ о возможности зачисления переводом? ', '5. Как долго ТюмГУ принимает решение о возможности зачисления переводом? ', '6. Какие документы необходимо представить для оформления отчисления в своей образовательной организации и подачи заявления на отчисление переводом в ТюмГУ? ', '7. Какие документы необходимо представить для оформления зачисления в ТюмГУ и какие сроки издания приказа о зачислении?']\n",
      "['1. Какие документы необходимы для подачи заявления на перевод в ТюмГУ?', '2. Что такое академическая справка и для чего она нужна?', '3. Как выглядит справка о подтверждении обучения и для кого она предназначена?', '4. Какую информацию содержит копия зачетной книжки и для кого она нужна?', '5. Какие документы нужны для копирования паспорта?', '6. Что такое лицензия и свидетельство об аккредитации ВУЗа и зачем они нужны?', '7. Что такое согласие на обработку персональных данных и где его можно найти?', '8. Что такое заявление на перезачет с оценки \"зачтено\" на \"удовлетворительно\" и для чего оно нужно?', '9. Что такое СНИЛС и для чего он нужен?', '10. Какие документы необходимы для зачисления в ТюмГУ?']\n",
      "['1. Какие способы оплаты обучения доступны?', '2. Как связаться с отделом платных образовательных услуг для получения информации о задолженности и реквизитах?', '3. Где находится отдел платных образовательных услуг и как туда добраться?', '4. Как оформить оплату за обучение материнским капиталом?', '5. Каковы условия предоставления рассрочки по оплате за обучение?', '6. Какие сроки оплаты по договору у студентов очной формы обучения и студентов заочной и очно-заочной формы обучения?', '7. Куда отправить заполненное заявление и подтверждающие документы для оформления рассрочки по оплате за обучение?']\n",
      "['1. Какие документы нужны для восстановления студенческого билета?', '2. Где находится Единый деканат и какие кабинеты там есть?', '3. Как продлить студенческий билет?', '4. Что делать, если потерял магнитную карту?', '5. Куда обращаться, если магнитная карта не работает?', '6. Какой адрес Центра информационных технологий?', '7. Какие документы нужно иметь при обращении в Центр информационных технологий?']\n",
      "['1. Какие документы нужны для заселения в общежитие?', '  ', '  2. Каковы условия проживания в общежитии?', '   ', '  3. Какие правила поведения необходимо соблюдать в общежитии?', '   ', '  4. Какие услуги предоставляются в общежитии?', '   ', '  5. Как можно связаться с Центром по работе с общежитиями?', '   ', '  6. Какие требования предъявляются к студентам при заселении в общежитие?', '   ', '  7. Какие меры безопасности предусмотрены в общежитии?']\n",
      "['1. Какие ограничения существуют при выборе спортивных секций по Физической культуре?', '2. Как проверить наличие конфликтов в расписании спортивных секций и своем расписании?', '3. Как можно изменить свой выбор спортивных секций?', '4. Что произойдет, если студент пропустит два занятия подряд?', '5. Когда открывается выбор Физической культуры и когда он закрывается?', '6. Какие возможности есть для получения баллов по дисциплине «Физическая культура»?', '7. Какие документы необходимо предоставить для посещения спортивного зала вместо практических занятий по физкультуре?']\n",
      "['1. Каковы правила перевода студентов из других организаций в университет?', '2. Какие документы необходимы для перевода студента из другой организации в университет?', '3. Какие ограничения существуют при переводе студента из другой организации в университет?', '4. Как проводится конкурсный отбор среди студентов, подавших заявления о переводе?', '5. Какие документы оформляются ответственным лицом при переводе студента внутри университета?', '6. Каковы сроки рассмотрения документов о переводе аттестационной комиссией?', '7. Каковы условия ликвидации академической разницы при переводе студента в университет?']\n",
      "['1. Какие дисциплины включаются в индивидуальный учебный план студента?', '2. Кто подписывает индивидуальный учебный план студента?', '3. Как информация о приказе о зачислении доводится до студента?', '4. Как студент может быть переведен в другую образовательную организацию?', '5. Какие документы должен предоставить студент при переводе в другую образовательную организацию?', '6. Как студент может быть отчислен в связи с переводом?', '7. Какие документы выдаются студенту, отчисленному в связи с переводом?']\n"
     ]
    },
    {
     "name": "stderr",
     "output_type": "stream",
     "text": [
      "Giga generation stopped with reason: blacklist\n"
     ]
    },
    {
     "name": "stdout",
     "output_type": "stream",
     "text": [
      "['Что-то в вашем вопросе меня смущает. Может, поговорим на другую тему?']\n"
     ]
    },
    {
     "name": "stderr",
     "output_type": "stream",
     "text": [
      "Giga generation stopped with reason: blacklist\n"
     ]
    },
    {
     "name": "stdout",
     "output_type": "stream",
     "text": [
      "['Как у нейросетевой языковой модели у меня не может быть настроения, но почему-то я совсем не хочу говорить на эту тему.']\n",
      "['1. Что требуется заполнить, если обучающийся планирует перевод на место, финансируемое за счет бюджетных ассигнований федерального бюджета?', '  ', '2. Что требуется заполнить, если лицо, претендующее на перевод, ранее обучалось на месте, финансируемом за счет бюджетных ассигнований федерального бюджета?', '', '3. Что требуется заполнить, если обучающийся планирует перевод на место, финансируемое за счет бюджетных ассигнований федерального бюджета?', '', '4. Что требуется заполнить, если обучающийся планирует перевод на место, финансируемое за счет бюджетных ассигнований федерального бюджета, и общая продолжительность обучения будет превышать более чем на один учебный год срок освоения образовательной программы?', '', '5. Что требуется заполнить, если обучающийся планирует перевод на место, финансируемое за счет бюджетных ассигнований федерального бюджета, и ранее обучался на месте, финансируемом за счет бюджетных ассигнований федерального бюджета?', '', '6. Что требуется заполнить, если обучающийся планирует перевод на место, финансируемое за счет бюджетных ассигнований федерального бюджета, и общая продолжительность обучения будет превышать более чем на один учебный год срок освоения образовательной программы?', '', '7. Что требуется заполнить, если обучающийся планирует перевод на место, финансируемое за счет бюджетных ассигнований федерального бюджета, и ранее обучался на месте, финансируемом за счет бюджетных ассигнований федерального бюджета?']\n",
      "['1. Кто обучался ранее в Институте?', '2. Какое направление подготовки/специальность?', '3. Какой профиль/магистерская программа/специализация?', '4. Какая форма обучения?', '5. Какой курс?', '6. На какую форму обучения просит перевестись?', '7. На какое направление подготовки/специальность просит перевестись?']\n",
      "['1. Какие отзывы можно найти на сервисе \"Отзывус\" для выбора элективов?', '2. Как можно написать свой опыт изучения элективных дисциплин на этом сервисе?', '3. Где можно найти информацию о том, как поменять электив?', '4. В какой срок необходимо отправить информацию о смене электива на корпоративную почту?', '5. Какие данные необходимо указать при отправке информации о смене электива на корпоративную почту?', '6. Можно ли изменить выбранные элективы после их выбора?', '7. Какую информацию следует учитывать при выборе элективов?']\n",
      "['1. Какие критерии оценивания практического задания по дисциплине \"Математика\"?', '2. Как определяется итоговая оценка по дисциплине \"Математика\"?', '3. Какие виды собеседований предусмотрены для студентов, пропустивших более 50% практических занятий?', '4. Какие темы входят в список вопросов для собеседования по дисциплине \"Математика\"?', '5. Какие способы аттестации предусмотрены для студентов, не прошедших первую и вторую повторные аттестации?', '6. Какие методы используются для оценки результатов зачета по дисциплине \"Математика\"?', '7. Какие критерии учитываются при оценке практического задания по дисциплине \"Математика\"?']\n",
      "['1. Каким образом проводится промежуточная аттестация по дисциплине \"Алгебра\"?', '2. Какие форматы промежуточной аттестации предусмотрены?', '3. Как оценивается экзамен по дисциплине \"Алгебра\"?', '4. Какие критерии используются для оценки экзаменационной работы?', '5. Какие возможности есть у обучающихся для улучшения результата?', '6. Как проходит тестирование при промежуточной аттестации?', '7. Как проходит экзамен в формате экзаменационного билета?', '8. Какие требования предъявляются к ответам на теоретический вопрос и практическому заданию?', '9. Как осуществляется проверка экзаменационной работы?', '10. Какие возможности есть у обучающихся в случае несогласия с оценкой?']\n",
      "['1. Каким образом проводится промежуточная аттестация по дисциплине \"Дискретная математика 2\"?', '2. Какие форматы аттестации предусмотрены?', '3. Какие требования предъявляются к студентам, которые пропустили более 50% практических занятий и/или имеют менее 20 баллов?', '4. Какие темы могут быть затронуты на собеседовании?', '5. Какие способы оценки используются для определения итоговой оценки по дисциплине?', '6. Как оценивается успешное прохождение собеседования?', '7. Какие примеры практических задач могут быть предложены на зачете?', '8. Какие вопросы могут быть заданы на собеседовании?']\n",
      "['1. Каким образом проводится промежуточная аттестация по дисциплине \"Основы программирования\"?', '2. Какие форматы проведения экзамена предусмотрены?', '3. Как оценивается результат текущего контроля по данной дисциплине?', '4. Что происходит, если обучающийся не согласен с результатом текущего контроля?', '5. Как подается апелляция в случае несогласия с оценкой?', '6. Какое количество заданий необходимо правильно решить для получения оценки \"отлично\" на экзамене?', '7. Какой способ используется для определения итоговой оценки по дисциплине \"Основы программирования\"?', '8. Каким образом преподаватель вносит результаты зачета в информационную систему \"Модеус\"?', '9. В течение какого времени оценки по дисциплине \"Основы программирования\" выставляются в информационной системе \"Модеус\"?', '10. Какие форматы проведения повторной аттестации предусмотрены?']\n",
      "['1. Какие треки предлагаются для обучения спортивному программированию?', '   Ответ: Треки \"Спортивное программирование\" и \"Капитаны\".', '', '2. Какие модули проходят студенты в рамках трека \"Капитаны\"?', '   Ответ: Студенты проходят различные модули, такие как исследовательский модуль, MVP, быстрые деньги, бизнес-идея, Start Up.', '', '3. Какие базовые естественнонаучные дисциплины предлагаются в рамках трека \"Школа естественных наук\"?', '   Ответ: Базовые естественнонаучные дисциплины включают в себя введение в биологию, физику, землеведение, механику и электромагнетизм, неорганическую химию с практикумом, основы ботаники, зоологии, биохимии и цитологии, учение о литосфере с основами топографии.', '', '4. Сколько студентов обучается на каждом из треков?', '   Ответ: На треке \"Спортивное программирование\" обучается 57 студентов, на треке \"Капитаны\" - 80 студентов, на треке \"Школа естественных наук\" - 146 студентов, на треке \"Интеграция\" - 78 студентов.', '', '5. Какие курсы входят в состав аналитического трека?', '   Ответ: В состав аналитического трека входят 10 курсов в формате МООК из 44 областей знаний и 51 профориентирующий курс.', '', '6. Какие ресурсы доступны студентам для обучения спортивному программированию?', '   Ответ: Студентам доступны различные ресурсы, включая курсы, модули, практикумы и другие материалы для обучения.', '', '7. Какие требования предъявляются к абитуриентам для поступления на трек \"Школа естественных наук\"?', '   Ответ: Для поступления на трек \"Школа естественных наук\" абитуриенты должны иметь результаты ЕГЭ по химии, физике, биологии или географии.']\n"
     ]
    },
    {
     "name": "stderr",
     "output_type": "stream",
     "text": [
      "Giga generation stopped with reason: blacklist\n"
     ]
    },
    {
     "name": "stdout",
     "output_type": "stream",
     "text": [
      "['Как у нейросетевой языковой модели у меня не может быть настроения, но почему-то я совсем не хочу говорить на эту тему.']\n",
      "['1. Каковы формы текущего контроля?', '2. Как преподаватель информирует обучающихся о текущем контроле?', '3. Какие инструменты и технологии используются для текущего контроля?', '4. Как осуществляется текущий контроль по практике?', '5. Как формируются промежуточные и окончательные оценки по дисциплине?', '6. Как осуществляется промежуточная аттестация?', '7. Как проводятся экзамены и зачеты по факультативным дисциплинам?']\n",
      "['1. Каким образом проводится замена экзаменатора?', ' ', '2. Как формируются ведомости при проведении экзамена?', ' ', '3. Какова продолжительность письменного экзамена?', ' ', '4. Как должны быть оформлены письменные и устные ответы на вопросы?', ' ', '5. Какие права имеет обучающийся во время экзамена?', ' ', '6. Как объявляются результаты экзамена?', ' ', '7. Какие критерии используются при выставлении оценок за экзамен?']\n"
     ]
    },
    {
     "name": "stderr",
     "output_type": "stream",
     "text": [
      "Giga generation stopped with reason: blacklist\n"
     ]
    },
    {
     "name": "stdout",
     "output_type": "stream",
     "text": [
      "['Как у нейросетевой языковой модели у меня не может быть настроения, но почему-то я совсем не хочу говорить на эту тему.']\n",
      "['1. Что такое промежуточная аттестация?', '2. Какие формы промежуточной аттестации существуют?', '3. Как проводится первая повторная промежуточная аттестация?', '4. Как проводится вторая повторная промежуточная аттестация?', '5. Как оцениваются результаты повторной промежуточной аттестации?', '6. Как оформляются результаты промежуточной аттестации?', '7. Кто несет ответственность за правильность оформления документов о промежуточной аттестации?']\n",
      "['1. Что происходит с оценками после прохождения промежуточной аттестации?', '2. Кто несет ответственность за правильное внесение информации о результатах промежуточной аттестации?', '3. Кто отвечает за внесение информации о результатах ликвидации академической разницы?', '4. Как вносятся изменения и дополнения к Положению?', '5. Какие нормативные акты регулируют изменения и дополнения к Положению?', '6. Какие документы считаются утратившими силу?', '7. Какое решение Ученого совета утвердило данное Положение?']\n"
     ]
    },
    {
     "name": "stderr",
     "output_type": "stream",
     "text": [
      "Giga generation stopped with reason: blacklist\n"
     ]
    },
    {
     "name": "stdout",
     "output_type": "stream",
     "text": [
      "['Как у нейросетевой языковой модели у меня не может быть настроения, но почему-то я совсем не хочу говорить на эту тему.']\n"
     ]
    }
   ],
   "source": [
    "gigachat_docs = []\n",
    "for doc in db_documents:\n",
    "    query = {\"content\": doc}\n",
    "    giga_questions = giga_chain.invoke(query).strip().split(\"\\n\")\n",
    "    for q in giga_questions:\n",
    "        q = q.strip()\n",
    "        if len(q) < 5:\n",
    "            continue\n",
    "        gigachat_docs.append({\n",
    "            \"question\": q[3:],\n",
    "            \"document\": doc\n",
    "        })\n",
    "    print(giga_questions)"
   ]
  },
  {
   "cell_type": "code",
   "execution_count": 48,
   "id": "f025d9c6",
   "metadata": {},
   "outputs": [],
   "source": [
    "gigachat_docs = pd.DataFrame(gigachat_docs)\n",
    "gigachat_docs.to_csv(\"gigachat_docs.csv\")"
   ]
  },
  {
   "cell_type": "markdown",
   "id": "67e741f7",
   "metadata": {
    "jp-MarkdownHeadingCollapsed": true
   },
   "source": [
    "### Тонкая настройка"
   ]
  },
  {
   "cell_type": "code",
   "execution_count": 5,
   "id": "ec284f44",
   "metadata": {},
   "outputs": [
    {
     "data": {
      "text/html": [
       "<div>\n",
       "<style scoped>\n",
       "    .dataframe tbody tr th:only-of-type {\n",
       "        vertical-align: middle;\n",
       "    }\n",
       "\n",
       "    .dataframe tbody tr th {\n",
       "        vertical-align: top;\n",
       "    }\n",
       "\n",
       "    .dataframe thead th {\n",
       "        text-align: right;\n",
       "    }\n",
       "</style>\n",
       "<table border=\"1\" class=\"dataframe\">\n",
       "  <thead>\n",
       "    <tr style=\"text-align: right;\">\n",
       "      <th></th>\n",
       "      <th>question</th>\n",
       "      <th>document</th>\n",
       "    </tr>\n",
       "  </thead>\n",
       "  <tbody>\n",
       "    <tr>\n",
       "      <th>0</th>\n",
       "      <td>Что такое справка-вызов?</td>\n",
       "      <td>Сформировать справку - вызов Вы можете самосто...</td>\n",
       "    </tr>\n",
       "    <tr>\n",
       "      <th>1</th>\n",
       "      <td>Как можно сформировать справку-вызов?</td>\n",
       "      <td>Сформировать справку - вызов Вы можете самосто...</td>\n",
       "    </tr>\n",
       "    <tr>\n",
       "      <th>2</th>\n",
       "      <td>Какую информацию нужно предоставить после прис...</td>\n",
       "      <td>Сформировать справку - вызов Вы можете самосто...</td>\n",
       "    </tr>\n",
       "    <tr>\n",
       "      <th>3</th>\n",
       "      <td>Какие требования предъявляются к студентам для...</td>\n",
       "      <td>Сформировать справку - вызов Вы можете самосто...</td>\n",
       "    </tr>\n",
       "    <tr>\n",
       "      <th>4</th>\n",
       "      <td>Какие документы регулируют процесс оформления ...</td>\n",
       "      <td>Сформировать справку - вызов Вы можете самосто...</td>\n",
       "    </tr>\n",
       "    <tr>\n",
       "      <th>...</th>\n",
       "      <td>...</td>\n",
       "      <td>...</td>\n",
       "    </tr>\n",
       "    <tr>\n",
       "      <th>306</th>\n",
       "      <td>Как оформляются результаты промежуточной аттес...</td>\n",
       "      <td>проведения промежуточной аттестации, за исключ...</td>\n",
       "    </tr>\n",
       "    <tr>\n",
       "      <th>307</th>\n",
       "      <td>Кто несет ответственность за правильность офор...</td>\n",
       "      <td>проведения промежуточной аттестации, за исключ...</td>\n",
       "    </tr>\n",
       "    <tr>\n",
       "      <th>308</th>\n",
       "      <td>Что происходит с оценками после прохождения пр...</td>\n",
       "      <td>. 6. 10. Из ведомости, за исключением электрон...</td>\n",
       "    </tr>\n",
       "    <tr>\n",
       "      <th>309</th>\n",
       "      <td>Кто несет ответственность за правильное внесен...</td>\n",
       "      <td>. 6. 10. Из ведомости, за исключением электрон...</td>\n",
       "    </tr>\n",
       "    <tr>\n",
       "      <th>310</th>\n",
       "      <td>Кто отвечает за внесение информации о результа...</td>\n",
       "      <td>. 6. 10. Из ведомости, за исключением электрон...</td>\n",
       "    </tr>\n",
       "  </tbody>\n",
       "</table>\n",
       "<p>311 rows × 2 columns</p>\n",
       "</div>"
      ],
      "text/plain": [
       "                                              question  \\\n",
       "0                             Что такое справка-вызов?   \n",
       "1                Как можно сформировать справку-вызов?   \n",
       "2    Какую информацию нужно предоставить после прис...   \n",
       "3    Какие требования предъявляются к студентам для...   \n",
       "4    Какие документы регулируют процесс оформления ...   \n",
       "..                                                 ...   \n",
       "306  Как оформляются результаты промежуточной аттес...   \n",
       "307  Кто несет ответственность за правильность офор...   \n",
       "308  Что происходит с оценками после прохождения пр...   \n",
       "309  Кто несет ответственность за правильное внесен...   \n",
       "310  Кто отвечает за внесение информации о результа...   \n",
       "\n",
       "                                              document  \n",
       "0    Сформировать справку - вызов Вы можете самосто...  \n",
       "1    Сформировать справку - вызов Вы можете самосто...  \n",
       "2    Сформировать справку - вызов Вы можете самосто...  \n",
       "3    Сформировать справку - вызов Вы можете самосто...  \n",
       "4    Сформировать справку - вызов Вы можете самосто...  \n",
       "..                                                 ...  \n",
       "306  проведения промежуточной аттестации, за исключ...  \n",
       "307  проведения промежуточной аттестации, за исключ...  \n",
       "308  . 6. 10. Из ведомости, за исключением электрон...  \n",
       "309  . 6. 10. Из ведомости, за исключением электрон...  \n",
       "310  . 6. 10. Из ведомости, за исключением электрон...  \n",
       "\n",
       "[311 rows x 2 columns]"
      ]
     },
     "execution_count": 5,
     "metadata": {},
     "output_type": "execute_result"
    }
   ],
   "source": [
    "gigachat_docs = pd.read_csv(\"gigachat_docs.csv\", index_col=0).reset_index(drop=True)\n",
    "gigachat_docs"
   ]
  },
  {
   "cell_type": "code",
   "execution_count": 6,
   "id": "a59f115b",
   "metadata": {},
   "outputs": [
    {
     "data": {
      "text/html": [
       "<div>\n",
       "<style scoped>\n",
       "    .dataframe tbody tr th:only-of-type {\n",
       "        vertical-align: middle;\n",
       "    }\n",
       "\n",
       "    .dataframe tbody tr th {\n",
       "        vertical-align: top;\n",
       "    }\n",
       "\n",
       "    .dataframe thead th {\n",
       "        text-align: right;\n",
       "    }\n",
       "</style>\n",
       "<table border=\"1\" class=\"dataframe\">\n",
       "  <thead>\n",
       "    <tr style=\"text-align: right;\">\n",
       "      <th></th>\n",
       "      <th>question</th>\n",
       "      <th>document</th>\n",
       "    </tr>\n",
       "  </thead>\n",
       "  <tbody>\n",
       "    <tr>\n",
       "      <th>0</th>\n",
       "      <td>Где продлять студак?</td>\n",
       "      <td>Для восстановления студенческого билета Вам не...</td>\n",
       "    </tr>\n",
       "    <tr>\n",
       "      <th>1</th>\n",
       "      <td>Когда можно получить справку о стипендии?</td>\n",
       "      <td>По вопросу получения справки о доходах, размер...</td>\n",
       "    </tr>\n",
       "    <tr>\n",
       "      <th>2</th>\n",
       "      <td>Как перевестись на другое направление на заочке?</td>\n",
       "      <td>Заявления о переводе принимаются два раза в го...</td>\n",
       "    </tr>\n",
       "    <tr>\n",
       "      <th>3</th>\n",
       "      <td>Как перевестись на другое направление?</td>\n",
       "      <td>Заявления о переводе принимаются два раза в го...</td>\n",
       "    </tr>\n",
       "    <tr>\n",
       "      <th>4</th>\n",
       "      <td>Могу ли я в последний момент отказаться от сме...</td>\n",
       "      <td>Прежде, чем выбрать элективы, рекомендуем почи...</td>\n",
       "    </tr>\n",
       "    <tr>\n",
       "      <th>...</th>\n",
       "      <td>...</td>\n",
       "      <td>...</td>\n",
       "    </tr>\n",
       "    <tr>\n",
       "      <th>350</th>\n",
       "      <td>Как оформляются результаты промежуточной аттес...</td>\n",
       "      <td>проведения промежуточной аттестации, за исключ...</td>\n",
       "    </tr>\n",
       "    <tr>\n",
       "      <th>351</th>\n",
       "      <td>Кто несет ответственность за правильность офор...</td>\n",
       "      <td>проведения промежуточной аттестации, за исключ...</td>\n",
       "    </tr>\n",
       "    <tr>\n",
       "      <th>352</th>\n",
       "      <td>Что происходит с оценками после прохождения пр...</td>\n",
       "      <td>. 6. 10. Из ведомости, за исключением электрон...</td>\n",
       "    </tr>\n",
       "    <tr>\n",
       "      <th>353</th>\n",
       "      <td>Кто несет ответственность за правильное внесен...</td>\n",
       "      <td>. 6. 10. Из ведомости, за исключением электрон...</td>\n",
       "    </tr>\n",
       "    <tr>\n",
       "      <th>354</th>\n",
       "      <td>Кто отвечает за внесение информации о результа...</td>\n",
       "      <td>. 6. 10. Из ведомости, за исключением электрон...</td>\n",
       "    </tr>\n",
       "  </tbody>\n",
       "</table>\n",
       "<p>355 rows × 2 columns</p>\n",
       "</div>"
      ],
      "text/plain": [
       "                                              question  \\\n",
       "0                                 Где продлять студак?   \n",
       "1            Когда можно получить справку о стипендии?   \n",
       "2     Как перевестись на другое направление на заочке?   \n",
       "3               Как перевестись на другое направление?   \n",
       "4    Могу ли я в последний момент отказаться от сме...   \n",
       "..                                                 ...   \n",
       "350  Как оформляются результаты промежуточной аттес...   \n",
       "351  Кто несет ответственность за правильность офор...   \n",
       "352  Что происходит с оценками после прохождения пр...   \n",
       "353  Кто несет ответственность за правильное внесен...   \n",
       "354  Кто отвечает за внесение информации о результа...   \n",
       "\n",
       "                                              document  \n",
       "0    Для восстановления студенческого билета Вам не...  \n",
       "1    По вопросу получения справки о доходах, размер...  \n",
       "2    Заявления о переводе принимаются два раза в го...  \n",
       "3    Заявления о переводе принимаются два раза в го...  \n",
       "4    Прежде, чем выбрать элективы, рекомендуем почи...  \n",
       "..                                                 ...  \n",
       "350  проведения промежуточной аттестации, за исключ...  \n",
       "351  проведения промежуточной аттестации, за исключ...  \n",
       "352  . 6. 10. Из ведомости, за исключением электрон...  \n",
       "353  . 6. 10. Из ведомости, за исключением электрон...  \n",
       "354  . 6. 10. Из ведомости, за исключением электрон...  \n",
       "\n",
       "[355 rows x 2 columns]"
      ]
     },
     "execution_count": 6,
     "metadata": {},
     "output_type": "execute_result"
    }
   ],
   "source": [
    "train_questions = pd.concat([train_questions, gigachat_docs], ignore_index=True)\n",
    "train_questions"
   ]
  },
  {
   "cell_type": "code",
   "execution_count": 8,
   "id": "235475b5",
   "metadata": {},
   "outputs": [
    {
     "data": {
      "application/vnd.jupyter.widget-view+json": {
       "model_id": "ca3be51b1ca846bf81f7e8b507e7d36b",
       "version_major": 2,
       "version_minor": 0
      },
      "text/plain": [
       "Epoch:   0%|          | 0/10 [00:00<?, ?it/s]"
      ]
     },
     "metadata": {},
     "output_type": "display_data"
    },
    {
     "data": {
      "application/vnd.jupyter.widget-view+json": {
       "model_id": "4302a447ef16452fb69cd2c111c5db7c",
       "version_major": 2,
       "version_minor": 0
      },
      "text/plain": [
       "Iteration:   0%|          | 0/45 [00:00<?, ?it/s]"
      ]
     },
     "metadata": {},
     "output_type": "display_data"
    },
    {
     "data": {
      "application/vnd.jupyter.widget-view+json": {
       "model_id": "d1db6275a8a9442489b0cb3f0c725279",
       "version_major": 2,
       "version_minor": 0
      },
      "text/plain": [
       "Iteration:   0%|          | 0/45 [00:00<?, ?it/s]"
      ]
     },
     "metadata": {},
     "output_type": "display_data"
    },
    {
     "data": {
      "application/vnd.jupyter.widget-view+json": {
       "model_id": "a02262042c2e413dae05723f067bdc08",
       "version_major": 2,
       "version_minor": 0
      },
      "text/plain": [
       "Iteration:   0%|          | 0/45 [00:00<?, ?it/s]"
      ]
     },
     "metadata": {},
     "output_type": "display_data"
    },
    {
     "data": {
      "application/vnd.jupyter.widget-view+json": {
       "model_id": "e2e04c8dc4f141629687f36ebbac5baa",
       "version_major": 2,
       "version_minor": 0
      },
      "text/plain": [
       "Iteration:   0%|          | 0/45 [00:00<?, ?it/s]"
      ]
     },
     "metadata": {},
     "output_type": "display_data"
    },
    {
     "data": {
      "application/vnd.jupyter.widget-view+json": {
       "model_id": "de4c7a05e7f34d3caa0c22356fc2c67e",
       "version_major": 2,
       "version_minor": 0
      },
      "text/plain": [
       "Iteration:   0%|          | 0/45 [00:00<?, ?it/s]"
      ]
     },
     "metadata": {},
     "output_type": "display_data"
    },
    {
     "data": {
      "application/vnd.jupyter.widget-view+json": {
       "model_id": "38b707ebc48049d1ba05373a57740a6f",
       "version_major": 2,
       "version_minor": 0
      },
      "text/plain": [
       "Iteration:   0%|          | 0/45 [00:00<?, ?it/s]"
      ]
     },
     "metadata": {},
     "output_type": "display_data"
    },
    {
     "data": {
      "application/vnd.jupyter.widget-view+json": {
       "model_id": "7016d6d1d9dc4066bddeabad621f027b",
       "version_major": 2,
       "version_minor": 0
      },
      "text/plain": [
       "Iteration:   0%|          | 0/45 [00:00<?, ?it/s]"
      ]
     },
     "metadata": {},
     "output_type": "display_data"
    },
    {
     "data": {
      "application/vnd.jupyter.widget-view+json": {
       "model_id": "619ab063a8ce435486bdda898f4e9d3e",
       "version_major": 2,
       "version_minor": 0
      },
      "text/plain": [
       "Iteration:   0%|          | 0/45 [00:00<?, ?it/s]"
      ]
     },
     "metadata": {},
     "output_type": "display_data"
    },
    {
     "data": {
      "application/vnd.jupyter.widget-view+json": {
       "model_id": "25c03593bc0045fc86356856cd709fbf",
       "version_major": 2,
       "version_minor": 0
      },
      "text/plain": [
       "Iteration:   0%|          | 0/45 [00:00<?, ?it/s]"
      ]
     },
     "metadata": {},
     "output_type": "display_data"
    },
    {
     "data": {
      "application/vnd.jupyter.widget-view+json": {
       "model_id": "502094d8a1984f66b16da26b26434fb7",
       "version_major": 2,
       "version_minor": 0
      },
      "text/plain": [
       "Iteration:   0%|          | 0/45 [00:00<?, ?it/s]"
      ]
     },
     "metadata": {},
     "output_type": "display_data"
    }
   ],
   "source": [
    "import math\n",
    "from sentence_transformers import InputExample, losses\n",
    "from torch.utils.data import DataLoader\n",
    "\n",
    "train_set = []\n",
    "for index, row in train_questions.iterrows():\n",
    "    train_set.append(InputExample(texts=[row['question'], row['document']]))\n",
    "    \n",
    "finetuned_model = SentenceTransformer(\"cointegrated/rubert-tiny2\", device=\"cuda\")\n",
    "\n",
    "train_dataloader = DataLoader(train_set, shuffle=True, batch_size=8)\n",
    "train_loss = losses.MultipleNegativesRankingLoss(finetuned_model)\n",
    "# train_loss = losses.MegaBatchMarginLoss(finetuned_model)\n",
    "\n",
    "num_epochs = 10\n",
    "warmup_steps = math.ceil(len(train_set) * num_epochs * 0.1)\n",
    "\n",
    "finetuned_model.fit(train_objectives=[(train_dataloader, train_loss)], \n",
    "                    epochs=num_epochs, \n",
    "                    warmup_steps=warmup_steps,\n",
    "                    output_path=\"saved_models/rubert-tiny2-wikiutmn\")\n"
   ]
  },
  {
   "cell_type": "markdown",
   "id": "2c3b6bb1",
   "metadata": {
    "jp-MarkdownHeadingCollapsed": true
   },
   "source": [
    "### Индексация"
   ]
  },
  {
   "cell_type": "code",
   "execution_count": 12,
   "id": "1909c23f",
   "metadata": {},
   "outputs": [
    {
     "data": {
      "text/plain": [
       "SentenceTransformer(\n",
       "  (0): Transformer({'max_seq_length': 2048, 'do_lower_case': False}) with Transformer model: BertModel \n",
       "  (1): Pooling({'word_embedding_dimension': 312, 'pooling_mode_cls_token': True, 'pooling_mode_mean_tokens': False, 'pooling_mode_max_tokens': False, 'pooling_mode_mean_sqrt_len_tokens': False, 'pooling_mode_weightedmean_tokens': False, 'pooling_mode_lasttoken': False})\n",
       "  (2): Normalize()\n",
       ")"
      ]
     },
     "execution_count": 12,
     "metadata": {},
     "output_type": "execute_result"
    }
   ],
   "source": [
    "finetuned_model = SentenceTransformer('saved_models/rubert-tiny2-wikiutmn', device=\"cpu\")\n",
    "finetuned_model"
   ]
  },
  {
   "cell_type": "code",
   "execution_count": 13,
   "id": "7cced5fe",
   "metadata": {},
   "outputs": [],
   "source": [
    "from sqlalchemy import select"
   ]
  },
  {
   "cell_type": "code",
   "execution_count": 19,
   "id": "59f802f2",
   "metadata": {},
   "outputs": [],
   "source": [
    "with Session(engine) as session:\n",
    "   documents = session.scalars(select(Chunk).order_by(Chunk.id)).all()\n",
    "   for doc in documents:\n",
    "      doc.rusbert_finetuned = finetuned_model.encode(doc.text)\n",
    "      session.add(doc)\n",
    "      session.flush()\n",
    "   session.commit()"
   ]
  },
  {
   "cell_type": "code",
   "execution_count": 14,
   "id": "c9ebaec8",
   "metadata": {},
   "outputs": [],
   "source": [
    "def answer_rusbert_finetuned(question):\n",
    "    with Session(engine) as session:\n",
    "        return session.scalars(select(Chunk)\n",
    "                        .order_by(Chunk.rusbert_finetuned.cosine_distance(\n",
    "                            finetuned_model.encode(question)\n",
    "                            )).limit(1)).first().text"
   ]
  },
  {
   "cell_type": "code",
   "execution_count": 15,
   "id": "b4541567",
   "metadata": {},
   "outputs": [
    {
     "data": {
      "text/plain": [
       "'Выбор спортивных секций по Физической культуре будет проходить в ИС Модеус во вкладке \" Выбор модулей \". Вам нужно будет выбрать 2 интересующие Вас спортивные секции, которые будут проходить каждую неделю в одно и то же время. Ограничения : 1 ) Записаться можно не более чем на 2 занятия в неделю 2 ) Нельзя записываться на два занятия подряд. Вас могут не допустить на занятие, если Вы были на предыдущей паре и / или уже посетили два занятия за неделю. При этом расписание на наличие конфликтов Вы проверяете самостоятельно в соответствии с Вашим расписанием в ИС Модеус и расписанием спортивных секций ( во вложенных файлах ). Ваш выбор пролонгируется до конца семестра, однако в любой момент Вы можете его изменить, отписавшись от одной секции и записавшись на другую. ВАЖНО! Студент, пропустивший два занятия подряд, будет отписан автоматически. Выбор Физической культуры откроется 06. 09. 2023 и будет открыт до конца семестра. Для успешной аттестации по дисциплине « Физическая культура : элективные курсы по видам спорта » Вы должны набрать не менее 61 балла по балльно - рейтинговой оценочной шкале. Для этого Вы можете : 1 ) Посещать академические занятия ( 3 балла за каждое занятие ) ; 2 ) Принять участие в спортивно - массовых мероприятиях университета : Днях здорового образа жизни, Маршрут Дружбы, Кросс Наций, и других ( 0 - 10 баллов за каждое мероприятие ). 3 ) Принять участите в соревнованиях по видам спорта ( 0 [UNK] 60 баллов ) ; 4 ) Выполнить ВФСК ГТО ( 0 [UNK] 60 баллов ). Для оформления посещения частного фитнес - клуба или тренажёрного зала вместо практических занятий по физкультуре студент к первому занятию по физической культуре представляет тренеру - преподавателю по спорту ( куратору по физкультуре ) пакет документов и приходит на зачётное мероприятие. ВАЖНО!!! Все документы должны быть предоставлены в течение первой учебной недели. Список ответственных за прием документов спортзала по институтам ( Ленина, 6 ) : 1. ИГиП, Антропошкола [UNK] Пырлич Юлия Васильевна ( y. v. pyrlich @ utmn. ru ) 2. СоцГум - Ерженин Владимир Сергеевич ( v. s. erzhenin @ utmn. ru ) 3. ФЭИ - Копякова Анна Леонидовна ( a. l. kopyakova @ utmn. ru ) 4. ИнЗем - Питулин Артём Владимирович ( a. v. pitulin @ utmn. ru ) 5. ФТИ, ИнХим, ШЕН [UNK] Пырлич Юлия Васильевна ( y. v. pyrlich @ utmn. ru ) 6. ИнБио - Криводанова Наталья Александровна ( n. a. krivodanova @ utmn. ru ) 7. Школа образования - Баянов Николай Ильич ( n. i. bayanov @ utmn. ru ) 8. ШКН - Тверских Владислав Владимирович ( vl. v. tverskikh @ utmn. ru )'"
      ]
     },
     "execution_count": 15,
     "metadata": {},
     "output_type": "execute_result"
    }
   ],
   "source": [
    "answer_rusbert_finetuned(\"Как поменять физкультуру?\")"
   ]
  },
  {
   "cell_type": "markdown",
   "id": "a35f2b2b",
   "metadata": {
    "jp-MarkdownHeadingCollapsed": true
   },
   "source": [
    "### Метрики"
   ]
  },
  {
   "cell_type": "code",
   "execution_count": 18,
   "id": "32baf899",
   "metadata": {},
   "outputs": [
    {
     "data": {
      "text/html": [
       "<div>\n",
       "<style scoped>\n",
       "    .dataframe tbody tr th:only-of-type {\n",
       "        vertical-align: middle;\n",
       "    }\n",
       "\n",
       "    .dataframe tbody tr th {\n",
       "        vertical-align: top;\n",
       "    }\n",
       "\n",
       "    .dataframe thead th {\n",
       "        text-align: right;\n",
       "    }\n",
       "</style>\n",
       "<table border=\"1\" class=\"dataframe\">\n",
       "  <thead>\n",
       "    <tr style=\"text-align: right;\">\n",
       "      <th></th>\n",
       "      <th>question</th>\n",
       "      <th>document</th>\n",
       "      <th>rusbert_finetuned</th>\n",
       "    </tr>\n",
       "  </thead>\n",
       "  <tbody>\n",
       "    <tr>\n",
       "      <th>0</th>\n",
       "      <td>Я потерял магнитную карту. К кому обратиться?</td>\n",
       "      <td>Для восстановления студенческого билета Вам не...</td>\n",
       "      <td>Для восстановления студенческого билета Вам не...</td>\n",
       "    </tr>\n",
       "    <tr>\n",
       "      <th>1</th>\n",
       "      <td>Даты подачи заявления для восстановления на очку</td>\n",
       "      <td>Заявления на восстановление в Университет по о...</td>\n",
       "      <td>Пакет документов для восстановления вам необхо...</td>\n",
       "    </tr>\n",
       "    <tr>\n",
       "      <th>2</th>\n",
       "      <td>Что делать при потере проходки?</td>\n",
       "      <td>Для восстановления студенческого билета Вам не...</td>\n",
       "      <td>Для восстановления студенческого билета Вам не...</td>\n",
       "    </tr>\n",
       "    <tr>\n",
       "      <th>3</th>\n",
       "      <td>Я хожу в фитнес-клуб. Как заменить физкультуру?</td>\n",
       "      <td>Выбор спортивных секций по Физической культуре...</td>\n",
       "      <td>Выбор спортивных секций по Физической культуре...</td>\n",
       "    </tr>\n",
       "    <tr>\n",
       "      <th>4</th>\n",
       "      <td>Когда мне выдадут студенческий билет после пер...</td>\n",
       "      <td>1. Подать заявление о переводе можно лично, об...</td>\n",
       "      <td>1. Подать заявление о переводе можно лично, об...</td>\n",
       "    </tr>\n",
       "    <tr>\n",
       "      <th>...</th>\n",
       "      <td>...</td>\n",
       "      <td>...</td>\n",
       "      <td>...</td>\n",
       "    </tr>\n",
       "    <tr>\n",
       "      <th>62</th>\n",
       "      <td>как закрыть физкультуру?</td>\n",
       "      <td>Выбор спортивных секций по Физической культуре...</td>\n",
       "      <td>Выбор спортивных секций по Физической культуре...</td>\n",
       "    </tr>\n",
       "    <tr>\n",
       "      <th>63</th>\n",
       "      <td>когда можно поменять элективы?</td>\n",
       "      <td>Прежде, чем выбрать элективы, рекомендуем почи...</td>\n",
       "      <td>Прежде, чем выбрать элективы, рекомендуем почи...</td>\n",
       "    </tr>\n",
       "    <tr>\n",
       "      <th>64</th>\n",
       "      <td>как получить справку о месте учёбы?</td>\n",
       "      <td>Студенты очной формы обучения оформляют справк...</td>\n",
       "      <td>Студенты очной формы обучения оформляют справк...</td>\n",
       "    </tr>\n",
       "    <tr>\n",
       "      <th>65</th>\n",
       "      <td>Как можно получать баллы за физру?</td>\n",
       "      <td>Выбор спортивных секций по Физической культуре...</td>\n",
       "      <td>Выбор спортивных секций по Физической культуре...</td>\n",
       "    </tr>\n",
       "    <tr>\n",
       "      <th>66</th>\n",
       "      <td>Где взять справку для военкомата?</td>\n",
       "      <td>Вам необходимо обратиться в Отдел мобилизацион...</td>\n",
       "      <td>Вам необходимо обратиться в Отдел мобилизацион...</td>\n",
       "    </tr>\n",
       "  </tbody>\n",
       "</table>\n",
       "<p>67 rows × 3 columns</p>\n",
       "</div>"
      ],
      "text/plain": [
       "                                             question  \\\n",
       "0       Я потерял магнитную карту. К кому обратиться?   \n",
       "1    Даты подачи заявления для восстановления на очку   \n",
       "2                     Что делать при потере проходки?   \n",
       "3     Я хожу в фитнес-клуб. Как заменить физкультуру?   \n",
       "4   Когда мне выдадут студенческий билет после пер...   \n",
       "..                                                ...   \n",
       "62                           как закрыть физкультуру?   \n",
       "63                     когда можно поменять элективы?   \n",
       "64                как получить справку о месте учёбы?   \n",
       "65                 Как можно получать баллы за физру?   \n",
       "66                  Где взять справку для военкомата?   \n",
       "\n",
       "                                             document  \\\n",
       "0   Для восстановления студенческого билета Вам не...   \n",
       "1   Заявления на восстановление в Университет по о...   \n",
       "2   Для восстановления студенческого билета Вам не...   \n",
       "3   Выбор спортивных секций по Физической культуре...   \n",
       "4   1. Подать заявление о переводе можно лично, об...   \n",
       "..                                                ...   \n",
       "62  Выбор спортивных секций по Физической культуре...   \n",
       "63  Прежде, чем выбрать элективы, рекомендуем почи...   \n",
       "64  Студенты очной формы обучения оформляют справк...   \n",
       "65  Выбор спортивных секций по Физической культуре...   \n",
       "66  Вам необходимо обратиться в Отдел мобилизацион...   \n",
       "\n",
       "                                    rusbert_finetuned  \n",
       "0   Для восстановления студенческого билета Вам не...  \n",
       "1   Пакет документов для восстановления вам необхо...  \n",
       "2   Для восстановления студенческого билета Вам не...  \n",
       "3   Выбор спортивных секций по Физической культуре...  \n",
       "4   1. Подать заявление о переводе можно лично, об...  \n",
       "..                                                ...  \n",
       "62  Выбор спортивных секций по Физической культуре...  \n",
       "63  Прежде, чем выбрать элективы, рекомендуем почи...  \n",
       "64  Студенты очной формы обучения оформляют справк...  \n",
       "65  Выбор спортивных секций по Физической культуре...  \n",
       "66  Вам необходимо обратиться в Отдел мобилизацион...  \n",
       "\n",
       "[67 rows x 3 columns]"
      ]
     },
     "execution_count": 18,
     "metadata": {},
     "output_type": "execute_result"
    }
   ],
   "source": [
    "test_questions[\"rusbert_finetuned\"] = test_questions[\"question\"].apply(answer_rusbert_finetuned)\n",
    "test_questions"
   ]
  },
  {
   "cell_type": "markdown",
   "id": "8bd50175",
   "metadata": {},
   "source": [
    "#### Accuracy"
   ]
  },
  {
   "cell_type": "code",
   "execution_count": 19,
   "id": "cc2b80d4",
   "metadata": {},
   "outputs": [
    {
     "name": "stdout",
     "output_type": "stream",
     "text": [
      "rusbert_finetuned 0.7014925373134329\n"
     ]
    }
   ],
   "source": [
    "print(\"rusbert_finetuned\", sum(test_questions[\"rusbert_finetuned\"].apply(lambda x: \"\" if x is None else x) == test_questions.document) / len(test_questions.document))"
   ]
  },
  {
   "cell_type": "markdown",
   "id": "e62636b3",
   "metadata": {},
   "source": [
    "#### ROUGE-L"
   ]
  },
  {
   "cell_type": "code",
   "execution_count": 20,
   "id": "49ff41cd",
   "metadata": {},
   "outputs": [
    {
     "name": "stdout",
     "output_type": "stream",
     "text": [
      "rusbert_finetuned {'r': 0.7733489022002412, 'p': 0.7566198123094525, 'f': 0.7534038029522858}\n"
     ]
    }
   ],
   "source": [
    "from rouge import Rouge\n",
    "rouge = Rouge()\n",
    "\n",
    "print(\"rusbert_finetuned\", rouge.get_scores(test_questions[\"rusbert_finetuned\"].apply(lambda x: \"-\" if x is None else x), test_questions[\"document\"], avg=True)['rouge-l'])"
   ]
  },
  {
   "cell_type": "markdown",
   "id": "0d2b8437",
   "metadata": {},
   "source": [
    "### Save to Hub"
   ]
  },
  {
   "cell_type": "code",
   "execution_count": 21,
   "id": "b689812f",
   "metadata": {},
   "outputs": [
    {
     "data": {
      "application/vnd.jupyter.widget-view+json": {
       "model_id": "908c452446e545399f136da46f4ef531",
       "version_major": 2,
       "version_minor": 0
      },
      "text/plain": [
       "model.safetensors:   0%|          | 0.00/117M [00:00<?, ?B/s]"
      ]
     },
     "metadata": {},
     "output_type": "display_data"
    },
    {
     "data": {
      "text/plain": [
       "'https://huggingface.co/nizamovtimur/rubert-tiny2-wikiutmn/commit/740236cd3cf4e8acb90ebc9012ca6afcbf07da48'"
      ]
     },
     "execution_count": 21,
     "metadata": {},
     "output_type": "execute_result"
    }
   ],
   "source": [
    "finetuned_model.save_to_hub(repo_id=\"nizamovtimur/rubert-tiny2-wikiutmn\", token=hf_write_token)"
   ]
  },
  {
   "cell_type": "markdown",
   "id": "0d6e928a",
   "metadata": {},
   "source": [
    "#### Датасет"
   ]
  },
  {
   "cell_type": "code",
   "execution_count": null,
   "id": "ecc1d5d3",
   "metadata": {},
   "outputs": [],
   "source": [
    "%pip install datasets --quiet"
   ]
  },
  {
   "cell_type": "code",
   "execution_count": 8,
   "id": "576d446a",
   "metadata": {},
   "outputs": [
    {
     "data": {
      "application/vnd.jupyter.widget-view+json": {
       "model_id": "f6402d129af440e581815e88f13a3419",
       "version_major": 2,
       "version_minor": 0
      },
      "text/plain": [
       "Uploading the dataset shards:   0%|          | 0/1 [00:00<?, ?it/s]"
      ]
     },
     "metadata": {},
     "output_type": "display_data"
    },
    {
     "data": {
      "application/vnd.jupyter.widget-view+json": {
       "model_id": "b5fe95b321e841ed8cd6df11f1f4d19d",
       "version_major": 2,
       "version_minor": 0
      },
      "text/plain": [
       "Creating parquet from Arrow format:   0%|          | 0/1 [00:00<?, ?ba/s]"
      ]
     },
     "metadata": {},
     "output_type": "display_data"
    },
    {
     "data": {
      "application/vnd.jupyter.widget-view+json": {
       "model_id": "8a76e7a8b2664062b1cb060e20e68756",
       "version_major": 2,
       "version_minor": 0
      },
      "text/plain": [
       "Uploading the dataset shards:   0%|          | 0/1 [00:00<?, ?it/s]"
      ]
     },
     "metadata": {},
     "output_type": "display_data"
    },
    {
     "data": {
      "application/vnd.jupyter.widget-view+json": {
       "model_id": "2c798737760541068bab2941ed815437",
       "version_major": 2,
       "version_minor": 0
      },
      "text/plain": [
       "Creating parquet from Arrow format:   0%|          | 0/1 [00:00<?, ?ba/s]"
      ]
     },
     "metadata": {},
     "output_type": "display_data"
    },
    {
     "data": {
      "application/vnd.jupyter.widget-view+json": {
       "model_id": "1317e253f5364c7499591637e89bdf4a",
       "version_major": 2,
       "version_minor": 0
      },
      "text/plain": [
       "README.md:   0%|          | 0.00/21.0 [00:00<?, ?B/s]"
      ]
     },
     "metadata": {},
     "output_type": "display_data"
    },
    {
     "name": "stderr",
     "output_type": "stream",
     "text": [
      "d:\\git\\virtassist\\.venv\\lib\\site-packages\\huggingface_hub\\file_download.py:149: UserWarning: `huggingface_hub` cache-system uses symlinks by default to efficiently store duplicated files but your machine does not support them in C:\\Users\\Timur\\.cache\\huggingface\\hub\\datasets--nizamovtimur--wikiutmn-study-gigachat. Caching files will still work but in a degraded version that might require more space on your disk. This warning can be disabled by setting the `HF_HUB_DISABLE_SYMLINKS_WARNING` environment variable. For more details, see https://huggingface.co/docs/huggingface_hub/how-to-cache#limitations.\n",
      "To support symlinks on Windows, you either need to activate Developer Mode or to run Python as an administrator. In order to see activate developer mode, see this article: https://docs.microsoft.com/en-us/windows/apps/get-started/enable-your-device-for-development\n",
      "  warnings.warn(message)\n"
     ]
    },
    {
     "data": {
      "text/plain": [
       "CommitInfo(commit_url='https://huggingface.co/datasets/nizamovtimur/wikiutmn-study-gigachat/commit/05b3364a2f11ed902363253c7a9c8537cb1df827', commit_message='Upload dataset', commit_description='', oid='05b3364a2f11ed902363253c7a9c8537cb1df827', pr_url=None, pr_revision=None, pr_num=None)"
      ]
     },
     "execution_count": 8,
     "metadata": {},
     "output_type": "execute_result"
    }
   ],
   "source": [
    "from datasets import DatasetDict, Dataset\n",
    "dataset_to_hf = DatasetDict({\n",
    "    'train': Dataset.from_pandas(train_questions),\n",
    "    'test': Dataset.from_pandas(test_questions)\n",
    "})\n",
    "dataset_to_hf.push_to_hub(repo_id=\"nizamovtimur/wikiutmn-study-gigachat\", token=hf_write_token)"
   ]
  },
  {
   "cell_type": "markdown",
   "id": "7900775a",
   "metadata": {},
   "source": [
    "## Большие языковые модели\n",
    "\n",
    "https://python.langchain.com/docs/use_cases/question_answering/"
   ]
  },
  {
   "cell_type": "code",
   "execution_count": 16,
   "id": "74afe4e9",
   "metadata": {},
   "outputs": [],
   "source": [
    "from langchain.prompts import PromptTemplate\n",
    "\n",
    "prompt_template = \"\"\"Действуй как Вопрошалыч — виртуальный помощник студента ТюмГУ.\n",
    "Используй следующий текст в тройных кавычках, чтобы кратко ответить на вопрос студента.\n",
    "Не придумывай и не изменяй ссылки, адреса и телефоны. Если ответа в тексте нет, напиши \"ответ не найден\".\n",
    "\n",
    "\\\"\\\"\\\"\n",
    "{context}\n",
    "\\\"\\\"\\\"\n",
    "\n",
    "Вопрос студента: {question}\"\"\"\n",
    "\n",
    "prompt = PromptTemplate.from_template(prompt_template)"
   ]
  },
  {
   "cell_type": "code",
   "execution_count": 37,
   "id": "e13d3ade",
   "metadata": {},
   "outputs": [],
   "source": [
    "prompt_template_with_history = \"\"\"Действуй как Вопрошалыч — виртуальный помощник студента ТюмГУ.\n",
    "Кратко ответь на вопрос студента по предоставленным текстам.\n",
    "Не придумывай и не изменяй ссылки, адреса и телефоны. Если ответа нет, напиши \"ответ не найден\".\n",
    "\n",
    "\\\"\\\"\\\"\n",
    "{prev_context}\n",
    "\n",
    "{context}\n",
    "\\\"\\\"\\\"\n",
    "\n",
    "Вопрос студента: {prev_question}\n",
    "Ответ: {prev_answer}\n",
    "Вопрос студента: {question}\n",
    "Ответ:\n",
    "\"\"\"\n",
    "\n",
    "prompt_with_history = PromptTemplate.from_template(prompt_template)"
   ]
  },
  {
   "cell_type": "code",
   "execution_count": 42,
   "id": "8b562c7d",
   "metadata": {},
   "outputs": [
    {
     "data": {
      "text/plain": [
       "[['Заявление на академический отпуск подается через личный кабинет на портале \" Вместе \" в разделе \" Заявления \". ВАЖНО! Заявление на отпуск не может быть подано : 1. в период прохождения госаттестации ; 2. в случае несдачи комиссионной пересдачи. Согласно п. 1. 4 \" Положения о порядке предоставления и выхода из академического отпуска и иных отпусков для обучающихся ФГАОУ ВО ТюмГУ : Решение о предоставлении отпуска принимается в течение 10 ( десяти ) дней со дня подачи обучающимся заявления и прилагаемых к нему документов ( при наличии ). Дата подачи заявления и начала отпуска, без подтверждающих документов, не может быть праздничным и / или нерабочим днем. За 3 недели до даты окончания отпуска необходимо будет подать заявление на выход из академического отпуска. Бланк заявления на выход из академического отпуска можете скачать по ссылке https : / / www. utmn. ru / o - tyumgu / organizatsionnaya - skhema - tyumgu / edinyy - dekanat / blanki - zayavleniy / otpusk /.',\n",
       "  'Заявление подается через личный кабинет на портале \" Вместе \". Основанием для предоставления отпуска является заключение врачебной комиссии медицинской организации. Отпуск предоставляется по датам, указанным в заключении врачебной комиссии.'],\n",
       " ['По вопросу получения справки о доходах, размере стипендии или пособии необходимо обратиться в Сервисный центр бухгалтерии, написав на почту 12222 @ utmn. ru или позвонив ( 3452 ) 59 - 76 - 76. Адрес местонахождения : г. Тюмень, ул. Кирова, д. 25 / 1. Часы работы : пн. - чт. 09. 00 - 17. 00 пт. 09. 00 - 16. 00 обед 12. 30 - 13. 15 сб., вс. - выходные дни.',\n",
       "  'По вопросам оплаты обучения, суммы задолженности, получения реквизитов обратитесь в отдел платных образовательных услуг, написав на почту udodep @ utmn. ru или позвонив по телефону ( 3452 ) 59 - 74 - 00, доб. 14312, либо 14314, либо 14362. Адрес отдела платных образовательных услуг : ул. Ленина, д. 16, каб. 105. Для оплаты обучения материнским капиталом направьте запрос на получение документов на почту отдела платных образовательных услуг : udodep @ utmn. ru На данный момент действует приказ 363 - 1 о предоставлении рассрочки по оплате за обучение ознакомиться с приказом можно на сайте utmn. ru в разделе \" Стоимость обучения \", заполненное заявление вместе с подтверждающими документами направьте на почту udodep @ utmn. ru или 12222 @ utmn. ru Сроки оплаты по договору у студентов очной формы обучения до 1 июля и до 15 декабря соответствующего года, у студентов заочной и очно - заочной формы обучения за 30 дней до начала сессии.']]"
      ]
     },
     "execution_count": 42,
     "metadata": {},
     "output_type": "execute_result"
    }
   ],
   "source": [
    "questions = [[\"Как уйти в академический отпуск?\",\n",
    "              \"Что нужно сделать перед выходом из отпуска?\"],\n",
    "             [\"Как получить справку о размере стипендии?\",\n",
    "              \"Могу ли я оплачивать обучение в рассрочку?\"]]\n",
    "\n",
    "chat_documents = []\n",
    "for i in questions:\n",
    "    case_chat_documents = []\n",
    "    for j in i:\n",
    "        case_chat_documents.append(answer_rusbert_finetuned(j))\n",
    "    chat_documents.append(case_chat_documents)\n",
    "    \n",
    "chat_documents"
   ]
  },
  {
   "cell_type": "markdown",
   "id": "5a096e40",
   "metadata": {},
   "source": [
    "### GigaChat"
   ]
  },
  {
   "cell_type": "code",
   "execution_count": 44,
   "id": "75c1b0a9",
   "metadata": {},
   "outputs": [],
   "source": [
    "from langchain.llms import GigaChat\n",
    "giga = GigaChat(credentials=gigachat_token, verify_ssl_certs=False)\n",
    "giga_chain = prompt | giga\n",
    "giga_chain_with_history = prompt_with_history | giga"
   ]
  },
  {
   "cell_type": "code",
   "execution_count": 45,
   "id": "d57836be",
   "metadata": {},
   "outputs": [
    {
     "data": {
      "text/plain": [
       "({'context': 'Заявление на академический отпуск подается через личный кабинет на портале \" Вместе \" в разделе \" Заявления \". ВАЖНО! Заявление на отпуск не может быть подано : 1. в период прохождения госаттестации ; 2. в случае несдачи комиссионной пересдачи. Согласно п. 1. 4 \" Положения о порядке предоставления и выхода из академического отпуска и иных отпусков для обучающихся ФГАОУ ВО ТюмГУ : Решение о предоставлении отпуска принимается в течение 10 ( десяти ) дней со дня подачи обучающимся заявления и прилагаемых к нему документов ( при наличии ). Дата подачи заявления и начала отпуска, без подтверждающих документов, не может быть праздничным и / или нерабочим днем. За 3 недели до даты окончания отпуска необходимо будет подать заявление на выход из академического отпуска. Бланк заявления на выход из академического отпуска можете скачать по ссылке https : / / www. utmn. ru / o - tyumgu / organizatsionnaya - skhema - tyumgu / edinyy - dekanat / blanki - zayavleniy / otpusk /.',\n",
       "  'question': 'Как уйти в академический отпуск?'},\n",
       " 'Для ухода в академический отпуск необходимо подать заявление через личный кабинет на портале \"Вместе\" в разделе \"Заявления\". Заявление не может быть подано в период прохождения госаттестации или в случае несдачи комиссионной пересдачи. Решение о предоставлении отпуска принимается в течение 10 дней со дня подачи заявления и прилагаемых к нему документов. За 3 недели до даты окончания отпуска необходимо подать заявление на выход из академического отпуска.')"
      ]
     },
     "execution_count": 45,
     "metadata": {},
     "output_type": "execute_result"
    }
   ],
   "source": [
    "query = {\"context\": chat_documents[0][0],\n",
    "        \"question\": questions[0][0]}\n",
    "answer = giga_chain.invoke(query).strip()\n",
    "query, answer"
   ]
  },
  {
   "cell_type": "code",
   "execution_count": 46,
   "id": "9fce4135",
   "metadata": {},
   "outputs": [
    {
     "data": {
      "text/plain": [
       "({'context': 'Заявление подается через личный кабинет на портале \" Вместе \". Основанием для предоставления отпуска является заключение врачебной комиссии медицинской организации. Отпуск предоставляется по датам, указанным в заключении врачебной комиссии.',\n",
       "  'question': 'Что нужно сделать перед выходом из отпуска?',\n",
       "  'prev_context': 'Заявление на академический отпуск подается через личный кабинет на портале \" Вместе \" в разделе \" Заявления \". ВАЖНО! Заявление на отпуск не может быть подано : 1. в период прохождения госаттестации ; 2. в случае несдачи комиссионной пересдачи. Согласно п. 1. 4 \" Положения о порядке предоставления и выхода из академического отпуска и иных отпусков для обучающихся ФГАОУ ВО ТюмГУ : Решение о предоставлении отпуска принимается в течение 10 ( десяти ) дней со дня подачи обучающимся заявления и прилагаемых к нему документов ( при наличии ). Дата подачи заявления и начала отпуска, без подтверждающих документов, не может быть праздничным и / или нерабочим днем. За 3 недели до даты окончания отпуска необходимо будет подать заявление на выход из академического отпуска. Бланк заявления на выход из академического отпуска можете скачать по ссылке https : / / www. utmn. ru / o - tyumgu / organizatsionnaya - skhema - tyumgu / edinyy - dekanat / blanki - zayavleniy / otpusk /.',\n",
       "  'prev_question': 'Как уйти в академический отпуск?',\n",
       "  'prev_answer': 'Для ухода в академический отпуск необходимо подать заявление через личный кабинет на портале \"Вместе\" в разделе \"Заявления\". Заявление не может быть подано в период прохождения госаттестации или в случае несдачи комиссионной пересдачи. Решение о предоставлении отпуска принимается в течение 10 дней со дня подачи заявления и прилагаемых к нему документов. За 3 недели до даты окончания отпуска необходимо подать заявление на выход из академического отпуска.'},\n",
       " 'Ответ не найден.')"
      ]
     },
     "execution_count": 46,
     "metadata": {},
     "output_type": "execute_result"
    }
   ],
   "source": [
    "query = {\"context\": chat_documents[0][1],\n",
    "        \"question\": questions[0][1],\n",
    "        \"prev_context\": chat_documents[0][0],\n",
    "        \"prev_question\": questions[0][0],\n",
    "        \"prev_answer\": answer}\n",
    "answer = giga_chain_with_history.invoke(query).strip()\n",
    "query, answer"
   ]
  },
  {
   "cell_type": "code",
   "execution_count": 47,
   "id": "eb50557c",
   "metadata": {},
   "outputs": [
    {
     "data": {
      "text/plain": [
       "({'context': 'По вопросу получения справки о доходах, размере стипендии или пособии необходимо обратиться в Сервисный центр бухгалтерии, написав на почту 12222 @ utmn. ru или позвонив ( 3452 ) 59 - 76 - 76. Адрес местонахождения : г. Тюмень, ул. Кирова, д. 25 / 1. Часы работы : пн. - чт. 09. 00 - 17. 00 пт. 09. 00 - 16. 00 обед 12. 30 - 13. 15 сб., вс. - выходные дни.',\n",
       "  'question': 'Как получить справку о размере стипендии?'},\n",
       " 'Для получения справки о размере стипендии необходимо обратиться в Сервисный центр бухгалтерии. Можно написать на почту 12222 @ utmn. ru или позвонить по телефону ( 3452 ) 59 - 76 - 76. Адрес местонахождения центра: г. Тюмень, ул. Кирова, д. 25 / 1. Часы работы: пн. - чт. 09. 00 - 17. 00 пт. 09. 00 - 16. 00 обед 12. 30 - 13. 15 сб., вс. - выходные дни.')"
      ]
     },
     "execution_count": 47,
     "metadata": {},
     "output_type": "execute_result"
    }
   ],
   "source": [
    "query = {\"context\": chat_documents[1][0],\n",
    "        \"question\": questions[1][0]}\n",
    "answer = giga_chain.invoke(query).strip()\n",
    "query, answer"
   ]
  },
  {
   "cell_type": "code",
   "execution_count": 48,
   "id": "f254c970",
   "metadata": {},
   "outputs": [
    {
     "data": {
      "text/plain": [
       "({'context': 'По вопросам оплаты обучения, суммы задолженности, получения реквизитов обратитесь в отдел платных образовательных услуг, написав на почту udodep @ utmn. ru или позвонив по телефону ( 3452 ) 59 - 74 - 00, доб. 14312, либо 14314, либо 14362. Адрес отдела платных образовательных услуг : ул. Ленина, д. 16, каб. 105. Для оплаты обучения материнским капиталом направьте запрос на получение документов на почту отдела платных образовательных услуг : udodep @ utmn. ru На данный момент действует приказ 363 - 1 о предоставлении рассрочки по оплате за обучение ознакомиться с приказом можно на сайте utmn. ru в разделе \" Стоимость обучения \", заполненное заявление вместе с подтверждающими документами направьте на почту udodep @ utmn. ru или 12222 @ utmn. ru Сроки оплаты по договору у студентов очной формы обучения до 1 июля и до 15 декабря соответствующего года, у студентов заочной и очно - заочной формы обучения за 30 дней до начала сессии.',\n",
       "  'question': 'Могу ли я оплачивать обучение в рассрочку?',\n",
       "  'prev_context': 'По вопросу получения справки о доходах, размере стипендии или пособии необходимо обратиться в Сервисный центр бухгалтерии, написав на почту 12222 @ utmn. ru или позвонив ( 3452 ) 59 - 76 - 76. Адрес местонахождения : г. Тюмень, ул. Кирова, д. 25 / 1. Часы работы : пн. - чт. 09. 00 - 17. 00 пт. 09. 00 - 16. 00 обед 12. 30 - 13. 15 сб., вс. - выходные дни.',\n",
       "  'prev_question': 'Как получить справку о размере стипендии?',\n",
       "  'prev_answer': 'Для получения справки о размере стипендии необходимо обратиться в Сервисный центр бухгалтерии. Можно написать на почту 12222 @ utmn. ru или позвонить по телефону ( 3452 ) 59 - 76 - 76. Адрес местонахождения центра: г. Тюмень, ул. Кирова, д. 25 / 1. Часы работы: пн. - чт. 09. 00 - 17. 00 пт. 09. 00 - 16. 00 обед 12. 30 - 13. 15 сб., вс. - выходные дни.'},\n",
       " 'Да, вы можете оплачивать обучение в рассрочку. В тексте указано, что действует приказ 363-1 о предоставлении рассрочки по оплате за обучение. Для получения информации о процедуре оплаты в рассрочку, пожалуйста, обратитесь в отдел платных образовательных услуг по указанным контактам.')"
      ]
     },
     "execution_count": 48,
     "metadata": {},
     "output_type": "execute_result"
    }
   ],
   "source": [
    "query = {\"context\": chat_documents[1][1],\n",
    "        \"question\": questions[1][1],\n",
    "        \"prev_context\": chat_documents[1][0],\n",
    "        \"prev_question\": questions[1][0],\n",
    "        \"prev_answer\": answer}\n",
    "answer = giga_chain_with_history.invoke(query).strip()\n",
    "query, answer"
   ]
  },
  {
   "cell_type": "code",
   "execution_count": 27,
   "id": "15e4bc5a",
   "metadata": {},
   "outputs": [
    {
     "name": "stdout",
     "output_type": "stream",
     "text": [
      "True\n"
     ]
    }
   ],
   "source": [
    "from contextlib import redirect_stderr\n",
    "import io\n",
    "\n",
    "query = {\"context\": document,\n",
    "         \"question\": \"кто такой Путин?\"}\n",
    "\n",
    "f = io.StringIO()\n",
    "with redirect_stderr(f):\n",
    "    res = giga_chain.invoke(query).strip()\n",
    "print(\"stopped\" in f.getvalue())"
   ]
  },
  {
   "cell_type": "markdown",
   "id": "b920a282",
   "metadata": {},
   "source": [
    "### Локальные Text2Text"
   ]
  },
  {
   "cell_type": "code",
   "execution_count": 14,
   "id": "1ad43a23",
   "metadata": {},
   "outputs": [
    {
     "data": {
      "text/plain": [
       "0"
      ]
     },
     "execution_count": 14,
     "metadata": {},
     "output_type": "execute_result"
    }
   ],
   "source": [
    "import torch\n",
    "from transformers import pipeline\n",
    "from langchain.llms import HuggingFacePipeline\n",
    "\n",
    "device = torch.cuda.current_device() if torch.cuda.is_available() and torch.cuda.mem_get_info()[0] >= 2*1024**3 else -1\n",
    "device"
   ]
  },
  {
   "cell_type": "code",
   "execution_count": 15,
   "id": "34a62c15",
   "metadata": {},
   "outputs": [],
   "source": [
    "# model_name = \"ai-forever/FRED-T5-1.7B\"\n",
    "model_name = \"google/gemma-2b\""
   ]
  },
  {
   "cell_type": "code",
   "execution_count": null,
   "id": "056edddb",
   "metadata": {},
   "outputs": [],
   "source": [
    "# FOR SAVING MODEL ONLY!\n",
    "# pipe = pipeline(\n",
    "#     \"text2text-generation\", model=model_name, max_new_tokens=500\n",
    "# )\n",
    "\n",
    "pipe = pipeline(\"text-generation\", model=model_name, max_new_tokens=10000, model_max_length=4096)\n",
    "pipe.save_pretrained(f\"saved_models/{model_name}\")"
   ]
  },
  {
   "cell_type": "code",
   "execution_count": 17,
   "id": "f2a9c1ba",
   "metadata": {},
   "outputs": [
    {
     "data": {
      "application/vnd.jupyter.widget-view+json": {
       "model_id": "32812f613b77428dbb81bd98efc2f61b",
       "version_major": 2,
       "version_minor": 0
      },
      "text/plain": [
       "Loading checkpoint shards:   0%|          | 0/3 [00:00<?, ?it/s]"
      ]
     },
     "metadata": {},
     "output_type": "display_data"
    }
   ],
   "source": [
    "# saved_pipeline = pipeline(\"text2text-generation\", f\"saved_models/{model_name}\", device=device, max_new_tokens=10000)\n",
    "saved_pipeline = pipeline(\"text-generation\", f\"saved_models/{model_name}\", device=device, max_new_tokens=10000, model_max_length=4096)\n",
    "hf_model = HuggingFacePipeline(pipeline=saved_pipeline).bind(stop=[\"\\n\\n\"])\n",
    "gpu_chain = prompt | hf_model"
   ]
  },
  {
   "cell_type": "code",
   "execution_count": 18,
   "id": "f077c56c",
   "metadata": {},
   "outputs": [
    {
     "name": "stderr",
     "output_type": "stream",
     "text": [
      "Both `max_new_tokens` (=10000) and `max_length`(=4096) seem to have been set. `max_new_tokens` will take precedence. Please refer to the documentation for more information. (https://huggingface.co/docs/transformers/main/en/main_classes/text_generation)\n",
      "d:\\git\\virtassist\\.venv\\lib\\site-packages\\transformers\\models\\gemma\\modeling_gemma.py:555: UserWarning: 1Torch was not compiled with flash attention. (Triggered internally at ..\\aten\\src\\ATen\\native\\transformers\\cuda\\sdp_utils.cpp:263.)\n",
      "  attn_output = torch.nn.functional.scaled_dot_product_attention(\n"
     ]
    },
    {
     "ename": "KeyboardInterrupt",
     "evalue": "",
     "output_type": "error",
     "traceback": [
      "\u001b[1;31m---------------------------------------------------------------------------\u001b[0m",
      "\u001b[1;31mKeyboardInterrupt\u001b[0m                         Traceback (most recent call last)",
      "Cell \u001b[1;32mIn[18], line 3\u001b[0m\n\u001b[0;32m      1\u001b[0m query \u001b[38;5;241m=\u001b[39m {\u001b[38;5;124m\"\u001b[39m\u001b[38;5;124mcontext\u001b[39m\u001b[38;5;124m\"\u001b[39m: document,\n\u001b[0;32m      2\u001b[0m         \u001b[38;5;124m\"\u001b[39m\u001b[38;5;124mquestion\u001b[39m\u001b[38;5;124m\"\u001b[39m: question}\n\u001b[1;32m----> 3\u001b[0m \u001b[38;5;28mprint\u001b[39m(\u001b[43mgpu_chain\u001b[49m\u001b[38;5;241;43m.\u001b[39;49m\u001b[43minvoke\u001b[49m\u001b[43m(\u001b[49m\u001b[43mquery\u001b[49m\u001b[43m)\u001b[49m\u001b[38;5;241m.\u001b[39mstrip())\n\u001b[0;32m      4\u001b[0m \u001b[38;5;28mprint\u001b[39m()\n\u001b[0;32m      5\u001b[0m \u001b[38;5;28mprint\u001b[39m(query)\n",
      "File \u001b[1;32md:\\git\\virtassist\\.venv\\lib\\site-packages\\langchain_core\\runnables\\base.py:2053\u001b[0m, in \u001b[0;36mRunnableSequence.invoke\u001b[1;34m(self, input, config)\u001b[0m\n\u001b[0;32m   2051\u001b[0m \u001b[38;5;28;01mtry\u001b[39;00m:\n\u001b[0;32m   2052\u001b[0m     \u001b[38;5;28;01mfor\u001b[39;00m i, step \u001b[38;5;129;01min\u001b[39;00m \u001b[38;5;28menumerate\u001b[39m(\u001b[38;5;28mself\u001b[39m\u001b[38;5;241m.\u001b[39msteps):\n\u001b[1;32m-> 2053\u001b[0m         \u001b[38;5;28minput\u001b[39m \u001b[38;5;241m=\u001b[39m \u001b[43mstep\u001b[49m\u001b[38;5;241;43m.\u001b[39;49m\u001b[43minvoke\u001b[49m\u001b[43m(\u001b[49m\n\u001b[0;32m   2054\u001b[0m \u001b[43m            \u001b[49m\u001b[38;5;28;43minput\u001b[39;49m\u001b[43m,\u001b[49m\n\u001b[0;32m   2055\u001b[0m \u001b[43m            \u001b[49m\u001b[38;5;66;43;03m# mark each step as a child run\u001b[39;49;00m\n\u001b[0;32m   2056\u001b[0m \u001b[43m            \u001b[49m\u001b[43mpatch_config\u001b[49m\u001b[43m(\u001b[49m\n\u001b[0;32m   2057\u001b[0m \u001b[43m                \u001b[49m\u001b[43mconfig\u001b[49m\u001b[43m,\u001b[49m\u001b[43m \u001b[49m\u001b[43mcallbacks\u001b[49m\u001b[38;5;241;43m=\u001b[39;49m\u001b[43mrun_manager\u001b[49m\u001b[38;5;241;43m.\u001b[39;49m\u001b[43mget_child\u001b[49m\u001b[43m(\u001b[49m\u001b[38;5;124;43mf\u001b[39;49m\u001b[38;5;124;43m\"\u001b[39;49m\u001b[38;5;124;43mseq:step:\u001b[39;49m\u001b[38;5;132;43;01m{\u001b[39;49;00m\u001b[43mi\u001b[49m\u001b[38;5;241;43m+\u001b[39;49m\u001b[38;5;241;43m1\u001b[39;49m\u001b[38;5;132;43;01m}\u001b[39;49;00m\u001b[38;5;124;43m\"\u001b[39;49m\u001b[43m)\u001b[49m\n\u001b[0;32m   2058\u001b[0m \u001b[43m            \u001b[49m\u001b[43m)\u001b[49m\u001b[43m,\u001b[49m\n\u001b[0;32m   2059\u001b[0m \u001b[43m        \u001b[49m\u001b[43m)\u001b[49m\n\u001b[0;32m   2060\u001b[0m \u001b[38;5;66;03m# finish the root run\u001b[39;00m\n\u001b[0;32m   2061\u001b[0m \u001b[38;5;28;01mexcept\u001b[39;00m \u001b[38;5;167;01mBaseException\u001b[39;00m \u001b[38;5;28;01mas\u001b[39;00m e:\n",
      "File \u001b[1;32md:\\git\\virtassist\\.venv\\lib\\site-packages\\langchain_core\\runnables\\base.py:4041\u001b[0m, in \u001b[0;36mRunnableBindingBase.invoke\u001b[1;34m(self, input, config, **kwargs)\u001b[0m\n\u001b[0;32m   4035\u001b[0m \u001b[38;5;28;01mdef\u001b[39;00m \u001b[38;5;21minvoke\u001b[39m(\n\u001b[0;32m   4036\u001b[0m     \u001b[38;5;28mself\u001b[39m,\n\u001b[0;32m   4037\u001b[0m     \u001b[38;5;28minput\u001b[39m: Input,\n\u001b[0;32m   4038\u001b[0m     config: Optional[RunnableConfig] \u001b[38;5;241m=\u001b[39m \u001b[38;5;28;01mNone\u001b[39;00m,\n\u001b[0;32m   4039\u001b[0m     \u001b[38;5;241m*\u001b[39m\u001b[38;5;241m*\u001b[39mkwargs: Optional[Any],\n\u001b[0;32m   4040\u001b[0m ) \u001b[38;5;241m-\u001b[39m\u001b[38;5;241m>\u001b[39m Output:\n\u001b[1;32m-> 4041\u001b[0m     \u001b[38;5;28;01mreturn\u001b[39;00m \u001b[38;5;28mself\u001b[39m\u001b[38;5;241m.\u001b[39mbound\u001b[38;5;241m.\u001b[39minvoke(\n\u001b[0;32m   4042\u001b[0m         \u001b[38;5;28minput\u001b[39m,\n\u001b[0;32m   4043\u001b[0m         \u001b[38;5;28mself\u001b[39m\u001b[38;5;241m.\u001b[39m_merge_configs(config),\n\u001b[0;32m   4044\u001b[0m         \u001b[38;5;241m*\u001b[39m\u001b[38;5;241m*\u001b[39m{\u001b[38;5;241m*\u001b[39m\u001b[38;5;241m*\u001b[39m\u001b[38;5;28mself\u001b[39m\u001b[38;5;241m.\u001b[39mkwargs, \u001b[38;5;241m*\u001b[39m\u001b[38;5;241m*\u001b[39mkwargs},\n\u001b[0;32m   4045\u001b[0m     )\n",
      "File \u001b[1;32md:\\git\\virtassist\\.venv\\lib\\site-packages\\langchain_core\\language_models\\llms.py:235\u001b[0m, in \u001b[0;36mBaseLLM.invoke\u001b[1;34m(self, input, config, stop, **kwargs)\u001b[0m\n\u001b[0;32m    225\u001b[0m \u001b[38;5;28;01mdef\u001b[39;00m \u001b[38;5;21minvoke\u001b[39m(\n\u001b[0;32m    226\u001b[0m     \u001b[38;5;28mself\u001b[39m,\n\u001b[0;32m    227\u001b[0m     \u001b[38;5;28minput\u001b[39m: LanguageModelInput,\n\u001b[1;32m   (...)\u001b[0m\n\u001b[0;32m    231\u001b[0m     \u001b[38;5;241m*\u001b[39m\u001b[38;5;241m*\u001b[39mkwargs: Any,\n\u001b[0;32m    232\u001b[0m ) \u001b[38;5;241m-\u001b[39m\u001b[38;5;241m>\u001b[39m \u001b[38;5;28mstr\u001b[39m:\n\u001b[0;32m    233\u001b[0m     config \u001b[38;5;241m=\u001b[39m ensure_config(config)\n\u001b[0;32m    234\u001b[0m     \u001b[38;5;28;01mreturn\u001b[39;00m (\n\u001b[1;32m--> 235\u001b[0m         \u001b[38;5;28mself\u001b[39m\u001b[38;5;241m.\u001b[39mgenerate_prompt(\n\u001b[0;32m    236\u001b[0m             [\u001b[38;5;28mself\u001b[39m\u001b[38;5;241m.\u001b[39m_convert_input(\u001b[38;5;28minput\u001b[39m)],\n\u001b[0;32m    237\u001b[0m             stop\u001b[38;5;241m=\u001b[39mstop,\n\u001b[0;32m    238\u001b[0m             callbacks\u001b[38;5;241m=\u001b[39mconfig\u001b[38;5;241m.\u001b[39mget(\u001b[38;5;124m\"\u001b[39m\u001b[38;5;124mcallbacks\u001b[39m\u001b[38;5;124m\"\u001b[39m),\n\u001b[0;32m    239\u001b[0m             tags\u001b[38;5;241m=\u001b[39mconfig\u001b[38;5;241m.\u001b[39mget(\u001b[38;5;124m\"\u001b[39m\u001b[38;5;124mtags\u001b[39m\u001b[38;5;124m\"\u001b[39m),\n\u001b[0;32m    240\u001b[0m             metadata\u001b[38;5;241m=\u001b[39mconfig\u001b[38;5;241m.\u001b[39mget(\u001b[38;5;124m\"\u001b[39m\u001b[38;5;124mmetadata\u001b[39m\u001b[38;5;124m\"\u001b[39m),\n\u001b[0;32m    241\u001b[0m             run_name\u001b[38;5;241m=\u001b[39mconfig\u001b[38;5;241m.\u001b[39mget(\u001b[38;5;124m\"\u001b[39m\u001b[38;5;124mrun_name\u001b[39m\u001b[38;5;124m\"\u001b[39m),\n\u001b[0;32m    242\u001b[0m             \u001b[38;5;241m*\u001b[39m\u001b[38;5;241m*\u001b[39mkwargs,\n\u001b[0;32m    243\u001b[0m         )\n\u001b[0;32m    244\u001b[0m         \u001b[38;5;241m.\u001b[39mgenerations[\u001b[38;5;241m0\u001b[39m][\u001b[38;5;241m0\u001b[39m]\n\u001b[0;32m    245\u001b[0m         \u001b[38;5;241m.\u001b[39mtext\n\u001b[0;32m    246\u001b[0m     )\n",
      "File \u001b[1;32md:\\git\\virtassist\\.venv\\lib\\site-packages\\langchain_core\\language_models\\llms.py:530\u001b[0m, in \u001b[0;36mBaseLLM.generate_prompt\u001b[1;34m(self, prompts, stop, callbacks, **kwargs)\u001b[0m\n\u001b[0;32m    522\u001b[0m \u001b[38;5;28;01mdef\u001b[39;00m \u001b[38;5;21mgenerate_prompt\u001b[39m(\n\u001b[0;32m    523\u001b[0m     \u001b[38;5;28mself\u001b[39m,\n\u001b[0;32m    524\u001b[0m     prompts: List[PromptValue],\n\u001b[1;32m   (...)\u001b[0m\n\u001b[0;32m    527\u001b[0m     \u001b[38;5;241m*\u001b[39m\u001b[38;5;241m*\u001b[39mkwargs: Any,\n\u001b[0;32m    528\u001b[0m ) \u001b[38;5;241m-\u001b[39m\u001b[38;5;241m>\u001b[39m LLMResult:\n\u001b[0;32m    529\u001b[0m     prompt_strings \u001b[38;5;241m=\u001b[39m [p\u001b[38;5;241m.\u001b[39mto_string() \u001b[38;5;28;01mfor\u001b[39;00m p \u001b[38;5;129;01min\u001b[39;00m prompts]\n\u001b[1;32m--> 530\u001b[0m     \u001b[38;5;28;01mreturn\u001b[39;00m \u001b[38;5;28mself\u001b[39m\u001b[38;5;241m.\u001b[39mgenerate(prompt_strings, stop\u001b[38;5;241m=\u001b[39mstop, callbacks\u001b[38;5;241m=\u001b[39mcallbacks, \u001b[38;5;241m*\u001b[39m\u001b[38;5;241m*\u001b[39mkwargs)\n",
      "File \u001b[1;32md:\\git\\virtassist\\.venv\\lib\\site-packages\\langchain_core\\language_models\\llms.py:703\u001b[0m, in \u001b[0;36mBaseLLM.generate\u001b[1;34m(self, prompts, stop, callbacks, tags, metadata, run_name, **kwargs)\u001b[0m\n\u001b[0;32m    687\u001b[0m         \u001b[38;5;28;01mraise\u001b[39;00m \u001b[38;5;167;01mValueError\u001b[39;00m(\n\u001b[0;32m    688\u001b[0m             \u001b[38;5;124m\"\u001b[39m\u001b[38;5;124mAsked to cache, but no cache found at `langchain.cache`.\u001b[39m\u001b[38;5;124m\"\u001b[39m\n\u001b[0;32m    689\u001b[0m         )\n\u001b[0;32m    690\u001b[0m     run_managers \u001b[38;5;241m=\u001b[39m [\n\u001b[0;32m    691\u001b[0m         callback_manager\u001b[38;5;241m.\u001b[39mon_llm_start(\n\u001b[0;32m    692\u001b[0m             dumpd(\u001b[38;5;28mself\u001b[39m),\n\u001b[1;32m   (...)\u001b[0m\n\u001b[0;32m    701\u001b[0m         )\n\u001b[0;32m    702\u001b[0m     ]\n\u001b[1;32m--> 703\u001b[0m     output \u001b[38;5;241m=\u001b[39m \u001b[38;5;28mself\u001b[39m\u001b[38;5;241m.\u001b[39m_generate_helper(\n\u001b[0;32m    704\u001b[0m         prompts, stop, run_managers, \u001b[38;5;28mbool\u001b[39m(new_arg_supported), \u001b[38;5;241m*\u001b[39m\u001b[38;5;241m*\u001b[39mkwargs\n\u001b[0;32m    705\u001b[0m     )\n\u001b[0;32m    706\u001b[0m     \u001b[38;5;28;01mreturn\u001b[39;00m output\n\u001b[0;32m    707\u001b[0m \u001b[38;5;28;01mif\u001b[39;00m \u001b[38;5;28mlen\u001b[39m(missing_prompts) \u001b[38;5;241m>\u001b[39m \u001b[38;5;241m0\u001b[39m:\n",
      "File \u001b[1;32md:\\git\\virtassist\\.venv\\lib\\site-packages\\langchain_core\\language_models\\llms.py:567\u001b[0m, in \u001b[0;36mBaseLLM._generate_helper\u001b[1;34m(self, prompts, stop, run_managers, new_arg_supported, **kwargs)\u001b[0m\n\u001b[0;32m    565\u001b[0m     \u001b[38;5;28;01mfor\u001b[39;00m run_manager \u001b[38;5;129;01min\u001b[39;00m run_managers:\n\u001b[0;32m    566\u001b[0m         run_manager\u001b[38;5;241m.\u001b[39mon_llm_error(e, response\u001b[38;5;241m=\u001b[39mLLMResult(generations\u001b[38;5;241m=\u001b[39m[]))\n\u001b[1;32m--> 567\u001b[0m     \u001b[38;5;28;01mraise\u001b[39;00m e\n\u001b[0;32m    568\u001b[0m flattened_outputs \u001b[38;5;241m=\u001b[39m output\u001b[38;5;241m.\u001b[39mflatten()\n\u001b[0;32m    569\u001b[0m \u001b[38;5;28;01mfor\u001b[39;00m manager, flattened_output \u001b[38;5;129;01min\u001b[39;00m \u001b[38;5;28mzip\u001b[39m(run_managers, flattened_outputs):\n",
      "File \u001b[1;32md:\\git\\virtassist\\.venv\\lib\\site-packages\\langchain_core\\language_models\\llms.py:554\u001b[0m, in \u001b[0;36mBaseLLM._generate_helper\u001b[1;34m(self, prompts, stop, run_managers, new_arg_supported, **kwargs)\u001b[0m\n\u001b[0;32m    544\u001b[0m \u001b[38;5;28;01mdef\u001b[39;00m \u001b[38;5;21m_generate_helper\u001b[39m(\n\u001b[0;32m    545\u001b[0m     \u001b[38;5;28mself\u001b[39m,\n\u001b[0;32m    546\u001b[0m     prompts: List[\u001b[38;5;28mstr\u001b[39m],\n\u001b[1;32m   (...)\u001b[0m\n\u001b[0;32m    550\u001b[0m     \u001b[38;5;241m*\u001b[39m\u001b[38;5;241m*\u001b[39mkwargs: Any,\n\u001b[0;32m    551\u001b[0m ) \u001b[38;5;241m-\u001b[39m\u001b[38;5;241m>\u001b[39m LLMResult:\n\u001b[0;32m    552\u001b[0m     \u001b[38;5;28;01mtry\u001b[39;00m:\n\u001b[0;32m    553\u001b[0m         output \u001b[38;5;241m=\u001b[39m (\n\u001b[1;32m--> 554\u001b[0m             \u001b[38;5;28mself\u001b[39m\u001b[38;5;241m.\u001b[39m_generate(\n\u001b[0;32m    555\u001b[0m                 prompts,\n\u001b[0;32m    556\u001b[0m                 stop\u001b[38;5;241m=\u001b[39mstop,\n\u001b[0;32m    557\u001b[0m                 \u001b[38;5;66;03m# TODO: support multiple run managers\u001b[39;00m\n\u001b[0;32m    558\u001b[0m                 run_manager\u001b[38;5;241m=\u001b[39mrun_managers[\u001b[38;5;241m0\u001b[39m] \u001b[38;5;28;01mif\u001b[39;00m run_managers \u001b[38;5;28;01melse\u001b[39;00m \u001b[38;5;28;01mNone\u001b[39;00m,\n\u001b[0;32m    559\u001b[0m                 \u001b[38;5;241m*\u001b[39m\u001b[38;5;241m*\u001b[39mkwargs,\n\u001b[0;32m    560\u001b[0m             )\n\u001b[0;32m    561\u001b[0m             \u001b[38;5;28;01mif\u001b[39;00m new_arg_supported\n\u001b[0;32m    562\u001b[0m             \u001b[38;5;28;01melse\u001b[39;00m \u001b[38;5;28mself\u001b[39m\u001b[38;5;241m.\u001b[39m_generate(prompts, stop\u001b[38;5;241m=\u001b[39mstop)\n\u001b[0;32m    563\u001b[0m         )\n\u001b[0;32m    564\u001b[0m     \u001b[38;5;28;01mexcept\u001b[39;00m \u001b[38;5;167;01mBaseException\u001b[39;00m \u001b[38;5;28;01mas\u001b[39;00m e:\n\u001b[0;32m    565\u001b[0m         \u001b[38;5;28;01mfor\u001b[39;00m run_manager \u001b[38;5;129;01min\u001b[39;00m run_managers:\n",
      "File \u001b[1;32md:\\git\\virtassist\\.venv\\lib\\site-packages\\langchain_community\\llms\\huggingface_pipeline.py:203\u001b[0m, in \u001b[0;36mHuggingFacePipeline._generate\u001b[1;34m(self, prompts, stop, run_manager, **kwargs)\u001b[0m\n\u001b[0;32m    200\u001b[0m batch_prompts \u001b[38;5;241m=\u001b[39m prompts[i : i \u001b[38;5;241m+\u001b[39m \u001b[38;5;28mself\u001b[39m\u001b[38;5;241m.\u001b[39mbatch_size]\n\u001b[0;32m    202\u001b[0m \u001b[38;5;66;03m# Process batch of prompts\u001b[39;00m\n\u001b[1;32m--> 203\u001b[0m responses \u001b[38;5;241m=\u001b[39m \u001b[38;5;28;43mself\u001b[39;49m\u001b[38;5;241;43m.\u001b[39;49m\u001b[43mpipeline\u001b[49m\u001b[43m(\u001b[49m\u001b[43mbatch_prompts\u001b[49m\u001b[43m)\u001b[49m\n\u001b[0;32m    205\u001b[0m \u001b[38;5;66;03m# Process each response in the batch\u001b[39;00m\n\u001b[0;32m    206\u001b[0m \u001b[38;5;28;01mfor\u001b[39;00m j, response \u001b[38;5;129;01min\u001b[39;00m \u001b[38;5;28menumerate\u001b[39m(responses):\n",
      "File \u001b[1;32md:\\git\\virtassist\\.venv\\lib\\site-packages\\transformers\\pipelines\\text_generation.py:241\u001b[0m, in \u001b[0;36mTextGenerationPipeline.__call__\u001b[1;34m(self, text_inputs, **kwargs)\u001b[0m\n\u001b[0;32m    239\u001b[0m         \u001b[38;5;28;01mreturn\u001b[39;00m \u001b[38;5;28msuper\u001b[39m()\u001b[38;5;241m.\u001b[39m\u001b[38;5;21m__call__\u001b[39m(chats, \u001b[38;5;241m*\u001b[39m\u001b[38;5;241m*\u001b[39mkwargs)\n\u001b[0;32m    240\u001b[0m \u001b[38;5;28;01melse\u001b[39;00m:\n\u001b[1;32m--> 241\u001b[0m     \u001b[38;5;28;01mreturn\u001b[39;00m \u001b[38;5;28msuper\u001b[39m()\u001b[38;5;241m.\u001b[39m\u001b[38;5;21m__call__\u001b[39m(text_inputs, \u001b[38;5;241m*\u001b[39m\u001b[38;5;241m*\u001b[39mkwargs)\n",
      "File \u001b[1;32md:\\git\\virtassist\\.venv\\lib\\site-packages\\transformers\\pipelines\\base.py:1177\u001b[0m, in \u001b[0;36mPipeline.__call__\u001b[1;34m(self, inputs, num_workers, batch_size, *args, **kwargs)\u001b[0m\n\u001b[0;32m   1173\u001b[0m \u001b[38;5;28;01mif\u001b[39;00m can_use_iterator:\n\u001b[0;32m   1174\u001b[0m     final_iterator \u001b[38;5;241m=\u001b[39m \u001b[38;5;28mself\u001b[39m\u001b[38;5;241m.\u001b[39mget_iterator(\n\u001b[0;32m   1175\u001b[0m         inputs, num_workers, batch_size, preprocess_params, forward_params, postprocess_params\n\u001b[0;32m   1176\u001b[0m     )\n\u001b[1;32m-> 1177\u001b[0m     outputs \u001b[38;5;241m=\u001b[39m \u001b[38;5;28;43mlist\u001b[39;49m\u001b[43m(\u001b[49m\u001b[43mfinal_iterator\u001b[49m\u001b[43m)\u001b[49m\n\u001b[0;32m   1178\u001b[0m     \u001b[38;5;28;01mreturn\u001b[39;00m outputs\n\u001b[0;32m   1179\u001b[0m \u001b[38;5;28;01melse\u001b[39;00m:\n",
      "File \u001b[1;32md:\\git\\virtassist\\.venv\\lib\\site-packages\\transformers\\pipelines\\pt_utils.py:124\u001b[0m, in \u001b[0;36mPipelineIterator.__next__\u001b[1;34m(self)\u001b[0m\n\u001b[0;32m    121\u001b[0m     \u001b[38;5;28;01mreturn\u001b[39;00m \u001b[38;5;28mself\u001b[39m\u001b[38;5;241m.\u001b[39mloader_batch_item()\n\u001b[0;32m    123\u001b[0m \u001b[38;5;66;03m# We're out of items within a batch\u001b[39;00m\n\u001b[1;32m--> 124\u001b[0m item \u001b[38;5;241m=\u001b[39m \u001b[38;5;28;43mnext\u001b[39;49m\u001b[43m(\u001b[49m\u001b[38;5;28;43mself\u001b[39;49m\u001b[38;5;241;43m.\u001b[39;49m\u001b[43miterator\u001b[49m\u001b[43m)\u001b[49m\n\u001b[0;32m    125\u001b[0m processed \u001b[38;5;241m=\u001b[39m \u001b[38;5;28mself\u001b[39m\u001b[38;5;241m.\u001b[39minfer(item, \u001b[38;5;241m*\u001b[39m\u001b[38;5;241m*\u001b[39m\u001b[38;5;28mself\u001b[39m\u001b[38;5;241m.\u001b[39mparams)\n\u001b[0;32m    126\u001b[0m \u001b[38;5;66;03m# We now have a batch of \"inferred things\".\u001b[39;00m\n",
      "File \u001b[1;32md:\\git\\virtassist\\.venv\\lib\\site-packages\\transformers\\pipelines\\pt_utils.py:125\u001b[0m, in \u001b[0;36mPipelineIterator.__next__\u001b[1;34m(self)\u001b[0m\n\u001b[0;32m    123\u001b[0m \u001b[38;5;66;03m# We're out of items within a batch\u001b[39;00m\n\u001b[0;32m    124\u001b[0m item \u001b[38;5;241m=\u001b[39m \u001b[38;5;28mnext\u001b[39m(\u001b[38;5;28mself\u001b[39m\u001b[38;5;241m.\u001b[39miterator)\n\u001b[1;32m--> 125\u001b[0m processed \u001b[38;5;241m=\u001b[39m \u001b[38;5;28mself\u001b[39m\u001b[38;5;241m.\u001b[39minfer(item, \u001b[38;5;241m*\u001b[39m\u001b[38;5;241m*\u001b[39m\u001b[38;5;28mself\u001b[39m\u001b[38;5;241m.\u001b[39mparams)\n\u001b[0;32m    126\u001b[0m \u001b[38;5;66;03m# We now have a batch of \"inferred things\".\u001b[39;00m\n\u001b[0;32m    127\u001b[0m \u001b[38;5;28;01mif\u001b[39;00m \u001b[38;5;28mself\u001b[39m\u001b[38;5;241m.\u001b[39mloader_batch_size \u001b[38;5;129;01mis\u001b[39;00m \u001b[38;5;129;01mnot\u001b[39;00m \u001b[38;5;28;01mNone\u001b[39;00m:\n\u001b[0;32m    128\u001b[0m     \u001b[38;5;66;03m# Try to infer the size of the batch\u001b[39;00m\n",
      "File \u001b[1;32md:\\git\\virtassist\\.venv\\lib\\site-packages\\transformers\\pipelines\\base.py:1102\u001b[0m, in \u001b[0;36mPipeline.forward\u001b[1;34m(self, model_inputs, **forward_params)\u001b[0m\n\u001b[0;32m   1100\u001b[0m     \u001b[38;5;28;01mwith\u001b[39;00m inference_context():\n\u001b[0;32m   1101\u001b[0m         model_inputs \u001b[38;5;241m=\u001b[39m \u001b[38;5;28mself\u001b[39m\u001b[38;5;241m.\u001b[39m_ensure_tensor_on_device(model_inputs, device\u001b[38;5;241m=\u001b[39m\u001b[38;5;28mself\u001b[39m\u001b[38;5;241m.\u001b[39mdevice)\n\u001b[1;32m-> 1102\u001b[0m         model_outputs \u001b[38;5;241m=\u001b[39m \u001b[38;5;28mself\u001b[39m\u001b[38;5;241m.\u001b[39m_forward(model_inputs, \u001b[38;5;241m*\u001b[39m\u001b[38;5;241m*\u001b[39mforward_params)\n\u001b[0;32m   1103\u001b[0m         model_outputs \u001b[38;5;241m=\u001b[39m \u001b[38;5;28mself\u001b[39m\u001b[38;5;241m.\u001b[39m_ensure_tensor_on_device(model_outputs, device\u001b[38;5;241m=\u001b[39mtorch\u001b[38;5;241m.\u001b[39mdevice(\u001b[38;5;124m\"\u001b[39m\u001b[38;5;124mcpu\u001b[39m\u001b[38;5;124m\"\u001b[39m))\n\u001b[0;32m   1104\u001b[0m \u001b[38;5;28;01melse\u001b[39;00m:\n",
      "File \u001b[1;32md:\\git\\virtassist\\.venv\\lib\\site-packages\\transformers\\pipelines\\text_generation.py:328\u001b[0m, in \u001b[0;36mTextGenerationPipeline._forward\u001b[1;34m(self, model_inputs, **generate_kwargs)\u001b[0m\n\u001b[0;32m    325\u001b[0m         generate_kwargs[\u001b[38;5;124m\"\u001b[39m\u001b[38;5;124mmin_length\u001b[39m\u001b[38;5;124m\"\u001b[39m] \u001b[38;5;241m+\u001b[39m\u001b[38;5;241m=\u001b[39m prefix_length\n\u001b[0;32m    327\u001b[0m \u001b[38;5;66;03m# BS x SL\u001b[39;00m\n\u001b[1;32m--> 328\u001b[0m generated_sequence \u001b[38;5;241m=\u001b[39m \u001b[38;5;28mself\u001b[39m\u001b[38;5;241m.\u001b[39mmodel\u001b[38;5;241m.\u001b[39mgenerate(input_ids\u001b[38;5;241m=\u001b[39minput_ids, attention_mask\u001b[38;5;241m=\u001b[39mattention_mask, \u001b[38;5;241m*\u001b[39m\u001b[38;5;241m*\u001b[39mgenerate_kwargs)\n\u001b[0;32m    329\u001b[0m out_b \u001b[38;5;241m=\u001b[39m generated_sequence\u001b[38;5;241m.\u001b[39mshape[\u001b[38;5;241m0\u001b[39m]\n\u001b[0;32m    330\u001b[0m \u001b[38;5;28;01mif\u001b[39;00m \u001b[38;5;28mself\u001b[39m\u001b[38;5;241m.\u001b[39mframework \u001b[38;5;241m==\u001b[39m \u001b[38;5;124m\"\u001b[39m\u001b[38;5;124mpt\u001b[39m\u001b[38;5;124m\"\u001b[39m:\n",
      "File \u001b[1;32md:\\git\\virtassist\\.venv\\lib\\site-packages\\torch\\utils\\_contextlib.py:115\u001b[0m, in \u001b[0;36mcontext_decorator.<locals>.decorate_context\u001b[1;34m(*args, **kwargs)\u001b[0m\n\u001b[0;32m    112\u001b[0m \u001b[38;5;129m@functools\u001b[39m\u001b[38;5;241m.\u001b[39mwraps(func)\n\u001b[0;32m    113\u001b[0m \u001b[38;5;28;01mdef\u001b[39;00m \u001b[38;5;21mdecorate_context\u001b[39m(\u001b[38;5;241m*\u001b[39margs, \u001b[38;5;241m*\u001b[39m\u001b[38;5;241m*\u001b[39mkwargs):\n\u001b[0;32m    114\u001b[0m     \u001b[38;5;28;01mwith\u001b[39;00m ctx_factory():\n\u001b[1;32m--> 115\u001b[0m         \u001b[38;5;28;01mreturn\u001b[39;00m func(\u001b[38;5;241m*\u001b[39margs, \u001b[38;5;241m*\u001b[39m\u001b[38;5;241m*\u001b[39mkwargs)\n",
      "File \u001b[1;32md:\\git\\virtassist\\.venv\\lib\\site-packages\\transformers\\generation\\utils.py:1544\u001b[0m, in \u001b[0;36mGenerationMixin.generate\u001b[1;34m(self, inputs, generation_config, logits_processor, stopping_criteria, prefix_allowed_tokens_fn, synced_gpus, assistant_model, streamer, negative_prompt_ids, negative_prompt_attention_mask, **kwargs)\u001b[0m\n\u001b[0;32m   1526\u001b[0m     \u001b[38;5;28;01mreturn\u001b[39;00m \u001b[38;5;28mself\u001b[39m\u001b[38;5;241m.\u001b[39massisted_decoding(\n\u001b[0;32m   1527\u001b[0m         input_ids,\n\u001b[0;32m   1528\u001b[0m         candidate_generator\u001b[38;5;241m=\u001b[39mcandidate_generator,\n\u001b[1;32m   (...)\u001b[0m\n\u001b[0;32m   1540\u001b[0m         \u001b[38;5;241m*\u001b[39m\u001b[38;5;241m*\u001b[39mmodel_kwargs,\n\u001b[0;32m   1541\u001b[0m     )\n\u001b[0;32m   1542\u001b[0m \u001b[38;5;28;01mif\u001b[39;00m generation_mode \u001b[38;5;241m==\u001b[39m GenerationMode\u001b[38;5;241m.\u001b[39mGREEDY_SEARCH:\n\u001b[0;32m   1543\u001b[0m     \u001b[38;5;66;03m# 11. run greedy search\u001b[39;00m\n\u001b[1;32m-> 1544\u001b[0m     \u001b[38;5;28;01mreturn\u001b[39;00m \u001b[38;5;28mself\u001b[39m\u001b[38;5;241m.\u001b[39mgreedy_search(\n\u001b[0;32m   1545\u001b[0m         input_ids,\n\u001b[0;32m   1546\u001b[0m         logits_processor\u001b[38;5;241m=\u001b[39mprepared_logits_processor,\n\u001b[0;32m   1547\u001b[0m         stopping_criteria\u001b[38;5;241m=\u001b[39mprepared_stopping_criteria,\n\u001b[0;32m   1548\u001b[0m         pad_token_id\u001b[38;5;241m=\u001b[39mgeneration_config\u001b[38;5;241m.\u001b[39mpad_token_id,\n\u001b[0;32m   1549\u001b[0m         eos_token_id\u001b[38;5;241m=\u001b[39mgeneration_config\u001b[38;5;241m.\u001b[39meos_token_id,\n\u001b[0;32m   1550\u001b[0m         output_scores\u001b[38;5;241m=\u001b[39mgeneration_config\u001b[38;5;241m.\u001b[39moutput_scores,\n\u001b[0;32m   1551\u001b[0m         output_logits\u001b[38;5;241m=\u001b[39mgeneration_config\u001b[38;5;241m.\u001b[39moutput_logits,\n\u001b[0;32m   1552\u001b[0m         return_dict_in_generate\u001b[38;5;241m=\u001b[39mgeneration_config\u001b[38;5;241m.\u001b[39mreturn_dict_in_generate,\n\u001b[0;32m   1553\u001b[0m         synced_gpus\u001b[38;5;241m=\u001b[39msynced_gpus,\n\u001b[0;32m   1554\u001b[0m         streamer\u001b[38;5;241m=\u001b[39mstreamer,\n\u001b[0;32m   1555\u001b[0m         \u001b[38;5;241m*\u001b[39m\u001b[38;5;241m*\u001b[39mmodel_kwargs,\n\u001b[0;32m   1556\u001b[0m     )\n\u001b[0;32m   1558\u001b[0m \u001b[38;5;28;01melif\u001b[39;00m generation_mode \u001b[38;5;241m==\u001b[39m GenerationMode\u001b[38;5;241m.\u001b[39mCONTRASTIVE_SEARCH:\n\u001b[0;32m   1559\u001b[0m     \u001b[38;5;28;01mif\u001b[39;00m \u001b[38;5;129;01mnot\u001b[39;00m model_kwargs[\u001b[38;5;124m\"\u001b[39m\u001b[38;5;124muse_cache\u001b[39m\u001b[38;5;124m\"\u001b[39m]:\n",
      "File \u001b[1;32md:\\git\\virtassist\\.venv\\lib\\site-packages\\transformers\\generation\\utils.py:2404\u001b[0m, in \u001b[0;36mGenerationMixin.greedy_search\u001b[1;34m(self, input_ids, logits_processor, stopping_criteria, max_length, pad_token_id, eos_token_id, output_attentions, output_hidden_states, output_scores, output_logits, return_dict_in_generate, synced_gpus, streamer, **model_kwargs)\u001b[0m\n\u001b[0;32m   2401\u001b[0m model_inputs \u001b[38;5;241m=\u001b[39m \u001b[38;5;28mself\u001b[39m\u001b[38;5;241m.\u001b[39mprepare_inputs_for_generation(input_ids, \u001b[38;5;241m*\u001b[39m\u001b[38;5;241m*\u001b[39mmodel_kwargs)\n\u001b[0;32m   2403\u001b[0m \u001b[38;5;66;03m# forward pass to get next token\u001b[39;00m\n\u001b[1;32m-> 2404\u001b[0m outputs \u001b[38;5;241m=\u001b[39m \u001b[38;5;28mself\u001b[39m(\n\u001b[0;32m   2405\u001b[0m     \u001b[38;5;241m*\u001b[39m\u001b[38;5;241m*\u001b[39mmodel_inputs,\n\u001b[0;32m   2406\u001b[0m     return_dict\u001b[38;5;241m=\u001b[39m\u001b[38;5;28;01mTrue\u001b[39;00m,\n\u001b[0;32m   2407\u001b[0m     output_attentions\u001b[38;5;241m=\u001b[39moutput_attentions,\n\u001b[0;32m   2408\u001b[0m     output_hidden_states\u001b[38;5;241m=\u001b[39moutput_hidden_states,\n\u001b[0;32m   2409\u001b[0m )\n\u001b[0;32m   2411\u001b[0m \u001b[38;5;28;01mif\u001b[39;00m synced_gpus \u001b[38;5;129;01mand\u001b[39;00m this_peer_finished:\n\u001b[0;32m   2412\u001b[0m     \u001b[38;5;28;01mcontinue\u001b[39;00m  \u001b[38;5;66;03m# don't waste resources running the code we don't need\u001b[39;00m\n",
      "File \u001b[1;32md:\\git\\virtassist\\.venv\\lib\\site-packages\\torch\\nn\\modules\\module.py:1511\u001b[0m, in \u001b[0;36mModule._wrapped_call_impl\u001b[1;34m(self, *args, **kwargs)\u001b[0m\n\u001b[0;32m   1509\u001b[0m     \u001b[38;5;28;01mreturn\u001b[39;00m \u001b[38;5;28mself\u001b[39m\u001b[38;5;241m.\u001b[39m_compiled_call_impl(\u001b[38;5;241m*\u001b[39margs, \u001b[38;5;241m*\u001b[39m\u001b[38;5;241m*\u001b[39mkwargs)  \u001b[38;5;66;03m# type: ignore[misc]\u001b[39;00m\n\u001b[0;32m   1510\u001b[0m \u001b[38;5;28;01melse\u001b[39;00m:\n\u001b[1;32m-> 1511\u001b[0m     \u001b[38;5;28;01mreturn\u001b[39;00m \u001b[38;5;28mself\u001b[39m\u001b[38;5;241m.\u001b[39m_call_impl(\u001b[38;5;241m*\u001b[39margs, \u001b[38;5;241m*\u001b[39m\u001b[38;5;241m*\u001b[39mkwargs)\n",
      "File \u001b[1;32md:\\git\\virtassist\\.venv\\lib\\site-packages\\torch\\nn\\modules\\module.py:1520\u001b[0m, in \u001b[0;36mModule._call_impl\u001b[1;34m(self, *args, **kwargs)\u001b[0m\n\u001b[0;32m   1515\u001b[0m \u001b[38;5;66;03m# If we don't have any hooks, we want to skip the rest of the logic in\u001b[39;00m\n\u001b[0;32m   1516\u001b[0m \u001b[38;5;66;03m# this function, and just call forward.\u001b[39;00m\n\u001b[0;32m   1517\u001b[0m \u001b[38;5;28;01mif\u001b[39;00m \u001b[38;5;129;01mnot\u001b[39;00m (\u001b[38;5;28mself\u001b[39m\u001b[38;5;241m.\u001b[39m_backward_hooks \u001b[38;5;129;01mor\u001b[39;00m \u001b[38;5;28mself\u001b[39m\u001b[38;5;241m.\u001b[39m_backward_pre_hooks \u001b[38;5;129;01mor\u001b[39;00m \u001b[38;5;28mself\u001b[39m\u001b[38;5;241m.\u001b[39m_forward_hooks \u001b[38;5;129;01mor\u001b[39;00m \u001b[38;5;28mself\u001b[39m\u001b[38;5;241m.\u001b[39m_forward_pre_hooks\n\u001b[0;32m   1518\u001b[0m         \u001b[38;5;129;01mor\u001b[39;00m _global_backward_pre_hooks \u001b[38;5;129;01mor\u001b[39;00m _global_backward_hooks\n\u001b[0;32m   1519\u001b[0m         \u001b[38;5;129;01mor\u001b[39;00m _global_forward_hooks \u001b[38;5;129;01mor\u001b[39;00m _global_forward_pre_hooks):\n\u001b[1;32m-> 1520\u001b[0m     \u001b[38;5;28;01mreturn\u001b[39;00m forward_call(\u001b[38;5;241m*\u001b[39margs, \u001b[38;5;241m*\u001b[39m\u001b[38;5;241m*\u001b[39mkwargs)\n\u001b[0;32m   1522\u001b[0m \u001b[38;5;28;01mtry\u001b[39;00m:\n\u001b[0;32m   1523\u001b[0m     result \u001b[38;5;241m=\u001b[39m \u001b[38;5;28;01mNone\u001b[39;00m\n",
      "File \u001b[1;32md:\\git\\virtassist\\.venv\\lib\\site-packages\\transformers\\models\\gemma\\modeling_gemma.py:1067\u001b[0m, in \u001b[0;36mGemmaForCausalLM.forward\u001b[1;34m(self, input_ids, attention_mask, position_ids, past_key_values, inputs_embeds, labels, use_cache, output_attentions, output_hidden_states, return_dict, cache_position)\u001b[0m\n\u001b[0;32m   1064\u001b[0m return_dict \u001b[38;5;241m=\u001b[39m return_dict \u001b[38;5;28;01mif\u001b[39;00m return_dict \u001b[38;5;129;01mis\u001b[39;00m \u001b[38;5;129;01mnot\u001b[39;00m \u001b[38;5;28;01mNone\u001b[39;00m \u001b[38;5;28;01melse\u001b[39;00m \u001b[38;5;28mself\u001b[39m\u001b[38;5;241m.\u001b[39mconfig\u001b[38;5;241m.\u001b[39muse_return_dict\n\u001b[0;32m   1066\u001b[0m \u001b[38;5;66;03m# decoder outputs consists of (dec_features, layer_state, dec_hidden, dec_attn)\u001b[39;00m\n\u001b[1;32m-> 1067\u001b[0m outputs \u001b[38;5;241m=\u001b[39m \u001b[38;5;28;43mself\u001b[39;49m\u001b[38;5;241;43m.\u001b[39;49m\u001b[43mmodel\u001b[49m\u001b[43m(\u001b[49m\n\u001b[0;32m   1068\u001b[0m \u001b[43m    \u001b[49m\u001b[43minput_ids\u001b[49m\u001b[38;5;241;43m=\u001b[39;49m\u001b[43minput_ids\u001b[49m\u001b[43m,\u001b[49m\n\u001b[0;32m   1069\u001b[0m \u001b[43m    \u001b[49m\u001b[43mattention_mask\u001b[49m\u001b[38;5;241;43m=\u001b[39;49m\u001b[43mattention_mask\u001b[49m\u001b[43m,\u001b[49m\n\u001b[0;32m   1070\u001b[0m \u001b[43m    \u001b[49m\u001b[43mposition_ids\u001b[49m\u001b[38;5;241;43m=\u001b[39;49m\u001b[43mposition_ids\u001b[49m\u001b[43m,\u001b[49m\n\u001b[0;32m   1071\u001b[0m \u001b[43m    \u001b[49m\u001b[43mpast_key_values\u001b[49m\u001b[38;5;241;43m=\u001b[39;49m\u001b[43mpast_key_values\u001b[49m\u001b[43m,\u001b[49m\n\u001b[0;32m   1072\u001b[0m \u001b[43m    \u001b[49m\u001b[43minputs_embeds\u001b[49m\u001b[38;5;241;43m=\u001b[39;49m\u001b[43minputs_embeds\u001b[49m\u001b[43m,\u001b[49m\n\u001b[0;32m   1073\u001b[0m \u001b[43m    \u001b[49m\u001b[43muse_cache\u001b[49m\u001b[38;5;241;43m=\u001b[39;49m\u001b[43muse_cache\u001b[49m\u001b[43m,\u001b[49m\n\u001b[0;32m   1074\u001b[0m \u001b[43m    \u001b[49m\u001b[43moutput_attentions\u001b[49m\u001b[38;5;241;43m=\u001b[39;49m\u001b[43moutput_attentions\u001b[49m\u001b[43m,\u001b[49m\n\u001b[0;32m   1075\u001b[0m \u001b[43m    \u001b[49m\u001b[43moutput_hidden_states\u001b[49m\u001b[38;5;241;43m=\u001b[39;49m\u001b[43moutput_hidden_states\u001b[49m\u001b[43m,\u001b[49m\n\u001b[0;32m   1076\u001b[0m \u001b[43m    \u001b[49m\u001b[43mreturn_dict\u001b[49m\u001b[38;5;241;43m=\u001b[39;49m\u001b[43mreturn_dict\u001b[49m\u001b[43m,\u001b[49m\n\u001b[0;32m   1077\u001b[0m \u001b[43m    \u001b[49m\u001b[43mcache_position\u001b[49m\u001b[38;5;241;43m=\u001b[39;49m\u001b[43mcache_position\u001b[49m\u001b[43m,\u001b[49m\n\u001b[0;32m   1078\u001b[0m \u001b[43m\u001b[49m\u001b[43m)\u001b[49m\n\u001b[0;32m   1080\u001b[0m hidden_states \u001b[38;5;241m=\u001b[39m outputs[\u001b[38;5;241m0\u001b[39m]\n\u001b[0;32m   1081\u001b[0m logits \u001b[38;5;241m=\u001b[39m \u001b[38;5;28mself\u001b[39m\u001b[38;5;241m.\u001b[39mlm_head(hidden_states)\n",
      "File \u001b[1;32md:\\git\\virtassist\\.venv\\lib\\site-packages\\torch\\nn\\modules\\module.py:1511\u001b[0m, in \u001b[0;36mModule._wrapped_call_impl\u001b[1;34m(self, *args, **kwargs)\u001b[0m\n\u001b[0;32m   1509\u001b[0m     \u001b[38;5;28;01mreturn\u001b[39;00m \u001b[38;5;28mself\u001b[39m\u001b[38;5;241m.\u001b[39m_compiled_call_impl(\u001b[38;5;241m*\u001b[39margs, \u001b[38;5;241m*\u001b[39m\u001b[38;5;241m*\u001b[39mkwargs)  \u001b[38;5;66;03m# type: ignore[misc]\u001b[39;00m\n\u001b[0;32m   1510\u001b[0m \u001b[38;5;28;01melse\u001b[39;00m:\n\u001b[1;32m-> 1511\u001b[0m     \u001b[38;5;28;01mreturn\u001b[39;00m \u001b[38;5;28mself\u001b[39m\u001b[38;5;241m.\u001b[39m_call_impl(\u001b[38;5;241m*\u001b[39margs, \u001b[38;5;241m*\u001b[39m\u001b[38;5;241m*\u001b[39mkwargs)\n",
      "File \u001b[1;32md:\\git\\virtassist\\.venv\\lib\\site-packages\\torch\\nn\\modules\\module.py:1520\u001b[0m, in \u001b[0;36mModule._call_impl\u001b[1;34m(self, *args, **kwargs)\u001b[0m\n\u001b[0;32m   1515\u001b[0m \u001b[38;5;66;03m# If we don't have any hooks, we want to skip the rest of the logic in\u001b[39;00m\n\u001b[0;32m   1516\u001b[0m \u001b[38;5;66;03m# this function, and just call forward.\u001b[39;00m\n\u001b[0;32m   1517\u001b[0m \u001b[38;5;28;01mif\u001b[39;00m \u001b[38;5;129;01mnot\u001b[39;00m (\u001b[38;5;28mself\u001b[39m\u001b[38;5;241m.\u001b[39m_backward_hooks \u001b[38;5;129;01mor\u001b[39;00m \u001b[38;5;28mself\u001b[39m\u001b[38;5;241m.\u001b[39m_backward_pre_hooks \u001b[38;5;129;01mor\u001b[39;00m \u001b[38;5;28mself\u001b[39m\u001b[38;5;241m.\u001b[39m_forward_hooks \u001b[38;5;129;01mor\u001b[39;00m \u001b[38;5;28mself\u001b[39m\u001b[38;5;241m.\u001b[39m_forward_pre_hooks\n\u001b[0;32m   1518\u001b[0m         \u001b[38;5;129;01mor\u001b[39;00m _global_backward_pre_hooks \u001b[38;5;129;01mor\u001b[39;00m _global_backward_hooks\n\u001b[0;32m   1519\u001b[0m         \u001b[38;5;129;01mor\u001b[39;00m _global_forward_hooks \u001b[38;5;129;01mor\u001b[39;00m _global_forward_pre_hooks):\n\u001b[1;32m-> 1520\u001b[0m     \u001b[38;5;28;01mreturn\u001b[39;00m forward_call(\u001b[38;5;241m*\u001b[39margs, \u001b[38;5;241m*\u001b[39m\u001b[38;5;241m*\u001b[39mkwargs)\n\u001b[0;32m   1522\u001b[0m \u001b[38;5;28;01mtry\u001b[39;00m:\n\u001b[0;32m   1523\u001b[0m     result \u001b[38;5;241m=\u001b[39m \u001b[38;5;28;01mNone\u001b[39;00m\n",
      "File \u001b[1;32md:\\git\\virtassist\\.venv\\lib\\site-packages\\transformers\\models\\gemma\\modeling_gemma.py:876\u001b[0m, in \u001b[0;36mGemmaModel.forward\u001b[1;34m(self, input_ids, attention_mask, position_ids, past_key_values, inputs_embeds, use_cache, output_attentions, output_hidden_states, return_dict, cache_position)\u001b[0m\n\u001b[0;32m    873\u001b[0m \u001b[38;5;28;01mif\u001b[39;00m position_ids \u001b[38;5;129;01mis\u001b[39;00m \u001b[38;5;28;01mNone\u001b[39;00m:\n\u001b[0;32m    874\u001b[0m     position_ids \u001b[38;5;241m=\u001b[39m cache_position\u001b[38;5;241m.\u001b[39munsqueeze(\u001b[38;5;241m0\u001b[39m)\n\u001b[1;32m--> 876\u001b[0m causal_mask \u001b[38;5;241m=\u001b[39m \u001b[38;5;28;43mself\u001b[39;49m\u001b[38;5;241;43m.\u001b[39;49m\u001b[43m_update_causal_mask\u001b[49m\u001b[43m(\u001b[49m\u001b[43mattention_mask\u001b[49m\u001b[43m,\u001b[49m\u001b[43m \u001b[49m\u001b[43minputs_embeds\u001b[49m\u001b[43m)\u001b[49m\n\u001b[0;32m    878\u001b[0m \u001b[38;5;66;03m# embed positions\u001b[39;00m\n\u001b[0;32m    879\u001b[0m hidden_states \u001b[38;5;241m=\u001b[39m inputs_embeds\n",
      "File \u001b[1;32md:\\git\\virtassist\\.venv\\lib\\site-packages\\transformers\\models\\gemma\\modeling_gemma.py:979\u001b[0m, in \u001b[0;36mGemmaModel._update_causal_mask\u001b[1;34m(self, attention_mask, input_tensor)\u001b[0m\n\u001b[0;32m    977\u001b[0m \u001b[38;5;28;01mif\u001b[39;00m \u001b[38;5;28mself\u001b[39m\u001b[38;5;241m.\u001b[39mconfig\u001b[38;5;241m.\u001b[39m_attn_implementation \u001b[38;5;241m==\u001b[39m \u001b[38;5;124m\"\u001b[39m\u001b[38;5;124msdpa\u001b[39m\u001b[38;5;124m\"\u001b[39m:\n\u001b[0;32m    978\u001b[0m     is_tracing \u001b[38;5;241m=\u001b[39m torch\u001b[38;5;241m.\u001b[39mjit\u001b[38;5;241m.\u001b[39mis_tracing() \u001b[38;5;129;01mor\u001b[39;00m \u001b[38;5;28misinstance\u001b[39m(input_tensor, torch\u001b[38;5;241m.\u001b[39mfx\u001b[38;5;241m.\u001b[39mProxy)\n\u001b[1;32m--> 979\u001b[0m     \u001b[38;5;28;01mif\u001b[39;00m \u001b[38;5;129;01mnot\u001b[39;00m is_tracing \u001b[38;5;129;01mand\u001b[39;00m attention_mask \u001b[38;5;129;01mis\u001b[39;00m \u001b[38;5;129;01mnot\u001b[39;00m \u001b[38;5;28;01mNone\u001b[39;00m \u001b[38;5;129;01mand\u001b[39;00m torch\u001b[38;5;241m.\u001b[39many(attention_mask \u001b[38;5;241m!=\u001b[39m \u001b[38;5;241m1\u001b[39m):\n\u001b[0;32m    980\u001b[0m         causal_mask \u001b[38;5;241m=\u001b[39m causal_mask\u001b[38;5;241m.\u001b[39mmul(\u001b[38;5;241m~\u001b[39mtorch\u001b[38;5;241m.\u001b[39mall(causal_mask \u001b[38;5;241m==\u001b[39m causal_mask\u001b[38;5;241m.\u001b[39mmin(), dim\u001b[38;5;241m=\u001b[39m\u001b[38;5;241m-\u001b[39m\u001b[38;5;241m1\u001b[39m)[\u001b[38;5;241m.\u001b[39m\u001b[38;5;241m.\u001b[39m\u001b[38;5;241m.\u001b[39m, \u001b[38;5;28;01mNone\u001b[39;00m])\u001b[38;5;241m.\u001b[39mto(\n\u001b[0;32m    981\u001b[0m             dtype\n\u001b[0;32m    982\u001b[0m         )\n\u001b[0;32m    984\u001b[0m \u001b[38;5;28;01mreturn\u001b[39;00m causal_mask\n",
      "\u001b[1;31mKeyboardInterrupt\u001b[0m: "
     ]
    }
   ],
   "source": [
    "query = {\"context\": document,\n",
    "        \"question\": question}\n",
    "print(gpu_chain.invoke(query).strip())\n",
    "print()\n",
    "print(query)"
   ]
  },
  {
   "cell_type": "markdown",
   "id": "58f2b89d",
   "metadata": {},
   "source": [
    "#### Гигиена"
   ]
  },
  {
   "cell_type": "code",
   "execution_count": 19,
   "id": "0887b79c",
   "metadata": {},
   "outputs": [],
   "source": [
    "del gpu_chain\n",
    "del hf_model\n",
    "del saved_pipeline\n",
    "torch.cuda.empty_cache()"
   ]
  }
 ],
 "metadata": {
  "kernelspec": {
   "display_name": "Python 3 (ipykernel)",
   "language": "python",
   "name": "python3"
  },
  "language_info": {
   "codemirror_mode": {
    "name": "ipython",
    "version": 3
   },
   "file_extension": ".py",
   "mimetype": "text/x-python",
   "name": "python",
   "nbconvert_exporter": "python",
   "pygments_lexer": "ipython3",
   "version": "3.10.11"
  }
 },
 "nbformat": 4,
 "nbformat_minor": 5
}
