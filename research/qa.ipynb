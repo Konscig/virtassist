{
 "cells": [
  {
   "cell_type": "markdown",
   "id": "54d7d1e2-a651-49a0-8679-afdb399291de",
   "metadata": {},
   "source": [
    "# Confluence + LLM = QA"
   ]
  },
  {
   "cell_type": "code",
   "execution_count": 1,
   "id": "3ad8db59",
   "metadata": {},
   "outputs": [
    {
     "name": "stdout",
     "output_type": "stream",
     "text": [
      "Note: you may need to restart the kernel to use updated packages.\n"
     ]
    }
   ],
   "source": [
    "%pip install pandas --quiet\n",
    "import pandas as pd"
   ]
  },
  {
   "cell_type": "code",
   "execution_count": 2,
   "id": "8a0752b6-6fa1-499f-a728-ff24a0416fe2",
   "metadata": {},
   "outputs": [],
   "source": [
    "from os import environ\n",
    "from dotenv import load_dotenv\n",
    "load_dotenv(dotenv_path=\"../.env\")\n",
    "\n",
    "confluence_token = environ.get('CONFLUENCE_TOKEN')\n",
    "hf_token = environ.get('HF_TOKEN')\n",
    "hf_write_token = environ.get('HF_WRITE_TOKEN')\n",
    "gigachat_token = environ.get('GIGACHAT_TOKEN')"
   ]
  },
  {
   "cell_type": "code",
   "execution_count": 3,
   "id": "dd997a1e-7dca-4038-bf4e-4aeeee8f040f",
   "metadata": {},
   "outputs": [],
   "source": [
    "from atlassian import Confluence\n",
    "\n",
    "confluence_url = \"https://confluence.utmn.ru\"\n",
    "confluence = Confluence(url=confluence_url, token=confluence_token)"
   ]
  },
  {
   "cell_type": "markdown",
   "id": "10c52810-a8f9-4b28-9c68-a32e422bfc04",
   "metadata": {},
   "source": [
    "## Поиск документа в Confluence через CQL\n",
    "\n",
    " * https://atlassian-python-api.readthedocs.io/confluence.html\n",
    " * https://developer.atlassian.com/cloud/confluence/rest/v2/api-group-page/#api-pages-id-get\n",
    " * https://developer.atlassian.com/server/confluence/advanced-searching-using-cql/\n",
    " * https://spacy.io/usage/spacy-101"
   ]
  },
  {
   "cell_type": "code",
   "execution_count": 8,
   "id": "7b7d5560",
   "metadata": {},
   "outputs": [
    {
     "name": "stdout",
     "output_type": "stream",
     "text": [
      "\u001b[38;5;2m✔ Download and installation successful\u001b[0m\n",
      "You can now load the package via spacy.load('ru_core_news_sm')\n"
     ]
    }
   ],
   "source": [
    "!python -m spacy download ru_core_news_sm --quiet"
   ]
  },
  {
   "cell_type": "code",
   "execution_count": 4,
   "id": "dee0eda2-3f11-4deb-9a19-4646935ee678",
   "metadata": {},
   "outputs": [],
   "source": [
    "from bs4 import BeautifulSoup\n",
    "from langchain_community.document_loaders import PyPDFLoader\n",
    "\n",
    "import spacy\n",
    "nlp = spacy.load(\"ru_core_news_sm\")\n",
    "needed_pos = ['NOUN', 'NUM', 'PROPN', 'ADJ', 'VERB', 'X']\n",
    "\n",
    "\n",
    "def get_cql_query(spaces, question):\n",
    "    exclude = ' and label != \"навигация\"' \n",
    "    words = [token for token in nlp(question.lower()) if not token.is_stop and\n",
    "             token.pos_ in needed_pos and len(token.text) > 2]\n",
    "    if len(words) == 0:\n",
    "        return ()\n",
    "    spaces = \" or \".join([f\"space = {space}\" for space in spaces])\n",
    "    words_with_verbs = \" and \".join(list(set([f\"(title ~ '{word}*' or text ~ '{word}*' or title ~ '{word.lemma_}*' or text ~ '{word.lemma_}*')\"\n",
    "                                              for word in words])))\n",
    "    words_without_verbs = \" and \".join(list(set([f\"(title ~ '{word}*' or text ~ '{word}*' or title ~ '{word.lemma_}*' or text ~ '{word.lemma_}*')\"\n",
    "                                                 for word in words if word.pos_ != 'VERB'])))\n",
    "    words_without_verbs_and_adj = \" and \".join(list(set([f\"(title ~ '{word}*' or text ~ '{word}*' or title ~ '{word.lemma_}*' or text ~ '{word.lemma_}*')\"\n",
    "                                                         for word in words if word.pos_ not in ['VERB', 'ADJ']])))\n",
    "    return (\"(\" + spaces + \") and (\" + words_with_verbs + \")\" + exclude,\n",
    "            \"(\" + spaces + \") and (\" + words_without_verbs + \")\" + exclude,\n",
    "            \"(\" + spaces + \") and (\" + words_without_verbs_and_adj + \")\" + exclude)\n",
    "    \n",
    "    \n",
    "def get_document_id(question: str) -> str:\n",
    "    cql_query = get_cql_query(spaces=[\"study\"], question=question)\n",
    "    if len(cql_query) == 0:\n",
    "        return \"0\"\n",
    "    results = confluence.cql(cql_query[0], start=0, limit=1)['results']\n",
    "    if len(results) == 0:\n",
    "        results = confluence.cql(cql_query[1], start=0, limit=1)['results']\n",
    "        if len(results) == 0:\n",
    "            results = confluence.cql(cql_query[2], start=0, limit=1)['results']\n",
    "            if len(results) == 0:\n",
    "                return \"0\"\n",
    "\n",
    "    return results[0]['content']['id']\n",
    "\n",
    "\n",
    "def get_document_content_by_id(page_id: str):\n",
    "    page = confluence.get_page_by_id(page_id, expand='space,body.export_view')\n",
    "    page_body = page['body']['export_view']['value']\n",
    "    page_download = page['_links']['base'] + page['_links']['download'] if 'download' in page['_links'].keys() else ''\n",
    "\n",
    "    try:\n",
    "        if len(page_body) > 50:\n",
    "            page_body = page['body']['export_view']['value']\n",
    "            soup = BeautifulSoup(page_body, 'html.parser')\n",
    "            page_body_text = soup.get_text(separator=' ')\n",
    "            content = page_body_text.replace(\" \\n \", \"\")\n",
    "        elif '.pdf' in page_download.lower():\n",
    "            loader = PyPDFLoader(page_download.split('?')[0])\n",
    "            content = \" \".join([page.page_content for page in loader.load_and_split()])\n",
    "        else:\n",
    "            return None\n",
    "    except:\n",
    "        return None\n",
    "\n",
    "    return content\n",
    "\n",
    "\n",
    "def get_document_content(question: str):\n",
    "    page_id = get_document_id(question)\n",
    "    if page_id == \"0\":\n",
    "        return None\n",
    "    return get_document_content_by_id(page_id)"
   ]
  },
  {
   "cell_type": "code",
   "execution_count": 11,
   "id": "56945f57",
   "metadata": {},
   "outputs": [
    {
     "name": "stdout",
     "output_type": "stream",
     "text": [
      "216 ms ± 20.4 ms per loop (mean ± std. dev. of 7 runs, 1 loop each)\n"
     ]
    }
   ],
   "source": [
    "%%timeit\n",
    "get_document_content(\"Как поменять физкультуру?\")"
   ]
  },
  {
   "cell_type": "markdown",
   "id": "0ddbec5f",
   "metadata": {
    "jp-MarkdownHeadingCollapsed": true
   },
   "source": [
    "## Собственный индекс Confluence"
   ]
  },
  {
   "cell_type": "markdown",
   "id": "07f5b94d",
   "metadata": {},
   "source": [
    "### Структура БД"
   ]
  },
  {
   "cell_type": "code",
   "execution_count": 4,
   "id": "2b0f87fa",
   "metadata": {},
   "outputs": [],
   "source": [
    "from sqlalchemy import create_engine\n",
    "engine = create_engine(f\"postgresql://{environ.get('POSTGRES_USER')}:{environ.get('POSTGRES_PASSWORD')}@{environ.get('POSTGRES_HOST')}/{environ.get('POSTGRES_DB')}\", echo=False)"
   ]
  },
  {
   "cell_type": "code",
   "execution_count": 12,
   "id": "b7f81c4d",
   "metadata": {},
   "outputs": [],
   "source": [
    "from typing import Optional\n",
    "from pgvector.sqlalchemy import Vector\n",
    "from sqlalchemy import Text, select, text\n",
    "from sqlalchemy.orm import DeclarativeBase, Mapped, Session, mapped_column\n",
    "\n",
    "class Base(DeclarativeBase):\n",
    "    pass\n",
    "\n",
    "class Document(Base):\n",
    "    __tablename__ = \"document\"\n",
    "    id: Mapped[int] = mapped_column(primary_key=True)\n",
    "    confluence_id: Mapped[int] = mapped_column(index=True)\n",
    "    text: Mapped[str] = mapped_column(Text())\n",
    "    text_lem: Mapped[str] = mapped_column(Text())\n",
    "    tfidf: Mapped[Optional[Vector]] = mapped_column(Vector(2936))\n",
    "    doc2vec: Mapped[Optional[Vector]] = mapped_column(Vector(150))\n",
    "    rubert: Mapped[Optional[Vector]] = mapped_column(Vector(312))\n",
    "    rusbert: Mapped[Optional[Vector]] = mapped_column(Vector(312))\n",
    "    rusbert_finetuned: Mapped[Optional[Vector]] = mapped_column(Vector(312))\n",
    "    "
   ]
  },
  {
   "cell_type": "code",
   "execution_count": 17,
   "id": "fa815c94",
   "metadata": {},
   "outputs": [],
   "source": [
    "def lower_stopword_lemmatize(text):\n",
    "    return \" \".join([token.lemma_ for token in nlp(str(text).lower()) if not token.is_stop and token.pos_ != 'PUNCT'])"
   ]
  },
  {
   "cell_type": "markdown",
   "id": "5bb1aa0e",
   "metadata": {},
   "source": [
    "### Выгрузка, предобработка и сохранение документов из пространства"
   ]
  },
  {
   "cell_type": "code",
   "execution_count": 8,
   "id": "cfc165c1",
   "metadata": {},
   "outputs": [
    {
     "data": {
      "text/html": [
       "<div>\n",
       "<style scoped>\n",
       "    .dataframe tbody tr th:only-of-type {\n",
       "        vertical-align: middle;\n",
       "    }\n",
       "\n",
       "    .dataframe tbody tr th {\n",
       "        vertical-align: top;\n",
       "    }\n",
       "\n",
       "    .dataframe thead th {\n",
       "        text-align: right;\n",
       "    }\n",
       "</style>\n",
       "<table border=\"1\" class=\"dataframe\">\n",
       "  <thead>\n",
       "    <tr style=\"text-align: right;\">\n",
       "      <th></th>\n",
       "      <th>page_id</th>\n",
       "      <th>content</th>\n",
       "    </tr>\n",
       "  </thead>\n",
       "  <tbody>\n",
       "    <tr>\n",
       "      <th>0</th>\n",
       "      <td>86479083</td>\n",
       "      <td>Сопровождение\\nспециализированных\\nобразовател...</td>\n",
       "    </tr>\n",
       "    <tr>\n",
       "      <th>1</th>\n",
       "      <td>86479057</td>\n",
       "      <td>2 \\n \\n \\n \\n1. ОБЩИЕ ПОЛОЖЕНИЯ  \\n \\n1.1.  По...</td>\n",
       "    </tr>\n",
       "    <tr>\n",
       "      <th>2</th>\n",
       "      <td>86479066</td>\n",
       "      <td>MuHucrepcreo HayKu 14 BbtcuJero o6paaoeaHnR Po...</td>\n",
       "    </tr>\n",
       "    <tr>\n",
       "      <th>3</th>\n",
       "      <td>86479079</td>\n",
       "      <td>Об утверждении Регламента \\nпроведения промежу...</td>\n",
       "    </tr>\n",
       "    <tr>\n",
       "      <th>4</th>\n",
       "      <td>86479078</td>\n",
       "      <td>Об утверждении Р егламента \\nпроведения промеж...</td>\n",
       "    </tr>\n",
       "    <tr>\n",
       "      <th>5</th>\n",
       "      <td>86479077</td>\n",
       "      <td>MrHucrepcreo HayKn I Bbtctuero o6pasoeaHnR poc...</td>\n",
       "    </tr>\n",
       "    <tr>\n",
       "      <th>6</th>\n",
       "      <td>86479076</td>\n",
       "      <td>Об утверждении Регламента \\nпроведения промежу...</td>\n",
       "    </tr>\n",
       "    <tr>\n",
       "      <th>7</th>\n",
       "      <td>86479075</td>\n",
       "      <td>Об утверждении Регламента \\nпроведения промежу...</td>\n",
       "    </tr>\n",
       "    <tr>\n",
       "      <th>8</th>\n",
       "      <td>86479074</td>\n",
       "      <td>MrHncrepcreo HayKu 14 Bbtcuero o6paroeaHnn poc...</td>\n",
       "    </tr>\n",
       "    <tr>\n",
       "      <th>9</th>\n",
       "      <td>86479073</td>\n",
       "      <td>MrHucrepcreo HayKu t4 Bbtcuero o6pa:oeaHnR Poc...</td>\n",
       "    </tr>\n",
       "    <tr>\n",
       "      <th>10</th>\n",
       "      <td>86479072</td>\n",
       "      <td>Mnuucrepcreo HayKn n Bbrcuero o6paeoeaHuR Pocc...</td>\n",
       "    </tr>\n",
       "    <tr>\n",
       "      <th>11</th>\n",
       "      <td>86479071</td>\n",
       "      <td>M n Hucrepcreo HayKu t4 Bbrcurero o6paao ea H ...</td>\n",
       "    </tr>\n",
       "    <tr>\n",
       "      <th>12</th>\n",
       "      <td>86479070</td>\n",
       "      <td>Muxucrepcreo HayKn t4 Bbtcuero o6patoeanun Poc...</td>\n",
       "    </tr>\n",
       "    <tr>\n",
       "      <th>13</th>\n",
       "      <td>86479069</td>\n",
       "      <td>Mnrrcrepcreo HayKr u Bbrcuero o6paaoeaHuR Pocc...</td>\n",
       "    </tr>\n",
       "    <tr>\n",
       "      <th>14</th>\n",
       "      <td>86479086</td>\n",
       "      <td>Как работать с разделом \\n«Выбор модулей»?\\nИн...</td>\n",
       "    </tr>\n",
       "    <tr>\n",
       "      <th>15</th>\n",
       "      <td>86479085</td>\n",
       "      <td>Документ подписан простой электронной подписью...</td>\n",
       "    </tr>\n",
       "    <tr>\n",
       "      <th>16</th>\n",
       "      <td>86479021</td>\n",
       "      <td>Документ подписан простой электронной подписью...</td>\n",
       "    </tr>\n",
       "    <tr>\n",
       "      <th>17</th>\n",
       "      <td>86479093</td>\n",
       "      <td>P O C CI,IriCKA.s OEAEPATITIfl\\nMI{HIICTEPCTB ...</td>\n",
       "    </tr>\n",
       "    <tr>\n",
       "      <th>18</th>\n",
       "      <td>86479060</td>\n",
       "      <td>Документ подписан простой электронной подписью...</td>\n",
       "    </tr>\n",
       "    <tr>\n",
       "      <th>19</th>\n",
       "      <td>86479082</td>\n",
       "      <td>Honors-треки.pdf</td>\n",
       "    </tr>\n",
       "    <tr>\n",
       "      <th>20</th>\n",
       "      <td>86479056</td>\n",
       "      <td>Выбор спортивных секций по Физической культуре...</td>\n",
       "    </tr>\n",
       "    <tr>\n",
       "      <th>21</th>\n",
       "      <td>86479065</td>\n",
       "      <td>Прежде, чем выбрать элективы, рекомендуем почи...</td>\n",
       "    </tr>\n",
       "    <tr>\n",
       "      <th>22</th>\n",
       "      <td>86479050</td>\n",
       "      <td>По вопросам оплаты обучения, суммы задолженнос...</td>\n",
       "    </tr>\n",
       "    <tr>\n",
       "      <th>23</th>\n",
       "      <td>86478992</td>\n",
       "      <td>Студенты очной формы обучения оформляют справк...</td>\n",
       "    </tr>\n",
       "    <tr>\n",
       "      <th>24</th>\n",
       "      <td>86478987</td>\n",
       "      <td>Сформировать справку-вызов Вы можете самостоят...</td>\n",
       "    </tr>\n",
       "    <tr>\n",
       "      <th>25</th>\n",
       "      <td>86479052</td>\n",
       "      <td>Для  восстановления студенческого билета  Вам ...</td>\n",
       "    </tr>\n",
       "    <tr>\n",
       "      <th>26</th>\n",
       "      <td>86478994</td>\n",
       "      <td>Для оформления академической справки (справки ...</td>\n",
       "    </tr>\n",
       "    <tr>\n",
       "      <th>27</th>\n",
       "      <td>86478990</td>\n",
       "      <td>Вам необходимо обратиться в Отдел мобилизацион...</td>\n",
       "    </tr>\n",
       "    <tr>\n",
       "      <th>28</th>\n",
       "      <td>86479054</td>\n",
       "      <td>По вопросам, касающимся общежития, обратитесь ...</td>\n",
       "    </tr>\n",
       "    <tr>\n",
       "      <th>29</th>\n",
       "      <td>86479024</td>\n",
       "      <td>Заявление на академический отпуск подается чер...</td>\n",
       "    </tr>\n",
       "    <tr>\n",
       "      <th>30</th>\n",
       "      <td>86479013</td>\n",
       "      <td>Пакет документов для восстановления вам необхо...</td>\n",
       "    </tr>\n",
       "    <tr>\n",
       "      <th>31</th>\n",
       "      <td>86479015</td>\n",
       "      <td>Восстановление лица , ранее обучавшегося за сч...</td>\n",
       "    </tr>\n",
       "    <tr>\n",
       "      <th>32</th>\n",
       "      <td>86479009</td>\n",
       "      <td>Повторно пройти государственную итоговую аттес...</td>\n",
       "    </tr>\n",
       "    <tr>\n",
       "      <th>33</th>\n",
       "      <td>86479011</td>\n",
       "      <td>Повторно пройти государственную итоговую аттес...</td>\n",
       "    </tr>\n",
       "    <tr>\n",
       "      <th>34</th>\n",
       "      <td>86478996</td>\n",
       "      <td>По вопросу получения справки о доходах, размер...</td>\n",
       "    </tr>\n",
       "    <tr>\n",
       "      <th>35</th>\n",
       "      <td>86479005</td>\n",
       "      <td>Заявления на восстановление в Университет по о...</td>\n",
       "    </tr>\n",
       "    <tr>\n",
       "      <th>36</th>\n",
       "      <td>86479007</td>\n",
       "      <td>Заявления на восстановление в ТюмГУ принимаютс...</td>\n",
       "    </tr>\n",
       "    <tr>\n",
       "      <th>37</th>\n",
       "      <td>86479017</td>\n",
       "      <td>При восстановлении на договорное место, после ...</td>\n",
       "    </tr>\n",
       "    <tr>\n",
       "      <th>38</th>\n",
       "      <td>86479045</td>\n",
       "      <td>1. Подать заявление о переводе можно лично, об...</td>\n",
       "    </tr>\n",
       "    <tr>\n",
       "      <th>39</th>\n",
       "      <td>86479047</td>\n",
       "      <td>Пакет документов для подачи заявления на перев...</td>\n",
       "    </tr>\n",
       "    <tr>\n",
       "      <th>40</th>\n",
       "      <td>86479041</td>\n",
       "      <td>Заявления о переводе принимаются два раза в го...</td>\n",
       "    </tr>\n",
       "    <tr>\n",
       "      <th>41</th>\n",
       "      <td>86479026</td>\n",
       "      <td>Заявление подается  через личный кабинет на по...</td>\n",
       "    </tr>\n",
       "    <tr>\n",
       "      <th>42</th>\n",
       "      <td>86479034</td>\n",
       "      <td>Заявление на выход из отпуска подается не позд...</td>\n",
       "    </tr>\n",
       "    <tr>\n",
       "      <th>43</th>\n",
       "      <td>86479036</td>\n",
       "      <td>Для рассмотрения возможности продления академи...</td>\n",
       "    </tr>\n",
       "    <tr>\n",
       "      <th>44</th>\n",
       "      <td>86479032</td>\n",
       "      <td>Заявление подается через личный кабинет на пор...</td>\n",
       "    </tr>\n",
       "    <tr>\n",
       "      <th>45</th>\n",
       "      <td>86479030</td>\n",
       "      <td>Заявление подается через личный кабинет на пор...</td>\n",
       "    </tr>\n",
       "    <tr>\n",
       "      <th>46</th>\n",
       "      <td>86479028</td>\n",
       "      <td>Заявление подается через личный кабинет на пор...</td>\n",
       "    </tr>\n",
       "    <tr>\n",
       "      <th>47</th>\n",
       "      <td>86479043</td>\n",
       "      <td>Подать заявление на отчисление переводом можно...</td>\n",
       "    </tr>\n",
       "  </tbody>\n",
       "</table>\n",
       "</div>"
      ],
      "text/plain": [
       "     page_id                                            content\n",
       "0   86479083  Сопровождение\\nспециализированных\\nобразовател...\n",
       "1   86479057  2 \\n \\n \\n \\n1. ОБЩИЕ ПОЛОЖЕНИЯ  \\n \\n1.1.  По...\n",
       "2   86479066  MuHucrepcreo HayKu 14 BbtcuJero o6paaoeaHnR Po...\n",
       "3   86479079  Об утверждении Регламента \\nпроведения промежу...\n",
       "4   86479078  Об утверждении Р егламента \\nпроведения промеж...\n",
       "5   86479077  MrHucrepcreo HayKn I Bbtctuero o6pasoeaHnR poc...\n",
       "6   86479076  Об утверждении Регламента \\nпроведения промежу...\n",
       "7   86479075  Об утверждении Регламента \\nпроведения промежу...\n",
       "8   86479074  MrHncrepcreo HayKu 14 Bbtcuero o6paroeaHnn poc...\n",
       "9   86479073  MrHucrepcreo HayKu t4 Bbtcuero o6pa:oeaHnR Poc...\n",
       "10  86479072  Mnuucrepcreo HayKn n Bbrcuero o6paeoeaHuR Pocc...\n",
       "11  86479071  M n Hucrepcreo HayKu t4 Bbrcurero o6paao ea H ...\n",
       "12  86479070  Muxucrepcreo HayKn t4 Bbtcuero o6patoeanun Poc...\n",
       "13  86479069  Mnrrcrepcreo HayKr u Bbrcuero o6paaoeaHuR Pocc...\n",
       "14  86479086  Как работать с разделом \\n«Выбор модулей»?\\nИн...\n",
       "15  86479085  Документ подписан простой электронной подписью...\n",
       "16  86479021  Документ подписан простой электронной подписью...\n",
       "17  86479093  P O C CI,IriCKA.s OEAEPATITIfl\\nMI{HIICTEPCTB ...\n",
       "18  86479060  Документ подписан простой электронной подписью...\n",
       "19  86479082                                   Honors-треки.pdf\n",
       "20  86479056  Выбор спортивных секций по Физической культуре...\n",
       "21  86479065  Прежде, чем выбрать элективы, рекомендуем почи...\n",
       "22  86479050  По вопросам оплаты обучения, суммы задолженнос...\n",
       "23  86478992  Студенты очной формы обучения оформляют справк...\n",
       "24  86478987  Сформировать справку-вызов Вы можете самостоят...\n",
       "25  86479052  Для  восстановления студенческого билета  Вам ...\n",
       "26  86478994  Для оформления академической справки (справки ...\n",
       "27  86478990  Вам необходимо обратиться в Отдел мобилизацион...\n",
       "28  86479054  По вопросам, касающимся общежития, обратитесь ...\n",
       "29  86479024  Заявление на академический отпуск подается чер...\n",
       "30  86479013  Пакет документов для восстановления вам необхо...\n",
       "31  86479015  Восстановление лица , ранее обучавшегося за сч...\n",
       "32  86479009  Повторно пройти государственную итоговую аттес...\n",
       "33  86479011  Повторно пройти государственную итоговую аттес...\n",
       "34  86478996  По вопросу получения справки о доходах, размер...\n",
       "35  86479005  Заявления на восстановление в Университет по о...\n",
       "36  86479007  Заявления на восстановление в ТюмГУ принимаютс...\n",
       "37  86479017  При восстановлении на договорное место, после ...\n",
       "38  86479045  1. Подать заявление о переводе можно лично, об...\n",
       "39  86479047  Пакет документов для подачи заявления на перев...\n",
       "40  86479041  Заявления о переводе принимаются два раза в го...\n",
       "41  86479026  Заявление подается  через личный кабинет на по...\n",
       "42  86479034  Заявление на выход из отпуска подается не позд...\n",
       "43  86479036  Для рассмотрения возможности продления академи...\n",
       "44  86479032  Заявление подается через личный кабинет на пор...\n",
       "45  86479030  Заявление подается через личный кабинет на пор...\n",
       "46  86479028  Заявление подается через личный кабинет на пор...\n",
       "47  86479043  Подать заявление на отчисление переводом можно..."
      ]
     },
     "execution_count": 8,
     "metadata": {},
     "output_type": "execute_result"
    }
   ],
   "source": [
    "pages = confluence.cql(\"space = study and label != \\\"навигация\\\"\", start=0, limit=100)['results']\n",
    "page_ids = [page['content']['id'] for page in pages if 'content' in page.keys()]\n",
    "conf_df = pd.DataFrame({\"page_id\": page_ids})\n",
    "conf_df[\"content\"] = conf_df[\"page_id\"].apply(get_document_content_by_id)\n",
    "conf_df"
   ]
  },
  {
   "cell_type": "code",
   "execution_count": 9,
   "id": "6fa1dff8",
   "metadata": {},
   "outputs": [
    {
     "data": {
      "text/html": [
       "<div>\n",
       "<style scoped>\n",
       "    .dataframe tbody tr th:only-of-type {\n",
       "        vertical-align: middle;\n",
       "    }\n",
       "\n",
       "    .dataframe tbody tr th {\n",
       "        vertical-align: top;\n",
       "    }\n",
       "\n",
       "    .dataframe thead th {\n",
       "        text-align: right;\n",
       "    }\n",
       "</style>\n",
       "<table border=\"1\" class=\"dataframe\">\n",
       "  <thead>\n",
       "    <tr style=\"text-align: right;\">\n",
       "      <th></th>\n",
       "      <th>page_id</th>\n",
       "      <th>content</th>\n",
       "    </tr>\n",
       "  </thead>\n",
       "  <tbody>\n",
       "    <tr>\n",
       "      <th>0</th>\n",
       "      <td>86479083</td>\n",
       "      <td>Сопровождение\\nспециализированных\\nобразовател...</td>\n",
       "    </tr>\n",
       "    <tr>\n",
       "      <th>1</th>\n",
       "      <td>86479057</td>\n",
       "      <td>2 \\n \\n \\n \\n1. ОБЩИЕ ПОЛОЖЕНИЯ  \\n \\n1.1.  По...</td>\n",
       "    </tr>\n",
       "    <tr>\n",
       "      <th>2</th>\n",
       "      <td>86479079</td>\n",
       "      <td>Об утверждении Регламента \\nпроведения промежу...</td>\n",
       "    </tr>\n",
       "    <tr>\n",
       "      <th>3</th>\n",
       "      <td>86479078</td>\n",
       "      <td>Об утверждении Р егламента \\nпроведения промеж...</td>\n",
       "    </tr>\n",
       "    <tr>\n",
       "      <th>4</th>\n",
       "      <td>86479076</td>\n",
       "      <td>Об утверждении Регламента \\nпроведения промежу...</td>\n",
       "    </tr>\n",
       "  </tbody>\n",
       "</table>\n",
       "</div>"
      ],
      "text/plain": [
       "    page_id                                            content\n",
       "0  86479083  Сопровождение\\nспециализированных\\nобразовател...\n",
       "1  86479057  2 \\n \\n \\n \\n1. ОБЩИЕ ПОЛОЖЕНИЯ  \\n \\n1.1.  По...\n",
       "2  86479079  Об утверждении Регламента \\nпроведения промежу...\n",
       "3  86479078  Об утверждении Р егламента \\nпроведения промеж...\n",
       "4  86479076  Об утверждении Регламента \\nпроведения промежу..."
      ]
     },
     "execution_count": 9,
     "metadata": {},
     "output_type": "execute_result"
    }
   ],
   "source": [
    "trash_id = [\"86479082\", \"86479093\", \"86479069\", \"86479070\", \"86479071\", \"86479072\", \"86479073\", \"86479074\", \"86479077\", \"86479066\"]\n",
    "conf_df[\"page_id\"] = conf_df[\"page_id\"].apply(lambda x: None if x in trash_id else x)\n",
    "conf_df = conf_df.dropna().reset_index(drop=True)\n",
    "conf_df.head(5)"
   ]
  },
  {
   "cell_type": "code",
   "execution_count": 10,
   "id": "4f680d96",
   "metadata": {},
   "outputs": [
    {
     "name": "stdout",
     "output_type": "stream",
     "text": [
      "2024-02-14 11:50:51,556 INFO sqlalchemy.engine.Engine select pg_catalog.version()\n",
      "2024-02-14 11:50:51,557 INFO sqlalchemy.engine.Engine [raw sql] {}\n",
      "2024-02-14 11:50:51,589 INFO sqlalchemy.engine.Engine select current_schema()\n",
      "2024-02-14 11:50:51,590 INFO sqlalchemy.engine.Engine [raw sql] {}\n",
      "2024-02-14 11:50:51,605 INFO sqlalchemy.engine.Engine show standard_conforming_strings\n",
      "2024-02-14 11:50:51,606 INFO sqlalchemy.engine.Engine [raw sql] {}\n",
      "2024-02-14 11:50:51,610 INFO sqlalchemy.engine.Engine BEGIN (implicit)\n",
      "2024-02-14 11:50:51,612 INFO sqlalchemy.engine.Engine CREATE EXTENSION IF NOT EXISTS vector\n",
      "2024-02-14 11:50:51,613 INFO sqlalchemy.engine.Engine [generated in 0.00098s] {}\n",
      "2024-02-14 11:50:51,642 INFO sqlalchemy.engine.Engine COMMIT\n",
      "2024-02-14 11:50:51,645 INFO sqlalchemy.engine.Engine BEGIN (implicit)\n",
      "2024-02-14 11:50:51,649 INFO sqlalchemy.engine.Engine SELECT pg_catalog.pg_class.relname \n",
      "FROM pg_catalog.pg_class JOIN pg_catalog.pg_namespace ON pg_catalog.pg_namespace.oid = pg_catalog.pg_class.relnamespace \n",
      "WHERE pg_catalog.pg_class.relname = %(table_name)s AND pg_catalog.pg_class.relkind = ANY (ARRAY[%(param_1)s, %(param_2)s, %(param_3)s, %(param_4)s, %(param_5)s]) AND pg_catalog.pg_table_is_visible(pg_catalog.pg_class.oid) AND pg_catalog.pg_namespace.nspname != %(nspname_1)s\n",
      "2024-02-14 11:50:51,650 INFO sqlalchemy.engine.Engine [generated in 0.00110s] {'table_name': 'document', 'param_1': 'r', 'param_2': 'p', 'param_3': 'f', 'param_4': 'v', 'param_5': 'm', 'nspname_1': 'pg_catalog'}\n",
      "2024-02-14 11:50:51,723 INFO sqlalchemy.engine.Engine \n",
      "CREATE TABLE document (\n",
      "\tid SERIAL NOT NULL, \n",
      "\tconfluence_id INTEGER NOT NULL, \n",
      "\ttext TEXT NOT NULL, \n",
      "\ttext_lem TEXT NOT NULL, \n",
      "\ttfidf VECTOR(2936), \n",
      "\tdoc2vec VECTOR(150), \n",
      "\trubert VECTOR(312), \n",
      "\trusbert VECTOR(312), \n",
      "\trusbert_finetuned VECTOR(312), \n",
      "\tPRIMARY KEY (id)\n",
      ")\n",
      "\n",
      "\n",
      "2024-02-14 11:50:51,724 INFO sqlalchemy.engine.Engine [no key 0.00129s] {}\n",
      "2024-02-14 11:50:52,069 INFO sqlalchemy.engine.Engine CREATE INDEX ix_document_confluence_id ON document (confluence_id)\n",
      "2024-02-14 11:50:52,070 INFO sqlalchemy.engine.Engine [no key 0.00098s] {}\n",
      "2024-02-14 11:50:52,096 INFO sqlalchemy.engine.Engine COMMIT\n"
     ]
    }
   ],
   "source": [
    "with Session(engine) as session:\n",
    "    session.execute(text('CREATE EXTENSION IF NOT EXISTS vector'))\n",
    "    session.commit()\n",
    "Base.metadata.create_all(engine)"
   ]
  },
  {
   "cell_type": "code",
   "execution_count": 13,
   "id": "c81ad8ad",
   "metadata": {},
   "outputs": [
    {
     "name": "stdout",
     "output_type": "stream",
     "text": [
      "2024-02-14 11:53:03,757 INFO sqlalchemy.engine.Engine BEGIN (implicit)\n",
      "2024-02-14 11:53:03,757 INFO sqlalchemy.engine.Engine INSERT INTO document (confluence_id, text, text_lem, tfidf, doc2vec, rubert, rusbert, rusbert_finetuned) SELECT p0::INTEGER, p1::TEXT, p2::TEXT, p3::VECTOR(2936), p4::VECTOR(150), p5::VECTOR(312), p6::VECTOR(312), p7::VECTOR(312) FROM (VALUES (%(conf ... 5737 characters truncated ... 2, p3, p4, p5, p6, p7, sen_counter) ORDER BY sen_counter RETURNING document.id, document.id AS id__1\n",
      "2024-02-14 11:53:03,757 INFO sqlalchemy.engine.Engine [generated in 0.00031s (insertmanyvalues) 1/1 (ordered)] {'tfidf__0': None, 'rusbert__0': None, 'rusbert_finetuned__0': None, 'doc2vec__0': None, 'text__0': 'Сопровождение\\nспециализированных\\nобразовательных треков Спорт.\\nпрограмми -\\nрование\\nТреки\\nКапитаныШкола \\nестественных\\nнаукИнтеграция Нетология ... (3774 characters truncated) ... я 46 студентовСпорт.\\nпрограмми -\\nрование\\nЧисленность треков\\n57 студентовКапитаны\\n80 студентовШЕН\\n146 студентовИнтеграция\\n78 студентовНетология', 'rubert__0': None, 'confluence_id__0': 86479083, 'text_lem__0': 'сопровождение \\n специализированный \\n образовательный трек спорт \\n программи - \\n рование \\n треки \\n капитанышкола \\n естественный \\n наукинтеграц ... (3724 characters truncated) ... товспорт \\n программи - \\n рование \\n численность трек \\n 57 студентовкапитаны \\n 80 студентовшен \\n 146 студентовинтеграция \\n 78 студентовнетология', 'tfidf__1': None, 'rusbert__1': None, 'rusbert_finetuned__1': None, 'doc2vec__1': None, 'text__1': '2 \\n \\n \\n \\n1. ОБЩИЕ ПОЛОЖЕНИЯ  \\n \\n1.1.  Положение о реализации дисциплин (модулей) по физической культуре \\n(спорту) в  ФГАОУ ВО «Тюменский госуд ... (16795 characters truncated) ...            \\n       дата                                                        подпись                                            инициалы, фами лия', 'rubert__1': None, 'confluence_id__1': 86479057, 'text_lem__1': '2 \\n \\n \\n \\n 1 общий положение  \\n \\n 1.1   положение реализация дисциплина модуль физический культура \\n спорт   фгаоу тюменский государственный ун ... (14377 characters truncated) ...           \\n        дата                                                         подпись                                             инициал фами лия', 'tfidf__2': None, 'rusbert__2': None, 'rusbert_finetuned__2': None, 'doc2vec__2': None, 'text__2': 'Об утверждении Регламента \\nпроведения промежуточной \\nаттестации по дисциплине \\n«Основы программирования » \\nдля обучающихся очной \\nформы обучения ... (3874 characters truncated) ... овы \\nпрограммирования» проводятся в очном формате и заключаются в \\nпрохождении студент ом аттестации с использованием автоматизированной \\nсистемы.', 'rubert__2': None, 'confluence_id__2': 86479079, 'text_lem__2': 'утверждение регламент \\n проведение промежуточный \\n аттестация дисциплина \\n основа программирование \\n обучаться очный \\n форма обучение фгаоу \\n т ... (3320 characters truncated) ... исциплина основа \\n программирование проводиться очный формат заключаться \\n прохождение студент аттестация использование автоматизировать \\n система', 'tfidf__3': None, 'rusbert__3': None, 'rusbert_finetuned__3': None, 'doc2vec__3': None, 'text__3': 'Об утверждении Р егламента \\nпроведения промежуточной и \\nитоговой аттестации по дисциплине \\n«Дискретная математика 2» для \\nобучающихся ФГАОУ ВО \\n ... (8554 characters truncated) ... ) Транспортная задача в матричной постановке. Метод потенциалов.  \\n23) Простые и составные числа . \\n24) Теория делимости . \\n25) Теория сравнений .', 'rubert__3': None, 'confluence_id__3': 86479078, 'text_lem__3': 'утверждение егламента \\n проведение промежуточный \\n итоговый аттестация дисциплина \\n дискретный математика 2 \\n обучаться фгаоу \\n тюменский госуда ... (7511 characters truncated) ... мирование \\n 22 транспортный задача матричный постановка метод потенциал  \\n 23 простой составной число \\n 24 теория делимость \\n 25 теория сравнение', 'tfidf__4': None, 'rusbert__4': None, 'rusbert_finetuned__4': None, 'doc2vec__4': None, 'text__4': 'Об утверждении Регламента \\nпроведения промежуточной \\nаттестации по дисциплине \\n«Алгебра » для обучающихся \\nочной формы обучения  \\nФГАОУ ВО «Тюме ... (5786 characters truncated) ...  « Алгебра » про водятся в онлайн -формате посредством \\nобра зовательного портала lms.utmn .ru, а также по утвержденным \\nэкзамена ционным билетам .', 'rubert__4': None, 'confluence_id__4': 86479076, 'text_lem__4': 'утверждение регламент \\n проведение промежуточный \\n аттестация дисциплина \\n алгебра обучаться \\n очный форма обучение  \\n фгаоу тюменский \\n госуда ... (4919 characters truncated) ... вторный   промежуточный аттестация  \\n дисциплина алгебра водиться онлайн \\n обра зовательного портал lms.utmn .ru утвердить \\n экзамен ционным билет', 'tfidf__5': None, 'rusbert__5': None, 'rusbert_finetuned__5': None, 'doc2vec__5': None, 'text__5': 'Об утверждении Регламента \\nпроведения промежуточной и \\nитоговой аттестации по дисциплине \\n«Математика » для обучающихся \\nФГАОУ ВО «Тюменский \\nго ... (9404 characters truncated) ... я в формате выполнения студентом практическо го задани я и беседы  с преподавателем по основным изученным понятиям и фактам и по \\nрешенным задачам .', 'rubert__5': None, 'confluence_id__5': 86479075, 'text_lem__5': 'утверждение регламент \\n проведение промежуточный \\n итоговый аттестация дисциплина \\n математика обучаться \\n фгаоу тюменский \\n государственный уни ... (8304 characters truncated) ... лина математика \\n проводиться формат выполнение студент практическо задани беседа   преподаватель основный изученным понятие факт \\n решенным задача', 'tfidf__6': None, 'rusbert__6': None ... 204 parameters truncated ... 'confluence_id__31': 86479026, 'text_lem__31': 'заявление подаваться \\xa0 личный кабинет портал вместе отпуск беременность род предоставляться обучающемуся основание личный заявление выдать установ ... (184 characters truncated) ... ва ребёнок 110 календарный день род исчисляться суммарно предоставляться полностью независимо число день фактически использовать обучающимся род \\xa0', 'tfidf__32': None, 'rusbert__32': None, 'rusbert_finetuned__32': None, 'doc2vec__32': None, 'text__32': 'Заявление на выход из отпуска подается не позднее, чем за три недели до его окончания. Дата подачи заявления должна быть текущей. Бланк заявления на  ... (222 characters truncated) ... еканат (ул. Семакова, 18, холл 3 этаж) с паспортом или студенческим билетом, либо направить подписанный своей рукой бланк на e-mail:  ed@utmn.ru \\xa0', 'rubert__32': None, 'confluence_id__32': 86479034, 'text_lem__32': 'заявление выход отпуск подаваться поздний три неделя окончание дата подача заявление текущий бланк заявление выход академический отпуск скачать ссылк ... (124 characters truncated) ... ение лично обратиться единый деканат ул. семакова 18 холл 3 этаж паспорт студенческий билет направить подписать рука бланк e - mail   ed@utmn.ru \\xa0', 'tfidf__33': None, 'rusbert__33': None, 'rusbert_finetuned__33': None, 'doc2vec__33': None, 'text__33': 'Для рассмотрения возможности продления академического отпуска необходимо подать два заявления:  на выход из отпуска,  на предоставление нового отпуск ... (185 characters truncated) ... mail:  ed@utmn.ru \\xa0 Бланки заявления:  https://www.utmn.ru/o-tyumgu/organizatsionnaya-skhema-tyumgu/edinyy-dekanat/blanki-zayavleniy/otpusk/ .\\xa0', 'rubert__33': None, 'confluence_id__33': 86479036, 'text_lem__33': 'рассмотрение возможность продление академический отпуск подать два заявление   выход отпуск   предоставление новый отпуск подать заявление лично обра ... (110 characters truncated) ...  mail   ed@utmn.ru \\xa0  бланк заявление   https://www.utmn.ru/o-tyumgu/organizatsionnaya-skhema-tyumgu/edinyy-dekanat/blanki-zayavleniy/otpusk/ \\xa0', 'tfidf__34': None, 'rusbert__34': None, 'rusbert_finetuned__34': None, 'doc2vec__34': None, 'text__34': 'Заявление подается через личный кабинет на портале \"Вместе\". Основанием для принятия решения о предоставлении обучающемуся академического отпуска явл ... (124 characters truncated) ... ризывом на военную службу. Дата начала отпуска - дата прибытия к месту службы. Отпуск предоставляется сроком на 1 год и 1 месяц от даты повестки.\\xa0', 'rubert__34': None, 'confluence_id__34': 86479032, 'text_lem__34': 'заявление подаваться личный кабинет портал вместе основание принятие решение предоставление обучающемуся академический отпуск являться повестка военн ... (65 characters truncated) ... оенный служба \\xa0  связь призыв военный служба дата отпуск - дата прибытие место служба отпуск предоставляться срок 1 год 1 месяц дата повестка \\xa0', 'tfidf__35': None, 'rusbert__35': None, 'rusbert_finetuned__35': None, 'doc2vec__35': None, 'text__35': 'Заявление подается через личный кабинет на портале \"Вместе\". Отпуск по уходу за ребенком до достижения им возраста трех лет предоставляется обучающем ... (169 characters truncated) ... достижения им возраста трех лет оформляется сроком не более трех лет с момента рождения ребенка и может быть использован полностью или по частям.\\xa0', 'rubert__35': None, 'confluence_id__35': 86479030, 'text_lem__35': 'заявление подаваться личный кабинет портал вместе отпуск уход ребёнок достижение возраст три год предоставляться обучающемуся являющемуся мать отец о ... (62 characters truncated) ... во рождение ребёнок отпуск уход ребёнок достижение возраст три год оформляться срок три год момент рождение ребёнок использовать полностью часть \\xa0', 'tfidf__36': None, 'rusbert__36': None, 'rusbert_finetuned__36': None, 'doc2vec__36': None, 'text__36': 'Заявление подается через личный кабинет на портале \"Вместе\". Основанием для предоставления отпуска является заключение врачебной комиссии медицинской организации. Отпуск предоставляется по датам, указанным в заключении врачебной комиссии.\\xa0', 'rubert__36': None, 'confluence_id__36': 86479028, 'text_lem__36': 'заявление подаваться личный кабинет портал вместе основание предоставление отпуск являться заключение врачебный комиссия медицинский организация отпуск предоставляться датам указать заключение врачебный комиссия \\xa0', 'tfidf__37': None, 'rusbert__37': None, 'rusbert_finetuned__37': None, 'doc2vec__37': None, 'text__37': 'Подать заявление на отчисление переводом можно:\\xa0 лично в Едином деканате (ул. Семакова, 18, холл 3 этаж). При себе иметь паспорт или студенческий  ... (260 characters truncated) ... оторые будут перезачтены или переаттестованы обучающемуся при переводе.\\xa0 Приказ об отчислении переводом готовится в течение 5 (пяти) рабочих дней.', 'rubert__37': None, 'confluence_id__37': 86479043, 'text_lem__37': 'подать заявление отчисление перевод \\xa0  лично единый деканат ул. семакова 18 холл 3 этаж паспорт студенческий билет \\xa0  личный кабинет портал вме ... (158 characters truncated) ... ыполнить научный исследование перезачтены переаттестовать обучающемуся перевод \\xa0  приказ отчисление перевод готовиться течение 5 пять рабочий день'}\n",
      "2024-02-14 11:53:03,820 INFO sqlalchemy.engine.Engine COMMIT\n"
     ]
    }
   ],
   "source": [
    "with Session(engine) as session:\n",
    "    for index, row in conf_df.iterrows():\n",
    "        doc = Document(\n",
    "            confluence_id=int(row[\"page_id\"]),\n",
    "            text=row[\"content\"], \n",
    "            text_lem=lower_stopword_lemmatize(row[\"content\"])\n",
    "        )\n",
    "        session.add(doc)\n",
    "    session.commit()   "
   ]
  },
  {
   "cell_type": "markdown",
   "id": "081f57ce",
   "metadata": {},
   "source": [
    "### Эмбеддинги"
   ]
  },
  {
   "cell_type": "code",
   "execution_count": 13,
   "id": "d49a873f",
   "metadata": {},
   "outputs": [
    {
     "data": {
      "text/plain": [
       "0    сопровождение \\n специализированный \\n образов...\n",
       "1    2 \\n \\n \\n \\n 1 общий положение  \\n \\n 1.1   п...\n",
       "2    утверждение регламент \\n проведение промежуточ...\n",
       "3    утверждение егламента \\n проведение промежуточ...\n",
       "4    утверждение регламент \\n проведение промежуточ...\n",
       "dtype: object"
      ]
     },
     "execution_count": 13,
     "metadata": {},
     "output_type": "execute_result"
    }
   ],
   "source": [
    "with Session(engine) as session:\n",
    "   db_documents_lem = pd.Series([doc.text_lem for doc in session.scalars(select(Document).order_by(Document.id)).all()])\n",
    "db_documents_lem.head()"
   ]
  },
  {
   "cell_type": "markdown",
   "id": "648cbf68",
   "metadata": {},
   "source": [
    "#### TFIDF"
   ]
  },
  {
   "cell_type": "code",
   "execution_count": 14,
   "id": "c1e64ba4",
   "metadata": {},
   "outputs": [
    {
     "data": {
      "text/plain": [
       "2936"
      ]
     },
     "execution_count": 14,
     "metadata": {},
     "output_type": "execute_result"
    }
   ],
   "source": [
    "from sklearn.feature_extraction.text import TfidfVectorizer\n",
    "tfidf_vectorizer = TfidfVectorizer()\n",
    "tfidfX = tfidf_vectorizer.fit_transform(db_documents_lem)\n",
    "len(tfidf_vectorizer.transform([db_documents_lem[0]]).toarray()[0])"
   ]
  },
  {
   "cell_type": "code",
   "execution_count": 19,
   "id": "d0428a08",
   "metadata": {},
   "outputs": [],
   "source": [
    "with Session(engine) as session:\n",
    "   documents = session.scalars(select(Document).order_by(Document.id)).all()\n",
    "   for doc in documents:\n",
    "      doc.tfidf = tfidf_vectorizer.transform([doc.text_lem]).toarray()[0]\n",
    "      session.add(doc)\n",
    "      session.flush()\n",
    "   session.commit()"
   ]
  },
  {
   "cell_type": "code",
   "execution_count": 18,
   "id": "9046e56b",
   "metadata": {},
   "outputs": [],
   "source": [
    "def answer_tfidf(question):\n",
    "    with Session(engine) as session:\n",
    "        return session.scalars(select(Document)\n",
    "                        .order_by(Document.tfidf.cosine_distance(\n",
    "                            tfidf_vectorizer.transform([lower_stopword_lemmatize(question)]).toarray()[0]\n",
    "                            )).limit(1)).first().text"
   ]
  },
  {
   "cell_type": "code",
   "execution_count": 19,
   "id": "243bcc17",
   "metadata": {},
   "outputs": [
    {
     "name": "stdout",
     "output_type": "stream",
     "text": [
      "13.6 ms ± 210 µs per loop (mean ± std. dev. of 7 runs, 100 loops each)\n"
     ]
    }
   ],
   "source": [
    "%%timeit\n",
    "answer_tfidf(\"Как поменять физкультуру?\")"
   ]
  },
  {
   "cell_type": "markdown",
   "id": "5f7a23b9",
   "metadata": {},
   "source": [
    "#### Doc2vec"
   ]
  },
  {
   "cell_type": "code",
   "execution_count": 29,
   "id": "132815c5",
   "metadata": {},
   "outputs": [
    {
     "name": "stdout",
     "output_type": "stream",
     "text": [
      "Note: you may need to restart the kernel to use updated packages.\n"
     ]
    }
   ],
   "source": [
    "%pip install gensim --quiet"
   ]
  },
  {
   "cell_type": "code",
   "execution_count": 20,
   "id": "b2918499",
   "metadata": {},
   "outputs": [
    {
     "data": {
      "text/plain": [
       "150"
      ]
     },
     "execution_count": 20,
     "metadata": {},
     "output_type": "execute_result"
    }
   ],
   "source": [
    "from gensim.models.doc2vec import Doc2Vec, TaggedDocument\n",
    "\n",
    "documents = [TaggedDocument(doc, [i]) for i, doc in enumerate([text.split() for text in db_documents_lem])]\n",
    "doc2vec_model = Doc2Vec(documents, vector_size=150, window=5, min_count=1, workers=4)\n",
    "\n",
    "len(doc2vec_model.infer_vector(\"мама мыла раму\".split()))"
   ]
  },
  {
   "cell_type": "code",
   "execution_count": 22,
   "id": "56c5670d",
   "metadata": {},
   "outputs": [],
   "source": [
    "with Session(engine) as session:\n",
    "   documents = session.scalars(select(Document).order_by(Document.id)).all()\n",
    "   for doc in documents:\n",
    "      doc.doc2vec = doc2vec_model.infer_vector(doc.text_lem.split())\n",
    "      session.add(doc)\n",
    "      session.flush()\n",
    "   session.commit()"
   ]
  },
  {
   "cell_type": "code",
   "execution_count": 21,
   "id": "1a1fe5b1",
   "metadata": {},
   "outputs": [],
   "source": [
    "def answer_doc2vec(question):\n",
    "    with Session(engine) as session:\n",
    "        return session.scalars(select(Document)\n",
    "                        .order_by(Document.doc2vec.cosine_distance(\n",
    "                           doc2vec_model.infer_vector(lower_stopword_lemmatize(question).split())\n",
    "                            )).limit(1)).first().text"
   ]
  },
  {
   "cell_type": "code",
   "execution_count": 22,
   "id": "905dc65e",
   "metadata": {},
   "outputs": [
    {
     "name": "stdout",
     "output_type": "stream",
     "text": [
      "11.7 ms ± 158 µs per loop (mean ± std. dev. of 7 runs, 100 loops each)\n"
     ]
    }
   ],
   "source": [
    "%%timeit\n",
    "answer_doc2vec(\"Как поменять физкультуру?\")"
   ]
  },
  {
   "cell_type": "markdown",
   "id": "9118dc87",
   "metadata": {},
   "source": [
    "#### RuBERT-Tiny"
   ]
  },
  {
   "cell_type": "code",
   "execution_count": 28,
   "id": "7816dbe9",
   "metadata": {},
   "outputs": [
    {
     "data": {
      "text/plain": [
       "312"
      ]
     },
     "execution_count": 28,
     "metadata": {},
     "output_type": "execute_result"
    }
   ],
   "source": [
    "import torch\n",
    "from transformers import AutoTokenizer, AutoModel\n",
    "rubert_tokenizer = AutoTokenizer.from_pretrained(\"cointegrated/rubert-tiny\")\n",
    "rubert_model = AutoModel.from_pretrained(\"cointegrated/rubert-tiny\")\n",
    "rubert_model.cpu()\n",
    "# rubert_model.cuda()  # uncomment it if you have a GPU\n",
    "\n",
    "def embed_bert_cls(text, model, tokenizer):\n",
    "    t = tokenizer(text, padding=True, truncation=True, return_tensors='pt')\n",
    "    with torch.no_grad():\n",
    "        model_output = model(**{k: v.to(model.device) for k, v in t.items()})\n",
    "    embeddings = model_output.last_hidden_state[:, 0, :]\n",
    "    embeddings = torch.nn.functional.normalize(embeddings)\n",
    "    return embeddings[0].cpu().numpy()\n",
    "\n",
    "len(embed_bert_cls(\"мама мыла раму\", rubert_model, rubert_tokenizer))"
   ]
  },
  {
   "cell_type": "code",
   "execution_count": 25,
   "id": "560c7937",
   "metadata": {},
   "outputs": [],
   "source": [
    "with Session(engine) as session:\n",
    "   documents = session.scalars(select(Document).order_by(Document.id)).all()\n",
    "   for doc in documents:\n",
    "      doc.rubert = embed_bert_cls(doc.text, rubert_model, rubert_tokenizer)\n",
    "      session.add(doc)\n",
    "      session.flush()\n",
    "   session.commit()"
   ]
  },
  {
   "cell_type": "code",
   "execution_count": 29,
   "id": "42ad003c",
   "metadata": {},
   "outputs": [],
   "source": [
    "def answer_rubert(question):\n",
    "    with Session(engine) as session:\n",
    "        return session.scalars(select(Document)\n",
    "                        .order_by(Document.rubert.cosine_distance(\n",
    "                            embed_bert_cls(question, rubert_model, rubert_tokenizer)\n",
    "                            )).limit(1)).first().text"
   ]
  },
  {
   "cell_type": "code",
   "execution_count": 30,
   "id": "ee5d8e0f",
   "metadata": {},
   "outputs": [
    {
     "name": "stdout",
     "output_type": "stream",
     "text": [
      "13.2 ms ± 201 µs per loop (mean ± std. dev. of 7 runs, 100 loops each)\n"
     ]
    }
   ],
   "source": [
    "%%timeit\n",
    "answer_rubert(\"Как поменять физкультуру?\")"
   ]
  },
  {
   "cell_type": "markdown",
   "id": "72d84f5a",
   "metadata": {},
   "source": [
    "#### RuSBERT-Tiny"
   ]
  },
  {
   "cell_type": "code",
   "execution_count": 31,
   "id": "cce30650",
   "metadata": {},
   "outputs": [
    {
     "data": {
      "text/plain": [
       "312"
      ]
     },
     "execution_count": 31,
     "metadata": {},
     "output_type": "execute_result"
    }
   ],
   "source": [
    "from sentence_transformers import SentenceTransformer\n",
    "\n",
    "rusbert_model = SentenceTransformer('cointegrated/rubert-tiny2', device=\"cpu\")\n",
    "len(rusbert_model.encode(\"мама мыла раму\"))"
   ]
  },
  {
   "cell_type": "code",
   "execution_count": 28,
   "id": "3c0d4a46",
   "metadata": {},
   "outputs": [],
   "source": [
    "with Session(engine) as session:\n",
    "   documents = session.scalars(select(Document).order_by(Document.id)).all()\n",
    "   for doc in documents:\n",
    "      doc.rusbert = rusbert_model.encode(doc.text)\n",
    "      session.add(doc)\n",
    "      session.flush()\n",
    "   session.commit()"
   ]
  },
  {
   "cell_type": "code",
   "execution_count": 32,
   "id": "47e60807",
   "metadata": {},
   "outputs": [],
   "source": [
    "def answer_rusbert(question):\n",
    "    with Session(engine) as session:\n",
    "        return session.scalars(select(Document)\n",
    "                        .order_by(Document.rusbert.cosine_distance(\n",
    "                            rusbert_model.encode(question)\n",
    "                            )).limit(1)).first().text"
   ]
  },
  {
   "cell_type": "code",
   "execution_count": 34,
   "id": "b573354a",
   "metadata": {},
   "outputs": [
    {
     "name": "stdout",
     "output_type": "stream",
     "text": [
      "14.3 ms ± 487 µs per loop (mean ± std. dev. of 7 runs, 100 loops each)\n"
     ]
    }
   ],
   "source": [
    "%%timeit\n",
    "answer_rusbert(\"Как поменять физкультуру?\")"
   ]
  },
  {
   "cell_type": "markdown",
   "id": "e1dcfd2a",
   "metadata": {
    "jp-MarkdownHeadingCollapsed": true
   },
   "source": [
    "## Выбор нужного фрагмента через векторный индекс"
   ]
  },
  {
   "cell_type": "markdown",
   "id": "58b38c42",
   "metadata": {},
   "source": [
    "### Тестовая выборка с вопроосами"
   ]
  },
  {
   "cell_type": "code",
   "execution_count": null,
   "id": "cce0b757",
   "metadata": {},
   "outputs": [],
   "source": [
    "%pip install datasets --quiet"
   ]
  },
  {
   "cell_type": "code",
   "execution_count": 41,
   "id": "4860e057",
   "metadata": {},
   "outputs": [
    {
     "data": {
      "text/html": [
       "<div>\n",
       "<style scoped>\n",
       "    .dataframe tbody tr th:only-of-type {\n",
       "        vertical-align: middle;\n",
       "    }\n",
       "\n",
       "    .dataframe tbody tr th {\n",
       "        vertical-align: top;\n",
       "    }\n",
       "\n",
       "    .dataframe thead th {\n",
       "        text-align: right;\n",
       "    }\n",
       "</style>\n",
       "<table border=\"1\" class=\"dataframe\">\n",
       "  <thead>\n",
       "    <tr style=\"text-align: right;\">\n",
       "      <th></th>\n",
       "      <th>question</th>\n",
       "      <th>benchmark</th>\n",
       "    </tr>\n",
       "  </thead>\n",
       "  <tbody>\n",
       "    <tr>\n",
       "      <th>0</th>\n",
       "      <td>где почитать отзывы на элективы?</td>\n",
       "      <td>Прежде, чем выбрать элективы, рекомендуем почи...</td>\n",
       "    </tr>\n",
       "    <tr>\n",
       "      <th>1</th>\n",
       "      <td>когда можно поменять элективы?</td>\n",
       "      <td>Прежде, чем выбрать элективы, рекомендуем почи...</td>\n",
       "    </tr>\n",
       "    <tr>\n",
       "      <th>2</th>\n",
       "      <td>как выбрать электив?</td>\n",
       "      <td>Прежде, чем выбрать элективы, рекомендуем почи...</td>\n",
       "    </tr>\n",
       "    <tr>\n",
       "      <th>3</th>\n",
       "      <td>что делать, если военкомат просит справку?</td>\n",
       "      <td>Вам необходимо обратиться в Отдел мобилизацион...</td>\n",
       "    </tr>\n",
       "    <tr>\n",
       "      <th>4</th>\n",
       "      <td>где посмотреть отзывы на элективы?</td>\n",
       "      <td>Прежде, чем выбрать элективы, рекомендуем почи...</td>\n",
       "    </tr>\n",
       "    <tr>\n",
       "      <th>...</th>\n",
       "      <td>...</td>\n",
       "      <td>...</td>\n",
       "    </tr>\n",
       "    <tr>\n",
       "      <th>78</th>\n",
       "      <td>Как продлить академ?</td>\n",
       "      <td>Для рассмотрения возможности продления академи...</td>\n",
       "    </tr>\n",
       "    <tr>\n",
       "      <th>79</th>\n",
       "      <td>Меня призвали в армию, что делать?</td>\n",
       "      <td>Заявление подается через личный кабинет на пор...</td>\n",
       "    </tr>\n",
       "    <tr>\n",
       "      <th>80</th>\n",
       "      <td>Как получить отпуск по уходу заребёнком?</td>\n",
       "      <td>Заявление подается через личный кабинет на пор...</td>\n",
       "    </tr>\n",
       "    <tr>\n",
       "      <th>81</th>\n",
       "      <td>Как получить отпуск по мед. показаниям?</td>\n",
       "      <td>Заявление подается через личный кабинет на пор...</td>\n",
       "    </tr>\n",
       "    <tr>\n",
       "      <th>82</th>\n",
       "      <td>Как перевестись в другой ВУЗ?</td>\n",
       "      <td>Подать заявление на отчисление переводом можно...</td>\n",
       "    </tr>\n",
       "  </tbody>\n",
       "</table>\n",
       "<p>83 rows × 2 columns</p>\n",
       "</div>"
      ],
      "text/plain": [
       "                                      question  \\\n",
       "0             где почитать отзывы на элективы?   \n",
       "1               когда можно поменять элективы?   \n",
       "2                         как выбрать электив?   \n",
       "3   что делать, если военкомат просит справку?   \n",
       "4           где посмотреть отзывы на элективы?   \n",
       "..                                         ...   \n",
       "78                        Как продлить академ?   \n",
       "79          Меня призвали в армию, что делать?   \n",
       "80    Как получить отпуск по уходу заребёнком?   \n",
       "81     Как получить отпуск по мед. показаниям?   \n",
       "82               Как перевестись в другой ВУЗ?   \n",
       "\n",
       "                                            benchmark  \n",
       "0   Прежде, чем выбрать элективы, рекомендуем почи...  \n",
       "1   Прежде, чем выбрать элективы, рекомендуем почи...  \n",
       "2   Прежде, чем выбрать элективы, рекомендуем почи...  \n",
       "3   Вам необходимо обратиться в Отдел мобилизацион...  \n",
       "4   Прежде, чем выбрать элективы, рекомендуем почи...  \n",
       "..                                                ...  \n",
       "78  Для рассмотрения возможности продления академи...  \n",
       "79  Заявление подается через личный кабинет на пор...  \n",
       "80  Заявление подается через личный кабинет на пор...  \n",
       "81  Заявление подается через личный кабинет на пор...  \n",
       "82  Подать заявление на отчисление переводом можно...  \n",
       "\n",
       "[83 rows x 2 columns]"
      ]
     },
     "execution_count": 41,
     "metadata": {},
     "output_type": "execute_result"
    }
   ],
   "source": [
    "# TODO: use huggingface datasets\n",
    "# test_questions = pd.read_csv(\"test_questions.csv\", index_col=0)\n",
    "test_questions"
   ]
  },
  {
   "cell_type": "code",
   "execution_count": 43,
   "id": "51734fc9",
   "metadata": {},
   "outputs": [
    {
     "data": {
      "text/html": [
       "<div>\n",
       "<style scoped>\n",
       "    .dataframe tbody tr th:only-of-type {\n",
       "        vertical-align: middle;\n",
       "    }\n",
       "\n",
       "    .dataframe tbody tr th {\n",
       "        vertical-align: top;\n",
       "    }\n",
       "\n",
       "    .dataframe thead th {\n",
       "        text-align: right;\n",
       "    }\n",
       "</style>\n",
       "<table border=\"1\" class=\"dataframe\">\n",
       "  <thead>\n",
       "    <tr style=\"text-align: right;\">\n",
       "      <th></th>\n",
       "      <th>question</th>\n",
       "      <th>benchmark</th>\n",
       "      <th>CQL</th>\n",
       "      <th>tfidf</th>\n",
       "      <th>doc2vec</th>\n",
       "      <th>rubert</th>\n",
       "      <th>rusbert</th>\n",
       "    </tr>\n",
       "  </thead>\n",
       "  <tbody>\n",
       "    <tr>\n",
       "      <th>0</th>\n",
       "      <td>где почитать отзывы на элективы?</td>\n",
       "      <td>Прежде, чем выбрать элективы, рекомендуем почи...</td>\n",
       "      <td>Прежде, чем выбрать элективы, рекомендуем почи...</td>\n",
       "      <td>Прежде, чем выбрать элективы, рекомендуем почи...</td>\n",
       "      <td>Вам необходимо обратиться в Отдел мобилизацион...</td>\n",
       "      <td>Прежде, чем выбрать элективы, рекомендуем почи...</td>\n",
       "      <td>Прежде, чем выбрать элективы, рекомендуем почи...</td>\n",
       "    </tr>\n",
       "    <tr>\n",
       "      <th>1</th>\n",
       "      <td>когда можно поменять элективы?</td>\n",
       "      <td>Прежде, чем выбрать элективы, рекомендуем почи...</td>\n",
       "      <td>Прежде, чем выбрать элективы, рекомендуем почи...</td>\n",
       "      <td>Прежде, чем выбрать элективы, рекомендуем почи...</td>\n",
       "      <td>Вам необходимо обратиться в Отдел мобилизацион...</td>\n",
       "      <td>Прежде, чем выбрать элективы, рекомендуем почи...</td>\n",
       "      <td>Прежде, чем выбрать элективы, рекомендуем почи...</td>\n",
       "    </tr>\n",
       "    <tr>\n",
       "      <th>2</th>\n",
       "      <td>как выбрать электив?</td>\n",
       "      <td>Прежде, чем выбрать элективы, рекомендуем почи...</td>\n",
       "      <td>Прежде, чем выбрать элективы, рекомендуем почи...</td>\n",
       "      <td>Прежде, чем выбрать элективы, рекомендуем почи...</td>\n",
       "      <td>Заявление подается  через личный кабинет на по...</td>\n",
       "      <td>Прежде, чем выбрать элективы, рекомендуем почи...</td>\n",
       "      <td>Прежде, чем выбрать элективы, рекомендуем почи...</td>\n",
       "    </tr>\n",
       "    <tr>\n",
       "      <th>3</th>\n",
       "      <td>что делать, если военкомат просит справку?</td>\n",
       "      <td>Вам необходимо обратиться в Отдел мобилизацион...</td>\n",
       "      <td>Вам необходимо обратиться в Отдел мобилизацион...</td>\n",
       "      <td>Для оформления академической справки (справки ...</td>\n",
       "      <td>По вопросам оплаты обучения, суммы задолженнос...</td>\n",
       "      <td>При восстановлении на договорное место, после ...</td>\n",
       "      <td>При восстановлении на договорное место, после ...</td>\n",
       "    </tr>\n",
       "    <tr>\n",
       "      <th>4</th>\n",
       "      <td>где посмотреть отзывы на элективы?</td>\n",
       "      <td>Прежде, чем выбрать элективы, рекомендуем почи...</td>\n",
       "      <td>Прежде, чем выбрать элективы, рекомендуем почи...</td>\n",
       "      <td>Прежде, чем выбрать элективы, рекомендуем почи...</td>\n",
       "      <td>Вам необходимо обратиться в Отдел мобилизацион...</td>\n",
       "      <td>Прежде, чем выбрать элективы, рекомендуем почи...</td>\n",
       "      <td>Прежде, чем выбрать элективы, рекомендуем почи...</td>\n",
       "    </tr>\n",
       "    <tr>\n",
       "      <th>...</th>\n",
       "      <td>...</td>\n",
       "      <td>...</td>\n",
       "      <td>...</td>\n",
       "      <td>...</td>\n",
       "      <td>...</td>\n",
       "      <td>...</td>\n",
       "      <td>...</td>\n",
       "    </tr>\n",
       "    <tr>\n",
       "      <th>78</th>\n",
       "      <td>Как продлить академ?</td>\n",
       "      <td>Для рассмотрения возможности продления академи...</td>\n",
       "      <td>Для рассмотрения возможности продления академи...</td>\n",
       "      <td>Для  восстановления студенческого билета  Вам ...</td>\n",
       "      <td>Заявление подается через личный кабинет на пор...</td>\n",
       "      <td>Прежде, чем выбрать элективы, рекомендуем почи...</td>\n",
       "      <td>Заявления на восстановление в ТюмГУ принимаютс...</td>\n",
       "    </tr>\n",
       "    <tr>\n",
       "      <th>79</th>\n",
       "      <td>Меня призвали в армию, что делать?</td>\n",
       "      <td>Заявление подается через личный кабинет на пор...</td>\n",
       "      <td>Заявление подается через личный кабинет на пор...</td>\n",
       "      <td>Документ подписан простой электронной подписью...</td>\n",
       "      <td>Прежде, чем выбрать элективы, рекомендуем почи...</td>\n",
       "      <td>Заявление подается через личный кабинет на пор...</td>\n",
       "      <td>Вам необходимо обратиться в Отдел мобилизацион...</td>\n",
       "    </tr>\n",
       "    <tr>\n",
       "      <th>80</th>\n",
       "      <td>Как получить отпуск по уходу заребёнком?</td>\n",
       "      <td>Заявление подается через личный кабинет на пор...</td>\n",
       "      <td>None</td>\n",
       "      <td>Заявление на академический отпуск подается чер...</td>\n",
       "      <td>Заявление на академический отпуск подается чер...</td>\n",
       "      <td>Заявление подается через личный кабинет на пор...</td>\n",
       "      <td>Заявления на восстановление в ТюмГУ принимаютс...</td>\n",
       "    </tr>\n",
       "    <tr>\n",
       "      <th>81</th>\n",
       "      <td>Как получить отпуск по мед. показаниям?</td>\n",
       "      <td>Заявление подается через личный кабинет на пор...</td>\n",
       "      <td>Заявление подается через личный кабинет на пор...</td>\n",
       "      <td>Заявление на академический отпуск подается чер...</td>\n",
       "      <td>Прежде, чем выбрать элективы, рекомендуем почи...</td>\n",
       "      <td>Заявление подается через личный кабинет на пор...</td>\n",
       "      <td>Заявление подается через личный кабинет на пор...</td>\n",
       "    </tr>\n",
       "    <tr>\n",
       "      <th>82</th>\n",
       "      <td>Как перевестись в другой ВУЗ?</td>\n",
       "      <td>Подать заявление на отчисление переводом можно...</td>\n",
       "      <td>1. Подать заявление о переводе можно лично, об...</td>\n",
       "      <td>1. Подать заявление о переводе можно лично, об...</td>\n",
       "      <td>Заявление подается через личный кабинет на пор...</td>\n",
       "      <td>Для рассмотрения возможности продления академи...</td>\n",
       "      <td>Документ подписан простой электронной подписью...</td>\n",
       "    </tr>\n",
       "  </tbody>\n",
       "</table>\n",
       "<p>83 rows × 7 columns</p>\n",
       "</div>"
      ],
      "text/plain": [
       "                                      question  \\\n",
       "0             где почитать отзывы на элективы?   \n",
       "1               когда можно поменять элективы?   \n",
       "2                         как выбрать электив?   \n",
       "3   что делать, если военкомат просит справку?   \n",
       "4           где посмотреть отзывы на элективы?   \n",
       "..                                         ...   \n",
       "78                        Как продлить академ?   \n",
       "79          Меня призвали в армию, что делать?   \n",
       "80    Как получить отпуск по уходу заребёнком?   \n",
       "81     Как получить отпуск по мед. показаниям?   \n",
       "82               Как перевестись в другой ВУЗ?   \n",
       "\n",
       "                                            benchmark  \\\n",
       "0   Прежде, чем выбрать элективы, рекомендуем почи...   \n",
       "1   Прежде, чем выбрать элективы, рекомендуем почи...   \n",
       "2   Прежде, чем выбрать элективы, рекомендуем почи...   \n",
       "3   Вам необходимо обратиться в Отдел мобилизацион...   \n",
       "4   Прежде, чем выбрать элективы, рекомендуем почи...   \n",
       "..                                                ...   \n",
       "78  Для рассмотрения возможности продления академи...   \n",
       "79  Заявление подается через личный кабинет на пор...   \n",
       "80  Заявление подается через личный кабинет на пор...   \n",
       "81  Заявление подается через личный кабинет на пор...   \n",
       "82  Подать заявление на отчисление переводом можно...   \n",
       "\n",
       "                                                  CQL  \\\n",
       "0   Прежде, чем выбрать элективы, рекомендуем почи...   \n",
       "1   Прежде, чем выбрать элективы, рекомендуем почи...   \n",
       "2   Прежде, чем выбрать элективы, рекомендуем почи...   \n",
       "3   Вам необходимо обратиться в Отдел мобилизацион...   \n",
       "4   Прежде, чем выбрать элективы, рекомендуем почи...   \n",
       "..                                                ...   \n",
       "78  Для рассмотрения возможности продления академи...   \n",
       "79  Заявление подается через личный кабинет на пор...   \n",
       "80                                               None   \n",
       "81  Заявление подается через личный кабинет на пор...   \n",
       "82  1. Подать заявление о переводе можно лично, об...   \n",
       "\n",
       "                                                tfidf  \\\n",
       "0   Прежде, чем выбрать элективы, рекомендуем почи...   \n",
       "1   Прежде, чем выбрать элективы, рекомендуем почи...   \n",
       "2   Прежде, чем выбрать элективы, рекомендуем почи...   \n",
       "3   Для оформления академической справки (справки ...   \n",
       "4   Прежде, чем выбрать элективы, рекомендуем почи...   \n",
       "..                                                ...   \n",
       "78  Для  восстановления студенческого билета  Вам ...   \n",
       "79  Документ подписан простой электронной подписью...   \n",
       "80  Заявление на академический отпуск подается чер...   \n",
       "81  Заявление на академический отпуск подается чер...   \n",
       "82  1. Подать заявление о переводе можно лично, об...   \n",
       "\n",
       "                                              doc2vec  \\\n",
       "0   Вам необходимо обратиться в Отдел мобилизацион...   \n",
       "1   Вам необходимо обратиться в Отдел мобилизацион...   \n",
       "2   Заявление подается  через личный кабинет на по...   \n",
       "3   По вопросам оплаты обучения, суммы задолженнос...   \n",
       "4   Вам необходимо обратиться в Отдел мобилизацион...   \n",
       "..                                                ...   \n",
       "78  Заявление подается через личный кабинет на пор...   \n",
       "79  Прежде, чем выбрать элективы, рекомендуем почи...   \n",
       "80  Заявление на академический отпуск подается чер...   \n",
       "81  Прежде, чем выбрать элективы, рекомендуем почи...   \n",
       "82  Заявление подается через личный кабинет на пор...   \n",
       "\n",
       "                                               rubert  \\\n",
       "0   Прежде, чем выбрать элективы, рекомендуем почи...   \n",
       "1   Прежде, чем выбрать элективы, рекомендуем почи...   \n",
       "2   Прежде, чем выбрать элективы, рекомендуем почи...   \n",
       "3   При восстановлении на договорное место, после ...   \n",
       "4   Прежде, чем выбрать элективы, рекомендуем почи...   \n",
       "..                                                ...   \n",
       "78  Прежде, чем выбрать элективы, рекомендуем почи...   \n",
       "79  Заявление подается через личный кабинет на пор...   \n",
       "80  Заявление подается через личный кабинет на пор...   \n",
       "81  Заявление подается через личный кабинет на пор...   \n",
       "82  Для рассмотрения возможности продления академи...   \n",
       "\n",
       "                                              rusbert  \n",
       "0   Прежде, чем выбрать элективы, рекомендуем почи...  \n",
       "1   Прежде, чем выбрать элективы, рекомендуем почи...  \n",
       "2   Прежде, чем выбрать элективы, рекомендуем почи...  \n",
       "3   При восстановлении на договорное место, после ...  \n",
       "4   Прежде, чем выбрать элективы, рекомендуем почи...  \n",
       "..                                                ...  \n",
       "78  Заявления на восстановление в ТюмГУ принимаютс...  \n",
       "79  Вам необходимо обратиться в Отдел мобилизацион...  \n",
       "80  Заявления на восстановление в ТюмГУ принимаютс...  \n",
       "81  Заявление подается через личный кабинет на пор...  \n",
       "82  Документ подписан простой электронной подписью...  \n",
       "\n",
       "[83 rows x 7 columns]"
      ]
     },
     "execution_count": 43,
     "metadata": {},
     "output_type": "execute_result"
    }
   ],
   "source": [
    "test_questions[\"CQL\"] = test_questions[\"question\"].apply(get_document_content)\n",
    "test_questions[\"tfidf\"] = test_questions[\"question\"].apply(answer_tfidf)\n",
    "test_questions[\"doc2vec\"] = test_questions[\"question\"].apply(answer_doc2vec)\n",
    "test_questions[\"rubert\"] = test_questions[\"question\"].apply(answer_rubert)\n",
    "test_questions[\"rusbert\"] = test_questions[\"question\"].apply(answer_rusbert)\n",
    "test_questions"
   ]
  },
  {
   "cell_type": "markdown",
   "id": "97effbaf",
   "metadata": {},
   "source": [
    "### Выбор лучшего алгоритма"
   ]
  },
  {
   "cell_type": "markdown",
   "id": "5b8f1f73",
   "metadata": {},
   "source": [
    "#### Accuracy"
   ]
  },
  {
   "cell_type": "code",
   "execution_count": 44,
   "id": "057b78e0",
   "metadata": {},
   "outputs": [
    {
     "name": "stdout",
     "output_type": "stream",
     "text": [
      "benchmark 1.0\n",
      "CQL 0.4578313253012048\n",
      "tfidf 0.46987951807228917\n",
      "doc2vec 0.03614457831325301\n",
      "rubert 0.20481927710843373\n",
      "rusbert 0.2891566265060241\n"
     ]
    }
   ],
   "source": [
    "for column in test_questions.columns[1:]:\n",
    "    print(column, sum(test_questions[column].apply(lambda x: \"\" if x is None else x) == test_questions.benchmark) / len(test_questions.benchmark))"
   ]
  },
  {
   "cell_type": "markdown",
   "id": "d6cf90ac",
   "metadata": {},
   "source": [
    "#### ROUGE-L"
   ]
  },
  {
   "cell_type": "code",
   "execution_count": 34,
   "id": "25c02817",
   "metadata": {},
   "outputs": [
    {
     "name": "stdout",
     "output_type": "stream",
     "text": [
      "Note: you may need to restart the kernel to use updated packages.\n"
     ]
    }
   ],
   "source": [
    "%pip install rouge --quiet"
   ]
  },
  {
   "cell_type": "code",
   "execution_count": 45,
   "id": "2da8a0c7",
   "metadata": {},
   "outputs": [
    {
     "name": "stdout",
     "output_type": "stream",
     "text": [
      "benchmark {'r': 1.0, 'p': 1.0, 'f': 0.9999999950000001}\n",
      "CQL {'r': 0.5632143844363949, 'p': 0.5845958347701568, 'f': 0.48431107770497556}\n",
      "tfidf {'r': 0.5880011523079155, 'p': 0.5447905152227257, 'f': 0.5374472424797634}\n",
      "doc2vec {'r': 0.16050843958847527, 'p': 0.1410953841140969, 'f': 0.11908277460390129}\n",
      "rubert {'r': 0.2924755513104418, 'p': 0.3693253910367398, 'f': 0.310519861004474}\n",
      "rusbert {'r': 0.3987787912421958, 'p': 0.42272824555538446, 'f': 0.3842241067180766}\n"
     ]
    }
   ],
   "source": [
    "from rouge import Rouge\n",
    "rouge = Rouge()\n",
    "\n",
    "for column in test_questions.columns[1:]:\n",
    "    print(column, rouge.get_scores(test_questions[column].apply(lambda x: \"-\" if x is None else x), test_questions[\"benchmark\"], avg=True)['rouge-l'])"
   ]
  },
  {
   "cell_type": "markdown",
   "id": "9e6d1cf3",
   "metadata": {},
   "source": [
    "## SBERT Fine Tuning\n",
    "\n",
    " * https://www.sbert.net/docs/training/overview.html\n",
    " * https://huggingface.co/blog/how-to-train-sentence-transformers"
   ]
  },
  {
   "cell_type": "code",
   "execution_count": 3,
   "id": "af5ad14d",
   "metadata": {},
   "outputs": [],
   "source": [
    "from sentence_transformers import SentenceTransformer"
   ]
  },
  {
   "cell_type": "markdown",
   "id": "aa6b245a",
   "metadata": {
    "jp-MarkdownHeadingCollapsed": true
   },
   "source": [
    "### Генерация обучающей выборки через GigaChat"
   ]
  },
  {
   "cell_type": "code",
   "execution_count": 47,
   "id": "0e464c87",
   "metadata": {},
   "outputs": [
    {
     "name": "stdout",
     "output_type": "stream",
     "text": [
      "2024-02-13 16:21:43,438 INFO sqlalchemy.engine.Engine BEGIN (implicit)\n",
      "2024-02-13 16:21:43,439 INFO sqlalchemy.engine.Engine SELECT document.id, document.text, document.text_lem, document.tfidf, document.doc2vec, document.rubert, document.rusbert, document.rusbert_finetuned \n",
      "FROM document ORDER BY document.id\n",
      "2024-02-13 16:21:43,440 INFO sqlalchemy.engine.Engine [cached since 182.4s ago] {}\n",
      "2024-02-13 16:21:43,502 INFO sqlalchemy.engine.Engine ROLLBACK\n"
     ]
    },
    {
     "data": {
      "text/plain": [
       "28"
      ]
     },
     "execution_count": 47,
     "metadata": {},
     "output_type": "execute_result"
    }
   ],
   "source": [
    "with Session(engine) as session:\n",
    "   db_documents = [doc.text for doc in session.scalars(select(Document).order_by(Document.id)).all() if len(doc.text) < 3000]\n",
    "len(db_documents)"
   ]
  },
  {
   "cell_type": "code",
   "execution_count": 48,
   "id": "d3f86e5e",
   "metadata": {},
   "outputs": [],
   "source": [
    "from langchain.prompts import PromptTemplate\n",
    "\n",
    "prompt_template = \"\"\"\n",
    "Сделай глубокий вдох и действуй как студент. На какие 5 вопросов ты можешь получить ответы из документа в тройных кавычках? Используй разговорный стиль речи и студенческую лексику.\n",
    "\n",
    "\\\"\\\"\\\"\n",
    "{content}\n",
    "\\\"\\\"\\\"\n",
    "\n",
    "Вопросы:\n",
    "\"\"\"\n",
    "\n",
    "prompt = PromptTemplate.from_template(prompt_template)"
   ]
  },
  {
   "cell_type": "code",
   "execution_count": 49,
   "id": "74fbc907",
   "metadata": {},
   "outputs": [
    {
     "data": {
      "text/plain": [
       "['1. Когда начинается выбор спортивных секций по Физической культуре?',\n",
       " '2. Какие ограничения существуют при записи на спортивные секции?',\n",
       " '3. Как проверить наличие конфликтов в расписании спортивных секций и своем расписании?',\n",
       " '4. Как изменить выбор спортивных секций?',\n",
       " '5. Что произойдет, если студент пропустит два занятия подряд?']"
      ]
     },
     "execution_count": 49,
     "metadata": {},
     "output_type": "execute_result"
    }
   ],
   "source": [
    "from langchain.llms import GigaChat\n",
    "giga = GigaChat(credentials=gigachat_token, verify_ssl_certs=False)\n",
    "giga_chain = prompt | giga\n",
    "giga_chain.invoke({\"content\": db_documents[0]}).strip().split(\"\\n\")"
   ]
  },
  {
   "cell_type": "code",
   "execution_count": 50,
   "id": "d5a8f1e7",
   "metadata": {},
   "outputs": [
    {
     "name": "stdout",
     "output_type": "stream",
     "text": [
      "['1. Когда начинается выбор спортивных секций по Физической культуре?', '2. Какие ограничения существуют при записи на спортивные секции?', '3. Как проверить наличие конфликтов в расписании спортивных секций и своем расписании?', '4. Как изменить выбор спортивных секций?', '5. Что произойдет, если студент пропустит два занятия подряд?']\n",
      "['1. Что такое \"Отзывус\"?', '2. Как можно оставить отзыв на \"Отзывусе\"?', '3. Где можно найти информацию о том, как поменять электив?', '4. Какая информация отправляется на корпоративную почту в первую учебную неделю семестра?', '5. Какие элективы доступны в 2023 году?']\n",
      "['1. Какие способы оплаты обучения доступны?', '2. Как связаться с отделом платных образовательных услуг?', '3. Где находится отдел платных образовательных услуг?', '4. Как получить документы для оплаты за обучение материнским капиталом?', '5. Каковы сроки оплаты по договору для студентов разных форм обучения?']\n",
      "['1. Где можно оформить справку о подтверждении обучения?', '2. Какие терминалы для этого доступны?', '3. В каких зданиях расположены эти терминалы?', '4. Как можно получить магнитную карту, если она отсутствует?', '5. Как связаться с Единым деканатом для заказа справки об обучении?']\n",
      "['1. Как сформировать справку-вызов на портале \"Вместе\"?', '2. Где находится раздел \"Обучение\" на портале \"Вместе\"?', '3. Какой адрес электронной почты для сообщения о способе получения готовой справки?', '4. Какие требования для оформления справки-вызова на текущую сессию студентам заочной формы обучения?', '5. Что делать, если у студента есть академическая задолженность за предыдущую сессию?']\n",
      "['1. Где находится Единый деканат?', '2. Как подать заявление на восстановление студенческого билета?', '3. Какие документы нужны для подачи заявления на восстановление студенческого билета?', '4. Как продлить студенческий билет?', '5. Что делать, если потерял магзинную карту?']\n",
      "['Конечно, я могу ответить на эти вопросы! Вот они:', '', '1. Где можно подать заявку на оформление академической справки?', '2. Какой адрес Единого деканата?', '3. На какой электронной почте можно отправить заявку на оформление академической справки?', '4. Сколько времени занимает подготовка академической справки?', '5. Какое количество рабочих дней требуется для подготовки академической справки?']\n",
      "['Конечно, я постараюсь ответить на эти вопросы в разговорном стиле и используя студенческую лексику.', '', '1. Где находится Отдел мобилизационной подготовки?', '2. Какой номер телефона у Отдела мобилизационной подготовки?', '3. Как называется улица, на которой находится Отдел мобилизационной подготовки?', '4. Какой номер кабинета в Отделе мобилизационной подготовки?', '5. Какое здание находится по адресу ул. Перекопская, 15А?']\n",
      "['Конечно, я постараюсь ответить на эти вопросы в студенческом стиле!', '', '1. Где находится Центр по работе с общежитиями?', '2. Как мне добраться до Центра по работе с общежитиями?', '3. Какие услуги предоставляет Центр по работе с общежитиями?', '4. Какое общежитие находится по адресу ул. Красина, д.19?', '5. Какой номер телефона у Центра по работе с общежитиями?']\n",
      "['1. Как подать заявление на академический отпуск?', '2. Какие условия должны быть выполнены для подачи заявления на отпуск?', '3. Каков срок принятия решения о предоставлении отпуска?', '4. Когда необходимо подать заявление на выход из академического отпуска?', '5. Где можно скачать бланк заявления на выход из академического отпуска?']\n",
      "['1. Где находится Единый деканат и как туда можно обратиться?', '2. Какие документы необходимо предоставить для восстановления?', '3. Как правильно заполнить заявление на восстановление?', '4. Что такое СНИЛС и как его можно предоставить?', '5. Как заполнить согласие на обработку персональных данных и согласие на распространение персональных данных?']\n",
      "['Конечно, я могу ответить на эти вопросы! Вот они:', '', '1. Какие условия должны быть соблюдены для восстановления лица, обучавшегося за счет бюджетных ассигнований?', '2. Какие формы обучения и направления подготовки (специальности) могут быть учтены при восстановлении?', '3. На какой курс может быть восстановлено лицо?', '4. Как происходит конкурс для восстановления?', '5. Какие последствия будут после последующих восстановлений?']\n",
      "['1. Когда можно повторно пройти государственную итоговую аттестацию?', '2. Сколько раз можно повторно пройти государственную итоговую аттестацию?', '3. Когда принимаются заявления на восстановление для прохождения государственной итоговой аттестации?', '4. Каков срок подачи заявлений на восстановление для прохождения государственной итоговой аттестации?', '5. Где можно найти информацию о календарном учебном графике для подготовки к итоговым испытаниям?']\n",
      "['1. Когда можно повторно пройти государственную итоговую аттестацию?', '2. Сколько раз можно повторно пройти государственную итоговую аттестацию?', '3. Когда принимаются заявления на восстановление для прохождения государственной итоговой аттестации?', '4. Каков срок подачи заявлений на восстановление для прохождения государственной итоговой аттестации?', '5. Где можно найти информацию о календарном учебном графике для подготовки к итоговым испытаниям?']\n",
      "['1. Как получить справку о доходах, размере стипендии или пособии?', '2. Какой адрес и контактные данные Сервисного центра бухгалтерии?', '3. Какие часы работы Сервисного центра бухгалтерии?', '4. Есть ли возможность получить справку в выходные дни?', '5. Каковы условия получения справки о доходах, размере стипендии или пособии?']\n",
      "['1. Когда принимаются заявления на восстановление в Университет на осенний семестр?', '2. Когда принимаются заявления на восстановление в Университет на весенний семестр?', '3. Когда принимаются заявления на восстановление в Университет на первый семестр первого курса?', '4. Какой срок с момента отчисления допускается для подачи заявления на восстановление в Университет?', '5. В какой период времени принимаются заявления на восстановление в Университет на первый семестр первого курса?']\n",
      "['1. Какие сроки подачи заявления на восстановление в ТюмГУ?', '2. Каковы условия для подачи заявления на восстановление?', '3. Какие документы необходимы для подачи заявления на восстановление?', '4. Какие сроки подачи заявления на восстановление на 1 курс 1 семестр?', '5. Какие требования предъявляются к студентам, которые хотят восстановиться после отчисления?']\n",
      "['Конечно, я могу ответить на эти вопросы! Вот они:', '', '1. Что нужно сделать после рассмотрения заявления аттестационной комиссией для восстановления на договорное место?', '2. Какую информацию необходимо предоставить при заключении договора?', '3. Какие последствия могут возникнуть в случае несвоевременной оплаты?', '4. Как долго рассматривается заявление аттестационной комиссией?', '5. Какие документы передаются для оформления приказа после заключения договора и оплаты?']\n",
      "['1. Как подать заявление о переводе?', '2. Когда принимаются заявления о переводе?', '3. Какие документы необходимы для подачи заявления о переводе?', '4. Как ТюмГУ принимает решение о возможности зачисления переводом?', '5. Какие документы нужны для оформления зачисления в ТюмГУ после перевода?']\n",
      "['1. Какие документы необходимы для подачи заявления на перевод в ТюмГУ?', '2. Как выглядит заявление о зачислении переводом?', '3. Что такое академическая справка и где ее можно получить?', '4. Как выглядит справка о подтверждении обучения?', '5. Какие документы нужны для студентов, обучающихся на бюджетной основе?']\n",
      "['1. Когда принимаются заявления о переводе для студентов очной и очно-заочной форм обучения?', '2. Когда принимаются заявления о переводе для студентов заочной формы обучения?', '3. Какие документы необходимы для перевода?', '4. Где можно скачать бланки заявлений для перевода?', '5. Как можно подать заявление на перевод?']\n",
      "['Конечно, я постараюсь ответить на эти вопросы в разговорном стиле и используя студенческую лексику.', '', '1. Как подать заявление на отпуск по беременности и родам?', '2. Какие документы нужны для получения отпуска по беременности и родам?', '3. Какова продолжительность отпуска по беременности и родам?', '4. Как исчисляется продолжительность отпуска по беременности и родам?', '5. Предоставляется ли отпуск по беременности и родам независимо от фактически использованных дней до родов?']\n",
      "['1. Как подать заявление на выход из отпуска?', '2. Какая дата является крайней для подачи заявления на выход из отпуска?', '3. Где можно скачать бланк заявления на выход из отпуска?', '4. Какие документы необходимо предоставить при подаче заявления лично?', '5. Как можно отправить подписанный бланк заявления на e-mail?']\n",
      "['1. Как подать заявление на выход из академического отпуска?', '2. Как подать заявление на предоставление нового академического отпуска?', '3. Где можно найти бланки заявлений?', '4. Какой адрес Единого деканата?', '5. Какой электронный адрес для направления заявлений на e-mail?']\n",
      "['Конечно, я могу ответить на эти вопросы! Вот они:', '', '1. Как подать заявление на академический отпуск?', '2. Какие основания могут быть для предоставления академического отпуска?', '3. Какова продолжительность академического отпуска?', '4. Когда начинается академический отпуск?', '5. Как долго длится академический отпуск?']\n",
      "['Конечно, я могу ответить на эти вопросы! Вот они:', '', '1. Как подать заявление на отпуск по уходу за ребенком до достижения им возраста трех лет?', '2. Кто может получить отпуск по уходу за ребенком до достижения им возраста трех лет?', '3. Какие документы необходимо предоставить вместе с заявлением?', '4. Какой срок оформления отпуска по уходу за ребенком до достижения им возраста трех лет?', '5. Можно ли использовать отпуск по частям и если да, то как это происходит?']\n",
      "['Конечно, я постараюсь ответить на эти вопросы в разговорном стиле и используя студенческую лексику.', '', '1. Как подать заявление на отпуск?', '2. Какие документы нужны для подачи заявления на отпуск?', '3. Какое основание необходимо для предоставления отпуска?', '4. Когда предоставляется отпуск?', '5. Какие даты указываются в заключении врачебной комиссии?']\n",
      "['1. Как подать заявление на отчисление переводом?', '2. Где находится Единый деканат?', '3. Какие документы нужно приложить к заявлению на отчисление переводом?', '4. Сколько времени занимает подготовка приказа об отчислении переводом?', '5. Можно ли подать заявление на отчисление переводом через личный кабинет на портале \"Вместе\"?']\n"
     ]
    },
    {
     "data": {
      "text/html": [
       "<div>\n",
       "<style scoped>\n",
       "    .dataframe tbody tr th:only-of-type {\n",
       "        vertical-align: middle;\n",
       "    }\n",
       "\n",
       "    .dataframe tbody tr th {\n",
       "        vertical-align: top;\n",
       "    }\n",
       "\n",
       "    .dataframe thead th {\n",
       "        text-align: right;\n",
       "    }\n",
       "</style>\n",
       "<table border=\"1\" class=\"dataframe\">\n",
       "  <thead>\n",
       "    <tr style=\"text-align: right;\">\n",
       "      <th></th>\n",
       "      <th>question</th>\n",
       "      <th>document</th>\n",
       "    </tr>\n",
       "  </thead>\n",
       "  <tbody>\n",
       "    <tr>\n",
       "      <th>0</th>\n",
       "      <td>Когда начинается выбор спортивных секций по Фи...</td>\n",
       "      <td>Выбор спортивных секций по Физической культуре...</td>\n",
       "    </tr>\n",
       "    <tr>\n",
       "      <th>1</th>\n",
       "      <td>Какие ограничения существуют при записи на спо...</td>\n",
       "      <td>Выбор спортивных секций по Физической культуре...</td>\n",
       "    </tr>\n",
       "    <tr>\n",
       "      <th>2</th>\n",
       "      <td>Как проверить наличие конфликтов в расписании ...</td>\n",
       "      <td>Выбор спортивных секций по Физической культуре...</td>\n",
       "    </tr>\n",
       "    <tr>\n",
       "      <th>3</th>\n",
       "      <td>Как изменить выбор спортивных секций?</td>\n",
       "      <td>Выбор спортивных секций по Физической культуре...</td>\n",
       "    </tr>\n",
       "    <tr>\n",
       "      <th>4</th>\n",
       "      <td>Что произойдет, если студент пропустит два зан...</td>\n",
       "      <td>Выбор спортивных секций по Физической культуре...</td>\n",
       "    </tr>\n",
       "    <tr>\n",
       "      <th>...</th>\n",
       "      <td>...</td>\n",
       "      <td>...</td>\n",
       "    </tr>\n",
       "    <tr>\n",
       "      <th>153</th>\n",
       "      <td>Как подать заявление на отчисление переводом?</td>\n",
       "      <td>Подать заявление на отчисление переводом можно...</td>\n",
       "    </tr>\n",
       "    <tr>\n",
       "      <th>154</th>\n",
       "      <td>Где находится Единый деканат?</td>\n",
       "      <td>Подать заявление на отчисление переводом можно...</td>\n",
       "    </tr>\n",
       "    <tr>\n",
       "      <th>155</th>\n",
       "      <td>Какие документы нужно приложить к заявлению на...</td>\n",
       "      <td>Подать заявление на отчисление переводом можно...</td>\n",
       "    </tr>\n",
       "    <tr>\n",
       "      <th>156</th>\n",
       "      <td>Сколько времени занимает подготовка приказа об...</td>\n",
       "      <td>Подать заявление на отчисление переводом можно...</td>\n",
       "    </tr>\n",
       "    <tr>\n",
       "      <th>157</th>\n",
       "      <td>Можно ли подать заявление на отчисление перево...</td>\n",
       "      <td>Подать заявление на отчисление переводом можно...</td>\n",
       "    </tr>\n",
       "  </tbody>\n",
       "</table>\n",
       "<p>158 rows × 2 columns</p>\n",
       "</div>"
      ],
      "text/plain": [
       "                                              question  \\\n",
       "0    Когда начинается выбор спортивных секций по Фи...   \n",
       "1    Какие ограничения существуют при записи на спо...   \n",
       "2    Как проверить наличие конфликтов в расписании ...   \n",
       "3                Как изменить выбор спортивных секций?   \n",
       "4    Что произойдет, если студент пропустит два зан...   \n",
       "..                                                 ...   \n",
       "153      Как подать заявление на отчисление переводом?   \n",
       "154                      Где находится Единый деканат?   \n",
       "155  Какие документы нужно приложить к заявлению на...   \n",
       "156  Сколько времени занимает подготовка приказа об...   \n",
       "157  Можно ли подать заявление на отчисление перево...   \n",
       "\n",
       "                                              document  \n",
       "0    Выбор спортивных секций по Физической культуре...  \n",
       "1    Выбор спортивных секций по Физической культуре...  \n",
       "2    Выбор спортивных секций по Физической культуре...  \n",
       "3    Выбор спортивных секций по Физической культуре...  \n",
       "4    Выбор спортивных секций по Физической культуре...  \n",
       "..                                                 ...  \n",
       "153  Подать заявление на отчисление переводом можно...  \n",
       "154  Подать заявление на отчисление переводом можно...  \n",
       "155  Подать заявление на отчисление переводом можно...  \n",
       "156  Подать заявление на отчисление переводом можно...  \n",
       "157  Подать заявление на отчисление переводом можно...  \n",
       "\n",
       "[158 rows x 2 columns]"
      ]
     },
     "execution_count": 50,
     "metadata": {},
     "output_type": "execute_result"
    }
   ],
   "source": [
    "gigachat_docs = []\n",
    "for doc in db_documents:\n",
    "    query = {\"content\": doc}\n",
    "    giga_questions = giga_chain.invoke(query).strip().split(\"\\n\")\n",
    "    for q in giga_questions:\n",
    "        gigachat_docs.append({\n",
    "            \"question\": q[3:],\n",
    "            \"document\": doc\n",
    "        })\n",
    "    print(giga_questions)\n",
    "gigachat_docs = pd.DataFrame(gigachat_docs)\n",
    "gigachat_docs"
   ]
  },
  {
   "cell_type": "code",
   "execution_count": 51,
   "id": "f025d9c6",
   "metadata": {},
   "outputs": [],
   "source": [
    "# TODO: replace with huggingface datasets uploading\n",
    "gigachat_docs.to_csv(\"gigachat_docs.csv\")"
   ]
  },
  {
   "cell_type": "markdown",
   "id": "67e741f7",
   "metadata": {
    "jp-MarkdownHeadingCollapsed": true
   },
   "source": [
    "### Тонкая настройка"
   ]
  },
  {
   "cell_type": "code",
   "execution_count": 6,
   "id": "ec284f44",
   "metadata": {},
   "outputs": [
    {
     "data": {
      "text/html": [
       "<div>\n",
       "<style scoped>\n",
       "    .dataframe tbody tr th:only-of-type {\n",
       "        vertical-align: middle;\n",
       "    }\n",
       "\n",
       "    .dataframe tbody tr th {\n",
       "        vertical-align: top;\n",
       "    }\n",
       "\n",
       "    .dataframe thead th {\n",
       "        text-align: right;\n",
       "    }\n",
       "</style>\n",
       "<table border=\"1\" class=\"dataframe\">\n",
       "  <thead>\n",
       "    <tr style=\"text-align: right;\">\n",
       "      <th></th>\n",
       "      <th>question</th>\n",
       "      <th>document</th>\n",
       "    </tr>\n",
       "  </thead>\n",
       "  <tbody>\n",
       "    <tr>\n",
       "      <th>0</th>\n",
       "      <td>Когда начинается выбор спортивных секций по Фи...</td>\n",
       "      <td>Выбор спортивных секций по Физической культуре...</td>\n",
       "    </tr>\n",
       "    <tr>\n",
       "      <th>1</th>\n",
       "      <td>Какие ограничения существуют при записи на спо...</td>\n",
       "      <td>Выбор спортивных секций по Физической культуре...</td>\n",
       "    </tr>\n",
       "    <tr>\n",
       "      <th>2</th>\n",
       "      <td>Как проверить наличие конфликтов в расписании ...</td>\n",
       "      <td>Выбор спортивных секций по Физической культуре...</td>\n",
       "    </tr>\n",
       "    <tr>\n",
       "      <th>3</th>\n",
       "      <td>Как изменить выбор спортивных секций?</td>\n",
       "      <td>Выбор спортивных секций по Физической культуре...</td>\n",
       "    </tr>\n",
       "    <tr>\n",
       "      <th>4</th>\n",
       "      <td>Что произойдет, если студент пропустит два зан...</td>\n",
       "      <td>Выбор спортивных секций по Физической культуре...</td>\n",
       "    </tr>\n",
       "    <tr>\n",
       "      <th>...</th>\n",
       "      <td>...</td>\n",
       "      <td>...</td>\n",
       "    </tr>\n",
       "    <tr>\n",
       "      <th>135</th>\n",
       "      <td>Как подать заявление на отчисление переводом?</td>\n",
       "      <td>Подать заявление на отчисление переводом можно...</td>\n",
       "    </tr>\n",
       "    <tr>\n",
       "      <th>136</th>\n",
       "      <td>Где находится Единый деканат?</td>\n",
       "      <td>Подать заявление на отчисление переводом можно...</td>\n",
       "    </tr>\n",
       "    <tr>\n",
       "      <th>137</th>\n",
       "      <td>Какие документы нужно приложить к заявлению на...</td>\n",
       "      <td>Подать заявление на отчисление переводом можно...</td>\n",
       "    </tr>\n",
       "    <tr>\n",
       "      <th>138</th>\n",
       "      <td>Сколько времени занимает подготовка приказа об...</td>\n",
       "      <td>Подать заявление на отчисление переводом можно...</td>\n",
       "    </tr>\n",
       "    <tr>\n",
       "      <th>139</th>\n",
       "      <td>Можно ли подать заявление на отчисление перево...</td>\n",
       "      <td>Подать заявление на отчисление переводом можно...</td>\n",
       "    </tr>\n",
       "  </tbody>\n",
       "</table>\n",
       "<p>140 rows × 2 columns</p>\n",
       "</div>"
      ],
      "text/plain": [
       "                                              question  \\\n",
       "0    Когда начинается выбор спортивных секций по Фи...   \n",
       "1    Какие ограничения существуют при записи на спо...   \n",
       "2    Как проверить наличие конфликтов в расписании ...   \n",
       "3                Как изменить выбор спортивных секций?   \n",
       "4    Что произойдет, если студент пропустит два зан...   \n",
       "..                                                 ...   \n",
       "135      Как подать заявление на отчисление переводом?   \n",
       "136                      Где находится Единый деканат?   \n",
       "137  Какие документы нужно приложить к заявлению на...   \n",
       "138  Сколько времени занимает подготовка приказа об...   \n",
       "139  Можно ли подать заявление на отчисление перево...   \n",
       "\n",
       "                                              document  \n",
       "0    Выбор спортивных секций по Физической культуре...  \n",
       "1    Выбор спортивных секций по Физической культуре...  \n",
       "2    Выбор спортивных секций по Физической культуре...  \n",
       "3    Выбор спортивных секций по Физической культуре...  \n",
       "4    Выбор спортивных секций по Физической культуре...  \n",
       "..                                                 ...  \n",
       "135  Подать заявление на отчисление переводом можно...  \n",
       "136  Подать заявление на отчисление переводом можно...  \n",
       "137  Подать заявление на отчисление переводом можно...  \n",
       "138  Подать заявление на отчисление переводом можно...  \n",
       "139  Подать заявление на отчисление переводом можно...  \n",
       "\n",
       "[140 rows x 2 columns]"
      ]
     },
     "execution_count": 6,
     "metadata": {},
     "output_type": "execute_result"
    }
   ],
   "source": [
    "# TODO: use huggingface datasets\n",
    "# gigachat_docs = pd.read_csv(\"gigachat_docs.csv\", index_col=0).reset_index(drop=True)\n",
    "gigachat_docs"
   ]
  },
  {
   "cell_type": "code",
   "execution_count": 7,
   "id": "235475b5",
   "metadata": {},
   "outputs": [
    {
     "name": "stderr",
     "output_type": "stream",
     "text": [
      "d:\\git\\virtassist\\.venv\\lib\\site-packages\\tqdm\\auto.py:21: TqdmWarning: IProgress not found. Please update jupyter and ipywidgets. See https://ipywidgets.readthedocs.io/en/stable/user_install.html\n",
      "  from .autonotebook import tqdm as notebook_tqdm\n",
      "Iteration: 100%|██████████| 9/9 [00:05<00:00,  1.78it/s]\n",
      "Iteration: 100%|██████████| 9/9 [00:01<00:00,  6.34it/s]\n",
      "Iteration: 100%|██████████| 9/9 [00:01<00:00,  6.22it/s]\n",
      "Iteration: 100%|██████████| 9/9 [00:01<00:00,  6.98it/s]\n",
      "Iteration: 100%|██████████| 9/9 [00:01<00:00,  6.52it/s]\n",
      "Iteration: 100%|██████████| 9/9 [00:01<00:00,  6.29it/s]\n",
      "Iteration: 100%|██████████| 9/9 [00:01<00:00,  6.35it/s]\n",
      "Iteration: 100%|██████████| 9/9 [00:01<00:00,  6.51it/s]\n",
      "Iteration: 100%|██████████| 9/9 [00:01<00:00,  6.02it/s]\n",
      "Iteration: 100%|██████████| 9/9 [00:01<00:00,  7.26it/s]\n",
      "Epoch: 100%|██████████| 10/10 [00:17<00:00,  1.76s/it]\n"
     ]
    }
   ],
   "source": [
    "import math\n",
    "from sentence_transformers import InputExample, losses\n",
    "from torch.utils.data import DataLoader\n",
    "\n",
    "train_set = []\n",
    "for index, row in gigachat_docs.iterrows():\n",
    "    train_set.append(InputExample(texts=[row['question'], row['document']]))\n",
    "    \n",
    "finetuned_model = SentenceTransformer(\"cointegrated/rubert-tiny2\", device=\"cuda\")\n",
    "\n",
    "train_dataloader = DataLoader(train_set, shuffle=True, batch_size=16)\n",
    "# train_loss = losses.MegaBatchMarginLoss(finetuned_model)\n",
    "train_loss = losses.MegaBatchMarginLoss(finetuned_model)\n",
    "\n",
    "num_epochs = 10\n",
    "warmup_steps = math.ceil(len(train_set) * num_epochs * 0.1)\n",
    "\n",
    "finetuned_model.fit(train_objectives=[(train_dataloader, train_loss)], \n",
    "                    epochs=num_epochs, \n",
    "                    warmup_steps=warmup_steps,\n",
    "                    output_path=\"saved_models/rubert-tiny2-wikiutmn-gigachat-qa\")\n"
   ]
  },
  {
   "cell_type": "markdown",
   "id": "2c3b6bb1",
   "metadata": {
    "jp-MarkdownHeadingCollapsed": true
   },
   "source": [
    "### Индексация"
   ]
  },
  {
   "cell_type": "code",
   "execution_count": 4,
   "id": "1909c23f",
   "metadata": {},
   "outputs": [
    {
     "data": {
      "text/plain": [
       "SentenceTransformer(\n",
       "  (0): Transformer({'max_seq_length': 2048, 'do_lower_case': False}) with Transformer model: BertModel \n",
       "  (1): Pooling({'word_embedding_dimension': 312, 'pooling_mode_cls_token': True, 'pooling_mode_mean_tokens': False, 'pooling_mode_max_tokens': False, 'pooling_mode_mean_sqrt_len_tokens': False, 'pooling_mode_weightedmean_tokens': False, 'pooling_mode_lasttoken': False})\n",
       "  (2): Normalize()\n",
       ")"
      ]
     },
     "execution_count": 4,
     "metadata": {},
     "output_type": "execute_result"
    }
   ],
   "source": [
    "finetuned_model = SentenceTransformer('saved_models/rubert-tiny2-wikiutmn-gigachat-qa', device=\"cpu\")\n",
    "finetuned_model"
   ]
  },
  {
   "cell_type": "code",
   "execution_count": 17,
   "id": "59f802f2",
   "metadata": {},
   "outputs": [],
   "source": [
    "with Session(engine) as session:\n",
    "   documents = session.scalars(select(Document).order_by(Document.id)).all()\n",
    "   for doc in documents:\n",
    "      doc.rusbert_finetuned = finetuned_model.encode(doc.text)\n",
    "      session.add(doc)\n",
    "      session.flush()\n",
    "   session.commit()"
   ]
  },
  {
   "cell_type": "code",
   "execution_count": 47,
   "id": "c9ebaec8",
   "metadata": {},
   "outputs": [],
   "source": [
    "def answer_rusbert_finetuned(question):\n",
    "    with Session(engine) as session:\n",
    "        return session.scalars(select(Document)\n",
    "                        .order_by(Document.rusbert_finetuned.cosine_distance(\n",
    "                            finetuned_model.encode(question)\n",
    "                            )).limit(1)).first().text"
   ]
  },
  {
   "cell_type": "code",
   "execution_count": 48,
   "id": "b4541567",
   "metadata": {},
   "outputs": [
    {
     "name": "stdout",
     "output_type": "stream",
     "text": [
      "14.3 ms ± 606 µs per loop (mean ± std. dev. of 7 runs, 100 loops each)\n"
     ]
    }
   ],
   "source": [
    "%%timeit\n",
    "answer_rusbert_finetuned(\"Как поменять физкультуру?\")"
   ]
  },
  {
   "cell_type": "markdown",
   "id": "a35f2b2b",
   "metadata": {
    "jp-MarkdownHeadingCollapsed": true
   },
   "source": [
    "### Метрики"
   ]
  },
  {
   "cell_type": "code",
   "execution_count": 49,
   "id": "32baf899",
   "metadata": {},
   "outputs": [
    {
     "data": {
      "text/html": [
       "<div>\n",
       "<style scoped>\n",
       "    .dataframe tbody tr th:only-of-type {\n",
       "        vertical-align: middle;\n",
       "    }\n",
       "\n",
       "    .dataframe tbody tr th {\n",
       "        vertical-align: top;\n",
       "    }\n",
       "\n",
       "    .dataframe thead th {\n",
       "        text-align: right;\n",
       "    }\n",
       "</style>\n",
       "<table border=\"1\" class=\"dataframe\">\n",
       "  <thead>\n",
       "    <tr style=\"text-align: right;\">\n",
       "      <th></th>\n",
       "      <th>question</th>\n",
       "      <th>benchmark</th>\n",
       "      <th>CQL</th>\n",
       "      <th>tfidf</th>\n",
       "      <th>doc2vec</th>\n",
       "      <th>rubert</th>\n",
       "      <th>rusbert</th>\n",
       "      <th>rusbert_finetuned</th>\n",
       "    </tr>\n",
       "  </thead>\n",
       "  <tbody>\n",
       "    <tr>\n",
       "      <th>0</th>\n",
       "      <td>где почитать отзывы на элективы?</td>\n",
       "      <td>Прежде, чем выбрать элективы, рекомендуем почи...</td>\n",
       "      <td>Прежде, чем выбрать элективы, рекомендуем почи...</td>\n",
       "      <td>Прежде, чем выбрать элективы, рекомендуем почи...</td>\n",
       "      <td>Вам необходимо обратиться в Отдел мобилизацион...</td>\n",
       "      <td>Прежде, чем выбрать элективы, рекомендуем почи...</td>\n",
       "      <td>Прежде, чем выбрать элективы, рекомендуем почи...</td>\n",
       "      <td>Прежде, чем выбрать элективы, рекомендуем почи...</td>\n",
       "    </tr>\n",
       "    <tr>\n",
       "      <th>1</th>\n",
       "      <td>когда можно поменять элективы?</td>\n",
       "      <td>Прежде, чем выбрать элективы, рекомендуем почи...</td>\n",
       "      <td>Прежде, чем выбрать элективы, рекомендуем почи...</td>\n",
       "      <td>Прежде, чем выбрать элективы, рекомендуем почи...</td>\n",
       "      <td>Вам необходимо обратиться в Отдел мобилизацион...</td>\n",
       "      <td>Прежде, чем выбрать элективы, рекомендуем почи...</td>\n",
       "      <td>Прежде, чем выбрать элективы, рекомендуем почи...</td>\n",
       "      <td>Прежде, чем выбрать элективы, рекомендуем почи...</td>\n",
       "    </tr>\n",
       "    <tr>\n",
       "      <th>2</th>\n",
       "      <td>как выбрать электив?</td>\n",
       "      <td>Прежде, чем выбрать элективы, рекомендуем почи...</td>\n",
       "      <td>Прежде, чем выбрать элективы, рекомендуем почи...</td>\n",
       "      <td>Прежде, чем выбрать элективы, рекомендуем почи...</td>\n",
       "      <td>Заявление подается  через личный кабинет на по...</td>\n",
       "      <td>Прежде, чем выбрать элективы, рекомендуем почи...</td>\n",
       "      <td>Прежде, чем выбрать элективы, рекомендуем почи...</td>\n",
       "      <td>Прежде, чем выбрать элективы, рекомендуем почи...</td>\n",
       "    </tr>\n",
       "    <tr>\n",
       "      <th>3</th>\n",
       "      <td>что делать, если военкомат просит справку?</td>\n",
       "      <td>Вам необходимо обратиться в Отдел мобилизацион...</td>\n",
       "      <td>Вам необходимо обратиться в Отдел мобилизацион...</td>\n",
       "      <td>Для оформления академической справки (справки ...</td>\n",
       "      <td>По вопросам оплаты обучения, суммы задолженнос...</td>\n",
       "      <td>При восстановлении на договорное место, после ...</td>\n",
       "      <td>При восстановлении на договорное место, после ...</td>\n",
       "      <td>Для оформления академической справки (справки ...</td>\n",
       "    </tr>\n",
       "    <tr>\n",
       "      <th>4</th>\n",
       "      <td>где посмотреть отзывы на элективы?</td>\n",
       "      <td>Прежде, чем выбрать элективы, рекомендуем почи...</td>\n",
       "      <td>Прежде, чем выбрать элективы, рекомендуем почи...</td>\n",
       "      <td>Прежде, чем выбрать элективы, рекомендуем почи...</td>\n",
       "      <td>Вам необходимо обратиться в Отдел мобилизацион...</td>\n",
       "      <td>Прежде, чем выбрать элективы, рекомендуем почи...</td>\n",
       "      <td>Прежде, чем выбрать элективы, рекомендуем почи...</td>\n",
       "      <td>Прежде, чем выбрать элективы, рекомендуем почи...</td>\n",
       "    </tr>\n",
       "    <tr>\n",
       "      <th>...</th>\n",
       "      <td>...</td>\n",
       "      <td>...</td>\n",
       "      <td>...</td>\n",
       "      <td>...</td>\n",
       "      <td>...</td>\n",
       "      <td>...</td>\n",
       "      <td>...</td>\n",
       "      <td>...</td>\n",
       "    </tr>\n",
       "    <tr>\n",
       "      <th>78</th>\n",
       "      <td>Как продлить академ?</td>\n",
       "      <td>Для рассмотрения возможности продления академи...</td>\n",
       "      <td>Для рассмотрения возможности продления академи...</td>\n",
       "      <td>Для  восстановления студенческого билета  Вам ...</td>\n",
       "      <td>Заявление подается через личный кабинет на пор...</td>\n",
       "      <td>Прежде, чем выбрать элективы, рекомендуем почи...</td>\n",
       "      <td>Заявления на восстановление в ТюмГУ принимаютс...</td>\n",
       "      <td>Заявления на восстановление в ТюмГУ принимаютс...</td>\n",
       "    </tr>\n",
       "    <tr>\n",
       "      <th>79</th>\n",
       "      <td>Меня призвали в армию, что делать?</td>\n",
       "      <td>Заявление подается через личный кабинет на пор...</td>\n",
       "      <td>Заявление подается через личный кабинет на пор...</td>\n",
       "      <td>Документ подписан простой электронной подписью...</td>\n",
       "      <td>Прежде, чем выбрать элективы, рекомендуем почи...</td>\n",
       "      <td>Заявление подается через личный кабинет на пор...</td>\n",
       "      <td>Вам необходимо обратиться в Отдел мобилизацион...</td>\n",
       "      <td>Вам необходимо обратиться в Отдел мобилизацион...</td>\n",
       "    </tr>\n",
       "    <tr>\n",
       "      <th>80</th>\n",
       "      <td>Как получить отпуск по уходу заребёнком?</td>\n",
       "      <td>Заявление подается через личный кабинет на пор...</td>\n",
       "      <td>None</td>\n",
       "      <td>Заявление на академический отпуск подается чер...</td>\n",
       "      <td>Заявление на академический отпуск подается чер...</td>\n",
       "      <td>Заявление подается через личный кабинет на пор...</td>\n",
       "      <td>Заявления на восстановление в ТюмГУ принимаютс...</td>\n",
       "      <td>Заявление подается через личный кабинет на пор...</td>\n",
       "    </tr>\n",
       "    <tr>\n",
       "      <th>81</th>\n",
       "      <td>Как получить отпуск по мед. показаниям?</td>\n",
       "      <td>Заявление подается через личный кабинет на пор...</td>\n",
       "      <td>Заявление подается через личный кабинет на пор...</td>\n",
       "      <td>Заявление на академический отпуск подается чер...</td>\n",
       "      <td>Прежде, чем выбрать элективы, рекомендуем почи...</td>\n",
       "      <td>Заявление подается через личный кабинет на пор...</td>\n",
       "      <td>Заявление подается через личный кабинет на пор...</td>\n",
       "      <td>Заявление подается через личный кабинет на пор...</td>\n",
       "    </tr>\n",
       "    <tr>\n",
       "      <th>82</th>\n",
       "      <td>Как перевестись в другой ВУЗ?</td>\n",
       "      <td>Подать заявление на отчисление переводом можно...</td>\n",
       "      <td>1. Подать заявление о переводе можно лично, об...</td>\n",
       "      <td>1. Подать заявление о переводе можно лично, об...</td>\n",
       "      <td>Заявление подается через личный кабинет на пор...</td>\n",
       "      <td>Для рассмотрения возможности продления академи...</td>\n",
       "      <td>Документ подписан простой электронной подписью...</td>\n",
       "      <td>Документ подписан простой электронной подписью...</td>\n",
       "    </tr>\n",
       "  </tbody>\n",
       "</table>\n",
       "<p>83 rows × 8 columns</p>\n",
       "</div>"
      ],
      "text/plain": [
       "                                      question  \\\n",
       "0             где почитать отзывы на элективы?   \n",
       "1               когда можно поменять элективы?   \n",
       "2                         как выбрать электив?   \n",
       "3   что делать, если военкомат просит справку?   \n",
       "4           где посмотреть отзывы на элективы?   \n",
       "..                                         ...   \n",
       "78                        Как продлить академ?   \n",
       "79          Меня призвали в армию, что делать?   \n",
       "80    Как получить отпуск по уходу заребёнком?   \n",
       "81     Как получить отпуск по мед. показаниям?   \n",
       "82               Как перевестись в другой ВУЗ?   \n",
       "\n",
       "                                            benchmark  \\\n",
       "0   Прежде, чем выбрать элективы, рекомендуем почи...   \n",
       "1   Прежде, чем выбрать элективы, рекомендуем почи...   \n",
       "2   Прежде, чем выбрать элективы, рекомендуем почи...   \n",
       "3   Вам необходимо обратиться в Отдел мобилизацион...   \n",
       "4   Прежде, чем выбрать элективы, рекомендуем почи...   \n",
       "..                                                ...   \n",
       "78  Для рассмотрения возможности продления академи...   \n",
       "79  Заявление подается через личный кабинет на пор...   \n",
       "80  Заявление подается через личный кабинет на пор...   \n",
       "81  Заявление подается через личный кабинет на пор...   \n",
       "82  Подать заявление на отчисление переводом можно...   \n",
       "\n",
       "                                                  CQL  \\\n",
       "0   Прежде, чем выбрать элективы, рекомендуем почи...   \n",
       "1   Прежде, чем выбрать элективы, рекомендуем почи...   \n",
       "2   Прежде, чем выбрать элективы, рекомендуем почи...   \n",
       "3   Вам необходимо обратиться в Отдел мобилизацион...   \n",
       "4   Прежде, чем выбрать элективы, рекомендуем почи...   \n",
       "..                                                ...   \n",
       "78  Для рассмотрения возможности продления академи...   \n",
       "79  Заявление подается через личный кабинет на пор...   \n",
       "80                                               None   \n",
       "81  Заявление подается через личный кабинет на пор...   \n",
       "82  1. Подать заявление о переводе можно лично, об...   \n",
       "\n",
       "                                                tfidf  \\\n",
       "0   Прежде, чем выбрать элективы, рекомендуем почи...   \n",
       "1   Прежде, чем выбрать элективы, рекомендуем почи...   \n",
       "2   Прежде, чем выбрать элективы, рекомендуем почи...   \n",
       "3   Для оформления академической справки (справки ...   \n",
       "4   Прежде, чем выбрать элективы, рекомендуем почи...   \n",
       "..                                                ...   \n",
       "78  Для  восстановления студенческого билета  Вам ...   \n",
       "79  Документ подписан простой электронной подписью...   \n",
       "80  Заявление на академический отпуск подается чер...   \n",
       "81  Заявление на академический отпуск подается чер...   \n",
       "82  1. Подать заявление о переводе можно лично, об...   \n",
       "\n",
       "                                              doc2vec  \\\n",
       "0   Вам необходимо обратиться в Отдел мобилизацион...   \n",
       "1   Вам необходимо обратиться в Отдел мобилизацион...   \n",
       "2   Заявление подается  через личный кабинет на по...   \n",
       "3   По вопросам оплаты обучения, суммы задолженнос...   \n",
       "4   Вам необходимо обратиться в Отдел мобилизацион...   \n",
       "..                                                ...   \n",
       "78  Заявление подается через личный кабинет на пор...   \n",
       "79  Прежде, чем выбрать элективы, рекомендуем почи...   \n",
       "80  Заявление на академический отпуск подается чер...   \n",
       "81  Прежде, чем выбрать элективы, рекомендуем почи...   \n",
       "82  Заявление подается через личный кабинет на пор...   \n",
       "\n",
       "                                               rubert  \\\n",
       "0   Прежде, чем выбрать элективы, рекомендуем почи...   \n",
       "1   Прежде, чем выбрать элективы, рекомендуем почи...   \n",
       "2   Прежде, чем выбрать элективы, рекомендуем почи...   \n",
       "3   При восстановлении на договорное место, после ...   \n",
       "4   Прежде, чем выбрать элективы, рекомендуем почи...   \n",
       "..                                                ...   \n",
       "78  Прежде, чем выбрать элективы, рекомендуем почи...   \n",
       "79  Заявление подается через личный кабинет на пор...   \n",
       "80  Заявление подается через личный кабинет на пор...   \n",
       "81  Заявление подается через личный кабинет на пор...   \n",
       "82  Для рассмотрения возможности продления академи...   \n",
       "\n",
       "                                              rusbert  \\\n",
       "0   Прежде, чем выбрать элективы, рекомендуем почи...   \n",
       "1   Прежде, чем выбрать элективы, рекомендуем почи...   \n",
       "2   Прежде, чем выбрать элективы, рекомендуем почи...   \n",
       "3   При восстановлении на договорное место, после ...   \n",
       "4   Прежде, чем выбрать элективы, рекомендуем почи...   \n",
       "..                                                ...   \n",
       "78  Заявления на восстановление в ТюмГУ принимаютс...   \n",
       "79  Вам необходимо обратиться в Отдел мобилизацион...   \n",
       "80  Заявления на восстановление в ТюмГУ принимаютс...   \n",
       "81  Заявление подается через личный кабинет на пор...   \n",
       "82  Документ подписан простой электронной подписью...   \n",
       "\n",
       "                                    rusbert_finetuned  \n",
       "0   Прежде, чем выбрать элективы, рекомендуем почи...  \n",
       "1   Прежде, чем выбрать элективы, рекомендуем почи...  \n",
       "2   Прежде, чем выбрать элективы, рекомендуем почи...  \n",
       "3   Для оформления академической справки (справки ...  \n",
       "4   Прежде, чем выбрать элективы, рекомендуем почи...  \n",
       "..                                                ...  \n",
       "78  Заявления на восстановление в ТюмГУ принимаютс...  \n",
       "79  Вам необходимо обратиться в Отдел мобилизацион...  \n",
       "80  Заявление подается через личный кабинет на пор...  \n",
       "81  Заявление подается через личный кабинет на пор...  \n",
       "82  Документ подписан простой электронной подписью...  \n",
       "\n",
       "[83 rows x 8 columns]"
      ]
     },
     "execution_count": 49,
     "metadata": {},
     "output_type": "execute_result"
    }
   ],
   "source": [
    "test_questions[\"rusbert_finetuned\"] = test_questions[\"question\"].apply(answer_rusbert_finetuned)\n",
    "test_questions"
   ]
  },
  {
   "cell_type": "markdown",
   "id": "8bd50175",
   "metadata": {},
   "source": [
    "#### Accuracy"
   ]
  },
  {
   "cell_type": "code",
   "execution_count": 50,
   "id": "cc2b80d4",
   "metadata": {},
   "outputs": [
    {
     "name": "stdout",
     "output_type": "stream",
     "text": [
      "rusbert_finetuned 0.4939759036144578\n"
     ]
    }
   ],
   "source": [
    "print(\"rusbert_finetuned\", sum(test_questions[\"rusbert_finetuned\"].apply(lambda x: \"\" if x is None else x) == test_questions.benchmark) / len(test_questions.benchmark))"
   ]
  },
  {
   "cell_type": "markdown",
   "id": "e62636b3",
   "metadata": {},
   "source": [
    "#### ROUGE-L"
   ]
  },
  {
   "cell_type": "code",
   "execution_count": 51,
   "id": "49ff41cd",
   "metadata": {},
   "outputs": [
    {
     "name": "stdout",
     "output_type": "stream",
     "text": [
      "rusbert_finetuned {'r': 0.6045191332788015, 'p': 0.5805203079635032, 'f': 0.5653750306531498}\n"
     ]
    }
   ],
   "source": [
    "from rouge import Rouge\n",
    "rouge = Rouge()\n",
    "\n",
    "print(\"rusbert_finetuned\", rouge.get_scores(test_questions[\"rusbert_finetuned\"].apply(lambda x: \"-\" if x is None else x), test_questions[\"benchmark\"], avg=True)['rouge-l'])"
   ]
  },
  {
   "cell_type": "markdown",
   "id": "0d2b8437",
   "metadata": {},
   "source": [
    "### Save to Hub"
   ]
  },
  {
   "cell_type": "code",
   "execution_count": 7,
   "id": "b689812f",
   "metadata": {},
   "outputs": [
    {
     "data": {
      "application/vnd.jupyter.widget-view+json": {
       "model_id": "3249b9fe0d2a44069c1d70505b38cf06",
       "version_major": 2,
       "version_minor": 0
      },
      "text/plain": [
       "model.safetensors:   0%|          | 0.00/117M [00:00<?, ?B/s]"
      ]
     },
     "metadata": {},
     "output_type": "display_data"
    },
    {
     "data": {
      "text/plain": [
       "'https://huggingface.co/nizamovtimur/rubert-tiny2-wikiutmn/commit/b662cf5318bbdb76a25200b0af13cc06768faace'"
      ]
     },
     "execution_count": 7,
     "metadata": {},
     "output_type": "execute_result"
    }
   ],
   "source": [
    "finetuned_model.save_to_hub(repo_id=\"nizamovtimur/rubert-tiny2-wikiutmn\", token=hf_write_token, train_datasets=[\"nizamovtimur/wikiutmn-study-gigachat\"])"
   ]
  },
  {
   "cell_type": "markdown",
   "id": "7900775a",
   "metadata": {},
   "source": [
    "## Большие языковые модели\n",
    "\n",
    "https://python.langchain.com/docs/use_cases/question_answering/"
   ]
  },
  {
   "cell_type": "code",
   "execution_count": 6,
   "id": "74afe4e9",
   "metadata": {},
   "outputs": [],
   "source": [
    "from langchain.prompts import PromptTemplate\n",
    "\n",
    "prompt_template = \"\"\"\n",
    "Используй следующий текст в тройных кавычках, чтобы кратко ответить на вопрос студента в конце. \n",
    "Не изменяй и не убирай ссылки, адреса и телефоны. Если ты не можешь найти ответ, напиши, что ответ не найден.\n",
    "Ответ не должен превышать 100 слов.\n",
    "\n",
    "\\\"\\\"\\\"\n",
    "{context}\n",
    "\\\"\\\"\\\"\n",
    "\n",
    "Вопрос: {question}\n",
    "\"\"\"\n",
    "\n",
    "prompt = PromptTemplate.from_template(prompt_template)"
   ]
  },
  {
   "cell_type": "markdown",
   "id": "5a096e40",
   "metadata": {},
   "source": [
    "### GigaChat"
   ]
  },
  {
   "cell_type": "code",
   "execution_count": 7,
   "id": "75c1b0a9",
   "metadata": {},
   "outputs": [],
   "source": [
    "from langchain.llms import GigaChat\n",
    "giga = GigaChat(credentials=gigachat_token, verify_ssl_certs=False)\n",
    "giga_chain = prompt | giga"
   ]
  },
  {
   "cell_type": "code",
   "execution_count": 14,
   "id": "7677e28f",
   "metadata": {},
   "outputs": [
    {
     "name": "stdout",
     "output_type": "stream",
     "text": [
      "Я хожу в фитнес-клуб. Как заменить физкультуру?\n",
      "\n",
      "Выбор спортивных секций по Физической культуре будет проходить в ИС Модеус во вкладке \"Выбор модулей\".  Вам нужно будет выбрать 2 интересующие Вас спортивные секции, которые будут проходить каждую неделю в одно и то же время.  Ограничения: 1) Записаться можно не более чем на 2 занятия в неделю 2) Нельзя записываться на два занятия подряд.  Вас могут не допустить на занятие, если Вы были на предыдущей паре и/или уже посетили два занятия за неделю. При этом расписание на наличие конфликтов Вы проверяете самостоятельно в соответствии с Вашим расписанием в ИС Модеус и расписанием спортивных секций (во вложенных файлах). Ваш выбор пролонгируется до конца семестра, однако в любой момент Вы можете его изменить, отписавшись от одной секции и записавшись на другую. ВАЖНО!  Студент, пропустивший два занятия подряд, будет отписан автоматически. Выбор Физической культуры откроется 06.09.2023 и будет открыт до конца семестра.  Для успешной аттестации по дисциплине «Физическая культура: элективные курсы по видам спорта» Вы должны набрать не менее 61 балла по балльно-рейтинговой оценочной шкале. Для этого Вы можете: 1) Посещать академические занятия (3 балла за каждое занятие); 2) Принять участие в спортивно-массовых мероприятиях университета: Днях здорового образа жизни, Маршрут Дружбы, Кросс Наций, и других (0-10 баллов за каждое мероприятие). 3) Принять участите в соревнованиях по видам спорта (0 – 60 баллов); 4) Выполнить ВФСК ГТО (0 – 60 баллов). Для оформления посещения спортивного зала вместо практических занятий по физкультуре студент к первому занятию по физической культуре представляет тренеру-преподавателю по спорту (куратору по физкультуре) пакет документов ( https://www.utmn.ru/upload/medialibrary/676/Polozhenie-o-realizatsii-distsiplin-_moduley_-po-fizicheskoy-kulture-_sportu_.pdf ) и приходит на зачётное мероприятие. ВАЖНО!!! Все документы должны быть предоставлены в течение первой учебной недели. Список ответственных за прием документов спортзала по институтам (Ленина, 6):  1. ИГиП, Антропошкола – Пырлич Юлия Васильевна (y.v.pyrlich@utmn.ru) 2. СоцГум- Ерженин Владимир Сергеевич (v.s.erzhenin@utmn.ru) 3. ФЭИ - Копякова Анна Леонидовна (a.l.kopyakova@utmn.ru) 4. ИнЗем  - Питулин Артём Владимирович (a.v.pitulin@utmn.ru) 5. ФТИ, ИнХим, ШЕН –Пырлич Юлия Васильевна (y.v.pyrlich@utmn.ru) 6. ИнБио - Криводанова Наталья Александровна (n.a.krivodanova@utmn.ru) 7. Школа образования - Баянов Николай Ильич (n.i.bayanov@utmn.ru) 8. ШКН - Тверских Владислав Владимирович (vl.v.tverskikh@utmn.ru) Polozhenie-o-realizatsii… #физкультура\n"
     ]
    }
   ],
   "source": [
    "# question = questions.question[89]\n",
    "question = \"Я хожу в фитнес-клуб. Как заменить физкультуру?\"\n",
    "print(question, end=\"\\n\\n\")\n",
    "document = answer_rusbert_finetuned(question)\n",
    "print(document)"
   ]
  },
  {
   "cell_type": "code",
   "execution_count": 15,
   "id": "d57836be",
   "metadata": {},
   "outputs": [
    {
     "name": "stdout",
     "output_type": "stream",
     "text": [
      "Для замены физкультуры на посещение спортивного зала необходимо представить тренеру-преподавателю по спорту (куратору по физкультуре) пакет документов, указанных в Положении о реализации дисциплин по физической культуре и спорту. Все документы должны быть предоставлены в течение первой учебной недели.\n",
      "\n",
      "{'context': 'Выбор спортивных секций по Физической культуре будет проходить в ИС Модеус во вкладке \"Выбор модулей\".\\xa0 Вам нужно будет выбрать 2 интересующие Вас спортивные секции, которые будут проходить каждую неделю в одно и то же время.\\xa0 Ограничения: 1) Записаться можно не более чем на 2 занятия в неделю 2) Нельзя записываться на два занятия подряд.\\xa0 Вас могут не допустить на занятие, если Вы были на предыдущей паре и/или уже посетили два занятия за неделю. При этом расписание на наличие конфликтов Вы проверяете самостоятельно в соответствии с Вашим расписанием в ИС Модеус и расписанием спортивных секций (во вложенных файлах). Ваш выбор пролонгируется до конца семестра, однако в любой момент Вы можете его изменить, отписавшись от одной секции и записавшись на другую. ВАЖНО!  Студент, пропустивший два занятия подряд, будет отписан автоматически. Выбор Физической культуры откроется 06.09.2023 и будет открыт до конца семестра.\\xa0 Для успешной аттестации по дисциплине «Физическая культура: элективные курсы по видам спорта» Вы должны набрать не менее 61 балла по балльно-рейтинговой оценочной шкале. Для этого Вы можете: 1) Посещать академические занятия (3 балла за каждое занятие); 2) Принять участие в спортивно-массовых мероприятиях университета: Днях здорового образа жизни, Маршрут Дружбы, Кросс Наций, и других (0-10 баллов за каждое мероприятие). 3) Принять участите в соревнованиях по видам спорта (0 – 60 баллов); 4) Выполнить ВФСК ГТО (0 – 60 баллов). Для оформления посещения спортивного зала вместо практических занятий по физкультуре студент к первому занятию по физической культуре представляет тренеру-преподавателю по спорту (куратору по физкультуре) пакет документов ( https://www.utmn.ru/upload/medialibrary/676/Polozhenie-o-realizatsii-distsiplin-_moduley_-po-fizicheskoy-kulture-_sportu_.pdf ) и приходит на зачётное мероприятие. ВАЖНО!!! Все документы должны быть предоставлены в течение первой учебной недели. Список ответственных за прием документов спортзала по институтам (Ленина, 6):  1. ИГиП, Антропошкола – Пырлич Юлия Васильевна (y.v.pyrlich@utmn.ru) 2. СоцГум- Ерженин Владимир Сергеевич (v.s.erzhenin@utmn.ru) 3. ФЭИ - Копякова Анна Леонидовна (a.l.kopyakova@utmn.ru) 4. ИнЗем \\xa0- Питулин Артём Владимирович (a.v.pitulin@utmn.ru) 5. ФТИ, ИнХим, ШЕН –Пырлич Юлия Васильевна (y.v.pyrlich@utmn.ru) 6. ИнБио - Криводанова Наталья Александровна (n.a.krivodanova@utmn.ru) 7. Школа образования - Баянов Николай Ильич (n.i.bayanov@utmn.ru) 8. ШКН - Тверских Владислав Владимирович (vl.v.tverskikh@utmn.ru) Polozhenie-o-realizatsii… #физкультура', 'question': 'Я хожу в фитнес-клуб. Как заменить физкультуру?'}\n"
     ]
    }
   ],
   "source": [
    "query = {\"context\": document,\n",
    "        \"question\": question}\n",
    "print(giga_chain.invoke(query).strip())\n",
    "print()\n",
    "print(query)"
   ]
  },
  {
   "cell_type": "markdown",
   "id": "b920a282",
   "metadata": {},
   "source": [
    "### Локальные Text2Text"
   ]
  },
  {
   "cell_type": "code",
   "execution_count": 16,
   "id": "1ad43a23",
   "metadata": {},
   "outputs": [
    {
     "data": {
      "text/plain": [
       "0"
      ]
     },
     "execution_count": 16,
     "metadata": {},
     "output_type": "execute_result"
    }
   ],
   "source": [
    "import torch\n",
    "from transformers import pipeline\n",
    "from langchain.llms import HuggingFacePipeline\n",
    "\n",
    "device = torch.cuda.current_device() if torch.cuda.is_available() and torch.cuda.mem_get_info()[0] >= 2*1024**3 else -1\n",
    "device"
   ]
  },
  {
   "cell_type": "code",
   "execution_count": 26,
   "id": "056edddb",
   "metadata": {},
   "outputs": [
    {
     "name": "stderr",
     "output_type": "stream",
     "text": [
      "tokenizer_config.json: 100%|██████████| 20.2k/20.2k [00:00<00:00, 15.1MB/s]\n",
      "d:\\git\\virtassist\\.venv\\lib\\site-packages\\huggingface_hub\\file_download.py:149: UserWarning: `huggingface_hub` cache-system uses symlinks by default to efficiently store duplicated files but your machine does not support them in C:\\Users\\Timur\\.cache\\huggingface\\hub\\models--ai-forever--FRED-T5-1.7B. Caching files will still work but in a degraded version that might require more space on your disk. This warning can be disabled by setting the `HF_HUB_DISABLE_SYMLINKS_WARNING` environment variable. For more details, see https://huggingface.co/docs/huggingface_hub/how-to-cache#limitations.\n",
      "To support symlinks on Windows, you either need to activate Developer Mode or to run Python as an administrator. In order to see activate developer mode, see this article: https://docs.microsoft.com/en-us/windows/apps/get-started/enable-your-device-for-development\n",
      "  warnings.warn(message)\n",
      "vocab.json: 100%|██████████| 1.71M/1.71M [00:00<00:00, 2.52MB/s]\n",
      "merges.txt: 100%|██████████| 1.27M/1.27M [00:00<00:00, 9.22MB/s]\n",
      "added_tokens.json: 100%|██████████| 2.50k/2.50k [00:00<?, ?B/s]\n",
      "special_tokens_map.json: 100%|██████████| 574/574 [00:00<?, ?B/s] \n",
      "Special tokens have been added in the vocabulary, make sure the associated word embeddings are fine-tuned or trained.\n",
      "Special tokens have been added in the vocabulary, make sure the associated word embeddings are fine-tuned or trained.\n",
      "config.json: 100%|██████████| 653/653 [00:00<?, ?B/s] \n",
      "pytorch_model.bin: 100%|██████████| 6.96G/6.96G [10:27<00:00, 11.1MB/s]\n"
     ]
    }
   ],
   "source": [
    "# FOR SAVING MODEL ONLY!\n",
    "# from transformers import AutoTokenizer, AutoModelForSeq2SeqLM\n",
    "# model_name = \"IlyaGusev/fred_t5_ru_turbo_alpaca\"\n",
    "# model_name = \"ai-forever/FRED-T5-large\"\n",
    "# model_name = \"ai-forever/FRED-T5-1.7B\"\n",
    "# tokenizer = AutoTokenizer.from_pretrained(model_name)\n",
    "# model = AutoModelForSeq2SeqLM.from_pretrained(model_name)\n",
    "# pipe = pipeline(\n",
    "#     \"text2text-generation\", model=model, tokenizer=tokenizer, max_new_tokens=500\n",
    "# )\n",
    "# pipe.save_pretrained(\"saved_models/FRED-T5-1.7B\")"
   ]
  },
  {
   "cell_type": "code",
   "execution_count": 17,
   "id": "f2a9c1ba",
   "metadata": {},
   "outputs": [
    {
     "name": "stderr",
     "output_type": "stream",
     "text": [
      "Loading checkpoint shards: 100%|██████████| 2/2 [01:35<00:00, 47.53s/it]\n",
      "Special tokens have been added in the vocabulary, make sure the associated word embeddings are fine-tuned or trained.\n"
     ]
    }
   ],
   "source": [
    "saved_pipeline = pipeline(\"text2text-generation\", \"saved_models/FRED-T5-1.7B\", device=device, max_new_tokens=10000)\n",
    "hf_model = HuggingFacePipeline(pipeline=saved_pipeline).bind(stop=[\"\\n\\n\"])\n",
    "gpu_chain = prompt | hf_model"
   ]
  },
  {
   "cell_type": "code",
   "execution_count": 19,
   "id": "f077c56c",
   "metadata": {},
   "outputs": [
    {
     "name": "stdout",
     "output_type": "stream",
     "text": [
      "Ответ:\n",
      "В соответствии с приказом ректора № 555 от 20.08.2023 «О реализации дополнительных образовательных программ в рамках реализации ФГОС ВО» в университете реализуются дополнительные образовательные программы в рамках реализации ФГОС ВО.  В соответствии с приказом ректора № 555 от 20.08.2023 «О реализации дополнительных образовательных программ в рамках реализации ФГОС ВО» в университете реализуются дополнительные образовательные программы в рамках реализации ФГОС ВО.  В соответствии с приказом ректора № 555 от 20.08.2023 «О реализации дополнительных образовательных программ в рамках реализации ФГОС ВО» в университете реализуются дополнительные образовательные программы в рамках реализации ФГОС ВО.  В соответствии с приказом ректора № 555 от 20.08.2023 «О реализации дополнительных образовательных программ в рамках реализации ФГОС ВО» в университете реализуются дополнительные образовательные программы в рамках реализации ФГОС ВО.  В соответствии с приказом ректора № 555 от 20.08.2023 «О реализации дополнительных образовательных программ в рамках реализации ФГОС ВО» в университете реализуются дополнительные образовательные программы в рамках реализации ФГОС ВО.  В соответствии с приказом ректора № 555 от 20.08.2023 «О реализации дополнительных образовательных программ в рамках реализации ФГОС ВО» в университете реализуются дополнительные образовательные программы в рамках реализации ФГОС ВО.  В соответствии с приказом ректора № 555 от 20.08.2023 «О реализации дополнительных образовательных программ в рамках реализации ФГОС ВО» в университете реализуются дополнительные образовательные программы в рамках реализации ФГОС ВО.  В соответствии с приказом ректора № 555 от 20.08.2023 «О реализации дополнительных образовательных программ в рамках реализации ФГОС ВО» в университете реализуются дополнительные образовательные программы в рамках реализации ФГОС ВО.  В соответствии с приказом ректора № 555 от 20.08.2023 «О реализации дополнительных образовательных программ в рамках реализации ФГОС ВО» в университете реализуются дополнительные образовательные программы в рамках реализации ФГОС ВО.  В соответствии с приказом ректора № 555 от 20.08.2023 «О реализации дополнительных образовательных программ в рамках реализации ФГОС ВО» в университете реализуются дополнительные образовательные программы в рамках реализации ФГОС ВО.  В соответствии с приказом ректора № 555 от 20.08.2023 «О реализации дополнительных образовательных программ в рамках реализации ФГОС ВО» в университете реализуются дополнительные образовательные программы в рамках реализации ФГОС ВО.  В соответствии с приказом ректора № 555 от 20.08.2023 «О реализации дополнительных образовательных программ в рамках реализации ФГОС ВО» в университете реализуются дополнительные образовательные программы в рамках реализации ФГОС ВО.\n",
      "\n",
      "{'context': 'Выбор спортивных секций по Физической культуре будет проходить в ИС Модеус во вкладке \"Выбор модулей\".\\xa0 Вам нужно будет выбрать 2 интересующие Вас спортивные секции, которые будут проходить каждую неделю в одно и то же время.\\xa0 Ограничения: 1) Записаться можно не более чем на 2 занятия в неделю 2) Нельзя записываться на два занятия подряд.\\xa0 Вас могут не допустить на занятие, если Вы были на предыдущей паре и/или уже посетили два занятия за неделю. При этом расписание на наличие конфликтов Вы проверяете самостоятельно в соответствии с Вашим расписанием в ИС Модеус и расписанием спортивных секций (во вложенных файлах). Ваш выбор пролонгируется до конца семестра, однако в любой момент Вы можете его изменить, отписавшись от одной секции и записавшись на другую. ВАЖНО!  Студент, пропустивший два занятия подряд, будет отписан автоматически. Выбор Физической культуры откроется 06.09.2023 и будет открыт до конца семестра.\\xa0 Для успешной аттестации по дисциплине «Физическая культура: элективные курсы по видам спорта» Вы должны набрать не менее 61 балла по балльно-рейтинговой оценочной шкале. Для этого Вы можете: 1) Посещать академические занятия (3 балла за каждое занятие); 2) Принять участие в спортивно-массовых мероприятиях университета: Днях здорового образа жизни, Маршрут Дружбы, Кросс Наций, и других (0-10 баллов за каждое мероприятие). 3) Принять участите в соревнованиях по видам спорта (0 – 60 баллов); 4) Выполнить ВФСК ГТО (0 – 60 баллов). Для оформления посещения спортивного зала вместо практических занятий по физкультуре студент к первому занятию по физической культуре представляет тренеру-преподавателю по спорту (куратору по физкультуре) пакет документов ( https://www.utmn.ru/upload/medialibrary/676/Polozhenie-o-realizatsii-distsiplin-_moduley_-po-fizicheskoy-kulture-_sportu_.pdf ) и приходит на зачётное мероприятие. ВАЖНО!!! Все документы должны быть предоставлены в течение первой учебной недели. Список ответственных за прием документов спортзала по институтам (Ленина, 6):  1. ИГиП, Антропошкола – Пырлич Юлия Васильевна (y.v.pyrlich@utmn.ru) 2. СоцГум- Ерженин Владимир Сергеевич (v.s.erzhenin@utmn.ru) 3. ФЭИ - Копякова Анна Леонидовна (a.l.kopyakova@utmn.ru) 4. ИнЗем \\xa0- Питулин Артём Владимирович (a.v.pitulin@utmn.ru) 5. ФТИ, ИнХим, ШЕН –Пырлич Юлия Васильевна (y.v.pyrlich@utmn.ru) 6. ИнБио - Криводанова Наталья Александровна (n.a.krivodanova@utmn.ru) 7. Школа образования - Баянов Николай Ильич (n.i.bayanov@utmn.ru) 8. ШКН - Тверских Владислав Владимирович (vl.v.tverskikh@utmn.ru) Polozhenie-o-realizatsii… #физкультура', 'question': 'Я хожу в фитнес-клуб. Как заменить физкультуру?'}\n"
     ]
    }
   ],
   "source": [
    "query = {\"context\": document,\n",
    "        \"question\": question}\n",
    "print(gpu_chain.invoke(query).strip())\n",
    "print()\n",
    "print(query)"
   ]
  },
  {
   "cell_type": "markdown",
   "id": "58f2b89d",
   "metadata": {},
   "source": [
    "#### Гигиена"
   ]
  },
  {
   "cell_type": "code",
   "execution_count": 20,
   "id": "0887b79c",
   "metadata": {},
   "outputs": [],
   "source": [
    "del gpu_chain\n",
    "del hf_model\n",
    "del saved_pipeline\n",
    "torch.cuda.empty_cache()"
   ]
  }
 ],
 "metadata": {
  "kernelspec": {
   "display_name": "Python 3 (ipykernel)",
   "language": "python",
   "name": "python3"
  },
  "language_info": {
   "codemirror_mode": {
    "name": "ipython",
    "version": 3
   },
   "file_extension": ".py",
   "mimetype": "text/x-python",
   "name": "python",
   "nbconvert_exporter": "python",
   "pygments_lexer": "ipython3",
   "version": "3.10.11"
  }
 },
 "nbformat": 4,
 "nbformat_minor": 5
}
