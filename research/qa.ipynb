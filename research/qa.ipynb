{
 "cells": [
  {
   "cell_type": "markdown",
   "id": "54d7d1e2-a651-49a0-8679-afdb399291de",
   "metadata": {},
   "source": [
    "# Confluence + LLM = QA"
   ]
  },
  {
   "cell_type": "code",
   "execution_count": 1,
   "id": "3ad8db59",
   "metadata": {},
   "outputs": [
    {
     "name": "stdout",
     "output_type": "stream",
     "text": [
      "Note: you may need to restart the kernel to use updated packages.\n"
     ]
    }
   ],
   "source": [
    "%pip install pandas --quiet"
   ]
  },
  {
   "cell_type": "code",
   "execution_count": 1,
   "id": "8b358331",
   "metadata": {},
   "outputs": [],
   "source": [
    "import pandas as pd"
   ]
  },
  {
   "cell_type": "code",
   "execution_count": 2,
   "id": "8a0752b6-6fa1-499f-a728-ff24a0416fe2",
   "metadata": {},
   "outputs": [],
   "source": [
    "from os import environ\n",
    "from dotenv import load_dotenv\n",
    "load_dotenv(dotenv_path=\"../.env\")\n",
    "\n",
    "confluence_host = environ.get('CONFLUENCE_HOST')\n",
    "confluence_token = environ.get('CONFLUENCE_TOKEN')\n",
    "hf_token = environ.get('HF_TOKEN')\n",
    "hf_write_token = environ.get('HF_WRITE_TOKEN')\n",
    "gigachat_token = environ.get('GIGACHAT_TOKEN')\n",
    "gigachat_pro_token = environ.get('GIGACHAT_PRO_TOKEN')\n",
    "yandex_token = environ.get('YC_API_KEY')\n",
    "openchat_host = environ.get('OPENCHAT_HOST')"
   ]
  },
  {
   "cell_type": "markdown",
   "id": "b8c1cadb",
   "metadata": {},
   "source": [
    "## Датасет"
   ]
  },
  {
   "cell_type": "markdown",
   "id": "1bf56ed5",
   "metadata": {},
   "source": [
    "### Выгрузка документов с Confluence"
   ]
  },
  {
   "cell_type": "code",
   "execution_count": 4,
   "id": "8ef0d447",
   "metadata": {},
   "outputs": [
    {
     "data": {
      "text/plain": [
       "42"
      ]
     },
     "execution_count": 4,
     "metadata": {},
     "output_type": "execute_result"
    }
   ],
   "source": [
    "from atlassian import Confluence\n",
    "from bs4 import BeautifulSoup\n",
    "from langchain.text_splitter import SentenceTransformersTokenTextSplitter\n",
    "from langchain_community.document_loaders import PyPDFLoader\n",
    "from langchain_core.documents import Document\n",
    "\n",
    "text_splitter = SentenceTransformersTokenTextSplitter(model_name=\"saved_models/rubert-tiny2-wikiutmn\")\n",
    "\n",
    "def get_document_content_by_id(confluence: Confluence, page_id: str) -> tuple[str | None, str | None]:\n",
    "    page = confluence.get_page_by_id(page_id, expand=\"space,body.export_view\")\n",
    "    page_link = page[\"_links\"][\"base\"] + page[\"_links\"][\"webui\"]\n",
    "    page_body = page[\"body\"][\"export_view\"][\"value\"]\n",
    "    page_download = (\n",
    "        page[\"_links\"][\"base\"] + page[\"_links\"][\"download\"]\n",
    "        if \"download\" in page[\"_links\"].keys()\n",
    "        else \"\"\n",
    "    )\n",
    "    try:\n",
    "        if len(page_body) > 50:\n",
    "            page_body = page[\"body\"][\"export_view\"][\"value\"]\n",
    "            soup = BeautifulSoup(page_body, \"html.parser\")\n",
    "            page_body_text = soup.get_text(separator=\" \")\n",
    "            page_content = page_body_text.replace(\" \\n \", \"\")\n",
    "        elif \".pdf\" in page_download.lower():\n",
    "            loader = PyPDFLoader(page_download.split(\"?\")[0])\n",
    "            page_content = \" \".join(\n",
    "                [page.page_content for page in loader.load_and_split()]\n",
    "            )\n",
    "        else:\n",
    "            return None, None\n",
    "    except Exception as e:\n",
    "        print(e)\n",
    "        return None, None\n",
    "    return page_content, page_link\n",
    "\n",
    "\n",
    "confluence = Confluence(url=confluence_host, token=confluence_token)\n",
    "page_ids = []\n",
    "count_start = 0\n",
    "limit = 100\n",
    "pages = confluence.cql(f\"space = study and lastModified > \\\"2024-03-10\\\" order by id\", start=count_start, limit=limit)[\"results\"]\n",
    "while len(pages) != 0:\n",
    "    page_ids = page_ids + [page[\"content\"][\"id\"] for page in pages if \"content\" in page.keys()]\n",
    "    count_start += limit\n",
    "    pages = confluence.cql(f\"space = study and lastModified > \\\"2024-03-10\\\" order by id\", start=count_start, limit=limit)[\"results\"]\n",
    "confluence_documents = []\n",
    "for page_id in page_ids:\n",
    "    children = confluence.cql(f\"parent={page_id}\")[\"results\"]\n",
    "    if len(children) > 0:\n",
    "        continue\n",
    "    page_content, page_link = get_document_content_by_id(confluence, page_id)\n",
    "    if page_content is None:\n",
    "        continue\n",
    "    confluence_documents.append(\n",
    "        Document(page_content=page_content, metadata={\"page_link\": page_link})\n",
    "    )\n",
    "\n",
    "confluence_documents = text_splitter.split_documents(confluence_documents)\n",
    "len(confluence_documents)"
   ]
  },
  {
   "cell_type": "markdown",
   "id": "4fa11dae",
   "metadata": {},
   "source": [
    "### Генерация вопросов с помощью GigaChat"
   ]
  },
  {
   "cell_type": "code",
   "execution_count": 13,
   "id": "e695bde1",
   "metadata": {},
   "outputs": [],
   "source": [
    "from langchain.prompts import PromptTemplate\n",
    "\n",
    "prompt_template = \"\"\"\n",
    "Сделай глубокий вдох и действуй как студент. Составь 7 разнообразных вопросов к документу в тройных кавычках. Используй разговорный стиль речи и студенческую лексику. Отвечать на вопросы не нужно, напиши каждый вопрос с новой строки.\n",
    "\n",
    "\\\"\\\"\\\"\n",
    "{content}\n",
    "\\\"\\\"\\\"\n",
    "\n",
    "Вопросы:\n",
    "\"\"\"\n",
    "\n",
    "prompt = PromptTemplate.from_template(prompt_template)"
   ]
  },
  {
   "cell_type": "code",
   "execution_count": 14,
   "id": "ce61c358",
   "metadata": {},
   "outputs": [
    {
     "data": {
      "text/plain": [
       "['1. Как можно сформировать справку-вызов?',\n",
       " '2. Где находится ссылка для формирования справки-вызова?',\n",
       " '3. Куда отправляется скан-копия справки-вызова после подписания?',\n",
       " '4. Какие требования предъявляются к справке-вызову согласно законодательству?',\n",
       " '5. Какая информация должна быть указана в справке-вызове?',\n",
       " '6. Что делать, если у студента есть академическая задолженность за предыдущую сессию?',\n",
       " '7. Как часто предоставляется справка-вызов студентам заочной формы обучения?']"
      ]
     },
     "execution_count": 14,
     "metadata": {},
     "output_type": "execute_result"
    }
   ],
   "source": [
    "from langchain.llms import GigaChat\n",
    "giga = GigaChat(credentials=gigachat_token, verify_ssl_certs=False)\n",
    "giga_chain = prompt | giga\n",
    "giga_chain.invoke({\"content\": confluence_documents[0].page_content}).strip().split(\"\\n\")"
   ]
  },
  {
   "cell_type": "code",
   "execution_count": null,
   "id": "33fa37ce",
   "metadata": {},
   "outputs": [],
   "source": [
    "gigachat_docs = []\n",
    "for doc in confluence_documents:\n",
    "    query = {\"content\": doc.page_content}\n",
    "    giga_questions = giga_chain.invoke(query).strip().split(\"\\n\")\n",
    "    for q in giga_questions:\n",
    "        q = q.strip()\n",
    "        if len(q) < 5:\n",
    "            continue\n",
    "        gigachat_docs.append({\n",
    "            \"question\": q[3:],\n",
    "            \"document\": doc.page_content\n",
    "        })\n",
    "    print(giga_questions)"
   ]
  },
  {
   "cell_type": "code",
   "execution_count": 12,
   "id": "ffb87e40",
   "metadata": {},
   "outputs": [],
   "source": [
    "gigachat_docs = pd.DataFrame(gigachat_docs)\n",
    "gigachat_docs.to_csv(\"gigachat_docs.csv\")"
   ]
  },
  {
   "cell_type": "markdown",
   "id": "b5627b19",
   "metadata": {},
   "source": [
    "### Загрузка датасета с Hugging Face"
   ]
  },
  {
   "cell_type": "code",
   "execution_count": 8,
   "id": "c7720f34",
   "metadata": {},
   "outputs": [
    {
     "name": "stdout",
     "output_type": "stream",
     "text": [
      "Note: you may need to restart the kernel to use updated packages.\n"
     ]
    }
   ],
   "source": [
    "%pip install datasets --quiet"
   ]
  },
  {
   "cell_type": "code",
   "execution_count": 18,
   "id": "fc108730",
   "metadata": {},
   "outputs": [
    {
     "data": {
      "text/plain": [
       "(355, 67)"
      ]
     },
     "execution_count": 18,
     "metadata": {},
     "output_type": "execute_result"
    }
   ],
   "source": [
    "from datasets import load_dataset, DatasetDict\n",
    "\n",
    "dataset_qda = load_dataset(\"nizamovtimur/wikiutmn-study-gigachat\")\n",
    "if isinstance(dataset_qda, DatasetDict):\n",
    "    train_dataset_qda = dataset_qda['train'].to_pandas()\n",
    "    test_dataset_qda = dataset_qda['test'].to_pandas()\n",
    "else:\n",
    "    train_dataset_qda = pd.DataFrame()\n",
    "    test_dataset_qda = pd.DataFrame()\n",
    "len(train_dataset_qda), len(test_dataset_qda)"
   ]
  },
  {
   "cell_type": "code",
   "execution_count": 19,
   "id": "2451033a",
   "metadata": {},
   "outputs": [
    {
     "data": {
      "text/html": [
       "<div>\n",
       "<style scoped>\n",
       "    .dataframe tbody tr th:only-of-type {\n",
       "        vertical-align: middle;\n",
       "    }\n",
       "\n",
       "    .dataframe tbody tr th {\n",
       "        vertical-align: top;\n",
       "    }\n",
       "\n",
       "    .dataframe thead th {\n",
       "        text-align: right;\n",
       "    }\n",
       "</style>\n",
       "<table border=\"1\" class=\"dataframe\">\n",
       "  <thead>\n",
       "    <tr style=\"text-align: right;\">\n",
       "      <th></th>\n",
       "      <th>question</th>\n",
       "      <th>document</th>\n",
       "      <th>human_answer</th>\n",
       "    </tr>\n",
       "  </thead>\n",
       "  <tbody>\n",
       "    <tr>\n",
       "      <th>0</th>\n",
       "      <td>Где продлять студак?</td>\n",
       "      <td>Для восстановления студенческого билета Вам не...</td>\n",
       "      <td></td>\n",
       "    </tr>\n",
       "    <tr>\n",
       "      <th>1</th>\n",
       "      <td>Когда можно получить справку о стипендии?</td>\n",
       "      <td>По вопросу получения справки о доходах, размер...</td>\n",
       "      <td></td>\n",
       "    </tr>\n",
       "    <tr>\n",
       "      <th>2</th>\n",
       "      <td>Как перевестись на другое направление на заочке?</td>\n",
       "      <td>Заявления о переводе принимаются два раза в го...</td>\n",
       "      <td></td>\n",
       "    </tr>\n",
       "    <tr>\n",
       "      <th>3</th>\n",
       "      <td>Как перевестись на другое направление?</td>\n",
       "      <td>Заявления о переводе принимаются два раза в го...</td>\n",
       "      <td></td>\n",
       "    </tr>\n",
       "    <tr>\n",
       "      <th>4</th>\n",
       "      <td>Могу ли я в последний момент отказаться от сме...</td>\n",
       "      <td>Прежде, чем выбрать элективы, рекомендуем почи...</td>\n",
       "      <td></td>\n",
       "    </tr>\n",
       "    <tr>\n",
       "      <th>...</th>\n",
       "      <td>...</td>\n",
       "      <td>...</td>\n",
       "      <td>...</td>\n",
       "    </tr>\n",
       "    <tr>\n",
       "      <th>350</th>\n",
       "      <td>Как оформляются результаты промежуточной аттес...</td>\n",
       "      <td>проведения промежуточной аттестации, за исключ...</td>\n",
       "      <td></td>\n",
       "    </tr>\n",
       "    <tr>\n",
       "      <th>351</th>\n",
       "      <td>Кто несет ответственность за правильность офор...</td>\n",
       "      <td>проведения промежуточной аттестации, за исключ...</td>\n",
       "      <td></td>\n",
       "    </tr>\n",
       "    <tr>\n",
       "      <th>352</th>\n",
       "      <td>Что происходит с оценками после прохождения пр...</td>\n",
       "      <td>. 6. 10. Из ведомости, за исключением электрон...</td>\n",
       "      <td></td>\n",
       "    </tr>\n",
       "    <tr>\n",
       "      <th>353</th>\n",
       "      <td>Кто несет ответственность за правильное внесен...</td>\n",
       "      <td>. 6. 10. Из ведомости, за исключением электрон...</td>\n",
       "      <td></td>\n",
       "    </tr>\n",
       "    <tr>\n",
       "      <th>354</th>\n",
       "      <td>Кто отвечает за внесение информации о результа...</td>\n",
       "      <td>. 6. 10. Из ведомости, за исключением электрон...</td>\n",
       "      <td></td>\n",
       "    </tr>\n",
       "  </tbody>\n",
       "</table>\n",
       "<p>355 rows × 3 columns</p>\n",
       "</div>"
      ],
      "text/plain": [
       "                                              question  \\\n",
       "0                                 Где продлять студак?   \n",
       "1            Когда можно получить справку о стипендии?   \n",
       "2     Как перевестись на другое направление на заочке?   \n",
       "3               Как перевестись на другое направление?   \n",
       "4    Могу ли я в последний момент отказаться от сме...   \n",
       "..                                                 ...   \n",
       "350  Как оформляются результаты промежуточной аттес...   \n",
       "351  Кто несет ответственность за правильность офор...   \n",
       "352  Что происходит с оценками после прохождения пр...   \n",
       "353  Кто несет ответственность за правильное внесен...   \n",
       "354  Кто отвечает за внесение информации о результа...   \n",
       "\n",
       "                                              document human_answer  \n",
       "0    Для восстановления студенческого билета Вам не...               \n",
       "1    По вопросу получения справки о доходах, размер...               \n",
       "2    Заявления о переводе принимаются два раза в го...               \n",
       "3    Заявления о переводе принимаются два раза в го...               \n",
       "4    Прежде, чем выбрать элективы, рекомендуем почи...               \n",
       "..                                                 ...          ...  \n",
       "350  проведения промежуточной аттестации, за исключ...               \n",
       "351  проведения промежуточной аттестации, за исключ...               \n",
       "352  . 6. 10. Из ведомости, за исключением электрон...               \n",
       "353  . 6. 10. Из ведомости, за исключением электрон...               \n",
       "354  . 6. 10. Из ведомости, за исключением электрон...               \n",
       "\n",
       "[355 rows x 3 columns]"
      ]
     },
     "execution_count": 19,
     "metadata": {},
     "output_type": "execute_result"
    }
   ],
   "source": [
    "train_dataset_qda"
   ]
  },
  {
   "cell_type": "code",
   "execution_count": 20,
   "id": "583f3297",
   "metadata": {},
   "outputs": [
    {
     "data": {
      "text/html": [
       "<div>\n",
       "<style scoped>\n",
       "    .dataframe tbody tr th:only-of-type {\n",
       "        vertical-align: middle;\n",
       "    }\n",
       "\n",
       "    .dataframe tbody tr th {\n",
       "        vertical-align: top;\n",
       "    }\n",
       "\n",
       "    .dataframe thead th {\n",
       "        text-align: right;\n",
       "    }\n",
       "</style>\n",
       "<table border=\"1\" class=\"dataframe\">\n",
       "  <thead>\n",
       "    <tr style=\"text-align: right;\">\n",
       "      <th></th>\n",
       "      <th>question</th>\n",
       "      <th>document</th>\n",
       "      <th>human_answer</th>\n",
       "    </tr>\n",
       "  </thead>\n",
       "  <tbody>\n",
       "    <tr>\n",
       "      <th>0</th>\n",
       "      <td>Я потерял магнитную карту. К кому обратиться?</td>\n",
       "      <td>Для восстановления студенческого билета Вам не...</td>\n",
       "      <td>Если Вы потеряли магнитную карту ( пропуск, пр...</td>\n",
       "    </tr>\n",
       "    <tr>\n",
       "      <th>1</th>\n",
       "      <td>Даты подачи заявления для восстановления на очку</td>\n",
       "      <td>Заявления на восстановление в Университет по о...</td>\n",
       "      <td>Заявления на восстановление в Университет по о...</td>\n",
       "    </tr>\n",
       "    <tr>\n",
       "      <th>2</th>\n",
       "      <td>Что делать при потере проходки?</td>\n",
       "      <td>Для восстановления студенческого билета Вам не...</td>\n",
       "      <td>Если Вы потеряли магнитную карту ( пропуск, пр...</td>\n",
       "    </tr>\n",
       "    <tr>\n",
       "      <th>3</th>\n",
       "      <td>Я хожу в фитнес-клуб. Как заменить физкультуру?</td>\n",
       "      <td>Выбор спортивных секций по Физической культуре...</td>\n",
       "      <td>Для оформления посещения спортивного зала вмес...</td>\n",
       "    </tr>\n",
       "    <tr>\n",
       "      <th>4</th>\n",
       "      <td>Когда мне выдадут студенческий билет после пер...</td>\n",
       "      <td>1. Подать заявление о переводе можно лично, об...</td>\n",
       "      <td>В течение пяти рабочих дней после поступления ...</td>\n",
       "    </tr>\n",
       "    <tr>\n",
       "      <th>...</th>\n",
       "      <td>...</td>\n",
       "      <td>...</td>\n",
       "      <td>...</td>\n",
       "    </tr>\n",
       "    <tr>\n",
       "      <th>62</th>\n",
       "      <td>как закрыть физкультуру?</td>\n",
       "      <td>Выбор спортивных секций по Физической культуре...</td>\n",
       "      <td>1 ) Посещать академические занятия ( 3 балла з...</td>\n",
       "    </tr>\n",
       "    <tr>\n",
       "      <th>63</th>\n",
       "      <td>когда можно поменять элективы?</td>\n",
       "      <td>Прежде, чем выбрать элективы, рекомендуем почи...</td>\n",
       "      <td>Информация, о том, как поменять электив, отпра...</td>\n",
       "    </tr>\n",
       "    <tr>\n",
       "      <th>64</th>\n",
       "      <td>как получить справку о месте учёбы?</td>\n",
       "      <td>Студенты очной формы обучения оформляют справк...</td>\n",
       "      <td>Студенты очной формы обучения оформляют справк...</td>\n",
       "    </tr>\n",
       "    <tr>\n",
       "      <th>65</th>\n",
       "      <td>Как можно получать баллы за физру?</td>\n",
       "      <td>Выбор спортивных секций по Физической культуре...</td>\n",
       "      <td>1 ) Посещать академические занятия ( 3 балла з...</td>\n",
       "    </tr>\n",
       "    <tr>\n",
       "      <th>66</th>\n",
       "      <td>Где взять справку для военкомата?</td>\n",
       "      <td>Вам необходимо обратиться в Отдел мобилизацион...</td>\n",
       "      <td>Вам необходимо обратиться в Отдел мобилизацион...</td>\n",
       "    </tr>\n",
       "  </tbody>\n",
       "</table>\n",
       "<p>67 rows × 3 columns</p>\n",
       "</div>"
      ],
      "text/plain": [
       "                                             question  \\\n",
       "0       Я потерял магнитную карту. К кому обратиться?   \n",
       "1    Даты подачи заявления для восстановления на очку   \n",
       "2                     Что делать при потере проходки?   \n",
       "3     Я хожу в фитнес-клуб. Как заменить физкультуру?   \n",
       "4   Когда мне выдадут студенческий билет после пер...   \n",
       "..                                                ...   \n",
       "62                           как закрыть физкультуру?   \n",
       "63                     когда можно поменять элективы?   \n",
       "64                как получить справку о месте учёбы?   \n",
       "65                 Как можно получать баллы за физру?   \n",
       "66                  Где взять справку для военкомата?   \n",
       "\n",
       "                                             document  \\\n",
       "0   Для восстановления студенческого билета Вам не...   \n",
       "1   Заявления на восстановление в Университет по о...   \n",
       "2   Для восстановления студенческого билета Вам не...   \n",
       "3   Выбор спортивных секций по Физической культуре...   \n",
       "4   1. Подать заявление о переводе можно лично, об...   \n",
       "..                                                ...   \n",
       "62  Выбор спортивных секций по Физической культуре...   \n",
       "63  Прежде, чем выбрать элективы, рекомендуем почи...   \n",
       "64  Студенты очной формы обучения оформляют справк...   \n",
       "65  Выбор спортивных секций по Физической культуре...   \n",
       "66  Вам необходимо обратиться в Отдел мобилизацион...   \n",
       "\n",
       "                                         human_answer  \n",
       "0   Если Вы потеряли магнитную карту ( пропуск, пр...  \n",
       "1   Заявления на восстановление в Университет по о...  \n",
       "2   Если Вы потеряли магнитную карту ( пропуск, пр...  \n",
       "3   Для оформления посещения спортивного зала вмес...  \n",
       "4   В течение пяти рабочих дней после поступления ...  \n",
       "..                                                ...  \n",
       "62  1 ) Посещать академические занятия ( 3 балла з...  \n",
       "63  Информация, о том, как поменять электив, отпра...  \n",
       "64  Студенты очной формы обучения оформляют справк...  \n",
       "65  1 ) Посещать академические занятия ( 3 балла з...  \n",
       "66  Вам необходимо обратиться в Отдел мобилизацион...  \n",
       "\n",
       "[67 rows x 3 columns]"
      ]
     },
     "execution_count": 20,
     "metadata": {},
     "output_type": "execute_result"
    }
   ],
   "source": [
    "test_dataset_qda"
   ]
  },
  {
   "cell_type": "markdown",
   "id": "5ce1284a",
   "metadata": {},
   "source": [
    "### Загрузка датасета из файла"
   ]
  },
  {
   "cell_type": "code",
   "execution_count": 21,
   "id": "605e5422",
   "metadata": {},
   "outputs": [
    {
     "data": {
      "text/html": [
       "<div>\n",
       "<style scoped>\n",
       "    .dataframe tbody tr th:only-of-type {\n",
       "        vertical-align: middle;\n",
       "    }\n",
       "\n",
       "    .dataframe tbody tr th {\n",
       "        vertical-align: top;\n",
       "    }\n",
       "\n",
       "    .dataframe thead th {\n",
       "        text-align: right;\n",
       "    }\n",
       "</style>\n",
       "<table border=\"1\" class=\"dataframe\">\n",
       "  <thead>\n",
       "    <tr style=\"text-align: right;\">\n",
       "      <th></th>\n",
       "      <th>question</th>\n",
       "      <th>document</th>\n",
       "    </tr>\n",
       "  </thead>\n",
       "  <tbody>\n",
       "    <tr>\n",
       "      <th>0</th>\n",
       "      <td>Как можно сформировать справку-вызов самостоят...</td>\n",
       "      <td>Сформировать справку - вызов Вы можете самосто...</td>\n",
       "    </tr>\n",
       "    <tr>\n",
       "      <th>1</th>\n",
       "      <td>Куда следует направлять подписанную скан-копию...</td>\n",
       "      <td>Сформировать справку - вызов Вы можете самосто...</td>\n",
       "    </tr>\n",
       "    <tr>\n",
       "      <th>2</th>\n",
       "      <td>Где можно получить справку для военкомата?</td>\n",
       "      <td>По вопросу получения справки для военкомата Ва...</td>\n",
       "    </tr>\n",
       "    <tr>\n",
       "      <th>4</th>\n",
       "      <td>Какой номер телефона у Отдела мобилизационной ...</td>\n",
       "      <td>По вопросу получения справки для военкомата Ва...</td>\n",
       "    </tr>\n",
       "    <tr>\n",
       "      <th>6</th>\n",
       "      <td>Какие места на территории Университета можно и...</td>\n",
       "      <td>Студенты очной формы обучения оформляют справк...</td>\n",
       "    </tr>\n",
       "  </tbody>\n",
       "</table>\n",
       "</div>"
      ],
      "text/plain": [
       "                                            question  \\\n",
       "0  Как можно сформировать справку-вызов самостоят...   \n",
       "1  Куда следует направлять подписанную скан-копию...   \n",
       "2         Где можно получить справку для военкомата?   \n",
       "4  Какой номер телефона у Отдела мобилизационной ...   \n",
       "6  Какие места на территории Университета можно и...   \n",
       "\n",
       "                                            document  \n",
       "0  Сформировать справку - вызов Вы можете самосто...  \n",
       "1  Сформировать справку - вызов Вы можете самосто...  \n",
       "2  По вопросу получения справки для военкомата Ва...  \n",
       "4  По вопросу получения справки для военкомата Ва...  \n",
       "6  Студенты очной формы обучения оформляют справк...  "
      ]
     },
     "execution_count": 21,
     "metadata": {},
     "output_type": "execute_result"
    }
   ],
   "source": [
    "test_dataset_qda = pd.read_csv(\"test_gigachat_docs.csv\", index_col=0)\n",
    "test_dataset_qda.head(5)"
   ]
  },
  {
   "cell_type": "markdown",
   "id": "0ddbec5f",
   "metadata": {
    "jp-MarkdownHeadingCollapsed": true
   },
   "source": [
    "## Векторный индекс документов"
   ]
  },
  {
   "cell_type": "markdown",
   "id": "07f5b94d",
   "metadata": {},
   "source": [
    "### Структура БД"
   ]
  },
  {
   "cell_type": "code",
   "execution_count": 22,
   "id": "2b0f87fa",
   "metadata": {},
   "outputs": [],
   "source": [
    "from typing import Optional\n",
    "from pgvector.sqlalchemy import Vector\n",
    "from sqlalchemy import Text, create_engine, select, text\n",
    "from sqlalchemy.orm import DeclarativeBase, Mapped, Session, mapped_column\n",
    "\n",
    "engine = create_engine(f\"postgresql://{environ.get('POSTGRES_USER')}:{environ.get('POSTGRES_PASSWORD')}@{environ.get('POSTGRES_HOST')}/{environ.get('POSTGRES_DB')}\", echo=False)"
   ]
  },
  {
   "cell_type": "code",
   "execution_count": 23,
   "id": "b7f81c4d",
   "metadata": {},
   "outputs": [],
   "source": [
    "class Base(DeclarativeBase):\n",
    "    pass\n",
    "\n",
    "class Chunk(Base):\n",
    "    __tablename__ = \"chunk\"\n",
    "    id: Mapped[int] = mapped_column(primary_key=True)\n",
    "    text: Mapped[str] = mapped_column(Text())\n",
    "    sbert_312: Mapped[Optional[Vector]] = mapped_column(Vector(312))\n",
    "    sbert_768: Mapped[Optional[Vector]] = mapped_column(Vector(768))\n",
    "    sbert_1024: Mapped[Optional[Vector]] = mapped_column(Vector(1024))\n",
    "    gigachat_embeddings: Mapped[Optional[Vector]] = mapped_column(Vector(1024))"
   ]
  },
  {
   "cell_type": "code",
   "execution_count": 24,
   "id": "4f680d96",
   "metadata": {},
   "outputs": [],
   "source": [
    "with Session(engine) as session:\n",
    "    session.execute(text('CREATE EXTENSION IF NOT EXISTS vector'))\n",
    "    session.execute(text('DROP TABLE chunk'))\n",
    "    session.commit()\n",
    "Base.metadata.create_all(engine)"
   ]
  },
  {
   "cell_type": "markdown",
   "id": "9e2ac81e",
   "metadata": {},
   "source": [
    "### Заполнение документами"
   ]
  },
  {
   "cell_type": "code",
   "execution_count": 25,
   "id": "2ab1f77b",
   "metadata": {},
   "outputs": [
    {
     "data": {
      "text/plain": [
       "0     Для восстановления студенческого билета Вам не...\n",
       "1     По вопросу получения справки о доходах, размер...\n",
       "2     Заявления о переводе принимаются два раза в го...\n",
       "3     Прежде, чем выбрать элективы, рекомендуем почи...\n",
       "4     По вопросам, касающимся общежития, обратитесь ...\n",
       "                            ...                        \n",
       "68    : « отлично », « хорошо », « удовлетворительно...\n",
       "69    срок по уважительн ой причин е, на основании л...\n",
       "70    этом случае преподаватель может оставить тему ...\n",
       "71    2 1. ОБЩИЕ ПОЛОЖЕНИЯ 1. 1. Настоящее Положение...\n",
       "72    Институт экологической и сельскохозяйственной ...\n",
       "Name: document, Length: 73, dtype: object"
      ]
     },
     "execution_count": 25,
     "metadata": {},
     "output_type": "execute_result"
    }
   ],
   "source": [
    "documents = pd.concat([train_dataset_qda[\"document\"], test_dataset_qda[\"document\"]]).drop_duplicates().reset_index(drop=True)\n",
    "documents"
   ]
  },
  {
   "cell_type": "code",
   "execution_count": 26,
   "id": "c81ad8ad",
   "metadata": {},
   "outputs": [],
   "source": [
    "with Session(engine) as session:\n",
    "    for document in documents:\n",
    "        doc = Chunk(\n",
    "            text=document,\n",
    "        )\n",
    "        session.add(doc)\n",
    "    session.commit()"
   ]
  },
  {
   "cell_type": "markdown",
   "id": "081f57ce",
   "metadata": {},
   "source": [
    "### Вычисление векторных представлений"
   ]
  },
  {
   "cell_type": "markdown",
   "id": "72d84f5a",
   "metadata": {},
   "source": [
    "#### RuSBERT-Tiny"
   ]
  },
  {
   "cell_type": "code",
   "execution_count": 27,
   "id": "cce30650",
   "metadata": {},
   "outputs": [
    {
     "data": {
      "text/plain": [
       "312"
      ]
     },
     "execution_count": 27,
     "metadata": {},
     "output_type": "execute_result"
    }
   ],
   "source": [
    "from sentence_transformers import SentenceTransformer\n",
    "\n",
    "# rusbert_model = SentenceTransformer('cointegrated/rubert-tiny2', device=\"cpu\")\n",
    "rusbert_model = SentenceTransformer('saved_models/rubert-tiny2-wikiutmn', device=\"cpu\")\n",
    "len(rusbert_model.encode(\"мама мыла раму\"))"
   ]
  },
  {
   "cell_type": "code",
   "execution_count": 28,
   "id": "3c0d4a46",
   "metadata": {},
   "outputs": [],
   "source": [
    "with Session(engine) as session:\n",
    "   chunks = session.scalars(select(Chunk).order_by(Chunk.id)).all()\n",
    "   for chunk in chunks:\n",
    "      chunk.sbert_312 = rusbert_model.encode(chunk.text)\n",
    "      session.add(chunk)\n",
    "      session.flush()\n",
    "   session.commit()"
   ]
  },
  {
   "cell_type": "code",
   "execution_count": 29,
   "id": "47e60807",
   "metadata": {},
   "outputs": [
    {
     "data": {
      "text/plain": [
       "'Выбор спортивных секций по Физической культуре будет проходить в ИС Модеус во вкладке \" Выбор модулей \". Вам нужно будет выбрать 2 интересующие Вас спортивные секции, которые будут проходить каждую неделю в одно и то же время. Ограничения : 1 ) Записаться можно не более чем на 2 занятия в неделю 2 ) Нельзя записываться на два занятия подряд. Вас могут не допустить на занятие, если Вы были на предыдущей паре и / или уже посетили два занятия за неделю. При этом расписание на наличие конфликтов Вы проверяете самостоятельно в соответствии с Вашим расписанием в ИС Модеус и расписанием спортивных секций ( во вложенных файлах ). Ваш выбор пролонгируется до конца семестра, однако в любой момент Вы можете его изменить, отписавшись от одной секции и записавшись на другую. ВАЖНО! Студент, пропустивший два занятия подряд, будет отписан автоматически. Выбор Физической культуры откроется 06. 09. 2023 и будет открыт до конца семестра. Для успешной аттестации по дисциплине « Физическая культура : элективные курсы по видам спорта » Вы должны набрать не менее 61 балла по балльно - рейтинговой оценочной шкале. Для этого Вы можете : 1 ) Посещать академические занятия ( 3 балла за каждое занятие ) ; 2 ) Принять участие в спортивно - массовых мероприятиях университета : Днях здорового образа жизни, Маршрут Дружбы, Кросс Наций, и других ( 0 - 10 баллов за каждое мероприятие ). 3 ) Принять участите в соревнованиях по видам спорта ( 0 [UNK] 60 баллов ) ; 4 ) Выполнить ВФСК ГТО ( 0 [UNK] 60 баллов ). Для оформления посещения спортивного зала вместо практических занятий по физкультуре студент к первому занятию по физической культуре представляет тренеру - преподавателю по спорту ( куратору по физкультуре ) пакет документов ( https : / / www. utmn. ru / upload / medialibrary / 676 / Polozhenie - o - realizatsii - distsiplin - _ moduley _ - po - fizicheskoy - kulture - _ sportu _. pdf ) и приходит на зачётное мероприятие. ВАЖНО!!! Все документы должны быть предоставлены в течение первой учебной недели. Список ответственных за прием документов спортзала по институтам ( Ленина, 6 ) : 1. ИГиП, Антропошкола [UNK] Пырлич Юлия Васильевна ( y. v. pyrlich @ utmn. ru ) 2. СоцГум - Ерженин Владимир Сергеевич ( v. s. erzhenin @ utmn. ru ) 3. ФЭИ - Копякова Анна Леонидовна ( a. l. kopyakova @ utmn. ru ) 4. ИнЗем - Питулин Артём Владимирович ( a. v. pitulin @ utmn. ru ) 5. ФТИ, ИнХим, ШЕН [UNK] Пырлич Юлия Васильевна ( y. v. pyrlich @ utmn. ru ) 6. ИнБио - Криводанова Наталья Александровна ( n. a. krivodanova @ utmn. ru ) 7. Школа образования - Баянов Николай Ильич ( n. i. bayanov @ utmn. ru ) 8. ШКН - Тверских Владислав Владимирович ( vl. v. tverskikh @ utmn. ru ) # физкультура'"
      ]
     },
     "execution_count": 29,
     "metadata": {},
     "output_type": "execute_result"
    }
   ],
   "source": [
    "def answer_sbert_312(question):\n",
    "    with Session(engine) as session:\n",
    "        return session.scalars(select(Chunk)\n",
    "                        .order_by(Chunk.sbert_312.cosine_distance(\n",
    "                            rusbert_model.encode(question)\n",
    "                            )).limit(1)).first().text\n",
    "\n",
    "answer_sbert_312(\"Как поменять физкультуру?\")"
   ]
  },
  {
   "cell_type": "markdown",
   "id": "12c3088c",
   "metadata": {},
   "source": [
    "#### mpnet"
   ]
  },
  {
   "cell_type": "code",
   "execution_count": 33,
   "id": "808d30d1",
   "metadata": {},
   "outputs": [
    {
     "data": {
      "text/plain": [
       "768"
      ]
     },
     "execution_count": 33,
     "metadata": {},
     "output_type": "execute_result"
    }
   ],
   "source": [
    "from sentence_transformers import SentenceTransformer\n",
    "\n",
    "mpnet = SentenceTransformer('saved_models/sentence-transformers/paraphrase-multilingual-mpnet-base-v2', device=\"cuda\")\n",
    "# mpnet = SentenceTransformer('saved_models/paraphrase-multilingual-mpnet-base-v2-wikiutmn', device=\"cuda\")\n",
    "len(mpnet.encode(\"мама мыла раму\"))"
   ]
  },
  {
   "cell_type": "code",
   "execution_count": 34,
   "id": "2244316a",
   "metadata": {},
   "outputs": [],
   "source": [
    "with Session(engine) as session:\n",
    "   chunks = session.scalars(select(Chunk).order_by(Chunk.id)).all()\n",
    "   for chunk in chunks:\n",
    "      chunk.sbert_768 = mpnet.encode(chunk.text)\n",
    "      session.add(chunk)\n",
    "      session.flush()\n",
    "   session.commit()"
   ]
  },
  {
   "cell_type": "code",
   "execution_count": 35,
   "id": "80eb555e",
   "metadata": {},
   "outputs": [
    {
     "data": {
      "text/plain": [
       "'Выбор спортивных секций по Физической культуре будет проходить в ИС Модеус во вкладке \" Выбор модулей \". Вам нужно будет выбрать 2 интересующие Вас спортивные секции, которые будут проходить каждую неделю в одно и то же время. Ограничения : 1 ) Записаться можно не более чем на 2 занятия в неделю 2 ) Нельзя записываться на два занятия подряд. Вас могут не допустить на занятие, если Вы были на предыдущей паре и / или уже посетили два занятия за неделю. При этом расписание на наличие конфликтов Вы проверяете самостоятельно в соответствии с Вашим расписанием в ИС Модеус и расписанием спортивных секций ( во вложенных файлах ). Ваш выбор пролонгируется до конца семестра, однако в любой момент Вы можете его изменить, отписавшись от одной секции и записавшись на другую. ВАЖНО! Студент, пропустивший два занятия подряд, будет отписан автоматически. Выбор Физической культуры откроется 06. 09. 2023 и будет открыт до конца семестра. Для успешной аттестации по дисциплине « Физическая культура : элективные курсы по видам спорта » Вы должны набрать не менее 61 балла по балльно - рейтинговой оценочной шкале. Для этого Вы можете : 1 ) Посещать академические занятия ( 3 балла за каждое занятие ) ; 2 ) Принять участие в спортивно - массовых мероприятиях университета : Днях здорового образа жизни, Маршрут Дружбы, Кросс Наций, и других ( 0 - 10 баллов за каждое мероприятие ). 3 ) Принять участите в соревнованиях по видам спорта ( 0 [UNK] 60 баллов ) ; 4 ) Выполнить ВФСК ГТО ( 0 [UNK] 60 баллов ). Для оформления посещения спортивного зала вместо практических занятий по физкультуре студент к первому занятию по физической культуре представляет тренеру - преподавателю по спорту ( куратору по физкультуре ) пакет документов ( https : / / www. utmn. ru / upload / medialibrary / 676 / Polozhenie - o - realizatsii - distsiplin - _ moduley _ - po - fizicheskoy - kulture - _ sportu _. pdf ) и приходит на зачётное мероприятие. ВАЖНО!!! Все документы должны быть предоставлены в течение первой учебной недели. Список ответственных за прием документов спортзала по институтам ( Ленина, 6 ) : 1. ИГиП, Антропошкола [UNK] Пырлич Юлия Васильевна ( y. v. pyrlich @ utmn. ru ) 2. СоцГум - Ерженин Владимир Сергеевич ( v. s. erzhenin @ utmn. ru ) 3. ФЭИ - Копякова Анна Леонидовна ( a. l. kopyakova @ utmn. ru ) 4. ИнЗем - Питулин Артём Владимирович ( a. v. pitulin @ utmn. ru ) 5. ФТИ, ИнХим, ШЕН [UNK] Пырлич Юлия Васильевна ( y. v. pyrlich @ utmn. ru ) 6. ИнБио - Криводанова Наталья Александровна ( n. a. krivodanova @ utmn. ru ) 7. Школа образования - Баянов Николай Ильич ( n. i. bayanov @ utmn. ru ) 8. ШКН - Тверских Владислав Владимирович ( vl. v. tverskikh @ utmn. ru ) # физкультура'"
      ]
     },
     "execution_count": 35,
     "metadata": {},
     "output_type": "execute_result"
    }
   ],
   "source": [
    "def answer_sbert_768(question):\n",
    "    with Session(engine) as session:\n",
    "        return session.scalars(select(Chunk)\n",
    "                        .order_by(Chunk.sbert_768.cosine_distance(\n",
    "                            mpnet.encode(question)\n",
    "                            )).limit(1)).first().text\n",
    "\n",
    "answer_sbert_768(\"Как поменять физкультуру?\")"
   ]
  },
  {
   "cell_type": "markdown",
   "id": "1fd3cab2",
   "metadata": {},
   "source": [
    "#### e5-large"
   ]
  },
  {
   "cell_type": "code",
   "execution_count": 36,
   "id": "488e7205",
   "metadata": {},
   "outputs": [
    {
     "data": {
      "text/plain": [
       "1024"
      ]
     },
     "execution_count": 36,
     "metadata": {},
     "output_type": "execute_result"
    }
   ],
   "source": [
    "from sentence_transformers import SentenceTransformer\n",
    "\n",
    "e5_model = SentenceTransformer('saved_models/intfloat/multilingual-e5-large', device=\"cuda\")\n",
    "# e5_model = SentenceTransformer('saved_models/multilingual-e5-large-wikiutmn', device=\"cuda\")\n",
    "len(e5_model.encode(\"мама мыла раму\"))"
   ]
  },
  {
   "cell_type": "code",
   "execution_count": 37,
   "id": "9bc63d00",
   "metadata": {},
   "outputs": [],
   "source": [
    "with Session(engine) as session:\n",
    "   chunks = session.scalars(select(Chunk).order_by(Chunk.id)).all()\n",
    "   for chunk in chunks:\n",
    "      chunk.sbert_1024 = e5_model.encode(chunk.text)\n",
    "      session.add(chunk)\n",
    "      session.flush()\n",
    "   session.commit()"
   ]
  },
  {
   "cell_type": "code",
   "execution_count": 38,
   "id": "a1ab70f1",
   "metadata": {},
   "outputs": [
    {
     "data": {
      "text/plain": [
       "'Выбор спортивных секций по Физической культуре будет проходить в ИС Модеус во вкладке \" Выбор модулей \". Вам нужно будет выбрать 2 интересующие Вас спортивные секции, которые будут проходить каждую неделю в одно и то же время. Ограничения : 1 ) Записаться можно не более чем на 2 занятия в неделю 2 ) Нельзя записываться на два занятия подряд. Вас могут не допустить на занятие, если Вы были на предыдущей паре и / или уже посетили два занятия за неделю. При этом расписание на наличие конфликтов Вы проверяете самостоятельно в соответствии с Вашим расписанием в ИС Модеус и расписанием спортивных секций ( во вложенных файлах ). Ваш выбор пролонгируется до конца семестра, однако в любой момент Вы можете его изменить, отписавшись от одной секции и записавшись на другую. ВАЖНО! Студент, пропустивший два занятия подряд, будет отписан автоматически. Выбор Физической культуры откроется 06. 09. 2023 и будет открыт до конца семестра. Для успешной аттестации по дисциплине « Физическая культура : элективные курсы по видам спорта » Вы должны набрать не менее 61 балла по балльно - рейтинговой оценочной шкале. Для этого Вы можете : 1 ) Посещать академические занятия ( 3 балла за каждое занятие ) ; 2 ) Принять участие в спортивно - массовых мероприятиях университета : Днях здорового образа жизни, Маршрут Дружбы, Кросс Наций, и других ( 0 - 10 баллов за каждое мероприятие ). 3 ) Принять участите в соревнованиях по видам спорта ( 0 [UNK] 60 баллов ) ; 4 ) Выполнить ВФСК ГТО ( 0 [UNK] 60 баллов ). Для оформления посещения спортивного зала вместо практических занятий по физкультуре студент к первому занятию по физической культуре представляет тренеру - преподавателю по спорту ( куратору по физкультуре ) пакет документов ( https : / / www. utmn. ru / upload / medialibrary / 676 / Polozhenie - o - realizatsii - distsiplin - _ moduley _ - po - fizicheskoy - kulture - _ sportu _. pdf ) и приходит на зачётное мероприятие. ВАЖНО!!! Все документы должны быть предоставлены в течение первой учебной недели. Список ответственных за прием документов спортзала по институтам ( Ленина, 6 ) : 1. ИГиП, Антропошкола [UNK] Пырлич Юлия Васильевна ( y. v. pyrlich @ utmn. ru ) 2. СоцГум - Ерженин Владимир Сергеевич ( v. s. erzhenin @ utmn. ru ) 3. ФЭИ - Копякова Анна Леонидовна ( a. l. kopyakova @ utmn. ru ) 4. ИнЗем - Питулин Артём Владимирович ( a. v. pitulin @ utmn. ru ) 5. ФТИ, ИнХим, ШЕН [UNK] Пырлич Юлия Васильевна ( y. v. pyrlich @ utmn. ru ) 6. ИнБио - Криводанова Наталья Александровна ( n. a. krivodanova @ utmn. ru ) 7. Школа образования - Баянов Николай Ильич ( n. i. bayanov @ utmn. ru ) 8. ШКН - Тверских Владислав Владимирович ( vl. v. tverskikh @ utmn. ru ) # физкультура'"
      ]
     },
     "execution_count": 38,
     "metadata": {},
     "output_type": "execute_result"
    }
   ],
   "source": [
    "def answer_sbert_1024(question):\n",
    "    with Session(engine) as session:\n",
    "        return session.scalars(select(Chunk)\n",
    "                        .order_by(Chunk.sbert_1024.cosine_distance(\n",
    "                            e5_model.encode(question)\n",
    "                            )).limit(1)).first().text\n",
    "\n",
    "answer_sbert_1024(\"Как поменять физкультуру?\")"
   ]
  },
  {
   "cell_type": "markdown",
   "id": "68b0857e",
   "metadata": {},
   "source": [
    "#### GigaChatEmbeddings"
   ]
  },
  {
   "cell_type": "code",
   "execution_count": 43,
   "id": "bbf7b19f",
   "metadata": {},
   "outputs": [
    {
     "name": "stdout",
     "output_type": "stream",
     "text": [
      "1024\n"
     ]
    }
   ],
   "source": [
    "from langchain_community.embeddings import GigaChatEmbeddings\n",
    "\n",
    "gigachat_embeddings = GigaChatEmbeddings(credentials=gigachat_token, verify_ssl_certs=False)\n",
    "result = gigachat_embeddings.embed_documents(texts=[\"Привет!\"])\n",
    "print(len(result[0]))"
   ]
  },
  {
   "cell_type": "code",
   "execution_count": 46,
   "id": "cec44503",
   "metadata": {},
   "outputs": [
    {
     "name": "stdout",
     "output_type": "stream",
     "text": [
      "Заявления о переводе принимаются два раза в год, как правило : для студентов очной и очно [UNK] заоч\n",
      "1. Подать заявление о переводе можно лично, обратившись в Единый деканат, ул. Семакова, 18, холл 3 э\n",
      "Выбор спортивных секций по Физической культуре будет проходить в ИС Модеус во вкладке \" Выбор модуле\n",
      "Пакет документов для подачи заявления на перевод : 1. Заявление о зачислении переводом https : / / w\n",
      "Документ подписан простой электронной подписью Информация о владельце : ФИО : Романчук Иван Сергееви\n",
      "директора, заместителя директора института школы, филиала, начальника ОУДКС, начальника у правления \n",
      "##ционной комиссии. Последующие восстановления производятся на место по договору об оказании платных\n",
      "При равном числе голосов председатель аттестационной комиссии имеет право решающего голоса. Аттестац\n",
      "Документ подписан простой электронной подписью Информация о владельце : ФИО : Романчук Иван Сергееви\n",
      ". 1. 20. Дисциплины ( иные виды учебных работ ), с оставляющие академическую разницу и ( или ) подле\n",
      "Об утверждении Регламента проведения промежуточной и итоговой аттестации по дисциплине « Математика \n",
      "Об утверждении Регламента проведения промежуточной аттестации по дисциплине « Алгебра » для обучающи\n",
      "Об утверждении Р егламента проведения промежуточной и итоговой аттестации по дисциплине « Дискретная\n",
      "Об утверждении Регламента проведения промежуточной аттестации по дисциплине « Основы программировани\n",
      "Сопровождение специализированных образовательных треков Спорт. программи - рование Треки КапитаныШко\n",
      "3. 4. Система оценивания при проведении текущего контроля отражается в рабочей программе дисциплины \n",
      "принимается преподавателем, ведущим практические ( семинарские, лабораторные ) занятия в групп е ( у\n",
      "проведения промежуточной аттестации, за исключением периода про ведения промежуточной аттестации при\n"
     ]
    }
   ],
   "source": [
    "with Session(engine) as session:\n",
    "   chunks = session.scalars(select(Chunk).order_by(Chunk.id)).all()\n",
    "   for chunk in chunks:\n",
    "      try:\n",
    "         chunk.gigachat_embeddings = gigachat_embeddings.embed_documents(texts=[chunk.text])[0]\n",
    "      except:\n",
    "         print(chunk.text[:100])\n",
    "         chunk.gigachat_embeddings = None\n",
    "      session.add(chunk)\n",
    "      session.flush()\n",
    "   session.commit()"
   ]
  },
  {
   "cell_type": "code",
   "execution_count": 48,
   "id": "d2e7a665",
   "metadata": {},
   "outputs": [
    {
     "data": {
      "text/plain": [
       "'Прежде, чем выбрать элективы, рекомендуем почитать отзывы на сервисе « Отзывус » : https : / / electives. utmn. ru. Там же можно написать о своём опыте изучения элективных дисциплин. Информация, о том, как поменять электив, отправляется на корпоративную почту в первую учебную неделю семестра.'"
      ]
     },
     "execution_count": 48,
     "metadata": {},
     "output_type": "execute_result"
    }
   ],
   "source": [
    "def answer_gigachat_embeddings(question):\n",
    "    with Session(engine) as session:\n",
    "        return session.scalars(select(Chunk)\n",
    "                        .order_by(Chunk.gigachat_embeddings.cosine_distance(\n",
    "                            gigachat_embeddings.embed_documents(texts=[question])[0]\n",
    "                            )).limit(1)).first().text\n",
    "\n",
    "answer_gigachat_embeddings(\"Как поменять физкультуру?\")"
   ]
  },
  {
   "cell_type": "markdown",
   "id": "e1dcfd2a",
   "metadata": {
    "jp-MarkdownHeadingCollapsed": true
   },
   "source": [
    "## Выбор нужного фрагмента через векторный индекс"
   ]
  },
  {
   "cell_type": "code",
   "execution_count": null,
   "id": "51734fc9",
   "metadata": {},
   "outputs": [],
   "source": [
    "test_dataset_qda[\"sbert_312\"] = test_dataset_qda[\"question\"].apply(answer_sbert_312)\n",
    "test_dataset_qda[\"sbert_768\"] = test_dataset_qda[\"question\"].apply(answer_sbert_768)\n",
    "test_dataset_qda[\"sbert_1024\"] = test_dataset_qda[\"question\"].apply(answer_sbert_1024)\n",
    "# test_dataset_qda[\"gigachat_embeddings\"] = test_dataset_qda[\"question\"].apply(answer_gigachat_embeddings)\n",
    "test_dataset_qda.head(5)"
   ]
  },
  {
   "cell_type": "markdown",
   "id": "97effbaf",
   "metadata": {},
   "source": [
    "### Выбор лучшего алгоритма"
   ]
  },
  {
   "cell_type": "markdown",
   "id": "5b8f1f73",
   "metadata": {},
   "source": [
    "#### Accuracy"
   ]
  },
  {
   "cell_type": "code",
   "execution_count": 41,
   "id": "057b78e0",
   "metadata": {},
   "outputs": [
    {
     "name": "stdout",
     "output_type": "stream",
     "text": [
      "sbert_312 0.3728813559322034\n",
      "sbert_768 0.5932203389830508\n",
      "sbert_1024 0.576271186440678\n"
     ]
    }
   ],
   "source": [
    "for column in test_dataset_qda.columns[2:]:\n",
    "    print(column, sum(test_dataset_qda[column].apply(lambda x: \"\" if x is None else x) == test_dataset_qda.document) / len(test_dataset_qda.document))"
   ]
  },
  {
   "cell_type": "markdown",
   "id": "d6cf90ac",
   "metadata": {},
   "source": [
    "#### ROUGE-L"
   ]
  },
  {
   "cell_type": "code",
   "execution_count": 53,
   "id": "25c02817",
   "metadata": {},
   "outputs": [
    {
     "name": "stdout",
     "output_type": "stream",
     "text": [
      "Note: you may need to restart the kernel to use updated packages.\n"
     ]
    }
   ],
   "source": [
    "%pip install rouge --quiet"
   ]
  },
  {
   "cell_type": "code",
   "execution_count": 42,
   "id": "2da8a0c7",
   "metadata": {},
   "outputs": [
    {
     "name": "stdout",
     "output_type": "stream",
     "text": [
      "sbert_312 {'r': 0.6082337937297951, 'p': 0.6908978349568295, 'f': 0.6123940148286818}\n",
      "sbert_768 {'r': 0.755728126802245, 'p': 0.7674587067043964, 'f': 0.7344866172097954}\n",
      "sbert_1024 {'r': 0.7178576059366591, 'p': 0.839496381885624, 'f': 0.7362885312978508}\n"
     ]
    }
   ],
   "source": [
    "from rouge import Rouge\n",
    "rouge = Rouge()\n",
    "\n",
    "for column in test_dataset_qda.columns[2:]:\n",
    "    print(column, rouge.get_scores(test_dataset_qda[column].apply(lambda x: \"-\" if x is None else x), test_dataset_qda[\"document\"], avg=True)['rouge-l'])"
   ]
  },
  {
   "cell_type": "markdown",
   "id": "9e6d1cf3",
   "metadata": {},
   "source": [
    "## SBERT Fine Tuning\n",
    "\n",
    "\n",
    " * https://www.sbert.net/docs/training/overview.html\n",
    " * https://huggingface.co/blog/how-to-train-sentence-transformers"
   ]
  },
  {
   "cell_type": "markdown",
   "id": "67e741f7",
   "metadata": {
    "jp-MarkdownHeadingCollapsed": true
   },
   "source": [
    "### Тонкая настройка"
   ]
  },
  {
   "cell_type": "code",
   "execution_count": 62,
   "id": "235475b5",
   "metadata": {},
   "outputs": [
    {
     "name": "stderr",
     "output_type": "stream",
     "text": [
      "d:\\git\\virtassist\\.venv\\Lib\\site-packages\\huggingface_hub\\file_download.py:1132: FutureWarning: `resume_download` is deprecated and will be removed in version 1.0.0. Downloads always resume when possible. If you want to force a new download, use `force_download=True`.\n",
      "  warnings.warn(\n",
      "Epoch:   0%|          | 0/10 [00:00<?, ?it/s]"
     ]
    },
    {
     "ename": "",
     "evalue": "",
     "output_type": "error",
     "traceback": [
      "\u001b[1;31mThe Kernel crashed while executing code in the current cell or a previous cell. \n",
      "\u001b[1;31mPlease review the code in the cell(s) to identify a possible cause of the failure. \n",
      "\u001b[1;31mClick <a href='https://aka.ms/vscodeJupyterKernelCrash'>here</a> for more info. \n",
      "\u001b[1;31mView Jupyter <a href='command:jupyter.viewOutput'>log</a> for further details."
     ]
    }
   ],
   "source": [
    "import math\n",
    "from sentence_transformers import SentenceTransformer, InputExample, losses\n",
    "from torch.utils.data import DataLoader\n",
    "\n",
    "train_set = []\n",
    "for index, row in train_dataset_qda.iterrows():\n",
    "    train_set.append(InputExample(texts=[row['question'], row['document']]))\n",
    "\n",
    "finetuned_model = SentenceTransformer(\"cointegrated/rubert-tiny2\", device=\"cuda\")\n",
    "\n",
    "train_dataloader = DataLoader(train_set, shuffle=True, batch_size=8)\n",
    "train_loss = losses.MultipleNegativesRankingLoss(finetuned_model)\n",
    "# train_loss = losses.MegaBatchMarginLoss(finetuned_model)\n",
    "\n",
    "num_epochs = 10\n",
    "warmup_steps = math.ceil(len(train_set) * num_epochs * 0.1)\n",
    "\n",
    "finetuned_model.fit(train_objectives=[(train_dataloader, train_loss)],\n",
    "                    epochs=num_epochs,\n",
    "                    warmup_steps=warmup_steps,\n",
    "                    output_path=\"saved_models/rubert-tiny2-wikiutmn\")\n"
   ]
  },
  {
   "cell_type": "markdown",
   "id": "0d2b8437",
   "metadata": {},
   "source": [
    "### Save to Hub"
   ]
  },
  {
   "cell_type": "code",
   "execution_count": 21,
   "id": "b689812f",
   "metadata": {},
   "outputs": [
    {
     "data": {
      "application/vnd.jupyter.widget-view+json": {
       "model_id": "908c452446e545399f136da46f4ef531",
       "version_major": 2,
       "version_minor": 0
      },
      "text/plain": [
       "model.safetensors:   0%|          | 0.00/117M [00:00<?, ?B/s]"
      ]
     },
     "metadata": {},
     "output_type": "display_data"
    },
    {
     "data": {
      "text/plain": [
       "'https://huggingface.co/nizamovtimur/rubert-tiny2-wikiutmn/commit/740236cd3cf4e8acb90ebc9012ca6afcbf07da48'"
      ]
     },
     "execution_count": 21,
     "metadata": {},
     "output_type": "execute_result"
    }
   ],
   "source": [
    "finetuned_model.save_to_hub(repo_id=\"nizamovtimur/rubert-tiny2-wikiutmn\", token=hf_write_token)"
   ]
  },
  {
   "cell_type": "markdown",
   "id": "7900775a",
   "metadata": {},
   "source": [
    "## Большие языковые модели\n",
    "\n",
    "\n",
    "https://python.langchain.com/docs/use_cases/question_answering/"
   ]
  },
  {
   "cell_type": "code",
   "execution_count": 24,
   "id": "74afe4e9",
   "metadata": {},
   "outputs": [],
   "source": [
    "from langchain.prompts import PromptTemplate\n",
    "\n",
    "prompt_template = \"\"\"Действуй как Вопрошалыч — виртуальный помощник студента ТюмГУ.\n",
    "Используй следующий текст в тройных кавычках, чтобы кратко ответить на вопрос студента.\n",
    "Не придумывай и не изменяй ссылки, адреса и телефоны. Если ответа в тексте нет, напиши \"ответ не найден\".\n",
    "\n",
    "\\\"\\\"\\\"\n",
    "{context}\n",
    "\\\"\\\"\\\"\n",
    "\n",
    "Вопрос студента: {question}\"\"\"\n",
    "\n",
    "prompt = PromptTemplate.from_template(prompt_template)"
   ]
  },
  {
   "cell_type": "code",
   "execution_count": 37,
   "id": "e13d3ade",
   "metadata": {},
   "outputs": [],
   "source": [
    "# prompt_template_with_history = \"\"\"Действуй как Вопрошалыч — виртуальный помощник студента ТюмГУ.\n",
    "# Кратко ответь на вопрос студента по предоставленным текстам.\n",
    "# Не придумывай и не изменяй ссылки, адреса и телефоны. Если ответа нет, напиши \"ответ не найден\".\n",
    "\n",
    "# \\\"\\\"\\\"\n",
    "# {prev_context}\n",
    "\n",
    "# {context}\n",
    "# \\\"\\\"\\\"\n",
    "\n",
    "# Вопрос студента: {prev_question}\n",
    "# Ответ: {prev_answer}\n",
    "# Вопрос студента: {question}\n",
    "# Ответ:\n",
    "# \"\"\"\n",
    "\n",
    "# prompt_with_history = PromptTemplate.from_template(prompt_template)"
   ]
  },
  {
   "cell_type": "code",
   "execution_count": 25,
   "id": "d57836be",
   "metadata": {},
   "outputs": [],
   "source": [
    "from langchain_core.messages import AIMessage\n",
    "\n",
    "def get_answer(chain, question, context=None):\n",
    "        if context is None:\n",
    "                context = answer_sbert_312(question)\n",
    "        query = {\"context\": context,\n",
    "                 \"question\": question}\n",
    "        answer = chain.invoke(query)\n",
    "        if isinstance(answer, AIMessage):\n",
    "                answer = answer.content\n",
    "        return answer.strip()"
   ]
  },
  {
   "cell_type": "markdown",
   "id": "689abc5b",
   "metadata": {},
   "source": [
    "### Метрика: BERTScore"
   ]
  },
  {
   "cell_type": "code",
   "execution_count": 26,
   "id": "185af942",
   "metadata": {},
   "outputs": [
    {
     "name": "stdout",
     "output_type": "stream",
     "text": [
      "Note: you may need to restart the kernel to use updated packages.\n"
     ]
    }
   ],
   "source": [
    "%pip install bert-score --quiet"
   ]
  },
  {
   "cell_type": "code",
   "execution_count": 27,
   "id": "287595fb",
   "metadata": {},
   "outputs": [
    {
     "name": "stderr",
     "output_type": "stream",
     "text": [
      "d:\\git\\virtassist\\.venv\\Lib\\site-packages\\huggingface_hub\\file_download.py:1132: FutureWarning: `resume_download` is deprecated and will be removed in version 1.0.0. Downloads always resume when possible. If you want to force a new download, use `force_download=True`.\n",
      "  warnings.warn(\n"
     ]
    }
   ],
   "source": [
    "from bert_score import BERTScorer\n",
    "scorer = BERTScorer(lang=\"ru\")"
   ]
  },
  {
   "cell_type": "markdown",
   "id": "5a096e40",
   "metadata": {},
   "source": [
    "### GigaChat"
   ]
  },
  {
   "cell_type": "code",
   "execution_count": 28,
   "id": "75c1b0a9",
   "metadata": {},
   "outputs": [
    {
     "data": {
      "text/plain": [
       "'Обратитесь в Сервисный центр бухгалтерии для получения информации о размере стипендии.'"
      ]
     },
     "execution_count": 28,
     "metadata": {},
     "output_type": "execute_result"
    }
   ],
   "source": [
    "from langchain.llms import GigaChat\n",
    "giga = GigaChat(credentials=gigachat_token, verify_ssl_certs=False)\n",
    "giga_chain = prompt | giga\n",
    "get_answer(giga_chain, \"К кому обратиться по вопросам стипендии?\")"
   ]
  },
  {
   "cell_type": "code",
   "execution_count": 29,
   "id": "bdacf894",
   "metadata": {},
   "outputs": [
    {
     "name": "stdout",
     "output_type": "stream",
     "text": [
      "891 ms ± 75.8 ms per loop (mean ± std. dev. of 7 runs, 1 loop each)\n"
     ]
    }
   ],
   "source": [
    "%%timeit\n",
    "get_answer(giga_chain, \"К кому обратиться по вопросам стипендии?\")"
   ]
  },
  {
   "cell_type": "markdown",
   "id": "bc966e75",
   "metadata": {},
   "source": [
    "### GigaChat Pro"
   ]
  },
  {
   "cell_type": "code",
   "execution_count": 14,
   "id": "a0c498b7",
   "metadata": {},
   "outputs": [
    {
     "data": {
      "text/plain": [
       "'По вопросам стипендии необходимо обратиться в Сервисный центр бухгалтерии, написав на почту 12222@utmn.ru или позвонив по номеру (3452) 59-76-76. Адрес местонахождения: г. Тюмень, ул. Кирова, д. 25/1. Часы работы: пн. - чт. 09.00 - 17.00, пт. 09.00 - 16.00, обед 12.30 - 13.15, сб., вс. - выходные дни.'"
      ]
     },
     "execution_count": 14,
     "metadata": {},
     "output_type": "execute_result"
    }
   ],
   "source": [
    "from langchain.llms import GigaChat\n",
    "giga_pro = GigaChat(model=\"GigaChat-Pro\", credentials=gigachat_pro_token, verify_ssl_certs=False)\n",
    "giga_pro_chain = prompt | giga_pro\n",
    "get_answer(giga_pro_chain, \"К кому обратиться по вопросам стипендии?\")"
   ]
  },
  {
   "cell_type": "code",
   "execution_count": 85,
   "id": "85fe13bd",
   "metadata": {},
   "outputs": [
    {
     "name": "stdout",
     "output_type": "stream",
     "text": [
      "5.47 s ± 900 ms per loop (mean ± std. dev. of 7 runs, 1 loop each)\n"
     ]
    }
   ],
   "source": [
    "%%timeit\n",
    "get_answer(giga_pro_chain, \"К кому обратиться по вопросам стипендии?\")"
   ]
  },
  {
   "cell_type": "markdown",
   "id": "9ee8900f",
   "metadata": {},
   "source": [
    "### YandexGPT\n",
    "\n",
    "пока изучал, 149 руб 03 коп улетело..."
   ]
  },
  {
   "cell_type": "code",
   "execution_count": 17,
   "id": "fbfd4495",
   "metadata": {},
   "outputs": [
    {
     "name": "stdout",
     "output_type": "stream",
     "text": [
      "Note: you may need to restart the kernel to use updated packages.\n"
     ]
    }
   ],
   "source": [
    "%pip install --upgrade --quiet  yandex_chain"
   ]
  },
  {
   "cell_type": "code",
   "execution_count": 34,
   "id": "cde9d8b9",
   "metadata": {},
   "outputs": [
    {
     "data": {
      "text/plain": [
       "'По вопросам, связанным со стипендией, вам необходимо обратиться в Сервисный центр бухгалтерии. Вы можете написать на почту 12222 @ utmn. ru или позвонить по телефону (3452) 59-76-76.'"
      ]
     },
     "execution_count": 34,
     "metadata": {},
     "output_type": "execute_result"
    }
   ],
   "source": [
    "from yandex_chain import YandexLLM\n",
    "\n",
    "yagpt = YandexLLM(folder_id=\"b1gvhukmt6vde5nnr73s\", api_key=str(yandex_token), use_lite=False)\n",
    "yagpt_chain = prompt | yagpt\n",
    "get_answer(yagpt_chain, \"К кому обратиться по вопросам стипендии?\")"
   ]
  },
  {
   "cell_type": "code",
   "execution_count": 35,
   "id": "98d48b7d",
   "metadata": {},
   "outputs": [
    {
     "name": "stdout",
     "output_type": "stream",
     "text": [
      "The slowest run took 4.28 times longer than the fastest. This could mean that an intermediate result is being cached.\n",
      "1.52 s ± 808 ms per loop (mean ± std. dev. of 7 runs, 1 loop each)\n"
     ]
    }
   ],
   "source": [
    "%%timeit\n",
    "get_answer(yagpt_chain, \"К кому обратиться по вопросам стипендии?\")"
   ]
  },
  {
   "cell_type": "markdown",
   "id": "8a90b576",
   "metadata": {},
   "source": [
    "### OpenChat-3.5-0106\n",
    "\n",
    "https://github.com/imoneoi/openchat\n",
    "\n",
    "запущена на NVIDIA A100-PCIE-40GB"
   ]
  },
  {
   "cell_type": "code",
   "execution_count": 23,
   "id": "241b42f7",
   "metadata": {},
   "outputs": [
    {
     "data": {
      "text/plain": [
       "'К Сервисному центру бухгалтерии. Написать на почту 12222@utmn.ru или позвонить (3452) 59-76-76. Адрес: г. Тюмень, ул. Кирова, д. 25/1. Часы работы: пн-чт 09:00-17:00, пт 09:00-16:00, обед 12:30-13:15, сб, вс - выходные дни.'"
      ]
     },
     "execution_count": 23,
     "metadata": {},
     "output_type": "execute_result"
    }
   ],
   "source": [
    "from langchain_openai import ChatOpenAI\n",
    "\n",
    "openchat = ChatOpenAI(\n",
    "    model=\"openchat_3.5\",\n",
    "    openai_api_key=\"EMPTY\",\n",
    "    openai_api_base=openchat_host,\n",
    "    temperature=0.6,\n",
    ")\n",
    "\n",
    "openchat_chain = prompt | openchat\n",
    "get_answer(openchat_chain, \"К кому обратиться по вопросам стипендии?\")"
   ]
  },
  {
   "cell_type": "code",
   "execution_count": 24,
   "id": "394a369a",
   "metadata": {},
   "outputs": [
    {
     "name": "stdout",
     "output_type": "stream",
     "text": [
      "2.02 s ± 404 ms per loop (mean ± std. dev. of 7 runs, 1 loop each)\n"
     ]
    }
   ],
   "source": [
    "%%timeit\n",
    "get_answer(openchat_chain, \"К кому обратиться по вопросам стипендии?\")"
   ]
  },
  {
   "cell_type": "markdown",
   "id": "35ca43f9",
   "metadata": {},
   "source": [
    "### 1. Тест всего пайплайна"
   ]
  },
  {
   "cell_type": "markdown",
   "id": "9af18ea7",
   "metadata": {},
   "source": [
    "#### GigaChat"
   ]
  },
  {
   "cell_type": "code",
   "execution_count": 42,
   "id": "5a6ae865",
   "metadata": {},
   "outputs": [
    {
     "name": "stderr",
     "output_type": "stream",
     "text": [
      "AUTHENTICATION ERROR\n"
     ]
    },
    {
     "data": {
      "text/plain": [
       "0    Вам следует обратиться в Единый деканат по адр...\n",
       "1                                     Ответ не найден.\n",
       "2    Для восстановления проходки необходимо подать ...\n",
       "3    Для замены физкультуры на посещение фитнес-клу...\n",
       "4    В течение 5 (пяти) рабочих дней со дня издания...\n",
       "dtype: object"
      ]
     },
     "execution_count": 42,
     "metadata": {},
     "output_type": "execute_result"
    }
   ],
   "source": [
    "gigachat_answers = []\n",
    "for index, row in test_dataset_qda.iterrows():\n",
    "    gigachat_answers.append(get_answer(giga_chain, row['question']))\n",
    "gigachat_answers = pd.Series(gigachat_answers)\n",
    "gigachat_answers.head(5)"
   ]
  },
  {
   "cell_type": "code",
   "execution_count": 44,
   "id": "ea0085a1",
   "metadata": {},
   "outputs": [
    {
     "name": "stderr",
     "output_type": "stream",
     "text": [
      "Warning: Empty reference sentence detected; setting raw BERTScores to 0.\n",
      "Warning: Empty reference sentence detected; setting raw BERTScores to 0.\n"
     ]
    },
    {
     "data": {
      "text/plain": [
       "'Precision: 0.607 Recall: 0.640 F1 score: 0.621'"
      ]
     },
     "execution_count": 44,
     "metadata": {},
     "output_type": "execute_result"
    }
   ],
   "source": [
    "P, R, F1 = scorer.score(list(test_dataset_qda[\"human_answer\"]), list(gigachat_answers.apply(lambda x: '' if \"вет не найден\" in x else x)))\n",
    "f\"Precision: {P.mean():.3f} Recall: {R.mean():.3f} F1 score: {F1.mean():.3f}\""
   ]
  },
  {
   "cell_type": "markdown",
   "id": "2e911995",
   "metadata": {},
   "source": [
    "#### GigaChat Pro"
   ]
  },
  {
   "cell_type": "code",
   "execution_count": 86,
   "id": "cd7083e8",
   "metadata": {},
   "outputs": [
    {
     "data": {
      "text/plain": [
       "0    Вам необходимо обратиться в Единый деканат по ...\n",
       "1                                     Ответ не найден.\n",
       "2    Если вы потеряли магнитную карту (пропуск, про...\n",
       "3    Для замены практических занятий по физкультуре...\n",
       "4    Студенческий билет выдадут в течение 5 рабочих...\n",
       "dtype: object"
      ]
     },
     "execution_count": 86,
     "metadata": {},
     "output_type": "execute_result"
    }
   ],
   "source": [
    "gigachat_pro_answers = []\n",
    "for index, row in test_dataset_qda.iterrows():\n",
    "    gigachat_pro_answers.append(get_answer(giga_pro_chain, row['question']))\n",
    "gigachat_pro_answers = pd.Series(gigachat_pro_answers)\n",
    "gigachat_pro_answers.head(5)"
   ]
  },
  {
   "cell_type": "code",
   "execution_count": 87,
   "id": "23dfa3b0",
   "metadata": {},
   "outputs": [
    {
     "name": "stderr",
     "output_type": "stream",
     "text": [
      "Warning: Empty reference sentence detected; setting raw BERTScores to 0.\n",
      "Warning: Empty reference sentence detected; setting raw BERTScores to 0.\n"
     ]
    },
    {
     "data": {
      "text/plain": [
       "'Precision: 0.680 Recall: 0.691 F1 score: 0.683'"
      ]
     },
     "execution_count": 87,
     "metadata": {},
     "output_type": "execute_result"
    }
   ],
   "source": [
    "P, R, F1 = scorer.score(list(test_dataset_qda[\"human_answer\"]), list(gigachat_pro_answers.apply(lambda x: '' if \"вет не найден\" in x else x)))\n",
    "f\"Precision: {P.mean():.3f} Recall: {R.mean():.3f} F1 score: {F1.mean():.3f}\""
   ]
  },
  {
   "cell_type": "markdown",
   "id": "bdeca2ae",
   "metadata": {},
   "source": [
    "#### YandexGPT 3"
   ]
  },
  {
   "cell_type": "code",
   "execution_count": 30,
   "id": "b11b906c",
   "metadata": {},
   "outputs": [
    {
     "data": {
      "text/plain": [
       "0    Вам нужно подать заявление на восстановление м...\n",
       "1                                     Ответ не найден.\n",
       "2    Необходимо подать заявление на восстановление ...\n",
       "3    Для оформления посещения частного фитнес-клуба...\n",
       "4    В течение 5 рабочих дней со дня издания приказ...\n",
       "dtype: object"
      ]
     },
     "execution_count": 30,
     "metadata": {},
     "output_type": "execute_result"
    }
   ],
   "source": [
    "yagpt_answers = []\n",
    "for index, row in test_dataset_qda.iterrows():\n",
    "    yagpt_answers.append(get_answer(yagpt_chain, row['question']))\n",
    "yagpt_answers = pd.Series(yagpt_answers)\n",
    "yagpt_answers.head(5)"
   ]
  },
  {
   "cell_type": "code",
   "execution_count": 31,
   "id": "7230aaea",
   "metadata": {},
   "outputs": [
    {
     "name": "stderr",
     "output_type": "stream",
     "text": [
      "Warning: Empty reference sentence detected; setting raw BERTScores to 0.\n"
     ]
    },
    {
     "data": {
      "text/plain": [
       "'Precision: 0.678 Recall: 0.686 F1 score: 0.679'"
      ]
     },
     "execution_count": 31,
     "metadata": {},
     "output_type": "execute_result"
    }
   ],
   "source": [
    "P, R, F1 = scorer.score(list(test_dataset_qda[\"human_answer\"]), list(yagpt_answers.apply(lambda x: '' if \"вет не найден\" in x else x)))\n",
    "f\"Precision: {P.mean():.3f} Recall: {R.mean():.3f} F1 score: {F1.mean():.3f}\""
   ]
  },
  {
   "cell_type": "markdown",
   "id": "cb703ff8",
   "metadata": {},
   "source": [
    "#### OpenChat-3.5"
   ]
  },
  {
   "cell_type": "code",
   "execution_count": 25,
   "id": "6440dedc",
   "metadata": {},
   "outputs": [
    {
     "data": {
      "text/plain": [
       "0    К Единому деканату по адресу: ул. Семакова, д....\n",
       "1                                     Ответ не найден.\n",
       "2    При потере проходки необходимо подать заявлени...\n",
       "3    Чтобы заменить физкультуру, вам необходимо пре...\n",
       "4    В течение 5 (пяти) рабочих дней со дня издания...\n",
       "dtype: object"
      ]
     },
     "execution_count": 25,
     "metadata": {},
     "output_type": "execute_result"
    }
   ],
   "source": [
    "openchat_answers = []\n",
    "for index, row in test_dataset_qda.iterrows():\n",
    "    openchat_answers.append(get_answer(openchat_chain, row['question']))\n",
    "openchat_answers = pd.Series(openchat_answers)\n",
    "openchat_answers.head(5)"
   ]
  },
  {
   "cell_type": "code",
   "execution_count": 26,
   "id": "e3d8c543",
   "metadata": {},
   "outputs": [
    {
     "name": "stderr",
     "output_type": "stream",
     "text": [
      "Warning: Empty reference sentence detected; setting raw BERTScores to 0.\n",
      "Warning: Empty reference sentence detected; setting raw BERTScores to 0.\n"
     ]
    },
    {
     "data": {
      "text/plain": [
       "'Precision: 0.633 Recall: 0.656 F1 score: 0.642'"
      ]
     },
     "execution_count": 26,
     "metadata": {},
     "output_type": "execute_result"
    }
   ],
   "source": [
    "P, R, F1 = scorer.score(list(test_dataset_qda[\"human_answer\"]), list(openchat_answers.apply(lambda x: '' if \"вет не найден\" in x else x)))\n",
    "f\"Precision: {P.mean():.3f} Recall: {R.mean():.3f} F1 score: {F1.mean():.3f}\""
   ]
  },
  {
   "cell_type": "markdown",
   "id": "dcb3418f",
   "metadata": {},
   "source": [
    "### 2. Тест генерации по заранее найденному документу"
   ]
  },
  {
   "cell_type": "markdown",
   "id": "ab48fddf",
   "metadata": {},
   "source": [
    "#### GigaChat"
   ]
  },
  {
   "cell_type": "code",
   "execution_count": 71,
   "id": "fb84ec09",
   "metadata": {},
   "outputs": [
    {
     "name": "stderr",
     "output_type": "stream",
     "text": [
      "AUTHENTICATION ERROR\n"
     ]
    },
    {
     "data": {
      "text/plain": [
       "0    Вам следует обратиться в Единый деканат по адр...\n",
       "1    Заявления на восстановление в Университет по о...\n",
       "2    Для восстановления проходки необходимо подать ...\n",
       "3    Для замены физкультуры необходимо обратиться к...\n",
       "4    В течение 5 (пяти) рабочих дней со дня издания...\n",
       "dtype: object"
      ]
     },
     "execution_count": 71,
     "metadata": {},
     "output_type": "execute_result"
    }
   ],
   "source": [
    "gigachat_answers = []\n",
    "for index, row in test_dataset_qda.iterrows():\n",
    "    gigachat_answers.append(get_answer(giga_chain, row['question'], row['document']))\n",
    "gigachat_answers = pd.Series(gigachat_answers)\n",
    "gigachat_answers.head(5)"
   ]
  },
  {
   "cell_type": "code",
   "execution_count": 72,
   "id": "2565eccb",
   "metadata": {},
   "outputs": [
    {
     "name": "stderr",
     "output_type": "stream",
     "text": [
      "Warning: Empty reference sentence detected; setting raw BERTScores to 0.\n"
     ]
    },
    {
     "data": {
      "text/plain": [
       "'Precision: 0.680 Recall: 0.729 F1 score: 0.701'"
      ]
     },
     "execution_count": 72,
     "metadata": {},
     "output_type": "execute_result"
    }
   ],
   "source": [
    "P, R, F1 = scorer.score(list(test_dataset_qda[\"human_answer\"]), list(gigachat_answers.apply(lambda x: '' if len(x) < 18 else x)))\n",
    "f\"Precision: {P.mean():.3f} Recall: {R.mean():.3f} F1 score: {F1.mean():.3f}\""
   ]
  },
  {
   "cell_type": "markdown",
   "id": "1a9b5a92",
   "metadata": {},
   "source": [
    "#### GigaChat Pro"
   ]
  },
  {
   "cell_type": "code",
   "execution_count": 17,
   "id": "b95d01f5",
   "metadata": {},
   "outputs": [
    {
     "data": {
      "text/plain": [
       "0    Для подачи заявления на перевод в ТюмГУ из дру...\n",
       "1    Об элективах можно узнать на сервисе «Отзывус»...\n",
       "2    Заявление на выход из академического отпуска п...\n",
       "3                                     Ответ не найден.\n",
       "4    Если вам не пришла стипендия, вам следует обра...\n",
       "dtype: object"
      ]
     },
     "execution_count": 17,
     "metadata": {},
     "output_type": "execute_result"
    }
   ],
   "source": [
    "gigachat_pro_answers = []\n",
    "for index, row in test_dataset_qda[14:].iterrows():\n",
    "    gigachat_pro_answers.append(get_answer(giga_pro_chain, row['question'], row['document']))\n",
    "gigachat_pro_answers = pd.Series(gigachat_pro_answers)\n",
    "gigachat_pro_answers.head(5)"
   ]
  },
  {
   "cell_type": "code",
   "execution_count": 35,
   "id": "13bca3c5",
   "metadata": {},
   "outputs": [
    {
     "name": "stderr",
     "output_type": "stream",
     "text": [
      "Warning: Empty reference sentence detected; setting raw BERTScores to 0.\n"
     ]
    },
    {
     "data": {
      "text/plain": [
       "'Precision: 0.786 Recall: 0.789 F1 score: 0.785'"
      ]
     },
     "execution_count": 35,
     "metadata": {},
     "output_type": "execute_result"
    }
   ],
   "source": [
    "P, R, F1 = scorer.score(list(test_dataset_qda[\"human_answer\"]), list(gigachat_pro_answers.apply(lambda x: '' if len(x) < 18 else x)))\n",
    "f\"Precision: {P.mean():.3f} Recall: {R.mean():.3f} F1 score: {F1.mean():.3f}\""
   ]
  },
  {
   "cell_type": "markdown",
   "id": "72012dbb",
   "metadata": {},
   "source": [
    "#### YandexGPT 3\n",
    "\n",
    "тут возник такой мем: `ai.textGenerationCompletionRequestsPerHour.rate rate quota limit exceed: allowed 100 requests`\n",
    "\n",
    "хаха, лан, пошёл гулять в магаз"
   ]
  },
  {
   "cell_type": "code",
   "execution_count": 46,
   "id": "45ce3adc",
   "metadata": {},
   "outputs": [
    {
     "data": {
      "text/plain": [
       "0    Согласно тексту, для перевода в ТюмГУ необходи...\n",
       "1    Обратитесь к заключению врачебной комиссии. Ес...\n",
       "2    В представленном тексте есть информация только...\n",
       "3    Для того чтобы получить отпуск по уходу за реб...\n",
       "4    Заявление о выходе из академического отпуска п...\n",
       "dtype: object"
      ]
     },
     "execution_count": 46,
     "metadata": {},
     "output_type": "execute_result"
    }
   ],
   "source": [
    "yagpt_answers = []\n",
    "for index, row in test_dataset_qda.iterrows():\n",
    "    yagpt_answers.append(get_answer(yagpt_chain, row['question'], row['document']))\n",
    "yagpt_answers = pd.Series(yagpt_answers)\n",
    "yagpt_answers.head(5)"
   ]
  },
  {
   "cell_type": "code",
   "execution_count": 68,
   "id": "d81d7961",
   "metadata": {},
   "outputs": [
    {
     "name": "stderr",
     "output_type": "stream",
     "text": [
      "Warning: Empty reference sentence detected; setting raw BERTScores to 0.\n"
     ]
    },
    {
     "data": {
      "text/plain": [
       "'Precision: 0.792 Recall: 0.794 F1 score: 0.790'"
      ]
     },
     "execution_count": 68,
     "metadata": {},
     "output_type": "execute_result"
    }
   ],
   "source": [
    "P, R, F1 = scorer.score(list(test_dataset_qda[\"human_answer\"]), list(yagpt_answers.apply(lambda x: '' if len(x) < 18 else x)))\n",
    "f\"Precision: {P.mean():.3f} Recall: {R.mean():.3f} F1 score: {F1.mean():.3f}\""
   ]
  },
  {
   "cell_type": "markdown",
   "id": "508f9a92",
   "metadata": {},
   "source": [
    "#### OpenChat-3.5"
   ]
  },
  {
   "cell_type": "code",
   "execution_count": 33,
   "id": "8d400469",
   "metadata": {},
   "outputs": [
    {
     "data": {
      "text/plain": [
       "0    К Единому деканату по адресу: ул. Семакова, д....\n",
       "1    Заявления на восстановление в Университет по о...\n",
       "2    При потере проходки необходимо подать заявлени...\n",
       "3    Для замены обязательных занятий по физкультуре...\n",
       "4    В течение 5 (пяти) рабочих дней со дня издания...\n",
       "dtype: object"
      ]
     },
     "execution_count": 33,
     "metadata": {},
     "output_type": "execute_result"
    }
   ],
   "source": [
    "openchat_answers = []\n",
    "for index, row in test_dataset_qda.iterrows():\n",
    "    openchat_answers.append(get_answer(openchat_chain, row['question'], row['document']))\n",
    "openchat_answers = pd.Series(openchat_answers)\n",
    "openchat_answers.head(5)"
   ]
  },
  {
   "cell_type": "code",
   "execution_count": 28,
   "id": "ca4d8b0f",
   "metadata": {},
   "outputs": [
    {
     "name": "stderr",
     "output_type": "stream",
     "text": [
      "Warning: Empty reference sentence detected; setting raw BERTScores to 0.\n",
      "Warning: Empty reference sentence detected; setting raw BERTScores to 0.\n"
     ]
    },
    {
     "data": {
      "text/plain": [
       "'Precision: 0.727 Recall: 0.745 F1 score: 0.733'"
      ]
     },
     "execution_count": 28,
     "metadata": {},
     "output_type": "execute_result"
    }
   ],
   "source": [
    "P, R, F1 = scorer.score(list(test_dataset_qda[\"human_answer\"]), list(openchat_answers.apply(lambda x: '' if len(x) < 18 else x)))\n",
    "f\"Precision: {P.mean():.3f} Recall: {R.mean():.3f} F1 score: {F1.mean():.3f}\""
   ]
  },
  {
   "cell_type": "markdown",
   "id": "f29b72dd",
   "metadata": {},
   "source": [
    "### 3. Тест нахождения ответа"
   ]
  },
  {
   "cell_type": "code",
   "execution_count": 29,
   "id": "306e6dcb",
   "metadata": {},
   "outputs": [
    {
     "data": {
      "text/html": [
       "<div>\n",
       "<style scoped>\n",
       "    .dataframe tbody tr th:only-of-type {\n",
       "        vertical-align: middle;\n",
       "    }\n",
       "\n",
       "    .dataframe tbody tr th {\n",
       "        vertical-align: top;\n",
       "    }\n",
       "\n",
       "    .dataframe thead th {\n",
       "        text-align: right;\n",
       "    }\n",
       "</style>\n",
       "<table border=\"1\" class=\"dataframe\">\n",
       "  <thead>\n",
       "    <tr style=\"text-align: right;\">\n",
       "      <th></th>\n",
       "      <th>question</th>\n",
       "      <th>document</th>\n",
       "      <th>label</th>\n",
       "    </tr>\n",
       "  </thead>\n",
       "  <tbody>\n",
       "    <tr>\n",
       "      <th>53</th>\n",
       "      <td>Какие существуют методы повышения академическо...</td>\n",
       "      <td>Для оформления академической справки ( справки...</td>\n",
       "      <td>0</td>\n",
       "    </tr>\n",
       "    <tr>\n",
       "      <th>42</th>\n",
       "      <td>Как преподаватели могут эффективно использоват...</td>\n",
       "      <td>Сопровождение специализированных образовательн...</td>\n",
       "      <td>0</td>\n",
       "    </tr>\n",
       "    <tr>\n",
       "      <th>1</th>\n",
       "      <td>Даты подачи заявления для восстановления на очку</td>\n",
       "      <td>Заявления на восстановление в Университет по о...</td>\n",
       "      <td>1</td>\n",
       "    </tr>\n",
       "    <tr>\n",
       "      <th>61</th>\n",
       "      <td>Какие существуют методы повышения качества обу...</td>\n",
       "      <td>Документ подписан простой электронной подписью...</td>\n",
       "      <td>0</td>\n",
       "    </tr>\n",
       "    <tr>\n",
       "      <th>47</th>\n",
       "      <td>Как студентам лучше всего искать и использоват...</td>\n",
       "      <td>Для оформления академической справки ( справки...</td>\n",
       "      <td>0</td>\n",
       "    </tr>\n",
       "  </tbody>\n",
       "</table>\n",
       "</div>"
      ],
      "text/plain": [
       "                                             question  \\\n",
       "53  Какие существуют методы повышения академическо...   \n",
       "42  Как преподаватели могут эффективно использоват...   \n",
       "1    Даты подачи заявления для восстановления на очку   \n",
       "61  Какие существуют методы повышения качества обу...   \n",
       "47  Как студентам лучше всего искать и использоват...   \n",
       "\n",
       "                                             document  label  \n",
       "53  Для оформления академической справки ( справки...      0  \n",
       "42  Сопровождение специализированных образовательн...      0  \n",
       "1   Заявления на восстановление в Университет по о...      1  \n",
       "61  Документ подписан простой электронной подписью...      0  \n",
       "47  Для оформления академической справки ( справки...      0  "
      ]
     },
     "execution_count": 29,
     "metadata": {},
     "output_type": "execute_result"
    }
   ],
   "source": [
    "# generated by CohereForAI/c4ai-command-r-plus\n",
    "random_questions = \"\"\"\n",
    "Какой процент студентов поступает в университет из другой страны?\n",
    "Какие факторы влияют на выбор студентами своего учебного заведения?\n",
    "Какие существуют методы повышения мотивации студентов во время обучения?\n",
    "Какие существуют методы борьбы с академическим плагиатом?\n",
    "Как развиваются онлайн-курсы и дистанционное обучение в современном университете?\n",
    "Какие существуют методы повышения академического Writing навыков у студентов?\n",
    "Как студентам лучше всего управлять своим временем для достижения академического успеха?\n",
    "Какие существуют методы повышения активности студентов на лекциях?\n",
    "Как преподаватели могут эффективно использовать технологии в обучении?\n",
    "Какие существуют программы развития критического мышления у студентов?\n",
    "Как студентам лучше всего готовиться к экзаменам?\n",
    "Какие факторы влияют на успеваемость студентов?\n",
    "Какие существуют методы предотвращения студенческого стресса и выгорания?\n",
    "Как студентам лучше всего искать и использовать академические источники для своих работ?\n",
    "Какие существуют программы обучения за рубежом и как они влияют на студентов?\n",
    "Какой процент студентов совмещает работу и учебу?\n",
    "Какие существуют методы повышения разнообразия и инклюзивности в студенческом сообществе?\n",
    "Какой процент студентов продолжает обучение в аспирантуре?\n",
    "Какие факторы влияют на выбор студентами своей специальности?\n",
    "Какие существуют методы повышения академического честности?\n",
    "Как студентам лучше всего управлять своими финансами во время обучения?\n",
    "Какие существуют программы поддержки психического здоровья студентов?\n",
    "Какие существуют методы эффективного обучения в группе?\n",
    "Как преподаватели могут адаптировать свое обучение для разных стилей обучения студентов?\n",
    "Какие существуют программы развития межкультурной компетентности?\n",
    "Как студентам лучше всего искать стажировки и возможности для развития карьеры?\n",
    "Какие факторы влияют на вовлеченность студентов в учебный процесс?\n",
    "Какие существуют методы повышения качества обучения в университете?\n",
    "Как преподаватели могут эффективно использовать активные методы обучения?\n",
    "Какие существуют программы поддержки студентов из малообеспеченных семей?\n",
    "Какие существуют методы предотвращения студенческого отсева?\n",
    "Как студентам лучше всего развивать свои soft skills?\"\"\".split(\"\\n\")\n",
    "random_questions = pd.Series(random_questions)\n",
    "random_questions = pd.DataFrame({\"question\": random_questions, \"document\": random_questions.apply(answer_rusbert_finetuned), \"label\": 0})\n",
    "actual_questions = pd.DataFrame({\"question\": test_dataset_qda[\"question\"].head(33), \"document\": test_dataset_qda[\"document\"].head(33), \"label\": 1})\n",
    "question_documents_label = pd.concat([actual_questions, random_questions], ignore_index=True)\n",
    "question_documents_label.sample(5)"
   ]
  },
  {
   "cell_type": "markdown",
   "id": "ddd076e7",
   "metadata": {},
   "source": [
    "#### GigaChat"
   ]
  },
  {
   "cell_type": "code",
   "execution_count": 58,
   "id": "ce216457",
   "metadata": {},
   "outputs": [
    {
     "name": "stderr",
     "output_type": "stream",
     "text": [
      "AUTHENTICATION ERROR\n",
      "Giga generation stopped with reason: blacklist\n",
      "Giga generation stopped with reason: blacklist\n"
     ]
    },
    {
     "data": {
      "text/html": [
       "<div>\n",
       "<style scoped>\n",
       "    .dataframe tbody tr th:only-of-type {\n",
       "        vertical-align: middle;\n",
       "    }\n",
       "\n",
       "    .dataframe tbody tr th {\n",
       "        vertical-align: top;\n",
       "    }\n",
       "\n",
       "    .dataframe thead th {\n",
       "        text-align: right;\n",
       "    }\n",
       "</style>\n",
       "<table border=\"1\" class=\"dataframe\">\n",
       "  <thead>\n",
       "    <tr style=\"text-align: right;\">\n",
       "      <th></th>\n",
       "      <th>question</th>\n",
       "      <th>document</th>\n",
       "      <th>label</th>\n",
       "      <th>gigachat</th>\n",
       "    </tr>\n",
       "  </thead>\n",
       "  <tbody>\n",
       "    <tr>\n",
       "      <th>39</th>\n",
       "      <td>Как студентам лучше всего управлять своим врем...</td>\n",
       "      <td>Для оформления академической справки ( справки...</td>\n",
       "      <td>0</td>\n",
       "      <td>0</td>\n",
       "    </tr>\n",
       "    <tr>\n",
       "      <th>17</th>\n",
       "      <td>Даты подачи заявления для восстановления на за...</td>\n",
       "      <td>Заявления на восстановление в ТюмГУ принимаютс...</td>\n",
       "      <td>1</td>\n",
       "      <td>0</td>\n",
       "    </tr>\n",
       "    <tr>\n",
       "      <th>37</th>\n",
       "      <td>Как развиваются онлайн-курсы и дистанционное о...</td>\n",
       "      <td>Студенты очной формы обучения оформляют справк...</td>\n",
       "      <td>0</td>\n",
       "      <td>0</td>\n",
       "    </tr>\n",
       "    <tr>\n",
       "      <th>46</th>\n",
       "      <td>Как студентам лучше всего искать и использоват...</td>\n",
       "      <td>Для оформления академической справки ( справки...</td>\n",
       "      <td>0</td>\n",
       "      <td>0</td>\n",
       "    </tr>\n",
       "    <tr>\n",
       "      <th>30</th>\n",
       "      <td>Могу ли я восстановиться на заочке?</td>\n",
       "      <td>Заявления на восстановление в ТюмГУ принимаютс...</td>\n",
       "      <td>1</td>\n",
       "      <td>1</td>\n",
       "    </tr>\n",
       "  </tbody>\n",
       "</table>\n",
       "</div>"
      ],
      "text/plain": [
       "                                             question  \\\n",
       "39  Как студентам лучше всего управлять своим врем...   \n",
       "17  Даты подачи заявления для восстановления на за...   \n",
       "37  Как развиваются онлайн-курсы и дистанционное о...   \n",
       "46  Как студентам лучше всего искать и использоват...   \n",
       "30                Могу ли я восстановиться на заочке?   \n",
       "\n",
       "                                             document  label  gigachat  \n",
       "39  Для оформления академической справки ( справки...      0         0  \n",
       "17  Заявления на восстановление в ТюмГУ принимаютс...      1         0  \n",
       "37  Студенты очной формы обучения оформляют справк...      0         0  \n",
       "46  Для оформления академической справки ( справки...      0         0  \n",
       "30  Заявления на восстановление в ТюмГУ принимаютс...      1         1  "
      ]
     },
     "execution_count": 58,
     "metadata": {},
     "output_type": "execute_result"
    }
   ],
   "source": [
    "gigachat_answers = []\n",
    "for index, row in question_documents_label.iterrows():\n",
    "    gigachat_answers.append(get_answer(giga_chain, row['question'], row['document']))\n",
    "gigachat_answers = pd.Series(gigachat_answers)\n",
    "question_documents_label[\"gigachat\"] = gigachat_answers.apply(lambda x: 0 if \"вет не найден\" in x else 1)\n",
    "question_documents_label.sample(5)"
   ]
  },
  {
   "cell_type": "code",
   "execution_count": 60,
   "id": "0243ee8a",
   "metadata": {},
   "outputs": [
    {
     "data": {
      "text/plain": [
       "(0.8336397058823529, 0.8333333333333334, 0.8332950631458095, None)"
      ]
     },
     "execution_count": 60,
     "metadata": {},
     "output_type": "execute_result"
    }
   ],
   "source": [
    "from sklearn.metrics import precision_recall_fscore_support\n",
    "precision_recall_fscore_support(question_documents_label.label, question_documents_label.gigachat, average='weighted')"
   ]
  },
  {
   "cell_type": "markdown",
   "id": "b63f14ae",
   "metadata": {},
   "source": [
    "#### GigaChat Pro"
   ]
  },
  {
   "cell_type": "code",
   "execution_count": 17,
   "id": "9ee52db3",
   "metadata": {},
   "outputs": [
    {
     "name": "stderr",
     "output_type": "stream",
     "text": [
      "Giga generation stopped with reason: blacklist\n",
      "Giga generation stopped with reason: blacklist\n"
     ]
    }
   ],
   "source": [
    "gigachat_pro_answers = []\n",
    "for index, row in question_documents_label[42:].iterrows():\n",
    "    gigachat_pro_answers.append(get_answer(giga_pro_chain, row['question'], row['document']))\n",
    "gigachat_pro_answers = pd.Series(gigachat_pro_answers)"
   ]
  },
  {
   "cell_type": "code",
   "execution_count": 23,
   "id": "5e0ef359",
   "metadata": {},
   "outputs": [
    {
     "data": {
      "text/html": [
       "<div>\n",
       "<style scoped>\n",
       "    .dataframe tbody tr th:only-of-type {\n",
       "        vertical-align: middle;\n",
       "    }\n",
       "\n",
       "    .dataframe tbody tr th {\n",
       "        vertical-align: top;\n",
       "    }\n",
       "\n",
       "    .dataframe thead th {\n",
       "        text-align: right;\n",
       "    }\n",
       "</style>\n",
       "<table border=\"1\" class=\"dataframe\">\n",
       "  <thead>\n",
       "    <tr style=\"text-align: right;\">\n",
       "      <th></th>\n",
       "      <th>question</th>\n",
       "      <th>document</th>\n",
       "      <th>label</th>\n",
       "      <th>gigachat_pro</th>\n",
       "    </tr>\n",
       "  </thead>\n",
       "  <tbody>\n",
       "    <tr>\n",
       "      <th>56</th>\n",
       "      <td>Какие существуют методы эффективного обучения ...</td>\n",
       "      <td>Сопровождение специализированных образовательн...</td>\n",
       "      <td>0</td>\n",
       "      <td>0</td>\n",
       "    </tr>\n",
       "    <tr>\n",
       "      <th>34</th>\n",
       "      <td>Какой процент студентов поступает в университе...</td>\n",
       "      <td>Документ подписан простой электронной подписью...</td>\n",
       "      <td>0</td>\n",
       "      <td>0</td>\n",
       "    </tr>\n",
       "    <tr>\n",
       "      <th>65</th>\n",
       "      <td>Как студентам лучше всего развивать свои soft ...</td>\n",
       "      <td>Сопровождение специализированных образовательн...</td>\n",
       "      <td>0</td>\n",
       "      <td>0</td>\n",
       "    </tr>\n",
       "    <tr>\n",
       "      <th>51</th>\n",
       "      <td>Какой процент студентов продолжает обучение в ...</td>\n",
       "      <td>Документ подписан простой электронной подписью...</td>\n",
       "      <td>0</td>\n",
       "      <td>0</td>\n",
       "    </tr>\n",
       "    <tr>\n",
       "      <th>27</th>\n",
       "      <td>Куда обращаться по поводу оплаты обучения?</td>\n",
       "      <td>По вопросам оплаты обучения, суммы задолженнос...</td>\n",
       "      <td>1</td>\n",
       "      <td>1</td>\n",
       "    </tr>\n",
       "  </tbody>\n",
       "</table>\n",
       "</div>"
      ],
      "text/plain": [
       "                                             question  \\\n",
       "56  Какие существуют методы эффективного обучения ...   \n",
       "34  Какой процент студентов поступает в университе...   \n",
       "65  Как студентам лучше всего развивать свои soft ...   \n",
       "51  Какой процент студентов продолжает обучение в ...   \n",
       "27         Куда обращаться по поводу оплаты обучения?   \n",
       "\n",
       "                                             document  label  gigachat_pro  \n",
       "56  Сопровождение специализированных образовательн...      0             0  \n",
       "34  Документ подписан простой электронной подписью...      0             0  \n",
       "65  Сопровождение специализированных образовательн...      0             0  \n",
       "51  Документ подписан простой электронной подписью...      0             0  \n",
       "27  По вопросам оплаты обучения, суммы задолженнос...      1             1  "
      ]
     },
     "execution_count": 23,
     "metadata": {},
     "output_type": "execute_result"
    }
   ],
   "source": [
    "question_documents_label[\"gigachat_pro\"] = gigachat_pro_answers.apply(lambda x: 0 if \"вет не найден\" in x else 1)\n",
    "question_documents_label.sample(5)"
   ]
  },
  {
   "cell_type": "code",
   "execution_count": 24,
   "id": "7c42bb5d",
   "metadata": {},
   "outputs": [
    {
     "data": {
      "text/plain": [
       "(0.8273809523809524, 0.803030303030303, 0.7992982456140351, None)"
      ]
     },
     "execution_count": 24,
     "metadata": {},
     "output_type": "execute_result"
    }
   ],
   "source": [
    "from sklearn.metrics import precision_recall_fscore_support\n",
    "precision_recall_fscore_support(question_documents_label.label, question_documents_label.gigachat_pro, average='weighted')"
   ]
  },
  {
   "cell_type": "markdown",
   "id": "ef3da7ad",
   "metadata": {},
   "source": [
    "#### YandexGPT 3"
   ]
  },
  {
   "cell_type": "code",
   "execution_count": 78,
   "id": "e325a5ed",
   "metadata": {},
   "outputs": [
    {
     "data": {
      "text/html": [
       "<div>\n",
       "<style scoped>\n",
       "    .dataframe tbody tr th:only-of-type {\n",
       "        vertical-align: middle;\n",
       "    }\n",
       "\n",
       "    .dataframe tbody tr th {\n",
       "        vertical-align: top;\n",
       "    }\n",
       "\n",
       "    .dataframe thead th {\n",
       "        text-align: right;\n",
       "    }\n",
       "</style>\n",
       "<table border=\"1\" class=\"dataframe\">\n",
       "  <thead>\n",
       "    <tr style=\"text-align: right;\">\n",
       "      <th></th>\n",
       "      <th>question</th>\n",
       "      <th>document</th>\n",
       "      <th>label</th>\n",
       "      <th>yagpt</th>\n",
       "    </tr>\n",
       "  </thead>\n",
       "  <tbody>\n",
       "    <tr>\n",
       "      <th>57</th>\n",
       "      <td>Какие существуют программы развития межкультур...</td>\n",
       "      <td>Документ подписан простой электронной подписью...</td>\n",
       "      <td>0</td>\n",
       "      <td>1</td>\n",
       "    </tr>\n",
       "    <tr>\n",
       "      <th>0</th>\n",
       "      <td>Я потерял магнитную карту. К кому обратиться?</td>\n",
       "      <td>Для восстановления студенческого билета Вам не...</td>\n",
       "      <td>1</td>\n",
       "      <td>1</td>\n",
       "    </tr>\n",
       "    <tr>\n",
       "      <th>26</th>\n",
       "      <td>Где получить информацию о справке в военкомат?</td>\n",
       "      <td>Вам необходимо обратиться в Отдел мобилизацион...</td>\n",
       "      <td>1</td>\n",
       "      <td>1</td>\n",
       "    </tr>\n",
       "    <tr>\n",
       "      <th>14</th>\n",
       "      <td>Какие доки нужны для перевода в ТюмГУ из друго...</td>\n",
       "      <td>Пакет документов для подачи заявления на перев...</td>\n",
       "      <td>1</td>\n",
       "      <td>1</td>\n",
       "    </tr>\n",
       "    <tr>\n",
       "      <th>38</th>\n",
       "      <td>Какие существуют методы повышения академическо...</td>\n",
       "      <td>Сопровождение специализированных образовательн...</td>\n",
       "      <td>0</td>\n",
       "      <td>1</td>\n",
       "    </tr>\n",
       "  </tbody>\n",
       "</table>\n",
       "</div>"
      ],
      "text/plain": [
       "                                             question  \\\n",
       "57  Какие существуют программы развития межкультур...   \n",
       "0       Я потерял магнитную карту. К кому обратиться?   \n",
       "26     Где получить информацию о справке в военкомат?   \n",
       "14  Какие доки нужны для перевода в ТюмГУ из друго...   \n",
       "38  Какие существуют методы повышения академическо...   \n",
       "\n",
       "                                             document  label  yagpt  \n",
       "57  Документ подписан простой электронной подписью...      0      1  \n",
       "0   Для восстановления студенческого билета Вам не...      1      1  \n",
       "26  Вам необходимо обратиться в Отдел мобилизацион...      1      1  \n",
       "14  Пакет документов для подачи заявления на перев...      1      1  \n",
       "38  Сопровождение специализированных образовательн...      0      1  "
      ]
     },
     "execution_count": 78,
     "metadata": {},
     "output_type": "execute_result"
    }
   ],
   "source": [
    "yagpt_answers = []\n",
    "for index, row in question_documents_label.iterrows():\n",
    "    yagpt_answers.append(get_answer(yagpt_chain, row['question'], row['document']))\n",
    "yagpt_answers = pd.Series(yagpt_answers)\n",
    "question_documents_label[\"yagpt\"] = yagpt_answers.apply(lambda x: 0 if \"не найден\" in x else 1)\n",
    "question_documents_label.sample(5)"
   ]
  },
  {
   "cell_type": "code",
   "execution_count": 82,
   "id": "b67f51df",
   "metadata": {},
   "outputs": [
    {
     "data": {
      "text/plain": [
       "(0.4678362573099415, 0.48484848484848486, 0.40634920634920635, None)"
      ]
     },
     "execution_count": 82,
     "metadata": {},
     "output_type": "execute_result"
    }
   ],
   "source": [
    "from sklearn.metrics import precision_recall_fscore_support\n",
    "precision_recall_fscore_support(question_documents_label.label, question_documents_label.yagpt, average='weighted')"
   ]
  },
  {
   "cell_type": "markdown",
   "id": "7e828d55",
   "metadata": {},
   "source": [
    "#### OpenChat-3.5"
   ]
  },
  {
   "cell_type": "code",
   "execution_count": 30,
   "id": "af7c0aa8",
   "metadata": {},
   "outputs": [
    {
     "data": {
      "text/html": [
       "<div>\n",
       "<style scoped>\n",
       "    .dataframe tbody tr th:only-of-type {\n",
       "        vertical-align: middle;\n",
       "    }\n",
       "\n",
       "    .dataframe tbody tr th {\n",
       "        vertical-align: top;\n",
       "    }\n",
       "\n",
       "    .dataframe thead th {\n",
       "        text-align: right;\n",
       "    }\n",
       "</style>\n",
       "<table border=\"1\" class=\"dataframe\">\n",
       "  <thead>\n",
       "    <tr style=\"text-align: right;\">\n",
       "      <th></th>\n",
       "      <th>question</th>\n",
       "      <th>document</th>\n",
       "      <th>label</th>\n",
       "      <th>openchat</th>\n",
       "    </tr>\n",
       "  </thead>\n",
       "  <tbody>\n",
       "    <tr>\n",
       "      <th>34</th>\n",
       "      <td>Какой процент студентов поступает в университе...</td>\n",
       "      <td>Документ подписан простой электронной подписью...</td>\n",
       "      <td>0</td>\n",
       "      <td>1</td>\n",
       "    </tr>\n",
       "    <tr>\n",
       "      <th>41</th>\n",
       "      <td>Какие существуют методы повышения активности с...</td>\n",
       "      <td>Сопровождение специализированных образовательн...</td>\n",
       "      <td>0</td>\n",
       "      <td>1</td>\n",
       "    </tr>\n",
       "    <tr>\n",
       "      <th>0</th>\n",
       "      <td>Я потерял магнитную карту. К кому обратиться?</td>\n",
       "      <td>Для восстановления студенческого билета Вам не...</td>\n",
       "      <td>1</td>\n",
       "      <td>1</td>\n",
       "    </tr>\n",
       "    <tr>\n",
       "      <th>15</th>\n",
       "      <td>Где можно узнать об элективах?</td>\n",
       "      <td>Прежде, чем выбрать элективы, рекомендуем почи...</td>\n",
       "      <td>1</td>\n",
       "      <td>1</td>\n",
       "    </tr>\n",
       "    <tr>\n",
       "      <th>4</th>\n",
       "      <td>Когда мне выдадут студенческий билет после пер...</td>\n",
       "      <td>1. Подать заявление о переводе можно лично, об...</td>\n",
       "      <td>1</td>\n",
       "      <td>1</td>\n",
       "    </tr>\n",
       "  </tbody>\n",
       "</table>\n",
       "</div>"
      ],
      "text/plain": [
       "                                             question  \\\n",
       "34  Какой процент студентов поступает в университе...   \n",
       "41  Какие существуют методы повышения активности с...   \n",
       "0       Я потерял магнитную карту. К кому обратиться?   \n",
       "15                     Где можно узнать об элективах?   \n",
       "4   Когда мне выдадут студенческий билет после пер...   \n",
       "\n",
       "                                             document  label  openchat  \n",
       "34  Документ подписан простой электронной подписью...      0         1  \n",
       "41  Сопровождение специализированных образовательн...      0         1  \n",
       "0   Для восстановления студенческого билета Вам не...      1         1  \n",
       "15  Прежде, чем выбрать элективы, рекомендуем почи...      1         1  \n",
       "4   1. Подать заявление о переводе можно лично, об...      1         1  "
      ]
     },
     "execution_count": 30,
     "metadata": {},
     "output_type": "execute_result"
    }
   ],
   "source": [
    "openchat_answers = []\n",
    "for index, row in question_documents_label.iterrows():\n",
    "    openchat_answers.append(get_answer(openchat_chain, row['question'], row['document']))\n",
    "openchat_answers = pd.Series(openchat_answers)\n",
    "question_documents_label[\"openchat\"] = openchat_answers.apply(lambda x: 0 if \"не найден\" in x else 1)\n",
    "question_documents_label.sample(5)"
   ]
  },
  {
   "cell_type": "code",
   "execution_count": 31,
   "id": "2cf4e95c",
   "metadata": {},
   "outputs": [
    {
     "data": {
      "text/plain": [
       "(0.7414634146341463, 0.7272727272727273, 0.723205964585275, None)"
      ]
     },
     "execution_count": 31,
     "metadata": {},
     "output_type": "execute_result"
    }
   ],
   "source": [
    "from sklearn.metrics import precision_recall_fscore_support\n",
    "precision_recall_fscore_support(question_documents_label.label, question_documents_label.openchat, average='weighted')"
   ]
  }
 ],
 "metadata": {
  "kernelspec": {
   "display_name": "Python 3 (ipykernel)",
   "language": "python",
   "name": "python3"
  },
  "language_info": {
   "codemirror_mode": {
    "name": "ipython",
    "version": 3
   },
   "file_extension": ".py",
   "mimetype": "text/x-python",
   "name": "python",
   "nbconvert_exporter": "python",
   "pygments_lexer": "ipython3",
   "version": "3.12.3"
  }
 },
 "nbformat": 4,
 "nbformat_minor": 5
}
