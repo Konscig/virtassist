{
 "cells": [
  {
   "cell_type": "markdown",
   "id": "54d7d1e2-a651-49a0-8679-afdb399291de",
   "metadata": {},
   "source": [
    "# Confluence + LLM = QA"
   ]
  },
  {
   "cell_type": "code",
   "execution_count": 1,
   "id": "3ad8db59",
   "metadata": {},
   "outputs": [
    {
     "name": "stdout",
     "output_type": "stream",
     "text": [
      "Note: you may need to restart the kernel to use updated packages.\n"
     ]
    }
   ],
   "source": [
    "%pip install pandas --quiet"
   ]
  },
  {
   "cell_type": "code",
   "execution_count": 1,
   "id": "8b358331",
   "metadata": {},
   "outputs": [],
   "source": [
    "import numpy as np\n",
    "import pandas as pd"
   ]
  },
  {
   "cell_type": "code",
   "execution_count": 2,
   "id": "8a0752b6-6fa1-499f-a728-ff24a0416fe2",
   "metadata": {},
   "outputs": [],
   "source": [
    "from os import environ\n",
    "from dotenv import load_dotenv\n",
    "load_dotenv(dotenv_path=\"../.env\")\n",
    "\n",
    "confluence_host = environ.get('CONFLUENCE_HOST')\n",
    "confluence_token = environ.get('CONFLUENCE_TOKEN')\n",
    "hf_token = environ.get('HF_TOKEN')\n",
    "hf_write_token = environ.get('HF_WRITE_TOKEN')\n",
    "gigachat_token = environ.get('GIGACHAT_TOKEN')\n",
    "gigachat_pro_token = environ.get('GIGACHAT_PRO_TOKEN')\n",
    "yandex_token = environ.get('YC_API_KEY')\n",
    "openchat_host = environ.get('OPENCHAT_HOST')"
   ]
  },
  {
   "cell_type": "markdown",
   "id": "b8c1cadb",
   "metadata": {},
   "source": [
    "## Датасет"
   ]
  },
  {
   "cell_type": "markdown",
   "id": "1bf56ed5",
   "metadata": {},
   "source": [
    "### Выгрузка документов с Confluence"
   ]
  },
  {
   "cell_type": "code",
   "execution_count": 29,
   "id": "8ef0d447",
   "metadata": {},
   "outputs": [
    {
     "data": {
      "text/plain": [
       "124"
      ]
     },
     "execution_count": 29,
     "metadata": {},
     "output_type": "execute_result"
    }
   ],
   "source": [
    "from atlassian import Confluence\n",
    "from bs4 import BeautifulSoup\n",
    "from langchain.text_splitter import RecursiveCharacterTextSplitter, SentenceTransformersTokenTextSplitter\n",
    "from langchain_community.document_loaders import PyPDFLoader\n",
    "from langchain_core.documents import Document\n",
    "\n",
    "# text_splitter = SentenceTransformersTokenTextSplitter(model_name=\"nizamovtimur/rubert-tiny2-wikiutmn\")\n",
    "\n",
    "text_splitter = RecursiveCharacterTextSplitter(\n",
    "    chunk_size=4096,\n",
    "    chunk_overlap=200,\n",
    "    length_function=len,\n",
    "    is_separator_regex=False,\n",
    ")\n",
    "\n",
    "def get_document_content_by_id(confluence: Confluence, page_id: str) -> tuple[str | None, str | None]:\n",
    "    page = confluence.get_page_by_id(page_id, expand=\"space,body.export_view\")\n",
    "    page_link = page[\"_links\"][\"base\"] + page[\"_links\"][\"webui\"]\n",
    "    page_body = page[\"body\"][\"export_view\"][\"value\"]\n",
    "    page_download = (\n",
    "        page[\"_links\"][\"base\"] + page[\"_links\"][\"download\"]\n",
    "        if \"download\" in page[\"_links\"].keys()\n",
    "        else \"\"\n",
    "    )\n",
    "    try:\n",
    "        if len(page_body) > 50:\n",
    "            page_body = page[\"body\"][\"export_view\"][\"value\"]\n",
    "            soup = BeautifulSoup(page_body, \"html.parser\")\n",
    "            page_body_text = soup.get_text(separator=\" \")\n",
    "            page_content = page_body_text.replace(\" \\n \", \"\")\n",
    "        elif \".pdf\" in page_download.lower():\n",
    "            loader = PyPDFLoader(page_download.split(\"?\")[0])\n",
    "            page_content = \" \".join(\n",
    "                [page.page_content for page in loader.load_and_split()]\n",
    "            )\n",
    "        else:\n",
    "            return None, None\n",
    "    except Exception as e:\n",
    "        print(e)\n",
    "        return None, None\n",
    "    return page_content, page_link\n",
    "\n",
    "\n",
    "confluence = Confluence(url=confluence_host, token=confluence_token)\n",
    "page_ids = []\n",
    "count_start = 0\n",
    "limit = 100\n",
    "while True:\n",
    "    query = f\"space = study order by id\"\n",
    "    pages = confluence.cql(query, start=count_start, limit=limit)[\"results\"]\n",
    "    if len(pages) == 0:\n",
    "        break\n",
    "    page_ids += [\n",
    "        page[\"content\"][\"id\"] for page in pages if \"content\" in page.keys()\n",
    "    ]\n",
    "    count_start += limit\n",
    "confluence_documents = []\n",
    "for page_id in page_ids:\n",
    "    children = confluence.cql(f\"parent={page_id}\")[\"results\"]\n",
    "    if len(children) > 0:\n",
    "        continue\n",
    "    page_content, page_link = get_document_content_by_id(confluence, page_id)\n",
    "    if page_content is None:\n",
    "        continue\n",
    "    confluence_documents.append(\n",
    "        Document(page_content=page_content, metadata={\"page_link\": page_link})\n",
    "    )\n",
    "\n",
    "confluence_documents = text_splitter.split_documents(confluence_documents)\n",
    "len(confluence_documents)"
   ]
  },
  {
   "cell_type": "markdown",
   "id": "4fa11dae",
   "metadata": {},
   "source": [
    "### Генерация вопросов с помощью LLM"
   ]
  },
  {
   "cell_type": "code",
   "execution_count": 16,
   "id": "e695bde1",
   "metadata": {},
   "outputs": [],
   "source": [
    "from langchain.prompts import PromptTemplate\n",
    "\n",
    "prompt_template = \"\"\"\n",
    "Сделай глубокий вдох и действуй как студент. Составь 3 разнообразных вопроса к документу в тройных кавычках. Используй разговорный стиль речи и студенческую лексику. Отвечать на вопросы не нужно, напиши каждый вопрос с новой строки.\n",
    "\n",
    "\\\"\\\"\\\"\n",
    "{content}\n",
    "\\\"\\\"\\\"\n",
    "\n",
    "Вопросы:\n",
    "\"\"\"\n",
    "\n",
    "prompt = PromptTemplate.from_template(prompt_template)"
   ]
  },
  {
   "cell_type": "code",
   "execution_count": 19,
   "id": "ce61c358",
   "metadata": {},
   "outputs": [
    {
     "data": {
      "text/plain": [
       "'\"Как я могу сделать справку-вызов самостоятельно и какие шаги мне нужно выполнить для этого?\"\\n\\n\"Что мне нужно делать, если я имею академическую задолженность за предыдущую сессию?\"\\n\\n\"Можно ли мне оформить справку-вызов на текущую сессию, если я обучаюсь заочной формой и сдал предыдущую сессию не успешно?\"'"
      ]
     },
     "execution_count": 19,
     "metadata": {},
     "output_type": "execute_result"
    }
   ],
   "source": [
    "from langchain_openai import ChatOpenAI\n",
    "\n",
    "openchat = ChatOpenAI(\n",
    "    # model=\"openchat_3.5\",\n",
    "    model=\"saiga_llama3_8b\",\n",
    "    openai_api_key=\"EMPTY\",\n",
    "    openai_api_base=openchat_host,\n",
    "    temperature=0.6,\n",
    ")\n",
    "\n",
    "openchat_chain = prompt | openchat\n",
    "openchat_chain.invoke({\"content\": confluence_documents[0].page_content}).content"
   ]
  },
  {
   "cell_type": "code",
   "execution_count": null,
   "id": "33fa37ce",
   "metadata": {},
   "outputs": [],
   "source": [
    "openchat_docs = []\n",
    "for doc in confluence_documents:\n",
    "    query = {\"content\": doc.page_content}\n",
    "    chat_questions = openchat_chain.invoke(query).content.strip().split(\"\\n\")\n",
    "    print(chat_questions)\n",
    "    for q in chat_questions:\n",
    "        q = q.strip()\n",
    "        if len(q) < 5:\n",
    "            continue\n",
    "        openchat_docs.append({\n",
    "            \"question\": q,\n",
    "            \"document\": doc.page_content\n",
    "        })\n",
    "openchat_docs = pd.DataFrame(openchat_docs)\n",
    "openchat_docs"
   ]
  },
  {
   "cell_type": "code",
   "execution_count": 29,
   "id": "b7776b86",
   "metadata": {},
   "outputs": [
    {
     "data": {
      "text/html": [
       "<div>\n",
       "<style scoped>\n",
       "    .dataframe tbody tr th:only-of-type {\n",
       "        vertical-align: middle;\n",
       "    }\n",
       "\n",
       "    .dataframe tbody tr th {\n",
       "        vertical-align: top;\n",
       "    }\n",
       "\n",
       "    .dataframe thead th {\n",
       "        text-align: right;\n",
       "    }\n",
       "</style>\n",
       "<table border=\"1\" class=\"dataframe\">\n",
       "  <thead>\n",
       "    <tr style=\"text-align: right;\">\n",
       "      <th></th>\n",
       "      <th>question</th>\n",
       "      <th>document</th>\n",
       "    </tr>\n",
       "  </thead>\n",
       "  <tbody>\n",
       "    <tr>\n",
       "      <th>0</th>\n",
       "      <td>Как я могу сформировать справку-вызов самостоя...</td>\n",
       "      <td>Сформировать справку-вызов Вы можете самостоят...</td>\n",
       "    </tr>\n",
       "    <tr>\n",
       "      <th>1</th>\n",
       "      <td>Сколько времени у меня есть до начала сессии, ...</td>\n",
       "      <td>Сформировать справку-вызов Вы можете самостоят...</td>\n",
       "    </tr>\n",
       "    <tr>\n",
       "      <th>2</th>\n",
       "      <td>Если я не уложил работы за прошлую сессию, мог...</td>\n",
       "      <td>Сформировать справку-вызов Вы можете самостоят...</td>\n",
       "    </tr>\n",
       "    <tr>\n",
       "      <th>3</th>\n",
       "      <td>\"Какой адрес и номер кабинета нужно указать дл...</td>\n",
       "      <td>По вопросу получения справки для военкомата Ва...</td>\n",
       "    </tr>\n",
       "    <tr>\n",
       "      <th>4</th>\n",
       "      <td>Какие терминалы доступны для оформления справк...</td>\n",
       "      <td>Студенты очной формы обучения оформляют справк...</td>\n",
       "    </tr>\n",
       "    <tr>\n",
       "      <th>...</th>\n",
       "      <td>...</td>\n",
       "      <td>...</td>\n",
       "    </tr>\n",
       "    <tr>\n",
       "      <th>332</th>\n",
       "      <td>Что является основанием для принятия решения К...</td>\n",
       "      <td>деятельности  в соответствии с критериями, ука...</td>\n",
       "    </tr>\n",
       "    <tr>\n",
       "      <th>333</th>\n",
       "      <td>Что происходит с оставшимися заявлениями обуча...</td>\n",
       "      <td>деятельности  в соответствии с критериями, ука...</td>\n",
       "    </tr>\n",
       "    <tr>\n",
       "      <th>334</th>\n",
       "      <td>Что такое Школа перспективных исследований (SA...</td>\n",
       "      <td>Институт экологической и сельскохозяйственной ...</td>\n",
       "    </tr>\n",
       "    <tr>\n",
       "      <th>335</th>\n",
       "      <td>Какие факультеты находятся в Институте социаль...</td>\n",
       "      <td>Институт экологической и сельскохозяйственной ...</td>\n",
       "    </tr>\n",
       "    <tr>\n",
       "      <th>336</th>\n",
       "      <td>Что такое Передовая инженерная школа (ПИШ) и г...</td>\n",
       "      <td>Институт экологической и сельскохозяйственной ...</td>\n",
       "    </tr>\n",
       "  </tbody>\n",
       "</table>\n",
       "<p>109 rows × 2 columns</p>\n",
       "</div>"
      ],
      "text/plain": [
       "                                              question  \\\n",
       "0    Как я могу сформировать справку-вызов самостоя...   \n",
       "1    Сколько времени у меня есть до начала сессии, ...   \n",
       "2    Если я не уложил работы за прошлую сессию, мог...   \n",
       "3    \"Какой адрес и номер кабинета нужно указать дл...   \n",
       "4    Какие терминалы доступны для оформления справк...   \n",
       "..                                                 ...   \n",
       "332  Что является основанием для принятия решения К...   \n",
       "333  Что происходит с оставшимися заявлениями обуча...   \n",
       "334  Что такое Школа перспективных исследований (SA...   \n",
       "335  Какие факультеты находятся в Институте социаль...   \n",
       "336  Что такое Передовая инженерная школа (ПИШ) и г...   \n",
       "\n",
       "                                              document  \n",
       "0    Сформировать справку-вызов Вы можете самостоят...  \n",
       "1    Сформировать справку-вызов Вы можете самостоят...  \n",
       "2    Сформировать справку-вызов Вы можете самостоят...  \n",
       "3    По вопросу получения справки для военкомата Ва...  \n",
       "4    Студенты очной формы обучения оформляют справк...  \n",
       "..                                                 ...  \n",
       "332  деятельности  в соответствии с критериями, ука...  \n",
       "333  деятельности  в соответствии с критериями, ука...  \n",
       "334  Институт экологической и сельскохозяйственной ...  \n",
       "335  Институт экологической и сельскохозяйственной ...  \n",
       "336  Институт экологической и сельскохозяйственной ...  \n",
       "\n",
       "[109 rows x 2 columns]"
      ]
     },
     "execution_count": 29,
     "metadata": {},
     "output_type": "execute_result"
    }
   ],
   "source": [
    "openchat_docs_mini = openchat_docs[openchat_docs.document.apply(len) < 3500]\n",
    "openchat_docs_mini"
   ]
  },
  {
   "cell_type": "code",
   "execution_count": 32,
   "id": "ffb87e40",
   "metadata": {},
   "outputs": [],
   "source": [
    "openchat_docs_mini.to_csv(\"openchat_docs_mini.csv\")"
   ]
  },
  {
   "cell_type": "markdown",
   "id": "b5627b19",
   "metadata": {},
   "source": [
    "### Загрузка датасета с Hugging Face"
   ]
  },
  {
   "cell_type": "code",
   "execution_count": 8,
   "id": "c7720f34",
   "metadata": {},
   "outputs": [
    {
     "name": "stdout",
     "output_type": "stream",
     "text": [
      "Note: you may need to restart the kernel to use updated packages.\n"
     ]
    }
   ],
   "source": [
    "%pip install datasets --quiet"
   ]
  },
  {
   "cell_type": "code",
   "execution_count": 3,
   "id": "fc108730",
   "metadata": {},
   "outputs": [
    {
     "name": "stderr",
     "output_type": "stream",
     "text": [
      "d:\\git\\virtassist\\.venv\\Lib\\site-packages\\tqdm\\auto.py:21: TqdmWarning: IProgress not found. Please update jupyter and ipywidgets. See https://ipywidgets.readthedocs.io/en/stable/user_install.html\n",
      "  from .autonotebook import tqdm as notebook_tqdm\n"
     ]
    },
    {
     "data": {
      "text/plain": [
       "(355, 67)"
      ]
     },
     "execution_count": 3,
     "metadata": {},
     "output_type": "execute_result"
    }
   ],
   "source": [
    "from datasets import load_dataset, DatasetDict\n",
    "\n",
    "dataset_qda = load_dataset(\"nizamovtimur/wikiutmn-study-gigachat\")\n",
    "if isinstance(dataset_qda, DatasetDict):\n",
    "    train_dataset_qda = dataset_qda['train'].to_pandas()\n",
    "    test_dataset_qda = dataset_qda['test'].to_pandas()\n",
    "else:\n",
    "    train_dataset_qda = pd.DataFrame()\n",
    "    test_dataset_qda = pd.DataFrame()\n",
    "len(train_dataset_qda), len(test_dataset_qda)"
   ]
  },
  {
   "cell_type": "code",
   "execution_count": 4,
   "id": "2451033a",
   "metadata": {},
   "outputs": [
    {
     "data": {
      "text/html": [
       "<div>\n",
       "<style scoped>\n",
       "    .dataframe tbody tr th:only-of-type {\n",
       "        vertical-align: middle;\n",
       "    }\n",
       "\n",
       "    .dataframe tbody tr th {\n",
       "        vertical-align: top;\n",
       "    }\n",
       "\n",
       "    .dataframe thead th {\n",
       "        text-align: right;\n",
       "    }\n",
       "</style>\n",
       "<table border=\"1\" class=\"dataframe\">\n",
       "  <thead>\n",
       "    <tr style=\"text-align: right;\">\n",
       "      <th></th>\n",
       "      <th>question</th>\n",
       "      <th>document</th>\n",
       "      <th>human_answer</th>\n",
       "    </tr>\n",
       "  </thead>\n",
       "  <tbody>\n",
       "    <tr>\n",
       "      <th>0</th>\n",
       "      <td>Где продлять студак?</td>\n",
       "      <td>Для восстановления студенческого билета Вам не...</td>\n",
       "      <td></td>\n",
       "    </tr>\n",
       "    <tr>\n",
       "      <th>1</th>\n",
       "      <td>Когда можно получить справку о стипендии?</td>\n",
       "      <td>По вопросу получения справки о доходах, размер...</td>\n",
       "      <td></td>\n",
       "    </tr>\n",
       "    <tr>\n",
       "      <th>2</th>\n",
       "      <td>Как перевестись на другое направление на заочке?</td>\n",
       "      <td>Заявления о переводе принимаются два раза в го...</td>\n",
       "      <td></td>\n",
       "    </tr>\n",
       "    <tr>\n",
       "      <th>3</th>\n",
       "      <td>Как перевестись на другое направление?</td>\n",
       "      <td>Заявления о переводе принимаются два раза в го...</td>\n",
       "      <td></td>\n",
       "    </tr>\n",
       "    <tr>\n",
       "      <th>4</th>\n",
       "      <td>Могу ли я в последний момент отказаться от сме...</td>\n",
       "      <td>Прежде, чем выбрать элективы, рекомендуем почи...</td>\n",
       "      <td></td>\n",
       "    </tr>\n",
       "    <tr>\n",
       "      <th>...</th>\n",
       "      <td>...</td>\n",
       "      <td>...</td>\n",
       "      <td>...</td>\n",
       "    </tr>\n",
       "    <tr>\n",
       "      <th>350</th>\n",
       "      <td>Как оформляются результаты промежуточной аттес...</td>\n",
       "      <td>проведения промежуточной аттестации, за исключ...</td>\n",
       "      <td></td>\n",
       "    </tr>\n",
       "    <tr>\n",
       "      <th>351</th>\n",
       "      <td>Кто несет ответственность за правильность офор...</td>\n",
       "      <td>проведения промежуточной аттестации, за исключ...</td>\n",
       "      <td></td>\n",
       "    </tr>\n",
       "    <tr>\n",
       "      <th>352</th>\n",
       "      <td>Что происходит с оценками после прохождения пр...</td>\n",
       "      <td>. 6. 10. Из ведомости, за исключением электрон...</td>\n",
       "      <td></td>\n",
       "    </tr>\n",
       "    <tr>\n",
       "      <th>353</th>\n",
       "      <td>Кто несет ответственность за правильное внесен...</td>\n",
       "      <td>. 6. 10. Из ведомости, за исключением электрон...</td>\n",
       "      <td></td>\n",
       "    </tr>\n",
       "    <tr>\n",
       "      <th>354</th>\n",
       "      <td>Кто отвечает за внесение информации о результа...</td>\n",
       "      <td>. 6. 10. Из ведомости, за исключением электрон...</td>\n",
       "      <td></td>\n",
       "    </tr>\n",
       "  </tbody>\n",
       "</table>\n",
       "<p>355 rows × 3 columns</p>\n",
       "</div>"
      ],
      "text/plain": [
       "                                              question  \\\n",
       "0                                 Где продлять студак?   \n",
       "1            Когда можно получить справку о стипендии?   \n",
       "2     Как перевестись на другое направление на заочке?   \n",
       "3               Как перевестись на другое направление?   \n",
       "4    Могу ли я в последний момент отказаться от сме...   \n",
       "..                                                 ...   \n",
       "350  Как оформляются результаты промежуточной аттес...   \n",
       "351  Кто несет ответственность за правильность офор...   \n",
       "352  Что происходит с оценками после прохождения пр...   \n",
       "353  Кто несет ответственность за правильное внесен...   \n",
       "354  Кто отвечает за внесение информации о результа...   \n",
       "\n",
       "                                              document human_answer  \n",
       "0    Для восстановления студенческого билета Вам не...               \n",
       "1    По вопросу получения справки о доходах, размер...               \n",
       "2    Заявления о переводе принимаются два раза в го...               \n",
       "3    Заявления о переводе принимаются два раза в го...               \n",
       "4    Прежде, чем выбрать элективы, рекомендуем почи...               \n",
       "..                                                 ...          ...  \n",
       "350  проведения промежуточной аттестации, за исключ...               \n",
       "351  проведения промежуточной аттестации, за исключ...               \n",
       "352  . 6. 10. Из ведомости, за исключением электрон...               \n",
       "353  . 6. 10. Из ведомости, за исключением электрон...               \n",
       "354  . 6. 10. Из ведомости, за исключением электрон...               \n",
       "\n",
       "[355 rows x 3 columns]"
      ]
     },
     "execution_count": 4,
     "metadata": {},
     "output_type": "execute_result"
    }
   ],
   "source": [
    "train_dataset_qda"
   ]
  },
  {
   "cell_type": "code",
   "execution_count": 5,
   "id": "583f3297",
   "metadata": {},
   "outputs": [
    {
     "data": {
      "text/html": [
       "<div>\n",
       "<style scoped>\n",
       "    .dataframe tbody tr th:only-of-type {\n",
       "        vertical-align: middle;\n",
       "    }\n",
       "\n",
       "    .dataframe tbody tr th {\n",
       "        vertical-align: top;\n",
       "    }\n",
       "\n",
       "    .dataframe thead th {\n",
       "        text-align: right;\n",
       "    }\n",
       "</style>\n",
       "<table border=\"1\" class=\"dataframe\">\n",
       "  <thead>\n",
       "    <tr style=\"text-align: right;\">\n",
       "      <th></th>\n",
       "      <th>question</th>\n",
       "      <th>document</th>\n",
       "      <th>human_answer</th>\n",
       "    </tr>\n",
       "  </thead>\n",
       "  <tbody>\n",
       "    <tr>\n",
       "      <th>0</th>\n",
       "      <td>Я потерял магнитную карту. К кому обратиться?</td>\n",
       "      <td>Для восстановления студенческого билета Вам не...</td>\n",
       "      <td>Если Вы потеряли магнитную карту ( пропуск, пр...</td>\n",
       "    </tr>\n",
       "    <tr>\n",
       "      <th>1</th>\n",
       "      <td>Даты подачи заявления для восстановления на очку</td>\n",
       "      <td>Заявления на восстановление в Университет по о...</td>\n",
       "      <td>Заявления на восстановление в Университет по о...</td>\n",
       "    </tr>\n",
       "    <tr>\n",
       "      <th>2</th>\n",
       "      <td>Что делать при потере проходки?</td>\n",
       "      <td>Для восстановления студенческого билета Вам не...</td>\n",
       "      <td>Если Вы потеряли магнитную карту ( пропуск, пр...</td>\n",
       "    </tr>\n",
       "    <tr>\n",
       "      <th>3</th>\n",
       "      <td>Я хожу в фитнес-клуб. Как заменить физкультуру?</td>\n",
       "      <td>Выбор спортивных секций по Физической культуре...</td>\n",
       "      <td>Для оформления посещения спортивного зала вмес...</td>\n",
       "    </tr>\n",
       "    <tr>\n",
       "      <th>4</th>\n",
       "      <td>Когда мне выдадут студенческий билет после пер...</td>\n",
       "      <td>1. Подать заявление о переводе можно лично, об...</td>\n",
       "      <td>В течение пяти рабочих дней после поступления ...</td>\n",
       "    </tr>\n",
       "    <tr>\n",
       "      <th>...</th>\n",
       "      <td>...</td>\n",
       "      <td>...</td>\n",
       "      <td>...</td>\n",
       "    </tr>\n",
       "    <tr>\n",
       "      <th>62</th>\n",
       "      <td>как закрыть физкультуру?</td>\n",
       "      <td>Выбор спортивных секций по Физической культуре...</td>\n",
       "      <td>1 ) Посещать академические занятия ( 3 балла з...</td>\n",
       "    </tr>\n",
       "    <tr>\n",
       "      <th>63</th>\n",
       "      <td>когда можно поменять элективы?</td>\n",
       "      <td>Прежде, чем выбрать элективы, рекомендуем почи...</td>\n",
       "      <td>Информация, о том, как поменять электив, отпра...</td>\n",
       "    </tr>\n",
       "    <tr>\n",
       "      <th>64</th>\n",
       "      <td>как получить справку о месте учёбы?</td>\n",
       "      <td>Студенты очной формы обучения оформляют справк...</td>\n",
       "      <td>Студенты очной формы обучения оформляют справк...</td>\n",
       "    </tr>\n",
       "    <tr>\n",
       "      <th>65</th>\n",
       "      <td>Как можно получать баллы за физру?</td>\n",
       "      <td>Выбор спортивных секций по Физической культуре...</td>\n",
       "      <td>1 ) Посещать академические занятия ( 3 балла з...</td>\n",
       "    </tr>\n",
       "    <tr>\n",
       "      <th>66</th>\n",
       "      <td>Где взять справку для военкомата?</td>\n",
       "      <td>Вам необходимо обратиться в Отдел мобилизацион...</td>\n",
       "      <td>Вам необходимо обратиться в Отдел мобилизацион...</td>\n",
       "    </tr>\n",
       "  </tbody>\n",
       "</table>\n",
       "<p>67 rows × 3 columns</p>\n",
       "</div>"
      ],
      "text/plain": [
       "                                             question  \\\n",
       "0       Я потерял магнитную карту. К кому обратиться?   \n",
       "1    Даты подачи заявления для восстановления на очку   \n",
       "2                     Что делать при потере проходки?   \n",
       "3     Я хожу в фитнес-клуб. Как заменить физкультуру?   \n",
       "4   Когда мне выдадут студенческий билет после пер...   \n",
       "..                                                ...   \n",
       "62                           как закрыть физкультуру?   \n",
       "63                     когда можно поменять элективы?   \n",
       "64                как получить справку о месте учёбы?   \n",
       "65                 Как можно получать баллы за физру?   \n",
       "66                  Где взять справку для военкомата?   \n",
       "\n",
       "                                             document  \\\n",
       "0   Для восстановления студенческого билета Вам не...   \n",
       "1   Заявления на восстановление в Университет по о...   \n",
       "2   Для восстановления студенческого билета Вам не...   \n",
       "3   Выбор спортивных секций по Физической культуре...   \n",
       "4   1. Подать заявление о переводе можно лично, об...   \n",
       "..                                                ...   \n",
       "62  Выбор спортивных секций по Физической культуре...   \n",
       "63  Прежде, чем выбрать элективы, рекомендуем почи...   \n",
       "64  Студенты очной формы обучения оформляют справк...   \n",
       "65  Выбор спортивных секций по Физической культуре...   \n",
       "66  Вам необходимо обратиться в Отдел мобилизацион...   \n",
       "\n",
       "                                         human_answer  \n",
       "0   Если Вы потеряли магнитную карту ( пропуск, пр...  \n",
       "1   Заявления на восстановление в Университет по о...  \n",
       "2   Если Вы потеряли магнитную карту ( пропуск, пр...  \n",
       "3   Для оформления посещения спортивного зала вмес...  \n",
       "4   В течение пяти рабочих дней после поступления ...  \n",
       "..                                                ...  \n",
       "62  1 ) Посещать академические занятия ( 3 балла з...  \n",
       "63  Информация, о том, как поменять электив, отпра...  \n",
       "64  Студенты очной формы обучения оформляют справк...  \n",
       "65  1 ) Посещать академические занятия ( 3 балла з...  \n",
       "66  Вам необходимо обратиться в Отдел мобилизацион...  \n",
       "\n",
       "[67 rows x 3 columns]"
      ]
     },
     "execution_count": 5,
     "metadata": {},
     "output_type": "execute_result"
    }
   ],
   "source": [
    "test_dataset_qda"
   ]
  },
  {
   "cell_type": "code",
   "execution_count": 6,
   "id": "ec9dba68",
   "metadata": {},
   "outputs": [
    {
     "data": {
      "text/plain": [
       "(827.7014925373135, 729.8501178155583, 134, 2685)"
      ]
     },
     "execution_count": 6,
     "metadata": {},
     "output_type": "execute_result"
    }
   ],
   "source": [
    "test_dataset_qda_docs_len = test_dataset_qda.document.apply(len)\n",
    "np.mean(test_dataset_qda_docs_len), np.std(test_dataset_qda_docs_len), np.min(test_dataset_qda_docs_len), np.max(test_dataset_qda_docs_len)"
   ]
  },
  {
   "cell_type": "markdown",
   "id": "5ce1284a",
   "metadata": {},
   "source": [
    "### Загрузка датасета из файла"
   ]
  },
  {
   "cell_type": "code",
   "execution_count": 17,
   "id": "605e5422",
   "metadata": {},
   "outputs": [
    {
     "data": {
      "text/html": [
       "<div>\n",
       "<style scoped>\n",
       "    .dataframe tbody tr th:only-of-type {\n",
       "        vertical-align: middle;\n",
       "    }\n",
       "\n",
       "    .dataframe tbody tr th {\n",
       "        vertical-align: top;\n",
       "    }\n",
       "\n",
       "    .dataframe thead th {\n",
       "        text-align: right;\n",
       "    }\n",
       "</style>\n",
       "<table border=\"1\" class=\"dataframe\">\n",
       "  <thead>\n",
       "    <tr style=\"text-align: right;\">\n",
       "      <th></th>\n",
       "      <th>question</th>\n",
       "      <th>document</th>\n",
       "    </tr>\n",
       "  </thead>\n",
       "  <tbody>\n",
       "    <tr>\n",
       "      <th>0</th>\n",
       "      <td>Как можно сформировать справку-вызов самостоят...</td>\n",
       "      <td>Сформировать справку - вызов Вы можете самосто...</td>\n",
       "    </tr>\n",
       "    <tr>\n",
       "      <th>1</th>\n",
       "      <td>Куда следует направлять подписанную скан-копию...</td>\n",
       "      <td>Сформировать справку - вызов Вы можете самосто...</td>\n",
       "    </tr>\n",
       "    <tr>\n",
       "      <th>2</th>\n",
       "      <td>Где можно получить справку для военкомата?</td>\n",
       "      <td>По вопросу получения справки для военкомата Ва...</td>\n",
       "    </tr>\n",
       "    <tr>\n",
       "      <th>4</th>\n",
       "      <td>Какой номер телефона у Отдела мобилизационной ...</td>\n",
       "      <td>По вопросу получения справки для военкомата Ва...</td>\n",
       "    </tr>\n",
       "    <tr>\n",
       "      <th>6</th>\n",
       "      <td>Какие места на территории Университета можно и...</td>\n",
       "      <td>Студенты очной формы обучения оформляют справк...</td>\n",
       "    </tr>\n",
       "  </tbody>\n",
       "</table>\n",
       "</div>"
      ],
      "text/plain": [
       "                                            question  \\\n",
       "0  Как можно сформировать справку-вызов самостоят...   \n",
       "1  Куда следует направлять подписанную скан-копию...   \n",
       "2         Где можно получить справку для военкомата?   \n",
       "4  Какой номер телефона у Отдела мобилизационной ...   \n",
       "6  Какие места на территории Университета можно и...   \n",
       "\n",
       "                                            document  \n",
       "0  Сформировать справку - вызов Вы можете самосто...  \n",
       "1  Сформировать справку - вызов Вы можете самосто...  \n",
       "2  По вопросу получения справки для военкомата Ва...  \n",
       "4  По вопросу получения справки для военкомата Ва...  \n",
       "6  Студенты очной формы обучения оформляют справк...  "
      ]
     },
     "execution_count": 17,
     "metadata": {},
     "output_type": "execute_result"
    }
   ],
   "source": [
    "test_dataset_qda = pd.read_csv(\"test_gigachat_docs.csv\", index_col=0)\n",
    "test_dataset_qda.head(5)"
   ]
  },
  {
   "cell_type": "markdown",
   "id": "0ddbec5f",
   "metadata": {
    "jp-MarkdownHeadingCollapsed": true
   },
   "source": [
    "## Векторный индекс документов"
   ]
  },
  {
   "cell_type": "markdown",
   "id": "07f5b94d",
   "metadata": {},
   "source": [
    "### Структура БД"
   ]
  },
  {
   "cell_type": "code",
   "execution_count": null,
   "id": "053098ad",
   "metadata": {},
   "outputs": [],
   "source": [
    "!docker build ../db -t db"
   ]
  },
  {
   "cell_type": "code",
   "execution_count": 8,
   "id": "ede29dc6",
   "metadata": {},
   "outputs": [
    {
     "name": "stdout",
     "output_type": "stream",
     "text": [
      "a8e8dc4d58730f9fbc28d30ae6e0e4a98819d7c6b9f2af086940d7b82ddf413d\n"
     ]
    }
   ],
   "source": [
    "!docker run --name db --rm -p 5432:5432 --mount source=db_volume,target=/var/lib/postgresql/data --env-file ../.env -d db"
   ]
  },
  {
   "cell_type": "code",
   "execution_count": 6,
   "id": "2b0f87fa",
   "metadata": {},
   "outputs": [],
   "source": [
    "from typing import Optional\n",
    "from pgvector.sqlalchemy import Vector\n",
    "from sqlalchemy import Text, create_engine, select, text\n",
    "from sqlalchemy.orm import DeclarativeBase, Mapped, Session, mapped_column\n",
    "\n",
    "engine = create_engine(f\"postgresql://{environ.get('POSTGRES_USER')}:{environ.get('POSTGRES_PASSWORD')}@{environ.get('POSTGRES_HOST')}/{environ.get('POSTGRES_DB')}\", echo=False)"
   ]
  },
  {
   "cell_type": "code",
   "execution_count": 7,
   "id": "b7f81c4d",
   "metadata": {},
   "outputs": [],
   "source": [
    "class Base(DeclarativeBase):\n",
    "    pass\n",
    "\n",
    "class Chunk(Base):\n",
    "    __tablename__ = \"chunk\"\n",
    "    id: Mapped[int] = mapped_column(primary_key=True)\n",
    "    text: Mapped[str] = mapped_column(Text())\n",
    "    sbert_312: Mapped[Optional[Vector]] = mapped_column(Vector(312))\n",
    "    sbert_768: Mapped[Optional[Vector]] = mapped_column(Vector(768))\n",
    "    sbert_1024: Mapped[Optional[Vector]] = mapped_column(Vector(1024))\n",
    "    gigachat_embeddings: Mapped[Optional[Vector]] = mapped_column(Vector(1024))"
   ]
  },
  {
   "cell_type": "code",
   "execution_count": 11,
   "id": "4f680d96",
   "metadata": {},
   "outputs": [],
   "source": [
    "with Session(engine) as session:\n",
    "    session.execute(text('CREATE EXTENSION IF NOT EXISTS vector'))\n",
    "    session.execute(text('DROP TABLE chunk'))\n",
    "    session.commit()\n",
    "Base.metadata.create_all(engine)"
   ]
  },
  {
   "cell_type": "markdown",
   "id": "9e2ac81e",
   "metadata": {},
   "source": [
    "### Заполнение документами"
   ]
  },
  {
   "cell_type": "code",
   "execution_count": 8,
   "id": "2ab1f77b",
   "metadata": {},
   "outputs": [
    {
     "data": {
      "text/plain": [
       "42"
      ]
     },
     "execution_count": 8,
     "metadata": {},
     "output_type": "execute_result"
    }
   ],
   "source": [
    "documents = pd.concat([train_dataset_qda[\"document\"], test_dataset_qda[\"document\"]]).drop_duplicates().reset_index(drop=True)\n",
    "len(documents)"
   ]
  },
  {
   "cell_type": "code",
   "execution_count": 13,
   "id": "c81ad8ad",
   "metadata": {},
   "outputs": [],
   "source": [
    "with Session(engine) as session:\n",
    "    for document in documents:\n",
    "        doc = Chunk(\n",
    "            # text=document.page_content,\n",
    "            text=document,\n",
    "        )\n",
    "        session.add(doc)\n",
    "    session.commit()"
   ]
  },
  {
   "cell_type": "markdown",
   "id": "081f57ce",
   "metadata": {},
   "source": [
    "### Вычисление векторных представлений"
   ]
  },
  {
   "cell_type": "markdown",
   "id": "72d84f5a",
   "metadata": {},
   "source": [
    "#### RuSBERT-Tiny"
   ]
  },
  {
   "cell_type": "code",
   "execution_count": 42,
   "id": "cce30650",
   "metadata": {},
   "outputs": [
    {
     "name": "stderr",
     "output_type": "stream",
     "text": [
      "d:\\git\\virtassist\\.venv\\Lib\\site-packages\\tqdm\\auto.py:21: TqdmWarning: IProgress not found. Please update jupyter and ipywidgets. See https://ipywidgets.readthedocs.io/en/stable/user_install.html\n",
      "  from .autonotebook import tqdm as notebook_tqdm\n"
     ]
    },
    {
     "data": {
      "text/plain": [
       "312"
      ]
     },
     "execution_count": 42,
     "metadata": {},
     "output_type": "execute_result"
    }
   ],
   "source": [
    "from sentence_transformers import SentenceTransformer\n",
    "\n",
    "# rusbert_model = SentenceTransformer('cointegrated/rubert-tiny2', device=\"cpu\")\n",
    "rusbert_model = SentenceTransformer('saved_models/rubert-tiny2-wikiutmn', device=\"cpu\")\n",
    "len(rusbert_model.encode(\"мама мыла раму\"))"
   ]
  },
  {
   "cell_type": "code",
   "execution_count": 44,
   "id": "e9e98c0e",
   "metadata": {},
   "outputs": [
    {
     "name": "stdout",
     "output_type": "stream",
     "text": [
      "7.71 ms ± 276 µs per loop (mean ± std. dev. of 7 runs, 100 loops each)\n"
     ]
    }
   ],
   "source": [
    "%%timeit\n",
    "rusbert_model.encode(openchat_docs_mini.question[0])"
   ]
  },
  {
   "cell_type": "code",
   "execution_count": 82,
   "id": "3c0d4a46",
   "metadata": {},
   "outputs": [],
   "source": [
    "with Session(engine) as session:\n",
    "   chunks = session.scalars(select(Chunk).order_by(Chunk.id)).all()\n",
    "   for chunk in chunks:\n",
    "      chunk.sbert_312 = rusbert_model.encode(chunk.text)\n",
    "      session.add(chunk)\n",
    "      session.flush()\n",
    "   session.commit()"
   ]
  },
  {
   "cell_type": "code",
   "execution_count": 86,
   "id": "47e60807",
   "metadata": {},
   "outputs": [
    {
     "data": {
      "text/plain": [
       "'Выбор спортивных секций по Физической культуре будет проходить в ИС Модеус во вкладке \" Выбор модулей \". Вам нужно будет выбрать 2 интересующие Вас спортивные секции, которые будут проходить каждую неделю в одно и то же время. Ограничения : 1 ) Записаться можно не более чем на 2 занятия в неделю 2 ) Нельзя записываться на два занятия подряд. Вас могут не допустить на занятие, если Вы были на предыдущей паре и / или уже посетили два занятия за неделю. При этом расписание на наличие конфликтов Вы проверяете самостоятельно в соответствии с Вашим расписанием в ИС Модеус и расписанием спортивных секций ( во вложенных файлах ). Ваш выбор пролонгируется до конца семестра, однако в любой момент Вы можете его изменить, отписавшись от одной секции и записавшись на другую. ВАЖНО! Студент, пропустивший два занятия подряд, будет отписан автоматически. Выбор Физической культуры откроется 06. 09. 2023 и будет открыт до конца семестра. Для успешной аттестации по дисциплине « Физическая культура : элективные курсы по видам спорта » Вы должны набрать не менее 61 балла по балльно - рейтинговой оценочной шкале. Для этого Вы можете : 1 ) Посещать академические занятия ( 3 балла за каждое занятие ) ; 2 ) Принять участие в спортивно - массовых мероприятиях университета : Днях здорового образа жизни, Маршрут Дружбы, Кросс Наций, и других ( 0 - 10 баллов за каждое мероприятие ). 3 ) Принять участите в соревнованиях по видам спорта ( 0 [UNK] 60 баллов ) ; 4 ) Выполнить ВФСК ГТО ( 0 [UNK] 60 баллов ). Для оформления посещения спортивного зала вместо практических занятий по физкультуре студент к первому занятию по физической культуре представляет тренеру - преподавателю по спорту ( куратору по физкультуре ) пакет документов ( https : / / www. utmn. ru / upload / medialibrary / 676 / Polozhenie - o - realizatsii - distsiplin - _ moduley _ - po - fizicheskoy - kulture - _ sportu _. pdf ) и приходит на зачётное мероприятие. ВАЖНО!!! Все документы должны быть предоставлены в течение первой учебной недели. Список ответственных за прием документов спортзала по институтам ( Ленина, 6 ) : 1. ИГиП, Антропошкола [UNK] Пырлич Юлия Васильевна ( y. v. pyrlich @ utmn. ru ) 2. СоцГум - Ерженин Владимир Сергеевич ( v. s. erzhenin @ utmn. ru ) 3. ФЭИ - Копякова Анна Леонидовна ( a. l. kopyakova @ utmn. ru ) 4. ИнЗем - Питулин Артём Владимирович ( a. v. pitulin @ utmn. ru ) 5. ФТИ, ИнХим, ШЕН [UNK] Пырлич Юлия Васильевна ( y. v. pyrlich @ utmn. ru ) 6. ИнБио - Криводанова Наталья Александровна ( n. a. krivodanova @ utmn. ru ) 7. Школа образования - Баянов Николай Ильич ( n. i. bayanov @ utmn. ru ) 8. ШКН - Тверских Владислав Владимирович ( vl. v. tverskikh @ utmn. ru ) # физкультура'"
      ]
     },
     "execution_count": 86,
     "metadata": {},
     "output_type": "execute_result"
    }
   ],
   "source": [
    "def answer_sbert_312(question):\n",
    "    with Session(engine) as session:\n",
    "        return session.scalars(select(Chunk)\n",
    "                        .order_by(Chunk.sbert_312.cosine_distance(\n",
    "                            rusbert_model.encode(question)\n",
    "                            )).limit(1)).first().text\n",
    "\n",
    "answer_sbert_312(\"Как поменять физкультуру?\")"
   ]
  },
  {
   "cell_type": "markdown",
   "id": "12c3088c",
   "metadata": {},
   "source": [
    "#### mpnet"
   ]
  },
  {
   "cell_type": "code",
   "execution_count": 51,
   "id": "808d30d1",
   "metadata": {},
   "outputs": [
    {
     "data": {
      "text/plain": [
       "768"
      ]
     },
     "execution_count": 51,
     "metadata": {},
     "output_type": "execute_result"
    }
   ],
   "source": [
    "from sentence_transformers import SentenceTransformer\n",
    "\n",
    "# mpnet = SentenceTransformer('saved_models/sentence-transformers/paraphrase-multilingual-mpnet-base-v2', device=\"cuda\")\n",
    "mpnet = SentenceTransformer('saved_models/paraphrase-multilingual-mpnet-base-v2-wikiutmn', device=\"cpu\")\n",
    "len(mpnet.encode(\"мама мыла раму\"))"
   ]
  },
  {
   "cell_type": "code",
   "execution_count": 52,
   "id": "689d278b",
   "metadata": {},
   "outputs": [
    {
     "name": "stdout",
     "output_type": "stream",
     "text": [
      "65.7 ms ± 1.36 ms per loop (mean ± std. dev. of 7 runs, 10 loops each)\n"
     ]
    }
   ],
   "source": [
    "%%timeit\n",
    "mpnet.encode(openchat_docs_mini.question[0])"
   ]
  },
  {
   "cell_type": "code",
   "execution_count": 53,
   "id": "2244316a",
   "metadata": {},
   "outputs": [],
   "source": [
    "with Session(engine) as session:\n",
    "   chunks = session.scalars(select(Chunk).order_by(Chunk.id)).all()\n",
    "   for chunk in chunks:\n",
    "      chunk.sbert_768 = mpnet.encode(chunk.text)\n",
    "      session.add(chunk)\n",
    "      session.flush()\n",
    "   session.commit()"
   ]
  },
  {
   "cell_type": "code",
   "execution_count": 54,
   "id": "80eb555e",
   "metadata": {},
   "outputs": [
    {
     "data": {
      "text/plain": [
       "'Выбор спортивных секций по Физической культуре будет проходить в ИС Модеус во вкладке \"Выбор модулей\".\\xa0 Вам нужно будет выбрать 2 интересующие Вас спортивные секции, которые будут проходить каждую неделю в одно и то же время.\\xa0 Ограничения: 1) Записаться можно не более чем на 2 занятия в неделю 2) Нельзя записываться на два занятия подряд.\\xa0 Вас могут не допустить на занятие, если Вы были на предыдущей паре и/или уже посетили два занятия за неделю. При этом расписание на наличие конфликтов Вы проверяете самостоятельно в соответствии с Вашим расписанием в ИС Модеус и расписанием спортивных секций (во вложенных файлах). Ваш выбор пролонгируется до конца семестра, однако в любой момент Вы можете его изменить, отписавшись от одной секции и записавшись на другую. ВАЖНО!  Студент, пропустивший два занятия подряд, будет отписан автоматически. Выбор Физической культуры откроется 06.09.2023 и будет открыт до конца семестра.\\xa0 Для успешной аттестации по дисциплине «Физическая культура: элективные курсы по видам спорта» Вы должны набрать не менее 61 балла по балльно-рейтинговой оценочной шкале. Для этого Вы можете: 1) Посещать академические занятия (3 балла за каждое занятие); 2) Принять участие в спортивно-массовых мероприятиях университета: Днях здорового образа жизни, Маршрут Дружбы, Кросс Наций, и других (0-10 баллов за каждое мероприятие). 3) Принять участите в соревнованиях по видам спорта (0 – 60 баллов); 4) Выполнить ВФСК ГТО (0 – 60 баллов). Для оформления посещения частного фитнес-клуба или тренажёрного зала вместо практических занятий по физкультуре студент к первому занятию по физической культуре представляет тренеру-преподавателю по спорту (куратору по физкультуре)  пакет документов  и приходит на зачётное мероприятие. ВАЖНО!!!  Все документы должны быть предоставлены в течение первой учебной недели. Список ответственных за прием документов спортзала по институтам (Ленина, 6):  1. ИГиП, Антропошкола – Пырлич Юлия Васильевна (y.v.pyrlich@utmn.ru) 2. СоцГум- Ерженин Владимир Сергеевич (v.s.erzhenin@utmn.ru) 3. ФЭИ - Копякова Анна Леонидовна (a.l.kopyakova@utmn.ru) 4. ИнЗем \\xa0- Питулин Артём Владимирович (a.v.pitulin@utmn.ru) 5. ФТИ, ИнХим, ШЕН –Пырлич Юлия Васильевна (y.v.pyrlich@utmn.ru) 6. ИнБио - Криводанова Наталья Александровна (n.a.krivodanova@utmn.ru) 7. Школа образования - Баянов Николай Ильич (n.i.bayanov@utmn.ru) 8. ШКН - Тверских Владислав Владимирович (vl.v.tverskikh@utmn.ru)'"
      ]
     },
     "execution_count": 54,
     "metadata": {},
     "output_type": "execute_result"
    }
   ],
   "source": [
    "def answer_sbert_768(question):\n",
    "    with Session(engine) as session:\n",
    "        return session.scalars(select(Chunk)\n",
    "                        .order_by(Chunk.sbert_768.cosine_distance(\n",
    "                            mpnet.encode(question)\n",
    "                            )).limit(1)).first().text\n",
    "\n",
    "answer_sbert_768(\"Как поменять физкультуру?\")"
   ]
  },
  {
   "cell_type": "markdown",
   "id": "1fd3cab2",
   "metadata": {},
   "source": [
    "#### e5-large"
   ]
  },
  {
   "cell_type": "code",
   "execution_count": 10,
   "id": "488e7205",
   "metadata": {},
   "outputs": [
    {
     "data": {
      "text/plain": [
       "1024"
      ]
     },
     "execution_count": 10,
     "metadata": {},
     "output_type": "execute_result"
    }
   ],
   "source": [
    "from sentence_transformers import SentenceTransformer\n",
    "\n",
    "# e5_model = SentenceTransformer('saved_models/intfloat/multilingual-e5-large', device=\"cuda\")\n",
    "e5_model = SentenceTransformer('saved_models/multilingual-e5-large-wikiutmn', device=\"cpu\")\n",
    "len(e5_model.encode(\"мама мыла раму\"))"
   ]
  },
  {
   "cell_type": "code",
   "execution_count": 48,
   "id": "2ff27fef",
   "metadata": {},
   "outputs": [
    {
     "name": "stdout",
     "output_type": "stream",
     "text": [
      "215 ms ± 4.99 ms per loop (mean ± std. dev. of 7 runs, 1 loop each)\n"
     ]
    }
   ],
   "source": [
    "%%timeit\n",
    "e5_model.encode(openchat_docs_mini.question[0])"
   ]
  },
  {
   "cell_type": "code",
   "execution_count": 11,
   "id": "9bc63d00",
   "metadata": {},
   "outputs": [],
   "source": [
    "with Session(engine) as session:\n",
    "   chunks = session.scalars(select(Chunk).order_by(Chunk.id)).all()\n",
    "   for chunk in chunks:\n",
    "      chunk.sbert_1024 = e5_model.encode(chunk.text)\n",
    "      session.add(chunk)\n",
    "      session.flush()\n",
    "   session.commit()"
   ]
  },
  {
   "cell_type": "code",
   "execution_count": 12,
   "id": "a1ab70f1",
   "metadata": {},
   "outputs": [
    {
     "data": {
      "text/plain": [
       "'Выбор спортивных секций по Физической культуре будет проходить в ИС Модеус во вкладке \" Выбор модулей \". Вам нужно будет выбрать 2 интересующие Вас спортивные секции, которые будут проходить каждую неделю в одно и то же время. Ограничения : 1 ) Записаться можно не более чем на 2 занятия в неделю 2 ) Нельзя записываться на два занятия подряд. Вас могут не допустить на занятие, если Вы были на предыдущей паре и / или уже посетили два занятия за неделю. При этом расписание на наличие конфликтов Вы проверяете самостоятельно в соответствии с Вашим расписанием в ИС Модеус и расписанием спортивных секций ( во вложенных файлах ). Ваш выбор пролонгируется до конца семестра, однако в любой момент Вы можете его изменить, отписавшись от одной секции и записавшись на другую. ВАЖНО! Студент, пропустивший два занятия подряд, будет отписан автоматически. Выбор Физической культуры откроется 06. 09. 2023 и будет открыт до конца семестра. Для успешной аттестации по дисциплине « Физическая культура : элективные курсы по видам спорта » Вы должны набрать не менее 61 балла по балльно - рейтинговой оценочной шкале. Для этого Вы можете : 1 ) Посещать академические занятия ( 3 балла за каждое занятие ) ; 2 ) Принять участие в спортивно - массовых мероприятиях университета : Днях здорового образа жизни, Маршрут Дружбы, Кросс Наций, и других ( 0 - 10 баллов за каждое мероприятие ). 3 ) Принять участите в соревнованиях по видам спорта ( 0 [UNK] 60 баллов ) ; 4 ) Выполнить ВФСК ГТО ( 0 [UNK] 60 баллов ). Для оформления посещения спортивного зала вместо практических занятий по физкультуре студент к первому занятию по физической культуре представляет тренеру - преподавателю по спорту ( куратору по физкультуре ) пакет документов ( https : / / www. utmn. ru / upload / medialibrary / 676 / Polozhenie - o - realizatsii - distsiplin - _ moduley _ - po - fizicheskoy - kulture - _ sportu _. pdf ) и приходит на зачётное мероприятие. ВАЖНО!!! Все документы должны быть предоставлены в течение первой учебной недели. Список ответственных за прием документов спортзала по институтам ( Ленина, 6 ) : 1. ИГиП, Антропошкола [UNK] Пырлич Юлия Васильевна ( y. v. pyrlich @ utmn. ru ) 2. СоцГум - Ерженин Владимир Сергеевич ( v. s. erzhenin @ utmn. ru ) 3. ФЭИ - Копякова Анна Леонидовна ( a. l. kopyakova @ utmn. ru ) 4. ИнЗем - Питулин Артём Владимирович ( a. v. pitulin @ utmn. ru ) 5. ФТИ, ИнХим, ШЕН [UNK] Пырлич Юлия Васильевна ( y. v. pyrlich @ utmn. ru ) 6. ИнБио - Криводанова Наталья Александровна ( n. a. krivodanova @ utmn. ru ) 7. Школа образования - Баянов Николай Ильич ( n. i. bayanov @ utmn. ru ) 8. ШКН - Тверских Владислав Владимирович ( vl. v. tverskikh @ utmn. ru ) # физкультура'"
      ]
     },
     "execution_count": 12,
     "metadata": {},
     "output_type": "execute_result"
    }
   ],
   "source": [
    "def answer_sbert_1024(question):\n",
    "    with Session(engine) as session:\n",
    "        return session.scalars(select(Chunk)\n",
    "                        .order_by(Chunk.sbert_1024.cosine_distance(\n",
    "                            e5_model.encode(question)\n",
    "                            )).limit(1)).first().text\n",
    "\n",
    "answer_sbert_1024(\"Как поменять физкультуру?\")"
   ]
  },
  {
   "cell_type": "markdown",
   "id": "68b0857e",
   "metadata": {},
   "source": [
    "#### GigaChatEmbeddings"
   ]
  },
  {
   "cell_type": "code",
   "execution_count": 14,
   "id": "bbf7b19f",
   "metadata": {},
   "outputs": [
    {
     "name": "stdout",
     "output_type": "stream",
     "text": [
      "1024\n"
     ]
    }
   ],
   "source": [
    "from langchain_community.embeddings import GigaChatEmbeddings\n",
    "\n",
    "gigachat_embeddings = GigaChatEmbeddings(credentials=gigachat_token, verify_ssl_certs=False)\n",
    "result = gigachat_embeddings.embed_documents(texts=[\"мама мыла раму\"])\n",
    "print(len(result[0]))"
   ]
  },
  {
   "cell_type": "code",
   "execution_count": 56,
   "id": "1e809dd1",
   "metadata": {},
   "outputs": [
    {
     "name": "stdout",
     "output_type": "stream",
     "text": [
      "623 ms ± 8.92 ms per loop (mean ± std. dev. of 7 runs, 1 loop each)\n"
     ]
    }
   ],
   "source": [
    "%%timeit\n",
    "gigachat_embeddings.embed_documents(texts=[openchat_docs_mini.question[0]])"
   ]
  },
  {
   "cell_type": "code",
   "execution_count": 15,
   "id": "cec44503",
   "metadata": {},
   "outputs": [
    {
     "name": "stdout",
     "output_type": "stream",
     "text": [
      "Заявления о переводе принимаются два раза в год, как правило : для студентов очной и очно [UNK] заоч\n",
      "1. Подать заявление о переводе можно лично, обратившись в Единый деканат, ул. Семакова, 18, холл 3 э\n",
      "Выбор спортивных секций по Физической культуре будет проходить в ИС Модеус во вкладке \" Выбор модуле\n",
      "Пакет документов для подачи заявления на перевод : 1. Заявление о зачислении переводом https : / / w\n",
      "Документ подписан простой электронной подписью Информация о владельце : ФИО : Романчук Иван Сергееви\n",
      "директора, заместителя директора института школы, филиала, начальника ОУДКС, начальника у правления \n",
      "##ционной комиссии. Последующие восстановления производятся на место по договору об оказании платных\n",
      "При равном числе голосов председатель аттестационной комиссии имеет право решающего голоса. Аттестац\n",
      "Документ подписан простой электронной подписью Информация о владельце : ФИО : Романчук Иван Сергееви\n",
      ". 1. 20. Дисциплины ( иные виды учебных работ ), с оставляющие академическую разницу и ( или ) подле\n",
      "Об утверждении Регламента проведения промежуточной и итоговой аттестации по дисциплине « Математика \n",
      "Об утверждении Регламента проведения промежуточной аттестации по дисциплине « Алгебра » для обучающи\n",
      "Об утверждении Р егламента проведения промежуточной и итоговой аттестации по дисциплине « Дискретная\n",
      "Об утверждении Регламента проведения промежуточной аттестации по дисциплине « Основы программировани\n",
      "Сопровождение специализированных образовательных треков Спорт. программи - рование Треки КапитаныШко\n",
      "3. 4. Система оценивания при проведении текущего контроля отражается в рабочей программе дисциплины \n",
      "принимается преподавателем, ведущим практические ( семинарские, лабораторные ) занятия в групп е ( у\n",
      "проведения промежуточной аттестации, за исключением периода про ведения промежуточной аттестации при\n"
     ]
    }
   ],
   "source": [
    "with Session(engine) as session:\n",
    "   chunks = session.scalars(select(Chunk).order_by(Chunk.id)).all()\n",
    "   for chunk in chunks:\n",
    "      try:\n",
    "         chunk.gigachat_embeddings = gigachat_embeddings.embed_documents(texts=[chunk.text])[0]\n",
    "      except:\n",
    "         print(chunk.text[:100])\n",
    "         chunk.gigachat_embeddings = None\n",
    "      session.add(chunk)\n",
    "      session.flush()\n",
    "   session.commit()"
   ]
  },
  {
   "cell_type": "code",
   "execution_count": 16,
   "id": "d2e7a665",
   "metadata": {},
   "outputs": [
    {
     "data": {
      "text/plain": [
       "'Прежде, чем выбрать элективы, рекомендуем почитать отзывы на сервисе « Отзывус » : https : / / electives. utmn. ru. Там же можно написать о своём опыте изучения элективных дисциплин. Информация, о том, как поменять электив, отправляется на корпоративную почту в первую учебную неделю семестра.'"
      ]
     },
     "execution_count": 16,
     "metadata": {},
     "output_type": "execute_result"
    }
   ],
   "source": [
    "def answer_gigachat_embeddings(question):\n",
    "    with Session(engine) as session:\n",
    "        return session.scalars(select(Chunk)\n",
    "                        .order_by(Chunk.gigachat_embeddings.cosine_distance(\n",
    "                            gigachat_embeddings.embed_documents(texts=[question])[0]\n",
    "                            )).limit(1)).first().text\n",
    "\n",
    "answer_gigachat_embeddings(\"Как поменять физкультуру?\")"
   ]
  },
  {
   "cell_type": "code",
   "execution_count": 17,
   "id": "69f45a42",
   "metadata": {},
   "outputs": [
    {
     "data": {
      "text/plain": [
       "18"
      ]
     },
     "execution_count": 17,
     "metadata": {},
     "output_type": "execute_result"
    }
   ],
   "source": [
    "banned_by_gigachat = []\n",
    "with Session(engine) as session:\n",
    "   chunks = session.scalars(select(Chunk).order_by(Chunk.id)).all()\n",
    "   for chunk in chunks:\n",
    "      if chunk.gigachat_embeddings is None:\n",
    "         banned_by_gigachat.append(chunk)\n",
    "\n",
    "len(banned_by_gigachat)"
   ]
  },
  {
   "cell_type": "markdown",
   "id": "e1dcfd2a",
   "metadata": {
    "jp-MarkdownHeadingCollapsed": true
   },
   "source": [
    "### Выбор нужного фрагмента через векторный индекс"
   ]
  },
  {
   "cell_type": "code",
   "execution_count": 19,
   "id": "51734fc9",
   "metadata": {},
   "outputs": [
    {
     "data": {
      "text/html": [
       "<div>\n",
       "<style scoped>\n",
       "    .dataframe tbody tr th:only-of-type {\n",
       "        vertical-align: middle;\n",
       "    }\n",
       "\n",
       "    .dataframe tbody tr th {\n",
       "        vertical-align: top;\n",
       "    }\n",
       "\n",
       "    .dataframe thead th {\n",
       "        text-align: right;\n",
       "    }\n",
       "</style>\n",
       "<table border=\"1\" class=\"dataframe\">\n",
       "  <thead>\n",
       "    <tr style=\"text-align: right;\">\n",
       "      <th></th>\n",
       "      <th>question</th>\n",
       "      <th>document</th>\n",
       "      <th>human_answer</th>\n",
       "      <th>gigachat_embeddings</th>\n",
       "    </tr>\n",
       "  </thead>\n",
       "  <tbody>\n",
       "    <tr>\n",
       "      <th>0</th>\n",
       "      <td>Я потерял магнитную карту. К кому обратиться?</td>\n",
       "      <td>Для восстановления студенческого билета Вам не...</td>\n",
       "      <td>Если Вы потеряли магнитную карту ( пропуск, пр...</td>\n",
       "      <td>Для восстановления студенческого билета Вам не...</td>\n",
       "    </tr>\n",
       "    <tr>\n",
       "      <th>1</th>\n",
       "      <td>Даты подачи заявления для восстановления на очку</td>\n",
       "      <td>Заявления на восстановление в Университет по о...</td>\n",
       "      <td>Заявления на восстановление в Университет по о...</td>\n",
       "      <td>Заявления на восстановление в Университет по о...</td>\n",
       "    </tr>\n",
       "    <tr>\n",
       "      <th>2</th>\n",
       "      <td>Что делать при потере проходки?</td>\n",
       "      <td>Для восстановления студенческого билета Вам не...</td>\n",
       "      <td>Если Вы потеряли магнитную карту ( пропуск, пр...</td>\n",
       "      <td>Для восстановления студенческого билета Вам не...</td>\n",
       "    </tr>\n",
       "    <tr>\n",
       "      <th>3</th>\n",
       "      <td>Я хожу в фитнес-клуб. Как заменить физкультуру?</td>\n",
       "      <td>Выбор спортивных секций по Физической культуре...</td>\n",
       "      <td>Для оформления посещения спортивного зала вмес...</td>\n",
       "      <td>Прежде, чем выбрать элективы, рекомендуем почи...</td>\n",
       "    </tr>\n",
       "    <tr>\n",
       "      <th>4</th>\n",
       "      <td>Когда мне выдадут студенческий билет после пер...</td>\n",
       "      <td>1. Подать заявление о переводе можно лично, об...</td>\n",
       "      <td>В течение пяти рабочих дней после поступления ...</td>\n",
       "      <td>Подать заявление на отчисление переводом можно...</td>\n",
       "    </tr>\n",
       "  </tbody>\n",
       "</table>\n",
       "</div>"
      ],
      "text/plain": [
       "                                            question  \\\n",
       "0      Я потерял магнитную карту. К кому обратиться?   \n",
       "1   Даты подачи заявления для восстановления на очку   \n",
       "2                    Что делать при потере проходки?   \n",
       "3    Я хожу в фитнес-клуб. Как заменить физкультуру?   \n",
       "4  Когда мне выдадут студенческий билет после пер...   \n",
       "\n",
       "                                            document  \\\n",
       "0  Для восстановления студенческого билета Вам не...   \n",
       "1  Заявления на восстановление в Университет по о...   \n",
       "2  Для восстановления студенческого билета Вам не...   \n",
       "3  Выбор спортивных секций по Физической культуре...   \n",
       "4  1. Подать заявление о переводе можно лично, об...   \n",
       "\n",
       "                                        human_answer  \\\n",
       "0  Если Вы потеряли магнитную карту ( пропуск, пр...   \n",
       "1  Заявления на восстановление в Университет по о...   \n",
       "2  Если Вы потеряли магнитную карту ( пропуск, пр...   \n",
       "3  Для оформления посещения спортивного зала вмес...   \n",
       "4  В течение пяти рабочих дней после поступления ...   \n",
       "\n",
       "                                 gigachat_embeddings  \n",
       "0  Для восстановления студенческого билета Вам не...  \n",
       "1  Заявления на восстановление в Университет по о...  \n",
       "2  Для восстановления студенческого билета Вам не...  \n",
       "3  Прежде, чем выбрать элективы, рекомендуем почи...  \n",
       "4  Подать заявление на отчисление переводом можно...  "
      ]
     },
     "execution_count": 19,
     "metadata": {},
     "output_type": "execute_result"
    }
   ],
   "source": [
    "# test_dataset_qda[\"sbert_312\"] = test_dataset_qda[\"question\"].apply(answer_sbert_312)\n",
    "# test_dataset_qda[\"sbert_768\"] = test_dataset_qda[\"question\"].apply(answer_sbert_768)\n",
    "# test_dataset_qda[\"sbert_1024\"] = test_dataset_qda[\"question\"].apply(answer_sbert_1024)\n",
    "test_dataset_qda[\"gigachat_embeddings\"] = test_dataset_qda[\"question\"].apply(answer_gigachat_embeddings)\n",
    "test_dataset_qda.head(5)"
   ]
  },
  {
   "cell_type": "markdown",
   "id": "97effbaf",
   "metadata": {},
   "source": [
    "### Выбор лучшего алгоритма"
   ]
  },
  {
   "cell_type": "markdown",
   "id": "5b8f1f73",
   "metadata": {},
   "source": [
    "#### Accuracy"
   ]
  },
  {
   "cell_type": "code",
   "execution_count": 21,
   "id": "057b78e0",
   "metadata": {},
   "outputs": [
    {
     "name": "stdout",
     "output_type": "stream",
     "text": [
      "human_answer 0.31343283582089554\n",
      "gigachat_embeddings 0.5373134328358209\n"
     ]
    }
   ],
   "source": [
    "for column in test_dataset_qda.columns[2:]:\n",
    "    print(column, sum(test_dataset_qda[column].apply(lambda x: \"\" if x is None else x) == test_dataset_qda.document) / len(test_dataset_qda.document))"
   ]
  },
  {
   "cell_type": "markdown",
   "id": "d6cf90ac",
   "metadata": {},
   "source": [
    "#### ROUGE-L"
   ]
  },
  {
   "cell_type": "code",
   "execution_count": 53,
   "id": "25c02817",
   "metadata": {},
   "outputs": [
    {
     "name": "stdout",
     "output_type": "stream",
     "text": [
      "Note: you may need to restart the kernel to use updated packages.\n"
     ]
    }
   ],
   "source": [
    "%pip install rouge --quiet"
   ]
  },
  {
   "cell_type": "code",
   "execution_count": 22,
   "id": "2da8a0c7",
   "metadata": {},
   "outputs": [
    {
     "name": "stdout",
     "output_type": "stream",
     "text": [
      "human_answer {'r': 0.6170558241367031, 'p': 0.9958196833933283, 'f': 0.7133136761037521}\n",
      "gigachat_embeddings {'r': 0.6138765422480673, 'p': 0.6498791978849756, 'f': 0.6188192588396773}\n"
     ]
    }
   ],
   "source": [
    "from rouge import Rouge\n",
    "rouge = Rouge()\n",
    "\n",
    "for column in test_dataset_qda.columns[2:]:\n",
    "    print(column, rouge.get_scores(test_dataset_qda[column].apply(lambda x: \"-\" if x is None else x), test_dataset_qda[\"document\"], avg=True)['rouge-l'])"
   ]
  },
  {
   "cell_type": "markdown",
   "id": "9e6d1cf3",
   "metadata": {},
   "source": [
    "## SBERT Fine Tuning\n",
    "\n",
    "\n",
    " * https://www.sbert.net/docs/training/overview.html\n",
    " * https://huggingface.co/blog/how-to-train-sentence-transformers"
   ]
  },
  {
   "cell_type": "markdown",
   "id": "67e741f7",
   "metadata": {
    "jp-MarkdownHeadingCollapsed": true
   },
   "source": [
    "### Тонкая настройка"
   ]
  },
  {
   "cell_type": "code",
   "execution_count": 62,
   "id": "235475b5",
   "metadata": {},
   "outputs": [
    {
     "name": "stderr",
     "output_type": "stream",
     "text": [
      "d:\\git\\virtassist\\.venv\\Lib\\site-packages\\huggingface_hub\\file_download.py:1132: FutureWarning: `resume_download` is deprecated and will be removed in version 1.0.0. Downloads always resume when possible. If you want to force a new download, use `force_download=True`.\n",
      "  warnings.warn(\n",
      "Epoch:   0%|          | 0/10 [00:00<?, ?it/s]"
     ]
    },
    {
     "ename": "",
     "evalue": "",
     "output_type": "error",
     "traceback": [
      "\u001b[1;31mThe Kernel crashed while executing code in the current cell or a previous cell. \n",
      "\u001b[1;31mPlease review the code in the cell(s) to identify a possible cause of the failure. \n",
      "\u001b[1;31mClick <a href='https://aka.ms/vscodeJupyterKernelCrash'>here</a> for more info. \n",
      "\u001b[1;31mView Jupyter <a href='command:jupyter.viewOutput'>log</a> for further details."
     ]
    }
   ],
   "source": [
    "import math\n",
    "from sentence_transformers import SentenceTransformer, InputExample, losses\n",
    "from torch.utils.data import DataLoader\n",
    "\n",
    "train_set = []\n",
    "for index, row in train_dataset_qda.iterrows():\n",
    "    train_set.append(InputExample(texts=[row['question'], row['document']]))\n",
    "\n",
    "finetuned_model = SentenceTransformer(\"cointegrated/rubert-tiny2\", device=\"cuda\")\n",
    "\n",
    "train_dataloader = DataLoader(train_set, shuffle=True, batch_size=8)\n",
    "train_loss = losses.MultipleNegativesRankingLoss(finetuned_model)\n",
    "# train_loss = losses.MegaBatchMarginLoss(finetuned_model)\n",
    "\n",
    "num_epochs = 10\n",
    "warmup_steps = math.ceil(len(train_set) * num_epochs * 0.1)\n",
    "\n",
    "finetuned_model.fit(train_objectives=[(train_dataloader, train_loss)],\n",
    "                    epochs=num_epochs,\n",
    "                    warmup_steps=warmup_steps,\n",
    "                    output_path=\"saved_models/rubert-tiny2-wikiutmn\")\n"
   ]
  },
  {
   "cell_type": "markdown",
   "id": "0d2b8437",
   "metadata": {},
   "source": [
    "### Save to Hub"
   ]
  },
  {
   "cell_type": "code",
   "execution_count": 19,
   "id": "161f5a8b",
   "metadata": {},
   "outputs": [
    {
     "data": {
      "text/plain": [
       "SentenceTransformer(\n",
       "  (0): Transformer({'max_seq_length': 512, 'do_lower_case': False}) with Transformer model: XLMRobertaModel \n",
       "  (1): Pooling({'word_embedding_dimension': 1024, 'pooling_mode_cls_token': False, 'pooling_mode_mean_tokens': True, 'pooling_mode_max_tokens': False, 'pooling_mode_mean_sqrt_len_tokens': False, 'pooling_mode_weightedmean_tokens': False, 'pooling_mode_lasttoken': False, 'include_prompt': True})\n",
       "  (2): Normalize()\n",
       ")"
      ]
     },
     "execution_count": 19,
     "metadata": {},
     "output_type": "execute_result"
    }
   ],
   "source": [
    "finetuned_model = SentenceTransformer('saved_models/multilingual-e5-large-wikiutmn', device=\"cpu\")\n",
    "finetuned_model"
   ]
  },
  {
   "cell_type": "code",
   "execution_count": null,
   "id": "b689812f",
   "metadata": {},
   "outputs": [],
   "source": [
    "finetuned_model.save_to_hub(repo_id=\"nizamovtimur/multilingual-e5-large-wikiutmn\", token=hf_write_token)"
   ]
  },
  {
   "cell_type": "markdown",
   "id": "7900775a",
   "metadata": {},
   "source": [
    "## Большие языковые модели\n",
    "\n",
    "\n",
    "https://python.langchain.com/docs/use_cases/question_answering/"
   ]
  },
  {
   "cell_type": "code",
   "execution_count": 13,
   "id": "74afe4e9",
   "metadata": {},
   "outputs": [],
   "source": [
    "from langchain.prompts import PromptTemplate\n",
    "\n",
    "prompt_template = \"\"\"Действуйте как Вопрошалыч — виртуальный помощник студента ТюмГУ.\n",
    "Используйте следующий текст в тройных кавычках, чтобы кратко ответить на вопрос студента.\n",
    "Оставьте ссылки, адреса и телефоны как есть. Если ответа в тексте нет, напишите \"ответ не найден\".\n",
    "Предоставьте краткий, точный и полезный ответ, иначе вас заменят на GPT-5.\n",
    "\n",
    "\\\"\\\"\\\"\n",
    "{context}\n",
    "\\\"\\\"\\\"\n",
    "\n",
    "Вопрос студента: {question}\"\"\"\n",
    "\n",
    "prompt = PromptTemplate.from_template(prompt_template)"
   ]
  },
  {
   "cell_type": "code",
   "execution_count": 37,
   "id": "e13d3ade",
   "metadata": {},
   "outputs": [],
   "source": [
    "# prompt_template_with_history = \"\"\"Действуй как Вопрошалыч — виртуальный помощник студента ТюмГУ.\n",
    "# Кратко ответь на вопрос студента по предоставленным текстам.\n",
    "# Не придумывай и не изменяй ссылки, адреса и телефоны. Если ответа нет, напиши \"ответ не найден\".\n",
    "\n",
    "# \\\"\\\"\\\"\n",
    "# {prev_context}\n",
    "\n",
    "# {context}\n",
    "# \\\"\\\"\\\"\n",
    "\n",
    "# Вопрос студента: {prev_question}\n",
    "# Ответ: {prev_answer}\n",
    "# Вопрос студента: {question}\n",
    "# Ответ:\n",
    "# \"\"\"\n",
    "\n",
    "# prompt_with_history = PromptTemplate.from_template(prompt_template)"
   ]
  },
  {
   "cell_type": "code",
   "execution_count": 16,
   "id": "d57836be",
   "metadata": {},
   "outputs": [],
   "source": [
    "from langchain_core.messages import AIMessage\n",
    "\n",
    "def get_answer(chain, question, context=None):\n",
    "        if context is None:\n",
    "                # context = answer_sbert_312(question)\n",
    "                # context = answer_sbert_768(question)\n",
    "                context = answer_sbert_1024(question)\n",
    "        query = {\"context\": context,\n",
    "                 \"question\": question}\n",
    "        answer = chain.invoke(query)\n",
    "        if isinstance(answer, AIMessage):\n",
    "                answer = answer.content\n",
    "        return answer.strip()"
   ]
  },
  {
   "cell_type": "markdown",
   "id": "689abc5b",
   "metadata": {},
   "source": [
    "### Метрика: BERTScore"
   ]
  },
  {
   "cell_type": "code",
   "execution_count": 26,
   "id": "185af942",
   "metadata": {},
   "outputs": [
    {
     "name": "stdout",
     "output_type": "stream",
     "text": [
      "Note: you may need to restart the kernel to use updated packages.\n"
     ]
    }
   ],
   "source": [
    "%pip install bert-score --quiet"
   ]
  },
  {
   "cell_type": "code",
   "execution_count": 14,
   "id": "287595fb",
   "metadata": {},
   "outputs": [
    {
     "name": "stderr",
     "output_type": "stream",
     "text": [
      "d:\\git\\virtassist\\.venv\\Lib\\site-packages\\huggingface_hub\\file_download.py:1132: FutureWarning: `resume_download` is deprecated and will be removed in version 1.0.0. Downloads always resume when possible. If you want to force a new download, use `force_download=True`.\n",
      "  warnings.warn(\n"
     ]
    }
   ],
   "source": [
    "from bert_score import BERTScorer\n",
    "scorer = BERTScorer(lang=\"ru\")"
   ]
  },
  {
   "cell_type": "markdown",
   "id": "5a096e40",
   "metadata": {},
   "source": [
    "### GigaChat"
   ]
  },
  {
   "cell_type": "code",
   "execution_count": 18,
   "id": "75c1b0a9",
   "metadata": {},
   "outputs": [
    {
     "data": {
      "text/plain": [
       "'Ответ не найден.'"
      ]
     },
     "execution_count": 18,
     "metadata": {},
     "output_type": "execute_result"
    }
   ],
   "source": [
    "from langchain.llms import GigaChat\n",
    "giga = GigaChat(model=\"GigaChat-preview\", temperature=1.222, credentials=gigachat_token, verify_ssl_certs=False)\n",
    "giga_chain = prompt | giga\n",
    "get_answer(giga_chain, \"К кому обратиться по вопросам стипендии?\")"
   ]
  },
  {
   "cell_type": "code",
   "execution_count": 13,
   "id": "bdacf894",
   "metadata": {},
   "outputs": [
    {
     "name": "stdout",
     "output_type": "stream",
     "text": [
      "679 ms ± 9.14 ms per loop (mean ± std. dev. of 7 runs, 1 loop each)\n"
     ]
    }
   ],
   "source": [
    "%%timeit\n",
    "get_answer(giga_chain, \"К кому обратиться по вопросам стипендии?\")"
   ]
  },
  {
   "cell_type": "markdown",
   "id": "bc966e75",
   "metadata": {},
   "source": [
    "### GigaChat Pro"
   ]
  },
  {
   "cell_type": "code",
   "execution_count": 30,
   "id": "a0c498b7",
   "metadata": {},
   "outputs": [
    {
     "data": {
      "text/plain": [
       "'Для получения справки о доходах, размере стипендии или пособии вам следует обратиться в Сервисный центр бухгалтерии. Это можно сделать, написав на почту 12222@utmn.ru или позвонив по номеру (3452) 59-76-76. Центр находится по адресу: г. Тюмень, ул. Кирова, д. 25/1. Часы работы: с понедельника по четверг с 9:00 до 17:00, в пятницу с 9:00 до 16:00. Перерыв на обед с 12:30 до 13:15. Суббота и воскресенье - выходные дни.'"
      ]
     },
     "execution_count": 30,
     "metadata": {},
     "output_type": "execute_result"
    }
   ],
   "source": [
    "from langchain.llms import GigaChat\n",
    "giga_pro = GigaChat(model=\"GigaChat-Pro\", credentials=gigachat_token, verify_ssl_certs=False)\n",
    "giga_pro_chain = prompt | giga_pro\n",
    "get_answer(giga_pro_chain, \"К кому обратиться по вопросам стипендии?\")"
   ]
  },
  {
   "cell_type": "code",
   "execution_count": 33,
   "id": "85fe13bd",
   "metadata": {},
   "outputs": [
    {
     "name": "stdout",
     "output_type": "stream",
     "text": [
      "9.03 s ± 2.13 s per loop (mean ± std. dev. of 7 runs, 1 loop each)\n"
     ]
    }
   ],
   "source": [
    "%%timeit\n",
    "get_answer(giga_pro_chain, \"К кому обратиться по вопросам стипендии?\")"
   ]
  },
  {
   "cell_type": "markdown",
   "id": "9ee8900f",
   "metadata": {},
   "source": [
    "### YandexGPT\n",
    "\n",
    "пока изучал, 149 руб 03 коп улетело..."
   ]
  },
  {
   "cell_type": "code",
   "execution_count": 17,
   "id": "fbfd4495",
   "metadata": {},
   "outputs": [
    {
     "name": "stdout",
     "output_type": "stream",
     "text": [
      "Note: you may need to restart the kernel to use updated packages.\n"
     ]
    }
   ],
   "source": [
    "%pip install --upgrade --quiet  yandex_chain"
   ]
  },
  {
   "cell_type": "code",
   "execution_count": 34,
   "id": "cde9d8b9",
   "metadata": {},
   "outputs": [
    {
     "data": {
      "text/plain": [
       "'По вопросам, связанным со стипендией, вам необходимо обратиться в Сервисный центр бухгалтерии. Вы можете написать на почту 12222 @ utmn. ru или позвонить по телефону (3452) 59-76-76.'"
      ]
     },
     "execution_count": 34,
     "metadata": {},
     "output_type": "execute_result"
    }
   ],
   "source": [
    "from yandex_chain import YandexLLM\n",
    "\n",
    "yagpt = YandexLLM(folder_id=\"b1gvhukmt6vde5nnr73s\", api_key=str(yandex_token), use_lite=False)\n",
    "yagpt_chain = prompt | yagpt\n",
    "get_answer(yagpt_chain, \"К кому обратиться по вопросам стипендии?\")"
   ]
  },
  {
   "cell_type": "code",
   "execution_count": 35,
   "id": "98d48b7d",
   "metadata": {},
   "outputs": [
    {
     "name": "stdout",
     "output_type": "stream",
     "text": [
      "The slowest run took 4.28 times longer than the fastest. This could mean that an intermediate result is being cached.\n",
      "1.52 s ± 808 ms per loop (mean ± std. dev. of 7 runs, 1 loop each)\n"
     ]
    }
   ],
   "source": [
    "%%timeit\n",
    "get_answer(yagpt_chain, \"К кому обратиться по вопросам стипендии?\")"
   ]
  },
  {
   "cell_type": "markdown",
   "id": "8a90b576",
   "metadata": {},
   "source": [
    "### `OpenChat-3.5-0106`, `saiga_llama3_8b`\n",
    "\n",
    " * https://github.com/imoneoi/openchat\n",
    " * https://huggingface.co/IlyaGusev/saiga_llama3_8b\n",
    " * https://huggingface.co/Vikhrmodels/Vikhr-7B-instruct_0.4\n",
    "\n",
    "запущена на NVIDIA A100-PCIE-40GB"
   ]
  },
  {
   "cell_type": "code",
   "execution_count": 27,
   "id": "453bf895",
   "metadata": {},
   "outputs": [
    {
     "name": "stdout",
     "output_type": "stream",
     "text": [
      "Note: you may need to restart the kernel to use updated packages.\n"
     ]
    }
   ],
   "source": [
    "%pip install langchain_openai --quiet"
   ]
  },
  {
   "cell_type": "code",
   "execution_count": 20,
   "id": "241b42f7",
   "metadata": {},
   "outputs": [
    {
     "data": {
      "text/plain": [
       "'Обратитесь в Сервисный центр бухгалтерии по адресу г. Тюмень, ул. Кирова, д. 25/1, или вы можете написать на почту 12222@utmn.ru или позвонить по телефону (3452) 59-76-76. Часы работы: пн-чт 09.00-17.00, пт 09.00-16.00, обед 12.30-13.15, сб,вс - выходные дни.'"
      ]
     },
     "execution_count": 20,
     "metadata": {},
     "output_type": "execute_result"
    }
   ],
   "source": [
    "from langchain_openai import ChatOpenAI\n",
    "\n",
    "openchat = ChatOpenAI(\n",
    "    model=\"openchat_3.5\",\n",
    "    # model=\"saiga_llama3_8b\",\n",
    "    openai_api_key=\"EMPTY\",\n",
    "    openai_api_base=openchat_host,\n",
    "    temperature=0.6,\n",
    ")\n",
    "\n",
    "openchat_chain = prompt | openchat\n",
    "get_answer(openchat_chain, \"К кому обратиться по вопросам стипендии?\")"
   ]
  },
  {
   "cell_type": "code",
   "execution_count": 91,
   "id": "394a369a",
   "metadata": {},
   "outputs": [
    {
     "name": "stdout",
     "output_type": "stream",
     "text": [
      "699 ms ± 262 ms per loop (mean ± std. dev. of 7 runs, 1 loop each)\n"
     ]
    }
   ],
   "source": [
    "%%timeit\n",
    "get_answer(openchat_chain, \"К кому обратиться по вопросам стипендии?\")"
   ]
  },
  {
   "cell_type": "markdown",
   "id": "dcb3418f",
   "metadata": {},
   "source": [
    "### 1. Тест генерации по заранее найденному документу"
   ]
  },
  {
   "cell_type": "markdown",
   "id": "ab48fddf",
   "metadata": {},
   "source": [
    "#### GigaChat"
   ]
  },
  {
   "cell_type": "code",
   "execution_count": 19,
   "id": "fb84ec09",
   "metadata": {},
   "outputs": [
    {
     "data": {
      "text/plain": [
       "0    Для восстановления магнитной карты обратитесь ...\n",
       "1                                     Ответ не найден.\n",
       "2    Для восстановления проходки необходимо подать ...\n",
       "3                                     Ответ не найден.\n",
       "4    В течение 5 (пяти) рабочих дней со дня издания...\n",
       "dtype: object"
      ]
     },
     "execution_count": 19,
     "metadata": {},
     "output_type": "execute_result"
    }
   ],
   "source": [
    "gigachat_answers = []\n",
    "for index, row in test_dataset_qda.iterrows():\n",
    "    gigachat_answers.append(get_answer(giga_chain, row['question'], row['document']))\n",
    "gigachat_answers = pd.Series(gigachat_answers)\n",
    "gigachat_answers.head(5)"
   ]
  },
  {
   "cell_type": "code",
   "execution_count": 20,
   "id": "2565eccb",
   "metadata": {},
   "outputs": [
    {
     "name": "stderr",
     "output_type": "stream",
     "text": [
      "Warning: Empty reference sentence detected; setting raw BERTScores to 0.\n",
      "Warning: Empty reference sentence detected; setting raw BERTScores to 0.\n"
     ]
    },
    {
     "data": {
      "text/plain": [
       "'Precision: 0.551 Recall: 0.587 F1 score: 0.566'"
      ]
     },
     "execution_count": 20,
     "metadata": {},
     "output_type": "execute_result"
    }
   ],
   "source": [
    "P, R, F1 = scorer.score(list(test_dataset_qda[\"human_answer\"]), list(gigachat_answers.apply(lambda x: '' if len(x) < 18 else x)))\n",
    "f\"Precision: {P.mean():.3f} Recall: {R.mean():.3f} F1 score: {F1.mean():.3f}\""
   ]
  },
  {
   "cell_type": "markdown",
   "id": "1a9b5a92",
   "metadata": {},
   "source": [
    "#### GigaChat Pro"
   ]
  },
  {
   "cell_type": "code",
   "execution_count": 17,
   "id": "b95d01f5",
   "metadata": {},
   "outputs": [
    {
     "data": {
      "text/plain": [
       "0    Для подачи заявления на перевод в ТюмГУ из дру...\n",
       "1    Об элективах можно узнать на сервисе «Отзывус»...\n",
       "2    Заявление на выход из академического отпуска п...\n",
       "3                                     Ответ не найден.\n",
       "4    Если вам не пришла стипендия, вам следует обра...\n",
       "dtype: object"
      ]
     },
     "execution_count": 17,
     "metadata": {},
     "output_type": "execute_result"
    }
   ],
   "source": [
    "gigachat_pro_answers = []\n",
    "for index, row in test_dataset_qda[14:].iterrows():\n",
    "    gigachat_pro_answers.append(get_answer(giga_pro_chain, row['question'], row['document']))\n",
    "gigachat_pro_answers = pd.Series(gigachat_pro_answers)\n",
    "gigachat_pro_answers.head(5)"
   ]
  },
  {
   "cell_type": "code",
   "execution_count": 35,
   "id": "13bca3c5",
   "metadata": {},
   "outputs": [
    {
     "name": "stderr",
     "output_type": "stream",
     "text": [
      "Warning: Empty reference sentence detected; setting raw BERTScores to 0.\n"
     ]
    },
    {
     "data": {
      "text/plain": [
       "'Precision: 0.786 Recall: 0.789 F1 score: 0.785'"
      ]
     },
     "execution_count": 35,
     "metadata": {},
     "output_type": "execute_result"
    }
   ],
   "source": [
    "P, R, F1 = scorer.score(list(test_dataset_qda[\"human_answer\"]), list(gigachat_pro_answers.apply(lambda x: '' if len(x) < 18 else x)))\n",
    "f\"Precision: {P.mean():.3f} Recall: {R.mean():.3f} F1 score: {F1.mean():.3f}\""
   ]
  },
  {
   "cell_type": "markdown",
   "id": "72012dbb",
   "metadata": {},
   "source": [
    "#### YandexGPT 3\n",
    "\n",
    "тут возник такой мем: `ai.textGenerationCompletionRequestsPerHour.rate rate quota limit exceed: allowed 100 requests`\n",
    "\n",
    "хаха, лан, пошёл гулять в магаз"
   ]
  },
  {
   "cell_type": "code",
   "execution_count": 46,
   "id": "45ce3adc",
   "metadata": {},
   "outputs": [
    {
     "data": {
      "text/plain": [
       "0    Согласно тексту, для перевода в ТюмГУ необходи...\n",
       "1    Обратитесь к заключению врачебной комиссии. Ес...\n",
       "2    В представленном тексте есть информация только...\n",
       "3    Для того чтобы получить отпуск по уходу за реб...\n",
       "4    Заявление о выходе из академического отпуска п...\n",
       "dtype: object"
      ]
     },
     "execution_count": 46,
     "metadata": {},
     "output_type": "execute_result"
    }
   ],
   "source": [
    "yagpt_answers = []\n",
    "for index, row in test_dataset_qda.iterrows():\n",
    "    yagpt_answers.append(get_answer(yagpt_chain, row['question'], row['document']))\n",
    "yagpt_answers = pd.Series(yagpt_answers)\n",
    "yagpt_answers.head(5)"
   ]
  },
  {
   "cell_type": "code",
   "execution_count": 68,
   "id": "d81d7961",
   "metadata": {},
   "outputs": [
    {
     "name": "stderr",
     "output_type": "stream",
     "text": [
      "Warning: Empty reference sentence detected; setting raw BERTScores to 0.\n"
     ]
    },
    {
     "data": {
      "text/plain": [
       "'Precision: 0.792 Recall: 0.794 F1 score: 0.790'"
      ]
     },
     "execution_count": 68,
     "metadata": {},
     "output_type": "execute_result"
    }
   ],
   "source": [
    "P, R, F1 = scorer.score(list(test_dataset_qda[\"human_answer\"]), list(yagpt_answers.apply(lambda x: '' if len(x) < 18 else x)))\n",
    "f\"Precision: {P.mean():.3f} Recall: {R.mean():.3f} F1 score: {F1.mean():.3f}\""
   ]
  },
  {
   "cell_type": "markdown",
   "id": "508f9a92",
   "metadata": {},
   "source": [
    "#### `OpenChat-3.5-0106`, `saiga_llama3_8b`"
   ]
  },
  {
   "cell_type": "code",
   "execution_count": 39,
   "id": "8d400469",
   "metadata": {},
   "outputs": [
    {
     "data": {
      "text/plain": [
       "0    Для восстановления магнитной карты необходимо ...\n",
       "1    \"Заявления на восстановление в Университет по ...\n",
       "2    \"Подать заявление на ее восстановление в Едино...\n",
       "3    Для успешной аттестации по дисциплине «Физичес...\n",
       "4    В течение 5 рабочих дней со дня издания приказ...\n",
       "dtype: object"
      ]
     },
     "execution_count": 39,
     "metadata": {},
     "output_type": "execute_result"
    }
   ],
   "source": [
    "openchat_answers = []\n",
    "for index, row in test_dataset_qda.iterrows():\n",
    "    openchat_answers.append(get_answer(openchat_chain, row['question'], row['document']))\n",
    "openchat_answers = pd.Series(openchat_answers)\n",
    "openchat_answers.head(5)"
   ]
  },
  {
   "cell_type": "code",
   "execution_count": 32,
   "id": "ca4d8b0f",
   "metadata": {},
   "outputs": [
    {
     "name": "stderr",
     "output_type": "stream",
     "text": [
      "Warning: Empty reference sentence detected; setting raw BERTScores to 0.\n",
      "Warning: Empty reference sentence detected; setting raw BERTScores to 0.\n"
     ]
    },
    {
     "data": {
      "text/plain": [
       "'Precision: 0.693 Recall: 0.755 F1 score: 0.720'"
      ]
     },
     "execution_count": 32,
     "metadata": {},
     "output_type": "execute_result"
    }
   ],
   "source": [
    "P, R, F1 = scorer.score(list(test_dataset_qda[\"human_answer\"]), list(openchat_answers.apply(lambda x: '' if len(x) < 18 else x)))\n",
    "f\"Precision: {P.mean():.3f} Recall: {R.mean():.3f} F1 score: {F1.mean():.3f}\""
   ]
  },
  {
   "cell_type": "code",
   "execution_count": 42,
   "id": "2a1880ad",
   "metadata": {},
   "outputs": [],
   "source": [
    "saved_test_dataset_qda = pd.read_csv(\"test_dataset_qda.csv\", index_col=0)\n",
    "saved_test_dataset_qda[\"saiga_llama3_8b\"] = openchat_answers\n",
    "saved_test_dataset_qda.to_csv(\"test_dataset_qda.csv\")"
   ]
  },
  {
   "cell_type": "markdown",
   "id": "35ca43f9",
   "metadata": {},
   "source": [
    "### 2. Тест всего пайплайна"
   ]
  },
  {
   "cell_type": "markdown",
   "id": "9af18ea7",
   "metadata": {},
   "source": [
    "#### GigaChat"
   ]
  },
  {
   "cell_type": "code",
   "execution_count": 21,
   "id": "5a6ae865",
   "metadata": {},
   "outputs": [
    {
     "data": {
      "text/plain": [
       "0    Обратитесь в Единый деканат для подачи заявлен...\n",
       "1                                      Ответ не найден\n",
       "2    Для восстановления проходки необходимо подать ...\n",
       "3                                     Ответ не найден.\n",
       "4                                     Ответ не найден.\n",
       "dtype: object"
      ]
     },
     "execution_count": 21,
     "metadata": {},
     "output_type": "execute_result"
    }
   ],
   "source": [
    "gigachat_answers = []\n",
    "for index, row in test_dataset_qda.iterrows():\n",
    "    gigachat_answers.append(get_answer(giga_chain, row['question']))\n",
    "gigachat_answers = pd.Series(gigachat_answers)\n",
    "gigachat_answers.head(5)"
   ]
  },
  {
   "cell_type": "code",
   "execution_count": 22,
   "id": "ea0085a1",
   "metadata": {},
   "outputs": [
    {
     "name": "stderr",
     "output_type": "stream",
     "text": [
      "Warning: Empty reference sentence detected; setting raw BERTScores to 0.\n",
      "Warning: Empty reference sentence detected; setting raw BERTScores to 0.\n"
     ]
    },
    {
     "data": {
      "text/plain": [
       "'Precision: 0.496 Recall: 0.541 F1 score: 0.516'"
      ]
     },
     "execution_count": 22,
     "metadata": {},
     "output_type": "execute_result"
    }
   ],
   "source": [
    "P, R, F1 = scorer.score(list(test_dataset_qda[\"human_answer\"]), list(gigachat_answers.apply(lambda x: '' if \"вет не найден\" in x else x)))\n",
    "f\"Precision: {P.mean():.3f} Recall: {R.mean():.3f} F1 score: {F1.mean():.3f}\""
   ]
  },
  {
   "cell_type": "markdown",
   "id": "2e911995",
   "metadata": {},
   "source": [
    "#### GigaChat Pro"
   ]
  },
  {
   "cell_type": "code",
   "execution_count": 31,
   "id": "cd7083e8",
   "metadata": {},
   "outputs": [
    {
     "data": {
      "text/plain": [
       "0    Для восстановления магнитной карты (пропуска, ...\n",
       "1    С 01 июня по 31 июля на осенний семестр и с 01...\n",
       "2    Если вы потеряли магнитную карту (пропуск, про...\n",
       "3    Для того чтобы заменить занятия по физкультуре...\n",
       "4    Согласно представленному тексту, студенческий ...\n",
       "dtype: object"
      ]
     },
     "execution_count": 31,
     "metadata": {},
     "output_type": "execute_result"
    }
   ],
   "source": [
    "gigachat_pro_answers = []\n",
    "for index, row in test_dataset_qda.iterrows():\n",
    "    gigachat_pro_answers.append(get_answer(giga_pro_chain, row['question']))\n",
    "gigachat_pro_answers = pd.Series(gigachat_pro_answers)\n",
    "gigachat_pro_answers.head(5)"
   ]
  },
  {
   "cell_type": "code",
   "execution_count": 32,
   "id": "23dfa3b0",
   "metadata": {},
   "outputs": [
    {
     "name": "stderr",
     "output_type": "stream",
     "text": [
      "Warning: Empty reference sentence detected; setting raw BERTScores to 0.\n"
     ]
    },
    {
     "data": {
      "text/plain": [
       "'Precision: 0.760 Recall: 0.772 F1 score: 0.764'"
      ]
     },
     "execution_count": 32,
     "metadata": {},
     "output_type": "execute_result"
    }
   ],
   "source": [
    "P, R, F1 = scorer.score(list(test_dataset_qda[\"human_answer\"]), list(gigachat_pro_answers.apply(lambda x: '' if \"вет не найден\" in x else x)))\n",
    "f\"Precision: {P.mean():.3f} Recall: {R.mean():.3f} F1 score: {F1.mean():.3f}\""
   ]
  },
  {
   "cell_type": "markdown",
   "id": "bdeca2ae",
   "metadata": {},
   "source": [
    "#### YandexGPT 3"
   ]
  },
  {
   "cell_type": "code",
   "execution_count": 30,
   "id": "b11b906c",
   "metadata": {},
   "outputs": [
    {
     "data": {
      "text/plain": [
       "0    Вам нужно подать заявление на восстановление м...\n",
       "1                                     Ответ не найден.\n",
       "2    Необходимо подать заявление на восстановление ...\n",
       "3    Для оформления посещения частного фитнес-клуба...\n",
       "4    В течение 5 рабочих дней со дня издания приказ...\n",
       "dtype: object"
      ]
     },
     "execution_count": 30,
     "metadata": {},
     "output_type": "execute_result"
    }
   ],
   "source": [
    "yagpt_answers = []\n",
    "for index, row in test_dataset_qda.iterrows():\n",
    "    yagpt_answers.append(get_answer(yagpt_chain, row['question']))\n",
    "yagpt_answers = pd.Series(yagpt_answers)\n",
    "yagpt_answers.head(5)"
   ]
  },
  {
   "cell_type": "code",
   "execution_count": 31,
   "id": "7230aaea",
   "metadata": {},
   "outputs": [
    {
     "name": "stderr",
     "output_type": "stream",
     "text": [
      "Warning: Empty reference sentence detected; setting raw BERTScores to 0.\n"
     ]
    },
    {
     "data": {
      "text/plain": [
       "'Precision: 0.678 Recall: 0.686 F1 score: 0.679'"
      ]
     },
     "execution_count": 31,
     "metadata": {},
     "output_type": "execute_result"
    }
   ],
   "source": [
    "P, R, F1 = scorer.score(list(test_dataset_qda[\"human_answer\"]), list(yagpt_answers.apply(lambda x: '' if \"вет не найден\" in x else x)))\n",
    "f\"Precision: {P.mean():.3f} Recall: {R.mean():.3f} F1 score: {F1.mean():.3f}\""
   ]
  },
  {
   "cell_type": "markdown",
   "id": "cb703ff8",
   "metadata": {},
   "source": [
    "#### `OpenChat-3.5-0106`, `saiga_llama3_8b`"
   ]
  },
  {
   "cell_type": "code",
   "execution_count": 21,
   "id": "6440dedc",
   "metadata": {},
   "outputs": [
    {
     "data": {
      "text/plain": [
       "0    К Единому деканату по адресу: ул. Семакова, д....\n",
       "1    Даты подачи заявления для восстановления на оч...\n",
       "2    При потере проходки необходимо подать заявлени...\n",
       "3    Для замены обязательных занятий по физической ...\n",
       "4    Ответ: Студенту, который переводится в другую ...\n",
       "dtype: object"
      ]
     },
     "execution_count": 21,
     "metadata": {},
     "output_type": "execute_result"
    }
   ],
   "source": [
    "openchat_answers = []\n",
    "for index, row in test_dataset_qda.iterrows():\n",
    "    openchat_answers.append(get_answer(openchat_chain, row['question']))\n",
    "openchat_answers = pd.Series(openchat_answers)\n",
    "openchat_answers.head(5)"
   ]
  },
  {
   "cell_type": "code",
   "execution_count": 22,
   "id": "e3d8c543",
   "metadata": {},
   "outputs": [
    {
     "name": "stderr",
     "output_type": "stream",
     "text": [
      "Warning: Empty reference sentence detected; setting raw BERTScores to 0.\n"
     ]
    },
    {
     "data": {
      "text/plain": [
       "'Precision: 0.704 Recall: 0.723 F1 score: 0.711'"
      ]
     },
     "execution_count": 22,
     "metadata": {},
     "output_type": "execute_result"
    }
   ],
   "source": [
    "P, R, F1 = scorer.score(list(test_dataset_qda[\"human_answer\"]), list(openchat_answers.apply(lambda x: '' if \"вет не найден\" in x else x)))\n",
    "f\"Precision: {P.mean():.3f} Recall: {R.mean():.3f} F1 score: {F1.mean():.3f}\""
   ]
  },
  {
   "cell_type": "markdown",
   "id": "f29b72dd",
   "metadata": {},
   "source": [
    "### 3. Тест нахождения ответа"
   ]
  },
  {
   "cell_type": "code",
   "execution_count": 36,
   "id": "306e6dcb",
   "metadata": {},
   "outputs": [
    {
     "data": {
      "text/html": [
       "<div>\n",
       "<style scoped>\n",
       "    .dataframe tbody tr th:only-of-type {\n",
       "        vertical-align: middle;\n",
       "    }\n",
       "\n",
       "    .dataframe tbody tr th {\n",
       "        vertical-align: top;\n",
       "    }\n",
       "\n",
       "    .dataframe thead th {\n",
       "        text-align: right;\n",
       "    }\n",
       "</style>\n",
       "<table border=\"1\" class=\"dataframe\">\n",
       "  <thead>\n",
       "    <tr style=\"text-align: right;\">\n",
       "      <th></th>\n",
       "      <th>question</th>\n",
       "      <th>document</th>\n",
       "      <th>label</th>\n",
       "    </tr>\n",
       "  </thead>\n",
       "  <tbody>\n",
       "    <tr>\n",
       "      <th>60</th>\n",
       "      <td>Какие факторы влияют на вовлеченность студенто...</td>\n",
       "      <td>Документ подписан простой электронной подписью...</td>\n",
       "      <td>0</td>\n",
       "    </tr>\n",
       "    <tr>\n",
       "      <th>47</th>\n",
       "      <td>Как студентам лучше всего искать и использоват...</td>\n",
       "      <td>Для оформления академической справки ( справки...</td>\n",
       "      <td>0</td>\n",
       "    </tr>\n",
       "    <tr>\n",
       "      <th>43</th>\n",
       "      <td>Какие существуют программы развития критическо...</td>\n",
       "      <td>Сопровождение специализированных образовательн...</td>\n",
       "      <td>0</td>\n",
       "    </tr>\n",
       "    <tr>\n",
       "      <th>3</th>\n",
       "      <td>Я хожу в фитнес-клуб. Как заменить физкультуру?</td>\n",
       "      <td>Выбор спортивных секций по Физической культуре...</td>\n",
       "      <td>1</td>\n",
       "    </tr>\n",
       "    <tr>\n",
       "      <th>54</th>\n",
       "      <td>Как студентам лучше всего управлять своими фин...</td>\n",
       "      <td>Сопровождение специализированных образовательн...</td>\n",
       "      <td>0</td>\n",
       "    </tr>\n",
       "  </tbody>\n",
       "</table>\n",
       "</div>"
      ],
      "text/plain": [
       "                                             question  \\\n",
       "60  Какие факторы влияют на вовлеченность студенто...   \n",
       "47  Как студентам лучше всего искать и использоват...   \n",
       "43  Какие существуют программы развития критическо...   \n",
       "3     Я хожу в фитнес-клуб. Как заменить физкультуру?   \n",
       "54  Как студентам лучше всего управлять своими фин...   \n",
       "\n",
       "                                             document  label  \n",
       "60  Документ подписан простой электронной подписью...      0  \n",
       "47  Для оформления академической справки ( справки...      0  \n",
       "43  Сопровождение специализированных образовательн...      0  \n",
       "3   Выбор спортивных секций по Физической культуре...      1  \n",
       "54  Сопровождение специализированных образовательн...      0  "
      ]
     },
     "execution_count": 36,
     "metadata": {},
     "output_type": "execute_result"
    }
   ],
   "source": [
    "# generated by CohereForAI/c4ai-command-r-plus\n",
    "random_questions = \"\"\"\n",
    "Какой процент студентов поступает в университет из другой страны?\n",
    "Какие факторы влияют на выбор студентами своего учебного заведения?\n",
    "Какие существуют методы повышения мотивации студентов во время обучения?\n",
    "Какие существуют методы борьбы с академическим плагиатом?\n",
    "Как развиваются онлайн-курсы и дистанционное обучение в современном университете?\n",
    "Какие существуют методы повышения академического Writing навыков у студентов?\n",
    "Как студентам лучше всего управлять своим временем для достижения академического успеха?\n",
    "Какие существуют методы повышения активности студентов на лекциях?\n",
    "Как преподаватели могут эффективно использовать технологии в обучении?\n",
    "Какие существуют программы развития критического мышления у студентов?\n",
    "Как студентам лучше всего готовиться к экзаменам?\n",
    "Какие факторы влияют на успеваемость студентов?\n",
    "Какие существуют методы предотвращения студенческого стресса и выгорания?\n",
    "Как студентам лучше всего искать и использовать академические источники для своих работ?\n",
    "Какие существуют программы обучения за рубежом и как они влияют на студентов?\n",
    "Какой процент студентов совмещает работу и учебу?\n",
    "Какие существуют методы повышения разнообразия и инклюзивности в студенческом сообществе?\n",
    "Какой процент студентов продолжает обучение в аспирантуре?\n",
    "Какие факторы влияют на выбор студентами своей специальности?\n",
    "Какие существуют методы повышения академического честности?\n",
    "Как студентам лучше всего управлять своими финансами во время обучения?\n",
    "Какие существуют программы поддержки психического здоровья студентов?\n",
    "Какие существуют методы эффективного обучения в группе?\n",
    "Как преподаватели могут адаптировать свое обучение для разных стилей обучения студентов?\n",
    "Какие существуют программы развития межкультурной компетентности?\n",
    "Как студентам лучше всего искать стажировки и возможности для развития карьеры?\n",
    "Какие факторы влияют на вовлеченность студентов в учебный процесс?\n",
    "Какие существуют методы повышения качества обучения в университете?\n",
    "Как преподаватели могут эффективно использовать активные методы обучения?\n",
    "Какие существуют программы поддержки студентов из малообеспеченных семей?\n",
    "Какие существуют методы предотвращения студенческого отсева?\n",
    "Как студентам лучше всего развивать свои soft skills?\"\"\".split(\"\\n\")\n",
    "random_questions = pd.Series(random_questions)\n",
    "random_questions = pd.DataFrame({\"question\": random_questions, \"document\": random_questions.apply(answer_sbert_312), \"label\": 0})\n",
    "actual_questions = pd.DataFrame({\"question\": test_dataset_qda[\"question\"].head(33), \"document\": test_dataset_qda[\"document\"].head(33), \"label\": 1})\n",
    "question_documents_label = pd.concat([actual_questions, random_questions], ignore_index=True)\n",
    "question_documents_label.sample(5)"
   ]
  },
  {
   "cell_type": "markdown",
   "id": "ddd076e7",
   "metadata": {},
   "source": [
    "#### GigaChat"
   ]
  },
  {
   "cell_type": "code",
   "execution_count": 58,
   "id": "ce216457",
   "metadata": {},
   "outputs": [
    {
     "name": "stderr",
     "output_type": "stream",
     "text": [
      "AUTHENTICATION ERROR\n",
      "Giga generation stopped with reason: blacklist\n",
      "Giga generation stopped with reason: blacklist\n"
     ]
    },
    {
     "data": {
      "text/html": [
       "<div>\n",
       "<style scoped>\n",
       "    .dataframe tbody tr th:only-of-type {\n",
       "        vertical-align: middle;\n",
       "    }\n",
       "\n",
       "    .dataframe tbody tr th {\n",
       "        vertical-align: top;\n",
       "    }\n",
       "\n",
       "    .dataframe thead th {\n",
       "        text-align: right;\n",
       "    }\n",
       "</style>\n",
       "<table border=\"1\" class=\"dataframe\">\n",
       "  <thead>\n",
       "    <tr style=\"text-align: right;\">\n",
       "      <th></th>\n",
       "      <th>question</th>\n",
       "      <th>document</th>\n",
       "      <th>label</th>\n",
       "      <th>gigachat</th>\n",
       "    </tr>\n",
       "  </thead>\n",
       "  <tbody>\n",
       "    <tr>\n",
       "      <th>39</th>\n",
       "      <td>Как студентам лучше всего управлять своим врем...</td>\n",
       "      <td>Для оформления академической справки ( справки...</td>\n",
       "      <td>0</td>\n",
       "      <td>0</td>\n",
       "    </tr>\n",
       "    <tr>\n",
       "      <th>17</th>\n",
       "      <td>Даты подачи заявления для восстановления на за...</td>\n",
       "      <td>Заявления на восстановление в ТюмГУ принимаютс...</td>\n",
       "      <td>1</td>\n",
       "      <td>0</td>\n",
       "    </tr>\n",
       "    <tr>\n",
       "      <th>37</th>\n",
       "      <td>Как развиваются онлайн-курсы и дистанционное о...</td>\n",
       "      <td>Студенты очной формы обучения оформляют справк...</td>\n",
       "      <td>0</td>\n",
       "      <td>0</td>\n",
       "    </tr>\n",
       "    <tr>\n",
       "      <th>46</th>\n",
       "      <td>Как студентам лучше всего искать и использоват...</td>\n",
       "      <td>Для оформления академической справки ( справки...</td>\n",
       "      <td>0</td>\n",
       "      <td>0</td>\n",
       "    </tr>\n",
       "    <tr>\n",
       "      <th>30</th>\n",
       "      <td>Могу ли я восстановиться на заочке?</td>\n",
       "      <td>Заявления на восстановление в ТюмГУ принимаютс...</td>\n",
       "      <td>1</td>\n",
       "      <td>1</td>\n",
       "    </tr>\n",
       "  </tbody>\n",
       "</table>\n",
       "</div>"
      ],
      "text/plain": [
       "                                             question  \\\n",
       "39  Как студентам лучше всего управлять своим врем...   \n",
       "17  Даты подачи заявления для восстановления на за...   \n",
       "37  Как развиваются онлайн-курсы и дистанционное о...   \n",
       "46  Как студентам лучше всего искать и использоват...   \n",
       "30                Могу ли я восстановиться на заочке?   \n",
       "\n",
       "                                             document  label  gigachat  \n",
       "39  Для оформления академической справки ( справки...      0         0  \n",
       "17  Заявления на восстановление в ТюмГУ принимаютс...      1         0  \n",
       "37  Студенты очной формы обучения оформляют справк...      0         0  \n",
       "46  Для оформления академической справки ( справки...      0         0  \n",
       "30  Заявления на восстановление в ТюмГУ принимаютс...      1         1  "
      ]
     },
     "execution_count": 58,
     "metadata": {},
     "output_type": "execute_result"
    }
   ],
   "source": [
    "gigachat_answers = []\n",
    "for index, row in question_documents_label.iterrows():\n",
    "    gigachat_answers.append(get_answer(giga_chain, row['question'], row['document']))\n",
    "gigachat_answers = pd.Series(gigachat_answers)\n",
    "question_documents_label[\"gigachat\"] = gigachat_answers.apply(lambda x: 0 if \"вет не найден\" in x else 1)\n",
    "question_documents_label.sample(5)"
   ]
  },
  {
   "cell_type": "code",
   "execution_count": 60,
   "id": "0243ee8a",
   "metadata": {},
   "outputs": [
    {
     "data": {
      "text/plain": [
       "(0.8336397058823529, 0.8333333333333334, 0.8332950631458095, None)"
      ]
     },
     "execution_count": 60,
     "metadata": {},
     "output_type": "execute_result"
    }
   ],
   "source": [
    "from sklearn.metrics import precision_recall_fscore_support\n",
    "precision_recall_fscore_support(question_documents_label.label, question_documents_label.gigachat, average='weighted')"
   ]
  },
  {
   "cell_type": "markdown",
   "id": "b63f14ae",
   "metadata": {},
   "source": [
    "#### GigaChat Pro"
   ]
  },
  {
   "cell_type": "code",
   "execution_count": 17,
   "id": "9ee52db3",
   "metadata": {},
   "outputs": [
    {
     "name": "stderr",
     "output_type": "stream",
     "text": [
      "Giga generation stopped with reason: blacklist\n",
      "Giga generation stopped with reason: blacklist\n"
     ]
    }
   ],
   "source": [
    "gigachat_pro_answers = []\n",
    "for index, row in question_documents_label[42:].iterrows():\n",
    "    gigachat_pro_answers.append(get_answer(giga_pro_chain, row['question'], row['document']))\n",
    "gigachat_pro_answers = pd.Series(gigachat_pro_answers)"
   ]
  },
  {
   "cell_type": "code",
   "execution_count": 23,
   "id": "5e0ef359",
   "metadata": {},
   "outputs": [
    {
     "data": {
      "text/html": [
       "<div>\n",
       "<style scoped>\n",
       "    .dataframe tbody tr th:only-of-type {\n",
       "        vertical-align: middle;\n",
       "    }\n",
       "\n",
       "    .dataframe tbody tr th {\n",
       "        vertical-align: top;\n",
       "    }\n",
       "\n",
       "    .dataframe thead th {\n",
       "        text-align: right;\n",
       "    }\n",
       "</style>\n",
       "<table border=\"1\" class=\"dataframe\">\n",
       "  <thead>\n",
       "    <tr style=\"text-align: right;\">\n",
       "      <th></th>\n",
       "      <th>question</th>\n",
       "      <th>document</th>\n",
       "      <th>label</th>\n",
       "      <th>gigachat_pro</th>\n",
       "    </tr>\n",
       "  </thead>\n",
       "  <tbody>\n",
       "    <tr>\n",
       "      <th>56</th>\n",
       "      <td>Какие существуют методы эффективного обучения ...</td>\n",
       "      <td>Сопровождение специализированных образовательн...</td>\n",
       "      <td>0</td>\n",
       "      <td>0</td>\n",
       "    </tr>\n",
       "    <tr>\n",
       "      <th>34</th>\n",
       "      <td>Какой процент студентов поступает в университе...</td>\n",
       "      <td>Документ подписан простой электронной подписью...</td>\n",
       "      <td>0</td>\n",
       "      <td>0</td>\n",
       "    </tr>\n",
       "    <tr>\n",
       "      <th>65</th>\n",
       "      <td>Как студентам лучше всего развивать свои soft ...</td>\n",
       "      <td>Сопровождение специализированных образовательн...</td>\n",
       "      <td>0</td>\n",
       "      <td>0</td>\n",
       "    </tr>\n",
       "    <tr>\n",
       "      <th>51</th>\n",
       "      <td>Какой процент студентов продолжает обучение в ...</td>\n",
       "      <td>Документ подписан простой электронной подписью...</td>\n",
       "      <td>0</td>\n",
       "      <td>0</td>\n",
       "    </tr>\n",
       "    <tr>\n",
       "      <th>27</th>\n",
       "      <td>Куда обращаться по поводу оплаты обучения?</td>\n",
       "      <td>По вопросам оплаты обучения, суммы задолженнос...</td>\n",
       "      <td>1</td>\n",
       "      <td>1</td>\n",
       "    </tr>\n",
       "  </tbody>\n",
       "</table>\n",
       "</div>"
      ],
      "text/plain": [
       "                                             question  \\\n",
       "56  Какие существуют методы эффективного обучения ...   \n",
       "34  Какой процент студентов поступает в университе...   \n",
       "65  Как студентам лучше всего развивать свои soft ...   \n",
       "51  Какой процент студентов продолжает обучение в ...   \n",
       "27         Куда обращаться по поводу оплаты обучения?   \n",
       "\n",
       "                                             document  label  gigachat_pro  \n",
       "56  Сопровождение специализированных образовательн...      0             0  \n",
       "34  Документ подписан простой электронной подписью...      0             0  \n",
       "65  Сопровождение специализированных образовательн...      0             0  \n",
       "51  Документ подписан простой электронной подписью...      0             0  \n",
       "27  По вопросам оплаты обучения, суммы задолженнос...      1             1  "
      ]
     },
     "execution_count": 23,
     "metadata": {},
     "output_type": "execute_result"
    }
   ],
   "source": [
    "question_documents_label[\"gigachat_pro\"] = gigachat_pro_answers.apply(lambda x: 0 if \"вет не найден\" in x else 1)\n",
    "question_documents_label.sample(5)"
   ]
  },
  {
   "cell_type": "code",
   "execution_count": 24,
   "id": "7c42bb5d",
   "metadata": {},
   "outputs": [
    {
     "data": {
      "text/plain": [
       "(0.8273809523809524, 0.803030303030303, 0.7992982456140351, None)"
      ]
     },
     "execution_count": 24,
     "metadata": {},
     "output_type": "execute_result"
    }
   ],
   "source": [
    "from sklearn.metrics import precision_recall_fscore_support\n",
    "precision_recall_fscore_support(question_documents_label.label, question_documents_label.gigachat_pro, average='weighted')"
   ]
  },
  {
   "cell_type": "markdown",
   "id": "ef3da7ad",
   "metadata": {},
   "source": [
    "#### YandexGPT 3"
   ]
  },
  {
   "cell_type": "code",
   "execution_count": 78,
   "id": "e325a5ed",
   "metadata": {},
   "outputs": [
    {
     "data": {
      "text/html": [
       "<div>\n",
       "<style scoped>\n",
       "    .dataframe tbody tr th:only-of-type {\n",
       "        vertical-align: middle;\n",
       "    }\n",
       "\n",
       "    .dataframe tbody tr th {\n",
       "        vertical-align: top;\n",
       "    }\n",
       "\n",
       "    .dataframe thead th {\n",
       "        text-align: right;\n",
       "    }\n",
       "</style>\n",
       "<table border=\"1\" class=\"dataframe\">\n",
       "  <thead>\n",
       "    <tr style=\"text-align: right;\">\n",
       "      <th></th>\n",
       "      <th>question</th>\n",
       "      <th>document</th>\n",
       "      <th>label</th>\n",
       "      <th>yagpt</th>\n",
       "    </tr>\n",
       "  </thead>\n",
       "  <tbody>\n",
       "    <tr>\n",
       "      <th>57</th>\n",
       "      <td>Какие существуют программы развития межкультур...</td>\n",
       "      <td>Документ подписан простой электронной подписью...</td>\n",
       "      <td>0</td>\n",
       "      <td>1</td>\n",
       "    </tr>\n",
       "    <tr>\n",
       "      <th>0</th>\n",
       "      <td>Я потерял магнитную карту. К кому обратиться?</td>\n",
       "      <td>Для восстановления студенческого билета Вам не...</td>\n",
       "      <td>1</td>\n",
       "      <td>1</td>\n",
       "    </tr>\n",
       "    <tr>\n",
       "      <th>26</th>\n",
       "      <td>Где получить информацию о справке в военкомат?</td>\n",
       "      <td>Вам необходимо обратиться в Отдел мобилизацион...</td>\n",
       "      <td>1</td>\n",
       "      <td>1</td>\n",
       "    </tr>\n",
       "    <tr>\n",
       "      <th>14</th>\n",
       "      <td>Какие доки нужны для перевода в ТюмГУ из друго...</td>\n",
       "      <td>Пакет документов для подачи заявления на перев...</td>\n",
       "      <td>1</td>\n",
       "      <td>1</td>\n",
       "    </tr>\n",
       "    <tr>\n",
       "      <th>38</th>\n",
       "      <td>Какие существуют методы повышения академическо...</td>\n",
       "      <td>Сопровождение специализированных образовательн...</td>\n",
       "      <td>0</td>\n",
       "      <td>1</td>\n",
       "    </tr>\n",
       "  </tbody>\n",
       "</table>\n",
       "</div>"
      ],
      "text/plain": [
       "                                             question  \\\n",
       "57  Какие существуют программы развития межкультур...   \n",
       "0       Я потерял магнитную карту. К кому обратиться?   \n",
       "26     Где получить информацию о справке в военкомат?   \n",
       "14  Какие доки нужны для перевода в ТюмГУ из друго...   \n",
       "38  Какие существуют методы повышения академическо...   \n",
       "\n",
       "                                             document  label  yagpt  \n",
       "57  Документ подписан простой электронной подписью...      0      1  \n",
       "0   Для восстановления студенческого билета Вам не...      1      1  \n",
       "26  Вам необходимо обратиться в Отдел мобилизацион...      1      1  \n",
       "14  Пакет документов для подачи заявления на перев...      1      1  \n",
       "38  Сопровождение специализированных образовательн...      0      1  "
      ]
     },
     "execution_count": 78,
     "metadata": {},
     "output_type": "execute_result"
    }
   ],
   "source": [
    "yagpt_answers = []\n",
    "for index, row in question_documents_label.iterrows():\n",
    "    yagpt_answers.append(get_answer(yagpt_chain, row['question'], row['document']))\n",
    "yagpt_answers = pd.Series(yagpt_answers)\n",
    "question_documents_label[\"yagpt\"] = yagpt_answers.apply(lambda x: 0 if \"не найден\" in x else 1)\n",
    "question_documents_label.sample(5)"
   ]
  },
  {
   "cell_type": "code",
   "execution_count": 82,
   "id": "b67f51df",
   "metadata": {},
   "outputs": [
    {
     "data": {
      "text/plain": [
       "(0.4678362573099415, 0.48484848484848486, 0.40634920634920635, None)"
      ]
     },
     "execution_count": 82,
     "metadata": {},
     "output_type": "execute_result"
    }
   ],
   "source": [
    "from sklearn.metrics import precision_recall_fscore_support\n",
    "precision_recall_fscore_support(question_documents_label.label, question_documents_label.yagpt, average='weighted')"
   ]
  },
  {
   "cell_type": "markdown",
   "id": "7e828d55",
   "metadata": {},
   "source": [
    "#### `OpenChat-3.5-0106`, `saiga_llama3_8b`"
   ]
  },
  {
   "cell_type": "code",
   "execution_count": 37,
   "id": "af7c0aa8",
   "metadata": {},
   "outputs": [
    {
     "data": {
      "text/html": [
       "<div>\n",
       "<style scoped>\n",
       "    .dataframe tbody tr th:only-of-type {\n",
       "        vertical-align: middle;\n",
       "    }\n",
       "\n",
       "    .dataframe tbody tr th {\n",
       "        vertical-align: top;\n",
       "    }\n",
       "\n",
       "    .dataframe thead th {\n",
       "        text-align: right;\n",
       "    }\n",
       "</style>\n",
       "<table border=\"1\" class=\"dataframe\">\n",
       "  <thead>\n",
       "    <tr style=\"text-align: right;\">\n",
       "      <th></th>\n",
       "      <th>question</th>\n",
       "      <th>document</th>\n",
       "      <th>label</th>\n",
       "      <th>openchat</th>\n",
       "    </tr>\n",
       "  </thead>\n",
       "  <tbody>\n",
       "    <tr>\n",
       "      <th>2</th>\n",
       "      <td>Что делать при потере проходки?</td>\n",
       "      <td>Для восстановления студенческого билета Вам не...</td>\n",
       "      <td>1</td>\n",
       "      <td>1</td>\n",
       "    </tr>\n",
       "    <tr>\n",
       "      <th>1</th>\n",
       "      <td>Даты подачи заявления для восстановления на очку</td>\n",
       "      <td>Заявления на восстановление в Университет по о...</td>\n",
       "      <td>1</td>\n",
       "      <td>1</td>\n",
       "    </tr>\n",
       "    <tr>\n",
       "      <th>14</th>\n",
       "      <td>Какие доки нужны для перевода в ТюмГУ из друго...</td>\n",
       "      <td>Пакет документов для подачи заявления на перев...</td>\n",
       "      <td>1</td>\n",
       "      <td>1</td>\n",
       "    </tr>\n",
       "    <tr>\n",
       "      <th>38</th>\n",
       "      <td>Как развиваются онлайн-курсы и дистанционное о...</td>\n",
       "      <td>Студенты очной формы обучения оформляют справк...</td>\n",
       "      <td>0</td>\n",
       "      <td>0</td>\n",
       "    </tr>\n",
       "    <tr>\n",
       "      <th>29</th>\n",
       "      <td>Как повторно защитить диплом?</td>\n",
       "      <td>Повторно пройти государственную итоговую аттес...</td>\n",
       "      <td>1</td>\n",
       "      <td>0</td>\n",
       "    </tr>\n",
       "  </tbody>\n",
       "</table>\n",
       "</div>"
      ],
      "text/plain": [
       "                                             question  \\\n",
       "2                     Что делать при потере проходки?   \n",
       "1    Даты подачи заявления для восстановления на очку   \n",
       "14  Какие доки нужны для перевода в ТюмГУ из друго...   \n",
       "38  Как развиваются онлайн-курсы и дистанционное о...   \n",
       "29                      Как повторно защитить диплом?   \n",
       "\n",
       "                                             document  label  openchat  \n",
       "2   Для восстановления студенческого билета Вам не...      1         1  \n",
       "1   Заявления на восстановление в Университет по о...      1         1  \n",
       "14  Пакет документов для подачи заявления на перев...      1         1  \n",
       "38  Студенты очной формы обучения оформляют справк...      0         0  \n",
       "29  Повторно пройти государственную итоговую аттес...      1         0  "
      ]
     },
     "execution_count": 37,
     "metadata": {},
     "output_type": "execute_result"
    }
   ],
   "source": [
    "openchat_answers = []\n",
    "for index, row in question_documents_label.iterrows():\n",
    "    openchat_answers.append(get_answer(openchat_chain, row['question'], row['document']))\n",
    "openchat_answers = pd.Series(openchat_answers)\n",
    "question_documents_label[\"openchat\"] = openchat_answers.apply(lambda x: 0 if \"не найден\" in x else 1)\n",
    "question_documents_label.sample(5)"
   ]
  },
  {
   "cell_type": "code",
   "execution_count": 38,
   "id": "2cf4e95c",
   "metadata": {},
   "outputs": [
    {
     "data": {
      "text/plain": [
       "(0.7727272727272727, 0.7424242424242424, 0.7350649350649352, None)"
      ]
     },
     "execution_count": 38,
     "metadata": {},
     "output_type": "execute_result"
    }
   ],
   "source": [
    "from sklearn.metrics import precision_recall_fscore_support\n",
    "precision_recall_fscore_support(question_documents_label.label, question_documents_label.openchat, average='weighted')"
   ]
  }
 ],
 "metadata": {
  "kernelspec": {
   "display_name": "Python 3 (ipykernel)",
   "language": "python",
   "name": "python3"
  },
  "language_info": {
   "codemirror_mode": {
    "name": "ipython",
    "version": 3
   },
   "file_extension": ".py",
   "mimetype": "text/x-python",
   "name": "python",
   "nbconvert_exporter": "python",
   "pygments_lexer": "ipython3",
   "version": "3.12.3"
  }
 },
 "nbformat": 4,
 "nbformat_minor": 5
}
